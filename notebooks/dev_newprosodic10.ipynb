{
 "cells": [
  {
   "cell_type": "code",
   "execution_count": 1,
   "metadata": {},
   "outputs": [],
   "source": [
    "# !rm -rf /Users/ryan/prosodic_data/data/english_wordtypes\n",
    "import sys; sys.path.insert(0,'..')\n",
    "from prosodic.imports import *\n",
    "from IPython.display import HTML"
   ]
  },
  {
   "cell_type": "code",
   "execution_count": 18,
   "metadata": {},
   "outputs": [],
   "source": [
    "def html(self, viols=True, between_words=' ',between_sylls='',line_id='ID'):\n",
    "    last_word = None\n",
    "    output=[]\n",
    "    line_num=0 if self.line is None else self.line.num\n",
    "    for pos in self.positions:\n",
    "        violated=bool(pos.violset)\n",
    "        if viols and violated:\n",
    "            viol_str=' '.join(pos.violset)\n",
    "            viol_title = 'Violated %s constraints: %s' % (len(pos.violset), viol_str)\n",
    "            output.append(f'<span class=\"violation\" title=\"{viol_title}\" id=\"viol__line_{line_num}\">')\n",
    "\n",
    "        for slot in pos.slots:\n",
    "            spclass='meter_' + ('strong' if pos.is_prom else 'weak')\n",
    "            stclass='stress_' + ('strong' if slot.unit.is_stressed else 'weak')\n",
    "            slotstr=f'<span class=\"{spclass} {stclass}\">{slot.unit.txt}</span>'\n",
    "            if last_word and last_word is not slot.unit.wordtoken:\n",
    "                output.append(between_words)\n",
    "            output.append(slotstr)\n",
    "            last_word  = slot.unit.wordtoken\n",
    "\n",
    "\n",
    "        if viols and violated:\n",
    "            output.append(f'</span><script type=\"text/javascript\">tippy(\"#viol__line_{line_num}\")</script>')\n",
    "        if pos.is_prom and self.is_rising: output.append('|')\n",
    "        elif not pos.is_prom and not self.is_rising: output.append('|')\n",
    "    if output and output[-1]=='|': output.pop()\n",
    "    return ''.join(output)"
   ]
  },
  {
   "cell_type": "code",
   "execution_count": 19,
   "metadata": {},
   "outputs": [],
   "source": [
    "line=Line('hello world')"
   ]
  },
  {
   "cell_type": "code",
   "execution_count": 20,
   "metadata": {},
   "outputs": [],
   "source": [
    "Parse.html = html"
   ]
  },
  {
   "cell_type": "code",
   "execution_count": 21,
   "metadata": {},
   "outputs": [
    {
     "name": "stderr",
     "output_type": "stream",
     "text": [
      "\u001b[32m2023-10-09 08:32:30.417\u001b[0m | \u001b[36mset_meter\u001b[0m | \u001b[34m\u001b[1mSet meter to: Meter(constraints=('w_peak', 'w_stress', 's_unstress', 'unres_across', 'unres_within'), categorical_constraints=(), max_s=2, max_w=2, resolve_optionality=True)\u001b[0m | \u001b[36mtexts.py\u001b[0m:\u001b[36m52\u001b[0m\n"
     ]
    },
    {
     "data": {
      "text/html": [
       "<span class=\"violation\" title=\"Violated 1 constraints: s_unstress\" id=\"viol__line_None\"><span class=\"meter_strong stress_weak\">my</span></span><script type=\"text/javascript\">tippy(\"#viol__line_None\")</script>| <span class=\"meter_weak stress_weak\">di</span><span class=\"violation\" title=\"Violated 1 constraints: s_unstress\" id=\"viol__line_None\"><span class=\"meter_strong stress_strong\">sas</span><span class=\"meter_strong stress_weak\">ter</span></span><script type=\"text/javascript\">tippy(\"#viol__line_None\")</script>| <span class=\"meter_weak stress_weak\">my</span> <span class=\"meter_strong stress_strong\">horse</span>"
      ],
      "text/plain": [
       "<IPython.core.display.HTML object>"
      ]
     },
     "execution_count": 21,
     "metadata": {},
     "output_type": "execute_result"
    }
   ],
   "source": [
    "HTML(Line('my disaster, my horse').best_parse.html())"
   ]
  },
  {
   "cell_type": "code",
   "execution_count": null,
   "metadata": {},
   "outputs": [],
   "source": []
  }
 ],
 "metadata": {
  "kernelspec": {
   "display_name": "venv",
   "language": "python",
   "name": "python3"
  },
  "language_info": {
   "codemirror_mode": {
    "name": "ipython",
    "version": 3
   },
   "file_extension": ".py",
   "mimetype": "text/x-python",
   "name": "python",
   "nbconvert_exporter": "python",
   "pygments_lexer": "ipython3",
   "version": "3.11.0rc2"
  },
  "orig_nbformat": 4
 },
 "nbformat": 4,
 "nbformat_minor": 2
}
