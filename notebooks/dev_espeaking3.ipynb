{
 "cells": [
  {
   "cell_type": "code",
   "execution_count": 1,
   "metadata": {},
   "outputs": [],
   "source": [
    "!rm -rf /Users/ryan/prosodic_data/data/english_wordforms.sqlitedict\n",
    "import sys; sys.path.insert(0,'..')\n",
    "from prosodic.imports import *\n"
   ]
  },
  {
   "cell_type": "code",
   "execution_count": 2,
   "metadata": {},
   "outputs": [
    {
     "data": {
      "text/plain": [
       "[(PhonemeClass: v) [phon_approx=False phon_cons=True phon_son=False phon_syll=False phon_constr=False phon_spread=False phon_voice=True phon_long=None phon_cont_acoust=True phon_cont_artic=True phon_delrel=False phon_lat=False phon_nas=False phon_strid=False phon_tap=False phon_trill=False phon_coronal=False phon_dorsal=False phon_labial=True phon_labiodental=True phon_ant=True phon_dist=False phon_back=False phon_front=None phon_high=False phon_low=False phon_tense=None phon_round=False],\n",
       " (PhonemeClass: ɛː) [phon_approx=None phon_cons=False phon_son=True phon_syll=True phon_constr=None phon_spread=None phon_voice=None phon_long=True phon_cont_acoust=None phon_cont_artic=None phon_delrel=None phon_lat=None phon_nas=False phon_strid=None phon_tap=None phon_trill=None phon_coronal=None phon_dorsal=None phon_labial=None phon_labiodental=None phon_ant=None phon_dist=None phon_back=False phon_front=True phon_high=False phon_low=False phon_tense=False phon_round=False]]"
      ]
     },
     "execution_count": 2,
     "metadata": {},
     "output_type": "execute_result"
    }
   ],
   "source": [
    "English().get('virtue')[0].children[0].children"
   ]
  },
  {
   "cell_type": "code",
   "execution_count": null,
   "metadata": {},
   "outputs": [],
   "source": []
  }
 ],
 "metadata": {
  "kernelspec": {
   "display_name": "venv",
   "language": "python",
   "name": "python3"
  },
  "language_info": {
   "codemirror_mode": {
    "name": "ipython",
    "version": 3
   },
   "file_extension": ".py",
   "mimetype": "text/x-python",
   "name": "python",
   "nbconvert_exporter": "python",
   "pygments_lexer": "ipython3",
   "version": "3.11.0rc2"
  },
  "orig_nbformat": 4
 },
 "nbformat": 4,
 "nbformat_minor": 2
}
