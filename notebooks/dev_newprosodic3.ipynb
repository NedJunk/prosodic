{
 "cells": [
  {
   "cell_type": "code",
   "execution_count": 1,
   "metadata": {},
   "outputs": [],
   "source": [
    "# !rm -rf /Users/ryan/prosodic_data/data/english_wordforms.sqlitedict\n",
    "# !pip install -qU pip wheel\n",
    "# !pip install -qU -r ../requirements.txt\n",
    "import sys; sys.path.insert(0,'..')\n",
    "from prosodic.imports import *"
   ]
  },
  {
   "cell_type": "code",
   "execution_count": 2,
   "metadata": {},
   "outputs": [],
   "source": [
    "x=\"\"\"\n",
    "Those hours, that with gentle work did frame\n",
    "The lovely gaze where every eye doth dwell,\n",
    "Will play the tyrants to the very same\n",
    "And that unfair which fairly doth excel;\n",
    "For never-resting time leads summer on\n",
    "To hideous winter, and confounds him there;\n",
    "Sap checked with frost, and lusty leaves quite gone,\n",
    "Beauty o’er-snowed and bareness every where:\n",
    "Then were not summer’s distillation left,\n",
    "A liquid prisoner pent in walls of glass,\n",
    "Beauty’s effect with beauty were bereft,\n",
    "Nor it, nor no remembrance what it was:\n",
    "But flowers distill’d, though they with winter meet,\n",
    "Leese but their show; their substance still lives sweet.\n",
    "\"\"\""
   ]
  },
  {
   "cell_type": "code",
   "execution_count": 3,
   "metadata": {},
   "outputs": [
    {
     "data": {
      "text/plain": [
       "(Line: Those hours, that with gentle work did frame) [sent_i=1 sentpart_i=1 stanza_i=1 line_i=2]"
      ]
     },
     "execution_count": 3,
     "metadata": {},
     "output_type": "execute_result"
    }
   ],
   "source": [
    "# %%timeit\n",
    "t=Text(x)\n",
    "l = t.lines[0]\n",
    "# parses = l.parse(max_s=None, max_w=None)\n",
    "l"
   ]
  },
  {
   "cell_type": "code",
   "execution_count": 4,
   "metadata": {},
   "outputs": [
    {
     "name": "stderr",
     "output_type": "stream",
     "text": [
      "Applying constraints: 100%|██████████| 2304/2304 [00:00<00:00, 16987.05it/s]\n"
     ]
    },
    {
     "data": {
      "text/plain": [
       "(Parse: those|HO|urs|THAT|with|GEN|tle|WORK|did|FRAME) [rank=1 meter=-+-+-+-+-+ stress=++-+-+-+-+ score=1 w_stress=1]"
      ]
     },
     "execution_count": 4,
     "metadata": {},
     "output_type": "execute_result"
    }
   ],
   "source": [
    "l.parse()"
   ]
  },
  {
   "cell_type": "code",
   "execution_count": 5,
   "metadata": {},
   "outputs": [],
   "source": [
    "# t.parse(num_proc=1, max_s=None, max_w=None)"
   ]
  },
  {
   "cell_type": "code",
   "execution_count": 6,
   "metadata": {},
   "outputs": [
    {
     "name": "stderr",
     "output_type": "stream",
     "text": [
      "Parsing lines: 100%|██████████| 14/14 [00:05<00:00,  2.45it/s]"
     ]
    },
    {
     "name": "stdout",
     "output_type": "stream",
     "text": [
      "parse        those|HO|urs|THAT|with|GEN|tle|WORK|did|FRAME the|LO|vely|GAZE|where|E|very|EYE|doth|DWELL will|PLAY|the|TY|rants|TO|the|VE|ry|SAME  \\\n",
      "rank                                                     1                                            1                                        1   \n",
      "meter                                           -+-+-+-+-+                                   -+-+-+-+-+                               -+-+-+-+-+   \n",
      "stress                                          ++-+-+-+-+                                   -+-+++-+-+                               -+-+-+-+-+   \n",
      "score                                                    1                                            1                                        0   \n",
      "w_stress                                                 1                                            1                                        0   \n",
      "s_unstress                                               0                                            0                                        0   \n",
      "unres_within                                             0                                            0                                        0   \n",
      "unres_across                                             0                                            0                                        0   \n",
      "w_peak                                                   0                                            0                                        0   \n",
      "\n",
      "parse        and|THAT|un|FAIR|which|FAIR|ly|DOTH|ex|CEL for|NE|ver|RES|ting|TIME|leads|SUM|mer|ON to|HI|deo.us|WIN|ter|AND|con|FOUNDS|him|THERE  \\\n",
      "rank                                                  1                                         1                                             1   \n",
      "meter                                        -+-+-+-+-+                                -+-+-+-+-+                                   -+--+-+-+-+   \n",
      "stress                                       -+-+++---+                                -+-+-+++-+                                   -+--+-+-+-+   \n",
      "score                                                 2                                         1                                             1   \n",
      "w_stress                                              1                                         1                                             0   \n",
      "s_unstress                                            1                                         0                                             0   \n",
      "unres_within                                          0                                         0                                             1   \n",
      "unres_across                                          0                                         0                                             0   \n",
      "w_peak                                                0                                         0                                             0   \n",
      "\n",
      "parse        sap|CHECKED|with|FROST|and|LUS|ty|LEAVES|quite|GONE BEA|uty.o'er|SNOWED|and|BA|reness|E|very|WHERE  \\\n",
      "rank                                                          1                                               1   \n",
      "meter                                                -+-+-+-+-+                                      +--+-+-+-+   \n",
      "stress                                               ++-+-+-+++                                      +--+-+-+-+   \n",
      "score                                                         2                                               2   \n",
      "w_stress                                                      2                                               0   \n",
      "s_unstress                                                    0                                               0   \n",
      "unres_within                                                  0                                               0   \n",
      "unres_across                                                  0                                               2   \n",
      "w_peak                                                        0                                               0   \n",
      "\n",
      "parse        then|WERE|not|SUM|mer's|DIS|til|LA|tion|LEFT a|LI|quid|PRI|soner|PENT|in|WALLS|of|GLASS BEA|uty's|EF.FECT|with|BEA|uty|WERE|be|REFT  \\\n",
      "rank                                                    1                                          1                                           1   \n",
      "meter                                          -+-+-+-+-+                                 -+-+-+-+-+                                  +-++-+-+-+   \n",
      "stress                                         ++++-+-+-+                                 -+-+-+-+-+                                  +--+-+-+-+   \n",
      "score                                                   2                                          0                                           2   \n",
      "w_stress                                                2                                          0                                           0   \n",
      "s_unstress                                              0                                          0                                           1   \n",
      "unres_within                                            0                                          0                                           1   \n",
      "unres_across                                            0                                          0                                           0   \n",
      "w_peak                                                  0                                          0                                           0   \n",
      "\n",
      "parse        nor|IT|nor|NO|re|MEM|brance|WHAT|it|WAS BUT|flo|WERS|dis|TILL'D|though|THEY|with|WIN|ter|MEET  \\\n",
      "rank                                               1                                                  1      \n",
      "meter                                     -+-+-+-+-+                                        +-+-+-+-+-+      \n",
      "stress                                    ++++-+-+-+                                        ++--+++-+-+      \n",
      "score                                              2                                                  4      \n",
      "w_stress                                           2                                                  2      \n",
      "s_unstress                                         0                                                  1      \n",
      "unres_within                                       0                                                  0      \n",
      "unres_across                                       0                                                  0      \n",
      "w_peak                                             0                                                  1      \n",
      "\n",
      "parse        leese|BUT|their|SHOW|their|SUBS|tance|STILL|lives|SWEET  \n",
      "rank                                                          1       \n",
      "meter                                                -+-+-+-+-+       \n",
      "stress                                               ++++++-+++       \n",
      "score                                                         4       \n",
      "w_stress                                                      4       \n",
      "s_unstress                                                    0       \n",
      "unres_within                                                  0       \n",
      "unres_across                                                  0       \n",
      "w_peak                                                        0       \n"
     ]
    },
    {
     "name": "stderr",
     "output_type": "stream",
     "text": [
      "\n"
     ]
    }
   ],
   "source": [
    "# print(t.parse(num_proc=1).df.T)"
   ]
  },
  {
   "cell_type": "code",
   "execution_count": null,
   "metadata": {},
   "outputs": [],
   "source": []
  }
 ],
 "metadata": {
  "kernelspec": {
   "display_name": "venv",
   "language": "python",
   "name": "python3"
  },
  "language_info": {
   "codemirror_mode": {
    "name": "ipython",
    "version": 3
   },
   "file_extension": ".py",
   "mimetype": "text/x-python",
   "name": "python",
   "nbconvert_exporter": "python",
   "pygments_lexer": "ipython3",
   "version": "3.11.0rc2"
  },
  "orig_nbformat": 4
 },
 "nbformat": 4,
 "nbformat_minor": 2
}
