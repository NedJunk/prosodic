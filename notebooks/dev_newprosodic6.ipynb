{
 "cells": [
  {
   "cell_type": "code",
   "execution_count": 1,
   "metadata": {},
   "outputs": [],
   "source": [
    "!rm -rf /Users/ryan/prosodic_data/data/english_wordforms.sqlitedict\n",
    "import sys; sys.path.insert(0,'..')\n",
    "from prosodic.imports import *"
   ]
  },
  {
   "cell_type": "code",
   "execution_count": 3,
   "metadata": {},
   "outputs": [
    {
     "name": "stderr",
     "output_type": "stream",
     "text": [
      "Bounding parses: 100%|██████████| 178/178 [00:00<00:00, 1028355.53it/s]\n",
      "Bounding parses: 100%|██████████| 178/178 [00:00<00:00, 1561895.63it/s]\n",
      "Bounding parses: 100%|██████████| 466/466 [00:00<00:00, 614830.34it/s]\n",
      "Bounding parses: 100%|██████████| 466/466 [00:00<00:00, 641886.92it/s]\n"
     ]
    }
   ],
   "source": [
    "def test_parsing():\n",
    "    # iambic test\n",
    "    tstr = 'embrace ' * 5\n",
    "    l = Line(tstr)\n",
    "    assert l.num_parses == 1\n",
    "    assert l.best_parse.is_rising == True\n",
    "    assert l.best_parse.nary_feet == 2\n",
    "\n",
    "    # trochaic test\n",
    "    tstr = 'dungeon ' * 5\n",
    "    l = Line(tstr)\n",
    "    assert l.num_parses == 1\n",
    "    assert l.best_parse.is_rising == False\n",
    "    assert l.best_parse.nary_feet == 2\n",
    "\n",
    "    # anapestic\n",
    "    tstr = 'disembark ' * 4\n",
    "    l = Line(tstr)\n",
    "    assert l.best_parse.is_rising == True\n",
    "    assert l.best_parse.nary_feet == 3\n",
    "\n",
    "    # dactylic test\n",
    "    tstr = 'dangerous ' * 4\n",
    "    l = Line(tstr)\n",
    "    assert l.best_parse.is_rising == False\n",
    "    assert l.best_parse.nary_feet == 3\n",
    "    \n",
    "test_parsing()"
   ]
  },
  {
   "cell_type": "code",
   "execution_count": null,
   "metadata": {},
   "outputs": [
    {
     "name": "stderr",
     "output_type": "stream",
     "text": [
      "Bounding parses: 100%|██████████| 110/110 [00:00<00:00, 691714.30it/s]\n"
     ]
    },
    {
     "data": {
      "text/plain": [
       "(Parse(parse='di.sem BARK di.sem BARK di.sem BARK', rank=1, meter='--+--+--+', stress='--+--+--+', score=3, unres_within=3),\n",
       " 6,\n",
       " True,\n",
       " 3)"
      ]
     },
     "execution_count": 3,
     "metadata": {},
     "output_type": "execute_result"
    }
   ],
   "source": [
    "w='embrace '\n",
    "tstr = w * 3\n",
    "l = Line(tstr)\n",
    "bp = l.best_parse\n",
    "bp, l.num_parses, bp.is_rising, bp.nary_feet"
   ]
  },
  {
   "cell_type": "code",
   "execution_count": null,
   "metadata": {},
   "outputs": [
    {
     "data": {
      "text/html": [
       "<div>\n",
       "<style scoped>\n",
       "    .dataframe tbody tr th:only-of-type {\n",
       "        vertical-align: middle;\n",
       "    }\n",
       "\n",
       "    .dataframe tbody tr th {\n",
       "        vertical-align: top;\n",
       "    }\n",
       "\n",
       "    .dataframe thead th {\n",
       "        text-align: right;\n",
       "    }\n",
       "</style>\n",
       "<table border=\"1\" class=\"dataframe\">\n",
       "  <thead>\n",
       "    <tr style=\"text-align: right;\">\n",
       "      <th></th>\n",
       "      <th>rank</th>\n",
       "      <th>meter</th>\n",
       "      <th>stress</th>\n",
       "      <th>score</th>\n",
       "      <th>unres_within</th>\n",
       "      <th>s_unstress</th>\n",
       "      <th>w_peak</th>\n",
       "      <th>w_stress</th>\n",
       "    </tr>\n",
       "    <tr>\n",
       "      <th>parse</th>\n",
       "      <th></th>\n",
       "      <th></th>\n",
       "      <th></th>\n",
       "      <th></th>\n",
       "      <th></th>\n",
       "      <th></th>\n",
       "      <th></th>\n",
       "      <th></th>\n",
       "    </tr>\n",
       "  </thead>\n",
       "  <tbody>\n",
       "    <tr>\n",
       "      <th>di.sem BARK di.sem BARK di.sem BARK</th>\n",
       "      <td>1</td>\n",
       "      <td>--+--+--+</td>\n",
       "      <td>--+--+--+</td>\n",
       "      <td>3</td>\n",
       "      <td>3</td>\n",
       "      <td>0</td>\n",
       "      <td>0</td>\n",
       "      <td>0</td>\n",
       "    </tr>\n",
       "    <tr>\n",
       "      <th>DI sem BARK di.sem BARK di.sem BARK</th>\n",
       "      <td>2</td>\n",
       "      <td>+-+--+--+</td>\n",
       "      <td>--+--+--+</td>\n",
       "      <td>3</td>\n",
       "      <td>2</td>\n",
       "      <td>1</td>\n",
       "      <td>0</td>\n",
       "      <td>0</td>\n",
       "    </tr>\n",
       "    <tr>\n",
       "      <th>di SEM bark DI sem BARK di.sem BARK</th>\n",
       "      <td>3</td>\n",
       "      <td>-+-+-+--+</td>\n",
       "      <td>--+--+--+</td>\n",
       "      <td>5</td>\n",
       "      <td>1</td>\n",
       "      <td>2</td>\n",
       "      <td>1</td>\n",
       "      <td>1</td>\n",
       "    </tr>\n",
       "    <tr>\n",
       "      <th>di.sem BARK di SEM bark DI sem BARK</th>\n",
       "      <td>4</td>\n",
       "      <td>--+-+-+-+</td>\n",
       "      <td>--+--+--+</td>\n",
       "      <td>5</td>\n",
       "      <td>1</td>\n",
       "      <td>2</td>\n",
       "      <td>1</td>\n",
       "      <td>1</td>\n",
       "    </tr>\n",
       "    <tr>\n",
       "      <th>DI sem BARK di SEM bark DI sem BARK</th>\n",
       "      <td>5</td>\n",
       "      <td>+-+-+-+-+</td>\n",
       "      <td>--+--+--+</td>\n",
       "      <td>5</td>\n",
       "      <td>0</td>\n",
       "      <td>3</td>\n",
       "      <td>1</td>\n",
       "      <td>1</td>\n",
       "    </tr>\n",
       "    <tr>\n",
       "      <th>DI sem BARK di.sem BARK di SEM bark</th>\n",
       "      <td>6</td>\n",
       "      <td>+-+--+-+-</td>\n",
       "      <td>--+--+--+</td>\n",
       "      <td>5</td>\n",
       "      <td>1</td>\n",
       "      <td>2</td>\n",
       "      <td>1</td>\n",
       "      <td>1</td>\n",
       "    </tr>\n",
       "  </tbody>\n",
       "</table>\n",
       "</div>"
      ],
      "text/plain": [
       "                                     rank      meter     stress  score  unres_within  s_unstress  w_peak  w_stress\n",
       "parse                                                                                                             \n",
       "di.sem BARK di.sem BARK di.sem BARK     1  --+--+--+  --+--+--+      3             3           0       0         0\n",
       "DI sem BARK di.sem BARK di.sem BARK     2  +-+--+--+  --+--+--+      3             2           1       0         0\n",
       "di SEM bark DI sem BARK di.sem BARK     3  -+-+-+--+  --+--+--+      5             1           2       1         1\n",
       "di.sem BARK di SEM bark DI sem BARK     4  --+-+-+-+  --+--+--+      5             1           2       1         1\n",
       "DI sem BARK di SEM bark DI sem BARK     5  +-+-+-+-+  --+--+--+      5             0           3       1         1\n",
       "DI sem BARK di.sem BARK di SEM bark     6  +-+--+-+-  --+--+--+      5             1           2       1         1"
      ]
     },
     "execution_count": 4,
     "metadata": {},
     "output_type": "execute_result"
    }
   ],
   "source": [
    "l.best_parses.df"
   ]
  },
  {
   "cell_type": "code",
   "execution_count": null,
   "metadata": {},
   "outputs": [],
   "source": []
  }
 ],
 "metadata": {
  "kernelspec": {
   "display_name": "venv",
   "language": "python",
   "name": "python3"
  },
  "language_info": {
   "codemirror_mode": {
    "name": "ipython",
    "version": 3
   },
   "file_extension": ".py",
   "mimetype": "text/x-python",
   "name": "python",
   "nbconvert_exporter": "python",
   "pygments_lexer": "ipython3",
   "version": "3.11.0rc2"
  },
  "orig_nbformat": 4
 },
 "nbformat": 4,
 "nbformat_minor": 2
}
