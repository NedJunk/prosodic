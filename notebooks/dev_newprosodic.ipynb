{
 "cells": [
  {
   "cell_type": "code",
   "execution_count": 1,
   "metadata": {},
   "outputs": [],
   "source": [
    "!rm -rf /Users/ryan/prosodic_data/data/english_wordforms.sqlitedict\n",
    "import sys; sys.path.insert(0,'..')\n",
    "from prosodic.imports import *"
   ]
  },
  {
   "cell_type": "code",
   "execution_count": 2,
   "metadata": {},
   "outputs": [],
   "source": [
    "x=\"\"\"\n",
    "Those hours, that with gentle work did frame\n",
    "The lovely gaze where every eye doth dwell,\n",
    "Will play the tyrants to the very same\n",
    "And that unfair which fairly doth excel;\n",
    "For never-resting time leads summer on\n",
    "To hideous winter, and confounds him there;\n",
    "Sap checked with frost, and lusty leaves quite gone,\n",
    "Beauty o’er-snowed and bareness every where:\n",
    "Then were not summer’s distillation left,\n",
    "A liquid prisoner pent in walls of glass,\n",
    "Beauty’s effect with beauty were bereft,\n",
    "Nor it, nor no remembrance what it was:\n",
    "But flowers distill’d, though they with winter meet,\n",
    "Leese but their show; their substance still lives sweet.\n",
    "\"\"\"\n",
    "t=Text(x)"
   ]
  },
  {
   "cell_type": "code",
   "execution_count": 3,
   "metadata": {},
   "outputs": [
    {
     "ename": "AttributeError",
     "evalue": "'NoneType' object has no attribute 'get'",
     "output_type": "error",
     "traceback": [
      "\u001b[0;31m---------------------------------------------------------------------------\u001b[0m",
      "\u001b[0;31mAttributeError\u001b[0m                            Traceback (most recent call last)",
      "\u001b[1;32m/Users/ryan/github/prosodic/notebooks/dev_newprosodic.ipynb Cell 3\u001b[0m line \u001b[0;36m1\n\u001b[0;32m----> <a href='vscode-notebook-cell:/Users/ryan/github/prosodic/notebooks/dev_newprosodic.ipynb#W2sZmlsZQ%3D%3D?line=0'>1</a>\u001b[0m t \u001b[39m=\u001b[39m Text(\u001b[39m'\u001b[39;49m\u001b[39mhello\u001b[39;49m\u001b[39m'\u001b[39;49m)\n\u001b[1;32m      <a href='vscode-notebook-cell:/Users/ryan/github/prosodic/notebooks/dev_newprosodic.ipynb#W2sZmlsZQ%3D%3D?line=1'>2</a>\u001b[0m l \u001b[39m=\u001b[39m t\u001b[39m.\u001b[39mlines[\u001b[39m0\u001b[39m]\n",
      "File \u001b[0;32m~/github/prosodic/notebooks/../prosodic/texts.py:31\u001b[0m, in \u001b[0;36mText.__init__\u001b[0;34m(self, txt, filename, lang, parent, children, **kwargs)\u001b[0m\n\u001b[1;32m     29\u001b[0m \u001b[39mself\u001b[39m\u001b[39m.\u001b[39mattrs \u001b[39m=\u001b[39m kwargs\n\u001b[1;32m     30\u001b[0m \u001b[39mself\u001b[39m\u001b[39m.\u001b[39m_init \u001b[39m=\u001b[39m \u001b[39mFalse\u001b[39;00m\n\u001b[0;32m---> 31\u001b[0m \u001b[39mself\u001b[39;49m\u001b[39m.\u001b[39;49minit()\n",
      "File \u001b[0;32m~/github/prosodic/notebooks/../prosodic/texts.py:55\u001b[0m, in \u001b[0;36mText.init\u001b[0;34m(self)\u001b[0m\n\u001b[1;32m     53\u001b[0m word_d[\u001b[39m'\u001b[39m\u001b[39mword_lang\u001b[39m\u001b[39m'\u001b[39m] \u001b[39m=\u001b[39m \u001b[39mself\u001b[39m\u001b[39m.\u001b[39mlang\n\u001b[1;32m     54\u001b[0m token \u001b[39m=\u001b[39m word_row\u001b[39m.\u001b[39mword_str\n\u001b[0;32m---> 55\u001b[0m wordforms \u001b[39m=\u001b[39m \u001b[39mself\u001b[39;49m\u001b[39m.\u001b[39;49mlang_obj\u001b[39m.\u001b[39;49mget(token\u001b[39m.\u001b[39mstrip())\n\u001b[1;32m     56\u001b[0m word \u001b[39m=\u001b[39m Word(token, children\u001b[39m=\u001b[39mwordforms, \u001b[39m*\u001b[39m\u001b[39m*\u001b[39mword_d)\n\u001b[1;32m     57\u001b[0m line_words\u001b[39m.\u001b[39mappend(word)\n",
      "\u001b[0;31mAttributeError\u001b[0m: 'NoneType' object has no attribute 'get'"
     ]
    }
   ],
   "source": [
    "t = Text('hello')\n",
    "l = t.lines[0]"
   ]
  },
  {
   "cell_type": "code",
   "execution_count": null,
   "metadata": {},
   "outputs": [],
   "source": [
    "parses,bparses = l.parse()"
   ]
  },
  {
   "cell_type": "code",
   "execution_count": null,
   "metadata": {},
   "outputs": [],
   "source": [
    "parse = parses[0]"
   ]
  },
  {
   "cell_type": "code",
   "execution_count": null,
   "metadata": {},
   "outputs": [
    {
     "data": {
      "text/plain": [
       "[HEL.HEL.LO.LO.LO.LO.WORLD.WORLD.WORLD.WORLD,\n",
       " hel.hel.lo.lo.lo.lo.world.world.world.world,\n",
       " HEL.HEL.LO.LO.LO.LO.WORLD.WORLD.WORLD.WORLD]"
      ]
     },
     "execution_count": 9,
     "metadata": {},
     "output_type": "execute_result"
    }
   ],
   "source": [
    "parse.positions"
   ]
  },
  {
   "cell_type": "code",
   "execution_count": null,
   "metadata": {},
   "outputs": [],
   "source": []
  }
 ],
 "metadata": {
  "kernelspec": {
   "display_name": "venv",
   "language": "python",
   "name": "python3"
  },
  "language_info": {
   "codemirror_mode": {
    "name": "ipython",
    "version": 3
   },
   "file_extension": ".py",
   "mimetype": "text/x-python",
   "name": "python",
   "nbconvert_exporter": "python",
   "pygments_lexer": "ipython3",
   "version": "3.11.0rc2"
  },
  "orig_nbformat": 4
 },
 "nbformat": 4,
 "nbformat_minor": 2
}
