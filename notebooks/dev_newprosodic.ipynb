{
 "cells": [
  {
   "cell_type": "code",
   "execution_count": 1,
   "metadata": {},
   "outputs": [],
   "source": [
    "# !rm -rf /Users/ryan/prosodic_data/data/english_wordforms.sqlitedict\n",
    "import sys; sys.path.insert(0,'..')\n",
    "from prosodic.imports import *"
   ]
  },
  {
   "cell_type": "code",
   "execution_count": 2,
   "metadata": {},
   "outputs": [],
   "source": [
    "x=\"\"\"\n",
    "Those hours, that with gentle work did frame\n",
    "The lovely gaze where every eye doth dwell,\n",
    "Will play the tyrants to the very same\n",
    "And that unfair which fairly doth excel;\n",
    "For never-resting time leads summer on\n",
    "To hideous winter, and confounds him there;\n",
    "Sap checked with frost, and lusty leaves quite gone,\n",
    "Beauty o’er-snowed and bareness every where:\n",
    "Then were not summer’s distillation left,\n",
    "A liquid prisoner pent in walls of glass,\n",
    "Beauty’s effect with beauty were bereft,\n",
    "Nor it, nor no remembrance what it was:\n",
    "But flowers distill’d, though they with winter meet,\n",
    "Leese but their show; their substance still lives sweet.\n",
    "\"\"\"\n",
    "t=Text(x)"
   ]
  },
  {
   "cell_type": "code",
   "execution_count": 3,
   "metadata": {},
   "outputs": [],
   "source": [
    "l = t.lines[0]"
   ]
  },
  {
   "cell_type": "code",
   "execution_count": 4,
   "metadata": {},
   "outputs": [
    {
     "ename": "TypeError",
     "evalue": "'Parse' object is not iterable",
     "output_type": "error",
     "traceback": [
      "\u001b[0;31m---------------------------------------------------------------------------\u001b[0m",
      "\u001b[0;31mTypeError\u001b[0m                                 Traceback (most recent call last)",
      "\u001b[1;32m/Users/ryan/github/prosodic/notebooks/dev_newprosodic.ipynb Cell 4\u001b[0m line \u001b[0;36m1\n\u001b[0;32m----> <a href='vscode-notebook-cell:/Users/ryan/github/prosodic/notebooks/dev_newprosodic.ipynb#W3sZmlsZQ%3D%3D?line=0'>1</a>\u001b[0m l\u001b[39m.\u001b[39;49mparse()\n",
      "File \u001b[0;32m~/github/prosodic/notebooks/../prosodic/parsing.py:35\u001b[0m, in \u001b[0;36mParseTextUnit.parse\u001b[0;34m(self, constraints)\u001b[0m\n\u001b[1;32m     33\u001b[0m     all_bounded_parses\u001b[39m.\u001b[39mextend(_bounded_parses)\n\u001b[1;32m     34\u001b[0m \u001b[39m# final bounding?\u001b[39;00m\n\u001b[0;32m---> 35\u001b[0m unbound_parses, bound_parses \u001b[39m=\u001b[39m \u001b[39mself\u001b[39;49m\u001b[39m.\u001b[39;49mbound_parses(all_parses)\n\u001b[1;32m     36\u001b[0m \u001b[39mreturn\u001b[39;00m unbound_parses,bound_parses\n",
      "File \u001b[0;32m~/github/prosodic/notebooks/../prosodic/parsing.py:115\u001b[0m, in \u001b[0;36mParseTextUnit.bound_parses\u001b[0;34m(self, parse_lists)\u001b[0m\n\u001b[1;32m    113\u001b[0m bounded_parses\u001b[39m=\u001b[39m[]\n\u001b[1;32m    114\u001b[0m \u001b[39mfor\u001b[39;00m list_index \u001b[39min\u001b[39;00m \u001b[39mrange\u001b[39m(\u001b[39mlen\u001b[39m(parse_lists)):\n\u001b[0;32m--> 115\u001b[0m     \u001b[39mfor\u001b[39;00m parse \u001b[39min\u001b[39;00m parse_lists[list_index]:\n\u001b[1;32m    116\u001b[0m         \u001b[39mfor\u001b[39;00m parse_list \u001b[39min\u001b[39;00m parse_lists[list_index\u001b[39m+\u001b[39m\u001b[39m1\u001b[39m:]:\n\u001b[1;32m    117\u001b[0m             \u001b[39mfor\u001b[39;00m comp_parse \u001b[39min\u001b[39;00m parse_list:\n",
      "\u001b[0;31mTypeError\u001b[0m: 'Parse' object is not iterable"
     ]
    }
   ],
   "source": [
    "l.parse()"
   ]
  },
  {
   "cell_type": "code",
   "execution_count": null,
   "metadata": {},
   "outputs": [],
   "source": []
  }
 ],
 "metadata": {
  "kernelspec": {
   "display_name": "venv",
   "language": "python",
   "name": "python3"
  },
  "language_info": {
   "codemirror_mode": {
    "name": "ipython",
    "version": 3
   },
   "file_extension": ".py",
   "mimetype": "text/x-python",
   "name": "python",
   "nbconvert_exporter": "python",
   "pygments_lexer": "ipython3",
   "version": "3.11.0rc2"
  },
  "orig_nbformat": 4
 },
 "nbformat": 4,
 "nbformat_minor": 2
}
