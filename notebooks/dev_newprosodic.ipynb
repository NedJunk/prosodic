{
 "cells": [
  {
   "cell_type": "code",
   "execution_count": 1,
   "metadata": {},
   "outputs": [],
   "source": [
    "!rm -rf /Users/ryan/prosodic_data/data/english_wordforms.sqlitedict\n",
    "import sys; sys.path.insert(0,'..')\n",
    "from prosodic.imports import *"
   ]
  },
  {
   "cell_type": "code",
   "execution_count": 2,
   "metadata": {},
   "outputs": [],
   "source": [
    "x=\"\"\"\n",
    "Those hours, that with gentle work did frame\n",
    "The lovely gaze where every eye doth dwell,\n",
    "Will play the tyrants to the very same\n",
    "And that unfair which fairly doth excel;\n",
    "For never-resting time leads summer on\n",
    "To hideous winter, and confounds him there;\n",
    "Sap checked with frost, and lusty leaves quite gone,\n",
    "Beauty o’er-snowed and bareness every where:\n",
    "Then were not summer’s distillation left,\n",
    "A liquid prisoner pent in walls of glass,\n",
    "Beauty’s effect with beauty were bereft,\n",
    "Nor it, nor no remembrance what it was:\n",
    "But flowers distill’d, though they with winter meet,\n",
    "Leese but their show; their substance still lives sweet.\n",
    "\"\"\""
   ]
  },
  {
   "cell_type": "code",
   "execution_count": 3,
   "metadata": {},
   "outputs": [],
   "source": [
    "t=Text(x)"
   ]
  },
  {
   "cell_type": "code",
   "execution_count": 4,
   "metadata": {},
   "outputs": [],
   "source": [
    "t.phonemes"
   ]
  },
  {
   "cell_type": "code",
   "execution_count": 5,
   "metadata": {},
   "outputs": [],
   "source": [
    "import panphon\n",
    "ft = panphon.FeatureTable()"
   ]
  },
  {
   "cell_type": "markdown",
   "metadata": {},
   "source": []
  },
  {
   "cell_type": "code",
   "execution_count": 6,
   "metadata": {},
   "outputs": [],
   "source": [
    "seg=ft.word_fts('aʊɛːz')[0]"
   ]
  },
  {
   "cell_type": "code",
   "execution_count": 7,
   "metadata": {},
   "outputs": [
    {
     "data": {
      "text/plain": [
       "{'syl': 1,\n",
       " 'son': 1,\n",
       " 'cons': -1,\n",
       " 'cont': 1,\n",
       " 'delrel': -1,\n",
       " 'lat': -1,\n",
       " 'nas': -1,\n",
       " 'strid': 0,\n",
       " 'voi': 1,\n",
       " 'sg': -1,\n",
       " 'cg': -1,\n",
       " 'ant': 0,\n",
       " 'cor': -1,\n",
       " 'distr': 0,\n",
       " 'lab': -1,\n",
       " 'hi': -1,\n",
       " 'lo': 1,\n",
       " 'back': -1,\n",
       " 'round': -1,\n",
       " 'velaric': -1,\n",
       " 'tense': 1,\n",
       " 'long': -1,\n",
       " 'hitone': 0,\n",
       " 'hireg': 0}"
      ]
     },
     "execution_count": 7,
     "metadata": {},
     "output_type": "execute_result"
    }
   ],
   "source": [
    "seg.data"
   ]
  },
  {
   "cell_type": "code",
   "execution_count": null,
   "metadata": {},
   "outputs": [],
   "source": []
  }
 ],
 "metadata": {
  "kernelspec": {
   "display_name": "venv",
   "language": "python",
   "name": "python3"
  },
  "language_info": {
   "codemirror_mode": {
    "name": "ipython",
    "version": 3
   },
   "file_extension": ".py",
   "mimetype": "text/x-python",
   "name": "python",
   "nbconvert_exporter": "python",
   "pygments_lexer": "ipython3",
   "version": "3.11.0rc2"
  },
  "orig_nbformat": 4
 },
 "nbformat": 4,
 "nbformat_minor": 2
}
