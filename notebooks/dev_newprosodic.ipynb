{
 "cells": [
  {
   "cell_type": "code",
   "execution_count": 1,
   "metadata": {},
   "outputs": [],
   "source": [
    "!rm -rf /Users/ryan/prosodic_data/data/english_wordforms.sqlitedict\n",
    "import sys; sys.path.insert(0,'..')\n",
    "from prosodic.imports import *"
   ]
  },
  {
   "cell_type": "code",
   "execution_count": 2,
   "metadata": {},
   "outputs": [],
   "source": [
    "x=\"\"\"\n",
    "Those hours, that with gentle work did frame\n",
    "The lovely gaze where every eye doth dwell,\n",
    "Will play the tyrants to the very same\n",
    "And that unfair which fairly doth excel;\n",
    "For never-resting time leads summer on\n",
    "To hideous winter, and confounds him there;\n",
    "Sap checked with frost, and lusty leaves quite gone,\n",
    "Beauty o’er-snowed and bareness every where:\n",
    "Then were not summer’s distillation left,\n",
    "A liquid prisoner pent in walls of glass,\n",
    "Beauty’s effect with beauty were bereft,\n",
    "Nor it, nor no remembrance what it was:\n",
    "But flowers distill’d, though they with winter meet,\n",
    "Leese but their show; their substance still lives sweet.\n",
    "\"\"\"\n",
    "t=Text(x)"
   ]
  },
  {
   "cell_type": "code",
   "execution_count": 3,
   "metadata": {},
   "outputs": [],
   "source": [
    "def getlenparse(l): return sum(len(x) for x in l)\n",
    "\n",
    "def iter_mpos(nsyll, starter=[], pos_types=None, maxS=METER_MAX_S, maxW=METER_MAX_W):\n",
    "    if pos_types is None:\n",
    "        wtypes = ['w'*n for n in range(1,maxW+1)]\n",
    "        stypes = ['s'*n for n in range(1,maxS+1)]\n",
    "        pos_types=[[x] for x in wtypes + stypes]\n",
    "        \n",
    "    news=[]\n",
    "    for pos_type in pos_types:\n",
    "        if starter and starter[-1][-1]==pos_type[0][0]: continue\n",
    "        new = starter + pos_type\n",
    "        # if starter: print(starter[-1][-1], pos_type[0][0], new)\n",
    "        #if not is_ok_parse(new): continue\n",
    "        if getlenparse(new)<=nsyll:\n",
    "            news.append(new)\n",
    "    \n",
    "    # news = battle_parses(news)\n",
    "    if news: yield from news\n",
    "    # print('\\n'.join('|'.join(x) for x in news))\n",
    "    for new in news: yield from iter_mpos(nsyll, starter=new, pos_types=pos_types)\n",
    "\n",
    "def get_possible_parses(nsyll):\n",
    "    return [l for l in iter_mpos(nsyll) if getlenparse(l)==nsyll]"
   ]
  },
  {
   "cell_type": "code",
   "execution_count": 4,
   "metadata": {},
   "outputs": [
    {
     "data": {
      "text/plain": [
       "[['ww'], ['ss'], ['w', 's'], ['s', 'w']]"
      ]
     },
     "execution_count": 4,
     "metadata": {},
     "output_type": "execute_result"
    }
   ],
   "source": [
    "get_possible_parses(2)"
   ]
  },
  {
   "cell_type": "code",
   "execution_count": 5,
   "metadata": {},
   "outputs": [],
   "source": [
    "# t = Text('hello world')\n",
    "l = t.lines[0]\n",
    "slots = l.slot_matrix[0]\n",
    "# slots"
   ]
  },
  {
   "cell_type": "code",
   "execution_count": 6,
   "metadata": {},
   "outputs": [],
   "source": [
    "def get_possible_parse_objs(slots, constraints=[]):\n",
    "    parse_objs = []\n",
    "    for parse_poss in get_possible_parses(len(slots)):\n",
    "        slot_i=0\n",
    "        parse_obj = Parse(len(slots), constraints=constraints)\n",
    "        mpos_objs=[]\n",
    "        for mpos in parse_poss:\n",
    "            mpos_slots=[]\n",
    "            for slot_mval in mpos:\n",
    "                mpos_slots.append(slots[slot_i])\n",
    "                slot_i+=1\n",
    "            mpos_obj = ParsePosition(mpos[0], parse=parse_obj, slots=mpos_slots)\n",
    "            mpos_objs.append(mpos_obj)\n",
    "        # for i in range(1, len(mpos_objs)):\n",
    "            # mpos_objs[i].prev=mpos_objs[i-1]\n",
    "            # mpos_objs[i-1].next=mpos_objs[i]\n",
    "        parse_obj.children = parse_obj.positions = mpos_objs\n",
    "        parse_objs.append(parse_obj)\n",
    "    return parse_objs"
   ]
  },
  {
   "cell_type": "code",
   "execution_count": 7,
   "metadata": {},
   "outputs": [],
   "source": [
    "parses = get_possible_parse_objs(slots)"
   ]
  },
  {
   "cell_type": "code",
   "execution_count": 8,
   "metadata": {},
   "outputs": [],
   "source": [
    "syll=t.syllables[0]"
   ]
  },
  {
   "cell_type": "code",
   "execution_count": 9,
   "metadata": {},
   "outputs": [
    {
     "data": {
      "text/plain": [
       "((Syllable: Those) [syll_ipa='ðoʊz syll_stress=P syll_weight=H is_stressed=True is_heavy=True is_strong=None is_weak=None],\n",
       " None,\n",
       " None)"
      ]
     },
     "execution_count": 9,
     "metadata": {},
     "output_type": "execute_result"
    }
   ],
   "source": [
    "syll, syll.next, syll.prev"
   ]
  },
  {
   "cell_type": "code",
   "execution_count": 10,
   "metadata": {},
   "outputs": [
    {
     "data": {
      "text/plain": [
       "0"
      ]
     },
     "execution_count": 10,
     "metadata": {},
     "output_type": "execute_result"
    }
   ],
   "source": [
    "syll.parent.children.index(syll)"
   ]
  },
  {
   "cell_type": "code",
   "execution_count": 11,
   "metadata": {},
   "outputs": [
    {
     "data": {
      "text/plain": [
       "1"
      ]
     },
     "execution_count": 11,
     "metadata": {},
     "output_type": "execute_result"
    }
   ],
   "source": [
    "syll.children[-1].phon_cons"
   ]
  },
  {
   "cell_type": "code",
   "execution_count": 12,
   "metadata": {},
   "outputs": [],
   "source": [
    "def parse_slots_slow(self, slots, constraints=[]):\n",
    "    parses = get_possible_parse_objs(slots, constraints=constraints)\n",
    "    parses, bounded_parses = self.bound_parses(parses)\n",
    "    parses.sort()\n",
    "    return parses, bounded_parses"
   ]
  },
  {
   "cell_type": "code",
   "execution_count": 13,
   "metadata": {},
   "outputs": [],
   "source": [
    "def w_stress(mpos, score=1):\n",
    "    if not mpos.is_prom and any(slot.is_stressed for slot in mpos.slots): \n",
    "        return score\n",
    "\n",
    "def s_unstress(mpos, score=1):\n",
    "    if mpos.is_prom and any(not slot.is_stressed for slot in mpos.slots):\n",
    "        return score\n",
    "    \n",
    "\n",
    "\n",
    "def unres_within(mpos, score=1):\n",
    "    slots = mpos.slots\n",
    "    if len(slots)!=2: return np.nan\n",
    "    slot1,slot2=slots\n",
    "    unit1,unit2=slot1.unit,slot2.unit\n",
    "    wf1,wf2=unit1.parent,unit2.parent\n",
    "    if wf1 is not wf2: return np.nan\n",
    "    # disyllabic position within word\n",
    "    # first position mist be light and stressed\n",
    "    if unit1.weight_is_prom or not unit1.stress_is_prom: return score\n",
    "    return 0\n",
    "    \n",
    "\n",
    "def unres_across(mpos, score=1):\n",
    "    slots = mpos.slots\n",
    "    if len(slots)!=2: return np.nan\n",
    "    slot1,slot2=slots\n",
    "    unit1,unit2=slot1.unit,slot2.unit\n",
    "    wf1,wf2=unit1.parent,unit2.parent\n",
    "    if wf1 is wf2: return np.nan\n",
    "    # disyllabic strong position immediately violates\n",
    "    if mpos.is_prom: return score\n",
    "    if not wf1.is_functionword or not wf2.is_functionword: return score\n",
    "    return 0\n",
    "    \n",
    "\n",
    "def w_peak(mpos, score=1):\n",
    "    if mpos.is_prom: return np.nan\n",
    "    if any(slot.is_strong for slot in mpos.slots): return score\n",
    "    return 0\n",
    "\n",
    "def s_trough(mpos, score=1):\n",
    "    if not mpos.is_prom: return np.nan\n",
    "    if any(slot.is_weak for slot in mpos.slots): return score\n",
    "    return 0"
   ]
  },
  {
   "cell_type": "code",
   "execution_count": 14,
   "metadata": {},
   "outputs": [
    {
     "data": {
      "text/plain": [
       "(Syllable: ho) [syll_ipa='aʊ syll_stress=P syll_weight=H is_stressed=True is_heavy=True is_strong=None is_weak=False]"
      ]
     },
     "execution_count": 14,
     "metadata": {},
     "output_type": "execute_result"
    }
   ],
   "source": [
    "syll = English().get('hours')[0].children[0]\n",
    "syll"
   ]
  },
  {
   "cell_type": "code",
   "execution_count": 15,
   "metadata": {},
   "outputs": [],
   "source": [
    "def is_strong(self):\n",
    "    if not len(self.parent.children)>1: return None\n",
    "    if not self.is_stressed: return False\n",
    "    if self.prev and not self.prev.is_stressed: return True\n",
    "    if self.next and not self.next.is_stressed: return True"
   ]
  },
  {
   "cell_type": "code",
   "execution_count": 27,
   "metadata": {},
   "outputs": [
    {
     "data": {
      "text/plain": [
       "((Syllable: ho) [syll_ipa='aʊ syll_stress=P syll_weight=H is_stressed=True is_heavy=True is_strong=None is_weak=False],\n",
       " (Syllable: urs) [syll_ipa=ɛːz syll_stress=U syll_weight=H is_stressed=True is_heavy=True is_strong=None is_weak=False])"
      ]
     },
     "execution_count": 27,
     "metadata": {},
     "output_type": "execute_result"
    }
   ],
   "source": [
    "syll, syll.next"
   ]
  },
  {
   "cell_type": "code",
   "execution_count": 17,
   "metadata": {},
   "outputs": [
    {
     "data": {
      "text/plain": [
       "True"
      ]
     },
     "execution_count": 17,
     "metadata": {},
     "output_type": "execute_result"
    }
   ],
   "source": [
    "syll.is_stressed"
   ]
  },
  {
   "cell_type": "code",
   "execution_count": 18,
   "metadata": {},
   "outputs": [
    {
     "data": {
      "text/plain": [
       "(None, False)"
      ]
     },
     "execution_count": 18,
     "metadata": {},
     "output_type": "execute_result"
    }
   ],
   "source": [
    "syll.is_strong, syll.is_weak"
   ]
  },
  {
   "cell_type": "code",
   "execution_count": 19,
   "metadata": {},
   "outputs": [],
   "source": [
    "constraints = [w_stress, s_unstress, unres_across, unres_within, w_peak, s_trough]"
   ]
  },
  {
   "cell_type": "code",
   "execution_count": 20,
   "metadata": {},
   "outputs": [],
   "source": [
    "parses,bparses = parse_slots_slow(l, slots, constraints = constraints)"
   ]
  },
  {
   "cell_type": "code",
   "execution_count": 21,
   "metadata": {},
   "outputs": [
    {
     "data": {
      "text/plain": [
       "[(Parse: those|HO|urs|THAT|with|GEN|tle|WORK|did|FRAME) [meter=wswswswsws score=5 w_stress=5],\n",
       " (Parse: THOSE|ho|URS|that|WITH|gen|TLE|work|DID.FRAME) [meter=swswswswss score=5 w_stress=4 unres_across=1],\n",
       " (Parse: THOSE|ho|URS|that|WITH|gen|TLE|work|DID|frame) [meter=swswswswsw score=5 w_stress=5],\n",
       " (Parse: THOSE|ho|URS|that|WITH|gen|TLE|work.did|FRAME) [meter=swswswswws score=5 w_stress=4 unres_across=1],\n",
       " (Parse: THOSE|ho|URS|that|WITH|gen|TLE.WORK|did|FRAME) [meter=swswswssws score=5 w_stress=4 unres_across=1],\n",
       " (Parse: THOSE|ho|URS|that|WITH|gen.tle|WORK|did|FRAME) [meter=swswswwsws score=5 w_stress=4 unres_within=1],\n",
       " (Parse: THOSE|ho|URS|that|WITH.GEN|tle|WORK|did|FRAME) [meter=swswsswsws score=5 w_stress=4 unres_across=1],\n",
       " (Parse: THOSE|ho|URS|that.with|GEN|tle|WORK|did|FRAME) [meter=swswwswsws score=5 w_stress=4 unres_across=1],\n",
       " (Parse: THOSE|ho|URS.THAT|with|GEN|tle|WORK|did|FRAME) [meter=swsswswsws score=5 w_stress=4 unres_across=1],\n",
       " (Parse: THOSE|ho.urs|THAT|with|GEN|tle|WORK|did|FRAME) [meter=swwswswsws score=5 w_stress=4 unres_within=1],\n",
       " (Parse: THOSE.HO|urs|THAT|with|GEN|tle|WORK|did|FRAME) [meter=sswswswsws score=5 w_stress=4 unres_across=1],\n",
       " (Parse: THOSE|ho|URS|that|WITH.GEN|tle.work|DID.FRAME) [meter=swswsswwss score=6 w_stress=3 unres_across=3],\n",
       " (Parse: THOSE|ho|URS|that.with|GEN|tle.work|DID.FRAME) [meter=swswwswwss score=6 w_stress=3 unres_across=3],\n",
       " (Parse: THOSE|ho|URS|that.with|GEN.TLE|work|DID.FRAME) [meter=swswwsswss score=6 w_stress=3 unres_across=2 unres_within=1],\n",
       " (Parse: THOSE|ho|URS|that.with|GEN.TLE|work.did|FRAME) [meter=swswwsswws score=6 w_stress=3 unres_across=2 unres_within=1],\n",
       " (Parse: THOSE|ho|URS.THAT|with|GEN|tle.work|DID.FRAME) [meter=swsswswwss score=6 w_stress=3 unres_across=3],\n",
       " (Parse: THOSE|ho|URS.THAT|with|GEN.TLE|work|DID.FRAME) [meter=swsswsswss score=6 w_stress=3 unres_across=2 unres_within=1],\n",
       " (Parse: THOSE|ho|URS.THAT|with|GEN.TLE|work.did|FRAME) [meter=swsswsswws score=6 w_stress=3 unres_across=2 unres_within=1],\n",
       " (Parse: THOSE|ho|URS.THAT|with.gen|TLE|work|DID.FRAME) [meter=swsswwswss score=6 w_stress=3 unres_across=3],\n",
       " (Parse: THOSE|ho|URS.THAT|with.gen|TLE|work.did|FRAME) [meter=swsswwswws score=6 w_stress=3 unres_across=3],\n",
       " (Parse: THOSE|ho|URS.THAT|with.gen|TLE.WORK|did|FRAME) [meter=swsswwssws score=6 w_stress=3 unres_across=3],\n",
       " (Parse: THOSE|ho.urs|THAT|with|GEN|tle.work|DID.FRAME) [meter=swwswswwss score=6 w_stress=3 unres_across=2 unres_within=1],\n",
       " (Parse: THOSE|ho.urs|THAT|with|GEN.TLE|work|DID.FRAME) [meter=swwswsswss score=6 w_stress=3 unres_across=1 unres_within=2],\n",
       " (Parse: THOSE|ho.urs|THAT|with|GEN.TLE|work.did|FRAME) [meter=swwswsswws score=6 w_stress=3 unres_across=1 unres_within=2],\n",
       " (Parse: THOSE|ho.urs|THAT|with.gen|TLE|work|DID.FRAME) [meter=swwswwswss score=6 w_stress=3 unres_across=2 unres_within=1],\n",
       " (Parse: THOSE|ho.urs|THAT|with.gen|TLE|work.did|FRAME) [meter=swwswwswws score=6 w_stress=3 unres_across=2 unres_within=1],\n",
       " (Parse: THOSE|ho.urs|THAT|with.gen|TLE.WORK|did|FRAME) [meter=swwswwssws score=6 w_stress=3 unres_across=2 unres_within=1],\n",
       " (Parse: THOSE|ho.urs|THAT.WITH|gen|TLE|work|DID.FRAME) [meter=swwsswswss score=6 w_stress=3 unres_across=2 unres_within=1],\n",
       " (Parse: THOSE|ho.urs|THAT.WITH|gen|TLE|work.did|FRAME) [meter=swwsswswws score=6 w_stress=3 unres_across=2 unres_within=1],\n",
       " (Parse: THOSE|ho.urs|THAT.WITH|gen|TLE.WORK|did|FRAME) [meter=swwsswssws score=6 w_stress=3 unres_across=2 unres_within=1],\n",
       " (Parse: THOSE|ho.urs|THAT.WITH|gen.tle|WORK|did|FRAME) [meter=swwsswwsws score=6 w_stress=3 unres_across=1 unres_within=2],\n",
       " (Parse: THOSE.HO|urs|THAT|with|GEN|tle.work|DID.FRAME) [meter=sswswswwss score=6 w_stress=3 unres_across=3],\n",
       " (Parse: THOSE.HO|urs|THAT|with|GEN.TLE|work|DID.FRAME) [meter=sswswsswss score=6 w_stress=3 unres_across=2 unres_within=1],\n",
       " (Parse: THOSE.HO|urs|THAT|with|GEN.TLE|work.did|FRAME) [meter=sswswsswws score=6 w_stress=3 unres_across=2 unres_within=1],\n",
       " (Parse: THOSE.HO|urs|THAT|with.gen|TLE|work|DID.FRAME) [meter=sswswwswss score=6 w_stress=3 unres_across=3],\n",
       " (Parse: THOSE.HO|urs|THAT|with.gen|TLE|work.did|FRAME) [meter=sswswwswws score=6 w_stress=3 unres_across=3],\n",
       " (Parse: THOSE.HO|urs|THAT|with.gen|TLE.WORK|did|FRAME) [meter=sswswwssws score=6 w_stress=3 unres_across=3],\n",
       " (Parse: THOSE.HO|urs|THAT.WITH|gen|TLE|work|DID.FRAME) [meter=sswsswswss score=6 w_stress=3 unres_across=3],\n",
       " (Parse: THOSE.HO|urs|THAT.WITH|gen|TLE|work.did|FRAME) [meter=sswsswswws score=6 w_stress=3 unres_across=3],\n",
       " (Parse: THOSE.HO|urs|THAT.WITH|gen|TLE.WORK|did|FRAME) [meter=sswsswssws score=6 w_stress=3 unres_across=3],\n",
       " (Parse: THOSE.HO|urs|THAT.WITH|gen.tle|WORK|did|FRAME) [meter=sswsswwsws score=6 w_stress=3 unres_across=2 unres_within=1],\n",
       " (Parse: THOSE.HO|urs.that|WITH|gen|TLE|work|DID.FRAME) [meter=sswwswswss score=6 w_stress=3 unres_across=3],\n",
       " (Parse: THOSE.HO|urs.that|WITH|gen|TLE|work.did|FRAME) [meter=sswwswswws score=6 w_stress=3 unres_across=3],\n",
       " (Parse: THOSE.HO|urs.that|WITH|gen|TLE.WORK|did|FRAME) [meter=sswwswssws score=6 w_stress=3 unres_across=3],\n",
       " (Parse: THOSE.HO|urs.that|WITH|gen.tle|WORK|did|FRAME) [meter=sswwswwsws score=6 w_stress=3 unres_across=2 unres_within=1],\n",
       " (Parse: THOSE.HO|urs.that|WITH.GEN|tle|WORK|did|FRAME) [meter=sswwsswsws score=6 w_stress=3 unres_across=3],\n",
       " (Parse: THOSE.HO|urs.that|WITH.GEN|tle.work|DID.FRAME) [meter=sswwsswwss score=7 w_stress=2 unres_across=5]]"
      ]
     },
     "execution_count": 21,
     "metadata": {},
     "output_type": "execute_result"
    }
   ],
   "source": [
    "parses"
   ]
  },
  {
   "cell_type": "code",
   "execution_count": 22,
   "metadata": {},
   "outputs": [
    {
     "data": {
      "text/plain": [
       "[(Parse: those|HO|urs|THAT|with|GEN|tle|WORK|did.frame) [meter=wswswswsww score=6 w_stress=5 unres_across=1],\n",
       " (Parse: those|HO|urs|THAT|with|GEN|tle|WORK.DID|frame) [meter=wswswswssw score=6 w_stress=5 unres_across=1],\n",
       " (Parse: those|HO|urs|THAT|with|GEN|tle.work|DID.FRAME) [meter=wswswswwss score=6 w_stress=4 unres_across=2],\n",
       " (Parse: those|HO|urs|THAT|with|GEN|tle.work|DID|frame) [meter=wswswswwsw score=6 w_stress=5 unres_across=1],\n",
       " (Parse: those|HO|urs|THAT|with|GEN.TLE|work|DID.FRAME) [meter=wswswsswss score=6 w_stress=4 unres_across=1 unres_within=1],\n",
       " (Parse: those|HO|urs|THAT|with|GEN.TLE|work|DID|frame) [meter=wswswsswsw score=6 w_stress=5 unres_within=1],\n",
       " (Parse: those|HO|urs|THAT|with|GEN.TLE|work.did|FRAME) [meter=wswswsswws score=6 w_stress=4 unres_across=1 unres_within=1],\n",
       " (Parse: those|HO|urs|THAT|with.gen|TLE|work|DID.FRAME) [meter=wswswwswss score=6 w_stress=4 unres_across=2],\n",
       " (Parse: those|HO|urs|THAT|with.gen|TLE|work|DID|frame) [meter=wswswwswsw score=6 w_stress=5 unres_across=1],\n",
       " (Parse: those|HO|urs|THAT|with.gen|TLE|work.did|FRAME) [meter=wswswwswws score=6 w_stress=4 unres_across=2],\n",
       " (Parse: those|HO|urs|THAT|with.gen|TLE.WORK|did.frame) [meter=wswswwssww score=7 w_stress=4 unres_across=3],\n",
       " (Parse: those|HO|urs|THAT|with.gen|TLE.WORK|did|FRAME) [meter=wswswwssws score=6 w_stress=4 unres_across=2],\n",
       " (Parse: those|HO|urs|THAT.WITH|gen|TLE|work|DID.FRAME) [meter=wswsswswss score=6 w_stress=4 unres_across=2],\n",
       " (Parse: those|HO|urs|THAT.WITH|gen|TLE|work|DID|frame) [meter=wswsswswsw score=6 w_stress=5 unres_across=1],\n",
       " (Parse: those|HO|urs|THAT.WITH|gen|TLE|work.did|FRAME) [meter=wswsswswws score=6 w_stress=4 unres_across=2],\n",
       " (Parse: those|HO|urs|THAT.WITH|gen|TLE.WORK|did.frame) [meter=wswsswssww score=7 w_stress=4 unres_across=3],\n",
       " (Parse: those|HO|urs|THAT.WITH|gen|TLE.WORK|did|FRAME) [meter=wswsswssws score=6 w_stress=4 unres_across=2],\n",
       " (Parse: those|HO|urs|THAT.WITH|gen.tle|WORK|did.frame) [meter=wswsswwsww score=7 w_stress=4 unres_across=2 unres_within=1],\n",
       " (Parse: those|HO|urs|THAT.WITH|gen.tle|WORK|did|FRAME) [meter=wswsswwsws score=6 w_stress=4 unres_across=1 unres_within=1],\n",
       " (Parse: those|HO|urs|THAT.WITH|gen.tle|WORK.DID|frame) [meter=wswsswwssw score=7 w_stress=4 unres_across=2 unres_within=1],\n",
       " (Parse: those|HO|urs.that|WITH|gen|TLE|work|DID.FRAME) [meter=wswwswswss score=6 w_stress=4 unres_across=2],\n",
       " (Parse: those|HO|urs.that|WITH|gen|TLE|work|DID|frame) [meter=wswwswswsw score=6 w_stress=5 unres_across=1],\n",
       " (Parse: those|HO|urs.that|WITH|gen|TLE|work.did|FRAME) [meter=wswwswswws score=6 w_stress=4 unres_across=2],\n",
       " (Parse: those|HO|urs.that|WITH|gen|TLE.WORK|did.frame) [meter=wswwswssww score=7 w_stress=4 unres_across=3],\n",
       " (Parse: those|HO|urs.that|WITH|gen|TLE.WORK|did|FRAME) [meter=wswwswssws score=6 w_stress=4 unres_across=2],\n",
       " (Parse: those|HO|urs.that|WITH|gen.tle|WORK|did.frame) [meter=wswwswwsww score=7 w_stress=4 unres_across=2 unres_within=1],\n",
       " (Parse: those|HO|urs.that|WITH|gen.tle|WORK|did|FRAME) [meter=wswwswwsws score=6 w_stress=4 unres_across=1 unres_within=1],\n",
       " (Parse: those|HO|urs.that|WITH|gen.tle|WORK.DID|frame) [meter=wswwswwssw score=7 w_stress=4 unres_across=2 unres_within=1],\n",
       " (Parse: those|HO|urs.that|WITH.GEN|tle|WORK|did.frame) [meter=wswwsswsww score=7 w_stress=4 unres_across=3],\n",
       " (Parse: those|HO|urs.that|WITH.GEN|tle|WORK|did|FRAME) [meter=wswwsswsws score=6 w_stress=4 unres_across=2],\n",
       " (Parse: those|HO|urs.that|WITH.GEN|tle|WORK.DID|frame) [meter=wswwsswssw score=7 w_stress=4 unres_across=3],\n",
       " (Parse: those|HO|urs.that|WITH.GEN|tle.work|DID.FRAME) [meter=wswwsswwss score=7 w_stress=3 unres_across=4],\n",
       " (Parse: those|HO|urs.that|WITH.GEN|tle.work|DID|frame) [meter=wswwsswwsw score=7 w_stress=4 unres_across=3],\n",
       " (Parse: those|HO.URS|that|WITH|gen|TLE|work|DID.FRAME) [meter=wsswswswss score=6 w_stress=4 unres_across=1 unres_within=1],\n",
       " (Parse: those|HO.URS|that|WITH|gen|TLE|work|DID|frame) [meter=wsswswswsw score=6 w_stress=5 unres_within=1],\n",
       " (Parse: those|HO.URS|that|WITH|gen|TLE|work.did|FRAME) [meter=wsswswswws score=6 w_stress=4 unres_across=1 unres_within=1],\n",
       " (Parse: those|HO.URS|that|WITH|gen|TLE.WORK|did.frame) [meter=wsswswssww score=7 w_stress=4 unres_across=2 unres_within=1],\n",
       " (Parse: those|HO.URS|that|WITH|gen|TLE.WORK|did|FRAME) [meter=wsswswssws score=6 w_stress=4 unres_across=1 unres_within=1],\n",
       " (Parse: those|HO.URS|that|WITH|gen.tle|WORK|did.frame) [meter=wsswswwsww score=7 w_stress=4 unres_across=1 unres_within=2],\n",
       " (Parse: those|HO.URS|that|WITH|gen.tle|WORK|did|FRAME) [meter=wsswswwsws score=6 w_stress=4 unres_within=2],\n",
       " (Parse: those|HO.URS|that|WITH|gen.tle|WORK.DID|frame) [meter=wsswswwssw score=7 w_stress=4 unres_across=1 unres_within=2],\n",
       " (Parse: those|HO.URS|that|WITH.GEN|tle|WORK|did.frame) [meter=wsswsswsww score=7 w_stress=4 unres_across=2 unres_within=1],\n",
       " (Parse: those|HO.URS|that|WITH.GEN|tle|WORK|did|FRAME) [meter=wsswsswsws score=6 w_stress=4 unres_across=1 unres_within=1],\n",
       " (Parse: those|HO.URS|that|WITH.GEN|tle|WORK.DID|frame) [meter=wsswsswssw score=7 w_stress=4 unres_across=2 unres_within=1],\n",
       " (Parse: those|HO.URS|that|WITH.GEN|tle.work|DID.FRAME) [meter=wsswsswwss score=7 w_stress=3 unres_across=3 unres_within=1],\n",
       " (Parse: those|HO.URS|that|WITH.GEN|tle.work|DID|frame) [meter=wsswsswwsw score=7 w_stress=4 unres_across=2 unres_within=1],\n",
       " (Parse: those|HO.URS|that.with|GEN|tle|WORK|did.frame) [meter=wsswwswsww score=7 w_stress=4 unres_across=2 unres_within=1],\n",
       " (Parse: those|HO.URS|that.with|GEN|tle|WORK|did|FRAME) [meter=wsswwswsws score=6 w_stress=4 unres_across=1 unres_within=1],\n",
       " (Parse: those|HO.URS|that.with|GEN|tle|WORK.DID|frame) [meter=wsswwswssw score=7 w_stress=4 unres_across=2 unres_within=1],\n",
       " (Parse: those|HO.URS|that.with|GEN|tle.work|DID.FRAME) [meter=wsswwswwss score=7 w_stress=3 unres_across=3 unres_within=1],\n",
       " (Parse: those|HO.URS|that.with|GEN|tle.work|DID|frame) [meter=wsswwswwsw score=7 w_stress=4 unres_across=2 unres_within=1],\n",
       " (Parse: those|HO.URS|that.with|GEN.TLE|work|DID.FRAME) [meter=wsswwsswss score=7 w_stress=3 unres_across=2 unres_within=2],\n",
       " (Parse: those|HO.URS|that.with|GEN.TLE|work|DID|frame) [meter=wsswwsswsw score=7 w_stress=4 unres_across=1 unres_within=2],\n",
       " (Parse: those|HO.URS|that.with|GEN.TLE|work.did|FRAME) [meter=wsswwsswws score=7 w_stress=3 unres_across=2 unres_within=2],\n",
       " (Parse: those.ho|URS|that|WITH|gen|TLE|work|DID.FRAME) [meter=wwswswswss score=6 w_stress=4 unres_across=2],\n",
       " (Parse: those.ho|URS|that|WITH|gen|TLE|work|DID|frame) [meter=wwswswswsw score=6 w_stress=5 unres_across=1],\n",
       " (Parse: those.ho|URS|that|WITH|gen|TLE|work.did|FRAME) [meter=wwswswswws score=6 w_stress=4 unres_across=2],\n",
       " (Parse: those.ho|URS|that|WITH|gen|TLE.WORK|did.frame) [meter=wwswswssww score=7 w_stress=4 unres_across=3],\n",
       " (Parse: those.ho|URS|that|WITH|gen|TLE.WORK|did|FRAME) [meter=wwswswssws score=6 w_stress=4 unres_across=2],\n",
       " (Parse: those.ho|URS|that|WITH|gen.tle|WORK|did.frame) [meter=wwswswwsww score=7 w_stress=4 unres_across=2 unres_within=1],\n",
       " (Parse: those.ho|URS|that|WITH|gen.tle|WORK|did|FRAME) [meter=wwswswwsws score=6 w_stress=4 unres_across=1 unres_within=1],\n",
       " (Parse: those.ho|URS|that|WITH|gen.tle|WORK.DID|frame) [meter=wwswswwssw score=7 w_stress=4 unres_across=2 unres_within=1],\n",
       " (Parse: those.ho|URS|that|WITH.GEN|tle|WORK|did.frame) [meter=wwswsswsww score=7 w_stress=4 unres_across=3],\n",
       " (Parse: those.ho|URS|that|WITH.GEN|tle|WORK|did|FRAME) [meter=wwswsswsws score=6 w_stress=4 unres_across=2],\n",
       " (Parse: those.ho|URS|that|WITH.GEN|tle|WORK.DID|frame) [meter=wwswsswssw score=7 w_stress=4 unres_across=3],\n",
       " (Parse: those.ho|URS|that|WITH.GEN|tle.work|DID.FRAME) [meter=wwswsswwss score=7 w_stress=3 unres_across=4],\n",
       " (Parse: those.ho|URS|that|WITH.GEN|tle.work|DID|frame) [meter=wwswsswwsw score=7 w_stress=4 unres_across=3],\n",
       " (Parse: those.ho|URS|that.with|GEN|tle|WORK|did.frame) [meter=wwswwswsww score=7 w_stress=4 unres_across=3],\n",
       " (Parse: those.ho|URS|that.with|GEN|tle|WORK|did|FRAME) [meter=wwswwswsws score=6 w_stress=4 unres_across=2],\n",
       " (Parse: those.ho|URS|that.with|GEN|tle|WORK.DID|frame) [meter=wwswwswssw score=7 w_stress=4 unres_across=3],\n",
       " (Parse: those.ho|URS|that.with|GEN|tle.work|DID.FRAME) [meter=wwswwswwss score=7 w_stress=3 unres_across=4],\n",
       " (Parse: those.ho|URS|that.with|GEN|tle.work|DID|frame) [meter=wwswwswwsw score=7 w_stress=4 unres_across=3],\n",
       " (Parse: those.ho|URS|that.with|GEN.TLE|work|DID.FRAME) [meter=wwswwsswss score=7 w_stress=3 unres_across=3 unres_within=1],\n",
       " (Parse: those.ho|URS|that.with|GEN.TLE|work|DID|frame) [meter=wwswwsswsw score=7 w_stress=4 unres_across=2 unres_within=1],\n",
       " (Parse: those.ho|URS|that.with|GEN.TLE|work.did|FRAME) [meter=wwswwsswws score=7 w_stress=3 unres_across=3 unres_within=1],\n",
       " (Parse: those.ho|URS.THAT|with|GEN|tle|WORK|did.frame) [meter=wwsswswsww score=7 w_stress=4 unres_across=3],\n",
       " (Parse: those.ho|URS.THAT|with|GEN|tle|WORK|did|FRAME) [meter=wwsswswsws score=6 w_stress=4 unres_across=2],\n",
       " (Parse: those.ho|URS.THAT|with|GEN|tle|WORK.DID|frame) [meter=wwsswswssw score=7 w_stress=4 unres_across=3],\n",
       " (Parse: those.ho|URS.THAT|with|GEN|tle.work|DID.FRAME) [meter=wwsswswwss score=7 w_stress=3 unres_across=4],\n",
       " (Parse: those.ho|URS.THAT|with|GEN|tle.work|DID|frame) [meter=wwsswswwsw score=7 w_stress=4 unres_across=3],\n",
       " (Parse: those.ho|URS.THAT|with|GEN.TLE|work|DID.FRAME) [meter=wwsswsswss score=7 w_stress=3 unres_across=3 unres_within=1],\n",
       " (Parse: those.ho|URS.THAT|with|GEN.TLE|work|DID|frame) [meter=wwsswsswsw score=7 w_stress=4 unres_across=2 unres_within=1],\n",
       " (Parse: those.ho|URS.THAT|with|GEN.TLE|work.did|FRAME) [meter=wwsswsswws score=7 w_stress=3 unres_across=3 unres_within=1],\n",
       " (Parse: those.ho|URS.THAT|with.gen|TLE|work|DID.FRAME) [meter=wwsswwswss score=7 w_stress=3 unres_across=4],\n",
       " (Parse: those.ho|URS.THAT|with.gen|TLE|work|DID|frame) [meter=wwsswwswsw score=7 w_stress=4 unres_across=3],\n",
       " (Parse: those.ho|URS.THAT|with.gen|TLE|work.did|FRAME) [meter=wwsswwswws score=7 w_stress=3 unres_across=4],\n",
       " (Parse: those.ho|URS.THAT|with.gen|TLE.WORK|did.frame) [meter=wwsswwssww score=8 w_stress=3 unres_across=5],\n",
       " (Parse: those.ho|URS.THAT|with.gen|TLE.WORK|did|FRAME) [meter=wwsswwssws score=7 w_stress=3 unres_across=4],\n",
       " (Parse: THOSE|ho|URS|that|WITH|gen|TLE.WORK|did.frame) [meter=swswswssww score=6 w_stress=4 unres_across=2],\n",
       " (Parse: THOSE|ho|URS|that|WITH|gen.tle|WORK|did.frame) [meter=swswswwsww score=6 w_stress=4 unres_across=1 unres_within=1],\n",
       " (Parse: THOSE|ho|URS|that|WITH|gen.tle|WORK.DID|frame) [meter=swswswwssw score=6 w_stress=4 unres_across=1 unres_within=1],\n",
       " (Parse: THOSE|ho|URS|that|WITH.GEN|tle|WORK|did.frame) [meter=swswsswsww score=6 w_stress=4 unres_across=2],\n",
       " (Parse: THOSE|ho|URS|that|WITH.GEN|tle|WORK.DID|frame) [meter=swswsswssw score=6 w_stress=4 unres_across=2],\n",
       " (Parse: THOSE|ho|URS|that|WITH.GEN|tle.work|DID|frame) [meter=swswsswwsw score=6 w_stress=4 unres_across=2],\n",
       " (Parse: THOSE|ho|URS|that.with|GEN|tle|WORK|did.frame) [meter=swswwswsww score=6 w_stress=4 unres_across=2],\n",
       " (Parse: THOSE|ho|URS|that.with|GEN|tle|WORK.DID|frame) [meter=swswwswssw score=6 w_stress=4 unres_across=2],\n",
       " (Parse: THOSE|ho|URS|that.with|GEN|tle.work|DID|frame) [meter=swswwswwsw score=6 w_stress=4 unres_across=2],\n",
       " (Parse: THOSE|ho|URS|that.with|GEN.TLE|work|DID|frame) [meter=swswwsswsw score=6 w_stress=4 unres_across=1 unres_within=1],\n",
       " (Parse: THOSE|ho|URS.THAT|with|GEN|tle|WORK|did.frame) [meter=swsswswsww score=6 w_stress=4 unres_across=2],\n",
       " (Parse: THOSE|ho|URS.THAT|with|GEN|tle|WORK.DID|frame) [meter=swsswswssw score=6 w_stress=4 unres_across=2],\n",
       " (Parse: THOSE|ho|URS.THAT|with|GEN|tle.work|DID|frame) [meter=swsswswwsw score=6 w_stress=4 unres_across=2],\n",
       " (Parse: THOSE|ho|URS.THAT|with|GEN.TLE|work|DID|frame) [meter=swsswsswsw score=6 w_stress=4 unres_across=1 unres_within=1],\n",
       " (Parse: THOSE|ho|URS.THAT|with.gen|TLE|work|DID|frame) [meter=swsswwswsw score=6 w_stress=4 unres_across=2],\n",
       " (Parse: THOSE|ho|URS.THAT|with.gen|TLE.WORK|did.frame) [meter=swsswwssww score=7 w_stress=3 unres_across=4],\n",
       " (Parse: THOSE|ho.urs|THAT|with|GEN|tle|WORK|did.frame) [meter=swwswswsww score=6 w_stress=4 unres_across=1 unres_within=1],\n",
       " (Parse: THOSE|ho.urs|THAT|with|GEN|tle|WORK.DID|frame) [meter=swwswswssw score=6 w_stress=4 unres_across=1 unres_within=1],\n",
       " (Parse: THOSE|ho.urs|THAT|with|GEN|tle.work|DID|frame) [meter=swwswswwsw score=6 w_stress=4 unres_across=1 unres_within=1],\n",
       " (Parse: THOSE|ho.urs|THAT|with|GEN.TLE|work|DID|frame) [meter=swwswsswsw score=6 w_stress=4 unres_within=2],\n",
       " (Parse: THOSE|ho.urs|THAT|with.gen|TLE|work|DID|frame) [meter=swwswwswsw score=6 w_stress=4 unres_across=1 unres_within=1],\n",
       " (Parse: THOSE|ho.urs|THAT|with.gen|TLE.WORK|did.frame) [meter=swwswwssww score=7 w_stress=3 unres_across=3 unres_within=1],\n",
       " (Parse: THOSE|ho.urs|THAT.WITH|gen|TLE|work|DID|frame) [meter=swwsswswsw score=6 w_stress=4 unres_across=1 unres_within=1],\n",
       " (Parse: THOSE|ho.urs|THAT.WITH|gen|TLE.WORK|did.frame) [meter=swwsswssww score=7 w_stress=3 unres_across=3 unres_within=1],\n",
       " (Parse: THOSE|ho.urs|THAT.WITH|gen.tle|WORK|did.frame) [meter=swwsswwsww score=7 w_stress=3 unres_across=2 unres_within=2],\n",
       " (Parse: THOSE|ho.urs|THAT.WITH|gen.tle|WORK.DID|frame) [meter=swwsswwssw score=7 w_stress=3 unres_across=2 unres_within=2],\n",
       " (Parse: THOSE.HO|urs|THAT|with|GEN|tle|WORK|did.frame) [meter=sswswswsww score=6 w_stress=4 unres_across=2],\n",
       " (Parse: THOSE.HO|urs|THAT|with|GEN|tle|WORK.DID|frame) [meter=sswswswssw score=6 w_stress=4 unres_across=2],\n",
       " (Parse: THOSE.HO|urs|THAT|with|GEN|tle.work|DID|frame) [meter=sswswswwsw score=6 w_stress=4 unres_across=2],\n",
       " (Parse: THOSE.HO|urs|THAT|with|GEN.TLE|work|DID|frame) [meter=sswswsswsw score=6 w_stress=4 unres_across=1 unres_within=1],\n",
       " (Parse: THOSE.HO|urs|THAT|with.gen|TLE|work|DID|frame) [meter=sswswwswsw score=6 w_stress=4 unres_across=2],\n",
       " (Parse: THOSE.HO|urs|THAT|with.gen|TLE.WORK|did.frame) [meter=sswswwssww score=7 w_stress=3 unres_across=4],\n",
       " (Parse: THOSE.HO|urs|THAT.WITH|gen|TLE|work|DID|frame) [meter=sswsswswsw score=6 w_stress=4 unres_across=2],\n",
       " (Parse: THOSE.HO|urs|THAT.WITH|gen|TLE.WORK|did.frame) [meter=sswsswssww score=7 w_stress=3 unres_across=4],\n",
       " (Parse: THOSE.HO|urs|THAT.WITH|gen.tle|WORK|did.frame) [meter=sswsswwsww score=7 w_stress=3 unres_across=3 unres_within=1],\n",
       " (Parse: THOSE.HO|urs|THAT.WITH|gen.tle|WORK.DID|frame) [meter=sswsswwssw score=7 w_stress=3 unres_across=3 unres_within=1],\n",
       " (Parse: THOSE.HO|urs.that|WITH|gen|TLE|work|DID|frame) [meter=sswwswswsw score=6 w_stress=4 unres_across=2],\n",
       " (Parse: THOSE.HO|urs.that|WITH|gen|TLE.WORK|did.frame) [meter=sswwswssww score=7 w_stress=3 unres_across=4],\n",
       " (Parse: THOSE.HO|urs.that|WITH|gen.tle|WORK|did.frame) [meter=sswwswwsww score=7 w_stress=3 unres_across=3 unres_within=1],\n",
       " (Parse: THOSE.HO|urs.that|WITH|gen.tle|WORK.DID|frame) [meter=sswwswwssw score=7 w_stress=3 unres_across=3 unres_within=1],\n",
       " (Parse: THOSE.HO|urs.that|WITH.GEN|tle|WORK|did.frame) [meter=sswwsswsww score=7 w_stress=3 unres_across=4],\n",
       " (Parse: THOSE.HO|urs.that|WITH.GEN|tle|WORK.DID|frame) [meter=sswwsswssw score=7 w_stress=3 unres_across=4],\n",
       " (Parse: THOSE.HO|urs.that|WITH.GEN|tle.work|DID|frame) [meter=sswwsswwsw score=7 w_stress=3 unres_across=4]]"
      ]
     },
     "execution_count": 22,
     "metadata": {},
     "output_type": "execute_result"
    }
   ],
   "source": [
    "bparses"
   ]
  },
  {
   "cell_type": "code",
   "execution_count": 23,
   "metadata": {},
   "outputs": [
    {
     "data": {
      "text/plain": [
       "[(Parse: those|HO|urs|THAT|with|GEN|tle|WORK|did.frame) [meter=wswswswsww score=6 w_stress=5 unres_across=1],\n",
       " (Parse: those|HO|urs|THAT|with|GEN|tle|WORK.DID|frame) [meter=wswswswssw score=6 w_stress=5 unres_across=1],\n",
       " (Parse: those|HO|urs|THAT|with|GEN|tle.work|DID.FRAME) [meter=wswswswwss score=6 w_stress=4 unres_across=2],\n",
       " (Parse: those|HO|urs|THAT|with|GEN|tle.work|DID|frame) [meter=wswswswwsw score=6 w_stress=5 unres_across=1],\n",
       " (Parse: those|HO|urs|THAT|with|GEN.TLE|work|DID.FRAME) [meter=wswswsswss score=6 w_stress=4 unres_across=1 unres_within=1],\n",
       " (Parse: those|HO|urs|THAT|with|GEN.TLE|work|DID|frame) [meter=wswswsswsw score=6 w_stress=5 unres_within=1],\n",
       " (Parse: those|HO|urs|THAT|with|GEN.TLE|work.did|FRAME) [meter=wswswsswws score=6 w_stress=4 unres_across=1 unres_within=1],\n",
       " (Parse: those|HO|urs|THAT|with.gen|TLE|work|DID.FRAME) [meter=wswswwswss score=6 w_stress=4 unres_across=2],\n",
       " (Parse: those|HO|urs|THAT|with.gen|TLE|work|DID|frame) [meter=wswswwswsw score=6 w_stress=5 unres_across=1],\n",
       " (Parse: those|HO|urs|THAT|with.gen|TLE|work.did|FRAME) [meter=wswswwswws score=6 w_stress=4 unres_across=2],\n",
       " (Parse: those|HO|urs|THAT|with.gen|TLE.WORK|did.frame) [meter=wswswwssww score=7 w_stress=4 unres_across=3],\n",
       " (Parse: those|HO|urs|THAT|with.gen|TLE.WORK|did|FRAME) [meter=wswswwssws score=6 w_stress=4 unres_across=2],\n",
       " (Parse: those|HO|urs|THAT.WITH|gen|TLE|work|DID.FRAME) [meter=wswsswswss score=6 w_stress=4 unres_across=2],\n",
       " (Parse: those|HO|urs|THAT.WITH|gen|TLE|work|DID|frame) [meter=wswsswswsw score=6 w_stress=5 unres_across=1],\n",
       " (Parse: those|HO|urs|THAT.WITH|gen|TLE|work.did|FRAME) [meter=wswsswswws score=6 w_stress=4 unres_across=2],\n",
       " (Parse: those|HO|urs|THAT.WITH|gen|TLE.WORK|did.frame) [meter=wswsswssww score=7 w_stress=4 unres_across=3],\n",
       " (Parse: those|HO|urs|THAT.WITH|gen|TLE.WORK|did|FRAME) [meter=wswsswssws score=6 w_stress=4 unres_across=2],\n",
       " (Parse: those|HO|urs|THAT.WITH|gen.tle|WORK|did.frame) [meter=wswsswwsww score=7 w_stress=4 unres_across=2 unres_within=1],\n",
       " (Parse: those|HO|urs|THAT.WITH|gen.tle|WORK|did|FRAME) [meter=wswsswwsws score=6 w_stress=4 unres_across=1 unres_within=1],\n",
       " (Parse: those|HO|urs|THAT.WITH|gen.tle|WORK.DID|frame) [meter=wswsswwssw score=7 w_stress=4 unres_across=2 unres_within=1],\n",
       " (Parse: those|HO|urs.that|WITH|gen|TLE|work|DID.FRAME) [meter=wswwswswss score=6 w_stress=4 unres_across=2],\n",
       " (Parse: those|HO|urs.that|WITH|gen|TLE|work|DID|frame) [meter=wswwswswsw score=6 w_stress=5 unres_across=1],\n",
       " (Parse: those|HO|urs.that|WITH|gen|TLE|work.did|FRAME) [meter=wswwswswws score=6 w_stress=4 unres_across=2],\n",
       " (Parse: those|HO|urs.that|WITH|gen|TLE.WORK|did.frame) [meter=wswwswssww score=7 w_stress=4 unres_across=3],\n",
       " (Parse: those|HO|urs.that|WITH|gen|TLE.WORK|did|FRAME) [meter=wswwswssws score=6 w_stress=4 unres_across=2],\n",
       " (Parse: those|HO|urs.that|WITH|gen.tle|WORK|did.frame) [meter=wswwswwsww score=7 w_stress=4 unres_across=2 unres_within=1],\n",
       " (Parse: those|HO|urs.that|WITH|gen.tle|WORK|did|FRAME) [meter=wswwswwsws score=6 w_stress=4 unres_across=1 unres_within=1],\n",
       " (Parse: those|HO|urs.that|WITH|gen.tle|WORK.DID|frame) [meter=wswwswwssw score=7 w_stress=4 unres_across=2 unres_within=1],\n",
       " (Parse: those|HO|urs.that|WITH.GEN|tle|WORK|did.frame) [meter=wswwsswsww score=7 w_stress=4 unres_across=3],\n",
       " (Parse: those|HO|urs.that|WITH.GEN|tle|WORK|did|FRAME) [meter=wswwsswsws score=6 w_stress=4 unres_across=2],\n",
       " (Parse: those|HO|urs.that|WITH.GEN|tle|WORK.DID|frame) [meter=wswwsswssw score=7 w_stress=4 unres_across=3],\n",
       " (Parse: those|HO|urs.that|WITH.GEN|tle.work|DID.FRAME) [meter=wswwsswwss score=7 w_stress=3 unres_across=4],\n",
       " (Parse: those|HO|urs.that|WITH.GEN|tle.work|DID|frame) [meter=wswwsswwsw score=7 w_stress=4 unres_across=3],\n",
       " (Parse: those|HO.URS|that|WITH|gen|TLE|work|DID.FRAME) [meter=wsswswswss score=6 w_stress=4 unres_across=1 unres_within=1],\n",
       " (Parse: those|HO.URS|that|WITH|gen|TLE|work|DID|frame) [meter=wsswswswsw score=6 w_stress=5 unres_within=1],\n",
       " (Parse: those|HO.URS|that|WITH|gen|TLE|work.did|FRAME) [meter=wsswswswws score=6 w_stress=4 unres_across=1 unres_within=1],\n",
       " (Parse: those|HO.URS|that|WITH|gen|TLE.WORK|did.frame) [meter=wsswswssww score=7 w_stress=4 unres_across=2 unres_within=1],\n",
       " (Parse: those|HO.URS|that|WITH|gen|TLE.WORK|did|FRAME) [meter=wsswswssws score=6 w_stress=4 unres_across=1 unres_within=1],\n",
       " (Parse: those|HO.URS|that|WITH|gen.tle|WORK|did.frame) [meter=wsswswwsww score=7 w_stress=4 unres_across=1 unres_within=2],\n",
       " (Parse: those|HO.URS|that|WITH|gen.tle|WORK|did|FRAME) [meter=wsswswwsws score=6 w_stress=4 unres_within=2],\n",
       " (Parse: those|HO.URS|that|WITH|gen.tle|WORK.DID|frame) [meter=wsswswwssw score=7 w_stress=4 unres_across=1 unres_within=2],\n",
       " (Parse: those|HO.URS|that|WITH.GEN|tle|WORK|did.frame) [meter=wsswsswsww score=7 w_stress=4 unres_across=2 unres_within=1],\n",
       " (Parse: those|HO.URS|that|WITH.GEN|tle|WORK|did|FRAME) [meter=wsswsswsws score=6 w_stress=4 unres_across=1 unres_within=1],\n",
       " (Parse: those|HO.URS|that|WITH.GEN|tle|WORK.DID|frame) [meter=wsswsswssw score=7 w_stress=4 unres_across=2 unres_within=1],\n",
       " (Parse: those|HO.URS|that|WITH.GEN|tle.work|DID.FRAME) [meter=wsswsswwss score=7 w_stress=3 unres_across=3 unres_within=1],\n",
       " (Parse: those|HO.URS|that|WITH.GEN|tle.work|DID|frame) [meter=wsswsswwsw score=7 w_stress=4 unres_across=2 unres_within=1],\n",
       " (Parse: those|HO.URS|that.with|GEN|tle|WORK|did.frame) [meter=wsswwswsww score=7 w_stress=4 unres_across=2 unres_within=1],\n",
       " (Parse: those|HO.URS|that.with|GEN|tle|WORK|did|FRAME) [meter=wsswwswsws score=6 w_stress=4 unres_across=1 unres_within=1],\n",
       " (Parse: those|HO.URS|that.with|GEN|tle|WORK.DID|frame) [meter=wsswwswssw score=7 w_stress=4 unres_across=2 unres_within=1],\n",
       " (Parse: those|HO.URS|that.with|GEN|tle.work|DID.FRAME) [meter=wsswwswwss score=7 w_stress=3 unres_across=3 unres_within=1],\n",
       " (Parse: those|HO.URS|that.with|GEN|tle.work|DID|frame) [meter=wsswwswwsw score=7 w_stress=4 unres_across=2 unres_within=1],\n",
       " (Parse: those|HO.URS|that.with|GEN.TLE|work|DID.FRAME) [meter=wsswwsswss score=7 w_stress=3 unres_across=2 unres_within=2],\n",
       " (Parse: those|HO.URS|that.with|GEN.TLE|work|DID|frame) [meter=wsswwsswsw score=7 w_stress=4 unres_across=1 unres_within=2],\n",
       " (Parse: those|HO.URS|that.with|GEN.TLE|work.did|FRAME) [meter=wsswwsswws score=7 w_stress=3 unres_across=2 unres_within=2],\n",
       " (Parse: those.ho|URS|that|WITH|gen|TLE|work|DID.FRAME) [meter=wwswswswss score=6 w_stress=4 unres_across=2],\n",
       " (Parse: those.ho|URS|that|WITH|gen|TLE|work|DID|frame) [meter=wwswswswsw score=6 w_stress=5 unres_across=1],\n",
       " (Parse: those.ho|URS|that|WITH|gen|TLE|work.did|FRAME) [meter=wwswswswws score=6 w_stress=4 unres_across=2],\n",
       " (Parse: those.ho|URS|that|WITH|gen|TLE.WORK|did.frame) [meter=wwswswssww score=7 w_stress=4 unres_across=3],\n",
       " (Parse: those.ho|URS|that|WITH|gen|TLE.WORK|did|FRAME) [meter=wwswswssws score=6 w_stress=4 unres_across=2],\n",
       " (Parse: those.ho|URS|that|WITH|gen.tle|WORK|did.frame) [meter=wwswswwsww score=7 w_stress=4 unres_across=2 unres_within=1],\n",
       " (Parse: those.ho|URS|that|WITH|gen.tle|WORK|did|FRAME) [meter=wwswswwsws score=6 w_stress=4 unres_across=1 unres_within=1],\n",
       " (Parse: those.ho|URS|that|WITH|gen.tle|WORK.DID|frame) [meter=wwswswwssw score=7 w_stress=4 unres_across=2 unres_within=1],\n",
       " (Parse: those.ho|URS|that|WITH.GEN|tle|WORK|did.frame) [meter=wwswsswsww score=7 w_stress=4 unres_across=3],\n",
       " (Parse: those.ho|URS|that|WITH.GEN|tle|WORK|did|FRAME) [meter=wwswsswsws score=6 w_stress=4 unres_across=2],\n",
       " (Parse: those.ho|URS|that|WITH.GEN|tle|WORK.DID|frame) [meter=wwswsswssw score=7 w_stress=4 unres_across=3],\n",
       " (Parse: those.ho|URS|that|WITH.GEN|tle.work|DID.FRAME) [meter=wwswsswwss score=7 w_stress=3 unres_across=4],\n",
       " (Parse: those.ho|URS|that|WITH.GEN|tle.work|DID|frame) [meter=wwswsswwsw score=7 w_stress=4 unres_across=3],\n",
       " (Parse: those.ho|URS|that.with|GEN|tle|WORK|did.frame) [meter=wwswwswsww score=7 w_stress=4 unres_across=3],\n",
       " (Parse: those.ho|URS|that.with|GEN|tle|WORK|did|FRAME) [meter=wwswwswsws score=6 w_stress=4 unres_across=2],\n",
       " (Parse: those.ho|URS|that.with|GEN|tle|WORK.DID|frame) [meter=wwswwswssw score=7 w_stress=4 unres_across=3],\n",
       " (Parse: those.ho|URS|that.with|GEN|tle.work|DID.FRAME) [meter=wwswwswwss score=7 w_stress=3 unres_across=4],\n",
       " (Parse: those.ho|URS|that.with|GEN|tle.work|DID|frame) [meter=wwswwswwsw score=7 w_stress=4 unres_across=3],\n",
       " (Parse: those.ho|URS|that.with|GEN.TLE|work|DID.FRAME) [meter=wwswwsswss score=7 w_stress=3 unres_across=3 unres_within=1],\n",
       " (Parse: those.ho|URS|that.with|GEN.TLE|work|DID|frame) [meter=wwswwsswsw score=7 w_stress=4 unres_across=2 unres_within=1],\n",
       " (Parse: those.ho|URS|that.with|GEN.TLE|work.did|FRAME) [meter=wwswwsswws score=7 w_stress=3 unres_across=3 unres_within=1],\n",
       " (Parse: those.ho|URS.THAT|with|GEN|tle|WORK|did.frame) [meter=wwsswswsww score=7 w_stress=4 unres_across=3],\n",
       " (Parse: those.ho|URS.THAT|with|GEN|tle|WORK|did|FRAME) [meter=wwsswswsws score=6 w_stress=4 unres_across=2],\n",
       " (Parse: those.ho|URS.THAT|with|GEN|tle|WORK.DID|frame) [meter=wwsswswssw score=7 w_stress=4 unres_across=3],\n",
       " (Parse: those.ho|URS.THAT|with|GEN|tle.work|DID.FRAME) [meter=wwsswswwss score=7 w_stress=3 unres_across=4],\n",
       " (Parse: those.ho|URS.THAT|with|GEN|tle.work|DID|frame) [meter=wwsswswwsw score=7 w_stress=4 unres_across=3],\n",
       " (Parse: those.ho|URS.THAT|with|GEN.TLE|work|DID.FRAME) [meter=wwsswsswss score=7 w_stress=3 unres_across=3 unres_within=1],\n",
       " (Parse: those.ho|URS.THAT|with|GEN.TLE|work|DID|frame) [meter=wwsswsswsw score=7 w_stress=4 unres_across=2 unres_within=1],\n",
       " (Parse: those.ho|URS.THAT|with|GEN.TLE|work.did|FRAME) [meter=wwsswsswws score=7 w_stress=3 unres_across=3 unres_within=1],\n",
       " (Parse: those.ho|URS.THAT|with.gen|TLE|work|DID.FRAME) [meter=wwsswwswss score=7 w_stress=3 unres_across=4],\n",
       " (Parse: those.ho|URS.THAT|with.gen|TLE|work|DID|frame) [meter=wwsswwswsw score=7 w_stress=4 unres_across=3],\n",
       " (Parse: those.ho|URS.THAT|with.gen|TLE|work.did|FRAME) [meter=wwsswwswws score=7 w_stress=3 unres_across=4],\n",
       " (Parse: those.ho|URS.THAT|with.gen|TLE.WORK|did.frame) [meter=wwsswwssww score=8 w_stress=3 unres_across=5],\n",
       " (Parse: those.ho|URS.THAT|with.gen|TLE.WORK|did|FRAME) [meter=wwsswwssws score=7 w_stress=3 unres_across=4],\n",
       " (Parse: THOSE|ho|URS|that|WITH|gen|TLE.WORK|did.frame) [meter=swswswssww score=6 w_stress=4 unres_across=2],\n",
       " (Parse: THOSE|ho|URS|that|WITH|gen.tle|WORK|did.frame) [meter=swswswwsww score=6 w_stress=4 unres_across=1 unres_within=1],\n",
       " (Parse: THOSE|ho|URS|that|WITH|gen.tle|WORK.DID|frame) [meter=swswswwssw score=6 w_stress=4 unres_across=1 unres_within=1],\n",
       " (Parse: THOSE|ho|URS|that|WITH.GEN|tle|WORK|did.frame) [meter=swswsswsww score=6 w_stress=4 unres_across=2],\n",
       " (Parse: THOSE|ho|URS|that|WITH.GEN|tle|WORK.DID|frame) [meter=swswsswssw score=6 w_stress=4 unres_across=2],\n",
       " (Parse: THOSE|ho|URS|that|WITH.GEN|tle.work|DID|frame) [meter=swswsswwsw score=6 w_stress=4 unres_across=2],\n",
       " (Parse: THOSE|ho|URS|that.with|GEN|tle|WORK|did.frame) [meter=swswwswsww score=6 w_stress=4 unres_across=2],\n",
       " (Parse: THOSE|ho|URS|that.with|GEN|tle|WORK.DID|frame) [meter=swswwswssw score=6 w_stress=4 unres_across=2],\n",
       " (Parse: THOSE|ho|URS|that.with|GEN|tle.work|DID|frame) [meter=swswwswwsw score=6 w_stress=4 unres_across=2],\n",
       " (Parse: THOSE|ho|URS|that.with|GEN.TLE|work|DID|frame) [meter=swswwsswsw score=6 w_stress=4 unres_across=1 unres_within=1],\n",
       " (Parse: THOSE|ho|URS.THAT|with|GEN|tle|WORK|did.frame) [meter=swsswswsww score=6 w_stress=4 unres_across=2],\n",
       " (Parse: THOSE|ho|URS.THAT|with|GEN|tle|WORK.DID|frame) [meter=swsswswssw score=6 w_stress=4 unres_across=2],\n",
       " (Parse: THOSE|ho|URS.THAT|with|GEN|tle.work|DID|frame) [meter=swsswswwsw score=6 w_stress=4 unres_across=2],\n",
       " (Parse: THOSE|ho|URS.THAT|with|GEN.TLE|work|DID|frame) [meter=swsswsswsw score=6 w_stress=4 unres_across=1 unres_within=1],\n",
       " (Parse: THOSE|ho|URS.THAT|with.gen|TLE|work|DID|frame) [meter=swsswwswsw score=6 w_stress=4 unres_across=2],\n",
       " (Parse: THOSE|ho|URS.THAT|with.gen|TLE.WORK|did.frame) [meter=swsswwssww score=7 w_stress=3 unres_across=4],\n",
       " (Parse: THOSE|ho.urs|THAT|with|GEN|tle|WORK|did.frame) [meter=swwswswsww score=6 w_stress=4 unres_across=1 unres_within=1],\n",
       " (Parse: THOSE|ho.urs|THAT|with|GEN|tle|WORK.DID|frame) [meter=swwswswssw score=6 w_stress=4 unres_across=1 unres_within=1],\n",
       " (Parse: THOSE|ho.urs|THAT|with|GEN|tle.work|DID|frame) [meter=swwswswwsw score=6 w_stress=4 unres_across=1 unres_within=1],\n",
       " (Parse: THOSE|ho.urs|THAT|with|GEN.TLE|work|DID|frame) [meter=swwswsswsw score=6 w_stress=4 unres_within=2],\n",
       " (Parse: THOSE|ho.urs|THAT|with.gen|TLE|work|DID|frame) [meter=swwswwswsw score=6 w_stress=4 unres_across=1 unres_within=1],\n",
       " (Parse: THOSE|ho.urs|THAT|with.gen|TLE.WORK|did.frame) [meter=swwswwssww score=7 w_stress=3 unres_across=3 unres_within=1],\n",
       " (Parse: THOSE|ho.urs|THAT.WITH|gen|TLE|work|DID|frame) [meter=swwsswswsw score=6 w_stress=4 unres_across=1 unres_within=1],\n",
       " (Parse: THOSE|ho.urs|THAT.WITH|gen|TLE.WORK|did.frame) [meter=swwsswssww score=7 w_stress=3 unres_across=3 unres_within=1],\n",
       " (Parse: THOSE|ho.urs|THAT.WITH|gen.tle|WORK|did.frame) [meter=swwsswwsww score=7 w_stress=3 unres_across=2 unres_within=2],\n",
       " (Parse: THOSE|ho.urs|THAT.WITH|gen.tle|WORK.DID|frame) [meter=swwsswwssw score=7 w_stress=3 unres_across=2 unres_within=2],\n",
       " (Parse: THOSE.HO|urs|THAT|with|GEN|tle|WORK|did.frame) [meter=sswswswsww score=6 w_stress=4 unres_across=2],\n",
       " (Parse: THOSE.HO|urs|THAT|with|GEN|tle|WORK.DID|frame) [meter=sswswswssw score=6 w_stress=4 unres_across=2],\n",
       " (Parse: THOSE.HO|urs|THAT|with|GEN|tle.work|DID|frame) [meter=sswswswwsw score=6 w_stress=4 unres_across=2],\n",
       " (Parse: THOSE.HO|urs|THAT|with|GEN.TLE|work|DID|frame) [meter=sswswsswsw score=6 w_stress=4 unres_across=1 unres_within=1],\n",
       " (Parse: THOSE.HO|urs|THAT|with.gen|TLE|work|DID|frame) [meter=sswswwswsw score=6 w_stress=4 unres_across=2],\n",
       " (Parse: THOSE.HO|urs|THAT|with.gen|TLE.WORK|did.frame) [meter=sswswwssww score=7 w_stress=3 unres_across=4],\n",
       " (Parse: THOSE.HO|urs|THAT.WITH|gen|TLE|work|DID|frame) [meter=sswsswswsw score=6 w_stress=4 unres_across=2],\n",
       " (Parse: THOSE.HO|urs|THAT.WITH|gen|TLE.WORK|did.frame) [meter=sswsswssww score=7 w_stress=3 unres_across=4],\n",
       " (Parse: THOSE.HO|urs|THAT.WITH|gen.tle|WORK|did.frame) [meter=sswsswwsww score=7 w_stress=3 unres_across=3 unres_within=1],\n",
       " (Parse: THOSE.HO|urs|THAT.WITH|gen.tle|WORK.DID|frame) [meter=sswsswwssw score=7 w_stress=3 unres_across=3 unres_within=1],\n",
       " (Parse: THOSE.HO|urs.that|WITH|gen|TLE|work|DID|frame) [meter=sswwswswsw score=6 w_stress=4 unres_across=2],\n",
       " (Parse: THOSE.HO|urs.that|WITH|gen|TLE.WORK|did.frame) [meter=sswwswssww score=7 w_stress=3 unres_across=4],\n",
       " (Parse: THOSE.HO|urs.that|WITH|gen.tle|WORK|did.frame) [meter=sswwswwsww score=7 w_stress=3 unres_across=3 unres_within=1],\n",
       " (Parse: THOSE.HO|urs.that|WITH|gen.tle|WORK.DID|frame) [meter=sswwswwssw score=7 w_stress=3 unres_across=3 unres_within=1],\n",
       " (Parse: THOSE.HO|urs.that|WITH.GEN|tle|WORK|did.frame) [meter=sswwsswsww score=7 w_stress=3 unres_across=4],\n",
       " (Parse: THOSE.HO|urs.that|WITH.GEN|tle|WORK.DID|frame) [meter=sswwsswssw score=7 w_stress=3 unres_across=4],\n",
       " (Parse: THOSE.HO|urs.that|WITH.GEN|tle.work|DID|frame) [meter=sswwsswwsw score=7 w_stress=3 unres_across=4]]"
      ]
     },
     "execution_count": 23,
     "metadata": {},
     "output_type": "execute_result"
    }
   ],
   "source": [
    "bparses"
   ]
  },
  {
   "cell_type": "code",
   "execution_count": 24,
   "metadata": {},
   "outputs": [
    {
     "data": {
      "text/plain": [
       "((ParseSlot) [is_stressed=True is_heavy=True is_strong=None is_weak=None],\n",
       " (Syllable: Those) [syll_ipa='ðoʊz syll_stress=P syll_weight=H is_stressed=True is_heavy=True is_strong=None is_weak=None],\n",
       " None,\n",
       " {'w_stress': 1,\n",
       "  's_unstress': None,\n",
       "  'unres_across': nan,\n",
       "  'unres_within': nan,\n",
       "  'w_peak': 0,\n",
       "  's_trough': nan})"
      ]
     },
     "execution_count": 24,
     "metadata": {},
     "output_type": "execute_result"
    }
   ],
   "source": [
    "mpos = parses[0].positions[0]\n",
    "slot = mpos.slots[0]\n",
    "unit=slot.unit\n",
    "slot, unit, slot.weight_is_prom, mpos.constraint_scores"
   ]
  },
  {
   "cell_type": "code",
   "execution_count": null,
   "metadata": {},
   "outputs": [],
   "source": []
  },
  {
   "cell_type": "code",
   "execution_count": 25,
   "metadata": {},
   "outputs": [
    {
     "data": {
      "text/plain": [
       "nan"
      ]
     },
     "execution_count": 25,
     "metadata": {},
     "output_type": "execute_result"
    }
   ],
   "source": [
    "unres_within(mpos)"
   ]
  },
  {
   "cell_type": "code",
   "execution_count": 26,
   "metadata": {},
   "outputs": [
    {
     "data": {
      "text/plain": [
       "True"
      ]
     },
     "execution_count": 26,
     "metadata": {},
     "output_type": "execute_result"
    }
   ],
   "source": [
    "unit.is_heavy"
   ]
  },
  {
   "cell_type": "code",
   "execution_count": null,
   "metadata": {},
   "outputs": [],
   "source": []
  }
 ],
 "metadata": {
  "kernelspec": {
   "display_name": "venv",
   "language": "python",
   "name": "python3"
  },
  "language_info": {
   "codemirror_mode": {
    "name": "ipython",
    "version": 3
   },
   "file_extension": ".py",
   "mimetype": "text/x-python",
   "name": "python",
   "nbconvert_exporter": "python",
   "pygments_lexer": "ipython3",
   "version": "3.11.0rc2"
  },
  "orig_nbformat": 4
 },
 "nbformat": 4,
 "nbformat_minor": 2
}
