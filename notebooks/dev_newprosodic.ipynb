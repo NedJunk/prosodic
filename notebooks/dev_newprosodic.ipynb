{
 "cells": [
  {
   "cell_type": "code",
   "execution_count": 9,
   "metadata": {},
   "outputs": [],
   "source": [
    "import sys; sys.path.insert(0,'..')\n",
    "from prosodic.imports import *"
   ]
  },
  {
   "cell_type": "code",
   "execution_count": 10,
   "metadata": {},
   "outputs": [],
   "source": [
    "x=\"\"\"\n",
    "Those hours, that with gentle work did frame\n",
    "The lovely gaze where every eye doth dwell,\n",
    "Will play the tyrants to the very same\n",
    "And that unfair which fairly doth excel;\n",
    "For never-resting time leads summer on\n",
    "To hideous winter, and confounds him there;\n",
    "Sap checked with frost, and lusty leaves quite gone,\n",
    "Beauty o’er-snowed and bareness every where:\n",
    "Then were not summer’s distillation left,\n",
    "A liquid prisoner pent in walls of glass,\n",
    "Beauty’s effect with beauty were bereft,\n",
    "Nor it, nor no remembrance what it was:\n",
    "But flowers distill’d, though they with winter meet,\n",
    "Leese but their show; their substance still lives sweet.\n",
    "\n",
    "Unthrifty loveliness, why dost thou spend\n",
    "Upon thyself thy beauty’s legacy?\n",
    "Nature’s bequest gives nothing but doth lend,\n",
    "And being frank, she lends to those are free.\n",
    "Then, beauteous niggard, why dost thou abuse\n",
    "The bounteous largess given thee to give?\n",
    "Profitless usurer, why dost thou use\n",
    "So great a sum of sums yet canst not live?\n",
    "For, having traffic with thyself alone,\n",
    "Thou of thyself thy sweet self dost deceive.\n",
    "Then how, when nature calls thee to be gone,\n",
    "What acceptable audit canst thou leave?\n",
    " Thy unused beauty must be tombed with thee,\n",
    " Which usèd lives th’ executor to be.\n",
    "\"\"\""
   ]
  },
  {
   "cell_type": "code",
   "execution_count": 11,
   "metadata": {},
   "outputs": [],
   "source": [
    "t=Text(x)"
   ]
  },
  {
   "cell_type": "code",
   "execution_count": 12,
   "metadata": {},
   "outputs": [
    {
     "data": {
      "text/plain": [
       "[(Stanza: Those hours, that with gentle work did frame\n",
       " The lovely gaze where every eye doth dwell,\n",
       " Will play the tyrants to the very same\n",
       " And that unfair which fairly doth excel;\n",
       " For never-resting time leads summer on\n",
       " To hideous winter, and confounds him there;\n",
       " Sap checked with frost, and lusty leaves quite gone,\n",
       " Beauty o'er-snowed and bareness every where:\n",
       " Then were not summer's distillation left,\n",
       " A liquid prisoner pent in walls of glass,\n",
       " Beauty's effect with beauty were bereft,\n",
       " Nor it, nor no remembrance what it was:\n",
       " But flowers distill'd, though they with winter meet,\n",
       " Leese but their show; their substance still lives sweet.) [sent_i=1 sentpart_i=1 stanza_i=1],\n",
       " (Stanza: Unthrifty loveliness, why dost thou spend\n",
       " Upon thyself thy beauty's legacy?\n",
       " Nature's bequest gives nothing but doth lend,\n",
       " And being frank, she lends to those are free.\n",
       " Then, beauteous niggard, why dost thou abuse\n",
       " The bounteous largess given thee to give?\n",
       " Profitless usurer, why dost thou use\n",
       " So great a sum of sums yet canst not live?\n",
       " For, having traffic with thyself alone,\n",
       " Thou of thyself thy sweet self dost deceive.\n",
       " Then how, when nature calls thee to be gone,\n",
       " What acceptable audit canst thou leave?\n",
       "  Thy unused beauty must be tombed with thee,\n",
       "  Which usèd lives th' executor to be.) [sent_i=2 sentpart_i=18 stanza_i=2]]"
      ]
     },
     "execution_count": 12,
     "metadata": {},
     "output_type": "execute_result"
    }
   ],
   "source": [
    "t.stanzas"
   ]
  },
  {
   "cell_type": "code",
   "execution_count": 13,
   "metadata": {},
   "outputs": [
    {
     "data": {
      "text/plain": [
       "(['Tho', 'se'], [[\"'ðoʊz\"]])"
      ]
     },
     "execution_count": 13,
     "metadata": {},
     "output_type": "execute_result"
    }
   ],
   "source": [
    "t.words[0].lang_obj.get(t.words[0].txt)"
   ]
  },
  {
   "cell_type": "code",
   "execution_count": 14,
   "metadata": {},
   "outputs": [
    {
     "data": {
      "text/plain": [
       "[(WordForm: Those) [sylls_text=['Tho', 'se'] sylls_ipa=[\"'ðoʊz\"]]]"
      ]
     },
     "execution_count": 14,
     "metadata": {},
     "output_type": "execute_result"
    }
   ],
   "source": [
    "t.words[0].children"
   ]
  },
  {
   "cell_type": "code",
   "execution_count": 15,
   "metadata": {},
   "outputs": [],
   "source": [
    "\n",
    "def fix_num_sylls(sylls, num, unknown='?'):\n",
    "    while len(sylls)>num:\n",
    "        last = sylls.pop()\n",
    "        sylls[-1]+=last\n",
    "    while len(sylls)<num:\n",
    "        last = sylls.pop()\n",
    "        sylls.extend([last[:len(last)//2], last[len(last)//2:]])\n",
    "    return [\n",
    "        unknown if not x else x \n",
    "        for x in sylls\n",
    "    ]\n"
   ]
  },
  {
   "cell_type": "code",
   "execution_count": 16,
   "metadata": {},
   "outputs": [
    {
     "data": {
      "text/plain": [
       "['Tho', 's', '', 'e']"
      ]
     },
     "execution_count": 16,
     "metadata": {},
     "output_type": "execute_result"
    }
   ],
   "source": [
    "fix_num_sylls(['Tho', 'se'], 4)"
   ]
  },
  {
   "cell_type": "code",
   "execution_count": null,
   "metadata": {},
   "outputs": [],
   "source": []
  }
 ],
 "metadata": {
  "kernelspec": {
   "display_name": "venv",
   "language": "python",
   "name": "python3"
  },
  "language_info": {
   "codemirror_mode": {
    "name": "ipython",
    "version": 3
   },
   "file_extension": ".py",
   "mimetype": "text/x-python",
   "name": "python",
   "nbconvert_exporter": "python",
   "pygments_lexer": "ipython3",
   "version": "3.11.0rc2"
  },
  "orig_nbformat": 4
 },
 "nbformat": 4,
 "nbformat_minor": 2
}
