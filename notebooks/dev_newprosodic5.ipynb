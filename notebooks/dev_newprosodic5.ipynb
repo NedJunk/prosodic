{
 "cells": [
  {
   "cell_type": "code",
   "execution_count": 1,
   "metadata": {},
   "outputs": [],
   "source": [
    "!rm -rf /Users/ryan/prosodic_data/data/english_wordforms.sqlitedict\n",
    "# # !pip install -qU pip wheel\n",
    "# # !pip install -qU -r ../requirements.txt\n",
    "import sys; sys.path.insert(0,'..')\n",
    "from prosodic.imports import *"
   ]
  },
  {
   "cell_type": "code",
   "execution_count": 5,
   "metadata": {},
   "outputs": [
    {
     "ename": "AttributeError",
     "evalue": "'Parse' object has no attribute 'parse_rank'",
     "output_type": "error",
     "traceback": [
      "\u001b[0;31m---------------------------------------------------------------------------\u001b[0m",
      "\u001b[0;31mAttributeError\u001b[0m                            Traceback (most recent call last)",
      "\u001b[1;32m/Users/ryan/github/prosodic/notebooks/dev_newprosodic5.ipynb Cell 2\u001b[0m line \u001b[0;36m2\n\u001b[1;32m      <a href='vscode-notebook-cell:/Users/ryan/github/prosodic/notebooks/dev_newprosodic5.ipynb#W1sZmlsZQ%3D%3D?line=0'>1</a>\u001b[0m t\u001b[39m=\u001b[39mText(\u001b[39m'\u001b[39m\u001b[39mHEllo world\u001b[39m\u001b[39m'\u001b[39m)\n\u001b[0;32m----> <a href='vscode-notebook-cell:/Users/ryan/github/prosodic/notebooks/dev_newprosodic5.ipynb#W1sZmlsZQ%3D%3D?line=1'>2</a>\u001b[0m t\u001b[39m.\u001b[39;49mlines[\u001b[39m0\u001b[39;49m]\u001b[39m.\u001b[39;49mparse()\n",
      "File \u001b[0;32m~/github/prosodic/notebooks/../prosodic/parsing.py:81\u001b[0m, in \u001b[0;36mParseTextUnit.parse\u001b[0;34m(self, constraints, max_s, max_w, num_proc, progress, force)\u001b[0m\n\u001b[1;32m     73\u001b[0m \u001b[39m# logger.debug('parsing...')\u001b[39;00m\n\u001b[1;32m     74\u001b[0m l \u001b[39m=\u001b[39m \u001b[39mself\u001b[39m\u001b[39m.\u001b[39mparse_slots_slow(\n\u001b[1;32m     75\u001b[0m     constraints\u001b[39m=\u001b[39mconstraints, \n\u001b[1;32m     76\u001b[0m     max_s\u001b[39m=\u001b[39mmax_s, \n\u001b[0;32m   (...)\u001b[0m\n\u001b[1;32m     79\u001b[0m     progress\u001b[39m=\u001b[39mprogress\n\u001b[1;32m     80\u001b[0m )\n\u001b[0;32m---> 81\u001b[0m \u001b[39mprint\u001b[39;49m(l)\n\u001b[1;32m     82\u001b[0m l\u001b[39m.\u001b[39msort()\n\u001b[1;32m     83\u001b[0m \u001b[39mprint\u001b[39m(l)\n",
      "File \u001b[0;32m~/github/prosodic/notebooks/../prosodic/ents.py:23\u001b[0m, in \u001b[0;36mentity.__repr__\u001b[0;34m(self)\u001b[0m\n\u001b[1;32m     22\u001b[0m \u001b[39mdef\u001b[39;00m \u001b[39m__repr__\u001b[39m(\u001b[39mself\u001b[39m):\n\u001b[0;32m---> 23\u001b[0m     attrstr\u001b[39m=\u001b[39mget_attr_str(\u001b[39mself\u001b[39;49m\u001b[39m.\u001b[39;49mattrs)\n\u001b[1;32m     24\u001b[0m     \u001b[39mreturn\u001b[39;00m \u001b[39mf\u001b[39m\u001b[39m'\u001b[39m\u001b[39m{\u001b[39;00m\u001b[39mself\u001b[39m\u001b[39m.\u001b[39m\u001b[39m__class__\u001b[39m\u001b[39m.\u001b[39m\u001b[39m__name__\u001b[39m\u001b[39m}\u001b[39;00m\u001b[39m(\u001b[39m\u001b[39m{\u001b[39;00mattrstr\u001b[39m}\u001b[39;00m\u001b[39m)\u001b[39m\u001b[39m'\u001b[39m\n",
      "File \u001b[0;32m~/github/prosodic/notebooks/../prosodic/parsing.py:335\u001b[0m, in \u001b[0;36mParse.attrs\u001b[0;34m(self)\u001b[0m\n\u001b[1;32m    329\u001b[0m \u001b[39m@property\u001b[39m\n\u001b[1;32m    330\u001b[0m \u001b[39m#@profile\u001b[39;00m\n\u001b[1;32m    331\u001b[0m \u001b[39mdef\u001b[39;00m \u001b[39mattrs\u001b[39m(\u001b[39mself\u001b[39m):\n\u001b[1;32m    332\u001b[0m     \u001b[39mreturn\u001b[39;00m {\n\u001b[1;32m    333\u001b[0m         \u001b[39m*\u001b[39m\u001b[39m*\u001b[39m\u001b[39mself\u001b[39m\u001b[39m.\u001b[39m_attrs,\n\u001b[1;32m    334\u001b[0m         \u001b[39m'\u001b[39m\u001b[39mparse\u001b[39m\u001b[39m'\u001b[39m:\u001b[39mself\u001b[39m\u001b[39m.\u001b[39mtxt,\n\u001b[0;32m--> 335\u001b[0m         \u001b[39m'\u001b[39m\u001b[39mrank\u001b[39m\u001b[39m'\u001b[39m:\u001b[39mself\u001b[39;49m\u001b[39m.\u001b[39;49mparse_rank,\n\u001b[1;32m    336\u001b[0m         \u001b[39m'\u001b[39m\u001b[39mmeter\u001b[39m\u001b[39m'\u001b[39m:\u001b[39mself\u001b[39m\u001b[39m.\u001b[39mmeter_str,\n\u001b[1;32m    337\u001b[0m         \u001b[39m'\u001b[39m\u001b[39mstress\u001b[39m\u001b[39m'\u001b[39m:\u001b[39mself\u001b[39m\u001b[39m.\u001b[39mstress_str,\n\u001b[1;32m    338\u001b[0m         \u001b[39m'\u001b[39m\u001b[39mscore\u001b[39m\u001b[39m'\u001b[39m:\u001b[39mself\u001b[39m\u001b[39m.\u001b[39mscore,\n\u001b[1;32m    339\u001b[0m         \u001b[39m*\u001b[39m\u001b[39m*\u001b[39m({\u001b[39m'\u001b[39m\u001b[39mis_bounded\u001b[39m\u001b[39m'\u001b[39m:\u001b[39mTrue\u001b[39;00m} \u001b[39mif\u001b[39;00m \u001b[39mself\u001b[39m\u001b[39m.\u001b[39mis_bounded \u001b[39melse\u001b[39;00m {}),\n\u001b[1;32m    340\u001b[0m         \u001b[39m*\u001b[39m\u001b[39m*\u001b[39m{c:v \u001b[39mfor\u001b[39;00m c,v \u001b[39min\u001b[39;00m \u001b[39mself\u001b[39m\u001b[39m.\u001b[39mconstraint_scores\u001b[39m.\u001b[39mitems() \u001b[39mif\u001b[39;00m v\u001b[39m!=\u001b[39mnp\u001b[39m.\u001b[39mnan \u001b[39mand\u001b[39;00m v}\n\u001b[1;32m    341\u001b[0m     }\n",
      "\u001b[0;31mAttributeError\u001b[0m: 'Parse' object has no attribute 'parse_rank'"
     ]
    }
   ],
   "source": [
    "t=Text('HEllo world')\n",
    "t.lines[0].parse()"
   ]
  },
  {
   "cell_type": "code",
   "execution_count": null,
   "metadata": {},
   "outputs": [],
   "source": []
  },
  {
   "cell_type": "code",
   "execution_count": null,
   "metadata": {},
   "outputs": [],
   "source": []
  }
 ],
 "metadata": {
  "kernelspec": {
   "display_name": "venv",
   "language": "python",
   "name": "python3"
  },
  "language_info": {
   "codemirror_mode": {
    "name": "ipython",
    "version": 3
   },
   "file_extension": ".py",
   "mimetype": "text/x-python",
   "name": "python",
   "nbconvert_exporter": "python",
   "pygments_lexer": "ipython3",
   "version": "3.11.0rc2"
  },
  "orig_nbformat": 4
 },
 "nbformat": 4,
 "nbformat_minor": 2
}
