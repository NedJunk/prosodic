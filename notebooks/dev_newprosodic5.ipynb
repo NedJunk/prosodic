{
 "cells": [
  {
   "cell_type": "code",
   "execution_count": 1,
   "metadata": {},
   "outputs": [],
   "source": [
    "!rm -rf /Users/ryan/prosodic_data/data/english_wordforms.sqlitedict\n",
    "import sys; sys.path.insert(0,'..')\n",
    "from prosodic.imports import *"
   ]
  },
  {
   "cell_type": "code",
   "execution_count": 20,
   "metadata": {},
   "outputs": [],
   "source": [
    "t = Text(\"\"\"\n",
    "Those hours, that with gentle work did frame\n",
    "The lovely gaze where every eye doth dwell,\n",
    "Will play the tyrants to the very same\n",
    "And that unfair which fairly doth excel;\n",
    "For never-resting time leads summer on\n",
    "To hideous winter, and confounds him there;\n",
    "Sap checked with frost, and lusty leaves quite gone,\n",
    "Beauty o’er-snowed and bareness every where:\n",
    "Then were not summer’s distillation left,\n",
    "A liquid prisoner pent in walls of glass,\n",
    "Beauty’s effect with beauty were bereft,\n",
    "Nor it, nor no remembrance what it was:\n",
    "But flowers distill’d, though they with winter meet,\n",
    "Leese but their show; their substance still lives sweet.\n",
    "\"\"\")"
   ]
  },
  {
   "cell_type": "code",
   "execution_count": 5,
   "metadata": {},
   "outputs": [
    {
     "data": {
      "text/html": [
       "<div>\n",
       "<style scoped>\n",
       "    .dataframe tbody tr th:only-of-type {\n",
       "        vertical-align: middle;\n",
       "    }\n",
       "\n",
       "    .dataframe tbody tr th {\n",
       "        vertical-align: top;\n",
       "    }\n",
       "\n",
       "    .dataframe thead th {\n",
       "        text-align: right;\n",
       "    }\n",
       "</style>\n",
       "<table border=\"1\" class=\"dataframe\">\n",
       "  <thead>\n",
       "    <tr style=\"text-align: right;\">\n",
       "      <th></th>\n",
       "      <th></th>\n",
       "      <th></th>\n",
       "      <th></th>\n",
       "      <th></th>\n",
       "      <th></th>\n",
       "      <th>nparse</th>\n",
       "      <th>score</th>\n",
       "      <th>w_peak</th>\n",
       "      <th>w_stress</th>\n",
       "      <th>s_unstress</th>\n",
       "      <th>unres_across</th>\n",
       "      <th>unres_within</th>\n",
       "      <th>foot_size</th>\n",
       "    </tr>\n",
       "    <tr>\n",
       "      <th>stanza_i</th>\n",
       "      <th>sent_i</th>\n",
       "      <th>sentpart_i</th>\n",
       "      <th>line_i</th>\n",
       "      <th>txt</th>\n",
       "      <th>parse</th>\n",
       "      <th></th>\n",
       "      <th></th>\n",
       "      <th></th>\n",
       "      <th></th>\n",
       "      <th></th>\n",
       "      <th></th>\n",
       "      <th></th>\n",
       "      <th></th>\n",
       "    </tr>\n",
       "  </thead>\n",
       "  <tbody>\n",
       "    <tr>\n",
       "      <th rowspan=\"14\" valign=\"top\">1</th>\n",
       "      <th rowspan=\"14\" valign=\"top\">1</th>\n",
       "      <th>1</th>\n",
       "      <th>1</th>\n",
       "      <th>Those hours, that with gentle work did frame</th>\n",
       "      <th>those HO urs THAT with GEN tle WORK did FRAME</th>\n",
       "      <td>2</td>\n",
       "      <td>0.416667</td>\n",
       "      <td>0.000000</td>\n",
       "      <td>0.500000</td>\n",
       "      <td>1.000000</td>\n",
       "      <td>1.000000</td>\n",
       "      <td>0.000000</td>\n",
       "      <td>0.0</td>\n",
       "    </tr>\n",
       "    <tr>\n",
       "      <th>2</th>\n",
       "      <th>2</th>\n",
       "      <th>The lovely gaze where every eye doth dwell,</th>\n",
       "      <th>the LO vely GAZE where E very EYE doth DWELL</th>\n",
       "      <td>1</td>\n",
       "      <td>0.166667</td>\n",
       "      <td>0.000000</td>\n",
       "      <td>1.000000</td>\n",
       "      <td>0.000000</td>\n",
       "      <td>0.000000</td>\n",
       "      <td>0.000000</td>\n",
       "      <td>0.0</td>\n",
       "    </tr>\n",
       "    <tr>\n",
       "      <th rowspan=\"2\" valign=\"top\">3</th>\n",
       "      <th>3</th>\n",
       "      <th>Will play the tyrants to the very same</th>\n",
       "      <th>will PLAY the TY rants TO the VE ry SAME</th>\n",
       "      <td>1</td>\n",
       "      <td>0.166667</td>\n",
       "      <td>0.000000</td>\n",
       "      <td>0.000000</td>\n",
       "      <td>1.000000</td>\n",
       "      <td>0.000000</td>\n",
       "      <td>0.000000</td>\n",
       "      <td>0.0</td>\n",
       "    </tr>\n",
       "    <tr>\n",
       "      <th>4</th>\n",
       "      <th>And that unfair which fairly doth excel;</th>\n",
       "      <th>and THAT un FAIR which FAIR ly DOTH ex CEL</th>\n",
       "      <td>1</td>\n",
       "      <td>0.500000</td>\n",
       "      <td>0.000000</td>\n",
       "      <td>1.000000</td>\n",
       "      <td>2.000000</td>\n",
       "      <td>0.000000</td>\n",
       "      <td>0.000000</td>\n",
       "      <td>0.0</td>\n",
       "    </tr>\n",
       "    <tr>\n",
       "      <th rowspan=\"2\" valign=\"top\">4</th>\n",
       "      <th>5</th>\n",
       "      <th>For never-resting time leads summer on</th>\n",
       "      <th>for NE ver RES ting TIME leads SUM mer ON</th>\n",
       "      <td>1</td>\n",
       "      <td>0.166667</td>\n",
       "      <td>0.000000</td>\n",
       "      <td>1.000000</td>\n",
       "      <td>0.000000</td>\n",
       "      <td>0.000000</td>\n",
       "      <td>0.000000</td>\n",
       "      <td>0.0</td>\n",
       "    </tr>\n",
       "    <tr>\n",
       "      <th>6</th>\n",
       "      <th>To hideous winter, and confounds him there;</th>\n",
       "      <th>to HI deo.us WIN ter AND con FOUNDS him THERE</th>\n",
       "      <td>3</td>\n",
       "      <td>0.555556</td>\n",
       "      <td>0.303030</td>\n",
       "      <td>0.303030</td>\n",
       "      <td>1.818182</td>\n",
       "      <td>0.606061</td>\n",
       "      <td>0.303030</td>\n",
       "      <td>0.0</td>\n",
       "    </tr>\n",
       "    <tr>\n",
       "      <th>6</th>\n",
       "      <th>7</th>\n",
       "      <th>Sap checked with frost, and lusty leaves quite gone,</th>\n",
       "      <th>sap CHECKED with FROST and LUS ty LEAVES quite GONE</th>\n",
       "      <td>2</td>\n",
       "      <td>0.416667</td>\n",
       "      <td>0.000000</td>\n",
       "      <td>1.500000</td>\n",
       "      <td>0.000000</td>\n",
       "      <td>1.000000</td>\n",
       "      <td>0.000000</td>\n",
       "      <td>0.0</td>\n",
       "    </tr>\n",
       "    <tr>\n",
       "      <th>8</th>\n",
       "      <th>8</th>\n",
       "      <th>Beauty o'er-snowed and bareness every where:</th>\n",
       "      <th>BEA uty.o'er SNOWED and BA reness E very WHERE</th>\n",
       "      <td>3</td>\n",
       "      <td>0.388889</td>\n",
       "      <td>0.333333</td>\n",
       "      <td>0.333333</td>\n",
       "      <td>0.666667</td>\n",
       "      <td>0.666667</td>\n",
       "      <td>0.333333</td>\n",
       "      <td>0.0</td>\n",
       "    </tr>\n",
       "    <tr>\n",
       "      <th>9</th>\n",
       "      <th>9</th>\n",
       "      <th>Then were not summer's distillation left,</th>\n",
       "      <th>THEN were NOT.SUM mer's DIS til LA tion LEFT</th>\n",
       "      <td>3</td>\n",
       "      <td>0.444444</td>\n",
       "      <td>0.333333</td>\n",
       "      <td>1.000000</td>\n",
       "      <td>0.333333</td>\n",
       "      <td>0.666667</td>\n",
       "      <td>0.333333</td>\n",
       "      <td>0.0</td>\n",
       "    </tr>\n",
       "    <tr>\n",
       "      <th>10</th>\n",
       "      <th>10</th>\n",
       "      <th>A liquid prisoner pent in walls of glass,</th>\n",
       "      <th>a LI quid PRI soner PENT in WALLS of GLASS</th>\n",
       "      <td>1</td>\n",
       "      <td>0.000000</td>\n",
       "      <td>0.000000</td>\n",
       "      <td>0.000000</td>\n",
       "      <td>0.000000</td>\n",
       "      <td>0.000000</td>\n",
       "      <td>0.000000</td>\n",
       "      <td>0.0</td>\n",
       "    </tr>\n",
       "    <tr>\n",
       "      <th>11</th>\n",
       "      <th>11</th>\n",
       "      <th>Beauty's effect with beauty were bereft,</th>\n",
       "      <th>BEA uty's EF.FECT with BEA uty WERE be REFT</th>\n",
       "      <td>4</td>\n",
       "      <td>0.541667</td>\n",
       "      <td>0.250000</td>\n",
       "      <td>0.250000</td>\n",
       "      <td>1.750000</td>\n",
       "      <td>0.500000</td>\n",
       "      <td>0.500000</td>\n",
       "      <td>0.0</td>\n",
       "    </tr>\n",
       "    <tr>\n",
       "      <th>12</th>\n",
       "      <th>12</th>\n",
       "      <th>Nor it, nor no remembrance what it was:</th>\n",
       "      <th>NOR it NOR.NO re MEM brance WHAT it.was</th>\n",
       "      <td>3</td>\n",
       "      <td>0.444444</td>\n",
       "      <td>0.000000</td>\n",
       "      <td>1.000000</td>\n",
       "      <td>0.666667</td>\n",
       "      <td>0.666667</td>\n",
       "      <td>0.333333</td>\n",
       "      <td>0.0</td>\n",
       "    </tr>\n",
       "    <tr>\n",
       "      <th>14</th>\n",
       "      <th>13</th>\n",
       "      <th>But flowers distill'd, though they with winter meet,</th>\n",
       "      <th>BUT flo WERS dis TILL'D though THEY with WIN ter MEET</th>\n",
       "      <td>6</td>\n",
       "      <td>0.656566</td>\n",
       "      <td>0.151515</td>\n",
       "      <td>1.515152</td>\n",
       "      <td>0.606061</td>\n",
       "      <td>1.212121</td>\n",
       "      <td>0.454545</td>\n",
       "      <td>0.0</td>\n",
       "    </tr>\n",
       "    <tr>\n",
       "      <th>16</th>\n",
       "      <th>14</th>\n",
       "      <th>Leese but their show; their substance still lives sweet.</th>\n",
       "      <th>leese BUT their SHOW their SUBS tance STILL lives SWEET</th>\n",
       "      <td>7</td>\n",
       "      <td>0.952381</td>\n",
       "      <td>0.000000</td>\n",
       "      <td>3.428571</td>\n",
       "      <td>0.000000</td>\n",
       "      <td>2.285714</td>\n",
       "      <td>0.000000</td>\n",
       "      <td>0.0</td>\n",
       "    </tr>\n",
       "  </tbody>\n",
       "</table>\n",
       "</div>"
      ],
      "text/plain": [
       "                                                                                                                                         nparse     score    w_peak  w_stress  s_unstress  \\\n",
       "stanza_i sent_i sentpart_i line_i txt                                                parse                                                                                                  \n",
       "1        1      1          1      Those hours, that with gentle work did frame       those HO urs THAT with GEN tle WORK did FRAME            2  0.416667  0.000000  0.500000    1.000000   \n",
       "                2          2      The lovely gaze where every eye doth dwell,        the LO vely GAZE where E very EYE doth DWELL             1  0.166667  0.000000  1.000000    0.000000   \n",
       "                3          3      Will play the tyrants to the very same             will PLAY the TY rants TO the VE ry SAME                 1  0.166667  0.000000  0.000000    1.000000   \n",
       "                           4      And that unfair which fairly doth excel;           and THAT un FAIR which FAIR ly DOTH ex CEL               1  0.500000  0.000000  1.000000    2.000000   \n",
       "                4          5      For never-resting time leads summer on             for NE ver RES ting TIME leads SUM mer ON                1  0.166667  0.000000  1.000000    0.000000   \n",
       "                           6      To hideous winter, and confounds him there;        to HI deo.us WIN ter AND con FOUNDS him THERE            3  0.555556  0.303030  0.303030    1.818182   \n",
       "                6          7      Sap checked with frost, and lusty leaves quite ... sap CHECKED with FROST and LUS ty LEAVES quite ...       2  0.416667  0.000000  1.500000    0.000000   \n",
       "                8          8      Beauty o'er-snowed and bareness every where:       BEA uty.o'er SNOWED and BA reness E very WHERE           3  0.388889  0.333333  0.333333    0.666667   \n",
       "                9          9      Then were not summer's distillation left,          THEN were NOT.SUM mer's DIS til LA tion LEFT             3  0.444444  0.333333  1.000000    0.333333   \n",
       "                10         10     A liquid prisoner pent in walls of glass,          a LI quid PRI soner PENT in WALLS of GLASS               1  0.000000  0.000000  0.000000    0.000000   \n",
       "                11         11     Beauty's effect with beauty were bereft,           BEA uty's EF.FECT with BEA uty WERE be REFT              4  0.541667  0.250000  0.250000    1.750000   \n",
       "                12         12     Nor it, nor no remembrance what it was:            NOR it NOR.NO re MEM brance WHAT it.was                  3  0.444444  0.000000  1.000000    0.666667   \n",
       "                14         13     But flowers distill'd, though they with winter ... BUT flo WERS dis TILL'D though THEY with WIN te...       6  0.656566  0.151515  1.515152    0.606061   \n",
       "                16         14     Leese but their show; their substance still liv... leese BUT their SHOW their SUBS tance STILL liv...       7  0.952381  0.000000  3.428571    0.000000   \n",
       "\n",
       "                                                                                                                                         unres_across  unres_within  foot_size  \n",
       "stanza_i sent_i sentpart_i line_i txt                                                parse                                                                                      \n",
       "1        1      1          1      Those hours, that with gentle work did frame       those HO urs THAT with GEN tle WORK did FRAME           1.000000      0.000000        0.0  \n",
       "                2          2      The lovely gaze where every eye doth dwell,        the LO vely GAZE where E very EYE doth DWELL            0.000000      0.000000        0.0  \n",
       "                3          3      Will play the tyrants to the very same             will PLAY the TY rants TO the VE ry SAME                0.000000      0.000000        0.0  \n",
       "                           4      And that unfair which fairly doth excel;           and THAT un FAIR which FAIR ly DOTH ex CEL              0.000000      0.000000        0.0  \n",
       "                4          5      For never-resting time leads summer on             for NE ver RES ting TIME leads SUM mer ON               0.000000      0.000000        0.0  \n",
       "                           6      To hideous winter, and confounds him there;        to HI deo.us WIN ter AND con FOUNDS him THERE           0.606061      0.303030        0.0  \n",
       "                6          7      Sap checked with frost, and lusty leaves quite ... sap CHECKED with FROST and LUS ty LEAVES quite ...      1.000000      0.000000        0.0  \n",
       "                8          8      Beauty o'er-snowed and bareness every where:       BEA uty.o'er SNOWED and BA reness E very WHERE          0.666667      0.333333        0.0  \n",
       "                9          9      Then were not summer's distillation left,          THEN were NOT.SUM mer's DIS til LA tion LEFT            0.666667      0.333333        0.0  \n",
       "                10         10     A liquid prisoner pent in walls of glass,          a LI quid PRI soner PENT in WALLS of GLASS              0.000000      0.000000        0.0  \n",
       "                11         11     Beauty's effect with beauty were bereft,           BEA uty's EF.FECT with BEA uty WERE be REFT             0.500000      0.500000        0.0  \n",
       "                12         12     Nor it, nor no remembrance what it was:            NOR it NOR.NO re MEM brance WHAT it.was                 0.666667      0.333333        0.0  \n",
       "                14         13     But flowers distill'd, though they with winter ... BUT flo WERS dis TILL'D though THEY with WIN te...      1.212121      0.454545        0.0  \n",
       "                16         14     Leese but their show; their substance still liv... leese BUT their SHOW their SUBS tance STILL liv...      2.285714      0.000000        0.0  "
      ]
     },
     "execution_count": 5,
     "metadata": {},
     "output_type": "execute_result"
    }
   ],
   "source": [
    "t.df_parses"
   ]
  },
  {
   "cell_type": "code",
   "execution_count": 16,
   "metadata": {},
   "outputs": [
    {
     "name": "stderr",
     "output_type": "stream",
     "text": [
      "Parsing lines: 100%|██████████| 14/14 [00:00<00:00, 48.94it/s]\n",
      "Parsing lines: 100%|██████████| 14/14 [00:00<00:00, 51.07it/s]\n",
      "Parsing lines: 100%|██████████| 14/14 [00:00<00:00, 51.17it/s]\n",
      "Parsing lines: 100%|██████████| 14/14 [00:00<00:00, 51.78it/s]\n",
      "Parsing lines: 100%|██████████| 14/14 [00:00<00:00, 52.97it/s]\n",
      "Parsing lines: 100%|██████████| 14/14 [00:00<00:00, 52.92it/s]\n",
      "Parsing lines: 100%|██████████| 14/14 [00:00<00:00, 53.14it/s]\n",
      "Parsing lines: 100%|██████████| 14/14 [00:00<00:00, 53.25it/s]"
     ]
    },
    {
     "name": "stdout",
     "output_type": "stream",
     "text": [
      "270 ms ± 4.62 ms per loop (mean ± std. dev. of 7 runs, 1 loop each)\n"
     ]
    },
    {
     "name": "stderr",
     "output_type": "stream",
     "text": [
      "\n"
     ]
    }
   ],
   "source": [
    "%%timeit\n",
    "t.parse(max_s=2,max_w=2)"
   ]
  },
  {
   "cell_type": "code",
   "execution_count": 17,
   "metadata": {},
   "outputs": [
    {
     "name": "stderr",
     "output_type": "stream",
     "text": [
      "Parsing lines: 100%|██████████| 14/14 [00:02<00:00,  6.40it/s]\n",
      "Parsing lines: 100%|██████████| 14/14 [00:02<00:00,  6.40it/s]\n",
      "Parsing lines: 100%|██████████| 14/14 [00:02<00:00,  6.37it/s]\n",
      "Parsing lines: 100%|██████████| 14/14 [00:02<00:00,  6.33it/s]\n",
      "Parsing lines: 100%|██████████| 14/14 [00:02<00:00,  6.33it/s]\n",
      "Parsing lines: 100%|██████████| 14/14 [00:02<00:00,  6.25it/s]\n",
      "Parsing lines: 100%|██████████| 14/14 [00:02<00:00,  6.35it/s]\n",
      "Parsing lines: 100%|██████████| 14/14 [00:02<00:00,  6.37it/s]"
     ]
    },
    {
     "name": "stdout",
     "output_type": "stream",
     "text": [
      "2.21 s ± 16 ms per loop (mean ± std. dev. of 7 runs, 1 loop each)\n"
     ]
    },
    {
     "name": "stderr",
     "output_type": "stream",
     "text": [
      "\n"
     ]
    }
   ],
   "source": [
    "%%timeit\n",
    "t.parse(max_s=2,max_w=2,resolve_optionality=True)"
   ]
  },
  {
   "cell_type": "code",
   "execution_count": 18,
   "metadata": {},
   "outputs": [
    {
     "name": "stderr",
     "output_type": "stream",
     "text": [
      "Parsing lines:   0%|          | 0/14 [00:00<?, ?it/s]"
     ]
    },
    {
     "name": "stderr",
     "output_type": "stream",
     "text": [
      "Parsing lines: 100%|██████████| 14/14 [00:01<00:00,  8.92it/s]\n",
      "Parsing lines: 100%|██████████| 14/14 [00:01<00:00,  9.02it/s]\n",
      "Parsing lines: 100%|██████████| 14/14 [00:01<00:00,  8.92it/s]\n",
      "Parsing lines: 100%|██████████| 14/14 [00:01<00:00,  8.93it/s]\n",
      "Parsing lines: 100%|██████████| 14/14 [00:01<00:00,  8.93it/s]\n",
      "Parsing lines: 100%|██████████| 14/14 [00:01<00:00,  8.93it/s]\n",
      "Parsing lines: 100%|██████████| 14/14 [00:01<00:00,  8.89it/s]\n",
      "Parsing lines: 100%|██████████| 14/14 [00:01<00:00,  8.90it/s]\n"
     ]
    },
    {
     "name": "stdout",
     "output_type": "stream",
     "text": [
      "1.57 s ± 6.79 ms per loop (mean ± std. dev. of 7 runs, 1 loop each)\n"
     ]
    }
   ],
   "source": [
    "%%timeit\n",
    "t.parse(max_s=None,max_w=None)"
   ]
  },
  {
   "cell_type": "code",
   "execution_count": 19,
   "metadata": {},
   "outputs": [
    {
     "name": "stderr",
     "output_type": "stream",
     "text": [
      "Parsing lines: 100%|██████████| 14/14 [00:13<00:00,  1.05it/s]\n",
      "Parsing lines: 100%|██████████| 14/14 [00:13<00:00,  1.05it/s]\n",
      "Parsing lines: 100%|██████████| 14/14 [00:13<00:00,  1.04it/s]\n",
      "Parsing lines: 100%|██████████| 14/14 [00:13<00:00,  1.04it/s]\n",
      "Parsing lines: 100%|██████████| 14/14 [00:13<00:00,  1.05it/s]\n",
      "Parsing lines: 100%|██████████| 14/14 [00:13<00:00,  1.06it/s]\n",
      "Parsing lines: 100%|██████████| 14/14 [00:13<00:00,  1.04it/s]\n",
      "Parsing lines: 100%|██████████| 14/14 [00:13<00:00,  1.04it/s]\n"
     ]
    },
    {
     "name": "stdout",
     "output_type": "stream",
     "text": [
      "13.4 s ± 96 ms per loop (mean ± std. dev. of 7 runs, 1 loop each)\n"
     ]
    }
   ],
   "source": [
    "%%timeit\n",
    "t.parse(max_s=None,max_w=None,resolve_optionality=True)"
   ]
  }
 ],
 "metadata": {
  "kernelspec": {
   "display_name": "venv",
   "language": "python",
   "name": "python3"
  },
  "language_info": {
   "codemirror_mode": {
    "name": "ipython",
    "version": 3
   },
   "file_extension": ".py",
   "mimetype": "text/x-python",
   "name": "python",
   "nbconvert_exporter": "python",
   "pygments_lexer": "ipython3",
   "version": "3.11.0rc2"
  },
  "orig_nbformat": 4
 },
 "nbformat": 4,
 "nbformat_minor": 2
}
