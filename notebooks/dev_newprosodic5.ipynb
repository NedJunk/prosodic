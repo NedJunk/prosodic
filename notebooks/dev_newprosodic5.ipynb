{
 "cells": [
  {
   "cell_type": "code",
   "execution_count": 1,
   "metadata": {},
   "outputs": [],
   "source": [
    "!rm -rf /Users/ryan/prosodic_data/data/english_wordforms.sqlitedict\n",
    "# # !pip install -qU pip wheel\n",
    "# # !pip install -qU -r ../requirements.txt\n",
    "import sys; sys.path.insert(0,'..')\n",
    "from prosodic.imports import *"
   ]
  },
  {
   "cell_type": "code",
   "execution_count": 2,
   "metadata": {},
   "outputs": [
    {
     "data": {
      "text/plain": [
       "                                               rank       meter      stress  score  w_stress  s_unstress  is_bounded  w_peak  unres_across  \\\n",
       "parse                                                                                                                                        \n",
       "those|HO|urs|THAT|with|GEN|tle|WORK|did|FRAME     1  -+-+-+-+-+  ++---+-+-+      2         1           1           0       0             0   \n",
       "THOSE|ho|URS|that.with|GEN|tle|WORK|did|FRAME     2  +-+--+-+-+  ++---+-+-+      3         1           1           1       1             0   \n",
       "THOSE.HO|urs|THAT|with|GEN|tle|WORK|did|FRAME     3  ++-+-+-+-+  ++---+-+-+      3         0           1           0       0             2   \n",
       "those|HO|urs.that.with|GEN|tle|WORK|did|FRAME     4  -+---+-+-+  ++---+-+-+      3         1           0           0       0             2   \n",
       "those|HO.URS|that.with|GEN|tle|WORK|did|FRAME     5  -++--+-+-+  ++---+-+-+      3         1           1           1       0             0   \n",
       "...                                             ...         ...         ...    ...       ...         ...         ...     ...           ...   \n",
       "those.ho.urs.that.with.gen.tle.work.did.frame  1020  ----------  ++---+-+-+     19         5           0           1       2            10   \n",
       "those.ho|URS.THAT|with.gen.tle.work|DID.FRAME  1021  --++----++  ++---+-+-+     20         4           3           1       2            10   \n",
       "those.ho|URS.THAT.WITH|gen.tle.work|DID.FRAME  1022  --+++---++  ++---+-+-+     20         4           4           1       2             9   \n",
       "those.ho|URS.THAT|with.gen.tle.work.did.frame  1023  --++------  ++---+-+-+     20         5           2           1       2            10   \n",
       "those.ho|URS.THAT.WITH|gen.tle.work.did.frame  1024  --+++-----  ++---+-+-+     20         5           3           1       2             9   \n",
       "\n",
       "                                               unres_within  \n",
       "parse                                                        \n",
       "those|HO|urs|THAT|with|GEN|tle|WORK|did|FRAME             0  \n",
       "THOSE|ho|URS|that.with|GEN|tle|WORK|did|FRAME             0  \n",
       "THOSE.HO|urs|THAT|with|GEN|tle|WORK|did|FRAME             0  \n",
       "those|HO|urs.that.with|GEN|tle|WORK|did|FRAME             0  \n",
       "those|HO.URS|that.with|GEN|tle|WORK|did|FRAME             1  \n",
       "...                                                     ...  \n",
       "those.ho.urs.that.with.gen.tle.work.did.frame             2  \n",
       "those.ho|URS.THAT|with.gen.tle.work|DID.FRAME             1  \n",
       "those.ho|URS.THAT.WITH|gen.tle.work|DID.FRAME             1  \n",
       "those.ho|URS.THAT|with.gen.tle.work.did.frame             1  \n",
       "those.ho|URS.THAT.WITH|gen.tle.work.did.frame             1  \n",
       "\n",
       "[1024 rows x 10 columns]"
      ]
     },
     "execution_count": 2,
     "metadata": {},
     "output_type": "execute_result"
    }
   ],
   "source": [
    "l=Line('Those hours, that with gentle work did frame')\n",
    "l.parses"
   ]
  },
  {
   "cell_type": "code",
   "execution_count": null,
   "metadata": {},
   "outputs": [],
   "source": []
  },
  {
   "cell_type": "code",
   "execution_count": null,
   "metadata": {},
   "outputs": [],
   "source": []
  },
  {
   "cell_type": "code",
   "execution_count": 3,
   "metadata": {},
   "outputs": [
    {
     "name": "stdout",
     "output_type": "stream",
     "text": [
      "THOSE HO.urs that with GEN.tle WORK did FRAME\n",
      "THOSE HO.urs THAT with GEN.tle WORK did FRAME\n",
      "THOSE HO.urs that WITH GEN.tle WORK did FRAME\n",
      "THOSE HO.urs that with GEN.tle WORK DID FRAME\n",
      "THOSE HO.urs THAT WITH GEN.tle WORK did FRAME\n",
      "THOSE HO.urs THAT with GEN.tle WORK DID FRAME\n",
      "THOSE HO.urs that WITH GEN.tle WORK DID FRAME\n",
      "THOSE HO.urs THAT WITH GEN.tle WORK DID FRAME\n",
      "THOSE HOURS that with GEN.tle WORK did FRAME\n",
      "THOSE HOURS THAT with GEN.tle WORK did FRAME\n",
      "THOSE HOURS that WITH GEN.tle WORK did FRAME\n",
      "THOSE HOURS that with GEN.tle WORK DID FRAME\n",
      "THOSE HOURS THAT WITH GEN.tle WORK did FRAME\n",
      "THOSE HOURS THAT with GEN.tle WORK DID FRAME\n",
      "THOSE HOURS that WITH GEN.tle WORK DID FRAME\n",
      "THOSE HOURS THAT WITH GEN.tle WORK DID FRAME\n"
     ]
    }
   ],
   "source": [
    "for wfl in l.wordform_matrix:\n",
    "    print(wfl)"
   ]
  },
  {
   "cell_type": "code",
   "execution_count": 4,
   "metadata": {},
   "outputs": [
    {
     "data": {
      "text/plain": [
       "[[Syllable(syll_ipa=\"'ðoʊz\", syll_stress='P', syll_weight='H', is_stressed=True, is_heavy=True, is_strong=None, is_weak=None),\n",
       "  Syllable(syll_ipa=\"'aʊ\", syll_stress='P', syll_weight='H', is_stressed=True, is_heavy=True, is_strong=True, is_weak=False),\n",
       "  Syllable(syll_ipa='ɛːz', syll_stress='U', syll_weight='H', is_stressed=False, is_heavy=True, is_strong=False, is_weak=True),\n",
       "  Syllable(syll_ipa='ðət', syll_stress='U', syll_weight='H', is_stressed=False, is_heavy=True, is_strong=None, is_weak=None),\n",
       "  Syllable(syll_ipa='wɪθ', syll_stress='U', syll_weight='H', is_stressed=False, is_heavy=True, is_strong=None, is_weak=None),\n",
       "  Syllable(syll_ipa=\"'ʤɛn\", syll_stress='P', syll_weight='H', is_stressed=True, is_heavy=True, is_strong=True, is_weak=False),\n",
       "  Syllable(syll_ipa='təl', syll_stress='U', syll_weight='H', is_stressed=False, is_heavy=True, is_strong=False, is_weak=True),\n",
       "  Syllable(syll_ipa=\"'wɛːk\", syll_stress='P', syll_weight='H', is_stressed=True, is_heavy=True, is_strong=None, is_weak=None),\n",
       "  Syllable(syll_ipa='dɪd', syll_stress='U', syll_weight='H', is_stressed=False, is_heavy=True, is_strong=None, is_weak=None),\n",
       "  Syllable(syll_ipa=\"'freɪm\", syll_stress='P', syll_weight='H', is_stressed=True, is_heavy=True, is_strong=None, is_weak=None)],\n",
       " [Syllable(syll_ipa=\"'ðoʊz\", syll_stress='P', syll_weight='H', is_stressed=True, is_heavy=True, is_strong=None, is_weak=None),\n",
       "  Syllable(syll_ipa=\"'aʊ\", syll_stress='P', syll_weight='H', is_stressed=True, is_heavy=True, is_strong=True, is_weak=False),\n",
       "  Syllable(syll_ipa='ɛːz', syll_stress='U', syll_weight='H', is_stressed=False, is_heavy=True, is_strong=False, is_weak=True),\n",
       "  Syllable(syll_ipa=\"'ðæt\", syll_stress='P', syll_weight='H', is_stressed=True, is_heavy=True, is_strong=None, is_weak=None),\n",
       "  Syllable(syll_ipa='wɪθ', syll_stress='U', syll_weight='H', is_stressed=False, is_heavy=True, is_strong=None, is_weak=None),\n",
       "  Syllable(syll_ipa=\"'ʤɛn\", syll_stress='P', syll_weight='H', is_stressed=True, is_heavy=True, is_strong=True, is_weak=False),\n",
       "  Syllable(syll_ipa='təl', syll_stress='U', syll_weight='H', is_stressed=False, is_heavy=True, is_strong=False, is_weak=True),\n",
       "  Syllable(syll_ipa=\"'wɛːk\", syll_stress='P', syll_weight='H', is_stressed=True, is_heavy=True, is_strong=None, is_weak=None),\n",
       "  Syllable(syll_ipa='dɪd', syll_stress='U', syll_weight='H', is_stressed=False, is_heavy=True, is_strong=None, is_weak=None),\n",
       "  Syllable(syll_ipa=\"'freɪm\", syll_stress='P', syll_weight='H', is_stressed=True, is_heavy=True, is_strong=None, is_weak=None)],\n",
       " [Syllable(syll_ipa=\"'ðoʊz\", syll_stress='P', syll_weight='H', is_stressed=True, is_heavy=True, is_strong=None, is_weak=None),\n",
       "  Syllable(syll_ipa=\"'aʊ\", syll_stress='P', syll_weight='H', is_stressed=True, is_heavy=True, is_strong=True, is_weak=False),\n",
       "  Syllable(syll_ipa='ɛːz', syll_stress='U', syll_weight='H', is_stressed=False, is_heavy=True, is_strong=False, is_weak=True),\n",
       "  Syllable(syll_ipa='ðət', syll_stress='U', syll_weight='H', is_stressed=False, is_heavy=True, is_strong=None, is_weak=None),\n",
       "  Syllable(syll_ipa=\"'wɪð\", syll_stress='P', syll_weight='H', is_stressed=True, is_heavy=True, is_strong=None, is_weak=None),\n",
       "  Syllable(syll_ipa=\"'ʤɛn\", syll_stress='P', syll_weight='H', is_stressed=True, is_heavy=True, is_strong=True, is_weak=False),\n",
       "  Syllable(syll_ipa='təl', syll_stress='U', syll_weight='H', is_stressed=False, is_heavy=True, is_strong=False, is_weak=True),\n",
       "  Syllable(syll_ipa=\"'wɛːk\", syll_stress='P', syll_weight='H', is_stressed=True, is_heavy=True, is_strong=None, is_weak=None),\n",
       "  Syllable(syll_ipa='dɪd', syll_stress='U', syll_weight='H', is_stressed=False, is_heavy=True, is_strong=None, is_weak=None),\n",
       "  Syllable(syll_ipa=\"'freɪm\", syll_stress='P', syll_weight='H', is_stressed=True, is_heavy=True, is_strong=None, is_weak=None)],\n",
       " [Syllable(syll_ipa=\"'ðoʊz\", syll_stress='P', syll_weight='H', is_stressed=True, is_heavy=True, is_strong=None, is_weak=None),\n",
       "  Syllable(syll_ipa=\"'aʊ\", syll_stress='P', syll_weight='H', is_stressed=True, is_heavy=True, is_strong=True, is_weak=False),\n",
       "  Syllable(syll_ipa='ɛːz', syll_stress='U', syll_weight='H', is_stressed=False, is_heavy=True, is_strong=False, is_weak=True),\n",
       "  Syllable(syll_ipa='ðət', syll_stress='U', syll_weight='H', is_stressed=False, is_heavy=True, is_strong=None, is_weak=None),\n",
       "  Syllable(syll_ipa='wɪθ', syll_stress='U', syll_weight='H', is_stressed=False, is_heavy=True, is_strong=None, is_weak=None),\n",
       "  Syllable(syll_ipa=\"'ʤɛn\", syll_stress='P', syll_weight='H', is_stressed=True, is_heavy=True, is_strong=True, is_weak=False),\n",
       "  Syllable(syll_ipa='təl', syll_stress='U', syll_weight='H', is_stressed=False, is_heavy=True, is_strong=False, is_weak=True),\n",
       "  Syllable(syll_ipa=\"'wɛːk\", syll_stress='P', syll_weight='H', is_stressed=True, is_heavy=True, is_strong=None, is_weak=None),\n",
       "  Syllable(syll_ipa=\"'dɪd\", syll_stress='P', syll_weight='H', is_stressed=True, is_heavy=True, is_strong=None, is_weak=None),\n",
       "  Syllable(syll_ipa=\"'freɪm\", syll_stress='P', syll_weight='H', is_stressed=True, is_heavy=True, is_strong=None, is_weak=None)],\n",
       " [Syllable(syll_ipa=\"'ðoʊz\", syll_stress='P', syll_weight='H', is_stressed=True, is_heavy=True, is_strong=None, is_weak=None),\n",
       "  Syllable(syll_ipa=\"'aʊ\", syll_stress='P', syll_weight='H', is_stressed=True, is_heavy=True, is_strong=True, is_weak=False),\n",
       "  Syllable(syll_ipa='ɛːz', syll_stress='U', syll_weight='H', is_stressed=False, is_heavy=True, is_strong=False, is_weak=True),\n",
       "  Syllable(syll_ipa=\"'ðæt\", syll_stress='P', syll_weight='H', is_stressed=True, is_heavy=True, is_strong=None, is_weak=None),\n",
       "  Syllable(syll_ipa=\"'wɪð\", syll_stress='P', syll_weight='H', is_stressed=True, is_heavy=True, is_strong=None, is_weak=None),\n",
       "  Syllable(syll_ipa=\"'ʤɛn\", syll_stress='P', syll_weight='H', is_stressed=True, is_heavy=True, is_strong=True, is_weak=False),\n",
       "  Syllable(syll_ipa='təl', syll_stress='U', syll_weight='H', is_stressed=False, is_heavy=True, is_strong=False, is_weak=True),\n",
       "  Syllable(syll_ipa=\"'wɛːk\", syll_stress='P', syll_weight='H', is_stressed=True, is_heavy=True, is_strong=None, is_weak=None),\n",
       "  Syllable(syll_ipa='dɪd', syll_stress='U', syll_weight='H', is_stressed=False, is_heavy=True, is_strong=None, is_weak=None),\n",
       "  Syllable(syll_ipa=\"'freɪm\", syll_stress='P', syll_weight='H', is_stressed=True, is_heavy=True, is_strong=None, is_weak=None)],\n",
       " [Syllable(syll_ipa=\"'ðoʊz\", syll_stress='P', syll_weight='H', is_stressed=True, is_heavy=True, is_strong=None, is_weak=None),\n",
       "  Syllable(syll_ipa=\"'aʊ\", syll_stress='P', syll_weight='H', is_stressed=True, is_heavy=True, is_strong=True, is_weak=False),\n",
       "  Syllable(syll_ipa='ɛːz', syll_stress='U', syll_weight='H', is_stressed=False, is_heavy=True, is_strong=False, is_weak=True),\n",
       "  Syllable(syll_ipa=\"'ðæt\", syll_stress='P', syll_weight='H', is_stressed=True, is_heavy=True, is_strong=None, is_weak=None),\n",
       "  Syllable(syll_ipa='wɪθ', syll_stress='U', syll_weight='H', is_stressed=False, is_heavy=True, is_strong=None, is_weak=None),\n",
       "  Syllable(syll_ipa=\"'ʤɛn\", syll_stress='P', syll_weight='H', is_stressed=True, is_heavy=True, is_strong=True, is_weak=False),\n",
       "  Syllable(syll_ipa='təl', syll_stress='U', syll_weight='H', is_stressed=False, is_heavy=True, is_strong=False, is_weak=True),\n",
       "  Syllable(syll_ipa=\"'wɛːk\", syll_stress='P', syll_weight='H', is_stressed=True, is_heavy=True, is_strong=None, is_weak=None),\n",
       "  Syllable(syll_ipa=\"'dɪd\", syll_stress='P', syll_weight='H', is_stressed=True, is_heavy=True, is_strong=None, is_weak=None),\n",
       "  Syllable(syll_ipa=\"'freɪm\", syll_stress='P', syll_weight='H', is_stressed=True, is_heavy=True, is_strong=None, is_weak=None)],\n",
       " [Syllable(syll_ipa=\"'ðoʊz\", syll_stress='P', syll_weight='H', is_stressed=True, is_heavy=True, is_strong=None, is_weak=None),\n",
       "  Syllable(syll_ipa=\"'aʊ\", syll_stress='P', syll_weight='H', is_stressed=True, is_heavy=True, is_strong=True, is_weak=False),\n",
       "  Syllable(syll_ipa='ɛːz', syll_stress='U', syll_weight='H', is_stressed=False, is_heavy=True, is_strong=False, is_weak=True),\n",
       "  Syllable(syll_ipa='ðət', syll_stress='U', syll_weight='H', is_stressed=False, is_heavy=True, is_strong=None, is_weak=None),\n",
       "  Syllable(syll_ipa=\"'wɪð\", syll_stress='P', syll_weight='H', is_stressed=True, is_heavy=True, is_strong=None, is_weak=None),\n",
       "  Syllable(syll_ipa=\"'ʤɛn\", syll_stress='P', syll_weight='H', is_stressed=True, is_heavy=True, is_strong=True, is_weak=False),\n",
       "  Syllable(syll_ipa='təl', syll_stress='U', syll_weight='H', is_stressed=False, is_heavy=True, is_strong=False, is_weak=True),\n",
       "  Syllable(syll_ipa=\"'wɛːk\", syll_stress='P', syll_weight='H', is_stressed=True, is_heavy=True, is_strong=None, is_weak=None),\n",
       "  Syllable(syll_ipa=\"'dɪd\", syll_stress='P', syll_weight='H', is_stressed=True, is_heavy=True, is_strong=None, is_weak=None),\n",
       "  Syllable(syll_ipa=\"'freɪm\", syll_stress='P', syll_weight='H', is_stressed=True, is_heavy=True, is_strong=None, is_weak=None)],\n",
       " [Syllable(syll_ipa=\"'ðoʊz\", syll_stress='P', syll_weight='H', is_stressed=True, is_heavy=True, is_strong=None, is_weak=None),\n",
       "  Syllable(syll_ipa=\"'aʊ\", syll_stress='P', syll_weight='H', is_stressed=True, is_heavy=True, is_strong=True, is_weak=False),\n",
       "  Syllable(syll_ipa='ɛːz', syll_stress='U', syll_weight='H', is_stressed=False, is_heavy=True, is_strong=False, is_weak=True),\n",
       "  Syllable(syll_ipa=\"'ðæt\", syll_stress='P', syll_weight='H', is_stressed=True, is_heavy=True, is_strong=None, is_weak=None),\n",
       "  Syllable(syll_ipa=\"'wɪð\", syll_stress='P', syll_weight='H', is_stressed=True, is_heavy=True, is_strong=None, is_weak=None),\n",
       "  Syllable(syll_ipa=\"'ʤɛn\", syll_stress='P', syll_weight='H', is_stressed=True, is_heavy=True, is_strong=True, is_weak=False),\n",
       "  Syllable(syll_ipa='təl', syll_stress='U', syll_weight='H', is_stressed=False, is_heavy=True, is_strong=False, is_weak=True),\n",
       "  Syllable(syll_ipa=\"'wɛːk\", syll_stress='P', syll_weight='H', is_stressed=True, is_heavy=True, is_strong=None, is_weak=None),\n",
       "  Syllable(syll_ipa=\"'dɪd\", syll_stress='P', syll_weight='H', is_stressed=True, is_heavy=True, is_strong=None, is_weak=None),\n",
       "  Syllable(syll_ipa=\"'freɪm\", syll_stress='P', syll_weight='H', is_stressed=True, is_heavy=True, is_strong=None, is_weak=None)],\n",
       " [Syllable(syll_ipa=\"'ðoʊz\", syll_stress='P', syll_weight='H', is_stressed=True, is_heavy=True, is_strong=None, is_weak=None),\n",
       "  Syllable(syll_ipa=\"'aʊrz\", syll_stress='P', syll_weight='H', is_stressed=True, is_heavy=True, is_strong=None, is_weak=None),\n",
       "  Syllable(syll_ipa='ðət', syll_stress='U', syll_weight='H', is_stressed=False, is_heavy=True, is_strong=None, is_weak=None),\n",
       "  Syllable(syll_ipa='wɪθ', syll_stress='U', syll_weight='H', is_stressed=False, is_heavy=True, is_strong=None, is_weak=None),\n",
       "  Syllable(syll_ipa=\"'ʤɛn\", syll_stress='P', syll_weight='H', is_stressed=True, is_heavy=True, is_strong=True, is_weak=False),\n",
       "  Syllable(syll_ipa='təl', syll_stress='U', syll_weight='H', is_stressed=False, is_heavy=True, is_strong=False, is_weak=True),\n",
       "  Syllable(syll_ipa=\"'wɛːk\", syll_stress='P', syll_weight='H', is_stressed=True, is_heavy=True, is_strong=None, is_weak=None),\n",
       "  Syllable(syll_ipa='dɪd', syll_stress='U', syll_weight='H', is_stressed=False, is_heavy=True, is_strong=None, is_weak=None),\n",
       "  Syllable(syll_ipa=\"'freɪm\", syll_stress='P', syll_weight='H', is_stressed=True, is_heavy=True, is_strong=None, is_weak=None)],\n",
       " [Syllable(syll_ipa=\"'ðoʊz\", syll_stress='P', syll_weight='H', is_stressed=True, is_heavy=True, is_strong=None, is_weak=None),\n",
       "  Syllable(syll_ipa=\"'aʊrz\", syll_stress='P', syll_weight='H', is_stressed=True, is_heavy=True, is_strong=None, is_weak=None),\n",
       "  Syllable(syll_ipa=\"'ðæt\", syll_stress='P', syll_weight='H', is_stressed=True, is_heavy=True, is_strong=None, is_weak=None),\n",
       "  Syllable(syll_ipa='wɪθ', syll_stress='U', syll_weight='H', is_stressed=False, is_heavy=True, is_strong=None, is_weak=None),\n",
       "  Syllable(syll_ipa=\"'ʤɛn\", syll_stress='P', syll_weight='H', is_stressed=True, is_heavy=True, is_strong=True, is_weak=False),\n",
       "  Syllable(syll_ipa='təl', syll_stress='U', syll_weight='H', is_stressed=False, is_heavy=True, is_strong=False, is_weak=True),\n",
       "  Syllable(syll_ipa=\"'wɛːk\", syll_stress='P', syll_weight='H', is_stressed=True, is_heavy=True, is_strong=None, is_weak=None),\n",
       "  Syllable(syll_ipa='dɪd', syll_stress='U', syll_weight='H', is_stressed=False, is_heavy=True, is_strong=None, is_weak=None),\n",
       "  Syllable(syll_ipa=\"'freɪm\", syll_stress='P', syll_weight='H', is_stressed=True, is_heavy=True, is_strong=None, is_weak=None)],\n",
       " [Syllable(syll_ipa=\"'ðoʊz\", syll_stress='P', syll_weight='H', is_stressed=True, is_heavy=True, is_strong=None, is_weak=None),\n",
       "  Syllable(syll_ipa=\"'aʊrz\", syll_stress='P', syll_weight='H', is_stressed=True, is_heavy=True, is_strong=None, is_weak=None),\n",
       "  Syllable(syll_ipa='ðət', syll_stress='U', syll_weight='H', is_stressed=False, is_heavy=True, is_strong=None, is_weak=None),\n",
       "  Syllable(syll_ipa=\"'wɪð\", syll_stress='P', syll_weight='H', is_stressed=True, is_heavy=True, is_strong=None, is_weak=None),\n",
       "  Syllable(syll_ipa=\"'ʤɛn\", syll_stress='P', syll_weight='H', is_stressed=True, is_heavy=True, is_strong=True, is_weak=False),\n",
       "  Syllable(syll_ipa='təl', syll_stress='U', syll_weight='H', is_stressed=False, is_heavy=True, is_strong=False, is_weak=True),\n",
       "  Syllable(syll_ipa=\"'wɛːk\", syll_stress='P', syll_weight='H', is_stressed=True, is_heavy=True, is_strong=None, is_weak=None),\n",
       "  Syllable(syll_ipa='dɪd', syll_stress='U', syll_weight='H', is_stressed=False, is_heavy=True, is_strong=None, is_weak=None),\n",
       "  Syllable(syll_ipa=\"'freɪm\", syll_stress='P', syll_weight='H', is_stressed=True, is_heavy=True, is_strong=None, is_weak=None)],\n",
       " [Syllable(syll_ipa=\"'ðoʊz\", syll_stress='P', syll_weight='H', is_stressed=True, is_heavy=True, is_strong=None, is_weak=None),\n",
       "  Syllable(syll_ipa=\"'aʊrz\", syll_stress='P', syll_weight='H', is_stressed=True, is_heavy=True, is_strong=None, is_weak=None),\n",
       "  Syllable(syll_ipa='ðət', syll_stress='U', syll_weight='H', is_stressed=False, is_heavy=True, is_strong=None, is_weak=None),\n",
       "  Syllable(syll_ipa='wɪθ', syll_stress='U', syll_weight='H', is_stressed=False, is_heavy=True, is_strong=None, is_weak=None),\n",
       "  Syllable(syll_ipa=\"'ʤɛn\", syll_stress='P', syll_weight='H', is_stressed=True, is_heavy=True, is_strong=True, is_weak=False),\n",
       "  Syllable(syll_ipa='təl', syll_stress='U', syll_weight='H', is_stressed=False, is_heavy=True, is_strong=False, is_weak=True),\n",
       "  Syllable(syll_ipa=\"'wɛːk\", syll_stress='P', syll_weight='H', is_stressed=True, is_heavy=True, is_strong=None, is_weak=None),\n",
       "  Syllable(syll_ipa=\"'dɪd\", syll_stress='P', syll_weight='H', is_stressed=True, is_heavy=True, is_strong=None, is_weak=None),\n",
       "  Syllable(syll_ipa=\"'freɪm\", syll_stress='P', syll_weight='H', is_stressed=True, is_heavy=True, is_strong=None, is_weak=None)],\n",
       " [Syllable(syll_ipa=\"'ðoʊz\", syll_stress='P', syll_weight='H', is_stressed=True, is_heavy=True, is_strong=None, is_weak=None),\n",
       "  Syllable(syll_ipa=\"'aʊrz\", syll_stress='P', syll_weight='H', is_stressed=True, is_heavy=True, is_strong=None, is_weak=None),\n",
       "  Syllable(syll_ipa=\"'ðæt\", syll_stress='P', syll_weight='H', is_stressed=True, is_heavy=True, is_strong=None, is_weak=None),\n",
       "  Syllable(syll_ipa=\"'wɪð\", syll_stress='P', syll_weight='H', is_stressed=True, is_heavy=True, is_strong=None, is_weak=None),\n",
       "  Syllable(syll_ipa=\"'ʤɛn\", syll_stress='P', syll_weight='H', is_stressed=True, is_heavy=True, is_strong=True, is_weak=False),\n",
       "  Syllable(syll_ipa='təl', syll_stress='U', syll_weight='H', is_stressed=False, is_heavy=True, is_strong=False, is_weak=True),\n",
       "  Syllable(syll_ipa=\"'wɛːk\", syll_stress='P', syll_weight='H', is_stressed=True, is_heavy=True, is_strong=None, is_weak=None),\n",
       "  Syllable(syll_ipa='dɪd', syll_stress='U', syll_weight='H', is_stressed=False, is_heavy=True, is_strong=None, is_weak=None),\n",
       "  Syllable(syll_ipa=\"'freɪm\", syll_stress='P', syll_weight='H', is_stressed=True, is_heavy=True, is_strong=None, is_weak=None)],\n",
       " [Syllable(syll_ipa=\"'ðoʊz\", syll_stress='P', syll_weight='H', is_stressed=True, is_heavy=True, is_strong=None, is_weak=None),\n",
       "  Syllable(syll_ipa=\"'aʊrz\", syll_stress='P', syll_weight='H', is_stressed=True, is_heavy=True, is_strong=None, is_weak=None),\n",
       "  Syllable(syll_ipa=\"'ðæt\", syll_stress='P', syll_weight='H', is_stressed=True, is_heavy=True, is_strong=None, is_weak=None),\n",
       "  Syllable(syll_ipa='wɪθ', syll_stress='U', syll_weight='H', is_stressed=False, is_heavy=True, is_strong=None, is_weak=None),\n",
       "  Syllable(syll_ipa=\"'ʤɛn\", syll_stress='P', syll_weight='H', is_stressed=True, is_heavy=True, is_strong=True, is_weak=False),\n",
       "  Syllable(syll_ipa='təl', syll_stress='U', syll_weight='H', is_stressed=False, is_heavy=True, is_strong=False, is_weak=True),\n",
       "  Syllable(syll_ipa=\"'wɛːk\", syll_stress='P', syll_weight='H', is_stressed=True, is_heavy=True, is_strong=None, is_weak=None),\n",
       "  Syllable(syll_ipa=\"'dɪd\", syll_stress='P', syll_weight='H', is_stressed=True, is_heavy=True, is_strong=None, is_weak=None),\n",
       "  Syllable(syll_ipa=\"'freɪm\", syll_stress='P', syll_weight='H', is_stressed=True, is_heavy=True, is_strong=None, is_weak=None)],\n",
       " [Syllable(syll_ipa=\"'ðoʊz\", syll_stress='P', syll_weight='H', is_stressed=True, is_heavy=True, is_strong=None, is_weak=None),\n",
       "  Syllable(syll_ipa=\"'aʊrz\", syll_stress='P', syll_weight='H', is_stressed=True, is_heavy=True, is_strong=None, is_weak=None),\n",
       "  Syllable(syll_ipa='ðət', syll_stress='U', syll_weight='H', is_stressed=False, is_heavy=True, is_strong=None, is_weak=None),\n",
       "  Syllable(syll_ipa=\"'wɪð\", syll_stress='P', syll_weight='H', is_stressed=True, is_heavy=True, is_strong=None, is_weak=None),\n",
       "  Syllable(syll_ipa=\"'ʤɛn\", syll_stress='P', syll_weight='H', is_stressed=True, is_heavy=True, is_strong=True, is_weak=False),\n",
       "  Syllable(syll_ipa='təl', syll_stress='U', syll_weight='H', is_stressed=False, is_heavy=True, is_strong=False, is_weak=True),\n",
       "  Syllable(syll_ipa=\"'wɛːk\", syll_stress='P', syll_weight='H', is_stressed=True, is_heavy=True, is_strong=None, is_weak=None),\n",
       "  Syllable(syll_ipa=\"'dɪd\", syll_stress='P', syll_weight='H', is_stressed=True, is_heavy=True, is_strong=None, is_weak=None),\n",
       "  Syllable(syll_ipa=\"'freɪm\", syll_stress='P', syll_weight='H', is_stressed=True, is_heavy=True, is_strong=None, is_weak=None)],\n",
       " [Syllable(syll_ipa=\"'ðoʊz\", syll_stress='P', syll_weight='H', is_stressed=True, is_heavy=True, is_strong=None, is_weak=None),\n",
       "  Syllable(syll_ipa=\"'aʊrz\", syll_stress='P', syll_weight='H', is_stressed=True, is_heavy=True, is_strong=None, is_weak=None),\n",
       "  Syllable(syll_ipa=\"'ðæt\", syll_stress='P', syll_weight='H', is_stressed=True, is_heavy=True, is_strong=None, is_weak=None),\n",
       "  Syllable(syll_ipa=\"'wɪð\", syll_stress='P', syll_weight='H', is_stressed=True, is_heavy=True, is_strong=None, is_weak=None),\n",
       "  Syllable(syll_ipa=\"'ʤɛn\", syll_stress='P', syll_weight='H', is_stressed=True, is_heavy=True, is_strong=True, is_weak=False),\n",
       "  Syllable(syll_ipa='təl', syll_stress='U', syll_weight='H', is_stressed=False, is_heavy=True, is_strong=False, is_weak=True),\n",
       "  Syllable(syll_ipa=\"'wɛːk\", syll_stress='P', syll_weight='H', is_stressed=True, is_heavy=True, is_strong=None, is_weak=None),\n",
       "  Syllable(syll_ipa=\"'dɪd\", syll_stress='P', syll_weight='H', is_stressed=True, is_heavy=True, is_strong=None, is_weak=None),\n",
       "  Syllable(syll_ipa=\"'freɪm\", syll_stress='P', syll_weight='H', is_stressed=True, is_heavy=True, is_strong=None, is_weak=None)]]"
      ]
     },
     "execution_count": 4,
     "metadata": {},
     "output_type": "execute_result"
    }
   ],
   "source": [
    "l.slot_matrix"
   ]
  },
  {
   "cell_type": "code",
   "execution_count": 5,
   "metadata": {},
   "outputs": [],
   "source": [
    "sl=wfl.slots[0]"
   ]
  },
  {
   "cell_type": "code",
   "execution_count": 6,
   "metadata": {},
   "outputs": [
    {
     "data": {
      "text/plain": [
       "'Those'"
      ]
     },
     "execution_count": 6,
     "metadata": {},
     "output_type": "execute_result"
    }
   ],
   "source": [
    "sl.txt"
   ]
  },
  {
   "cell_type": "markdown",
   "metadata": {},
   "source": []
  },
  {
   "cell_type": "code",
   "execution_count": 7,
   "metadata": {},
   "outputs": [],
   "source": [
    "assert len(l.slot_matrix) == len(l.wordform_matrix)"
   ]
  },
  {
   "cell_type": "code",
   "execution_count": null,
   "metadata": {},
   "outputs": [],
   "source": []
  },
  {
   "cell_type": "code",
   "execution_count": null,
   "metadata": {},
   "outputs": [],
   "source": []
  },
  {
   "cell_type": "code",
   "execution_count": null,
   "metadata": {},
   "outputs": [],
   "source": []
  }
 ],
 "metadata": {
  "kernelspec": {
   "display_name": "venv",
   "language": "python",
   "name": "python3"
  },
  "language_info": {
   "codemirror_mode": {
    "name": "ipython",
    "version": 3
   },
   "file_extension": ".py",
   "mimetype": "text/x-python",
   "name": "python",
   "nbconvert_exporter": "python",
   "pygments_lexer": "ipython3",
   "version": "3.11.0rc2"
  },
  "orig_nbformat": 4
 },
 "nbformat": 4,
 "nbformat_minor": 2
}
