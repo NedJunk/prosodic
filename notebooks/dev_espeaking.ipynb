{
 "cells": [
  {
   "cell_type": "code",
   "execution_count": 5,
   "metadata": {},
   "outputs": [],
   "source": [
    "import sys; sys.path.insert(0,'..')\n",
    "from prosodic.imports import *"
   ]
  },
  {
   "cell_type": "code",
   "execution_count": 6,
   "metadata": {},
   "outputs": [],
   "source": [
    "def get_espeak_env(paths=['/opt/homebrew/Cellar/espeak', '/usr/bin/espeak-ng'], lib_fn='libespeak.dylib'):\n",
    "    for path in paths:\n",
    "        if not os.path.exists(path): continue\n",
    "        if 'espeak-ng' in paths: \n",
    "            return path\n",
    "        for root,dirs,fns in os.walk(path):\n",
    "            if lib_fn in set(fns):\n",
    "                return os.path.join(root,lib_fn)\n",
    "    return ''\n",
    "\n",
    "def set_espeak_env():\n",
    "    path=get_espeak_env()\n",
    "    if path:\n",
    "        os.environ['PHONEMIZER_ESPEAK_LIBRARY']=path"
   ]
  },
  {
   "cell_type": "code",
   "execution_count": 7,
   "metadata": {},
   "outputs": [],
   "source": [
    "# # !pip install pyttsx3\n",
    "# import pyttsx3\n",
    "# engine = pyttsx3.init()"
   ]
  },
  {
   "cell_type": "code",
   "execution_count": 8,
   "metadata": {},
   "outputs": [],
   "source": [
    "set_espeak_env()"
   ]
  },
  {
   "cell_type": "code",
   "execution_count": 9,
   "metadata": {},
   "outputs": [],
   "source": [
    "from phonemizer.separator import Separator\n",
    "from phonemizer.phonemize import phonemize\n",
    "\n",
    "text='daffodilly'"
   ]
  },
  {
   "cell_type": "code",
   "execution_count": 46,
   "metadata": {},
   "outputs": [],
   "source": [
    "# phn is a list of 190 phonemized sentences\n",
    "phn = phonemize(\n",
    "    text,\n",
    "    language='en-us',\n",
    "    backend='espeak',\n",
    "    separator=Separator(phone=' ', word='|', syllable='.'),\n",
    "    strip=True,\n",
    "    preserve_punctuation=False,\n",
    "    with_stress=True\n",
    ")"
   ]
  },
  {
   "cell_type": "code",
   "execution_count": 48,
   "metadata": {},
   "outputs": [
    {
     "data": {
      "text/plain": [
       "'d ˈæ f ə d ˌɪ l i'"
      ]
     },
     "execution_count": 48,
     "metadata": {},
     "output_type": "execute_result"
    }
   ],
   "source": [
    "phn"
   ]
  },
  {
   "cell_type": "code",
   "execution_count": 49,
   "metadata": {},
   "outputs": [],
   "source": [
    "# !pip install git+https://github.com/dmort27/syllabiphon"
   ]
  },
  {
   "cell_type": "code",
   "execution_count": 50,
   "metadata": {},
   "outputs": [],
   "source": [
    "from syllabiphon.syllabify import Syllabify"
   ]
  },
  {
   "cell_type": "code",
   "execution_count": 51,
   "metadata": {},
   "outputs": [],
   "source": [
    "syllabif = Syllabify()"
   ]
  },
  {
   "cell_type": "code",
   "execution_count": 57,
   "metadata": {},
   "outputs": [
    {
     "data": {
      "text/plain": [
       "'d ˈæ f ə d ˌɪ l i'"
      ]
     },
     "execution_count": 57,
     "metadata": {},
     "output_type": "execute_result"
    }
   ],
   "source": [
    "phn"
   ]
  },
  {
   "cell_type": "code",
   "execution_count": 59,
   "metadata": {},
   "outputs": [
    {
     "data": {
      "text/plain": [
       "[(Seg(ph='d', son=4), True),\n",
       " (Seg(ph='æ', son=9), False),\n",
       " (Seg(ph='f', son=4), True),\n",
       " (Seg(ph='ə', son=9), False),\n",
       " (Seg(ph='d', son=4), True),\n",
       " (Seg(ph='ɪ', son=9), False),\n",
       " (Seg(ph='l', son=6), True),\n",
       " (Seg(ph='i', son=9), False)]"
      ]
     },
     "execution_count": 59,
     "metadata": {},
     "output_type": "execute_result"
    }
   ],
   "source": [
    "grid=syllabif._to_grid(phn)\n",
    "bounds=syllabif.find_boundaries(grid)\n",
    "list(zip(grid,bounds))"
   ]
  },
  {
   "cell_type": "code",
   "execution_count": 45,
   "metadata": {},
   "outputs": [
    {
     "data": {
      "text/plain": [
       "Seg(ph='æ', son=9)"
      ]
     },
     "execution_count": 45,
     "metadata": {},
     "output_type": "execute_result"
    }
   ],
   "source": [
    "grid[1]"
   ]
  },
  {
   "cell_type": "code",
   "execution_count": 34,
   "metadata": {},
   "outputs": [
    {
     "data": {
      "text/plain": [
       "'həloʊ'"
      ]
     },
     "execution_count": 34,
     "metadata": {},
     "output_type": "execute_result"
    }
   ],
   "source": [
    "x"
   ]
  },
  {
   "cell_type": "code",
   "execution_count": 24,
   "metadata": {},
   "outputs": [
    {
     "ename": "TypeError",
     "evalue": "'module' object is not callable",
     "output_type": "error",
     "traceback": [
      "\u001b[0;31m---------------------------------------------------------------------------\u001b[0m",
      "\u001b[0;31mTypeError\u001b[0m                                 Traceback (most recent call last)",
      "\u001b[1;32m/Users/ryan/github/prosodic/notebooks/dev_espeaking.ipynb Cell 15\u001b[0m line \u001b[0;36m1\n\u001b[0;32m----> <a href='vscode-notebook-cell:/Users/ryan/github/prosodic/notebooks/dev_espeaking.ipynb#X35sZmlsZQ%3D%3D?line=0'>1</a>\u001b[0m syllabify(x)\n",
      "\u001b[0;31mTypeError\u001b[0m: 'module' object is not callable"
     ]
    }
   ],
   "source": [
    "syllabify(x)"
   ]
  },
  {
   "cell_type": "code",
   "execution_count": null,
   "metadata": {},
   "outputs": [],
   "source": []
  }
 ],
 "metadata": {
  "kernelspec": {
   "display_name": "venv",
   "language": "python",
   "name": "python3"
  },
  "language_info": {
   "codemirror_mode": {
    "name": "ipython",
    "version": 3
   },
   "file_extension": ".py",
   "mimetype": "text/x-python",
   "name": "python",
   "nbconvert_exporter": "python",
   "pygments_lexer": "ipython3",
   "version": "3.11.0rc2"
  },
  "orig_nbformat": 4
 },
 "nbformat": 4,
 "nbformat_minor": 2
}
