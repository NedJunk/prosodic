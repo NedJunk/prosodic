{
 "cells": [
  {
   "cell_type": "code",
   "execution_count": 2,
   "metadata": {},
   "outputs": [],
   "source": [
    "# !rm -rf /Users/ryan/prosodic_data/data/english_wordtypes\n",
    "import sys; sys.path.insert(0,'..')\n",
    "from prosodic.imports import *\n",
    "from IPython.display import HTML"
   ]
  },
  {
   "cell_type": "code",
   "execution_count": 37,
   "metadata": {},
   "outputs": [
    {
     "data": {
      "text/html": [
       "<div>\n",
       "<style scoped>\n",
       "    .dataframe tbody tr th:only-of-type {\n",
       "        vertical-align: middle;\n",
       "    }\n",
       "\n",
       "    .dataframe tbody tr th {\n",
       "        vertical-align: top;\n",
       "    }\n",
       "\n",
       "    .dataframe thead th {\n",
       "        text-align: right;\n",
       "    }\n",
       "</style>\n",
       "<table border=\"1\" class=\"dataframe\">\n",
       "  <thead>\n",
       "    <tr style=\"text-align: right;\">\n",
       "      <th></th>\n",
       "      <th></th>\n",
       "      <th></th>\n",
       "      <th></th>\n",
       "      <th></th>\n",
       "      <th></th>\n",
       "      <th></th>\n",
       "      <th></th>\n",
       "      <th></th>\n",
       "      <th>word_lang</th>\n",
       "      <th>word_num_forms</th>\n",
       "      <th>syll_is_stressed</th>\n",
       "      <th>syll_is_heavy</th>\n",
       "      <th>syll_is_strong</th>\n",
       "      <th>syll_is_weak</th>\n",
       "    </tr>\n",
       "    <tr>\n",
       "      <th>line_txt</th>\n",
       "      <th>sent_num</th>\n",
       "      <th>sentpart_num</th>\n",
       "      <th>wordtoken_num</th>\n",
       "      <th>wordtoken_txt</th>\n",
       "      <th>wordform_num</th>\n",
       "      <th>syll_num</th>\n",
       "      <th>syll_txt</th>\n",
       "      <th>syll_ipa</th>\n",
       "      <th></th>\n",
       "      <th></th>\n",
       "      <th></th>\n",
       "      <th></th>\n",
       "      <th></th>\n",
       "      <th></th>\n",
       "    </tr>\n",
       "  </thead>\n",
       "  <tbody>\n",
       "    <tr>\n",
       "      <th rowspan=\"3\" valign=\"top\">hello world</th>\n",
       "      <th rowspan=\"3\" valign=\"top\">1</th>\n",
       "      <th rowspan=\"3\" valign=\"top\">1</th>\n",
       "      <th rowspan=\"2\" valign=\"top\">1</th>\n",
       "      <th rowspan=\"2\" valign=\"top\">hello</th>\n",
       "      <th rowspan=\"2\" valign=\"top\">1</th>\n",
       "      <th>1</th>\n",
       "      <th>hel</th>\n",
       "      <th>hə</th>\n",
       "      <td>en</td>\n",
       "      <td>1</td>\n",
       "      <td></td>\n",
       "      <td></td>\n",
       "      <td></td>\n",
       "      <td>1</td>\n",
       "    </tr>\n",
       "    <tr>\n",
       "      <th>2</th>\n",
       "      <th>lo</th>\n",
       "      <th>'loʊ</th>\n",
       "      <td>en</td>\n",
       "      <td>1</td>\n",
       "      <td>1</td>\n",
       "      <td>1</td>\n",
       "      <td>1</td>\n",
       "      <td></td>\n",
       "    </tr>\n",
       "    <tr>\n",
       "      <th>2</th>\n",
       "      <th>world</th>\n",
       "      <th>1</th>\n",
       "      <th>1</th>\n",
       "      <th>world</th>\n",
       "      <th>'wɛːld</th>\n",
       "      <td>en</td>\n",
       "      <td>1</td>\n",
       "      <td>1</td>\n",
       "      <td>1</td>\n",
       "      <td></td>\n",
       "      <td></td>\n",
       "    </tr>\n",
       "  </tbody>\n",
       "</table>\n",
       "</div>"
      ],
      "text/plain": [
       "Line(txt='hello world')"
      ]
     },
     "execution_count": 37,
     "metadata": {},
     "output_type": "execute_result"
    }
   ],
   "source": [
    "l=Line('hello world')\n",
    "l"
   ]
  },
  {
   "cell_type": "code",
   "execution_count": 38,
   "metadata": {},
   "outputs": [],
   "source": [
    "def get_initial_whitespace(xstr):\n",
    "    o=[]\n",
    "    for i,x in enumerate(xstr):\n",
    "        if x == x.strip(): break\n",
    "        o.append(x)\n",
    "    return ''.join(o)"
   ]
  },
  {
   "cell_type": "code",
   "execution_count": 40,
   "metadata": {},
   "outputs": [
    {
     "data": {
      "text/plain": [
       "'    \\n '"
      ]
     },
     "execution_count": 40,
     "metadata": {},
     "output_type": "execute_result"
    }
   ],
   "source": [
    "get_initial_whitespace('    \\n hello')"
   ]
  },
  {
   "cell_type": "code",
   "execution_count": 49,
   "metadata": {},
   "outputs": [],
   "source": [
    "\n",
    "\n",
    "\n",
    "def html(self, viols=True, between_words=' ',between_sylls='',line_id='ID'):\n",
    "    wordtokend = {wt:[] for wt in self.wordtokens}\n",
    "    for slot in self.best_parse.slots:\n",
    "        wordtokend[slot.unit.wordtoken].append(slot)\n",
    "    output=[]\n",
    "    for wordtoken in wordtokend:\n",
    "        prefstr=get_initial_whitespace(wordtoken.txt)\n",
    "        output.append(prefstr)\n",
    "        wordtoken_slots = wordtokend[wordtoken]\n",
    "        if wordtoken_slots:\n",
    "            for slot in wordtoken_slots:\n",
    "                pos=slot.parent\n",
    "                spclass='meter_' + ('strong' if slot.is_prom else 'weak')\n",
    "                stclass='stress_' + ('strong' if slot.unit.is_stressed else 'weak')\n",
    "                slotstr=f'<span class=\"{spclass} {stclass}\">{slot.unit.txt}</span>'\n",
    "                if pos.violset:\n",
    "                    viol_str=' '.join(pos.violset)\n",
    "                    viol_title = 'Violated %s constraints: %s' % (len(pos.violset), viol_str)\n",
    "                    slotstr=f'<span class=\"violation\" title=\"{viol_title}\" id=\"viol__line_{self.num}\">{slotstr}</span>'\n",
    "                output.append(slotstr)\n",
    "        else:\n",
    "            output.append(wordtoken.txt)\n",
    "    return ''.join(output)    \n",
    "\n",
    "    # for slot in self\n",
    "\n",
    "    # for wordtoken in wordtokens:\n",
    "\n",
    "\n",
    "\n",
    "    # for pos in self.positions:\n",
    "    #     violated=bool(pos.violset)\n",
    "    #     if viols and violated:\n",
    "    #         viol_str=' '.join(pos.violset)\n",
    "    #         viol_title = 'Violated %s constraints: %s' % (len(pos.violset), viol_str)\n",
    "    #         output.append(f'<span class=\"violation\" title=\"{viol_title}\" id=\"viol__line_{line_num}\">')\n",
    "\n",
    "    #     for slot in pos.slots:\n",
    "    #         spclass='meter_' + ('strong' if pos.is_prom else 'weak')\n",
    "    #         stclass='stress_' + ('strong' if slot.unit.is_stressed else 'weak')\n",
    "    #         slotstr=f'<span class=\"{spclass} {stclass}\">{slot.unit.txt}</span>'\n",
    "    #         if last_word and last_word is not slot.unit.wordtoken:\n",
    "    #             output.append(between_words)\n",
    "    #         output.append(slotstr)\n",
    "    #         last_word  = slot.unit.wordtoken\n",
    "\n",
    "\n",
    "    #     if viols and violated:\n",
    "    #         output.append(f'</span><script type=\"text/javascript\">tippy(\"#viol__line_{line_num}\")</script>')\n",
    "    #     if pos.is_prom and self.is_rising: output.append('|')\n",
    "    #     elif not pos.is_prom and not self.is_rising: output.append('|')\n",
    "    # if output and output[-1]=='|': output.pop()\n",
    "    # return ''.join(output)"
   ]
  },
  {
   "cell_type": "code",
   "execution_count": 50,
   "metadata": {},
   "outputs": [],
   "source": [
    "Line.html=html"
   ]
  },
  {
   "cell_type": "code",
   "execution_count": 55,
   "metadata": {},
   "outputs": [
    {
     "data": {
      "text/html": [
       "\n",
       "<style>\n",
       ".violation { color:red; }\n",
       ".meter_strong { font-weight:bold; }\n",
       "</style>  \n"
      ],
      "text/plain": [
       "<IPython.core.display.HTML object>"
      ]
     },
     "execution_count": 55,
     "metadata": {},
     "output_type": "execute_result"
    }
   ],
   "source": [
    "HTML('''\n",
    "<style>\n",
    ".violation { color:red; }\n",
    ".meter_strong { font-weight:bold; }\n",
    "</style>  \n",
    "''')"
   ]
  },
  {
   "cell_type": "code",
   "execution_count": 56,
   "metadata": {},
   "outputs": [
    {
     "name": "stderr",
     "output_type": "stream",
     "text": [
      "\u001b[32m2023-10-09 16:06:32.305\u001b[0m | \u001b[36mset_meter\u001b[0m | \u001b[34m\u001b[1mSet meter to: Meter(constraints=('w_peak', 'w_stress', 's_unstress', 'unres_across', 'unres_within'), categorical_constraints=(), max_s=2, max_w=2, resolve_optionality=True)\u001b[0m | \u001b[36mtexts.py\u001b[0m:\u001b[36m52\u001b[0m\n"
     ]
    },
    {
     "data": {
      "text/html": [
       "<span class=\"meter_weak stress_weak\">Those</span> <span class=\"meter_strong stress_strong\">ho</span><span class=\"meter_weak stress_weak\">urs</span>, <span class=\"meter_strong stress_strong\">that</span> <span class=\"meter_weak stress_weak\">with</span> <span class=\"meter_strong stress_strong\">gen</span><span class=\"meter_weak stress_weak\">tle</span> <span class=\"meter_strong stress_strong\">work</span> <span class=\"meter_weak stress_weak\">did</span> <span class=\"meter_strong stress_strong\">frame</span>"
      ],
      "text/plain": [
       "<IPython.core.display.HTML object>"
      ]
     },
     "execution_count": 56,
     "metadata": {},
     "output_type": "execute_result"
    }
   ],
   "source": [
    "line=Line(sonnet.strip().split('\\n')[0])\n",
    "HTML(line.html())"
   ]
  },
  {
   "cell_type": "code",
   "execution_count": 20,
   "metadata": {},
   "outputs": [],
   "source": [
    "Parse.html = html"
   ]
  },
  {
   "cell_type": "code",
   "execution_count": 21,
   "metadata": {},
   "outputs": [
    {
     "name": "stderr",
     "output_type": "stream",
     "text": [
      "\u001b[32m2023-10-09 08:32:30.417\u001b[0m | \u001b[36mset_meter\u001b[0m | \u001b[34m\u001b[1mSet meter to: Meter(constraints=('w_peak', 'w_stress', 's_unstress', 'unres_across', 'unres_within'), categorical_constraints=(), max_s=2, max_w=2, resolve_optionality=True)\u001b[0m | \u001b[36mtexts.py\u001b[0m:\u001b[36m52\u001b[0m\n"
     ]
    },
    {
     "data": {
      "text/html": [
       "<span class=\"violation\" title=\"Violated 1 constraints: s_unstress\" id=\"viol__line_None\"><span class=\"meter_strong stress_weak\">my</span></span><script type=\"text/javascript\">tippy(\"#viol__line_None\")</script>| <span class=\"meter_weak stress_weak\">di</span><span class=\"violation\" title=\"Violated 1 constraints: s_unstress\" id=\"viol__line_None\"><span class=\"meter_strong stress_strong\">sas</span><span class=\"meter_strong stress_weak\">ter</span></span><script type=\"text/javascript\">tippy(\"#viol__line_None\")</script>| <span class=\"meter_weak stress_weak\">my</span> <span class=\"meter_strong stress_strong\">horse</span>"
      ],
      "text/plain": [
       "<IPython.core.display.HTML object>"
      ]
     },
     "execution_count": 21,
     "metadata": {},
     "output_type": "execute_result"
    }
   ],
   "source": [
    "HTML(Line('my disaster, my horse').best_parse.html())"
   ]
  },
  {
   "cell_type": "code",
   "execution_count": null,
   "metadata": {},
   "outputs": [],
   "source": []
  }
 ],
 "metadata": {
  "kernelspec": {
   "display_name": "venv",
   "language": "python",
   "name": "python3"
  },
  "language_info": {
   "codemirror_mode": {
    "name": "ipython",
    "version": 3
   },
   "file_extension": ".py",
   "mimetype": "text/x-python",
   "name": "python",
   "nbconvert_exporter": "python",
   "pygments_lexer": "ipython3",
   "version": "3.11.0rc2"
  },
  "orig_nbformat": 4
 },
 "nbformat": 4,
 "nbformat_minor": 2
}
