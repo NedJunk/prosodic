{
 "cells": [
  {
   "cell_type": "code",
   "execution_count": 1,
   "metadata": {},
   "outputs": [],
   "source": [
    "# # !rm -rf /Users/ryan/prosodic_data/data/english_wordforms.sqlitedict\n",
    "# # !pip install -qU pip wheel\n",
    "# # !pip install -qU -r ../requirements.txt\n",
    "import sys; sys.path.insert(0,'..')\n",
    "from prosodic.imports import *"
   ]
  },
  {
   "cell_type": "code",
   "execution_count": 3,
   "metadata": {},
   "outputs": [
    {
     "name": "stdout",
     "output_type": "stream",
     "text": [
      "Empty DataFrame\n",
      "Columns: []\n",
      "Index: []\n"
     ]
    }
   ],
   "source": [
    "t=Text('hello world')\n",
    "t.lines[0].parse()"
   ]
  },
  {
   "cell_type": "code",
   "execution_count": null,
   "metadata": {},
   "outputs": [],
   "source": []
  },
  {
   "cell_type": "code",
   "execution_count": null,
   "metadata": {},
   "outputs": [],
   "source": []
  },
  {
   "cell_type": "markdown",
   "metadata": {},
   "source": []
  },
  {
   "cell_type": "code",
   "execution_count": 3,
   "metadata": {},
   "outputs": [],
   "source": [
    "poemstr=\"\"\"\n",
    "Those hours, that with gentle work did frame\n",
    "The lovely gaze where every eye doth dwell,\n",
    "Will play the tyrants to the very same\n",
    "And that unfair which fairly doth excel;\n",
    "For never-resting time leads summer on\n",
    "To hideous winter, and confounds him there;\n",
    "Sap checked with frost, and lusty leaves quite gone,\n",
    "Beauty o’er-snowed and bareness every where:\n",
    "Then were not summer’s distillation left,\n",
    "A liquid prisoner pent in walls of glass,\n",
    "Beauty’s effect with beauty were bereft,\n",
    "Nor it, nor no remembrance what it was:\n",
    "But flowers distill’d, though they with winter meet,\n",
    "Leese but their show; their substance still lives sweet.\n",
    "\"\"\"\n",
    "poem = Text(poemstr)"
   ]
  },
  {
   "cell_type": "code",
   "execution_count": 4,
   "metadata": {},
   "outputs": [],
   "source": [
    "# %lprun -f poem.parse()"
   ]
  },
  {
   "cell_type": "code",
   "execution_count": 5,
   "metadata": {},
   "outputs": [
    {
     "name": "stderr",
     "output_type": "stream",
     "text": [
      "Bounding parses: 100%|██████████| 288/288 [00:00<00:00, 65379.93it/s]\n",
      "Bounding parses: 100%|██████████| 466/466 [00:00<00:00, 40196.31it/s]\n",
      "Bounding parses: 100%|██████████| 178/178 [00:00<00:00, 100011.54it/s]\n",
      "Bounding parses: 100%|██████████| 178/178 [00:00<00:00, 103005.81it/s]\n",
      "Bounding parses: 100%|██████████| 178/178 [00:00<00:00, 106336.15it/s]\n",
      "Bounding parses: 100%|██████████| 288/288 [00:00<00:00, 63886.16it/s]\n",
      "Bounding parses: 100%|██████████| 178/178 [00:00<00:00, 103908.99it/s]\n",
      "Bounding parses: 100%|██████████| 466/466 [00:00<00:00, 39959.64it/s]\n",
      "Bounding parses: 100%|██████████| 178/178 [00:00<00:00, 104155.43it/s]\n",
      "Bounding parses: 100%|██████████| 466/466 [00:00<00:00, 39238.45it/s]\n",
      "Bounding parses: 100%|██████████| 178/178 [00:00<00:00, 103190.89it/s]\n",
      "Bounding parses: 100%|██████████| 178/178 [00:00<00:00, 102708.23it/s]\n",
      "Bounding parses: 100%|██████████| 288/288 [00:00<00:00, 65814.51it/s]\n",
      "Bounding parses: 100%|██████████| 178/178 [00:00<00:00, 104960.79it/s]\n"
     ]
    },
    {
     "data": {
      "text/plain": [
       "[5, 1, 1, 1, 1, 3, 2, 5, 3, 1, 7, 6, 6, 4]"
      ]
     },
     "execution_count": 5,
     "metadata": {},
     "output_type": "execute_result"
    },
    {
     "ename": "",
     "evalue": "",
     "output_type": "error",
     "traceback": [
      "\u001b[1;31mThe Kernel crashed while executing code in the the current cell or a previous cell. Please review the code in the cell(s) to identify a possible cause of the failure. Click <a href='https://aka.ms/vscodeJupyterKernelCrash'>here</a> for more info. View Jupyter <a href='command:jupyter.viewOutput'>log</a> for further details."
     ]
    }
   ],
   "source": [
    "[len(l.best_parses) for l in poem.lines]"
   ]
  },
  {
   "cell_type": "code",
   "execution_count": null,
   "metadata": {},
   "outputs": [],
   "source": [
    "[len(l.best_parses) for l in poem.lines]"
   ]
  },
  {
   "cell_type": "code",
   "execution_count": null,
   "metadata": {},
   "outputs": [],
   "source": []
  },
  {
   "cell_type": "code",
   "execution_count": null,
   "metadata": {},
   "outputs": [],
   "source": []
  }
 ],
 "metadata": {
  "kernelspec": {
   "display_name": "venv",
   "language": "python",
   "name": "python3"
  },
  "language_info": {
   "codemirror_mode": {
    "name": "ipython",
    "version": 3
   },
   "file_extension": ".py",
   "mimetype": "text/x-python",
   "name": "python",
   "nbconvert_exporter": "python",
   "pygments_lexer": "ipython3",
   "version": "3.11.0rc2"
  },
  "orig_nbformat": 4
 },
 "nbformat": 4,
 "nbformat_minor": 2
}
