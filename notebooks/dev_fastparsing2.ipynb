{
 "cells": [
  {
   "cell_type": "code",
   "execution_count": 1,
   "metadata": {},
   "outputs": [],
   "source": [
    "# !rm -rf /Users/ryan/prosodic_data/data/english_wordtypes\n",
    "import sys; sys.path.insert(0,'..')\n",
    "from prosodic.imports import *"
   ]
  },
  {
   "cell_type": "code",
   "execution_count": 2,
   "metadata": {},
   "outputs": [
    {
     "data": {
      "text/plain": [
       "16"
      ]
     },
     "execution_count": 2,
     "metadata": {},
     "output_type": "execute_result"
    }
   ],
   "source": [
    "x='Once upon a midnight dreary, while I pondered, weak and weary,'\n",
    "line=Line(x)\n",
    "wfm=line.wordform_matrix\n",
    "wfl=wfm[0]\n",
    "wfl.num_sylls"
   ]
  },
  {
   "cell_type": "code",
   "execution_count": 3,
   "metadata": {},
   "outputs": [
    {
     "data": {
      "text/plain": [
       "[Parse(txt='once U pon A mi DNIGHT drea RY while I pon DERED weak AND wea RY', meter='-+-+-+-+-+-+-+-+', stress='+-+-+++---+-+-+-', score=14, is_bounded=0)]"
      ]
     },
     "execution_count": 3,
     "metadata": {},
     "output_type": "execute_result"
    }
   ],
   "source": [
    "Parse(x).branch()"
   ]
  },
  {
   "cell_type": "code",
   "execution_count": 13,
   "metadata": {},
   "outputs": [],
   "source": [
    "def parse_fast(self, meter=None, min_slots=4, **meter_kwargs):\n",
    "    if meter is None: meter=self.set_meter(**meter_kwargs)\n",
    "    wtypes = ['w'*n for n in range(1,meter.max_w+1)]\n",
    "    stypes = ['s'*n for n in range(1,meter.max_s+1)]\n",
    "    pos_types = wtypes + stypes\n",
    "    parses = ParseList([\n",
    "        Parse(wfl, pos, meter=meter, parent=self)\n",
    "        for wfl in self.wordform_matrix[:1] \n",
    "        for pos in pos_types\n",
    "    ])\n",
    "    i=0\n",
    "    while True:\n",
    "        i+=1\n",
    "        logger.debug(f'Now at {i}A, there are {len(parses)} parses')\n",
    "        parses = ParseList([\n",
    "            newparse\n",
    "            for parse in parses.unbounded\n",
    "            for newparse in parse.branch(max_s=meter.max_s,max_w=meter.max_w)\n",
    "            if newparse is not None\n",
    "        ])\n",
    "        parses.bound(meter=meter, progress=False)\n",
    "        if all(p.is_complete for p in parses): break\n",
    "        if i>1000: \n",
    "            logger.error('!')\n",
    "            break\n",
    "    o = parses.unbounded\n",
    "    o.data.sort()\n",
    "    return o\n",
    "        \n",
    "    # news=[]\n",
    "    # for pos_type in pos_types:\n",
    "    #     logger.debug(f'pos_type is {pos_type}')\n",
    "    #     if starter and starter[-1][-1]==pos_type[0][0]: continue\n",
    "    #     new = starter + pos_type\n",
    "    #     logger.debug(f'new pos_type is {new}')\n",
    "    #     if getlenparse(new)<=nsyll:\n",
    "    #         news.append(new)\n",
    "    \n",
    "    # # news = battle_parses(news)\n",
    "    # if news: yield from news\n",
    "    # # print('\\n'.join('|'.join(x) for x in news))\n",
    "    # for new in news: yield from iter_mpos(nsyll, starter=new, pos_types=pos_types)\n",
    "\n",
    "ParseableText.parse_fast = parse_fast"
   ]
  },
  {
   "cell_type": "code",
   "execution_count": 14,
   "metadata": {},
   "outputs": [
    {
     "name": "stderr",
     "output_type": "stream",
     "text": [
      "\u001b[32m2023-10-08 19:22:35.180\u001b[0m | \u001b[36mset_meter\u001b[0m | \u001b[34m\u001b[1mSet meter to: Meter(constraints=('w_peak', 'w_stress', 's_unstress', 'unres_across', 'unres_within'), categorical_constraints=(), max_s=2, max_w=2, resolve_optionality=True)\u001b[0m | \u001b[36mtexts.py\u001b[0m:\u001b[36m52\u001b[0m\n",
      "\u001b[32m2023-10-08 19:22:35.181\u001b[0m | \u001b[36mparse_fast\u001b[0m | \u001b[34m\u001b[1mNow at 1A, there are 4 parses\u001b[0m | \u001b[36m3083766071.py\u001b[0m:\u001b[36m14\u001b[0m\n",
      "\u001b[32m2023-10-08 19:22:35.183\u001b[0m | \u001b[36mbound\u001b[0m | \u001b[34m\u001b[1mBounding 8 with meter Meter(constraints=('w_peak', 'w_stress', 's_unstress', 'unres_across', 'unres_within'), categorical_constraints=(), max_s=2, max_w=2, resolve_optionality=True)\u001b[0m | \u001b[36mparsing.py\u001b[0m:\u001b[36m532\u001b[0m\n",
      "\u001b[32m2023-10-08 19:22:35.183\u001b[0m | \u001b[36mparse_fast\u001b[0m | \u001b[34m\u001b[1mNow at 2A, there are 8 parses\u001b[0m | \u001b[36m3083766071.py\u001b[0m:\u001b[36m14\u001b[0m\n",
      "\u001b[32m2023-10-08 19:22:35.185\u001b[0m | \u001b[36mbound\u001b[0m | \u001b[34m\u001b[1mBounding 16 with meter Meter(constraints=('w_peak', 'w_stress', 's_unstress', 'unres_across', 'unres_within'), categorical_constraints=(), max_s=2, max_w=2, resolve_optionality=True)\u001b[0m | \u001b[36mparsing.py\u001b[0m:\u001b[36m532\u001b[0m\n",
      "\u001b[32m2023-10-08 19:22:35.186\u001b[0m | \u001b[36mparse_fast\u001b[0m | \u001b[34m\u001b[1mNow at 3A, there are 16 parses\u001b[0m | \u001b[36m3083766071.py\u001b[0m:\u001b[36m14\u001b[0m\n",
      "\u001b[32m2023-10-08 19:22:35.187\u001b[0m | \u001b[36mbound\u001b[0m | \u001b[34m\u001b[1mBounding 12 with meter Meter(constraints=('w_peak', 'w_stress', 's_unstress', 'unres_across', 'unres_within'), categorical_constraints=(), max_s=2, max_w=2, resolve_optionality=True)\u001b[0m | \u001b[36mparsing.py\u001b[0m:\u001b[36m532\u001b[0m\n",
      "\u001b[32m2023-10-08 19:22:35.188\u001b[0m | \u001b[36mparse_fast\u001b[0m | \u001b[34m\u001b[1mNow at 4A, there are 12 parses\u001b[0m | \u001b[36m3083766071.py\u001b[0m:\u001b[36m14\u001b[0m\n",
      "\u001b[32m2023-10-08 19:22:35.190\u001b[0m | \u001b[36mbound\u001b[0m | \u001b[34m\u001b[1mBounding 16 with meter Meter(constraints=('w_peak', 'w_stress', 's_unstress', 'unres_across', 'unres_within'), categorical_constraints=(), max_s=2, max_w=2, resolve_optionality=True)\u001b[0m | \u001b[36mparsing.py\u001b[0m:\u001b[36m532\u001b[0m\n",
      "\u001b[32m2023-10-08 19:22:35.190\u001b[0m | \u001b[36mparse_fast\u001b[0m | \u001b[34m\u001b[1mNow at 5A, there are 16 parses\u001b[0m | \u001b[36m3083766071.py\u001b[0m:\u001b[36m14\u001b[0m\n",
      "\u001b[32m2023-10-08 19:22:35.195\u001b[0m | \u001b[36mbound\u001b[0m | \u001b[34m\u001b[1mBounding 28 with meter Meter(constraints=('w_peak', 'w_stress', 's_unstress', 'unres_across', 'unres_within'), categorical_constraints=(), max_s=2, max_w=2, resolve_optionality=True)\u001b[0m | \u001b[36mparsing.py\u001b[0m:\u001b[36m532\u001b[0m\n",
      "\u001b[32m2023-10-08 19:22:35.196\u001b[0m | \u001b[36mparse_fast\u001b[0m | \u001b[34m\u001b[1mNow at 6A, there are 28 parses\u001b[0m | \u001b[36m3083766071.py\u001b[0m:\u001b[36m14\u001b[0m\n",
      "\u001b[32m2023-10-08 19:22:35.201\u001b[0m | \u001b[36mbound\u001b[0m | \u001b[34m\u001b[1mBounding 40 with meter Meter(constraints=('w_peak', 'w_stress', 's_unstress', 'unres_across', 'unres_within'), categorical_constraints=(), max_s=2, max_w=2, resolve_optionality=True)\u001b[0m | \u001b[36mparsing.py\u001b[0m:\u001b[36m532\u001b[0m\n",
      "\u001b[32m2023-10-08 19:22:35.203\u001b[0m | \u001b[36mparse_fast\u001b[0m | \u001b[34m\u001b[1mNow at 7A, there are 40 parses\u001b[0m | \u001b[36m3083766071.py\u001b[0m:\u001b[36m14\u001b[0m\n",
      "\u001b[32m2023-10-08 19:22:35.212\u001b[0m | \u001b[36mbound\u001b[0m | \u001b[34m\u001b[1mBounding 56 with meter Meter(constraints=('w_peak', 'w_stress', 's_unstress', 'unres_across', 'unres_within'), categorical_constraints=(), max_s=2, max_w=2, resolve_optionality=True)\u001b[0m | \u001b[36mparsing.py\u001b[0m:\u001b[36m532\u001b[0m\n",
      "\u001b[32m2023-10-08 19:22:35.214\u001b[0m | \u001b[36mparse_fast\u001b[0m | \u001b[34m\u001b[1mNow at 8A, there are 56 parses\u001b[0m | \u001b[36m3083766071.py\u001b[0m:\u001b[36m14\u001b[0m\n",
      "\u001b[32m2023-10-08 19:22:35.227\u001b[0m | \u001b[36mbound\u001b[0m | \u001b[34m\u001b[1mBounding 67 with meter Meter(constraints=('w_peak', 'w_stress', 's_unstress', 'unres_across', 'unres_within'), categorical_constraints=(), max_s=2, max_w=2, resolve_optionality=True)\u001b[0m | \u001b[36mparsing.py\u001b[0m:\u001b[36m532\u001b[0m\n",
      "\u001b[32m2023-10-08 19:22:35.231\u001b[0m | \u001b[36mparse_fast\u001b[0m | \u001b[34m\u001b[1mNow at 9A, there are 67 parses\u001b[0m | \u001b[36m3083766071.py\u001b[0m:\u001b[36m14\u001b[0m\n",
      "\u001b[32m2023-10-08 19:22:35.244\u001b[0m | \u001b[36mbound\u001b[0m | \u001b[34m\u001b[1mBounding 79 with meter Meter(constraints=('w_peak', 'w_stress', 's_unstress', 'unres_across', 'unres_within'), categorical_constraints=(), max_s=2, max_w=2, resolve_optionality=True)\u001b[0m | \u001b[36mparsing.py\u001b[0m:\u001b[36m532\u001b[0m\n",
      "\u001b[32m2023-10-08 19:22:35.247\u001b[0m | \u001b[36mparse_fast\u001b[0m | \u001b[34m\u001b[1mNow at 10A, there are 79 parses\u001b[0m | \u001b[36m3083766071.py\u001b[0m:\u001b[36m14\u001b[0m\n",
      "\u001b[32m2023-10-08 19:22:35.324\u001b[0m | \u001b[36mbound\u001b[0m | \u001b[34m\u001b[1mBounding 63 with meter Meter(constraints=('w_peak', 'w_stress', 's_unstress', 'unres_across', 'unres_within'), categorical_constraints=(), max_s=2, max_w=2, resolve_optionality=True)\u001b[0m | \u001b[36mparsing.py\u001b[0m:\u001b[36m532\u001b[0m\n",
      "\u001b[32m2023-10-08 19:22:35.326\u001b[0m | \u001b[36mparse_fast\u001b[0m | \u001b[34m\u001b[1mNow at 11A, there are 63 parses\u001b[0m | \u001b[36m3083766071.py\u001b[0m:\u001b[36m14\u001b[0m\n",
      "\u001b[32m2023-10-08 19:22:35.333\u001b[0m | \u001b[36mbound\u001b[0m | \u001b[34m\u001b[1mBounding 36 with meter Meter(constraints=('w_peak', 'w_stress', 's_unstress', 'unres_across', 'unres_within'), categorical_constraints=(), max_s=2, max_w=2, resolve_optionality=True)\u001b[0m | \u001b[36mparsing.py\u001b[0m:\u001b[36m532\u001b[0m\n",
      "\u001b[32m2023-10-08 19:22:35.334\u001b[0m | \u001b[36mparse_fast\u001b[0m | \u001b[34m\u001b[1mNow at 12A, there are 36 parses\u001b[0m | \u001b[36m3083766071.py\u001b[0m:\u001b[36m14\u001b[0m\n",
      "\u001b[32m2023-10-08 19:22:35.342\u001b[0m | \u001b[36mbound\u001b[0m | \u001b[34m\u001b[1mBounding 34 with meter Meter(constraints=('w_peak', 'w_stress', 's_unstress', 'unres_across', 'unres_within'), categorical_constraints=(), max_s=2, max_w=2, resolve_optionality=True)\u001b[0m | \u001b[36mparsing.py\u001b[0m:\u001b[36m532\u001b[0m\n",
      "\u001b[32m2023-10-08 19:22:35.343\u001b[0m | \u001b[36mparse_fast\u001b[0m | \u001b[34m\u001b[1mNow at 13A, there are 34 parses\u001b[0m | \u001b[36m3083766071.py\u001b[0m:\u001b[36m14\u001b[0m\n",
      "\u001b[32m2023-10-08 19:22:35.352\u001b[0m | \u001b[36mbound\u001b[0m | \u001b[34m\u001b[1mBounding 33 with meter Meter(constraints=('w_peak', 'w_stress', 's_unstress', 'unres_across', 'unres_within'), categorical_constraints=(), max_s=2, max_w=2, resolve_optionality=True)\u001b[0m | \u001b[36mparsing.py\u001b[0m:\u001b[36m532\u001b[0m\n",
      "\u001b[32m2023-10-08 19:22:35.353\u001b[0m | \u001b[36mparse_fast\u001b[0m | \u001b[34m\u001b[1mNow at 14A, there are 33 parses\u001b[0m | \u001b[36m3083766071.py\u001b[0m:\u001b[36m14\u001b[0m\n",
      "\u001b[32m2023-10-08 19:22:35.363\u001b[0m | \u001b[36mbound\u001b[0m | \u001b[34m\u001b[1mBounding 25 with meter Meter(constraints=('w_peak', 'w_stress', 's_unstress', 'unres_across', 'unres_within'), categorical_constraints=(), max_s=2, max_w=2, resolve_optionality=True)\u001b[0m | \u001b[36mparsing.py\u001b[0m:\u001b[36m532\u001b[0m\n",
      "\u001b[32m2023-10-08 19:22:35.364\u001b[0m | \u001b[36mparse_fast\u001b[0m | \u001b[34m\u001b[1mNow at 15A, there are 25 parses\u001b[0m | \u001b[36m3083766071.py\u001b[0m:\u001b[36m14\u001b[0m\n",
      "\u001b[32m2023-10-08 19:22:35.369\u001b[0m | \u001b[36mbound\u001b[0m | \u001b[34m\u001b[1mBounding 14 with meter Meter(constraints=('w_peak', 'w_stress', 's_unstress', 'unres_across', 'unres_within'), categorical_constraints=(), max_s=2, max_w=2, resolve_optionality=True)\u001b[0m | \u001b[36mparsing.py\u001b[0m:\u001b[36m532\u001b[0m\n"
     ]
    }
   ],
   "source": [
    "parses = line.parse_fast()"
   ]
  },
  {
   "cell_type": "code",
   "execution_count": 15,
   "metadata": {},
   "outputs": [],
   "source": [
    "# parses.df.reset_index().drop_duplicates('parse_meter')"
   ]
  },
  {
   "cell_type": "code",
   "execution_count": 16,
   "metadata": {},
   "outputs": [
    {
     "data": {
      "text/plain": [
       "[Parse(txt='ONCE u PON a MI dnight DREA ry WHILE i PON dered WEAK and WEA ry', meter='+-+-+-+-+-+-+-+-', stress='+-+-+++---+-+-+-', score=2, is_bounded=0),\n",
       " Parse(txt='ONCE u PON a MI dnight DREA.RY while.i PON dered WEAK and WEA ry', meter='+-+-+-++--+-+-+-', stress='+-+-+++---+-+-+-', score=2, is_bounded=0),\n",
       " Parse(txt='ONCE u PON a MI.DNIGHT drea RY while.i PON dered WEAK and WEA ry', meter='+-+-++-+--+-+-+-', stress='+-+-+++---+-+-+-', score=2, is_bounded=0),\n",
       " Parse(txt='once.u PON a MI.DNIGHT drea RY while.i PON dered WEAK and WEA ry', meter='--+-++-+--+-+-+-', stress='+-+-+++---+-+-+-', score=3, is_bounded=0),\n",
       " Parse(txt='ONCE u PON a MI dnight.drea RY while.i PON dered WEAK and WEA ry', meter='+-+-+--+--+-+-+-', stress='+-+-+++---+-+-+-', score=3, is_bounded=0),\n",
       " Parse(txt='once U.PON a MI.DNIGHT drea RY while.i PON dered WEAK and WEA ry', meter='-++-++-+--+-+-+-', stress='+-+-+++---+-+-+-', score=4, is_bounded=0),\n",
       " Parse(txt='once.u PON a MI dnight.drea RY while.i PON dered WEAK and WEA ry', meter='--+-+--+--+-+-+-', stress='+-+-+++---+-+-+-', score=4, is_bounded=0),\n",
       " Parse(txt='ONCE.U pon.a MI.DNIGHT drea RY while.i PON dered WEAK and WEA ry', meter='++--++-+--+-+-+-', stress='+-+-+++---+-+-+-', score=4, is_bounded=0),\n",
       " Parse(txt='ONCE.U pon.a MI.DNIGHT drea.ry WHILE i PON dered WEAK and WEA ry', meter='++--++--+-+-+-+-', stress='+-+-+++---+-+-+-', score=4, is_bounded=0),\n",
       " Parse(txt='once U.PON a MI dnight.drea RY while.i PON dered WEAK and WEA ry', meter='-++-+--+--+-+-+-', stress='+-+-+++---+-+-+-', score=5, is_bounded=0),\n",
       " Parse(txt='ONCE.U pon.a MI dnight.drea RY while.i PON dered WEAK and WEA ry', meter='++--+--+--+-+-+-', stress='+-+-+++---+-+-+-', score=5, is_bounded=0),\n",
       " Parse(txt='ONCE.U pon.a MI.DNIGHT drea RY.WHILE i PON dered WEAK and WEA ry', meter='++--++-++-+-+-+-', stress='+-+-+++---+-+-+-', score=5, is_bounded=0),\n",
       " Parse(txt='ONCE.U pon.a MI dnight.drea RY.WHILE i PON dered WEAK and WEA ry', meter='++--+--++-+-+-+-', stress='+-+-+++---+-+-+-', score=6, is_bounded=0),\n",
       " Parse(txt='ONCE.U pon.a MI.DNIGHT drea.ry WHILE.I pon.dered WEAK and WEA ry', meter='++--++--++--+-+-', stress='+-+-+++---+-+-+-', score=6, is_bounded=0)]"
      ]
     },
     "execution_count": 16,
     "metadata": {},
     "output_type": "execute_result"
    }
   ],
   "source": [
    "parses.data"
   ]
  },
  {
   "cell_type": "code",
   "execution_count": 8,
   "metadata": {},
   "outputs": [
    {
     "ename": "NameError",
     "evalue": "name 'p1' is not defined",
     "output_type": "error",
     "traceback": [
      "\u001b[0;31m---------------------------------------------------------------------------\u001b[0m",
      "\u001b[0;31mNameError\u001b[0m                                 Traceback (most recent call last)",
      "\u001b[1;32m/Users/ryan/github/prosodic/notebooks/dev_fastparsing2.ipynb Cell 8\u001b[0m line \u001b[0;36m1\n\u001b[0;32m----> <a href='vscode-notebook-cell:/Users/ryan/github/prosodic/notebooks/dev_fastparsing2.ipynb#X45sZmlsZQ%3D%3D?line=0'>1</a>\u001b[0m p1\u001b[39m.\u001b[39mviolset \u001b[39m<\u001b[39m p2\u001b[39m.\u001b[39mviolset\n",
      "\u001b[0;31mNameError\u001b[0m: name 'p1' is not defined"
     ]
    }
   ],
   "source": [
    "p1.violset < p2.violset"
   ]
  },
  {
   "cell_type": "code",
   "execution_count": null,
   "metadata": {},
   "outputs": [],
   "source": []
  },
  {
   "cell_type": "code",
   "execution_count": null,
   "metadata": {},
   "outputs": [],
   "source": []
  }
 ],
 "metadata": {
  "kernelspec": {
   "display_name": "venv",
   "language": "python",
   "name": "python3"
  },
  "language_info": {
   "codemirror_mode": {
    "name": "ipython",
    "version": 3
   },
   "file_extension": ".py",
   "mimetype": "text/x-python",
   "name": "python",
   "nbconvert_exporter": "python",
   "pygments_lexer": "ipython3",
   "version": "3.11.0rc2"
  },
  "orig_nbformat": 4
 },
 "nbformat": 4,
 "nbformat_minor": 2
}
