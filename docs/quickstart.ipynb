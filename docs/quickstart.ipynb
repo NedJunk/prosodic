{
 "cells": [
  {
   "cell_type": "raw",
   "id": "2467b799",
   "metadata": {},
   "source": [
    "---\n",
    "title: Getting started\n",
    "format:\n",
    "  html:\n",
    "    code-fold: false\n",
    "---"
   ]
  },
  {
   "cell_type": "markdown",
   "id": "89c674f9",
   "metadata": {},
   "source": [
    "## Texts\n",
    "\n",
    "Contained in `prosodic.text`.\n",
    "\n",
    "### Reading texts\n",
    "\n",
    "#### Loading by string\n",
    "\n",
    "You can load any text with a string:\n"
   ]
  },
  {
   "cell_type": "code",
   "execution_count": 1,
   "id": "reading-texts",
   "metadata": {},
   "outputs": [
    {
     "name": "stderr",
     "output_type": "stream",
     "text": [
      "\u001b[34m\u001b[1mbuilding text with 104 words\u001b[0m\u001b[36m @ 2023-12-16 08:20:22,963\u001b[0m\n"
     ]
    },
    {
     "name": "stderr",
     "output_type": "stream",
     "text": [
      "\u001b[34m\u001b[1m￨ tokenizing\u001b[0m\u001b[36m @ 2023-12-16 08:20:22,964\u001b[0m\n"
     ]
    },
    {
     "name": "stderr",
     "output_type": "stream",
     "text": [
      "\u001b[34m\u001b[1m￨ ⎿ 0 seconds\u001b[0m\u001b[36m @ 2023-12-16 08:20:22,965\u001b[0m\n"
     ]
    },
    {
     "name": "stderr",
     "output_type": "stream",
     "text": [
      "\u001b[34m\u001b[1m￨ building stanzas\u001b[0m\u001b[36m @ 2023-12-16 08:20:22,965\u001b[0m\n"
     ]
    },
    {
     "name": "stderr",
     "output_type": "stream",
     "text": [
      "\r",
      "\u001b[1;34m￨ ￨ iterating stanzas:   0%|\u001b[0;36m          \u001b[0;36m| 0/1 [00:00<?, ?it/s]"
     ]
    },
    {
     "name": "stderr",
     "output_type": "stream",
     "text": [
      "\r",
      "\u001b[1;34m￨ ￨ iterating stanzas: 100%|\u001b[0;36m██████████\u001b[0;36m| 1/1 [00:00<00:00, 86.24it/s]"
     ]
    },
    {
     "name": "stderr",
     "output_type": "stream",
     "text": [
      "\n",
      "\u001b[34m\u001b[1m￨ ⎿ 0 seconds\u001b[0m\u001b[36m @ 2023-12-16 08:20:22,978\u001b[0m\n"
     ]
    },
    {
     "name": "stderr",
     "output_type": "stream",
     "text": [
      "\u001b[34m\u001b[1m⎿ 0 seconds\u001b[0m\u001b[36m @ 2023-12-16 08:20:22,978\u001b[0m\n"
     ]
    }
   ],
   "source": [
    "#| label: reading-texts\n",
    "\n",
    "# import\n",
    "import prosodic\n",
    "\n",
    "sonnetV = prosodic.Text(\n",
    "\"\"\"Those hours, that with gentle work did frame\n",
    "The lovely gaze where every eye doth dwell,\n",
    "Will play the tyrants to the very same\n",
    "And that unfair which fairly doth excel;\n",
    "For never-resting time leads summer on\n",
    "To hideous winter, and confounds him there;\n",
    "Sap checked with frost, and lusty leaves quite gone,\n",
    "Beauty o’er-snowed and bareness every where:\n",
    "Then were not summer’s distillation left,\n",
    "A liquid prisoner pent in walls of glass,\n",
    "Beauty’s effect with beauty were bereft,\n",
    "Nor it, nor no remembrance what it was:\n",
    "But flowers distill’d, though they with winter meet,\n",
    "Leese but their show; their substance still lives sweet.\"\"\"\n",
    ")"
   ]
  },
  {
   "cell_type": "markdown",
   "id": "f84a46be",
   "metadata": {},
   "source": [
    "#### Loading texts by filename\n",
    "\n",
    "Can also read texts (especially larger ones) by filename:\n"
   ]
  },
  {
   "cell_type": "code",
   "execution_count": 2,
   "id": "reading-texts-filename",
   "metadata": {},
   "outputs": [
    {
     "name": "stderr",
     "output_type": "stream",
     "text": [
      "\u001b[34m\u001b[1mbuilding text with 17,513 words\u001b[0m\u001b[36m @ 2023-12-16 08:20:22,984\u001b[0m\n"
     ]
    },
    {
     "name": "stderr",
     "output_type": "stream",
     "text": [
      "\u001b[34m\u001b[1m￨ tokenizing\u001b[0m\u001b[36m @ 2023-12-16 08:20:22,984\u001b[0m\n"
     ]
    },
    {
     "name": "stderr",
     "output_type": "stream",
     "text": [
      "\u001b[34m\u001b[1m￨ ⎿ 0.1 seconds\u001b[0m\u001b[36m @ 2023-12-16 08:20:23,086\u001b[0m\n"
     ]
    },
    {
     "name": "stderr",
     "output_type": "stream",
     "text": [
      "\u001b[34m\u001b[1m￨ building stanzas\u001b[0m\u001b[36m @ 2023-12-16 08:20:23,086\u001b[0m\n"
     ]
    },
    {
     "name": "stderr",
     "output_type": "stream",
     "text": [
      "\r",
      "\u001b[1;34m￨ ￨ iterating stanzas:   0%|\u001b[0;36m          \u001b[0;36m| 0/154 [00:00<?, ?it/s]"
     ]
    },
    {
     "name": "stderr",
     "output_type": "stream",
     "text": [
      "\r",
      "\u001b[1;34m￨ ￨ iterating stanzas:   6%|\u001b[0;36m▌         \u001b[0;36m| 9/154 [00:00<00:01, 87.88it/s]"
     ]
    },
    {
     "name": "stderr",
     "output_type": "stream",
     "text": [
      "\r",
      "\u001b[1;34m￨ ￨ iterating stanzas:  12%|\u001b[0;36m█▏        \u001b[0;36m| 18/154 [00:00<00:01, 86.90it/s]"
     ]
    },
    {
     "name": "stderr",
     "output_type": "stream",
     "text": [
      "\r",
      "\u001b[1;34m￨ ￨ iterating stanzas:  18%|\u001b[0;36m█▊        \u001b[0;36m| 27/154 [00:00<00:01, 88.07it/s]"
     ]
    },
    {
     "name": "stderr",
     "output_type": "stream",
     "text": [
      "\r",
      "\u001b[1;34m￨ ￨ iterating stanzas:  23%|\u001b[0;36m██▎       \u001b[0;36m| 36/154 [00:00<00:01, 87.66it/s]"
     ]
    },
    {
     "name": "stderr",
     "output_type": "stream",
     "text": [
      "\r",
      "\u001b[1;34m￨ ￨ iterating stanzas:  29%|\u001b[0;36m██▉       \u001b[0;36m| 45/154 [00:00<00:01, 87.46it/s]"
     ]
    },
    {
     "name": "stderr",
     "output_type": "stream",
     "text": [
      "\r",
      "\u001b[1;34m￨ ￨ iterating stanzas:  35%|\u001b[0;36m███▌      \u001b[0;36m| 54/154 [00:00<00:01, 87.90it/s]"
     ]
    },
    {
     "name": "stderr",
     "output_type": "stream",
     "text": [
      "\r",
      "\u001b[1;34m￨ ￨ iterating stanzas:  42%|\u001b[0;36m████▏     \u001b[0;36m| 64/154 [00:00<00:01, 89.87it/s]"
     ]
    },
    {
     "name": "stderr",
     "output_type": "stream",
     "text": [
      "\r",
      "\u001b[1;34m￨ ￨ iterating stanzas:  47%|\u001b[0;36m████▋     \u001b[0;36m| 73/154 [00:00<00:00, 88.99it/s]"
     ]
    },
    {
     "name": "stderr",
     "output_type": "stream",
     "text": [
      "\r",
      "\u001b[1;34m￨ ￨ iterating stanzas:  54%|\u001b[0;36m█████▍    \u001b[0;36m| 83/154 [00:00<00:00, 89.79it/s]"
     ]
    },
    {
     "name": "stderr",
     "output_type": "stream",
     "text": [
      "\r",
      "\u001b[1;34m￨ ￨ iterating stanzas:  60%|\u001b[0;36m█████▉    \u001b[0;36m| 92/154 [00:01<00:00, 89.43it/s]"
     ]
    },
    {
     "name": "stderr",
     "output_type": "stream",
     "text": [
      "\r",
      "\u001b[1;34m￨ ￨ iterating stanzas:  66%|\u001b[0;36m██████▌   \u001b[0;36m| 101/154 [00:01<00:00, 89.26it/s]"
     ]
    },
    {
     "name": "stderr",
     "output_type": "stream",
     "text": [
      "\r",
      "\u001b[1;34m￨ ￨ iterating stanzas:  72%|\u001b[0;36m███████▏  \u001b[0;36m| 111/154 [00:01<00:00, 90.72it/s]"
     ]
    },
    {
     "name": "stderr",
     "output_type": "stream",
     "text": [
      "\r",
      "\u001b[1;34m￨ ￨ iterating stanzas:  79%|\u001b[0;36m███████▊  \u001b[0;36m| 121/154 [00:01<00:00, 90.55it/s]"
     ]
    },
    {
     "name": "stderr",
     "output_type": "stream",
     "text": [
      "\r",
      "\u001b[1;34m￨ ￨ iterating stanzas:  85%|\u001b[0;36m████████▌ \u001b[0;36m| 131/154 [00:01<00:00, 91.85it/s]"
     ]
    },
    {
     "name": "stderr",
     "output_type": "stream",
     "text": [
      "\r",
      "\u001b[1;34m￨ ￨ iterating stanzas:  92%|\u001b[0;36m█████████▏\u001b[0;36m| 141/154 [00:01<00:00, 92.05it/s]"
     ]
    },
    {
     "name": "stderr",
     "output_type": "stream",
     "text": [
      "\r",
      "\u001b[1;34m￨ ￨ iterating stanzas:  98%|\u001b[0;36m█████████▊\u001b[0;36m| 151/154 [00:01<00:00, 92.44it/s]"
     ]
    },
    {
     "name": "stderr",
     "output_type": "stream",
     "text": [
      "\r",
      "\u001b[1;34m￨ ￨ iterating stanzas: 100%|\u001b[0;36m██████████\u001b[0;36m| 154/154 [00:01<00:00, 90.09it/s]"
     ]
    },
    {
     "name": "stderr",
     "output_type": "stream",
     "text": [
      "\n",
      "\u001b[34m\u001b[1m￨ ⎿ 1.7 seconds\u001b[0m\u001b[36m @ 2023-12-16 08:20:24,798\u001b[0m\n"
     ]
    },
    {
     "name": "stderr",
     "output_type": "stream",
     "text": [
      "\u001b[34m\u001b[1m⎿ 1.8 seconds\u001b[0m\u001b[36m @ 2023-12-16 08:20:24,798\u001b[0m\n"
     ]
    }
   ],
   "source": [
    "#| label: reading-texts-filename\n",
    "sonnets = prosodic.Text(\n",
    "  filename='../corpora/corppoetry_en/en.shakespeare.txt'\n",
    ")"
   ]
  },
  {
   "cell_type": "markdown",
   "id": "74b7873b",
   "metadata": {},
   "source": [
    "### Displaying texts\n",
    "\n",
    "In a notebook environmnent, texts objects will display a by-syllable dataframe of the text structure it contains, stored at `text.df`\n"
   ]
  },
  {
   "cell_type": "code",
   "execution_count": 3,
   "id": "showing-texts",
   "metadata": {},
   "outputs": [
    {
     "data": {
      "text/html": [
       "<div>\n",
       "<style scoped>\n",
       "    .dataframe tbody tr th:only-of-type {\n",
       "        vertical-align: middle;\n",
       "    }\n",
       "\n",
       "    .dataframe tbody tr th {\n",
       "        vertical-align: top;\n",
       "    }\n",
       "\n",
       "    .dataframe thead th {\n",
       "        text-align: right;\n",
       "    }\n",
       "</style>\n",
       "<table border=\"1\" class=\"dataframe\">\n",
       "  <thead>\n",
       "    <tr style=\"text-align: right;\">\n",
       "      <th></th>\n",
       "      <th></th>\n",
       "      <th></th>\n",
       "      <th></th>\n",
       "      <th></th>\n",
       "      <th></th>\n",
       "      <th></th>\n",
       "      <th></th>\n",
       "      <th></th>\n",
       "      <th></th>\n",
       "      <th></th>\n",
       "      <th></th>\n",
       "      <th>word_num_forms</th>\n",
       "      <th>syll_is_stressed</th>\n",
       "      <th>syll_is_heavy</th>\n",
       "      <th>syll_is_strong</th>\n",
       "      <th>syll_is_weak</th>\n",
       "      <th>word_is_punc</th>\n",
       "    </tr>\n",
       "    <tr>\n",
       "      <th>stanza_num</th>\n",
       "      <th>line_num</th>\n",
       "      <th>line_txt</th>\n",
       "      <th>sent_num</th>\n",
       "      <th>sentpart_num</th>\n",
       "      <th>wordtoken_num</th>\n",
       "      <th>wordtoken_txt</th>\n",
       "      <th>word_lang</th>\n",
       "      <th>wordform_num</th>\n",
       "      <th>syll_num</th>\n",
       "      <th>syll_txt</th>\n",
       "      <th>syll_ipa</th>\n",
       "      <th></th>\n",
       "      <th></th>\n",
       "      <th></th>\n",
       "      <th></th>\n",
       "      <th></th>\n",
       "      <th></th>\n",
       "    </tr>\n",
       "  </thead>\n",
       "  <tbody>\n",
       "    <tr>\n",
       "      <th rowspan=\"11\" valign=\"top\">1</th>\n",
       "      <th rowspan=\"5\" valign=\"top\">1</th>\n",
       "      <th rowspan=\"5\" valign=\"top\">Those hours, that with gentle work did frame</th>\n",
       "      <th rowspan=\"5\" valign=\"top\">1</th>\n",
       "      <th rowspan=\"5\" valign=\"top\">1</th>\n",
       "      <th>1</th>\n",
       "      <th>Those</th>\n",
       "      <th>en</th>\n",
       "      <th>1</th>\n",
       "      <th>1</th>\n",
       "      <th>Those</th>\n",
       "      <th>ðoʊz</th>\n",
       "      <td>1</td>\n",
       "      <td>0</td>\n",
       "      <td>1</td>\n",
       "      <td></td>\n",
       "      <td></td>\n",
       "      <td></td>\n",
       "    </tr>\n",
       "    <tr>\n",
       "      <th rowspan=\"3\" valign=\"top\">2</th>\n",
       "      <th rowspan=\"3\" valign=\"top\">hours</th>\n",
       "      <th rowspan=\"3\" valign=\"top\">en</th>\n",
       "      <th rowspan=\"2\" valign=\"top\">1</th>\n",
       "      <th>1</th>\n",
       "      <th>ho</th>\n",
       "      <th>'aʊ</th>\n",
       "      <td>2</td>\n",
       "      <td>1</td>\n",
       "      <td>1</td>\n",
       "      <td>1</td>\n",
       "      <td>0</td>\n",
       "      <td></td>\n",
       "    </tr>\n",
       "    <tr>\n",
       "      <th>2</th>\n",
       "      <th>urs</th>\n",
       "      <th>ɛːz</th>\n",
       "      <td>2</td>\n",
       "      <td>0</td>\n",
       "      <td>1</td>\n",
       "      <td>0</td>\n",
       "      <td>1</td>\n",
       "      <td></td>\n",
       "    </tr>\n",
       "    <tr>\n",
       "      <th>2</th>\n",
       "      <th>1</th>\n",
       "      <th>hours</th>\n",
       "      <th>'aʊrz</th>\n",
       "      <td>2</td>\n",
       "      <td>1</td>\n",
       "      <td>1</td>\n",
       "      <td></td>\n",
       "      <td></td>\n",
       "      <td></td>\n",
       "    </tr>\n",
       "    <tr>\n",
       "      <th>3</th>\n",
       "      <th>,</th>\n",
       "      <th>en</th>\n",
       "      <th>0</th>\n",
       "      <th>0</th>\n",
       "      <th></th>\n",
       "      <th></th>\n",
       "      <td>0</td>\n",
       "      <td></td>\n",
       "      <td></td>\n",
       "      <td></td>\n",
       "      <td></td>\n",
       "      <td>1</td>\n",
       "    </tr>\n",
       "    <tr>\n",
       "      <th>...</th>\n",
       "      <th>...</th>\n",
       "      <th>...</th>\n",
       "      <th>...</th>\n",
       "      <th>...</th>\n",
       "      <th>...</th>\n",
       "      <th>...</th>\n",
       "      <th>...</th>\n",
       "      <th>...</th>\n",
       "      <th>...</th>\n",
       "      <th>...</th>\n",
       "      <td>...</td>\n",
       "      <td>...</td>\n",
       "      <td>...</td>\n",
       "      <td>...</td>\n",
       "      <td>...</td>\n",
       "      <td>...</td>\n",
       "    </tr>\n",
       "    <tr>\n",
       "      <th rowspan=\"5\" valign=\"top\">14</th>\n",
       "      <th rowspan=\"5\" valign=\"top\">Leese but their show; their substance still lives sweet.</th>\n",
       "      <th rowspan=\"5\" valign=\"top\">1</th>\n",
       "      <th rowspan=\"5\" valign=\"top\">1</th>\n",
       "      <th>7</th>\n",
       "      <th>substance</th>\n",
       "      <th>en</th>\n",
       "      <th>1</th>\n",
       "      <th>2</th>\n",
       "      <th>tance</th>\n",
       "      <th>stəns</th>\n",
       "      <td>1</td>\n",
       "      <td>0</td>\n",
       "      <td>1</td>\n",
       "      <td>0</td>\n",
       "      <td>1</td>\n",
       "      <td></td>\n",
       "    </tr>\n",
       "    <tr>\n",
       "      <th>8</th>\n",
       "      <th>still</th>\n",
       "      <th>en</th>\n",
       "      <th>1</th>\n",
       "      <th>1</th>\n",
       "      <th>still</th>\n",
       "      <th>'stɪl</th>\n",
       "      <td>1</td>\n",
       "      <td>1</td>\n",
       "      <td>1</td>\n",
       "      <td></td>\n",
       "      <td></td>\n",
       "      <td></td>\n",
       "    </tr>\n",
       "    <tr>\n",
       "      <th>9</th>\n",
       "      <th>lives</th>\n",
       "      <th>en</th>\n",
       "      <th>1</th>\n",
       "      <th>1</th>\n",
       "      <th>lives</th>\n",
       "      <th>'lɪvz</th>\n",
       "      <td>1</td>\n",
       "      <td>1</td>\n",
       "      <td>1</td>\n",
       "      <td></td>\n",
       "      <td></td>\n",
       "      <td></td>\n",
       "    </tr>\n",
       "    <tr>\n",
       "      <th>10</th>\n",
       "      <th>sweet</th>\n",
       "      <th>en</th>\n",
       "      <th>1</th>\n",
       "      <th>1</th>\n",
       "      <th>sweet</th>\n",
       "      <th>'swiːt</th>\n",
       "      <td>1</td>\n",
       "      <td>1</td>\n",
       "      <td>1</td>\n",
       "      <td></td>\n",
       "      <td></td>\n",
       "      <td></td>\n",
       "    </tr>\n",
       "    <tr>\n",
       "      <th>11</th>\n",
       "      <th>.</th>\n",
       "      <th>en</th>\n",
       "      <th>0</th>\n",
       "      <th>0</th>\n",
       "      <th></th>\n",
       "      <th></th>\n",
       "      <td>0</td>\n",
       "      <td></td>\n",
       "      <td></td>\n",
       "      <td></td>\n",
       "      <td></td>\n",
       "      <td>1</td>\n",
       "    </tr>\n",
       "  </tbody>\n",
       "</table>\n",
       "<p>195 rows × 6 columns</p>\n",
       "</div>"
      ],
      "text/plain": [
       "Text()"
      ]
     },
     "execution_count": 25,
     "metadata": {},
     "output_type": "execute_result"
    }
   ],
   "source": [
    "#| label: showing-texts\n",
    "\n",
    "# these will display the same, but former actually points to the dataframe\n",
    "sonnetV.df          \n",
    "sonnetV"
   ]
  },
  {
   "cell_type": "markdown",
   "id": "f8be3cff",
   "metadata": {},
   "source": [
    "## Parsing texts\n",
    "\n",
    "### Displaying parsed texts\n",
    "\n",
    "In a notebook environmnent, the simplest way to view the parse is to to render it:\n"
   ]
  },
  {
   "cell_type": "code",
   "execution_count": 4,
   "id": "b8abf57e",
   "metadata": {},
   "outputs": [
    {
     "data": {
      "text/html": [
       "<ol class=\"parselist\"><li><style>\n",
       "\n",
       ".miniquote { margin-left:0em;margin-top:.5em;font-family:monospace; font-size:.8em;}\n",
       ".parse { line-height:2.5em; letter-spacing:.1em;}\n",
       ".parselist { list-style-type: none; }\n",
       ".parselist li { padding-left:2em;}\n",
       ".parselist li:nth-child(5n) { list-style-type: decimal; }\n",
       ".viol_y { color: #f43838; }\n",
       ".mtr_s { text-decoration: overline; text-decoration-offset:5px; }\n",
       ".parselist > li:first-of-type { list-style-type: decimal; }\n",
       ".parselist > li:last-of-type { list-style-type: decimal; }\n",
       "</style><div class=\"parse\"><span class=\"mtr_w str_w viol_n\">Those</span> <span class=\"mtr_s str_s viol_n\">ho</span><span class=\"mtr_w str_w viol_n\">urs</span>, <span class=\"mtr_s str_s viol_n\">that</span> <span class=\"mtr_w str_w viol_n\">with</span> <span class=\"mtr_s str_s viol_n\">gen</span><span class=\"mtr_w str_w viol_n\">tle</span> <span class=\"mtr_s str_s viol_n\">work</span> <span class=\"mtr_w str_w viol_n\">did</span> <span class=\"mtr_s str_s viol_n\">frame</span></div></li>\n",
       "<li><style>\n",
       "\n",
       ".miniquote { margin-left:0em;margin-top:.5em;font-family:monospace; font-size:.8em;}\n",
       ".parse { line-height:2.5em; letter-spacing:.1em;}\n",
       ".parselist { list-style-type: none; }\n",
       ".parselist li { padding-left:2em;}\n",
       ".parselist li:nth-child(5n) { list-style-type: decimal; }\n",
       ".viol_y { color: #f43838; }\n",
       ".mtr_s { text-decoration: overline; text-decoration-offset:5px; }\n",
       ".parselist > li:first-of-type { list-style-type: decimal; }\n",
       ".parselist > li:last-of-type { list-style-type: decimal; }\n",
       "</style><div class=\"parse\"><span class=\"mtr_w str_w viol_n\">The</span> <span class=\"mtr_s str_s viol_n\">lo</span><span class=\"mtr_w str_w viol_n\">vely</span> <span class=\"mtr_s str_s viol_n\">gaze</span> <span class=\"mtr_w str_w viol_n\">where</span> <span class=\"mtr_s str_s viol_n\">e</span><span class=\"mtr_w str_w viol_n\">very</span> <span class=\"mtr_s str_s viol_n\">eye</span> <span class=\"mtr_w str_w viol_n\">doth</span> <span class=\"mtr_s str_s viol_n\">dwell</span>,</div></li>\n",
       "<li><style>\n",
       "\n",
       ".miniquote { margin-left:0em;margin-top:.5em;font-family:monospace; font-size:.8em;}\n",
       ".parse { line-height:2.5em; letter-spacing:.1em;}\n",
       ".parselist { list-style-type: none; }\n",
       ".parselist li { padding-left:2em;}\n",
       ".parselist li:nth-child(5n) { list-style-type: decimal; }\n",
       ".viol_y { color: #f43838; }\n",
       ".mtr_s { text-decoration: overline; text-decoration-offset:5px; }\n",
       ".parselist > li:first-of-type { list-style-type: decimal; }\n",
       ".parselist > li:last-of-type { list-style-type: decimal; }\n",
       "</style><div class=\"parse\"><span class=\"mtr_w str_w viol_n\">Will</span> <span class=\"mtr_s str_s viol_n\">play</span> <span class=\"mtr_w str_w viol_n\">the</span> <span class=\"mtr_s str_s viol_n\">ty</span><span class=\"mtr_w str_w viol_n\">rants</span> <span class=\"mtr_s str_w viol_y\">to</span> <span class=\"mtr_w str_w viol_n\">the</span> <span class=\"mtr_s str_s viol_n\">ve</span><span class=\"mtr_w str_w viol_n\">ry</span> <span class=\"mtr_s str_s viol_n\">same</span></div></li>\n",
       "<li><style>\n",
       "\n",
       ".miniquote { margin-left:0em;margin-top:.5em;font-family:monospace; font-size:.8em;}\n",
       ".parse { line-height:2.5em; letter-spacing:.1em;}\n",
       ".parselist { list-style-type: none; }\n",
       ".parselist li { padding-left:2em;}\n",
       ".parselist li:nth-child(5n) { list-style-type: decimal; }\n",
       ".viol_y { color: #f43838; }\n",
       ".mtr_s { text-decoration: overline; text-decoration-offset:5px; }\n",
       ".parselist > li:first-of-type { list-style-type: decimal; }\n",
       ".parselist > li:last-of-type { list-style-type: decimal; }\n",
       "</style><div class=\"parse\"><span class=\"mtr_w str_w viol_n\">And</span> <span class=\"mtr_s str_s viol_n\">that</span> <span class=\"mtr_w str_w viol_n\">un</span><span class=\"mtr_s str_s viol_n\">fair</span> <span class=\"mtr_w str_w viol_n\">which</span> <span class=\"mtr_s str_s viol_n\">fair</span><span class=\"mtr_w str_w viol_n\">ly</span> <span class=\"mtr_s str_w viol_y\">doth</span> <span class=\"mtr_w str_w viol_n\">ex</span><span class=\"mtr_s str_s viol_n\">cel</span>;</div></li>\n",
       "<li><style>\n",
       "\n",
       ".miniquote { margin-left:0em;margin-top:.5em;font-family:monospace; font-size:.8em;}\n",
       ".parse { line-height:2.5em; letter-spacing:.1em;}\n",
       ".parselist { list-style-type: none; }\n",
       ".parselist li { padding-left:2em;}\n",
       ".parselist li:nth-child(5n) { list-style-type: decimal; }\n",
       ".viol_y { color: #f43838; }\n",
       ".mtr_s { text-decoration: overline; text-decoration-offset:5px; }\n",
       ".parselist > li:first-of-type { list-style-type: decimal; }\n",
       ".parselist > li:last-of-type { list-style-type: decimal; }\n",
       "</style><div class=\"parse\"><span class=\"mtr_w str_w viol_n\">For</span> <span class=\"mtr_s str_s viol_n\">ne</span><span class=\"mtr_w str_w viol_n\">ver</span>-<span class=\"mtr_s str_s viol_n\">res</span><span class=\"mtr_w str_w viol_n\">ting</span> <span class=\"mtr_s str_s viol_n\">time</span> <span class=\"mtr_w str_s viol_y\">leads</span> <span class=\"mtr_s str_s viol_n\">sum</span><span class=\"mtr_w str_w viol_n\">mer</span> <span class=\"mtr_s str_w viol_y\">on</span></div></li>\n",
       "<li><style>\n",
       "\n",
       ".miniquote { margin-left:0em;margin-top:.5em;font-family:monospace; font-size:.8em;}\n",
       ".parse { line-height:2.5em; letter-spacing:.1em;}\n",
       ".parselist { list-style-type: none; }\n",
       ".parselist li { padding-left:2em;}\n",
       ".parselist li:nth-child(5n) { list-style-type: decimal; }\n",
       ".viol_y { color: #f43838; }\n",
       ".mtr_s { text-decoration: overline; text-decoration-offset:5px; }\n",
       ".parselist > li:first-of-type { list-style-type: decimal; }\n",
       ".parselist > li:last-of-type { list-style-type: decimal; }\n",
       "</style><div class=\"parse\"><span class=\"mtr_w str_w viol_n\">To</span> <span class=\"mtr_s str_s viol_n\">hi</span><span class=\"mtr_w str_w viol_y\">deo</span><span class=\"mtr_w str_w viol_y\">us</span> <span class=\"mtr_s str_s viol_n\">win</span><span class=\"mtr_w str_w viol_n\">ter</span>, <span class=\"mtr_s str_w viol_y\">and</span> <span class=\"mtr_w str_w viol_n\">con</span><span class=\"mtr_s str_s viol_n\">founds</span> <span class=\"mtr_w str_w viol_n\">him</span> <span class=\"mtr_w str_w viol_n\">there</span>;</div></li>\n",
       "<li><style>\n",
       "\n",
       ".miniquote { margin-left:0em;margin-top:.5em;font-family:monospace; font-size:.8em;}\n",
       ".parse { line-height:2.5em; letter-spacing:.1em;}\n",
       ".parselist { list-style-type: none; }\n",
       ".parselist li { padding-left:2em;}\n",
       ".parselist li:nth-child(5n) { list-style-type: decimal; }\n",
       ".viol_y { color: #f43838; }\n",
       ".mtr_s { text-decoration: overline; text-decoration-offset:5px; }\n",
       ".parselist > li:first-of-type { list-style-type: decimal; }\n",
       ".parselist > li:last-of-type { list-style-type: decimal; }\n",
       "</style><div class=\"parse\"><span class=\"mtr_w str_s viol_y\">Sap</span> <span class=\"mtr_s str_s viol_n\">checked</span> <span class=\"mtr_w str_w viol_n\">with</span> <span class=\"mtr_s str_s viol_n\">frost</span>, <span class=\"mtr_w str_w viol_n\">and</span> <span class=\"mtr_s str_s viol_n\">lus</span><span class=\"mtr_w str_w viol_n\">ty</span> <span class=\"mtr_s str_s viol_n\">leaves</span> <span class=\"mtr_w str_s viol_y\">quite</span> <span class=\"mtr_s str_s viol_n\">gone</span>,</div></li>\n",
       "<li><style>\n",
       "\n",
       ".miniquote { margin-left:0em;margin-top:.5em;font-family:monospace; font-size:.8em;}\n",
       ".parse { line-height:2.5em; letter-spacing:.1em;}\n",
       ".parselist { list-style-type: none; }\n",
       ".parselist li { padding-left:2em;}\n",
       ".parselist li:nth-child(5n) { list-style-type: decimal; }\n",
       ".viol_y { color: #f43838; }\n",
       ".mtr_s { text-decoration: overline; text-decoration-offset:5px; }\n",
       ".parselist > li:first-of-type { list-style-type: decimal; }\n",
       ".parselist > li:last-of-type { list-style-type: decimal; }\n",
       "</style><div class=\"parse\"><span class=\"mtr_s str_s viol_n\">Bea</span><span class=\"mtr_w str_w viol_y\">uty</span> <span class=\"mtr_w str_w viol_y\">o'er</span>-<span class=\"mtr_s str_s viol_n\">snowed</span> <span class=\"mtr_w str_w viol_n\">and</span> <span class=\"mtr_s str_s viol_n\">ba</span><span class=\"mtr_w str_w viol_n\">reness</span> <span class=\"mtr_s str_s viol_n\">e</span><span class=\"mtr_w str_w viol_n\">very</span> <span class=\"mtr_s str_s viol_n\">where</span>:</div></li>\n",
       "<li><style>\n",
       "\n",
       ".miniquote { margin-left:0em;margin-top:.5em;font-family:monospace; font-size:.8em;}\n",
       ".parse { line-height:2.5em; letter-spacing:.1em;}\n",
       ".parselist { list-style-type: none; }\n",
       ".parselist li { padding-left:2em;}\n",
       ".parselist li:nth-child(5n) { list-style-type: decimal; }\n",
       ".viol_y { color: #f43838; }\n",
       ".mtr_s { text-decoration: overline; text-decoration-offset:5px; }\n",
       ".parselist > li:first-of-type { list-style-type: decimal; }\n",
       ".parselist > li:last-of-type { list-style-type: decimal; }\n",
       "</style><div class=\"parse\"><span class=\"mtr_s str_s viol_n\">Then</span> <span class=\"mtr_w str_w viol_n\">were</span> <span class=\"mtr_w str_w viol_n\">not</span> <span class=\"mtr_s str_s viol_n\">sum</span><span class=\"mtr_w str_w viol_n\">mer's</span> <span class=\"mtr_s str_s viol_n\">dis</span><span class=\"mtr_w str_w viol_n\">til</span><span class=\"mtr_s str_s viol_n\">la</span><span class=\"mtr_w str_w viol_n\">tion</span> <span class=\"mtr_s str_s viol_n\">left</span>,</div></li>\n",
       "<li><style>\n",
       "\n",
       ".miniquote { margin-left:0em;margin-top:.5em;font-family:monospace; font-size:.8em;}\n",
       ".parse { line-height:2.5em; letter-spacing:.1em;}\n",
       ".parselist { list-style-type: none; }\n",
       ".parselist li { padding-left:2em;}\n",
       ".parselist li:nth-child(5n) { list-style-type: decimal; }\n",
       ".viol_y { color: #f43838; }\n",
       ".mtr_s { text-decoration: overline; text-decoration-offset:5px; }\n",
       ".parselist > li:first-of-type { list-style-type: decimal; }\n",
       ".parselist > li:last-of-type { list-style-type: decimal; }\n",
       "</style><div class=\"parse\"><span class=\"mtr_w str_w viol_n\">A</span> <span class=\"mtr_s str_s viol_n\">li</span><span class=\"mtr_w str_w viol_n\">quid</span> <span class=\"mtr_s str_s viol_n\">pri</span><span class=\"mtr_w str_w viol_n\">soner</span> <span class=\"mtr_s str_s viol_n\">pent</span> <span class=\"mtr_w str_w viol_n\">in</span> <span class=\"mtr_s str_s viol_n\">walls</span> <span class=\"mtr_w str_w viol_n\">of</span> <span class=\"mtr_s str_s viol_n\">glass</span>,</div></li>\n",
       "<li><style>\n",
       "\n",
       ".miniquote { margin-left:0em;margin-top:.5em;font-family:monospace; font-size:.8em;}\n",
       ".parse { line-height:2.5em; letter-spacing:.1em;}\n",
       ".parselist { list-style-type: none; }\n",
       ".parselist li { padding-left:2em;}\n",
       ".parselist li:nth-child(5n) { list-style-type: decimal; }\n",
       ".viol_y { color: #f43838; }\n",
       ".mtr_s { text-decoration: overline; text-decoration-offset:5px; }\n",
       ".parselist > li:first-of-type { list-style-type: decimal; }\n",
       ".parselist > li:last-of-type { list-style-type: decimal; }\n",
       "</style><div class=\"parse\"><span class=\"mtr_s str_s viol_n\">Bea</span><span class=\"mtr_w str_w viol_n\">uty's</span> <span class=\"mtr_s str_s viol_y\">ef</span><span class=\"mtr_s str_w viol_y\">fect</span> <span class=\"mtr_w str_w viol_n\">with</span> <span class=\"mtr_s str_s viol_n\">bea</span><span class=\"mtr_w str_w viol_n\">uty</span> <span class=\"mtr_s str_w viol_y\">were</span> <span class=\"mtr_w str_w viol_n\">be</span><span class=\"mtr_s str_s viol_n\">reft</span>,</div></li>\n",
       "<li><style>\n",
       "\n",
       ".miniquote { margin-left:0em;margin-top:.5em;font-family:monospace; font-size:.8em;}\n",
       ".parse { line-height:2.5em; letter-spacing:.1em;}\n",
       ".parselist { list-style-type: none; }\n",
       ".parselist li { padding-left:2em;}\n",
       ".parselist li:nth-child(5n) { list-style-type: decimal; }\n",
       ".viol_y { color: #f43838; }\n",
       ".mtr_s { text-decoration: overline; text-decoration-offset:5px; }\n",
       ".parselist > li:first-of-type { list-style-type: decimal; }\n",
       ".parselist > li:last-of-type { list-style-type: decimal; }\n",
       "</style><div class=\"parse\"><span class=\"mtr_w str_w viol_n\">Nor</span> <span class=\"mtr_s str_s viol_n\">it</span>, <span class=\"mtr_w str_w viol_n\">nor</span> <span class=\"mtr_s str_s viol_n\">no</span> <span class=\"mtr_w str_w viol_n\">re</span><span class=\"mtr_s str_s viol_n\">mem</span><span class=\"mtr_w str_w viol_n\">brance</span> <span class=\"mtr_s str_s viol_n\">what</span> <span class=\"mtr_w str_w viol_n\">it</span> <span class=\"mtr_w str_w viol_n\">was</span>:</div></li>\n",
       "<li><style>\n",
       "\n",
       ".miniquote { margin-left:0em;margin-top:.5em;font-family:monospace; font-size:.8em;}\n",
       ".parse { line-height:2.5em; letter-spacing:.1em;}\n",
       ".parselist { list-style-type: none; }\n",
       ".parselist li { padding-left:2em;}\n",
       ".parselist li:nth-child(5n) { list-style-type: decimal; }\n",
       ".viol_y { color: #f43838; }\n",
       ".mtr_s { text-decoration: overline; text-decoration-offset:5px; }\n",
       ".parselist > li:first-of-type { list-style-type: decimal; }\n",
       ".parselist > li:last-of-type { list-style-type: decimal; }\n",
       "</style><div class=\"parse\"><span class=\"mtr_w str_w viol_n\">But</span> <span class=\"mtr_s str_s viol_n\">flo</span><span class=\"mtr_w str_w viol_n\">wers</span> <span class=\"mtr_s str_w viol_y\">dis</span><span class=\"mtr_s str_s viol_y\">till'd</span>, <span class=\"mtr_w str_w viol_n\">though</span> <span class=\"mtr_s str_s viol_n\">they</span> <span class=\"mtr_w str_w viol_n\">with</span> <span class=\"mtr_s str_s viol_n\">win</span><span class=\"mtr_w str_w viol_n\">ter</span> <span class=\"mtr_s str_s viol_n\">meet</span>,</div></li>\n",
       "<li><style>\n",
       "\n",
       ".miniquote { margin-left:0em;margin-top:.5em;font-family:monospace; font-size:.8em;}\n",
       ".parse { line-height:2.5em; letter-spacing:.1em;}\n",
       ".parselist { list-style-type: none; }\n",
       ".parselist li { padding-left:2em;}\n",
       ".parselist li:nth-child(5n) { list-style-type: decimal; }\n",
       ".viol_y { color: #f43838; }\n",
       ".mtr_s { text-decoration: overline; text-decoration-offset:5px; }\n",
       ".parselist > li:first-of-type { list-style-type: decimal; }\n",
       ".parselist > li:last-of-type { list-style-type: decimal; }\n",
       "</style><div class=\"parse\"><span class=\"mtr_s str_s viol_n\">Leese</span> <span class=\"mtr_w str_w viol_n\">but</span> <span class=\"mtr_w str_w viol_n\">their</span> <span class=\"mtr_s str_s viol_n\">show</span>; <span class=\"mtr_w str_w viol_n\">their</span> <span class=\"mtr_s str_s viol_n\">subs</span><span class=\"mtr_w str_w viol_n\">tance</span> <span class=\"mtr_s str_s viol_n\">still</span> <span class=\"mtr_w str_s viol_y\">lives</span> <span class=\"mtr_s str_s viol_n\">sweet</span>.</div></li></ol>"
      ],
      "text/plain": [
       "<IPython.core.display.HTML object>"
      ]
     },
     "execution_count": 26,
     "metadata": {},
     "output_type": "execute_result"
    }
   ],
   "source": [
    "sonnetV.render()"
   ]
  },
  {
   "cell_type": "markdown",
   "id": "b7f49d59",
   "metadata": {},
   "source": [
    "This is actually calling `.parse()` below and then returning each of its lines' `.best_parse`.\n",
    "\n",
    "### Displaying lists of parses\n"
   ]
  },
  {
   "cell_type": "code",
   "execution_count": 5,
   "id": "4f13b5c3",
   "metadata": {},
   "outputs": [
    {
     "name": "stderr",
     "output_type": "stream",
     "text": [
      "\u001b[34m\u001b[1mparsing 14 lines [5x]\u001b[0m\u001b[36m @ 2023-12-16 08:20:28,387\u001b[0m\n"
     ]
    },
    {
     "name": "stderr",
     "output_type": "stream",
     "text": [
      "\r",
      "\u001b[1;34m￨ parsing [5x]:   0%|\u001b[0;36m          \u001b[0;36m| 0/14 [00:00<?, ?it/s]"
     ]
    },
    {
     "name": "stderr",
     "output_type": "stream",
     "text": [
      "\r",
      "\u001b[1;34m￨ stanza 01, line 01: those HO urs THAT with GEN tle WORK did FRAME          :   0%|\u001b[0;36m          \u001b[0;36m| 0/14 [00:00<?, ?it/s]"
     ]
    },
    {
     "name": "stderr",
     "output_type": "stream",
     "text": [
      "\r",
      "\u001b[1;34m￨ stanza 01, line 01: those HO urs THAT with GEN tle WORK did FRAME          :   7%|\u001b[0;36m▋         \u001b[0;36m| 1/14 [00:00<00:01,  8.25it/s]"
     ]
    },
    {
     "name": "stderr",
     "output_type": "stream",
     "text": [
      "\r",
      "\u001b[1;34m￨ stanza 01, line 02: the LO vely GAZE where E very EYE doth DWELL           :   7%|\u001b[0;36m▋         \u001b[0;36m| 1/14 [00:00<00:01,  8.25it/s]"
     ]
    },
    {
     "name": "stderr",
     "output_type": "stream",
     "text": [
      "\r",
      "\u001b[1;34m￨ stanza 01, line 03: will PLAY the TY rants TO the VE ry SAME               :   7%|\u001b[0;36m▋         \u001b[0;36m| 1/14 [00:00<00:01,  8.25it/s]"
     ]
    },
    {
     "name": "stderr",
     "output_type": "stream",
     "text": [
      "\r",
      "\u001b[1;34m￨ stanza 01, line 04: and THAT un FAIR which FAIR ly DOTH ex CEL             :   7%|\u001b[0;36m▋         \u001b[0;36m| 1/14 [00:00<00:01,  8.25it/s]"
     ]
    },
    {
     "name": "stderr",
     "output_type": "stream",
     "text": [
      "\r",
      "\u001b[1;34m￨ stanza 01, line 04: and THAT un FAIR which FAIR ly DOTH ex CEL             :  29%|\u001b[0;36m██▊       \u001b[0;36m| 4/14 [00:00<00:00, 14.73it/s]"
     ]
    },
    {
     "name": "stderr",
     "output_type": "stream",
     "text": [
      "\r",
      "\u001b[1;34m￨ stanza 01, line 05: for NE ver RES ting TIME leads SUM mer ON              :  29%|\u001b[0;36m██▊       \u001b[0;36m| 4/14 [00:00<00:00, 14.73it/s]"
     ]
    },
    {
     "name": "stderr",
     "output_type": "stream",
     "text": [
      "\r",
      "\u001b[1;34m￨ stanza 01, line 06: to HI deo.us WIN ter AND con FOUNDS him.there          :  29%|\u001b[0;36m██▊       \u001b[0;36m| 4/14 [00:00<00:00, 14.73it/s]"
     ]
    },
    {
     "name": "stderr",
     "output_type": "stream",
     "text": [
      "\r",
      "\u001b[1;34m￨ stanza 01, line 07: sap CHECKED with FROST and LUS ty LEAVES quite GONE    :  29%|\u001b[0;36m██▊       \u001b[0;36m| 4/14 [00:00<00:00, 14.73it/s]"
     ]
    },
    {
     "name": "stderr",
     "output_type": "stream",
     "text": [
      "\r",
      "\u001b[1;34m￨ stanza 01, line 08: BEA uty.o'er SNOWED and BA reness E very WHERE         :  29%|\u001b[0;36m██▊       \u001b[0;36m| 4/14 [00:00<00:00, 14.73it/s]"
     ]
    },
    {
     "name": "stderr",
     "output_type": "stream",
     "text": [
      "\r",
      "\u001b[1;34m￨ stanza 01, line 09: THEN were.not SUM mer's DIS til LA tion LEFT           :  29%|\u001b[0;36m██▊       \u001b[0;36m| 4/14 [00:00<00:00, 14.73it/s]"
     ]
    },
    {
     "name": "stderr",
     "output_type": "stream",
     "text": [
      "\r",
      "\u001b[1;34m￨ stanza 01, line 10: a LI quid PRI soner PENT in WALLS of GLASS             :  29%|\u001b[0;36m██▊       \u001b[0;36m| 4/14 [00:00<00:00, 14.73it/s]"
     ]
    },
    {
     "name": "stderr",
     "output_type": "stream",
     "text": [
      "\r",
      "\u001b[1;34m￨ stanza 01, line 11: BEA uty's EF.FECT with BEA uty WERE be REFT            :  29%|\u001b[0;36m██▊       \u001b[0;36m| 4/14 [00:00<00:00, 14.73it/s]"
     ]
    },
    {
     "name": "stderr",
     "output_type": "stream",
     "text": [
      "\r",
      "\u001b[1;34m￨ stanza 01, line 12: nor IT nor NO re MEM brance WHAT it.was                :  29%|\u001b[0;36m██▊       \u001b[0;36m| 4/14 [00:00<00:00, 14.73it/s]"
     ]
    },
    {
     "name": "stderr",
     "output_type": "stream",
     "text": [
      "\r",
      "\u001b[1;34m￨ stanza 01, line 13: but FLO wers DIS.TILL'D though THEY with WIN ter MEET  :  29%|\u001b[0;36m██▊       \u001b[0;36m| 4/14 [00:00<00:00, 14.73it/s]"
     ]
    },
    {
     "name": "stderr",
     "output_type": "stream",
     "text": [
      "\r",
      "\u001b[1;34m￨ stanza 01, line 14: LEESE but.their SHOW their SUBS tance STILL lives SWEET:  29%|\u001b[0;36m██▊       \u001b[0;36m| 4/14 [00:00<00:00, 14.73it/s]"
     ]
    },
    {
     "name": "stderr",
     "output_type": "stream",
     "text": [
      "\r",
      "\u001b[1;34m￨ stanza 01, line 14: LEESE but.their SHOW their SUBS tance STILL lives SWEET: 100%|\u001b[0;36m██████████\u001b[0;36m| 14/14 [00:00<00:00, 44.86it/s]"
     ]
    },
    {
     "name": "stderr",
     "output_type": "stream",
     "text": [
      "\n",
      "\u001b[34m\u001b[1m⎿ 0.3 seconds\u001b[0m\u001b[36m @ 2023-12-16 08:20:28,702\u001b[0m\n"
     ]
    },
    {
     "data": {
      "text/html": [
       "<div>\n",
       "<style scoped>\n",
       "    .dataframe tbody tr th:only-of-type {\n",
       "        vertical-align: middle;\n",
       "    }\n",
       "\n",
       "    .dataframe tbody tr th {\n",
       "        vertical-align: top;\n",
       "    }\n",
       "\n",
       "    .dataframe thead th {\n",
       "        text-align: right;\n",
       "    }\n",
       "</style>\n",
       "<table border=\"1\" class=\"dataframe\">\n",
       "  <thead>\n",
       "    <tr style=\"text-align: right;\">\n",
       "      <th></th>\n",
       "      <th></th>\n",
       "      <th></th>\n",
       "      <th></th>\n",
       "      <th></th>\n",
       "      <th></th>\n",
       "      <th></th>\n",
       "      <th>parse_score</th>\n",
       "      <th>parse_is_bounded</th>\n",
       "      <th>meterpos_num_slots</th>\n",
       "      <th>*w_peak</th>\n",
       "      <th>*w_stress</th>\n",
       "      <th>*s_unstress</th>\n",
       "      <th>*unres_across</th>\n",
       "      <th>*unres_within</th>\n",
       "    </tr>\n",
       "    <tr>\n",
       "      <th>stanza_num</th>\n",
       "      <th>line_num</th>\n",
       "      <th>line_txt</th>\n",
       "      <th>parse_rank</th>\n",
       "      <th>parse_txt</th>\n",
       "      <th>parse_meter</th>\n",
       "      <th>parse_stress</th>\n",
       "      <th></th>\n",
       "      <th></th>\n",
       "      <th></th>\n",
       "      <th></th>\n",
       "      <th></th>\n",
       "      <th></th>\n",
       "      <th></th>\n",
       "      <th></th>\n",
       "    </tr>\n",
       "  </thead>\n",
       "  <tbody>\n",
       "    <tr>\n",
       "      <th rowspan=\"11\" valign=\"top\">1</th>\n",
       "      <th rowspan=\"3\" valign=\"top\">1</th>\n",
       "      <th rowspan=\"3\" valign=\"top\">Those hours, that with gentle work did frame</th>\n",
       "      <th>1</th>\n",
       "      <th>those HO urs THAT with GEN tle WORK did FRAME</th>\n",
       "      <th>-+-+-+-+-+</th>\n",
       "      <th>-+-+-+-+-+</th>\n",
       "      <td>0.0</td>\n",
       "      <td>0.0</td>\n",
       "      <td>10</td>\n",
       "      <td>0</td>\n",
       "      <td>0</td>\n",
       "      <td>0</td>\n",
       "      <td>0</td>\n",
       "      <td>0</td>\n",
       "    </tr>\n",
       "    <tr>\n",
       "      <th>2</th>\n",
       "      <th>those HOURS that.with GEN tle WORK did FRAME</th>\n",
       "      <th>-+--+-+-+</th>\n",
       "      <th>-+--+-+-+</th>\n",
       "      <td>0.0</td>\n",
       "      <td>0.0</td>\n",
       "      <td>11</td>\n",
       "      <td>0</td>\n",
       "      <td>0</td>\n",
       "      <td>0</td>\n",
       "      <td>0</td>\n",
       "      <td>0</td>\n",
       "    </tr>\n",
       "    <tr>\n",
       "      <th>3</th>\n",
       "      <th>those HOURS that.with GEN tle WORK did FRAME</th>\n",
       "      <th>-+--+-+-+</th>\n",
       "      <th>-+--+-+-+</th>\n",
       "      <td>0.0</td>\n",
       "      <td>0.0</td>\n",
       "      <td>11</td>\n",
       "      <td>0</td>\n",
       "      <td>0</td>\n",
       "      <td>0</td>\n",
       "      <td>0</td>\n",
       "      <td>0</td>\n",
       "    </tr>\n",
       "    <tr>\n",
       "      <th rowspan=\"2\" valign=\"top\">2</th>\n",
       "      <th rowspan=\"2\" valign=\"top\">The lovely gaze where every eye doth dwell,</th>\n",
       "      <th>1</th>\n",
       "      <th>the LO vely GAZE where E very EYE doth DWELL</th>\n",
       "      <th>-+-+-+-+-+</th>\n",
       "      <th>-+-+-+-+-+</th>\n",
       "      <td>0.0</td>\n",
       "      <td>0.0</td>\n",
       "      <td>10</td>\n",
       "      <td>0</td>\n",
       "      <td>0</td>\n",
       "      <td>0</td>\n",
       "      <td>0</td>\n",
       "      <td>0</td>\n",
       "    </tr>\n",
       "    <tr>\n",
       "      <th>2</th>\n",
       "      <th>the LO vely GAZE where E ve.ry EYE doth DWELL</th>\n",
       "      <th>-+-+-+--+-+</th>\n",
       "      <th>-+-+-+--+-+</th>\n",
       "      <td>1.0</td>\n",
       "      <td>0.0</td>\n",
       "      <td>13</td>\n",
       "      <td>0</td>\n",
       "      <td>0</td>\n",
       "      <td>0</td>\n",
       "      <td>0</td>\n",
       "      <td>1</td>\n",
       "    </tr>\n",
       "    <tr>\n",
       "      <th>...</th>\n",
       "      <th>...</th>\n",
       "      <th>...</th>\n",
       "      <th>...</th>\n",
       "      <th>...</th>\n",
       "      <th>...</th>\n",
       "      <td>...</td>\n",
       "      <td>...</td>\n",
       "      <td>...</td>\n",
       "      <td>...</td>\n",
       "      <td>...</td>\n",
       "      <td>...</td>\n",
       "      <td>...</td>\n",
       "      <td>...</td>\n",
       "    </tr>\n",
       "    <tr>\n",
       "      <th rowspan=\"4\" valign=\"top\">13</th>\n",
       "      <th rowspan=\"4\" valign=\"top\">But flowers distill'd, though they with winter meet,</th>\n",
       "      <th>1</th>\n",
       "      <th>but FLO wers DIS.TILL'D though THEY with WIN ter MEET</th>\n",
       "      <th>-+-++-+-+-+</th>\n",
       "      <th>-+--+-+-+-+</th>\n",
       "      <td>2.0</td>\n",
       "      <td>0.0</td>\n",
       "      <td>13</td>\n",
       "      <td>0</td>\n",
       "      <td>0</td>\n",
       "      <td>1</td>\n",
       "      <td>0</td>\n",
       "      <td>1</td>\n",
       "    </tr>\n",
       "    <tr>\n",
       "      <th>2</th>\n",
       "      <th>but FLO wers.dis TILL'D though THEY with WIN ter MEET</th>\n",
       "      <th>-+--+-+-+-+</th>\n",
       "      <th>-+--+-+-+-+</th>\n",
       "      <td>2.0</td>\n",
       "      <td>0.0</td>\n",
       "      <td>13</td>\n",
       "      <td>0</td>\n",
       "      <td>0</td>\n",
       "      <td>0</td>\n",
       "      <td>2</td>\n",
       "      <td>0</td>\n",
       "    </tr>\n",
       "    <tr>\n",
       "      <th>3</th>\n",
       "      <th>but FLO.WERS dis TILL'D though THEY with WIN ter MEET</th>\n",
       "      <th>-++-+-+-+-+</th>\n",
       "      <th>-+--+-+-+-+</th>\n",
       "      <td>2.0</td>\n",
       "      <td>0.0</td>\n",
       "      <td>13</td>\n",
       "      <td>0</td>\n",
       "      <td>0</td>\n",
       "      <td>1</td>\n",
       "      <td>0</td>\n",
       "      <td>1</td>\n",
       "    </tr>\n",
       "    <tr>\n",
       "      <th>4</th>\n",
       "      <th>but FLO wers DIS till'd THOUGH they.with WIN ter MEET</th>\n",
       "      <th>-+-+-+--+-+</th>\n",
       "      <th>-+--+---+-+</th>\n",
       "      <td>4.0</td>\n",
       "      <td>0.0</td>\n",
       "      <td>13</td>\n",
       "      <td>1</td>\n",
       "      <td>1</td>\n",
       "      <td>2</td>\n",
       "      <td>0</td>\n",
       "      <td>0</td>\n",
       "    </tr>\n",
       "    <tr>\n",
       "      <th>14</th>\n",
       "      <th>Leese but their show; their substance still lives sweet.</th>\n",
       "      <th>1</th>\n",
       "      <th>LEESE but.their SHOW their SUBS tance STILL lives SWEET</th>\n",
       "      <th>+--+-+-+-+</th>\n",
       "      <th>+--+-+-+++</th>\n",
       "      <td>1.0</td>\n",
       "      <td>0.0</td>\n",
       "      <td>12</td>\n",
       "      <td>0</td>\n",
       "      <td>1</td>\n",
       "      <td>0</td>\n",
       "      <td>0</td>\n",
       "      <td>0</td>\n",
       "    </tr>\n",
       "  </tbody>\n",
       "</table>\n",
       "<p>37 rows × 8 columns</p>\n",
       "</div>"
      ],
      "text/plain": [
       "ParseList(line_num=1, line_txt='Those hours, that with gentle work did frame', num_parses=37)"
      ]
     },
     "execution_count": 27,
     "metadata": {},
     "output_type": "execute_result"
    }
   ],
   "source": [
    "# parse with default options by just reaching for best parse\n",
    "plausible_parses = sonnetV.parse()\n",
    "\n",
    "# this displays dataframe at plausible_parses.df\n",
    "plausible_parses"
   ]
  },
  {
   "cell_type": "markdown",
   "id": "796ee154",
   "metadata": {},
   "source": [
    "### Customizing meter\n"
   ]
  },
  {
   "cell_type": "code",
   "execution_count": 6,
   "id": "2e7bf4db",
   "metadata": {},
   "outputs": [
    {
     "name": "stderr",
     "output_type": "stream",
     "text": [
      "\u001b[34m\u001b[1mparsing 14 lines [5x]\u001b[0m\u001b[36m @ 2023-12-16 08:20:28,726\u001b[0m\n"
     ]
    },
    {
     "name": "stderr",
     "output_type": "stream",
     "text": [
      "\r",
      "\u001b[1;34m￨ parsing [5x]:   0%|\u001b[0;36m          \u001b[0;36m| 0/14 [00:00<?, ?it/s]"
     ]
    },
    {
     "name": "stderr",
     "output_type": "stream",
     "text": [
      "\r",
      "\u001b[1;34m￨ stanza 01, line 01: those HO urs THAT with GEN tle WORK did FRAME          :   0%|\u001b[0;36m          \u001b[0;36m| 0/14 [00:00<?, ?it/s]"
     ]
    },
    {
     "name": "stderr",
     "output_type": "stream",
     "text": [
      "\r",
      "\u001b[1;34m￨ stanza 01, line 01: those HO urs THAT with GEN tle WORK did FRAME          :   7%|\u001b[0;36m▋         \u001b[0;36m| 1/14 [00:00<00:02,  4.73it/s]"
     ]
    },
    {
     "name": "stderr",
     "output_type": "stream",
     "text": [
      "\r",
      "\u001b[1;34m￨ stanza 01, line 02: the LO vely GAZE where E very EYE doth DWELL           :   7%|\u001b[0;36m▋         \u001b[0;36m| 1/14 [00:00<00:02,  4.73it/s]"
     ]
    },
    {
     "name": "stderr",
     "output_type": "stream",
     "text": [
      "\r",
      "\u001b[1;34m￨ stanza 01, line 03: will PLAY the TY rants TO the VE ry SAME               :   7%|\u001b[0;36m▋         \u001b[0;36m| 1/14 [00:00<00:02,  4.73it/s]"
     ]
    },
    {
     "name": "stderr",
     "output_type": "stream",
     "text": [
      "\r",
      "\u001b[1;34m￨ stanza 01, line 04: and THAT un FAIR which FAIR ly DOTH ex CEL             :   7%|\u001b[0;36m▋         \u001b[0;36m| 1/14 [00:00<00:02,  4.73it/s]"
     ]
    },
    {
     "name": "stderr",
     "output_type": "stream",
     "text": [
      "\r",
      "\u001b[1;34m￨ stanza 01, line 04: and THAT un FAIR which FAIR ly DOTH ex CEL             :  29%|\u001b[0;36m██▊       \u001b[0;36m| 4/14 [00:00<00:01,  5.25it/s]"
     ]
    },
    {
     "name": "stderr",
     "output_type": "stream",
     "text": [
      "\r",
      "\u001b[1;34m￨ stanza 01, line 05: for NE ver RES ting TIME leads SUM mer.on              :  29%|\u001b[0;36m██▊       \u001b[0;36m| 4/14 [00:00<00:01,  5.25it/s]"
     ]
    },
    {
     "name": "stderr",
     "output_type": "stream",
     "text": [
      "\r",
      "\u001b[1;34m￨ stanza 01, line 06: to HI deo.us WIN ter AND con FOUNDS him.there          :  29%|\u001b[0;36m██▊       \u001b[0;36m| 4/14 [00:00<00:01,  5.25it/s]"
     ]
    },
    {
     "name": "stderr",
     "output_type": "stream",
     "text": [
      "\r",
      "\u001b[1;34m￨ stanza 01, line 07: sap CHECKED with FROST and LUS ty LEAVES quite GONE    :  29%|\u001b[0;36m██▊       \u001b[0;36m| 4/14 [00:00<00:01,  5.25it/s]"
     ]
    },
    {
     "name": "stderr",
     "output_type": "stream",
     "text": [
      "\r",
      "\u001b[1;34m￨ stanza 01, line 08: BEA uty.o'er SNOWED and BA reness E very WHERE         :  29%|\u001b[0;36m██▊       \u001b[0;36m| 4/14 [00:00<00:01,  5.25it/s]"
     ]
    },
    {
     "name": "stderr",
     "output_type": "stream",
     "text": [
      "\r",
      "\u001b[1;34m￨ stanza 01, line 09: then.were NOT.SUM mer's DIS til LA tion LEFT           :  29%|\u001b[0;36m██▊       \u001b[0;36m| 4/14 [00:00<00:01,  5.25it/s]"
     ]
    },
    {
     "name": "stderr",
     "output_type": "stream",
     "text": [
      "\r",
      "\u001b[1;34m￨ stanza 01, line 10: a LI quid PRI soner PENT in WALLS of GLASS             :  29%|\u001b[0;36m██▊       \u001b[0;36m| 4/14 [00:00<00:01,  5.25it/s]"
     ]
    },
    {
     "name": "stderr",
     "output_type": "stream",
     "text": [
      "\r",
      "\u001b[1;34m￨ stanza 01, line 11: BEA uty's.ef FECT with BEA uty WERE be REFT            :  29%|\u001b[0;36m██▊       \u001b[0;36m| 4/14 [00:00<00:01,  5.25it/s]"
     ]
    },
    {
     "name": "stderr",
     "output_type": "stream",
     "text": [
      "\r",
      "\u001b[1;34m￨ stanza 01, line 12: nor IT nor NO re MEM brance.what IT was                :  29%|\u001b[0;36m██▊       \u001b[0;36m| 4/14 [00:00<00:01,  5.25it/s]"
     ]
    },
    {
     "name": "stderr",
     "output_type": "stream",
     "text": [
      "\r",
      "\u001b[1;34m￨ stanza 01, line 13: but FLO wers.dis TILL'D though THEY with WIN ter MEET  :  29%|\u001b[0;36m██▊       \u001b[0;36m| 4/14 [00:00<00:01,  5.25it/s]"
     ]
    },
    {
     "name": "stderr",
     "output_type": "stream",
     "text": [
      "\r",
      "\u001b[1;34m￨ stanza 01, line 14: leese.but THEIR show.their SUBS tance STILL lives SWEET:  29%|\u001b[0;36m██▊       \u001b[0;36m| 4/14 [00:00<00:01,  5.25it/s]"
     ]
    },
    {
     "name": "stderr",
     "output_type": "stream",
     "text": [
      "\r",
      "\u001b[1;34m￨ stanza 01, line 14: leese.but THEIR show.their SUBS tance STILL lives SWEET: 100%|\u001b[0;36m██████████\u001b[0;36m| 14/14 [00:00<00:00, 17.11it/s]"
     ]
    },
    {
     "name": "stderr",
     "output_type": "stream",
     "text": [
      "\n",
      "\u001b[34m\u001b[1m⎿ 0.8 seconds\u001b[0m\u001b[36m @ 2023-12-16 08:20:29,550\u001b[0m\n"
     ]
    },
    {
     "data": {
      "text/html": [
       "<ol class=\"parselist\"><li><style>\n",
       "\n",
       ".miniquote { margin-left:0em;margin-top:.5em;font-family:monospace; font-size:.8em;}\n",
       ".parse { line-height:2.5em; letter-spacing:.1em;}\n",
       ".parselist { list-style-type: none; }\n",
       ".parselist li { padding-left:2em;}\n",
       ".parselist li:nth-child(5n) { list-style-type: decimal; }\n",
       ".viol_y { color: #f43838; }\n",
       ".mtr_s { text-decoration: overline; text-decoration-offset:5px; }\n",
       ".parselist > li:first-of-type { list-style-type: decimal; }\n",
       ".parselist > li:last-of-type { list-style-type: decimal; }\n",
       "</style><div class=\"parse\"><span class=\"mtr_w str_w viol_n\">Those</span> <span class=\"mtr_s str_s viol_n\">ho</span><span class=\"mtr_w str_w viol_n\">urs</span>, <span class=\"mtr_s str_s viol_n\">that</span> <span class=\"mtr_w str_w viol_n\">with</span> <span class=\"mtr_s str_s viol_n\">gen</span><span class=\"mtr_w str_w viol_n\">tle</span> <span class=\"mtr_s str_s viol_n\">work</span> <span class=\"mtr_w str_w viol_n\">did</span> <span class=\"mtr_s str_s viol_n\">frame</span></div></li>\n",
       "<li><style>\n",
       "\n",
       ".miniquote { margin-left:0em;margin-top:.5em;font-family:monospace; font-size:.8em;}\n",
       ".parse { line-height:2.5em; letter-spacing:.1em;}\n",
       ".parselist { list-style-type: none; }\n",
       ".parselist li { padding-left:2em;}\n",
       ".parselist li:nth-child(5n) { list-style-type: decimal; }\n",
       ".viol_y { color: #f43838; }\n",
       ".mtr_s { text-decoration: overline; text-decoration-offset:5px; }\n",
       ".parselist > li:first-of-type { list-style-type: decimal; }\n",
       ".parselist > li:last-of-type { list-style-type: decimal; }\n",
       "</style><div class=\"parse\"><span class=\"mtr_w str_w viol_n\">The</span> <span class=\"mtr_s str_s viol_n\">lo</span><span class=\"mtr_w str_w viol_n\">vely</span> <span class=\"mtr_s str_s viol_n\">gaze</span> <span class=\"mtr_w str_w viol_n\">where</span> <span class=\"mtr_s str_s viol_n\">e</span><span class=\"mtr_w str_w viol_n\">very</span> <span class=\"mtr_s str_s viol_n\">eye</span> <span class=\"mtr_w str_w viol_n\">doth</span> <span class=\"mtr_s str_s viol_n\">dwell</span>,</div></li>\n",
       "<li><style>\n",
       "\n",
       ".miniquote { margin-left:0em;margin-top:.5em;font-family:monospace; font-size:.8em;}\n",
       ".parse { line-height:2.5em; letter-spacing:.1em;}\n",
       ".parselist { list-style-type: none; }\n",
       ".parselist li { padding-left:2em;}\n",
       ".parselist li:nth-child(5n) { list-style-type: decimal; }\n",
       ".viol_y { color: #f43838; }\n",
       ".mtr_s { text-decoration: overline; text-decoration-offset:5px; }\n",
       ".parselist > li:first-of-type { list-style-type: decimal; }\n",
       ".parselist > li:last-of-type { list-style-type: decimal; }\n",
       "</style><div class=\"parse\"><span class=\"mtr_w str_w viol_n\">Will</span> <span class=\"mtr_s str_s viol_n\">play</span> <span class=\"mtr_w str_w viol_n\">the</span> <span class=\"mtr_s str_s viol_n\">ty</span><span class=\"mtr_w str_w viol_n\">rants</span> <span class=\"mtr_s str_w viol_y\">to</span> <span class=\"mtr_w str_w viol_n\">the</span> <span class=\"mtr_s str_s viol_n\">ve</span><span class=\"mtr_w str_w viol_n\">ry</span> <span class=\"mtr_s str_s viol_n\">same</span></div></li>\n",
       "<li><style>\n",
       "\n",
       ".miniquote { margin-left:0em;margin-top:.5em;font-family:monospace; font-size:.8em;}\n",
       ".parse { line-height:2.5em; letter-spacing:.1em;}\n",
       ".parselist { list-style-type: none; }\n",
       ".parselist li { padding-left:2em;}\n",
       ".parselist li:nth-child(5n) { list-style-type: decimal; }\n",
       ".viol_y { color: #f43838; }\n",
       ".mtr_s { text-decoration: overline; text-decoration-offset:5px; }\n",
       ".parselist > li:first-of-type { list-style-type: decimal; }\n",
       ".parselist > li:last-of-type { list-style-type: decimal; }\n",
       "</style><div class=\"parse\"><span class=\"mtr_w str_w viol_n\">And</span> <span class=\"mtr_s str_s viol_n\">that</span> <span class=\"mtr_w str_w viol_n\">un</span><span class=\"mtr_s str_s viol_n\">fair</span> <span class=\"mtr_w str_w viol_n\">which</span> <span class=\"mtr_s str_s viol_n\">fair</span><span class=\"mtr_w str_w viol_n\">ly</span> <span class=\"mtr_s str_w viol_y\">doth</span> <span class=\"mtr_w str_w viol_n\">ex</span><span class=\"mtr_s str_s viol_n\">cel</span>;</div></li>\n",
       "<li><style>\n",
       "\n",
       ".miniquote { margin-left:0em;margin-top:.5em;font-family:monospace; font-size:.8em;}\n",
       ".parse { line-height:2.5em; letter-spacing:.1em;}\n",
       ".parselist { list-style-type: none; }\n",
       ".parselist li { padding-left:2em;}\n",
       ".parselist li:nth-child(5n) { list-style-type: decimal; }\n",
       ".viol_y { color: #f43838; }\n",
       ".mtr_s { text-decoration: overline; text-decoration-offset:5px; }\n",
       ".parselist > li:first-of-type { list-style-type: decimal; }\n",
       ".parselist > li:last-of-type { list-style-type: decimal; }\n",
       "</style><div class=\"parse\"><span class=\"mtr_w str_w viol_n\">For</span> <span class=\"mtr_s str_s viol_n\">ne</span><span class=\"mtr_w str_w viol_n\">ver</span>-<span class=\"mtr_s str_s viol_n\">res</span><span class=\"mtr_w str_w viol_n\">ting</span> <span class=\"mtr_s str_s viol_n\">time</span> <span class=\"mtr_w str_s viol_n\">leads</span> <span class=\"mtr_s str_s viol_n\">sum</span><span class=\"mtr_w str_w viol_n\">mer</span> <span class=\"mtr_w str_w viol_n\">on</span></div></li>\n",
       "<li><style>\n",
       "\n",
       ".miniquote { margin-left:0em;margin-top:.5em;font-family:monospace; font-size:.8em;}\n",
       ".parse { line-height:2.5em; letter-spacing:.1em;}\n",
       ".parselist { list-style-type: none; }\n",
       ".parselist li { padding-left:2em;}\n",
       ".parselist li:nth-child(5n) { list-style-type: decimal; }\n",
       ".viol_y { color: #f43838; }\n",
       ".mtr_s { text-decoration: overline; text-decoration-offset:5px; }\n",
       ".parselist > li:first-of-type { list-style-type: decimal; }\n",
       ".parselist > li:last-of-type { list-style-type: decimal; }\n",
       "</style><div class=\"parse\"><span class=\"mtr_w str_w viol_n\">To</span> <span class=\"mtr_s str_s viol_n\">hi</span><span class=\"mtr_w str_w viol_n\">deo</span><span class=\"mtr_w str_w viol_n\">us</span> <span class=\"mtr_s str_s viol_n\">win</span><span class=\"mtr_w str_w viol_n\">ter</span>, <span class=\"mtr_s str_w viol_y\">and</span> <span class=\"mtr_w str_w viol_n\">con</span><span class=\"mtr_s str_s viol_n\">founds</span> <span class=\"mtr_w str_w viol_n\">him</span> <span class=\"mtr_w str_w viol_n\">there</span>;</div></li>\n",
       "<li><style>\n",
       "\n",
       ".miniquote { margin-left:0em;margin-top:.5em;font-family:monospace; font-size:.8em;}\n",
       ".parse { line-height:2.5em; letter-spacing:.1em;}\n",
       ".parselist { list-style-type: none; }\n",
       ".parselist li { padding-left:2em;}\n",
       ".parselist li:nth-child(5n) { list-style-type: decimal; }\n",
       ".viol_y { color: #f43838; }\n",
       ".mtr_s { text-decoration: overline; text-decoration-offset:5px; }\n",
       ".parselist > li:first-of-type { list-style-type: decimal; }\n",
       ".parselist > li:last-of-type { list-style-type: decimal; }\n",
       "</style><div class=\"parse\"><span class=\"mtr_w str_s viol_n\">Sap</span> <span class=\"mtr_s str_s viol_n\">checked</span> <span class=\"mtr_w str_w viol_n\">with</span> <span class=\"mtr_s str_s viol_n\">frost</span>, <span class=\"mtr_w str_w viol_n\">and</span> <span class=\"mtr_s str_s viol_n\">lus</span><span class=\"mtr_w str_w viol_n\">ty</span> <span class=\"mtr_s str_s viol_n\">leaves</span> <span class=\"mtr_w str_s viol_n\">quite</span> <span class=\"mtr_s str_s viol_n\">gone</span>,</div></li>\n",
       "<li><style>\n",
       "\n",
       ".miniquote { margin-left:0em;margin-top:.5em;font-family:monospace; font-size:.8em;}\n",
       ".parse { line-height:2.5em; letter-spacing:.1em;}\n",
       ".parselist { list-style-type: none; }\n",
       ".parselist li { padding-left:2em;}\n",
       ".parselist li:nth-child(5n) { list-style-type: decimal; }\n",
       ".viol_y { color: #f43838; }\n",
       ".mtr_s { text-decoration: overline; text-decoration-offset:5px; }\n",
       ".parselist > li:first-of-type { list-style-type: decimal; }\n",
       ".parselist > li:last-of-type { list-style-type: decimal; }\n",
       "</style><div class=\"parse\"><span class=\"mtr_s str_s viol_n\">Bea</span><span class=\"mtr_w str_w viol_n\">uty</span> <span class=\"mtr_w str_w viol_n\">o'er</span>-<span class=\"mtr_s str_s viol_n\">snowed</span> <span class=\"mtr_w str_w viol_n\">and</span> <span class=\"mtr_s str_s viol_n\">ba</span><span class=\"mtr_w str_w viol_n\">reness</span> <span class=\"mtr_s str_s viol_n\">e</span><span class=\"mtr_w str_w viol_n\">very</span> <span class=\"mtr_s str_s viol_n\">where</span>:</div></li>\n",
       "<li><style>\n",
       "\n",
       ".miniquote { margin-left:0em;margin-top:.5em;font-family:monospace; font-size:.8em;}\n",
       ".parse { line-height:2.5em; letter-spacing:.1em;}\n",
       ".parselist { list-style-type: none; }\n",
       ".parselist li { padding-left:2em;}\n",
       ".parselist li:nth-child(5n) { list-style-type: decimal; }\n",
       ".viol_y { color: #f43838; }\n",
       ".mtr_s { text-decoration: overline; text-decoration-offset:5px; }\n",
       ".parselist > li:first-of-type { list-style-type: decimal; }\n",
       ".parselist > li:last-of-type { list-style-type: decimal; }\n",
       "</style><div class=\"parse\"><span class=\"mtr_w str_w viol_n\">Then</span> <span class=\"mtr_w str_w viol_n\">were</span> <span class=\"mtr_s str_s viol_n\">not</span> <span class=\"mtr_s str_s viol_n\">sum</span><span class=\"mtr_w str_w viol_n\">mer's</span> <span class=\"mtr_s str_s viol_n\">dis</span><span class=\"mtr_w str_w viol_n\">til</span><span class=\"mtr_s str_s viol_n\">la</span><span class=\"mtr_w str_w viol_n\">tion</span> <span class=\"mtr_s str_s viol_n\">left</span>,</div></li>\n",
       "<li><style>\n",
       "\n",
       ".miniquote { margin-left:0em;margin-top:.5em;font-family:monospace; font-size:.8em;}\n",
       ".parse { line-height:2.5em; letter-spacing:.1em;}\n",
       ".parselist { list-style-type: none; }\n",
       ".parselist li { padding-left:2em;}\n",
       ".parselist li:nth-child(5n) { list-style-type: decimal; }\n",
       ".viol_y { color: #f43838; }\n",
       ".mtr_s { text-decoration: overline; text-decoration-offset:5px; }\n",
       ".parselist > li:first-of-type { list-style-type: decimal; }\n",
       ".parselist > li:last-of-type { list-style-type: decimal; }\n",
       "</style><div class=\"parse\"><span class=\"mtr_w str_w viol_n\">A</span> <span class=\"mtr_s str_s viol_n\">li</span><span class=\"mtr_w str_w viol_n\">quid</span> <span class=\"mtr_s str_s viol_n\">pri</span><span class=\"mtr_w str_w viol_n\">soner</span> <span class=\"mtr_s str_s viol_n\">pent</span> <span class=\"mtr_w str_w viol_n\">in</span> <span class=\"mtr_s str_s viol_n\">walls</span> <span class=\"mtr_w str_w viol_n\">of</span> <span class=\"mtr_s str_s viol_n\">glass</span>,</div></li>\n",
       "<li><style>\n",
       "\n",
       ".miniquote { margin-left:0em;margin-top:.5em;font-family:monospace; font-size:.8em;}\n",
       ".parse { line-height:2.5em; letter-spacing:.1em;}\n",
       ".parselist { list-style-type: none; }\n",
       ".parselist li { padding-left:2em;}\n",
       ".parselist li:nth-child(5n) { list-style-type: decimal; }\n",
       ".viol_y { color: #f43838; }\n",
       ".mtr_s { text-decoration: overline; text-decoration-offset:5px; }\n",
       ".parselist > li:first-of-type { list-style-type: decimal; }\n",
       ".parselist > li:last-of-type { list-style-type: decimal; }\n",
       "</style><div class=\"parse\"><span class=\"mtr_s str_s viol_n\">Bea</span><span class=\"mtr_w str_w viol_n\">uty's</span> <span class=\"mtr_w str_w viol_n\">ef</span><span class=\"mtr_s str_s viol_n\">fect</span> <span class=\"mtr_w str_w viol_n\">with</span> <span class=\"mtr_s str_s viol_n\">bea</span><span class=\"mtr_w str_w viol_n\">uty</span> <span class=\"mtr_s str_w viol_y\">were</span> <span class=\"mtr_w str_w viol_n\">be</span><span class=\"mtr_s str_s viol_n\">reft</span>,</div></li>\n",
       "<li><style>\n",
       "\n",
       ".miniquote { margin-left:0em;margin-top:.5em;font-family:monospace; font-size:.8em;}\n",
       ".parse { line-height:2.5em; letter-spacing:.1em;}\n",
       ".parselist { list-style-type: none; }\n",
       ".parselist li { padding-left:2em;}\n",
       ".parselist li:nth-child(5n) { list-style-type: decimal; }\n",
       ".viol_y { color: #f43838; }\n",
       ".mtr_s { text-decoration: overline; text-decoration-offset:5px; }\n",
       ".parselist > li:first-of-type { list-style-type: decimal; }\n",
       ".parselist > li:last-of-type { list-style-type: decimal; }\n",
       "</style><div class=\"parse\"><span class=\"mtr_w str_w viol_n\">Nor</span> <span class=\"mtr_s str_s viol_n\">it</span>, <span class=\"mtr_w str_w viol_n\">nor</span> <span class=\"mtr_s str_s viol_n\">no</span> <span class=\"mtr_w str_w viol_n\">re</span><span class=\"mtr_s str_s viol_n\">mem</span><span class=\"mtr_w str_w viol_n\">brance</span> <span class=\"mtr_w str_w viol_n\">what</span> <span class=\"mtr_s str_s viol_n\">it</span> <span class=\"mtr_w str_w viol_n\">was</span>:</div></li>\n",
       "<li><style>\n",
       "\n",
       ".miniquote { margin-left:0em;margin-top:.5em;font-family:monospace; font-size:.8em;}\n",
       ".parse { line-height:2.5em; letter-spacing:.1em;}\n",
       ".parselist { list-style-type: none; }\n",
       ".parselist li { padding-left:2em;}\n",
       ".parselist li:nth-child(5n) { list-style-type: decimal; }\n",
       ".viol_y { color: #f43838; }\n",
       ".mtr_s { text-decoration: overline; text-decoration-offset:5px; }\n",
       ".parselist > li:first-of-type { list-style-type: decimal; }\n",
       ".parselist > li:last-of-type { list-style-type: decimal; }\n",
       "</style><div class=\"parse\"><span class=\"mtr_w str_w viol_n\">But</span> <span class=\"mtr_s str_s viol_n\">flo</span><span class=\"mtr_w str_w viol_n\">wers</span> <span class=\"mtr_w str_w viol_n\">dis</span><span class=\"mtr_s str_s viol_n\">till'd</span>, <span class=\"mtr_w str_w viol_n\">though</span> <span class=\"mtr_s str_s viol_n\">they</span> <span class=\"mtr_w str_w viol_n\">with</span> <span class=\"mtr_s str_s viol_n\">win</span><span class=\"mtr_w str_w viol_n\">ter</span> <span class=\"mtr_s str_s viol_n\">meet</span>,</div></li>\n",
       "<li><style>\n",
       "\n",
       ".miniquote { margin-left:0em;margin-top:.5em;font-family:monospace; font-size:.8em;}\n",
       ".parse { line-height:2.5em; letter-spacing:.1em;}\n",
       ".parselist { list-style-type: none; }\n",
       ".parselist li { padding-left:2em;}\n",
       ".parselist li:nth-child(5n) { list-style-type: decimal; }\n",
       ".viol_y { color: #f43838; }\n",
       ".mtr_s { text-decoration: overline; text-decoration-offset:5px; }\n",
       ".parselist > li:first-of-type { list-style-type: decimal; }\n",
       ".parselist > li:last-of-type { list-style-type: decimal; }\n",
       "</style><div class=\"parse\"><span class=\"mtr_w str_s viol_n\">Leese</span> <span class=\"mtr_w str_w viol_n\">but</span> <span class=\"mtr_s str_s viol_n\">their</span> <span class=\"mtr_w str_s viol_n\">show</span>; <span class=\"mtr_w str_w viol_n\">their</span> <span class=\"mtr_s str_s viol_n\">subs</span><span class=\"mtr_w str_w viol_n\">tance</span> <span class=\"mtr_s str_s viol_n\">still</span> <span class=\"mtr_w str_s viol_n\">lives</span> <span class=\"mtr_s str_s viol_n\">sweet</span>.</div></li></ol>"
      ],
      "text/plain": [
       "<IPython.core.display.HTML object>"
      ]
     },
     "execution_count": 28,
     "metadata": {},
     "output_type": "execute_result"
    }
   ],
   "source": [
    "# parse with different options\n",
    "sonnetV.parse(constraints=('w_peak','s_unstress'))\n",
    "sonnetV.render()"
   ]
  },
  {
   "cell_type": "markdown",
   "id": "215bf546",
   "metadata": {},
   "source": [
    "### Saving parse output\n"
   ]
  },
  {
   "cell_type": "code",
   "execution_count": 7,
   "id": "4314eb21",
   "metadata": {},
   "outputs": [],
   "source": [
    "# sonnet.parse(...opts...)    # if you want to customize meter\n",
    "\n",
    "# then get parselist object\n",
    "parses = sonnetV.parses\n",
    "\n",
    "# you can save pandas dataframe\n",
    "parses.df.to_csv('my_parse_output.csv')\n",
    "\n",
    "# or you can also save the object itself (as json)\n",
    "parses.save('my_parse_list.json')\n",
    "\n",
    "# and then re-load it later on:\n",
    "parses2 = prosodic.load('my_parse_list.json')"
   ]
  },
  {
   "cell_type": "markdown",
   "id": "412a0aee",
   "metadata": {},
   "source": [
    "## Example: Comparing Shakespeare's sonnets\n"
   ]
  },
  {
   "cell_type": "code",
   "execution_count": 8,
   "id": "effac36c",
   "metadata": {},
   "outputs": [
    {
     "name": "stderr",
     "output_type": "stream",
     "text": [
      "\u001b[34m\u001b[1mbuilding text with 17,513 words\u001b[0m\u001b[36m @ 2023-12-16 08:20:30,076\u001b[0m\n"
     ]
    },
    {
     "name": "stderr",
     "output_type": "stream",
     "text": [
      "\u001b[34m\u001b[1m￨ tokenizing\u001b[0m\u001b[36m @ 2023-12-16 08:20:30,076\u001b[0m\n"
     ]
    },
    {
     "name": "stderr",
     "output_type": "stream",
     "text": [
      "\u001b[34m\u001b[1m￨ ⎿ 0.1 seconds\u001b[0m\u001b[36m @ 2023-12-16 08:20:30,179\u001b[0m\n"
     ]
    },
    {
     "name": "stderr",
     "output_type": "stream",
     "text": [
      "\u001b[34m\u001b[1m￨ building stanzas\u001b[0m\u001b[36m @ 2023-12-16 08:20:30,179\u001b[0m\n"
     ]
    },
    {
     "name": "stderr",
     "output_type": "stream",
     "text": [
      "\r",
      "\u001b[1;34m￨ ￨ iterating stanzas:   0%|\u001b[0;36m          \u001b[0;36m| 0/154 [00:00<?, ?it/s]"
     ]
    },
    {
     "name": "stderr",
     "output_type": "stream",
     "text": [
      "\r",
      "\u001b[1;34m￨ ￨ iterating stanzas:   6%|\u001b[0;36m▌         \u001b[0;36m| 9/154 [00:00<00:01, 88.18it/s]"
     ]
    },
    {
     "name": "stderr",
     "output_type": "stream",
     "text": [
      "\r",
      "\u001b[1;34m￨ ￨ iterating stanzas:  12%|\u001b[0;36m█▏        \u001b[0;36m| 18/154 [00:00<00:01, 86.97it/s]"
     ]
    },
    {
     "name": "stderr",
     "output_type": "stream",
     "text": [
      "\r",
      "\u001b[1;34m￨ ￨ iterating stanzas:  18%|\u001b[0;36m█▊        \u001b[0;36m| 28/154 [00:00<00:01, 88.77it/s]"
     ]
    },
    {
     "name": "stderr",
     "output_type": "stream",
     "text": [
      "\r",
      "\u001b[1;34m￨ ￨ iterating stanzas:  25%|\u001b[0;36m██▍       \u001b[0;36m| 38/154 [00:00<00:01, 90.59it/s]"
     ]
    },
    {
     "name": "stderr",
     "output_type": "stream",
     "text": [
      "\r",
      "\u001b[1;34m￨ ￨ iterating stanzas:  31%|\u001b[0;36m███       \u001b[0;36m| 48/154 [00:00<00:01, 92.45it/s]"
     ]
    },
    {
     "name": "stderr",
     "output_type": "stream",
     "text": [
      "\r",
      "\u001b[1;34m￨ ￨ iterating stanzas:  38%|\u001b[0;36m███▊      \u001b[0;36m| 58/154 [00:00<00:01, 93.75it/s]"
     ]
    },
    {
     "name": "stderr",
     "output_type": "stream",
     "text": [
      "\r",
      "\u001b[1;34m￨ ￨ iterating stanzas:  44%|\u001b[0;36m████▍     \u001b[0;36m| 68/154 [00:00<00:00, 94.71it/s]"
     ]
    },
    {
     "name": "stderr",
     "output_type": "stream",
     "text": [
      "\r",
      "\u001b[1;34m￨ ￨ iterating stanzas:  51%|\u001b[0;36m█████     \u001b[0;36m| 78/154 [00:00<00:00, 94.85it/s]"
     ]
    },
    {
     "name": "stderr",
     "output_type": "stream",
     "text": [
      "\r",
      "\u001b[1;34m￨ ￨ iterating stanzas:  57%|\u001b[0;36m█████▋    \u001b[0;36m| 88/154 [00:01<00:01, 49.30it/s]"
     ]
    },
    {
     "name": "stderr",
     "output_type": "stream",
     "text": [
      "\r",
      "\u001b[1;34m￨ ￨ iterating stanzas:  64%|\u001b[0;36m██████▎   \u001b[0;36m| 98/154 [00:01<00:00, 57.87it/s]"
     ]
    },
    {
     "name": "stderr",
     "output_type": "stream",
     "text": [
      "\r",
      "\u001b[1;34m￨ ￨ iterating stanzas:  70%|\u001b[0;36m███████   \u001b[0;36m| 108/154 [00:01<00:00, 65.34it/s]"
     ]
    },
    {
     "name": "stderr",
     "output_type": "stream",
     "text": [
      "\r",
      "\u001b[1;34m￨ ￨ iterating stanzas:  76%|\u001b[0;36m███████▌  \u001b[0;36m| 117/154 [00:01<00:00, 70.71it/s]"
     ]
    },
    {
     "name": "stderr",
     "output_type": "stream",
     "text": [
      "\r",
      "\u001b[1;34m￨ ￨ iterating stanzas:  82%|\u001b[0;36m████████▏ \u001b[0;36m| 127/154 [00:01<00:00, 76.93it/s]"
     ]
    },
    {
     "name": "stderr",
     "output_type": "stream",
     "text": [
      "\r",
      "\u001b[1;34m￨ ￨ iterating stanzas:  89%|\u001b[0;36m████████▉ \u001b[0;36m| 137/154 [00:01<00:00, 81.02it/s]"
     ]
    },
    {
     "name": "stderr",
     "output_type": "stream",
     "text": [
      "\r",
      "\u001b[1;34m￨ ￨ iterating stanzas:  95%|\u001b[0;36m█████████▌\u001b[0;36m| 147/154 [00:01<00:00, 84.88it/s]"
     ]
    },
    {
     "name": "stderr",
     "output_type": "stream",
     "text": [
      "\r",
      "\u001b[1;34m￨ ￨ iterating stanzas: 100%|\u001b[0;36m██████████\u001b[0;36m| 154/154 [00:01<00:00, 78.36it/s]"
     ]
    },
    {
     "name": "stderr",
     "output_type": "stream",
     "text": [
      "\n",
      "\u001b[34m\u001b[1m￨ ⎿ 2 seconds\u001b[0m\u001b[36m @ 2023-12-16 08:20:32,148\u001b[0m\n"
     ]
    },
    {
     "name": "stderr",
     "output_type": "stream",
     "text": [
      "\u001b[34m\u001b[1m⎿ 2.1 seconds\u001b[0m\u001b[36m @ 2023-12-16 08:20:32,148\u001b[0m\n"
     ]
    },
    {
     "name": "stderr",
     "output_type": "stream",
     "text": [
      "\u001b[34m\u001b[1mparsing 2155 lines [5x]\u001b[0m\u001b[36m @ 2023-12-16 08:20:32,170\u001b[0m\n"
     ]
    },
    {
     "name": "stderr",
     "output_type": "stream",
     "text": [
      "\r",
      "\u001b[1;34m￨ parsing [5x]:   0%|\u001b[0;36m          \u001b[0;36m| 0/2155 [00:00<?, ?it/s]"
     ]
    },
    {
     "name": "stderr",
     "output_type": "stream",
     "text": [
      "\r",
      "\u001b[1;34m￨ stanza 01, line 01: from FAI rest CREA tures WE de SIRE in CREASE          :   0%|\u001b[0;36m          \u001b[0;36m| 0/2155 [00:00<?, ?it/s]"
     ]
    },
    {
     "name": "stderr",
     "output_type": "stream",
     "text": [
      "\r",
      "\u001b[1;34m￨ stanza 01, line 01: from FAI rest CREA tures WE de SIRE in CREASE          :   0%|\u001b[0;36m          \u001b[0;36m| 1/2155 [00:00<06:05,  5.89it/s]"
     ]
    },
    {
     "name": "stderr",
     "output_type": "stream",
     "text": [
      "\r",
      "\u001b[1;34m￨ stanza 01, line 02: that THE reby BEA uty's ROSE might NE ver DIE          :   0%|\u001b[0;36m          \u001b[0;36m| 1/2155 [00:00<06:05,  5.89it/s]"
     ]
    },
    {
     "name": "stderr",
     "output_type": "stream",
     "text": [
      "\r",
      "\u001b[1;34m￨ stanza 01, line 03: but AS the RI per SHOULD by TIME de CEASE              :   0%|\u001b[0;36m          \u001b[0;36m| 1/2155 [00:00<06:05,  5.89it/s]"
     ]
    },
    {
     "name": "stderr",
     "output_type": "stream",
     "text": [
      "\r",
      "\u001b[1;34m￨ stanza 01, line 04: his TEN der HEIR might BEAR his ME mo RY               :   0%|\u001b[0;36m          \u001b[0;36m| 1/2155 [00:00<06:05,  5.89it/s]"
     ]
    },
    {
     "name": "stderr",
     "output_type": "stream",
     "text": [
      "\r",
      "\u001b[1;34m￨ stanza 01, line 05: but THOU con TRAC ted TO thine OWN bright EYES         :   0%|\u001b[0;36m          \u001b[0;36m| 1/2155 [00:00<06:05,  5.89it/s]"
     ]
    },
    {
     "name": "stderr",
     "output_type": "stream",
     "text": [
      "\r",
      "\u001b[1;34m￨ stanza 01, line 06: FEED'ST thy LIGHT'ST.FLAME with SELF subs TAN tial FU e:   0%|\u001b[0;36m          \u001b[0;36m| 1/2155 [00:00<06:05,  5.89it/s]"
     ]
    },
    {
     "name": "stderr",
     "output_type": "stream",
     "text": [
      "\r",
      "\u001b[1;34m￨ stanza 01, line 07: MA king.a FA mine WHERE a BUN dance LIES               :   0%|\u001b[0;36m          \u001b[0;36m| 1/2155 [00:00<06:05,  5.89it/s]"
     ]
    },
    {
     "name": "stderr",
     "output_type": "stream",
     "text": [
      "\r",
      "\u001b[1;34m￨ stanza 01, line 08: thy SELF thy FOE to THY sweet SELF too CRUEL           :   0%|\u001b[0;36m          \u001b[0;36m| 1/2155 [00:00<06:05,  5.89it/s]"
     ]
    },
    {
     "name": "stderr",
     "output_type": "stream",
     "text": [
      "\r",
      "\u001b[1;34m￨ stanza 01, line 09: thou THAT art NOW the WORLD'S fresh OR na MENT         :   0%|\u001b[0;36m          \u001b[0;36m| 1/2155 [00:00<06:05,  5.89it/s]"
     ]
    },
    {
     "name": "stderr",
     "output_type": "stream",
     "text": [
      "\r",
      "\u001b[1;34m￨ stanza 01, line 10: and ON ly HE rald TO the GAU dy SPRING                 :   0%|\u001b[0;36m          \u001b[0;36m| 1/2155 [00:00<06:05,  5.89it/s]"
     ]
    },
    {
     "name": "stderr",
     "output_type": "stream",
     "text": [
      "\r",
      "\u001b[1;34m￨ stanza 01, line 11: wit HIN thine OWN bud BU ri EST thy CON tent           :   0%|\u001b[0;36m          \u001b[0;36m| 1/2155 [00:00<06:05,  5.89it/s]"
     ]
    },
    {
     "name": "stderr",
     "output_type": "stream",
     "text": [
      "\r",
      "\u001b[1;34m￨ stanza 01, line 11: wit HIN thine OWN bud BU ri EST thy CON tent           :   1%|\u001b[0;36m          \u001b[0;36m| 11/2155 [00:00<02:22, 15.04it/s]"
     ]
    },
    {
     "name": "stderr",
     "output_type": "stream",
     "text": [
      "\r",
      "\u001b[1;34m￨ stanza 01, line 12: and TEN der.churl MA kest WASTE in NIG gar DING        :   1%|\u001b[0;36m          \u001b[0;36m| 11/2155 [00:00<02:22, 15.04it/s]"
     ]
    },
    {
     "name": "stderr",
     "output_type": "stream",
     "text": [
      "\r",
      "\u001b[1;34m￨ stanza 01, line 13: PI.TY the WORLD or ELSE this GLUT ton BE               :   1%|\u001b[0;36m          \u001b[0;36m| 11/2155 [00:00<02:22, 15.04it/s]"
     ]
    },
    {
     "name": "stderr",
     "output_type": "stream",
     "text": [
      "\r",
      "\u001b[1;34m￨ stanza 01, line 14: to EAT the WORLD'S due BY the GRAVE and THEE           :   1%|\u001b[0;36m          \u001b[0;36m| 11/2155 [00:00<02:22, 15.04it/s]"
     ]
    },
    {
     "name": "stderr",
     "output_type": "stream",
     "text": [
      "\r",
      "\u001b[1;34m￨ stanza 02, line 01: when FOR ty WIN ters SHALL be SEIGE thy BROW           :   1%|\u001b[0;36m          \u001b[0;36m| 11/2155 [00:00<02:22, 15.04it/s]"
     ]
    },
    {
     "name": "stderr",
     "output_type": "stream",
     "text": [
      "\r",
      "\u001b[1;34m￨ stanza 02, line 02: and DIG deep TRENC hes IN thy BEA uty's FIELD          :   1%|\u001b[0;36m          \u001b[0;36m| 11/2155 [00:00<02:22, 15.04it/s]"
     ]
    },
    {
     "name": "stderr",
     "output_type": "stream",
     "text": [
      "\r",
      "\u001b[1;34m￨ stanza 02, line 03: thy YOUTH'S proud LI ve RY so GAZED on NOW             :   1%|\u001b[0;36m          \u001b[0;36m| 11/2155 [00:00<02:22, 15.04it/s]"
     ]
    },
    {
     "name": "stderr",
     "output_type": "stream",
     "text": [
      "\r",
      "\u001b[1;34m￨ stanza 02, line 04: will BE a TAT ter'd WEED of SMALL worth HELD           :   1%|\u001b[0;36m          \u001b[0;36m| 11/2155 [00:00<02:22, 15.04it/s]"
     ]
    },
    {
     "name": "stderr",
     "output_type": "stream",
     "text": [
      "\r",
      "\u001b[1;34m￨ stanza 02, line 05: then BE ing ASK'D where ALL thy BEA uty LIES           :   1%|\u001b[0;36m          \u001b[0;36m| 11/2155 [00:00<02:22, 15.04it/s]"
     ]
    },
    {
     "name": "stderr",
     "output_type": "stream",
     "text": [
      "\r",
      "\u001b[1;34m￨ stanza 02, line 06: where ALL the TREA sure OF thy LUS ty DAYS             :   1%|\u001b[0;36m          \u001b[0;36m| 11/2155 [00:00<02:22, 15.04it/s]"
     ]
    },
    {
     "name": "stderr",
     "output_type": "stream",
     "text": [
      "\r",
      "\u001b[1;34m￨ stanza 02, line 07: to SAY wit HIN thine OWN deep SUN ken EYES             :   1%|\u001b[0;36m          \u001b[0;36m| 11/2155 [00:00<02:22, 15.04it/s]"
     ]
    },
    {
     "name": "stderr",
     "output_type": "stream",
     "text": [
      "\r",
      "\u001b[1;34m￨ stanza 02, line 08: were AN all EA ting SHAME and THRIF tless PRAISE       :   1%|\u001b[0;36m          \u001b[0;36m| 11/2155 [00:00<02:22, 15.04it/s]"
     ]
    },
    {
     "name": "stderr",
     "output_type": "stream",
     "text": [
      "\r",
      "\u001b[1;34m￨ stanza 02, line 09: how MUCH more PRAISE de SERVED thy BEA uty's USE       :   1%|\u001b[0;36m          \u001b[0;36m| 11/2155 [00:00<02:22, 15.04it/s]"
     ]
    },
    {
     "name": "stderr",
     "output_type": "stream",
     "text": [
      "\r",
      "\u001b[1;34m￨ stanza 02, line 10: if THOU couldst AN swer 'THIS fair CHILD of.mine       :   1%|\u001b[0;36m          \u001b[0;36m| 11/2155 [00:00<02:22, 15.04it/s]"
     ]
    },
    {
     "name": "stderr",
     "output_type": "stream",
     "text": [
      "\r",
      "\u001b[1;34m￨ stanza 02, line 11: shall SUM my COUNT and MAKE my OLD ex CUSE             :   1%|\u001b[0;36m          \u001b[0;36m| 11/2155 [00:00<02:22, 15.04it/s]"
     ]
    },
    {
     "name": "stderr",
     "output_type": "stream",
     "text": [
      "\r",
      "\u001b[1;34m￨ stanza 02, line 12: PRO.VING his BEA uty BY suc CES sion THINE             :   1%|\u001b[0;36m          \u001b[0;36m| 11/2155 [00:00<02:22, 15.04it/s]"
     ]
    },
    {
     "name": "stderr",
     "output_type": "stream",
     "text": [
      "\r",
      "\u001b[1;34m￨ stanza 02, line 12: PRO.VING his BEA uty BY suc CES sion THINE             :   1%|\u001b[0;36m          \u001b[0;36m| 26/2155 [00:00<01:01, 34.82it/s]"
     ]
    },
    {
     "name": "stderr",
     "output_type": "stream",
     "text": [
      "\r",
      "\u001b[1;34m￨ stanza 02, line 13: this WERE to BE new MADE when THOU art OLD             :   1%|\u001b[0;36m          \u001b[0;36m| 26/2155 [00:00<01:01, 34.82it/s]"
     ]
    },
    {
     "name": "stderr",
     "output_type": "stream",
     "text": [
      "\r",
      "\u001b[1;34m￨ stanza 02, line 14: and SEE thy BLOOD warm WHEN thou FEEL'ST it COLD       :   1%|\u001b[0;36m          \u001b[0;36m| 26/2155 [00:00<01:01, 34.82it/s]"
     ]
    },
    {
     "name": "stderr",
     "output_type": "stream",
     "text": [
      "\r",
      "\u001b[1;34m￨ stanza 03, line 01: LOOK in.thy GLASS and TELL the FACE thou VIE west      :   1%|\u001b[0;36m          \u001b[0;36m| 26/2155 [00:00<01:01, 34.82it/s]"
     ]
    },
    {
     "name": "stderr",
     "output_type": "stream",
     "text": [
      "\r",
      "\u001b[1;34m￨ stanza 03, line 02: NOW is.the TIME that FACE should FORM a NOT her        :   1%|\u001b[0;36m          \u001b[0;36m| 26/2155 [00:00<01:01, 34.82it/s]"
     ]
    },
    {
     "name": "stderr",
     "output_type": "stream",
     "text": [
      "\r",
      "\u001b[1;34m￨ stanza 03, line 03: whose FRESH re PAIR if NOW thou NOT re NE west         :   1%|\u001b[0;36m          \u001b[0;36m| 26/2155 [00:00<01:01, 34.82it/s]"
     ]
    },
    {
     "name": "stderr",
     "output_type": "stream",
     "text": [
      "\r",
      "\u001b[1;34m￨ stanza 03, line 04: thou DOST be GUILE the WORLD un BLESS some MOT her     :   1%|\u001b[0;36m          \u001b[0;36m| 26/2155 [00:01<01:01, 34.82it/s]"
     ]
    },
    {
     "name": "stderr",
     "output_type": "stream",
     "text": [
      "\r",
      "\u001b[1;34m￨ stanza 03, line 05: for WHERE is SHE so FAIR whose U near'd WOMB           :   1%|\u001b[0;36m          \u001b[0;36m| 26/2155 [00:01<01:01, 34.82it/s]"
     ]
    },
    {
     "name": "stderr",
     "output_type": "stream",
     "text": [
      "\r",
      "\u001b[1;34m￨ stanza 03, line 05: for WHERE is SHE so FAIR whose U near'd WOMB           :   2%|\u001b[0;36m▏         \u001b[0;36m| 33/2155 [00:01<00:51, 41.03it/s]"
     ]
    },
    {
     "name": "stderr",
     "output_type": "stream",
     "text": [
      "\r",
      "\u001b[1;34m￨ stanza 03, line 06: dis DAINS the TIL lage OF thy HUS ban DRY              :   2%|\u001b[0;36m▏         \u001b[0;36m| 33/2155 [00:01<00:51, 41.03it/s]"
     ]
    },
    {
     "name": "stderr",
     "output_type": "stream",
     "text": [
      "\r",
      "\u001b[1;34m￨ stanza 03, line 07: or WHO is HE so FOND will BE the TOMB                  :   2%|\u001b[0;36m▏         \u001b[0;36m| 33/2155 [00:01<00:51, 41.03it/s]"
     ]
    },
    {
     "name": "stderr",
     "output_type": "stream",
     "text": [
      "\r",
      "\u001b[1;34m￨ stanza 03, line 08: of HIS self LOVE to STOP pos TE ri TY                  :   2%|\u001b[0;36m▏         \u001b[0;36m| 33/2155 [00:01<00:51, 41.03it/s]"
     ]
    },
    {
     "name": "stderr",
     "output_type": "stream",
     "text": [
      "\r",
      "\u001b[1;34m￨ stanza 03, line 09: thou ART thy MOT her's GLASS and SHE in THEE           :   2%|\u001b[0;36m▏         \u001b[0;36m| 33/2155 [00:01<00:51, 41.03it/s]"
     ]
    },
    {
     "name": "stderr",
     "output_type": "stream",
     "text": [
      "\r",
      "\u001b[1;34m￨ stanza 03, line 10: calls BACK the LO vely A pril OF her PRIME             :   2%|\u001b[0;36m▏         \u001b[0;36m| 33/2155 [00:01<00:51, 41.03it/s]"
     ]
    },
    {
     "name": "stderr",
     "output_type": "stream",
     "text": [
      "\r",
      "\u001b[1;34m￨ stanza 03, line 11: so THOU through WIN dows OF thine AGE shall SEE        :   2%|\u001b[0;36m▏         \u001b[0;36m| 33/2155 [00:01<00:51, 41.03it/s]"
     ]
    },
    {
     "name": "stderr",
     "output_type": "stream",
     "text": [
      "\r",
      "\u001b[1;34m￨ stanza 03, line 11: so THOU through WIN dows OF thine AGE shall SEE        :   2%|\u001b[0;36m▏         \u001b[0;36m| 39/2155 [00:01<00:58, 36.25it/s]"
     ]
    },
    {
     "name": "stderr",
     "output_type": "stream",
     "text": [
      "\r",
      "\u001b[1;34m￨ stanza 03, line 12: des PITE of WRIN kles THIS thy GOL den TIME            :   2%|\u001b[0;36m▏         \u001b[0;36m| 39/2155 [00:01<00:58, 36.25it/s]"
     ]
    },
    {
     "name": "stderr",
     "output_type": "stream",
     "text": [
      "\r",
      "\u001b[1;34m￨ stanza 03, line 13: but IF thou LIVE re MEM ber'd NOT to BE                :   2%|\u001b[0;36m▏         \u001b[0;36m| 39/2155 [00:01<00:58, 36.25it/s]"
     ]
    },
    {
     "name": "stderr",
     "output_type": "stream",
     "text": [
      "\r",
      "\u001b[1;34m￨ stanza 03, line 14: die SIN gle AND thine I mage DIES with THEE            :   2%|\u001b[0;36m▏         \u001b[0;36m| 39/2155 [00:01<00:58, 36.25it/s]"
     ]
    },
    {
     "name": "stderr",
     "output_type": "stream",
     "text": [
      "\r",
      "\u001b[1;34m￨ stanza 04, line 01: unt HRIF ty LO ve LINESS why DOST thou SPEND           :   2%|\u001b[0;36m▏         \u001b[0;36m| 39/2155 [00:01<00:58, 36.25it/s]"
     ]
    },
    {
     "name": "stderr",
     "output_type": "stream",
     "text": [
      "\r",
      "\u001b[1;34m￨ stanza 04, line 02: u PON thy SELF thy BEA uty's LE ga CY                  :   2%|\u001b[0;36m▏         \u001b[0;36m| 39/2155 [00:01<00:58, 36.25it/s]"
     ]
    },
    {
     "name": "stderr",
     "output_type": "stream",
     "text": [
      "\r",
      "\u001b[1;34m￨ stanza 04, line 03: NA ture's BE.QUEST gives NOT hing BUT doth LEND        :   2%|\u001b[0;36m▏         \u001b[0;36m| 39/2155 [00:01<00:58, 36.25it/s]"
     ]
    },
    {
     "name": "stderr",
     "output_type": "stream",
     "text": [
      "\r",
      "\u001b[1;34m￨ stanza 04, line 04: and BE ing FRANK she LENDS to THOSE are FREE           :   2%|\u001b[0;36m▏         \u001b[0;36m| 39/2155 [00:01<00:58, 36.25it/s]"
     ]
    },
    {
     "name": "stderr",
     "output_type": "stream",
     "text": [
      "\r",
      "\u001b[1;34m￨ stanza 04, line 05: then BEA uteous NIG gard WHY dost THOU a BUSE          :   2%|\u001b[0;36m▏         \u001b[0;36m| 39/2155 [00:01<00:58, 36.25it/s]"
     ]
    },
    {
     "name": "stderr",
     "output_type": "stream",
     "text": [
      "\r",
      "\u001b[1;34m￨ stanza 04, line 06: the BOUN teous LAR gess GI ven THEE to GIVE            :   2%|\u001b[0;36m▏         \u001b[0;36m| 39/2155 [00:01<00:58, 36.25it/s]"
     ]
    },
    {
     "name": "stderr",
     "output_type": "stream",
     "text": [
      "\r",
      "\u001b[1;34m￨ stanza 04, line 07: PRO fi.tless U su RER why DOST thou USE                :   2%|\u001b[0;36m▏         \u001b[0;36m| 39/2155 [00:01<00:58, 36.25it/s]"
     ]
    },
    {
     "name": "stderr",
     "output_type": "stream",
     "text": [
      "\r",
      "\u001b[1;34m￨ stanza 04, line 08: so GREAT a SUM of SUMS yet CANST not LIVE              :   2%|\u001b[0;36m▏         \u001b[0;36m| 39/2155 [00:01<00:58, 36.25it/s]"
     ]
    },
    {
     "name": "stderr",
     "output_type": "stream",
     "text": [
      "\r",
      "\u001b[1;34m￨ stanza 04, line 09: for HA ving TRAF fic WITH thy SELF a LONE              :   2%|\u001b[0;36m▏         \u001b[0;36m| 39/2155 [00:01<00:58, 36.25it/s]"
     ]
    },
    {
     "name": "stderr",
     "output_type": "stream",
     "text": [
      "\r",
      "\u001b[1;34m￨ stanza 04, line 10: thou.of THY self.thy SWEET self DOST de CEIVE          :   2%|\u001b[0;36m▏         \u001b[0;36m| 39/2155 [00:01<00:58, 36.25it/s]"
     ]
    },
    {
     "name": "stderr",
     "output_type": "stream",
     "text": [
      "\r",
      "\u001b[1;34m￨ stanza 04, line 11: THEN how.when NA ture CALLS thee TO be GONE            :   2%|\u001b[0;36m▏         \u001b[0;36m| 39/2155 [00:01<00:58, 36.25it/s]"
     ]
    },
    {
     "name": "stderr",
     "output_type": "stream",
     "text": [
      "\r",
      "\u001b[1;34m￨ stanza 04, line 12: WHAT ac CEP ta.ble AU dit CANST thou LEAVE             :   2%|\u001b[0;36m▏         \u001b[0;36m| 39/2155 [00:01<00:58, 36.25it/s]"
     ]
    },
    {
     "name": "stderr",
     "output_type": "stream",
     "text": [
      "\r",
      "\u001b[1;34m￨ stanza 04, line 13: THY u NUSED.BEA uty MUST be TOMB'D with THEE           :   2%|\u001b[0;36m▏         \u001b[0;36m| 39/2155 [00:01<00:58, 36.25it/s]"
     ]
    },
    {
     "name": "stderr",
     "output_type": "stream",
     "text": [
      "\r",
      "\u001b[1;34m￨ stanza 04, line 13: THY u NUSED.BEA uty MUST be TOMB'D with THEE           :   3%|\u001b[0;36m▎         \u001b[0;36m| 55/2155 [00:01<00:37, 56.17it/s]"
     ]
    },
    {
     "name": "stderr",
     "output_type": "stream",
     "text": [
      "\r",
      "\u001b[1;34m￨ stanza 04, line 14: WHICH used LIVES th' E.XE cu TOR to BE                 :   3%|\u001b[0;36m▎         \u001b[0;36m| 55/2155 [00:01<00:37, 56.17it/s]"
     ]
    },
    {
     "name": "stderr",
     "output_type": "stream",
     "text": [
      "\r",
      "\u001b[1;34m￨ stanza 05, line 01: those HO urs THAT with GEN tle WORK did FRAME          :   3%|\u001b[0;36m▎         \u001b[0;36m| 55/2155 [00:01<00:37, 56.17it/s]"
     ]
    },
    {
     "name": "stderr",
     "output_type": "stream",
     "text": [
      "\r",
      "\u001b[1;34m￨ stanza 05, line 02: the LO vely GAZE where E very EYE doth DWELL           :   3%|\u001b[0;36m▎         \u001b[0;36m| 55/2155 [00:01<00:37, 56.17it/s]"
     ]
    },
    {
     "name": "stderr",
     "output_type": "stream",
     "text": [
      "\r",
      "\u001b[1;34m￨ stanza 05, line 03: will PLAY the TY rants TO the VE ry SAME               :   3%|\u001b[0;36m▎         \u001b[0;36m| 55/2155 [00:01<00:37, 56.17it/s]"
     ]
    },
    {
     "name": "stderr",
     "output_type": "stream",
     "text": [
      "\r",
      "\u001b[1;34m￨ stanza 05, line 04: and THAT un FAIR which FAIR ly DOTH ex CEL             :   3%|\u001b[0;36m▎         \u001b[0;36m| 55/2155 [00:02<00:37, 56.17it/s]"
     ]
    },
    {
     "name": "stderr",
     "output_type": "stream",
     "text": [
      "\r",
      "\u001b[1;34m￨ stanza 05, line 05: for NE ver RES ting TIME leads SUM mer ON              :   3%|\u001b[0;36m▎         \u001b[0;36m| 55/2155 [00:02<00:37, 56.17it/s]"
     ]
    },
    {
     "name": "stderr",
     "output_type": "stream",
     "text": [
      "\r",
      "\u001b[1;34m￨ stanza 05, line 06: to HI deo.us WIN ter AND con FOUNDS him.there          :   3%|\u001b[0;36m▎         \u001b[0;36m| 55/2155 [00:02<00:37, 56.17it/s]"
     ]
    },
    {
     "name": "stderr",
     "output_type": "stream",
     "text": [
      "\r",
      "\u001b[1;34m￨ stanza 05, line 07: sap CHECK'D with FROST and LUS ty LEAVES quite GONE    :   3%|\u001b[0;36m▎         \u001b[0;36m| 55/2155 [00:02<00:37, 56.17it/s]"
     ]
    },
    {
     "name": "stderr",
     "output_type": "stream",
     "text": [
      "\r",
      "\u001b[1;34m￨ stanza 05, line 07: sap CHECK'D with FROST and LUS ty LEAVES quite GONE    :   3%|\u001b[0;36m▎         \u001b[0;36m| 63/2155 [00:02<01:14, 27.95it/s]"
     ]
    },
    {
     "name": "stderr",
     "output_type": "stream",
     "text": [
      "\r",
      "\u001b[1;34m￨ stanza 05, line 08: BEA uty O.'ERSNOW'D and BA reness E very WHERE         :   3%|\u001b[0;36m▎         \u001b[0;36m| 63/2155 [00:02<01:14, 27.95it/s]"
     ]
    },
    {
     "name": "stderr",
     "output_type": "stream",
     "text": [
      "\r",
      "\u001b[1;34m￨ stanza 05, line 09: THEN were.not SUM mer's DIS til LA tion LEFT           :   3%|\u001b[0;36m▎         \u001b[0;36m| 63/2155 [00:02<01:14, 27.95it/s]"
     ]
    },
    {
     "name": "stderr",
     "output_type": "stream",
     "text": [
      "\r",
      "\u001b[1;34m￨ stanza 05, line 10: a LI quid PRI soner PENT in WALLS of GLASS             :   3%|\u001b[0;36m▎         \u001b[0;36m| 63/2155 [00:02<01:14, 27.95it/s]"
     ]
    },
    {
     "name": "stderr",
     "output_type": "stream",
     "text": [
      "\r",
      "\u001b[1;34m￨ stanza 05, line 11: BEA uty's EF.FECT with BEA uty WERE be REFT            :   3%|\u001b[0;36m▎         \u001b[0;36m| 63/2155 [00:02<01:14, 27.95it/s]"
     ]
    },
    {
     "name": "stderr",
     "output_type": "stream",
     "text": [
      "\r",
      "\u001b[1;34m￨ stanza 05, line 12: nor IT nor NO re MEM brance WHAT it.was                :   3%|\u001b[0;36m▎         \u001b[0;36m| 63/2155 [00:02<01:14, 27.95it/s]"
     ]
    },
    {
     "name": "stderr",
     "output_type": "stream",
     "text": [
      "\r",
      "\u001b[1;34m￨ stanza 05, line 13: but FLO wers DIS.TILL'D though THEY with WIN ter MEET  :   3%|\u001b[0;36m▎         \u001b[0;36m| 63/2155 [00:02<01:14, 27.95it/s]"
     ]
    },
    {
     "name": "stderr",
     "output_type": "stream",
     "text": [
      "\r",
      "\u001b[1;34m￨ stanza 05, line 13: but FLO wers DIS.TILL'D though THEY with WIN ter MEET  :   3%|\u001b[0;36m▎         \u001b[0;36m| 69/2155 [00:02<01:26, 24.05it/s]"
     ]
    },
    {
     "name": "stderr",
     "output_type": "stream",
     "text": [
      "\r",
      "\u001b[1;34m￨ stanza 05, line 14: LEESE but.their SHOW their SUBS tance STILL lives SWEET:   3%|\u001b[0;36m▎         \u001b[0;36m| 69/2155 [00:02<01:26, 24.05it/s]"
     ]
    },
    {
     "name": "stderr",
     "output_type": "stream",
     "text": [
      "\r",
      "\u001b[1;34m￨ stanza 06, line 01: then LET not WIN ter's RAG ged HAND de FACE            :   3%|\u001b[0;36m▎         \u001b[0;36m| 69/2155 [00:02<01:26, 24.05it/s]"
     ]
    },
    {
     "name": "stderr",
     "output_type": "stream",
     "text": [
      "\r",
      "\u001b[1;34m￨ stanza 06, line 02: in THEE thy SUM mer ERE thou BE dis TILL'D             :   3%|\u001b[0;36m▎         \u001b[0;36m| 69/2155 [00:02<01:26, 24.05it/s]"
     ]
    },
    {
     "name": "stderr",
     "output_type": "stream",
     "text": [
      "\r",
      "\u001b[1;34m￨ stanza 06, line 03: make SWEET some VI al TREA sure THOU some PLACE        :   3%|\u001b[0;36m▎         \u001b[0;36m| 69/2155 [00:02<01:26, 24.05it/s]"
     ]
    },
    {
     "name": "stderr",
     "output_type": "stream",
     "text": [
      "\r",
      "\u001b[1;34m￨ stanza 06, line 04: with BEA uty's TREA sure ERE it BE self KILL'D         :   3%|\u001b[0;36m▎         \u001b[0;36m| 69/2155 [00:02<01:26, 24.05it/s]"
     ]
    },
    {
     "name": "stderr",
     "output_type": "stream",
     "text": [
      "\r",
      "\u001b[1;34m￨ stanza 06, line 05: that USE is NOT for BID den U su RY                    :   3%|\u001b[0;36m▎         \u001b[0;36m| 69/2155 [00:02<01:26, 24.05it/s]"
     ]
    },
    {
     "name": "stderr",
     "output_type": "stream",
     "text": [
      "\r",
      "\u001b[1;34m￨ stanza 06, line 06: which HAP pies THOSE that PAY the WIL ling LOAN        :   3%|\u001b[0;36m▎         \u001b[0;36m| 69/2155 [00:02<01:26, 24.05it/s]"
     ]
    },
    {
     "name": "stderr",
     "output_type": "stream",
     "text": [
      "\r",
      "\u001b[1;34m￨ stanza 06, line 07: that's FOR thy SELF to BREED a NOT her THEE            :   3%|\u001b[0;36m▎         \u001b[0;36m| 69/2155 [00:02<01:26, 24.05it/s]"
     ]
    },
    {
     "name": "stderr",
     "output_type": "stream",
     "text": [
      "\r",
      "\u001b[1;34m￨ stanza 06, line 08: or TEN times HAP pi ER be.it TEN for.one               :   3%|\u001b[0;36m▎         \u001b[0;36m| 69/2155 [00:02<01:26, 24.05it/s]"
     ]
    },
    {
     "name": "stderr",
     "output_type": "stream",
     "text": [
      "\r",
      "\u001b[1;34m￨ stanza 06, line 09: ten TIMES thy SELF were HAP pi ER than THOU art        :   3%|\u001b[0;36m▎         \u001b[0;36m| 69/2155 [00:02<01:26, 24.05it/s]"
     ]
    },
    {
     "name": "stderr",
     "output_type": "stream",
     "text": [
      "\r",
      "\u001b[1;34m￨ stanza 06, line 10: if TEN of THINE ten TIMES re FI gured THEE             :   3%|\u001b[0;36m▎         \u001b[0;36m| 69/2155 [00:02<01:26, 24.05it/s]"
     ]
    },
    {
     "name": "stderr",
     "output_type": "stream",
     "text": [
      "\r",
      "\u001b[1;34m￨ stanza 06, line 11: then WHAT could DEATH do IF thou SHOULDST de PART      :   3%|\u001b[0;36m▎         \u001b[0;36m| 69/2155 [00:02<01:26, 24.05it/s]"
     ]
    },
    {
     "name": "stderr",
     "output_type": "stream",
     "text": [
      "\r",
      "\u001b[1;34m￨ stanza 06, line 12: LEA.VING thee LI ving IN pos TE ri TY                  :   3%|\u001b[0;36m▎         \u001b[0;36m| 69/2155 [00:02<01:26, 24.05it/s]"
     ]
    },
    {
     "name": "stderr",
     "output_type": "stream",
     "text": [
      "\r",
      "\u001b[1;34m￨ stanza 06, line 13: be NOT self WILL'D for THOU art MUCH too FAIR          :   3%|\u001b[0;36m▎         \u001b[0;36m| 69/2155 [00:02<01:26, 24.05it/s]"
     ]
    },
    {
     "name": "stderr",
     "output_type": "stream",
     "text": [
      "\r",
      "\u001b[1;34m￨ stanza 06, line 13: be NOT self WILL'D for THOU art MUCH too FAIR          :   4%|\u001b[0;36m▍         \u001b[0;36m| 83/2155 [00:02<00:56, 36.36it/s]"
     ]
    },
    {
     "name": "stderr",
     "output_type": "stream",
     "text": [
      "\r",
      "\u001b[1;34m￨ stanza 06, line 14: to BE death's CON quest AND make WORMS thine HEIR      :   4%|\u001b[0;36m▍         \u001b[0;36m| 83/2155 [00:02<00:56, 36.36it/s]"
     ]
    },
    {
     "name": "stderr",
     "output_type": "stream",
     "text": [
      "\r",
      "\u001b[1;34m￨ stanza 07, line 01: LO in.the O ri ENT when.the GRA cious LIGHT            :   4%|\u001b[0;36m▍         \u001b[0;36m| 83/2155 [00:02<00:56, 36.36it/s]"
     ]
    },
    {
     "name": "stderr",
     "output_type": "stream",
     "text": [
      "\r",
      "\u001b[1;34m￨ stanza 07, line 02: LIFTS up.his BUR ning HEAD each UN der EYE             :   4%|\u001b[0;36m▍         \u001b[0;36m| 83/2155 [00:02<00:56, 36.36it/s]"
     ]
    },
    {
     "name": "stderr",
     "output_type": "stream",
     "text": [
      "\r",
      "\u001b[1;34m￨ stanza 07, line 03: doth HO mage TO his NEW ap PEA ring SIGHT              :   4%|\u001b[0;36m▍         \u001b[0;36m| 83/2155 [00:02<00:56, 36.36it/s]"
     ]
    },
    {
     "name": "stderr",
     "output_type": "stream",
     "text": [
      "\r",
      "\u001b[1;34m￨ stanza 07, line 04: SER.VING with LOOKS his SA cred MA jes TY              :   4%|\u001b[0;36m▍         \u001b[0;36m| 83/2155 [00:02<00:56, 36.36it/s]"
     ]
    },
    {
     "name": "stderr",
     "output_type": "stream",
     "text": [
      "\r",
      "\u001b[1;34m￨ stanza 07, line 05: and HA ving CLIMB'D the STEEP up HEA ven.ly HILL       :   4%|\u001b[0;36m▍         \u001b[0;36m| 83/2155 [00:02<00:56, 36.36it/s]"
     ]
    },
    {
     "name": "stderr",
     "output_type": "stream",
     "text": [
      "\r",
      "\u001b[1;34m￨ stanza 07, line 06: re SEM bling STRONG youth IN his MID dle AGE           :   4%|\u001b[0;36m▍         \u001b[0;36m| 83/2155 [00:02<00:56, 36.36it/s]"
     ]
    },
    {
     "name": "stderr",
     "output_type": "stream",
     "text": [
      "\r",
      "\u001b[1;34m￨ stanza 07, line 07: yet MOR tal LOOKS a DORE his BEA uty STILL             :   4%|\u001b[0;36m▍         \u001b[0;36m| 83/2155 [00:02<00:56, 36.36it/s]"
     ]
    },
    {
     "name": "stderr",
     "output_type": "stream",
     "text": [
      "\r",
      "\u001b[1;34m￨ stanza 07, line 08: at TEN ding ON his GOL den PIL gri MAGE                :   4%|\u001b[0;36m▍         \u001b[0;36m| 83/2155 [00:02<00:56, 36.36it/s]"
     ]
    },
    {
     "name": "stderr",
     "output_type": "stream",
     "text": [
      "\r",
      "\u001b[1;34m￨ stanza 07, line 09: but WHEN from HIG hmost PITCH with WEA ry CAR          :   4%|\u001b[0;36m▍         \u001b[0;36m| 83/2155 [00:02<00:56, 36.36it/s]"
     ]
    },
    {
     "name": "stderr",
     "output_type": "stream",
     "text": [
      "\r",
      "\u001b[1;34m￨ stanza 07, line 10: like FEE ble AGE he REE leth FROM the DAY              :   4%|\u001b[0;36m▍         \u001b[0;36m| 83/2155 [00:02<00:56, 36.36it/s]"
     ]
    },
    {
     "name": "stderr",
     "output_type": "stream",
     "text": [
      "\r",
      "\u001b[1;34m￨ stanza 07, line 11: the EYES 'fore DU teous NOW con VER ted ARE            :   4%|\u001b[0;36m▍         \u001b[0;36m| 83/2155 [00:02<00:56, 36.36it/s]"
     ]
    },
    {
     "name": "stderr",
     "output_type": "stream",
     "text": [
      "\r",
      "\u001b[1;34m￨ stanza 07, line 12: from HIS low TRACT and LOOK a NOT her WAY              :   4%|\u001b[0;36m▍         \u001b[0;36m| 83/2155 [00:02<00:56, 36.36it/s]"
     ]
    },
    {
     "name": "stderr",
     "output_type": "stream",
     "text": [
      "\r",
      "\u001b[1;34m￨ stanza 07, line 13: so THOU thy SELF out GO ing IN thy NOON                :   4%|\u001b[0;36m▍         \u001b[0;36m| 83/2155 [00:02<00:56, 36.36it/s]"
     ]
    },
    {
     "name": "stderr",
     "output_type": "stream",
     "text": [
      "\r",
      "\u001b[1;34m￨ stanza 07, line 14: un LOOK'D on DIEST un LESS thou GET a SON              :   4%|\u001b[0;36m▍         \u001b[0;36m| 83/2155 [00:02<00:56, 36.36it/s]"
     ]
    },
    {
     "name": "stderr",
     "output_type": "stream",
     "text": [
      "\r",
      "\u001b[1;34m￨ stanza 08, line 01: MU sic.to HEAR why HEAR'ST thou MU sic SA dly          :   4%|\u001b[0;36m▍         \u001b[0;36m| 83/2155 [00:02<00:56, 36.36it/s]"
     ]
    },
    {
     "name": "stderr",
     "output_type": "stream",
     "text": [
      "\r",
      "\u001b[1;34m￨ stanza 08, line 02: SWEETS with SWEETS.WAR not JOY de LIGHTS in JOY        :   4%|\u001b[0;36m▍         \u001b[0;36m| 83/2155 [00:02<00:56, 36.36it/s]"
     ]
    },
    {
     "name": "stderr",
     "output_type": "stream",
     "text": [
      "\r",
      "\u001b[1;34m￨ stanza 08, line 03: why LO vest THOU that.which THOU re CEI.VEST not GLA dl:   4%|\u001b[0;36m▍         \u001b[0;36m| 83/2155 [00:03<00:56, 36.36it/s]"
     ]
    },
    {
     "name": "stderr",
     "output_type": "stream",
     "text": [
      "\r",
      "\u001b[1;34m￨ stanza 08, line 03: why LO vest THOU that.which THOU re CEI.VEST not GLA dl:   5%|\u001b[0;36m▍         \u001b[0;36m| 101/2155 [00:03<01:26, 23.70it/s]"
     ]
    },
    {
     "name": "stderr",
     "output_type": "stream",
     "text": [
      "\r",
      "\u001b[1;34m￨ stanza 08, line 04: or ELSE re CEI.VEST with PLEA sure THINE an NOY        :   5%|\u001b[0;36m▍         \u001b[0;36m| 101/2155 [00:03<01:26, 23.70it/s]"
     ]
    },
    {
     "name": "stderr",
     "output_type": "stream",
     "text": [
      "\r",
      "\u001b[1;34m￨ stanza 08, line 05: if.the TRUE con CORD of WELL tuned SOUNDS              :   5%|\u001b[0;36m▍         \u001b[0;36m| 101/2155 [00:03<01:26, 23.70it/s]"
     ]
    },
    {
     "name": "stderr",
     "output_type": "stream",
     "text": [
      "\r",
      "\u001b[1;34m￨ stanza 08, line 06: by U nions MAR ried DO of FEND thine EAR               :   5%|\u001b[0;36m▍         \u001b[0;36m| 101/2155 [00:03<01:26, 23.70it/s]"
     ]
    },
    {
     "name": "stderr",
     "output_type": "stream",
     "text": [
      "\r",
      "\u001b[1;34m￨ stanza 08, line 07: they DO but SWEE tly CHIDE thee WHO con FOUNDS         :   5%|\u001b[0;36m▍         \u001b[0;36m| 101/2155 [00:03<01:26, 23.70it/s]"
     ]
    },
    {
     "name": "stderr",
     "output_type": "stream",
     "text": [
      "\r",
      "\u001b[1;34m￨ stanza 08, line 08: in SIN gle NESS the PARTS that THOU shouldst BEAR      :   5%|\u001b[0;36m▍         \u001b[0;36m| 101/2155 [00:03<01:26, 23.70it/s]"
     ]
    },
    {
     "name": "stderr",
     "output_type": "stream",
     "text": [
      "\r",
      "\u001b[1;34m￨ stanza 08, line 09: MARK how.one STRING sweet HUS band TO a NOT her        :   5%|\u001b[0;36m▍         \u001b[0;36m| 101/2155 [00:03<01:26, 23.70it/s]"
     ]
    },
    {
     "name": "stderr",
     "output_type": "stream",
     "text": [
      "\r",
      "\u001b[1;34m￨ stanza 08, line 10: STRIKES each.in EACH by MU tu.al OR de RING            :   5%|\u001b[0;36m▍         \u001b[0;36m| 101/2155 [00:03<01:26, 23.70it/s]"
     ]
    },
    {
     "name": "stderr",
     "output_type": "stream",
     "text": [
      "\r",
      "\u001b[1;34m￨ stanza 08, line 11: re SEM bling SI re.and CHILD and HAP py MOT her        :   5%|\u001b[0;36m▍         \u001b[0;36m| 101/2155 [00:03<01:26, 23.70it/s]"
     ]
    },
    {
     "name": "stderr",
     "output_type": "stream",
     "text": [
      "\r",
      "\u001b[1;34m￨ stanza 08, line 12: who.all IN one.one PLEA sing NOTE do SING              :   5%|\u001b[0;36m▍         \u001b[0;36m| 101/2155 [00:03<01:26, 23.70it/s]"
     ]
    },
    {
     "name": "stderr",
     "output_type": "stream",
     "text": [
      "\r",
      "\u001b[1;34m￨ stanza 08, line 13: whose SPEEC hless SONG be.ing MA ny SEE ming ONE       :   5%|\u001b[0;36m▍         \u001b[0;36m| 101/2155 [00:03<01:26, 23.70it/s]"
     ]
    },
    {
     "name": "stderr",
     "output_type": "stream",
     "text": [
      "\r",
      "\u001b[1;34m￨ stanza 08, line 14: SINGS this.to THEE 'thou SIN gle WILT prove NONE       :   5%|\u001b[0;36m▍         \u001b[0;36m| 101/2155 [00:03<01:26, 23.70it/s]"
     ]
    },
    {
     "name": "stderr",
     "output_type": "stream",
     "text": [
      "\r",
      "\u001b[1;34m￨ stanza 09, line 01: is IT for FEAR to WET a WI dow's EYE                   :   5%|\u001b[0;36m▍         \u001b[0;36m| 101/2155 [00:03<01:26, 23.70it/s]"
     ]
    },
    {
     "name": "stderr",
     "output_type": "stream",
     "text": [
      "\r",
      "\u001b[1;34m￨ stanza 09, line 02: that THOU con SU.MEST thy SELF in SIN gle LIFE         :   5%|\u001b[0;36m▍         \u001b[0;36m| 101/2155 [00:03<01:26, 23.70it/s]"
     ]
    },
    {
     "name": "stderr",
     "output_type": "stream",
     "text": [
      "\r",
      "\u001b[1;34m￨ stanza 09, line 03: AH if.thou IS sue LESS shalt HAP to DIE                :   5%|\u001b[0;36m▍         \u001b[0;36m| 101/2155 [00:03<01:26, 23.70it/s]"
     ]
    },
    {
     "name": "stderr",
     "output_type": "stream",
     "text": [
      "\r",
      "\u001b[1;34m￨ stanza 09, line 04: the WORLD will WAIL thee LIKE a MA keless WIFE         :   5%|\u001b[0;36m▍         \u001b[0;36m| 101/2155 [00:03<01:26, 23.70it/s]"
     ]
    },
    {
     "name": "stderr",
     "output_type": "stream",
     "text": [
      "\r",
      "\u001b[1;34m￨ stanza 09, line 05: the WORLD will BE thy WI dow AND still WEEP            :   5%|\u001b[0;36m▍         \u001b[0;36m| 101/2155 [00:03<01:26, 23.70it/s]"
     ]
    },
    {
     "name": "stderr",
     "output_type": "stream",
     "text": [
      "\r",
      "\u001b[1;34m￨ stanza 09, line 06: that THOU no FORM of THEE hast LEFT be HIND            :   5%|\u001b[0;36m▍         \u001b[0;36m| 101/2155 [00:03<01:26, 23.70it/s]"
     ]
    },
    {
     "name": "stderr",
     "output_type": "stream",
     "text": [
      "\r",
      "\u001b[1;34m￨ stanza 09, line 07: when E very PRI vate WI dow WELL may KEEP              :   5%|\u001b[0;36m▍         \u001b[0;36m| 101/2155 [00:03<01:26, 23.70it/s]"
     ]
    },
    {
     "name": "stderr",
     "output_type": "stream",
     "text": [
      "\r",
      "\u001b[1;34m￨ stanza 09, line 08: by CHIL dren's EYES her HUS band's SHAPE in MIND       :   5%|\u001b[0;36m▍         \u001b[0;36m| 101/2155 [00:03<01:26, 23.70it/s]"
     ]
    },
    {
     "name": "stderr",
     "output_type": "stream",
     "text": [
      "\r",
      "\u001b[1;34m￨ stanza 09, line 09: LOOK what AN unt HRIFT in.the WORLD doth SPEND         :   5%|\u001b[0;36m▍         \u001b[0;36m| 101/2155 [00:03<01:26, 23.70it/s]"
     ]
    },
    {
     "name": "stderr",
     "output_type": "stream",
     "text": [
      "\r",
      "\u001b[1;34m￨ stanza 09, line 10: SHIFTS but.his PLACE for STILL the WORLD en JOYS it    :   5%|\u001b[0;36m▍         \u001b[0;36m| 101/2155 [00:03<01:26, 23.70it/s]"
     ]
    },
    {
     "name": "stderr",
     "output_type": "stream",
     "text": [
      "\r",
      "\u001b[1;34m￨ stanza 09, line 11: but BEA uty's WASTE hath IN the WORLD an END           :   5%|\u001b[0;36m▍         \u001b[0;36m| 101/2155 [00:03<01:26, 23.70it/s]"
     ]
    },
    {
     "name": "stderr",
     "output_type": "stream",
     "text": [
      "\r",
      "\u001b[1;34m￨ stanza 09, line 12: and KEPT u NUSED the U ser SO des TROYS it             :   5%|\u001b[0;36m▍         \u001b[0;36m| 101/2155 [00:03<01:26, 23.70it/s]"
     ]
    },
    {
     "name": "stderr",
     "output_type": "stream",
     "text": [
      "\r",
      "\u001b[1;34m￨ stanza 09, line 13: NO love TO ward OT hers IN that BO som SITS            :   5%|\u001b[0;36m▍         \u001b[0;36m| 101/2155 [00:03<01:26, 23.70it/s]"
     ]
    },
    {
     "name": "stderr",
     "output_type": "stream",
     "text": [
      "\r",
      "\u001b[1;34m￨ stanza 09, line 14: that ON him SELF such MUR de.rous SHAME com MITS       :   5%|\u001b[0;36m▍         \u001b[0;36m| 101/2155 [00:03<01:26, 23.70it/s]"
     ]
    },
    {
     "name": "stderr",
     "output_type": "stream",
     "text": [
      "\r",
      "\u001b[1;34m￨ stanza 10, line 01: for SHAME de NY that THOU bear'st LOVE to A ny         :   5%|\u001b[0;36m▍         \u001b[0;36m| 101/2155 [00:03<01:26, 23.70it/s]"
     ]
    },
    {
     "name": "stderr",
     "output_type": "stream",
     "text": [
      "\r",
      "\u001b[1;34m￨ stanza 10, line 02: who.for THY self ART so UN.PRO vi DENT                 :   5%|\u001b[0;36m▍         \u001b[0;36m| 101/2155 [00:03<01:26, 23.70it/s]"
     ]
    },
    {
     "name": "stderr",
     "output_type": "stream",
     "text": [
      "\r",
      "\u001b[1;34m￨ stanza 10, line 03: GRANT if.thou WILT thou ART be LOVED of MA ny          :   5%|\u001b[0;36m▍         \u001b[0;36m| 101/2155 [00:03<01:26, 23.70it/s]"
     ]
    },
    {
     "name": "stderr",
     "output_type": "stream",
     "text": [
      "\r",
      "\u001b[1;34m￨ stanza 10, line 04: but.that THOU none LO vest IS most E vi DENT           :   5%|\u001b[0;36m▍         \u001b[0;36m| 101/2155 [00:03<01:26, 23.70it/s]"
     ]
    },
    {
     "name": "stderr",
     "output_type": "stream",
     "text": [
      "\r",
      "\u001b[1;34m￨ stanza 10, line 05: for THOU art SO pos SESS'D with MUR de.rous HATE       :   5%|\u001b[0;36m▍         \u001b[0;36m| 101/2155 [00:03<01:26, 23.70it/s]"
     ]
    },
    {
     "name": "stderr",
     "output_type": "stream",
     "text": [
      "\r",
      "\u001b[1;34m￨ stanza 10, line 06: that 'GAINST thy SELF thou STICK'ST not TO cons PI re  :   5%|\u001b[0;36m▍         \u001b[0;36m| 101/2155 [00:03<01:26, 23.70it/s]"
     ]
    },
    {
     "name": "stderr",
     "output_type": "stream",
     "text": [
      "\r",
      "\u001b[1;34m￨ stanza 10, line 07: SEE.KING that BEA uteous ROOF to RUI na TE             :   5%|\u001b[0;36m▍         \u001b[0;36m| 101/2155 [00:03<01:26, 23.70it/s]"
     ]
    },
    {
     "name": "stderr",
     "output_type": "stream",
     "text": [
      "\r",
      "\u001b[1;34m￨ stanza 10, line 08: which TO re PAIR should BE thy CHIEF de SIRE           :   5%|\u001b[0;36m▍         \u001b[0;36m| 101/2155 [00:03<01:26, 23.70it/s]"
     ]
    },
    {
     "name": "stderr",
     "output_type": "stream",
     "text": [
      "\r",
      "\u001b[1;34m￨ stanza 10, line 08: which TO re PAIR should BE thy CHIEF de SIRE           :   6%|\u001b[0;36m▌         \u001b[0;36m| 134/2155 [00:03<00:44, 45.11it/s]"
     ]
    },
    {
     "name": "stderr",
     "output_type": "stream",
     "text": [
      "\r",
      "\u001b[1;34m￨ stanza 10, line 09: o CHANGE thy THOUGHT that I may CHANGE my MIND         :   6%|\u001b[0;36m▌         \u001b[0;36m| 134/2155 [00:03<00:44, 45.11it/s]"
     ]
    },
    {
     "name": "stderr",
     "output_type": "stream",
     "text": [
      "\r",
      "\u001b[1;34m￨ stanza 10, line 10: shall HATE be FAI rer LODGED than GEN tle LOVE         :   6%|\u001b[0;36m▌         \u001b[0;36m| 134/2155 [00:03<00:44, 45.11it/s]"
     ]
    },
    {
     "name": "stderr",
     "output_type": "stream",
     "text": [
      "\r",
      "\u001b[1;34m￨ stanza 10, line 11: BE as.thy PRE sence IS gra CIOUS and KIND              :   6%|\u001b[0;36m▌         \u001b[0;36m| 134/2155 [00:03<00:44, 45.11it/s]"
     ]
    },
    {
     "name": "stderr",
     "output_type": "stream",
     "text": [
      "\r",
      "\u001b[1;34m￨ stanza 10, line 12: or TO thy SELF at LEAST kind HEAR ted PROVE            :   6%|\u001b[0;36m▌         \u001b[0;36m| 134/2155 [00:03<00:44, 45.11it/s]"
     ]
    },
    {
     "name": "stderr",
     "output_type": "stream",
     "text": [
      "\r",
      "\u001b[1;34m￨ stanza 10, line 13: make THEE a NOT her SELF for LOVE of ME                :   6%|\u001b[0;36m▌         \u001b[0;36m| 134/2155 [00:03<00:44, 45.11it/s]"
     ]
    },
    {
     "name": "stderr",
     "output_type": "stream",
     "text": [
      "\r",
      "\u001b[1;34m￨ stanza 10, line 14: that BEA uty STILL may LIVE in THINE or THEE           :   6%|\u001b[0;36m▌         \u001b[0;36m| 134/2155 [00:03<00:44, 45.11it/s]"
     ]
    },
    {
     "name": "stderr",
     "output_type": "stream",
     "text": [
      "\r",
      "\u001b[1;34m￨ stanza 11, line 01: as FAST as THOU shalt WANE so FAST thou GRO west       :   6%|\u001b[0;36m▌         \u001b[0;36m| 134/2155 [00:03<00:44, 45.11it/s]"
     ]
    },
    {
     "name": "stderr",
     "output_type": "stream",
     "text": [
      "\r",
      "\u001b[1;34m￨ stanza 11, line 02: in.one OF thine.from THAT which THOU de PAR test       :   6%|\u001b[0;36m▌         \u001b[0;36m| 134/2155 [00:03<00:44, 45.11it/s]"
     ]
    },
    {
     "name": "stderr",
     "output_type": "stream",
     "text": [
      "\r",
      "\u001b[1;34m￨ stanza 11, line 03: and THAT fresh BLOOD which YO ungly THOU bes TO west   :   6%|\u001b[0;36m▌         \u001b[0;36m| 134/2155 [00:03<00:44, 45.11it/s]"
     ]
    },
    {
     "name": "stderr",
     "output_type": "stream",
     "text": [
      "\r",
      "\u001b[1;34m￨ stanza 11, line 04: THOU mayst CALL thine.when THOU from YOUTH con VER test:   6%|\u001b[0;36m▌         \u001b[0;36m| 134/2155 [00:03<00:44, 45.11it/s]"
     ]
    },
    {
     "name": "stderr",
     "output_type": "stream",
     "text": [
      "\r",
      "\u001b[1;34m￨ stanza 11, line 05: he REIN lives WIS dom BEA uty AND in CREASE            :   6%|\u001b[0;36m▌         \u001b[0;36m| 134/2155 [00:03<00:44, 45.11it/s]"
     ]
    },
    {
     "name": "stderr",
     "output_type": "stream",
     "text": [
      "\r",
      "\u001b[1;34m￨ stanza 11, line 06: wit HOUT this FOL ly AGE and COLD de CAY               :   6%|\u001b[0;36m▌         \u001b[0;36m| 134/2155 [00:03<00:44, 45.11it/s]"
     ]
    },
    {
     "name": "stderr",
     "output_type": "stream",
     "text": [
      "\r",
      "\u001b[1;34m￨ stanza 11, line 07: if ALL were MIN ded SO the TIMES should CEASE          :   6%|\u001b[0;36m▌         \u001b[0;36m| 134/2155 [00:03<00:44, 45.11it/s]"
     ]
    },
    {
     "name": "stderr",
     "output_type": "stream",
     "text": [
      "\r",
      "\u001b[1;34m￨ stanza 11, line 08: and THREES core YEAR would MAKE the WORLD a WAY        :   6%|\u001b[0;36m▌         \u001b[0;36m| 134/2155 [00:03<00:44, 45.11it/s]"
     ]
    },
    {
     "name": "stderr",
     "output_type": "stream",
     "text": [
      "\r",
      "\u001b[1;34m￨ stanza 11, line 09: LET those.whom NA ture HATH not MADE for STORE         :   6%|\u001b[0;36m▌         \u001b[0;36m| 134/2155 [00:03<00:44, 45.11it/s]"
     ]
    },
    {
     "name": "stderr",
     "output_type": "stream",
     "text": [
      "\r",
      "\u001b[1;34m￨ stanza 11, line 10: harsh FEA tu RELESS and RUDE bar REN ly PE rish        :   6%|\u001b[0;36m▌         \u001b[0;36m| 134/2155 [00:03<00:44, 45.11it/s]"
     ]
    },
    {
     "name": "stderr",
     "output_type": "stream",
     "text": [
      "\r",
      "\u001b[1;34m￨ stanza 11, line 10: harsh FEA tu RELESS and RUDE bar REN ly PE rish        :   7%|\u001b[0;36m▋         \u001b[0;36m| 150/2155 [00:03<00:35, 55.79it/s]"
     ]
    },
    {
     "name": "stderr",
     "output_type": "stream",
     "text": [
      "\r",
      "\u001b[1;34m￨ stanza 11, line 11: LOOK whom.she BEST en DOW'D she GAVE the MORE          :   7%|\u001b[0;36m▋         \u001b[0;36m| 150/2155 [00:03<00:35, 55.79it/s]"
     ]
    },
    {
     "name": "stderr",
     "output_type": "stream",
     "text": [
      "\r",
      "\u001b[1;34m￨ stanza 11, line 12: which BOUN teous GIFT thou SHOULDST in BOUN ty CHE rish:   7%|\u001b[0;36m▋         \u001b[0;36m| 150/2155 [00:04<00:35, 55.79it/s]"
     ]
    },
    {
     "name": "stderr",
     "output_type": "stream",
     "text": [
      "\r",
      "\u001b[1;34m￨ stanza 11, line 13: she CARVED thee FOR her SEAL and MEANT the REBY        :   7%|\u001b[0;36m▋         \u001b[0;36m| 150/2155 [00:04<00:35, 55.79it/s]"
     ]
    },
    {
     "name": "stderr",
     "output_type": "stream",
     "text": [
      "\r",
      "\u001b[1;34m￨ stanza 11, line 14: thou SHOULDST print MORE not LET that CO py DIE        :   7%|\u001b[0;36m▋         \u001b[0;36m| 150/2155 [00:04<00:35, 55.79it/s]"
     ]
    },
    {
     "name": "stderr",
     "output_type": "stream",
     "text": [
      "\r",
      "\u001b[1;34m￨ stanza 12, line 01: when I do COUNT the CLOCK that TELLS the TIME          :   7%|\u001b[0;36m▋         \u001b[0;36m| 150/2155 [00:04<00:35, 55.79it/s]"
     ]
    },
    {
     "name": "stderr",
     "output_type": "stream",
     "text": [
      "\r",
      "\u001b[1;34m￨ stanza 12, line 02: and SEE the BRAVE day SUNK in HI deo.us NIGHT          :   7%|\u001b[0;36m▋         \u001b[0;36m| 150/2155 [00:04<00:35, 55.79it/s]"
     ]
    },
    {
     "name": "stderr",
     "output_type": "stream",
     "text": [
      "\r",
      "\u001b[1;34m￨ stanza 12, line 03: when I be HOLD the VIO let PAST prime                  :   7%|\u001b[0;36m▋         \u001b[0;36m| 150/2155 [00:04<00:35, 55.79it/s]"
     ]
    },
    {
     "name": "stderr",
     "output_type": "stream",
     "text": [
      "\r",
      "\u001b[1;34m￨ stanza 12, line 04: and SA ble CURLS all SIL ver'd O'ER with WHITE         :   7%|\u001b[0;36m▋         \u001b[0;36m| 150/2155 [00:04<00:35, 55.79it/s]"
     ]
    },
    {
     "name": "stderr",
     "output_type": "stream",
     "text": [
      "\r",
      "\u001b[1;34m￨ stanza 12, line 05: when LOF ty TREES i SEE bar REN of LEAVES              :   7%|\u001b[0;36m▋         \u001b[0;36m| 150/2155 [00:04<00:35, 55.79it/s]"
     ]
    },
    {
     "name": "stderr",
     "output_type": "stream",
     "text": [
      "\r",
      "\u001b[1;34m￨ stanza 12, line 06: which ERST from HEAT did CA no PY the HERD             :   7%|\u001b[0;36m▋         \u001b[0;36m| 150/2155 [00:04<00:35, 55.79it/s]"
     ]
    },
    {
     "name": "stderr",
     "output_type": "stream",
     "text": [
      "\r",
      "\u001b[1;34m￨ stanza 12, line 07: and SUM mer's GREEN all GIR ded UP in SHEAVES          :   7%|\u001b[0;36m▋         \u001b[0;36m| 150/2155 [00:04<00:35, 55.79it/s]"
     ]
    },
    {
     "name": "stderr",
     "output_type": "stream",
     "text": [
      "\r",
      "\u001b[1;34m￨ stanza 12, line 08: BORNE on.the BIER with WHITE and BRIS tly BEARD        :   7%|\u001b[0;36m▋         \u001b[0;36m| 150/2155 [00:04<00:35, 55.79it/s]"
     ]
    },
    {
     "name": "stderr",
     "output_type": "stream",
     "text": [
      "\r",
      "\u001b[1;34m￨ stanza 12, line 08: BORNE on.the BIER with WHITE and BRIS tly BEARD        :   8%|\u001b[0;36m▊         \u001b[0;36m| 162/2155 [00:04<00:51, 38.40it/s]"
     ]
    },
    {
     "name": "stderr",
     "output_type": "stream",
     "text": [
      "\r",
      "\u001b[1;34m￨ stanza 12, line 09: THEN of.thy BEA uty DO i QUES tion MAKE                :   8%|\u001b[0;36m▊         \u001b[0;36m| 162/2155 [00:04<00:51, 38.40it/s]"
     ]
    },
    {
     "name": "stderr",
     "output_type": "stream",
     "text": [
      "\r",
      "\u001b[1;34m￨ stanza 12, line 10: that THOU a MONG the WASTES of TIME must GO            :   8%|\u001b[0;36m▊         \u001b[0;36m| 162/2155 [00:04<00:51, 38.40it/s]"
     ]
    },
    {
     "name": "stderr",
     "output_type": "stream",
     "text": [
      "\r",
      "\u001b[1;34m￨ stanza 12, line 11: since SWEETS and BEA uties DO them SELVES for SAKE     :   8%|\u001b[0;36m▊         \u001b[0;36m| 162/2155 [00:04<00:51, 38.40it/s]"
     ]
    },
    {
     "name": "stderr",
     "output_type": "stream",
     "text": [
      "\r",
      "\u001b[1;34m￨ stanza 12, line 12: and DIE as FAST as THEY see OT hers GROW               :   8%|\u001b[0;36m▊         \u001b[0;36m| 162/2155 [00:04<00:51, 38.40it/s]"
     ]
    },
    {
     "name": "stderr",
     "output_type": "stream",
     "text": [
      "\r",
      "\u001b[1;34m￨ stanza 12, line 13: and NOT hing 'GAINST time's SCYTHE can MAKE de FENCE   :   8%|\u001b[0;36m▊         \u001b[0;36m| 162/2155 [00:04<00:51, 38.40it/s]"
     ]
    },
    {
     "name": "stderr",
     "output_type": "stream",
     "text": [
      "\r",
      "\u001b[1;34m￨ stanza 12, line 14: save BREED to BRAVE him WHEN he TAKES thee HENCE       :   8%|\u001b[0;36m▊         \u001b[0;36m| 162/2155 [00:04<00:51, 38.40it/s]"
     ]
    },
    {
     "name": "stderr",
     "output_type": "stream",
     "text": [
      "\r",
      "\u001b[1;34m￨ stanza 13, line 01: o THAT you WERE yo URSELF but LOVE you.are             :   8%|\u001b[0;36m▊         \u001b[0;36m| 162/2155 [00:04<00:51, 38.40it/s]"
     ]
    },
    {
     "name": "stderr",
     "output_type": "stream",
     "text": [
      "\r",
      "\u001b[1;34m￨ stanza 13, line 02: no LON ger YOURS than YOU yo URSELF here LIVE          :   8%|\u001b[0;36m▊         \u001b[0;36m| 162/2155 [00:04<00:51, 38.40it/s]"
     ]
    },
    {
     "name": "stderr",
     "output_type": "stream",
     "text": [
      "\r",
      "\u001b[1;34m￨ stanza 13, line 03: a GAINST this CO ming END you SHOULD pre PARE          :   8%|\u001b[0;36m▊         \u001b[0;36m| 162/2155 [00:04<00:51, 38.40it/s]"
     ]
    },
    {
     "name": "stderr",
     "output_type": "stream",
     "text": [
      "\r",
      "\u001b[1;34m￨ stanza 13, line 03: a GAINST this CO ming END you SHOULD pre PARE          :   8%|\u001b[0;36m▊         \u001b[0;36m| 171/2155 [00:04<00:50, 39.39it/s]"
     ]
    },
    {
     "name": "stderr",
     "output_type": "stream",
     "text": [
      "\r",
      "\u001b[1;34m￨ stanza 13, line 04: and YOUR sweet SEM blance TO some OT her GIVE          :   8%|\u001b[0;36m▊         \u001b[0;36m| 171/2155 [00:04<00:50, 39.39it/s]"
     ]
    },
    {
     "name": "stderr",
     "output_type": "stream",
     "text": [
      "\r",
      "\u001b[1;34m￨ stanza 13, line 05: so SHOULD that BEA uty WHICH you HOLD in LEASE         :   8%|\u001b[0;36m▊         \u001b[0;36m| 171/2155 [00:04<00:50, 39.39it/s]"
     ]
    },
    {
     "name": "stderr",
     "output_type": "stream",
     "text": [
      "\r",
      "\u001b[1;34m￨ stanza 13, line 06: find NO de TER mi NA tion THEN you.were                :   8%|\u001b[0;36m▊         \u001b[0;36m| 171/2155 [00:04<00:50, 39.39it/s]"
     ]
    },
    {
     "name": "stderr",
     "output_type": "stream",
     "text": [
      "\r",
      "\u001b[1;34m￨ stanza 13, line 07: yo URSELF a GAIN af TER yo URSELF'S de CEASE           :   8%|\u001b[0;36m▊         \u001b[0;36m| 171/2155 [00:04<00:50, 39.39it/s]"
     ]
    },
    {
     "name": "stderr",
     "output_type": "stream",
     "text": [
      "\r",
      "\u001b[1;34m￨ stanza 13, line 08: when YOUR sweet IS sue YOUR sweet FORM should BEAR     :   8%|\u001b[0;36m▊         \u001b[0;36m| 171/2155 [00:04<00:50, 39.39it/s]"
     ]
    },
    {
     "name": "stderr",
     "output_type": "stream",
     "text": [
      "\r",
      "\u001b[1;34m￨ stanza 13, line 09: who LETS so FAIR a HOUSE fall TO de CAY                :   8%|\u001b[0;36m▊         \u001b[0;36m| 171/2155 [00:04<00:50, 39.39it/s]"
     ]
    },
    {
     "name": "stderr",
     "output_type": "stream",
     "text": [
      "\r",
      "\u001b[1;34m￨ stanza 13, line 10: which HUS ban DRY in HO nour MIGHT up HOLD             :   8%|\u001b[0;36m▊         \u001b[0;36m| 171/2155 [00:04<00:50, 39.39it/s]"
     ]
    },
    {
     "name": "stderr",
     "output_type": "stream",
     "text": [
      "\r",
      "\u001b[1;34m￨ stanza 13, line 11: a GAINST the STOR my GUSTS of WIN ter's DAY            :   8%|\u001b[0;36m▊         \u001b[0;36m| 171/2155 [00:04<00:50, 39.39it/s]"
     ]
    },
    {
     "name": "stderr",
     "output_type": "stream",
     "text": [
      "\r",
      "\u001b[1;34m￨ stanza 13, line 11: a GAINST the STOR my GUSTS of WIN ter's DAY            :   8%|\u001b[0;36m▊         \u001b[0;36m| 179/2155 [00:04<00:46, 42.08it/s]"
     ]
    },
    {
     "name": "stderr",
     "output_type": "stream",
     "text": [
      "\r",
      "\u001b[1;34m￨ stanza 13, line 12: and BAR ren RAGE of DEATH'S e TER nal COLD             :   8%|\u001b[0;36m▊         \u001b[0;36m| 179/2155 [00:04<00:46, 42.08it/s]"
     ]
    },
    {
     "name": "stderr",
     "output_type": "stream",
     "text": [
      "\r",
      "\u001b[1;34m￨ stanza 13, line 13: o NONE but UNT hrifts DEAR my LOVE you KNOW            :   8%|\u001b[0;36m▊         \u001b[0;36m| 179/2155 [00:04<00:46, 42.08it/s]"
     ]
    },
    {
     "name": "stderr",
     "output_type": "stream",
     "text": [
      "\r",
      "\u001b[1;34m￨ stanza 13, line 14: you HAD a FAT her LET your SON say SO                  :   8%|\u001b[0;36m▊         \u001b[0;36m| 179/2155 [00:04<00:46, 42.08it/s]"
     ]
    },
    {
     "name": "stderr",
     "output_type": "stream",
     "text": [
      "\r",
      "\u001b[1;34m￨ stanza 14, line 01: NOT from.the STARS do I my JUD gment PLUCK             :   8%|\u001b[0;36m▊         \u001b[0;36m| 179/2155 [00:04<00:46, 42.08it/s]"
     ]
    },
    {
     "name": "stderr",
     "output_type": "stream",
     "text": [
      "\r",
      "\u001b[1;34m￨ stanza 14, line 02: and YET met HINKS i HAVE as TRO no MY                  :   8%|\u001b[0;36m▊         \u001b[0;36m| 179/2155 [00:04<00:46, 42.08it/s]"
     ]
    },
    {
     "name": "stderr",
     "output_type": "stream",
     "text": [
      "\r",
      "\u001b[1;34m￨ stanza 14, line 03: but NOT to TELL of GOOD or E vil LUCK                  :   8%|\u001b[0;36m▊         \u001b[0;36m| 179/2155 [00:04<00:46, 42.08it/s]"
     ]
    },
    {
     "name": "stderr",
     "output_type": "stream",
     "text": [
      "\r",
      "\u001b[1;34m￨ stanza 14, line 04: of PLAGUES of DEARTHS or SEA sons' QUA li TY           :   8%|\u001b[0;36m▊         \u001b[0;36m| 179/2155 [00:04<00:46, 42.08it/s]"
     ]
    },
    {
     "name": "stderr",
     "output_type": "stream",
     "text": [
      "\r",
      "\u001b[1;34m￨ stanza 14, line 05: nor CAN i FOR tune TO brief MI nutes TELL              :   8%|\u001b[0;36m▊         \u001b[0;36m| 179/2155 [00:04<00:46, 42.08it/s]"
     ]
    },
    {
     "name": "stderr",
     "output_type": "stream",
     "text": [
      "\r",
      "\u001b[1;34m￨ stanza 14, line 06: POIN ting TO each.his THUN der RAIN and WIND           :   8%|\u001b[0;36m▊         \u001b[0;36m| 179/2155 [00:04<00:46, 42.08it/s]"
     ]
    },
    {
     "name": "stderr",
     "output_type": "stream",
     "text": [
      "\r",
      "\u001b[1;34m￨ stanza 14, line 07: or SAY with PRIN ces IF it SHALL go WELL               :   8%|\u001b[0;36m▊         \u001b[0;36m| 179/2155 [00:04<00:46, 42.08it/s]"
     ]
    },
    {
     "name": "stderr",
     "output_type": "stream",
     "text": [
      "\r",
      "\u001b[1;34m￨ stanza 14, line 08: by OFT pre DICT that I in HEA ven FIND                 :   8%|\u001b[0;36m▊         \u001b[0;36m| 179/2155 [00:05<00:46, 42.08it/s]"
     ]
    },
    {
     "name": "stderr",
     "output_type": "stream",
     "text": [
      "\r",
      "\u001b[1;34m￨ stanza 14, line 08: by OFT pre DICT that I in HEA ven FIND                 :   9%|\u001b[0;36m▉         \u001b[0;36m| 190/2155 [00:05<00:41, 47.13it/s]"
     ]
    },
    {
     "name": "stderr",
     "output_type": "stream",
     "text": [
      "\r",
      "\u001b[1;34m￨ stanza 14, line 09: but FROM thine EYES my KNOW ledge I de RIVE            :   9%|\u001b[0;36m▉         \u001b[0;36m| 190/2155 [00:05<00:41, 47.13it/s]"
     ]
    },
    {
     "name": "stderr",
     "output_type": "stream",
     "text": [
      "\r",
      "\u001b[1;34m￨ stanza 14, line 10: and CONS tant STARS in THEM i READ such ART            :   9%|\u001b[0;36m▉         \u001b[0;36m| 190/2155 [00:05<00:41, 47.13it/s]"
     ]
    },
    {
     "name": "stderr",
     "output_type": "stream",
     "text": [
      "\r",
      "\u001b[1;34m￨ stanza 14, line 11: as TRUTH and BEA uty SHALL to GET her THRIVE           :   9%|\u001b[0;36m▉         \u001b[0;36m| 190/2155 [00:05<00:41, 47.13it/s]"
     ]
    },
    {
     "name": "stderr",
     "output_type": "stream",
     "text": [
      "\r",
      "\u001b[1;34m￨ stanza 14, line 12: if FROM thy SELF to STORE thou WOULDST con VERT        :   9%|\u001b[0;36m▉         \u001b[0;36m| 190/2155 [00:05<00:41, 47.13it/s]"
     ]
    },
    {
     "name": "stderr",
     "output_type": "stream",
     "text": [
      "\r",
      "\u001b[1;34m￨ stanza 14, line 13: or ELSE of THEE this I pro GNOS ti CATE                :   9%|\u001b[0;36m▉         \u001b[0;36m| 190/2155 [00:05<00:41, 47.13it/s]"
     ]
    },
    {
     "name": "stderr",
     "output_type": "stream",
     "text": [
      "\r",
      "\u001b[1;34m￨ stanza 14, line 14: thy END is TRUTH'S and BEA uty's DOOM and DATE         :   9%|\u001b[0;36m▉         \u001b[0;36m| 190/2155 [00:05<00:41, 47.13it/s]"
     ]
    },
    {
     "name": "stderr",
     "output_type": "stream",
     "text": [
      "\r",
      "\u001b[1;34m￨ stanza 15, line 01: when I con SI der E very THING that GROWS              :   9%|\u001b[0;36m▉         \u001b[0;36m| 190/2155 [00:05<00:41, 47.13it/s]"
     ]
    },
    {
     "name": "stderr",
     "output_type": "stream",
     "text": [
      "\r",
      "\u001b[1;34m￨ stanza 15, line 01: when I con SI der E very THING that GROWS              :   9%|\u001b[0;36m▉         \u001b[0;36m| 197/2155 [00:05<01:13, 26.65it/s]"
     ]
    },
    {
     "name": "stderr",
     "output_type": "stream",
     "text": [
      "\r",
      "\u001b[1;34m￨ stanza 15, line 02: holds IN per FEC tion BUT a LIT tle MO ment            :   9%|\u001b[0;36m▉         \u001b[0;36m| 197/2155 [00:05<01:13, 26.65it/s]"
     ]
    },
    {
     "name": "stderr",
     "output_type": "stream",
     "text": [
      "\r",
      "\u001b[1;34m￨ stanza 15, line 03: that.this HUGE.STAGE pre SEN teth NOUGHT but SHOWS     :   9%|\u001b[0;36m▉         \u001b[0;36m| 197/2155 [00:05<01:13, 26.65it/s]"
     ]
    },
    {
     "name": "stderr",
     "output_type": "stream",
     "text": [
      "\r",
      "\u001b[1;34m￨ stanza 15, line 04: WHE re ON the STARS in SE cret IN fluen.ce COM ment    :   9%|\u001b[0;36m▉         \u001b[0;36m| 197/2155 [00:05<01:13, 26.65it/s]"
     ]
    },
    {
     "name": "stderr",
     "output_type": "stream",
     "text": [
      "\r",
      "\u001b[1;34m￨ stanza 15, line 05: when I per CEIVE that MEN as PLANTS in CREASE          :   9%|\u001b[0;36m▉         \u001b[0;36m| 197/2155 [00:05<01:13, 26.65it/s]"
     ]
    },
    {
     "name": "stderr",
     "output_type": "stream",
     "text": [
      "\r",
      "\u001b[1;34m￨ stanza 15, line 06: CHEERED and CHECK'D e VEN by.the SELF same SKY         :   9%|\u001b[0;36m▉         \u001b[0;36m| 197/2155 [00:05<01:13, 26.65it/s]"
     ]
    },
    {
     "name": "stderr",
     "output_type": "stream",
     "text": [
      "\r",
      "\u001b[1;34m￨ stanza 15, line 07: VAUNT in.their YO uthful SAP at HEIGHT de CREASE       :   9%|\u001b[0;36m▉         \u001b[0;36m| 197/2155 [00:05<01:13, 26.65it/s]"
     ]
    },
    {
     "name": "stderr",
     "output_type": "stream",
     "text": [
      "\r",
      "\u001b[1;34m￨ stanza 15, line 08: and WEAR their BRAVE state OUT of ME mo RY             :   9%|\u001b[0;36m▉         \u001b[0;36m| 197/2155 [00:05<01:13, 26.65it/s]"
     ]
    },
    {
     "name": "stderr",
     "output_type": "stream",
     "text": [
      "\r",
      "\u001b[1;34m￨ stanza 15, line 09: then THE con CEIT of THIS in CONS tant STAY            :   9%|\u001b[0;36m▉         \u001b[0;36m| 197/2155 [00:05<01:13, 26.65it/s]"
     ]
    },
    {
     "name": "stderr",
     "output_type": "stream",
     "text": [
      "\r",
      "\u001b[1;34m￨ stanza 15, line 10: SETS you.most RICH in YOUTH be FORE my SIGHT           :   9%|\u001b[0;36m▉         \u001b[0;36m| 197/2155 [00:05<01:13, 26.65it/s]"
     ]
    },
    {
     "name": "stderr",
     "output_type": "stream",
     "text": [
      "\r",
      "\u001b[1;34m￨ stanza 15, line 11: where WAS teful TIME de BA teth WITH de CAY            :   9%|\u001b[0;36m▉         \u001b[0;36m| 197/2155 [00:05<01:13, 26.65it/s]"
     ]
    },
    {
     "name": "stderr",
     "output_type": "stream",
     "text": [
      "\r",
      "\u001b[1;34m￨ stanza 15, line 12: to CHANGE your DAY of YOUTH to SUL lied NIGHT          :   9%|\u001b[0;36m▉         \u001b[0;36m| 197/2155 [00:05<01:13, 26.65it/s]"
     ]
    },
    {
     "name": "stderr",
     "output_type": "stream",
     "text": [
      "\r",
      "\u001b[1;34m￨ stanza 15, line 13: and ALL in WAR with TIME for LOVE of YOU               :   9%|\u001b[0;36m▉         \u001b[0;36m| 197/2155 [00:05<01:13, 26.65it/s]"
     ]
    },
    {
     "name": "stderr",
     "output_type": "stream",
     "text": [
      "\r",
      "\u001b[1;34m￨ stanza 15, line 14: as.he TAKES from.you I en GRAFT you NEW                :   9%|\u001b[0;36m▉         \u001b[0;36m| 197/2155 [00:05<01:13, 26.65it/s]"
     ]
    },
    {
     "name": "stderr",
     "output_type": "stream",
     "text": [
      "\r",
      "\u001b[1;34m￨ stanza 16, line 01: but WHE refore DO not YOU a MIGH ti.er WAY             :   9%|\u001b[0;36m▉         \u001b[0;36m| 197/2155 [00:05<01:13, 26.65it/s]"
     ]
    },
    {
     "name": "stderr",
     "output_type": "stream",
     "text": [
      "\r",
      "\u001b[1;34m￨ stanza 16, line 02: make WAR u PON this BLOO dy TY rant TIME               :   9%|\u001b[0;36m▉         \u001b[0;36m| 197/2155 [00:05<01:13, 26.65it/s]"
     ]
    },
    {
     "name": "stderr",
     "output_type": "stream",
     "text": [
      "\r",
      "\u001b[1;34m￨ stanza 16, line 03: and FOR ti FY yo URSELF in YOUR de CAY                 :   9%|\u001b[0;36m▉         \u001b[0;36m| 197/2155 [00:05<01:13, 26.65it/s]"
     ]
    },
    {
     "name": "stderr",
     "output_type": "stream",
     "text": [
      "\r",
      "\u001b[1;34m￨ stanza 16, line 03: and FOR ti FY yo URSELF in YOUR de CAY                 :  10%|\u001b[0;36m▉         \u001b[0;36m| 213/2155 [00:05<00:49, 39.06it/s]"
     ]
    },
    {
     "name": "stderr",
     "output_type": "stream",
     "text": [
      "\r",
      "\u001b[1;34m￨ stanza 16, line 04: with MEANS more BLESSED than.my BAR ren RHYME          :  10%|\u001b[0;36m▉         \u001b[0;36m| 213/2155 [00:05<00:49, 39.06it/s]"
     ]
    },
    {
     "name": "stderr",
     "output_type": "stream",
     "text": [
      "\r",
      "\u001b[1;34m￨ stanza 16, line 05: NOW stand YOU on.the TOP of HAP py HO urs              :  10%|\u001b[0;36m▉         \u001b[0;36m| 213/2155 [00:05<00:49, 39.06it/s]"
     ]
    },
    {
     "name": "stderr",
     "output_type": "stream",
     "text": [
      "\r",
      "\u001b[1;34m￨ stanza 16, line 06: and MA ny MAI den GAR dens YET un SET                  :  10%|\u001b[0;36m▉         \u001b[0;36m| 213/2155 [00:05<00:49, 39.06it/s]"
     ]
    },
    {
     "name": "stderr",
     "output_type": "stream",
     "text": [
      "\r",
      "\u001b[1;34m￨ stanza 16, line 07: with VIR tuo.us WISH would BEAR your LI ving FLO wers  :  10%|\u001b[0;36m▉         \u001b[0;36m| 213/2155 [00:05<00:49, 39.06it/s]"
     ]
    },
    {
     "name": "stderr",
     "output_type": "stream",
     "text": [
      "\r",
      "\u001b[1;34m￨ stanza 16, line 08: much LI ker THAN your PAIN ted COUN ter FEIT           :  10%|\u001b[0;36m▉         \u001b[0;36m| 213/2155 [00:05<00:49, 39.06it/s]"
     ]
    },
    {
     "name": "stderr",
     "output_type": "stream",
     "text": [
      "\r",
      "\u001b[1;34m￨ stanza 16, line 09: so SHOULD the LINES of LIFE that LIFE re PAIR          :  10%|\u001b[0;36m▉         \u001b[0;36m| 213/2155 [00:05<00:49, 39.06it/s]"
     ]
    },
    {
     "name": "stderr",
     "output_type": "stream",
     "text": [
      "\r",
      "\u001b[1;34m￨ stanza 16, line 10: which THIS time's PEN cil OR my PU pil PEN             :  10%|\u001b[0;36m▉         \u001b[0;36m| 213/2155 [00:05<00:49, 39.06it/s]"
     ]
    },
    {
     "name": "stderr",
     "output_type": "stream",
     "text": [
      "\r",
      "\u001b[1;34m￨ stanza 16, line 11: NEIT.HER in IN ward WORTH nor OU tward FAIR            :  10%|\u001b[0;36m▉         \u001b[0;36m| 213/2155 [00:05<00:49, 39.06it/s]"
     ]
    },
    {
     "name": "stderr",
     "output_type": "stream",
     "text": [
      "\r",
      "\u001b[1;34m￨ stanza 16, line 12: can MAKE you LIVE yo URSELF in EYES of MEN             :  10%|\u001b[0;36m▉         \u001b[0;36m| 213/2155 [00:05<00:49, 39.06it/s]"
     ]
    },
    {
     "name": "stderr",
     "output_type": "stream",
     "text": [
      "\r",
      "\u001b[1;34m￨ stanza 16, line 13: to GIVE a WAY yo URSELF keeps YO urself STILL          :  10%|\u001b[0;36m▉         \u001b[0;36m| 213/2155 [00:05<00:49, 39.06it/s]"
     ]
    },
    {
     "name": "stderr",
     "output_type": "stream",
     "text": [
      "\r",
      "\u001b[1;34m￨ stanza 16, line 14: and.you MUST live DRAWN by YOUR own SWEET skill        :  10%|\u001b[0;36m▉         \u001b[0;36m| 213/2155 [00:05<00:49, 39.06it/s]"
     ]
    },
    {
     "name": "stderr",
     "output_type": "stream",
     "text": [
      "\r",
      "\u001b[1;34m￨ stanza 17, line 01: who WILL be LIEVE my VERSE in TIME to COME             :  10%|\u001b[0;36m▉         \u001b[0;36m| 213/2155 [00:05<00:49, 39.06it/s]"
     ]
    },
    {
     "name": "stderr",
     "output_type": "stream",
     "text": [
      "\r",
      "\u001b[1;34m￨ stanza 17, line 01: who WILL be LIEVE my VERSE in TIME to COME             :  10%|\u001b[0;36m█         \u001b[0;36m| 225/2155 [00:05<00:39, 48.80it/s]"
     ]
    },
    {
     "name": "stderr",
     "output_type": "stream",
     "text": [
      "\r",
      "\u001b[1;34m￨ stanza 17, line 02: if IT were FILL'D with YOUR most HIGH de SERTS         :  10%|\u001b[0;36m█         \u001b[0;36m| 225/2155 [00:05<00:39, 48.80it/s]"
     ]
    },
    {
     "name": "stderr",
     "output_type": "stream",
     "text": [
      "\r",
      "\u001b[1;34m￨ stanza 17, line 03: though.yet HEA ven KNOWS it IS but AS a TOMB           :  10%|\u001b[0;36m█         \u001b[0;36m| 225/2155 [00:05<00:39, 48.80it/s]"
     ]
    },
    {
     "name": "stderr",
     "output_type": "stream",
     "text": [
      "\r",
      "\u001b[1;34m￨ stanza 17, line 04: which HIDES your LIFE and SHOWS not HALF your PARTS    :  10%|\u001b[0;36m█         \u001b[0;36m| 225/2155 [00:06<00:39, 48.80it/s]"
     ]
    },
    {
     "name": "stderr",
     "output_type": "stream",
     "text": [
      "\r",
      "\u001b[1;34m￨ stanza 17, line 05: if I could WRITE the BEA uty OF your EYES              :  10%|\u001b[0;36m█         \u001b[0;36m| 225/2155 [00:06<00:39, 48.80it/s]"
     ]
    },
    {
     "name": "stderr",
     "output_type": "stream",
     "text": [
      "\r",
      "\u001b[1;34m￨ stanza 17, line 06: and IN fresh NUM bers NUM ber ALL your GRA ces         :  10%|\u001b[0;36m█         \u001b[0;36m| 225/2155 [00:06<00:39, 48.80it/s]"
     ]
    },
    {
     "name": "stderr",
     "output_type": "stream",
     "text": [
      "\r",
      "\u001b[1;34m￨ stanza 17, line 07: the AGE to COME would SAY 'this PO et LIES             :  10%|\u001b[0;36m█         \u001b[0;36m| 225/2155 [00:06<00:39, 48.80it/s]"
     ]
    },
    {
     "name": "stderr",
     "output_type": "stream",
     "text": [
      "\r",
      "\u001b[1;34m￨ stanza 17, line 08: such HEA ven.ly TOUC hes NE'ER touch'd EART hly FA ces :  10%|\u001b[0;36m█         \u001b[0;36m| 225/2155 [00:06<00:39, 48.80it/s]"
     ]
    },
    {
     "name": "stderr",
     "output_type": "stream",
     "text": [
      "\r",
      "\u001b[1;34m￨ stanza 17, line 09: so SHOULD my PA pers YEL low'd WITH their AGE          :  10%|\u001b[0;36m█         \u001b[0;36m| 225/2155 [00:06<00:39, 48.80it/s]"
     ]
    },
    {
     "name": "stderr",
     "output_type": "stream",
     "text": [
      "\r",
      "\u001b[1;34m￨ stanza 17, line 10: be SCORN'D like OLD men OF less TRUTH than TONGUE      :  10%|\u001b[0;36m█         \u001b[0;36m| 225/2155 [00:06<00:39, 48.80it/s]"
     ]
    },
    {
     "name": "stderr",
     "output_type": "stream",
     "text": [
      "\r",
      "\u001b[1;34m￨ stanza 17, line 11: and YOUR true RIGHTS be TERM'D a POET 's RAGE          :  10%|\u001b[0;36m█         \u001b[0;36m| 225/2155 [00:06<00:39, 48.80it/s]"
     ]
    },
    {
     "name": "stderr",
     "output_type": "stream",
     "text": [
      "\r",
      "\u001b[1;34m￨ stanza 17, line 12: AND stretched ME.TRE of AN an TIQUE song               :  10%|\u001b[0;36m█         \u001b[0;36m| 225/2155 [00:06<00:39, 48.80it/s]"
     ]
    },
    {
     "name": "stderr",
     "output_type": "stream",
     "text": [
      "\r",
      "\u001b[1;34m￨ stanza 17, line 12: AND stretched ME.TRE of AN an TIQUE song               :  11%|\u001b[0;36m█         \u001b[0;36m| 236/2155 [00:06<00:33, 57.53it/s]"
     ]
    },
    {
     "name": "stderr",
     "output_type": "stream",
     "text": [
      "\r",
      "\u001b[1;34m￨ stanza 17, line 13: but WERE some CHILD of YOURS a LIVE that TIME          :  11%|\u001b[0;36m█         \u001b[0;36m| 236/2155 [00:06<00:33, 57.53it/s]"
     ]
    },
    {
     "name": "stderr",
     "output_type": "stream",
     "text": [
      "\r",
      "\u001b[1;34m￨ stanza 17, line 14: you SHOULD live TWICE in IT and IN my RHYME            :  11%|\u001b[0;36m█         \u001b[0;36m| 236/2155 [00:06<00:33, 57.53it/s]"
     ]
    },
    {
     "name": "stderr",
     "output_type": "stream",
     "text": [
      "\r",
      "\u001b[1;34m￨ stanza 18, line 01: shall I com PARE thee TO a SUM mer's DAY               :  11%|\u001b[0;36m█         \u001b[0;36m| 236/2155 [00:06<00:33, 57.53it/s]"
     ]
    },
    {
     "name": "stderr",
     "output_type": "stream",
     "text": [
      "\r",
      "\u001b[1;34m￨ stanza 18, line 02: thou ART more LO vely AND more TEM perate              :  11%|\u001b[0;36m█         \u001b[0;36m| 236/2155 [00:06<00:33, 57.53it/s]"
     ]
    },
    {
     "name": "stderr",
     "output_type": "stream",
     "text": [
      "\r",
      "\u001b[1;34m￨ stanza 18, line 03: rough WINDS do SHAKE the DAR ling BUDS of.may          :  11%|\u001b[0;36m█         \u001b[0;36m| 236/2155 [00:06<00:33, 57.53it/s]"
     ]
    },
    {
     "name": "stderr",
     "output_type": "stream",
     "text": [
      "\r",
      "\u001b[1;34m￨ stanza 18, line 04: and SUM mer's LEASE hath ALL too SHORT a DATE          :  11%|\u001b[0;36m█         \u001b[0;36m| 236/2155 [00:06<00:33, 57.53it/s]"
     ]
    },
    {
     "name": "stderr",
     "output_type": "stream",
     "text": [
      "\r",
      "\u001b[1;34m￨ stanza 18, line 05: so METIME too HOT the EYE of HEA ven SHINES            :  11%|\u001b[0;36m█         \u001b[0;36m| 236/2155 [00:06<00:33, 57.53it/s]"
     ]
    },
    {
     "name": "stderr",
     "output_type": "stream",
     "text": [
      "\r",
      "\u001b[1;34m￨ stanza 18, line 06: and OF ten IS his GOLD com PLE xion DIMM'D             :  11%|\u001b[0;36m█         \u001b[0;36m| 236/2155 [00:06<00:33, 57.53it/s]"
     ]
    },
    {
     "name": "stderr",
     "output_type": "stream",
     "text": [
      "\r",
      "\u001b[1;34m￨ stanza 18, line 07: and E very FAIR from FAIR so METIME de CLINES          :  11%|\u001b[0;36m█         \u001b[0;36m| 236/2155 [00:06<00:33, 57.53it/s]"
     ]
    },
    {
     "name": "stderr",
     "output_type": "stream",
     "text": [
      "\r",
      "\u001b[1;34m￨ stanza 18, line 08: by CHANCE or NA ture's CHAN ging COURSE un TRIMM'D     :  11%|\u001b[0;36m█         \u001b[0;36m| 236/2155 [00:06<00:33, 57.53it/s]"
     ]
    },
    {
     "name": "stderr",
     "output_type": "stream",
     "text": [
      "\r",
      "\u001b[1;34m￨ stanza 18, line 08: by CHANCE or NA ture's CHAN ging COURSE un TRIMM'D     :  11%|\u001b[0;36m█▏        \u001b[0;36m| 246/2155 [00:06<00:30, 61.85it/s]"
     ]
    },
    {
     "name": "stderr",
     "output_type": "stream",
     "text": [
      "\r",
      "\u001b[1;34m￨ stanza 18, line 09: but THY e TER nal SUM mer SHALL not FADE               :  11%|\u001b[0;36m█▏        \u001b[0;36m| 246/2155 [00:06<00:30, 61.85it/s]"
     ]
    },
    {
     "name": "stderr",
     "output_type": "stream",
     "text": [
      "\r",
      "\u001b[1;34m￨ stanza 18, line 10: nor LOSE pos SES sion OF that FAIR thou O west         :  11%|\u001b[0;36m█▏        \u001b[0;36m| 246/2155 [00:06<00:30, 61.85it/s]"
     ]
    },
    {
     "name": "stderr",
     "output_type": "stream",
     "text": [
      "\r",
      "\u001b[1;34m￨ stanza 18, line 11: nor SHALL death BRAG thou WAN der'st IN his SHADE      :  11%|\u001b[0;36m█▏        \u001b[0;36m| 246/2155 [00:06<00:30, 61.85it/s]"
     ]
    },
    {
     "name": "stderr",
     "output_type": "stream",
     "text": [
      "\r",
      "\u001b[1;34m￨ stanza 18, line 12: when IN e TER nal LINES to TIME thou GRO west          :  11%|\u001b[0;36m█▏        \u001b[0;36m| 246/2155 [00:06<00:30, 61.85it/s]"
     ]
    },
    {
     "name": "stderr",
     "output_type": "stream",
     "text": [
      "\r",
      "\u001b[1;34m￨ stanza 18, line 13: so LONG as MEN can BREATHE or EYES can SEE             :  11%|\u001b[0;36m█▏        \u001b[0;36m| 246/2155 [00:06<00:30, 61.85it/s]"
     ]
    },
    {
     "name": "stderr",
     "output_type": "stream",
     "text": [
      "\r",
      "\u001b[1;34m￨ stanza 18, line 14: so LONG lives THIS and THIS gives LIFE to THEE         :  11%|\u001b[0;36m█▏        \u001b[0;36m| 246/2155 [00:06<00:30, 61.85it/s]"
     ]
    },
    {
     "name": "stderr",
     "output_type": "stream",
     "text": [
      "\r",
      "\u001b[1;34m￨ stanza 19, line 01: de VOU ri NG time BLUNT thou.the LION 's PAWS          :  11%|\u001b[0;36m█▏        \u001b[0;36m| 246/2155 [00:06<00:30, 61.85it/s]"
     ]
    },
    {
     "name": "stderr",
     "output_type": "stream",
     "text": [
      "\r",
      "\u001b[1;34m￨ stanza 19, line 02: and MAKE the EARTH de VO ur HER own SWEET brood        :  11%|\u001b[0;36m█▏        \u001b[0;36m| 246/2155 [00:06<00:30, 61.85it/s]"
     ]
    },
    {
     "name": "stderr",
     "output_type": "stream",
     "text": [
      "\r",
      "\u001b[1;34m￨ stanza 19, line 03: PLUCK the KEEN teeth FROM the FIERCE.TI ger's JAWS     :  11%|\u001b[0;36m█▏        \u001b[0;36m| 246/2155 [00:06<00:30, 61.85it/s]"
     ]
    },
    {
     "name": "stderr",
     "output_type": "stream",
     "text": [
      "\r",
      "\u001b[1;34m￨ stanza 19, line 03: PLUCK the KEEN teeth FROM the FIERCE.TI ger's JAWS     :  12%|\u001b[0;36m█▏        \u001b[0;36m| 255/2155 [00:06<00:58, 32.38it/s]"
     ]
    },
    {
     "name": "stderr",
     "output_type": "stream",
     "text": [
      "\r",
      "\u001b[1;34m￨ stanza 19, line 04: and BURN the LONG lived PHOE nix IN her BLOOD          :  12%|\u001b[0;36m█▏        \u001b[0;36m| 255/2155 [00:06<00:58, 32.38it/s]"
     ]
    },
    {
     "name": "stderr",
     "output_type": "stream",
     "text": [
      "\r",
      "\u001b[1;34m￨ stanza 19, line 05: make GLAD and SOR ry SEA sons AS thou FLEETS           :  12%|\u001b[0;36m█▏        \u001b[0;36m| 255/2155 [00:06<00:58, 32.38it/s]"
     ]
    },
    {
     "name": "stderr",
     "output_type": "stream",
     "text": [
      "\r",
      "\u001b[1;34m￨ stanza 19, line 06: and.do WHA te'er THOU wilt SWIFT foo.ted TIME          :  12%|\u001b[0;36m█▏        \u001b[0;36m| 255/2155 [00:06<00:58, 32.38it/s]"
     ]
    },
    {
     "name": "stderr",
     "output_type": "stream",
     "text": [
      "\r",
      "\u001b[1;34m￨ stanza 19, line 07: to THE wide WORLD and ALL her FA ding SWEETS           :  12%|\u001b[0;36m█▏        \u001b[0;36m| 255/2155 [00:06<00:58, 32.38it/s]"
     ]
    },
    {
     "name": "stderr",
     "output_type": "stream",
     "text": [
      "\r",
      "\u001b[1;34m￨ stanza 19, line 08: but I for BID thee ONE most HEI nous CRIME             :  12%|\u001b[0;36m█▏        \u001b[0;36m| 255/2155 [00:06<00:58, 32.38it/s]"
     ]
    },
    {
     "name": "stderr",
     "output_type": "stream",
     "text": [
      "\r",
      "\u001b[1;34m￨ stanza 19, line 09: o CARVE not WITH thy HOURS my LOVE'S fair BROW         :  12%|\u001b[0;36m█▏        \u001b[0;36m| 255/2155 [00:06<00:58, 32.38it/s]"
     ]
    },
    {
     "name": "stderr",
     "output_type": "stream",
     "text": [
      "\r",
      "\u001b[1;34m￨ stanza 19, line 10: nor DRAW no LINES there.with THINE an TIQUE pen        :  12%|\u001b[0;36m█▏        \u001b[0;36m| 255/2155 [00:06<00:58, 32.38it/s]"
     ]
    },
    {
     "name": "stderr",
     "output_type": "stream",
     "text": [
      "\r",
      "\u001b[1;34m￨ stanza 19, line 11: him IN thy COURSE un TAIN ted DO al LOW                :  12%|\u001b[0;36m█▏        \u001b[0;36m| 255/2155 [00:06<00:58, 32.38it/s]"
     ]
    },
    {
     "name": "stderr",
     "output_type": "stream",
     "text": [
      "\r",
      "\u001b[1;34m￨ stanza 19, line 12: for BEA uty's PAT tern TO suc CEE ding MEN             :  12%|\u001b[0;36m█▏        \u001b[0;36m| 255/2155 [00:06<00:58, 32.38it/s]"
     ]
    },
    {
     "name": "stderr",
     "output_type": "stream",
     "text": [
      "\r",
      "\u001b[1;34m￨ stanza 19, line 13: yet DO thy WORST old TIME des PITE thy WRONG           :  12%|\u001b[0;36m█▏        \u001b[0;36m| 255/2155 [00:06<00:58, 32.38it/s]"
     ]
    },
    {
     "name": "stderr",
     "output_type": "stream",
     "text": [
      "\r",
      "\u001b[1;34m￨ stanza 19, line 14: my LOVE shall.in MY verse E ver LIVE young             :  12%|\u001b[0;36m█▏        \u001b[0;36m| 255/2155 [00:06<00:58, 32.38it/s]"
     ]
    },
    {
     "name": "stderr",
     "output_type": "stream",
     "text": [
      "\r",
      "\u001b[1;34m￨ stanza 20, line 01: a WO man's FACE with NA ture's OWN hand PAIN ted       :  12%|\u001b[0;36m█▏        \u001b[0;36m| 255/2155 [00:06<00:58, 32.38it/s]"
     ]
    },
    {
     "name": "stderr",
     "output_type": "stream",
     "text": [
      "\r",
      "\u001b[1;34m￨ stanza 20, line 02: hast THOU the MAS ter MIS tress OF my PAS sion         :  12%|\u001b[0;36m█▏        \u001b[0;36m| 255/2155 [00:06<00:58, 32.38it/s]"
     ]
    },
    {
     "name": "stderr",
     "output_type": "stream",
     "text": [
      "\r",
      "\u001b[1;34m￨ stanza 20, line 03: a WO man's GEN tle HEART but NOT ac QUA inted          :  12%|\u001b[0;36m█▏        \u001b[0;36m| 255/2155 [00:06<00:58, 32.38it/s]"
     ]
    },
    {
     "name": "stderr",
     "output_type": "stream",
     "text": [
      "\r",
      "\u001b[1;34m￨ stanza 20, line 04: with SHIF ting CHANGE as IS false WO men's FAS hion    :  12%|\u001b[0;36m█▏        \u001b[0;36m| 255/2155 [00:06<00:58, 32.38it/s]"
     ]
    },
    {
     "name": "stderr",
     "output_type": "stream",
     "text": [
      "\r",
      "\u001b[1;34m￨ stanza 20, line 05: an EYE more BRIGHT than THEIRS less FALSE in ROL ling  :  12%|\u001b[0;36m█▏        \u001b[0;36m| 255/2155 [00:06<00:58, 32.38it/s]"
     ]
    },
    {
     "name": "stderr",
     "output_type": "stream",
     "text": [
      "\r",
      "\u001b[1;34m￨ stanza 20, line 05: an EYE more BRIGHT than THEIRS less FALSE in ROL ling  :  13%|\u001b[0;36m█▎        \u001b[0;36m| 271/2155 [00:06<00:40, 46.91it/s]"
     ]
    },
    {
     "name": "stderr",
     "output_type": "stream",
     "text": [
      "\r",
      "\u001b[1;34m￨ stanza 20, line 06: GIL ding.the OB ject WHE reu PON it GA zeth            :  13%|\u001b[0;36m█▎        \u001b[0;36m| 271/2155 [00:07<00:40, 46.91it/s]"
     ]
    },
    {
     "name": "stderr",
     "output_type": "stream",
     "text": [
      "\r",
      "\u001b[1;34m￨ stanza 20, line 07: a MAN in HUE all 'HUES' in HIS con TROL ling           :  13%|\u001b[0;36m█▎        \u001b[0;36m| 271/2155 [00:07<00:40, 46.91it/s]"
     ]
    },
    {
     "name": "stderr",
     "output_type": "stream",
     "text": [
      "\r",
      "\u001b[1;34m￨ stanza 20, line 08: much STEALS men's EYES and WO men's SOULS a MA zeth    :  13%|\u001b[0;36m█▎        \u001b[0;36m| 271/2155 [00:07<00:40, 46.91it/s]"
     ]
    },
    {
     "name": "stderr",
     "output_type": "stream",
     "text": [
      "\r",
      "\u001b[1;34m￨ stanza 20, line 09: and FOR a WO man WERT thou FIRST crea T ed             :  13%|\u001b[0;36m█▎        \u001b[0;36m| 271/2155 [00:07<00:40, 46.91it/s]"
     ]
    },
    {
     "name": "stderr",
     "output_type": "stream",
     "text": [
      "\r",
      "\u001b[1;34m￨ stanza 20, line 10: till NA ture AS she WROUGHT thee FELL a DO ting        :  13%|\u001b[0;36m█▎        \u001b[0;36m| 271/2155 [00:07<00:40, 46.91it/s]"
     ]
    },
    {
     "name": "stderr",
     "output_type": "stream",
     "text": [
      "\r",
      "\u001b[1;34m￨ stanza 20, line 11: and BY ad DI tion ME of THEE de FEA ted                :  13%|\u001b[0;36m█▎        \u001b[0;36m| 271/2155 [00:07<00:40, 46.91it/s]"
     ]
    },
    {
     "name": "stderr",
     "output_type": "stream",
     "text": [
      "\r",
      "\u001b[1;34m￨ stanza 20, line 12: by AD.DING one THING to.my PUR pose NOT hing           :  13%|\u001b[0;36m█▎        \u001b[0;36m| 271/2155 [00:07<00:40, 46.91it/s]"
     ]
    },
    {
     "name": "stderr",
     "output_type": "stream",
     "text": [
      "\r",
      "\u001b[1;34m￨ stanza 20, line 13: but SINCE she PRICK'D thee OUT for WO men's PLEA sure  :  13%|\u001b[0;36m█▎        \u001b[0;36m| 271/2155 [00:07<00:40, 46.91it/s]"
     ]
    },
    {
     "name": "stderr",
     "output_type": "stream",
     "text": [
      "\r",
      "\u001b[1;34m￨ stanza 20, line 14: mine BE thy LOVE and THY love's USE their TREA sure    :  13%|\u001b[0;36m█▎        \u001b[0;36m| 271/2155 [00:07<00:40, 46.91it/s]"
     ]
    },
    {
     "name": "stderr",
     "output_type": "stream",
     "text": [
      "\r",
      "\u001b[1;34m￨ stanza 21, line 01: so IS it NOT with ME as WITH that MUSE                 :  13%|\u001b[0;36m█▎        \u001b[0;36m| 271/2155 [00:07<00:40, 46.91it/s]"
     ]
    },
    {
     "name": "stderr",
     "output_type": "stream",
     "text": [
      "\r",
      "\u001b[1;34m￨ stanza 21, line 01: so IS it NOT with ME as WITH that MUSE                 :  13%|\u001b[0;36m█▎        \u001b[0;36m| 281/2155 [00:07<00:40, 45.94it/s]"
     ]
    },
    {
     "name": "stderr",
     "output_type": "stream",
     "text": [
      "\r",
      "\u001b[1;34m￨ stanza 21, line 02: STIRR'D by.a PAIN ted BEA uty TO his VERSE             :  13%|\u001b[0;36m█▎        \u001b[0;36m| 281/2155 [00:07<00:40, 45.94it/s]"
     ]
    },
    {
     "name": "stderr",
     "output_type": "stream",
     "text": [
      "\r",
      "\u001b[1;34m￨ stanza 21, line 03: who HEAVEN i TSELF for OR na MENT doth USE             :  13%|\u001b[0;36m█▎        \u001b[0;36m| 281/2155 [00:07<00:40, 45.94it/s]"
     ]
    },
    {
     "name": "stderr",
     "output_type": "stream",
     "text": [
      "\r",
      "\u001b[1;34m￨ stanza 21, line 04: and E very FAIR with HIS fair DOTH re HEARSE           :  13%|\u001b[0;36m█▎        \u001b[0;36m| 281/2155 [00:07<00:40, 45.94it/s]"
     ]
    },
    {
     "name": "stderr",
     "output_type": "stream",
     "text": [
      "\r",
      "\u001b[1;34m￨ stanza 21, line 05: MA king.a COU ple MENT of PROUD com PARE               :  13%|\u001b[0;36m█▎        \u001b[0;36m| 281/2155 [00:07<00:40, 45.94it/s]"
     ]
    },
    {
     "name": "stderr",
     "output_type": "stream",
     "text": [
      "\r",
      "\u001b[1;34m￨ stanza 21, line 06: with SUN and MOON with EARTH and SEA'S rich GEMS       :  13%|\u001b[0;36m█▎        \u001b[0;36m| 281/2155 [00:07<00:40, 45.94it/s]"
     ]
    },
    {
     "name": "stderr",
     "output_type": "stream",
     "text": [
      "\r",
      "\u001b[1;34m￨ stanza 21, line 07: with A pril's FIRST born FLO wers AND all THINGS rare  :  13%|\u001b[0;36m█▎        \u001b[0;36m| 281/2155 [00:07<00:40, 45.94it/s]"
     ]
    },
    {
     "name": "stderr",
     "output_type": "stream",
     "text": [
      "\r",
      "\u001b[1;34m￨ stanza 21, line 08: that HEA ven's AIR in THIS huge RON dure HEMS          :  13%|\u001b[0;36m█▎        \u001b[0;36m| 281/2155 [00:07<00:40, 45.94it/s]"
     ]
    },
    {
     "name": "stderr",
     "output_type": "stream",
     "text": [
      "\r",
      "\u001b[1;34m￨ stanza 21, line 09: o' LET me TRUE in LOVE but TRU ly WRITE                :  13%|\u001b[0;36m█▎        \u001b[0;36m| 281/2155 [00:07<00:40, 45.94it/s]"
     ]
    },
    {
     "name": "stderr",
     "output_type": "stream",
     "text": [
      "\r",
      "\u001b[1;34m￨ stanza 21, line 10: and THEN be LIEVE me.my LOVE is.as FAIR                :  13%|\u001b[0;36m█▎        \u001b[0;36m| 281/2155 [00:07<00:40, 45.94it/s]"
     ]
    },
    {
     "name": "stderr",
     "output_type": "stream",
     "text": [
      "\r",
      "\u001b[1;34m￨ stanza 21, line 11: as A ny MOT her's CHILD though NOT so BRIGHT           :  13%|\u001b[0;36m█▎        \u001b[0;36m| 281/2155 [00:07<00:40, 45.94it/s]"
     ]
    },
    {
     "name": "stderr",
     "output_type": "stream",
     "text": [
      "\r",
      "\u001b[1;34m￨ stanza 21, line 12: as THOSE gold CAN dles FIX'D in HEA ven's AIR          :  13%|\u001b[0;36m█▎        \u001b[0;36m| 281/2155 [00:07<00:40, 45.94it/s]"
     ]
    },
    {
     "name": "stderr",
     "output_type": "stream",
     "text": [
      "\r",
      "\u001b[1;34m￨ stanza 21, line 13: LET them SAY more.than LIKE of HEAR say WELL           :  13%|\u001b[0;36m█▎        \u001b[0;36m| 281/2155 [00:07<00:40, 45.94it/s]"
     ]
    },
    {
     "name": "stderr",
     "output_type": "stream",
     "text": [
      "\r",
      "\u001b[1;34m￨ stanza 21, line 14: I will.not PRAISE that PUR pose NOT to SELL            :  13%|\u001b[0;36m█▎        \u001b[0;36m| 281/2155 [00:07<00:40, 45.94it/s]"
     ]
    },
    {
     "name": "stderr",
     "output_type": "stream",
     "text": [
      "\r",
      "\u001b[1;34m￨ stanza 21, line 14: I will.not PRAISE that PUR pose NOT to SELL            :  14%|\u001b[0;36m█▎        \u001b[0;36m| 294/2155 [00:07<00:46, 40.36it/s]"
     ]
    },
    {
     "name": "stderr",
     "output_type": "stream",
     "text": [
      "\r",
      "\u001b[1;34m￨ stanza 22, line 01: my GLASS shall NOT per SUADE me I am OLD               :  14%|\u001b[0;36m█▎        \u001b[0;36m| 294/2155 [00:07<00:46, 40.36it/s]"
     ]
    },
    {
     "name": "stderr",
     "output_type": "stream",
     "text": [
      "\r",
      "\u001b[1;34m￨ stanza 22, line 02: so LONG as YOUTH and THOU are OF one DATE              :  14%|\u001b[0;36m█▎        \u001b[0;36m| 294/2155 [00:07<00:46, 40.36it/s]"
     ]
    },
    {
     "name": "stderr",
     "output_type": "stream",
     "text": [
      "\r",
      "\u001b[1;34m￨ stanza 22, line 03: but WHEN in THEE time's FUR rows I be HOLD             :  14%|\u001b[0;36m█▎        \u001b[0;36m| 294/2155 [00:07<00:46, 40.36it/s]"
     ]
    },
    {
     "name": "stderr",
     "output_type": "stream",
     "text": [
      "\r",
      "\u001b[1;34m￨ stanza 22, line 04: then LOOK i DEATH my DAYS should EX pia TE             :  14%|\u001b[0;36m█▎        \u001b[0;36m| 294/2155 [00:07<00:46, 40.36it/s]"
     ]
    },
    {
     "name": "stderr",
     "output_type": "stream",
     "text": [
      "\r",
      "\u001b[1;34m￨ stanza 22, line 05: for ALL that BEA uty THAT doth CO ver THEE             :  14%|\u001b[0;36m█▎        \u001b[0;36m| 294/2155 [00:07<00:46, 40.36it/s]"
     ]
    },
    {
     "name": "stderr",
     "output_type": "stream",
     "text": [
      "\r",
      "\u001b[1;34m￨ stanza 22, line 06: IS but.the SEEM ly RAI ment OF my HEART                :  14%|\u001b[0;36m█▎        \u001b[0;36m| 294/2155 [00:07<00:46, 40.36it/s]"
     ]
    },
    {
     "name": "stderr",
     "output_type": "stream",
     "text": [
      "\r",
      "\u001b[1;34m￨ stanza 22, line 07: which IN thy BREAST doth LIVE as.thine IN me           :  14%|\u001b[0;36m█▎        \u001b[0;36m| 294/2155 [00:08<00:46, 40.36it/s]"
     ]
    },
    {
     "name": "stderr",
     "output_type": "stream",
     "text": [
      "\r",
      "\u001b[1;34m￨ stanza 22, line 07: which IN thy BREAST doth LIVE as.thine IN me           :  14%|\u001b[0;36m█▍        \u001b[0;36m| 301/2155 [00:08<01:04, 28.93it/s]"
     ]
    },
    {
     "name": "stderr",
     "output_type": "stream",
     "text": [
      "\r",
      "\u001b[1;34m￨ stanza 22, line 08: how.can I then.be EL der THAN thou ART                 :  14%|\u001b[0;36m█▍        \u001b[0;36m| 301/2155 [00:08<01:04, 28.93it/s]"
     ]
    },
    {
     "name": "stderr",
     "output_type": "stream",
     "text": [
      "\r",
      "\u001b[1;34m￨ stanza 22, line 09: o THE refore LOVE be OF thy SELF so WA ry              :  14%|\u001b[0;36m█▍        \u001b[0;36m| 301/2155 [00:08<01:04, 28.93it/s]"
     ]
    },
    {
     "name": "stderr",
     "output_type": "stream",
     "text": [
      "\r",
      "\u001b[1;34m￨ stanza 22, line 10: as.i NOT for MY.SELF but.for THEE will                 :  14%|\u001b[0;36m█▍        \u001b[0;36m| 301/2155 [00:08<01:04, 28.93it/s]"
     ]
    },
    {
     "name": "stderr",
     "output_type": "stream",
     "text": [
      "\r",
      "\u001b[1;34m￨ stanza 22, line 11: BEA.RING thy HEART which I will KEEP so CHA ry         :  14%|\u001b[0;36m█▍        \u001b[0;36m| 301/2155 [00:08<01:04, 28.93it/s]"
     ]
    },
    {
     "name": "stderr",
     "output_type": "stream",
     "text": [
      "\r",
      "\u001b[1;34m￨ stanza 22, line 12: as TEN der NURSE her BABE from FA ring ILL             :  14%|\u001b[0;36m█▍        \u001b[0;36m| 301/2155 [00:08<01:04, 28.93it/s]"
     ]
    },
    {
     "name": "stderr",
     "output_type": "stream",
     "text": [
      "\r",
      "\u001b[1;34m￨ stanza 22, line 13: pre SUME not.on THY heart WHEN mine.is SLAIN           :  14%|\u001b[0;36m█▍        \u001b[0;36m| 301/2155 [00:08<01:04, 28.93it/s]"
     ]
    },
    {
     "name": "stderr",
     "output_type": "stream",
     "text": [
      "\r",
      "\u001b[1;34m￨ stanza 22, line 13: pre SUME not.on THY heart WHEN mine.is SLAIN           :  14%|\u001b[0;36m█▍        \u001b[0;36m| 307/2155 [00:08<01:01, 30.00it/s]"
     ]
    },
    {
     "name": "stderr",
     "output_type": "stream",
     "text": [
      "\r",
      "\u001b[1;34m￨ stanza 22, line 14: thou GA vest ME thine.not TO give BACK a GAIN          :  14%|\u001b[0;36m█▍        \u001b[0;36m| 307/2155 [00:08<01:01, 30.00it/s]"
     ]
    },
    {
     "name": "stderr",
     "output_type": "stream",
     "text": [
      "\r",
      "\u001b[1;34m￨ stanza 23, line 01: as.an UN per FECT ac TOR on.the STAGE                  :  14%|\u001b[0;36m█▍        \u001b[0;36m| 307/2155 [00:08<01:01, 30.00it/s]"
     ]
    },
    {
     "name": "stderr",
     "output_type": "stream",
     "text": [
      "\r",
      "\u001b[1;34m￨ stanza 23, line 02: WHO with.his FEAR is PUT be SIDES his PART             :  14%|\u001b[0;36m█▍        \u001b[0;36m| 307/2155 [00:08<01:01, 30.00it/s]"
     ]
    },
    {
     "name": "stderr",
     "output_type": "stream",
     "text": [
      "\r",
      "\u001b[1;34m￨ stanza 23, line 03: or SOME fierce THING re PLETE with TOO much RAGE       :  14%|\u001b[0;36m█▍        \u001b[0;36m| 307/2155 [00:08<01:01, 30.00it/s]"
     ]
    },
    {
     "name": "stderr",
     "output_type": "stream",
     "text": [
      "\r",
      "\u001b[1;34m￨ stanza 23, line 04: whose STRENGTH'S a BUN dance WEA kens HIS own HEART    :  14%|\u001b[0;36m█▍        \u001b[0;36m| 307/2155 [00:08<01:01, 30.00it/s]"
     ]
    },
    {
     "name": "stderr",
     "output_type": "stream",
     "text": [
      "\r",
      "\u001b[1;34m￨ stanza 23, line 05: so I for FEAR of TRUST for GET to SAY                  :  14%|\u001b[0;36m█▍        \u001b[0;36m| 307/2155 [00:08<01:01, 30.00it/s]"
     ]
    },
    {
     "name": "stderr",
     "output_type": "stream",
     "text": [
      "\r",
      "\u001b[1;34m￨ stanza 23, line 06: the PER fect CE re MO ny OF love's RITE                :  14%|\u001b[0;36m█▍        \u001b[0;36m| 307/2155 [00:08<01:01, 30.00it/s]"
     ]
    },
    {
     "name": "stderr",
     "output_type": "stream",
     "text": [
      "\r",
      "\u001b[1;34m￨ stanza 23, line 07: and IN mine OWN love's STRENGTH seem TO de CAY         :  14%|\u001b[0;36m█▍        \u001b[0;36m| 307/2155 [00:08<01:01, 30.00it/s]"
     ]
    },
    {
     "name": "stderr",
     "output_type": "stream",
     "text": [
      "\r",
      "\u001b[1;34m￨ stanza 23, line 08: O 'ercharged.with BUR den OF mine.own LOVE'S might     :  14%|\u001b[0;36m█▍        \u001b[0;36m| 307/2155 [00:08<01:01, 30.00it/s]"
     ]
    },
    {
     "name": "stderr",
     "output_type": "stream",
     "text": [
      "\r",
      "\u001b[1;34m￨ stanza 23, line 09: o LET my BOOKS be THEN the E lo QUENCE                 :  14%|\u001b[0;36m█▍        \u001b[0;36m| 307/2155 [00:08<01:01, 30.00it/s]"
     ]
    },
    {
     "name": "stderr",
     "output_type": "stream",
     "text": [
      "\r",
      "\u001b[1;34m￨ stanza 23, line 10: and DUMB.PRE sa GERS of.my SPEA king BREAST            :  14%|\u001b[0;36m█▍        \u001b[0;36m| 307/2155 [00:08<01:01, 30.00it/s]"
     ]
    },
    {
     "name": "stderr",
     "output_type": "stream",
     "text": [
      "\r",
      "\u001b[1;34m￨ stanza 23, line 11: who PLEAD for LOVE and LOOK for RE com PENSE           :  14%|\u001b[0;36m█▍        \u001b[0;36m| 307/2155 [00:08<01:01, 30.00it/s]"
     ]
    },
    {
     "name": "stderr",
     "output_type": "stream",
     "text": [
      "\r",
      "\u001b[1;34m￨ stanza 23, line 12: MORE than.that TONGUE that MORE hath MORE ex PRESS'D   :  14%|\u001b[0;36m█▍        \u001b[0;36m| 307/2155 [00:09<01:01, 30.00it/s]"
     ]
    },
    {
     "name": "stderr",
     "output_type": "stream",
     "text": [
      "\r",
      "\u001b[1;34m￨ stanza 23, line 12: MORE than.that TONGUE that MORE hath MORE ex PRESS'D   :  15%|\u001b[0;36m█▍        \u001b[0;36m| 320/2155 [00:09<01:41, 18.16it/s]"
     ]
    },
    {
     "name": "stderr",
     "output_type": "stream",
     "text": [
      "\r",
      "\u001b[1;34m￨ stanza 23, line 13: o LEARN to READ what SI lent LOVE hath WRIT            :  15%|\u001b[0;36m█▍        \u001b[0;36m| 320/2155 [00:09<01:41, 18.16it/s]"
     ]
    },
    {
     "name": "stderr",
     "output_type": "stream",
     "text": [
      "\r",
      "\u001b[1;34m￨ stanza 23, line 14: to HEAR with EYES be LONGS to LOVE'S fine WIT          :  15%|\u001b[0;36m█▍        \u001b[0;36m| 320/2155 [00:09<01:41, 18.16it/s]"
     ]
    },
    {
     "name": "stderr",
     "output_type": "stream",
     "text": [
      "\r",
      "\u001b[1;34m￨ stanza 24, line 01: mine EYE hath PLAY'D the PAIN ter AND hath STELL'D     :  15%|\u001b[0;36m█▍        \u001b[0;36m| 320/2155 [00:09<01:41, 18.16it/s]"
     ]
    },
    {
     "name": "stderr",
     "output_type": "stream",
     "text": [
      "\r",
      "\u001b[1;34m￨ stanza 24, line 02: thy BEA uty's FORM in TA ble OF my HEART               :  15%|\u001b[0;36m█▍        \u001b[0;36m| 320/2155 [00:09<01:41, 18.16it/s]"
     ]
    },
    {
     "name": "stderr",
     "output_type": "stream",
     "text": [
      "\r",
      "\u001b[1;34m￨ stanza 24, line 03: my BO dy IS the FRAME whe REIN 'tis HELD               :  15%|\u001b[0;36m█▍        \u001b[0;36m| 320/2155 [00:09<01:41, 18.16it/s]"
     ]
    },
    {
     "name": "stderr",
     "output_type": "stream",
     "text": [
      "\r",
      "\u001b[1;34m￨ stanza 24, line 04: AND pers PEC tive IT is.the PAIN ter's ART             :  15%|\u001b[0;36m█▍        \u001b[0;36m| 320/2155 [00:09<01:41, 18.16it/s]"
     ]
    },
    {
     "name": "stderr",
     "output_type": "stream",
     "text": [
      "\r",
      "\u001b[1;34m￨ stanza 24, line 05: for THROUGH the PAIN ter MUST you SEE his SKILL        :  15%|\u001b[0;36m█▍        \u001b[0;36m| 320/2155 [00:09<01:41, 18.16it/s]"
     ]
    },
    {
     "name": "stderr",
     "output_type": "stream",
     "text": [
      "\r",
      "\u001b[1;34m￨ stanza 24, line 06: to FIND where YOUR true I mage PIC tured LIES          :  15%|\u001b[0;36m█▍        \u001b[0;36m| 320/2155 [00:09<01:41, 18.16it/s]"
     ]
    },
    {
     "name": "stderr",
     "output_type": "stream",
     "text": [
      "\r",
      "\u001b[1;34m￨ stanza 24, line 07: which IN my BO som's SHOP is HAN ging STILL            :  15%|\u001b[0;36m█▍        \u001b[0;36m| 320/2155 [00:09<01:41, 18.16it/s]"
     ]
    },
    {
     "name": "stderr",
     "output_type": "stream",
     "text": [
      "\r",
      "\u001b[1;34m￨ stanza 24, line 08: that HATH his WIN dows GLAZED with.thine EYES          :  15%|\u001b[0;36m█▍        \u001b[0;36m| 320/2155 [00:09<01:41, 18.16it/s]"
     ]
    },
    {
     "name": "stderr",
     "output_type": "stream",
     "text": [
      "\r",
      "\u001b[1;34m￨ stanza 24, line 09: now SEE what.good TURNS.EYES for EYES have DONE        :  15%|\u001b[0;36m█▍        \u001b[0;36m| 320/2155 [00:09<01:41, 18.16it/s]"
     ]
    },
    {
     "name": "stderr",
     "output_type": "stream",
     "text": [
      "\r",
      "\u001b[1;34m￨ stanza 24, line 10: mine EYES have DRAWN thy SHAPE and THINE for ME        :  15%|\u001b[0;36m█▍        \u001b[0;36m| 320/2155 [00:09<01:41, 18.16it/s]"
     ]
    },
    {
     "name": "stderr",
     "output_type": "stream",
     "text": [
      "\r",
      "\u001b[1;34m￨ stanza 24, line 11: are WIN dows TO my BREAST where THROUGH the SUN        :  15%|\u001b[0;36m█▍        \u001b[0;36m| 320/2155 [00:09<01:41, 18.16it/s]"
     ]
    },
    {
     "name": "stderr",
     "output_type": "stream",
     "text": [
      "\r",
      "\u001b[1;34m￨ stanza 24, line 12: de LIGHTS to PEEP to GAZE the REIN on THEE             :  15%|\u001b[0;36m█▍        \u001b[0;36m| 320/2155 [00:09<01:41, 18.16it/s]"
     ]
    },
    {
     "name": "stderr",
     "output_type": "stream",
     "text": [
      "\r",
      "\u001b[1;34m￨ stanza 24, line 13: yet EYES this CUN ning WANT to GRACE their ART         :  15%|\u001b[0;36m█▍        \u001b[0;36m| 320/2155 [00:09<01:41, 18.16it/s]"
     ]
    },
    {
     "name": "stderr",
     "output_type": "stream",
     "text": [
      "\r",
      "\u001b[1;34m￨ stanza 24, line 14: they DRAW but WHAT they SEE know NOT the HEART         :  15%|\u001b[0;36m█▍        \u001b[0;36m| 320/2155 [00:09<01:41, 18.16it/s]"
     ]
    },
    {
     "name": "stderr",
     "output_type": "stream",
     "text": [
      "\r",
      "\u001b[1;34m￨ stanza 25, line 01: LET those WHO are.in FA vour WITH their STARS          :  15%|\u001b[0;36m█▍        \u001b[0;36m| 320/2155 [00:09<01:41, 18.16it/s]"
     ]
    },
    {
     "name": "stderr",
     "output_type": "stream",
     "text": [
      "\r",
      "\u001b[1;34m￨ stanza 25, line 02: of PU blic HO nour AND proud TI tles BOAST             :  15%|\u001b[0;36m█▍        \u001b[0;36m| 320/2155 [00:09<01:41, 18.16it/s]"
     ]
    },
    {
     "name": "stderr",
     "output_type": "stream",
     "text": [
      "\r",
      "\u001b[1;34m￨ stanza 25, line 03: WHILST i.whom FOR tune OF such TRI umph BARS           :  15%|\u001b[0;36m█▍        \u001b[0;36m| 320/2155 [00:09<01:41, 18.16it/s]"
     ]
    },
    {
     "name": "stderr",
     "output_type": "stream",
     "text": [
      "\r",
      "\u001b[1;34m￨ stanza 25, line 04: un LOOK'D for JOY in THAT i HO nour MOST               :  15%|\u001b[0;36m█▍        \u001b[0;36m| 320/2155 [00:09<01:41, 18.16it/s]"
     ]
    },
    {
     "name": "stderr",
     "output_type": "stream",
     "text": [
      "\r",
      "\u001b[1;34m￨ stanza 25, line 05: great PRIN ces' FA vourites THEIR fair LEAVES spread   :  15%|\u001b[0;36m█▍        \u001b[0;36m| 320/2155 [00:09<01:41, 18.16it/s]"
     ]
    },
    {
     "name": "stderr",
     "output_type": "stream",
     "text": [
      "\r",
      "\u001b[1;34m￨ stanza 25, line 06: but AS the MA ri GOLD at.the SUN'S eye                 :  15%|\u001b[0;36m█▍        \u001b[0;36m| 320/2155 [00:09<01:41, 18.16it/s]"
     ]
    },
    {
     "name": "stderr",
     "output_type": "stream",
     "text": [
      "\r",
      "\u001b[1;34m￨ stanza 25, line 07: and IN them SELVES their PRIDE lies BU ried            :  15%|\u001b[0;36m█▍        \u001b[0;36m| 320/2155 [00:09<01:41, 18.16it/s]"
     ]
    },
    {
     "name": "stderr",
     "output_type": "stream",
     "text": [
      "\r",
      "\u001b[1;34m￨ stanza 25, line 08: for AT a FROWN they IN their GLO ry DIE                :  15%|\u001b[0;36m█▍        \u001b[0;36m| 320/2155 [00:09<01:41, 18.16it/s]"
     ]
    },
    {
     "name": "stderr",
     "output_type": "stream",
     "text": [
      "\r",
      "\u001b[1;34m￨ stanza 25, line 09: the PAIN ful WAR rior FA moused FOR fight              :  15%|\u001b[0;36m█▍        \u001b[0;36m| 320/2155 [00:09<01:41, 18.16it/s]"
     ]
    },
    {
     "name": "stderr",
     "output_type": "stream",
     "text": [
      "\r",
      "\u001b[1;34m￨ stanza 25, line 10: AF ter.a THOU sand VIC tories ONCE foil'd              :  15%|\u001b[0;36m█▍        \u001b[0;36m| 320/2155 [00:09<01:41, 18.16it/s]"
     ]
    },
    {
     "name": "stderr",
     "output_type": "stream",
     "text": [
      "\r",
      "\u001b[1;34m￨ stanza 25, line 11: IS from.the BOOK of HO nour RAZED quite                :  15%|\u001b[0;36m█▍        \u001b[0;36m| 320/2155 [00:09<01:41, 18.16it/s]"
     ]
    },
    {
     "name": "stderr",
     "output_type": "stream",
     "text": [
      "\r",
      "\u001b[1;34m￨ stanza 25, line 12: and ALL the REST for GOT for WHICH he TOIL'D           :  15%|\u001b[0;36m█▍        \u001b[0;36m| 320/2155 [00:09<01:41, 18.16it/s]"
     ]
    },
    {
     "name": "stderr",
     "output_type": "stream",
     "text": [
      "\r",
      "\u001b[1;34m￨ stanza 25, line 13: then HAP py I that LOVE and AM be LOVED                :  15%|\u001b[0;36m█▍        \u001b[0;36m| 320/2155 [00:09<01:41, 18.16it/s]"
     ]
    },
    {
     "name": "stderr",
     "output_type": "stream",
     "text": [
      "\r",
      "\u001b[1;34m￨ stanza 25, line 14: where I may NOT re MOVE nor BE re MOVED                :  15%|\u001b[0;36m█▍        \u001b[0;36m| 320/2155 [00:09<01:41, 18.16it/s]"
     ]
    },
    {
     "name": "stderr",
     "output_type": "stream",
     "text": [
      "\r",
      "\u001b[1;34m￨ stanza 26, line 01: LORD of.my LOVE to WHOM in VAS sa LAGE                 :  15%|\u001b[0;36m█▍        \u001b[0;36m| 320/2155 [00:09<01:41, 18.16it/s]"
     ]
    },
    {
     "name": "stderr",
     "output_type": "stream",
     "text": [
      "\r",
      "\u001b[1;34m￨ stanza 26, line 02: thy ME rit HATH my DU ty STRON gly KNIT                :  15%|\u001b[0;36m█▍        \u001b[0;36m| 320/2155 [00:09<01:41, 18.16it/s]"
     ]
    },
    {
     "name": "stderr",
     "output_type": "stream",
     "text": [
      "\r",
      "\u001b[1;34m￨ stanza 26, line 03: to THEE i SEND this WRIT ten EM bas SAGE               :  15%|\u001b[0;36m█▍        \u001b[0;36m| 320/2155 [00:09<01:41, 18.16it/s]"
     ]
    },
    {
     "name": "stderr",
     "output_type": "stream",
     "text": [
      "\r",
      "\u001b[1;34m￨ stanza 26, line 04: to WI tness DU ty NOT to SHOW my WIT                   :  15%|\u001b[0;36m█▍        \u001b[0;36m| 320/2155 [00:09<01:41, 18.16it/s]"
     ]
    },
    {
     "name": "stderr",
     "output_type": "stream",
     "text": [
      "\r",
      "\u001b[1;34m￨ stanza 26, line 05: DU.TY so GREAT which WIT so POOR as.mine               :  15%|\u001b[0;36m█▍        \u001b[0;36m| 320/2155 [00:09<01:41, 18.16it/s]"
     ]
    },
    {
     "name": "stderr",
     "output_type": "stream",
     "text": [
      "\r",
      "\u001b[1;34m￨ stanza 26, line 06: may MAKE seem BARE in WAN ting WORDS to SHOW it        :  15%|\u001b[0;36m█▍        \u001b[0;36m| 320/2155 [00:09<01:41, 18.16it/s]"
     ]
    },
    {
     "name": "stderr",
     "output_type": "stream",
     "text": [
      "\r",
      "\u001b[1;34m￨ stanza 26, line 07: but THAT i HOPE some GOOD con CEIT of.thine            :  15%|\u001b[0;36m█▍        \u001b[0;36m| 320/2155 [00:09<01:41, 18.16it/s]"
     ]
    },
    {
     "name": "stderr",
     "output_type": "stream",
     "text": [
      "\r",
      "\u001b[1;34m￨ stanza 26, line 08: in THY soul's THOUGHT all NA ked WILL bes TOW it       :  15%|\u001b[0;36m█▍        \u001b[0;36m| 320/2155 [00:09<01:41, 18.16it/s]"
     ]
    },
    {
     "name": "stderr",
     "output_type": "stream",
     "text": [
      "\r",
      "\u001b[1;34m￨ stanza 26, line 09: till WHA tsoe V er STAR that GUIDES my MO ving         :  15%|\u001b[0;36m█▍        \u001b[0;36m| 320/2155 [00:09<01:41, 18.16it/s]"
     ]
    },
    {
     "name": "stderr",
     "output_type": "stream",
     "text": [
      "\r",
      "\u001b[1;34m￨ stanza 26, line 10: POINTS on.me GRA cio USLY with FAIR as PECT            :  15%|\u001b[0;36m█▍        \u001b[0;36m| 320/2155 [00:09<01:41, 18.16it/s]"
     ]
    },
    {
     "name": "stderr",
     "output_type": "stream",
     "text": [
      "\r",
      "\u001b[1;34m￨ stanza 26, line 11: and PUTS ap PA rel ON my TAT ter'd LO ving             :  15%|\u001b[0;36m█▍        \u001b[0;36m| 320/2155 [00:09<01:41, 18.16it/s]"
     ]
    },
    {
     "name": "stderr",
     "output_type": "stream",
     "text": [
      "\r",
      "\u001b[1;34m￨ stanza 26, line 12: to SHOW me WORT hy OF thy SWEET res PECT               :  15%|\u001b[0;36m█▍        \u001b[0;36m| 320/2155 [00:09<01:41, 18.16it/s]"
     ]
    },
    {
     "name": "stderr",
     "output_type": "stream",
     "text": [
      "\r",
      "\u001b[1;34m￨ stanza 26, line 13: THEN may.i DARE to BOAST how I do LOVE thee            :  15%|\u001b[0;36m█▍        \u001b[0;36m| 320/2155 [00:09<01:41, 18.16it/s]"
     ]
    },
    {
     "name": "stderr",
     "output_type": "stream",
     "text": [
      "\r",
      "\u001b[1;34m￨ stanza 26, line 14: till THEN not SHOW my HEAD where THOU mayst PROVE me   :  15%|\u001b[0;36m█▍        \u001b[0;36m| 320/2155 [00:09<01:41, 18.16it/s]"
     ]
    },
    {
     "name": "stderr",
     "output_type": "stream",
     "text": [
      "\r",
      "\u001b[1;34m￨ stanza 27, line 01: WEA ry.with TOIL i HASTE me TO my BED                  :  15%|\u001b[0;36m█▍        \u001b[0;36m| 320/2155 [00:09<01:41, 18.16it/s]"
     ]
    },
    {
     "name": "stderr",
     "output_type": "stream",
     "text": [
      "\r",
      "\u001b[1;34m￨ stanza 27, line 02: the DEAR re POSE for LIMBS with TRA vel TI red         :  15%|\u001b[0;36m█▍        \u001b[0;36m| 320/2155 [00:09<01:41, 18.16it/s]"
     ]
    },
    {
     "name": "stderr",
     "output_type": "stream",
     "text": [
      "\r",
      "\u001b[1;34m￨ stanza 27, line 02: the DEAR re POSE for LIMBS with TRA vel TI red         :  17%|\u001b[0;36m█▋        \u001b[0;36m| 366/2155 [00:09<00:36, 49.20it/s]"
     ]
    },
    {
     "name": "stderr",
     "output_type": "stream",
     "text": [
      "\r",
      "\u001b[1;34m￨ stanza 27, line 03: but THEN be GINS a JOUR ney IN my HEAD                 :  17%|\u001b[0;36m█▋        \u001b[0;36m| 366/2155 [00:09<00:36, 49.20it/s]"
     ]
    },
    {
     "name": "stderr",
     "output_type": "stream",
     "text": [
      "\r",
      "\u001b[1;34m￨ stanza 27, line 04: to WORK my MIND when BO dy's WORK'S ex PIRED           :  17%|\u001b[0;36m█▋        \u001b[0;36m| 366/2155 [00:09<00:36, 49.20it/s]"
     ]
    },
    {
     "name": "stderr",
     "output_type": "stream",
     "text": [
      "\r",
      "\u001b[1;34m￨ stanza 27, line 05: for THEN my THOUGHTS from FAR where I a BIDE           :  17%|\u001b[0;36m█▋        \u001b[0;36m| 366/2155 [00:09<00:36, 49.20it/s]"
     ]
    },
    {
     "name": "stderr",
     "output_type": "stream",
     "text": [
      "\r",
      "\u001b[1;34m￨ stanza 27, line 06: in TEND a ZEA lous PIL gri MAGE to THEE                :  17%|\u001b[0;36m█▋        \u001b[0;36m| 366/2155 [00:09<00:36, 49.20it/s]"
     ]
    },
    {
     "name": "stderr",
     "output_type": "stream",
     "text": [
      "\r",
      "\u001b[1;34m￨ stanza 27, line 07: and KEEP my DROO ping EY elids O pen WIDE              :  17%|\u001b[0;36m█▋        \u001b[0;36m| 366/2155 [00:09<00:36, 49.20it/s]"
     ]
    },
    {
     "name": "stderr",
     "output_type": "stream",
     "text": [
      "\r",
      "\u001b[1;34m￨ stanza 27, line 08: LOO.KING on DAR kness WHICH the BLIND do SEE           :  17%|\u001b[0;36m█▋        \u001b[0;36m| 366/2155 [00:09<00:36, 49.20it/s]"
     ]
    },
    {
     "name": "stderr",
     "output_type": "stream",
     "text": [
      "\r",
      "\u001b[1;34m￨ stanza 27, line 09: SAVE that.my SOUL'S i MA gi NA ry SIGHT                :  17%|\u001b[0;36m█▋        \u001b[0;36m| 366/2155 [00:09<00:36, 49.20it/s]"
     ]
    },
    {
     "name": "stderr",
     "output_type": "stream",
     "text": [
      "\r",
      "\u001b[1;34m￨ stanza 27, line 10: pre SENTS thy SHA.DOW to.my SIGH tless VIEW            :  17%|\u001b[0;36m█▋        \u001b[0;36m| 366/2155 [00:09<00:36, 49.20it/s]"
     ]
    },
    {
     "name": "stderr",
     "output_type": "stream",
     "text": [
      "\r",
      "\u001b[1;34m￨ stanza 27, line 11: which LIKE a JE wel HUNG in GHAS tly NIGHT             :  17%|\u001b[0;36m█▋        \u001b[0;36m| 366/2155 [00:09<00:36, 49.20it/s]"
     ]
    },
    {
     "name": "stderr",
     "output_type": "stream",
     "text": [
      "\r",
      "\u001b[1;34m￨ stanza 27, line 12: makes BLACK night BEA uteous AND her OLD face NEW      :  17%|\u001b[0;36m█▋        \u001b[0;36m| 366/2155 [00:09<00:36, 49.20it/s]"
     ]
    },
    {
     "name": "stderr",
     "output_type": "stream",
     "text": [
      "\r",
      "\u001b[1;34m￨ stanza 27, line 13: lo THUS by DAY my LIMBS by NIGHT my MIND               :  17%|\u001b[0;36m█▋        \u001b[0;36m| 366/2155 [00:09<00:36, 49.20it/s]"
     ]
    },
    {
     "name": "stderr",
     "output_type": "stream",
     "text": [
      "\r",
      "\u001b[1;34m￨ stanza 27, line 14: for THEE and.for MY.SELF no QUI et FIND                :  17%|\u001b[0;36m█▋        \u001b[0;36m| 366/2155 [00:09<00:36, 49.20it/s]"
     ]
    },
    {
     "name": "stderr",
     "output_type": "stream",
     "text": [
      "\r",
      "\u001b[1;34m￨ stanza 28, line 01: how CAN i THEN re TURN in HAP py PLIGHT                :  17%|\u001b[0;36m█▋        \u001b[0;36m| 366/2155 [00:09<00:36, 49.20it/s]"
     ]
    },
    {
     "name": "stderr",
     "output_type": "stream",
     "text": [
      "\r",
      "\u001b[1;34m￨ stanza 28, line 02: that AM de BARR'D the BE ne FIT of REST                :  17%|\u001b[0;36m█▋        \u001b[0;36m| 366/2155 [00:09<00:36, 49.20it/s]"
     ]
    },
    {
     "name": "stderr",
     "output_type": "stream",
     "text": [
      "\r",
      "\u001b[1;34m￨ stanza 28, line 03: when DAY'S op PRES sion IS not EASED by NIGHT          :  17%|\u001b[0;36m█▋        \u001b[0;36m| 366/2155 [00:09<00:36, 49.20it/s]"
     ]
    },
    {
     "name": "stderr",
     "output_type": "stream",
     "text": [
      "\r",
      "\u001b[1;34m￨ stanza 28, line 04: but DAY by NIGHT and NIGHT by DAY op PRESS'D           :  17%|\u001b[0;36m█▋        \u001b[0;36m| 366/2155 [00:09<00:36, 49.20it/s]"
     ]
    },
    {
     "name": "stderr",
     "output_type": "stream",
     "text": [
      "\r",
      "\u001b[1;34m￨ stanza 28, line 05: and EACH though E ne MIES to EIT her's REIGN           :  17%|\u001b[0;36m█▋        \u001b[0;36m| 366/2155 [00:09<00:36, 49.20it/s]"
     ]
    },
    {
     "name": "stderr",
     "output_type": "stream",
     "text": [
      "\r",
      "\u001b[1;34m￨ stanza 28, line 06: do IN con SENT shake HANDS to TOR ture ME              :  17%|\u001b[0;36m█▋        \u001b[0;36m| 366/2155 [00:09<00:36, 49.20it/s]"
     ]
    },
    {
     "name": "stderr",
     "output_type": "stream",
     "text": [
      "\r",
      "\u001b[1;34m￨ stanza 28, line 06: do IN con SENT shake HANDS to TOR ture ME              :  18%|\u001b[0;36m█▊        \u001b[0;36m| 384/2155 [00:09<00:29, 59.65it/s]"
     ]
    },
    {
     "name": "stderr",
     "output_type": "stream",
     "text": [
      "\r",
      "\u001b[1;34m￨ stanza 28, line 07: the ONE by TOIL the OT her TO com PLAIN                :  18%|\u001b[0;36m█▊        \u001b[0;36m| 384/2155 [00:09<00:29, 59.65it/s]"
     ]
    },
    {
     "name": "stderr",
     "output_type": "stream",
     "text": [
      "\r",
      "\u001b[1;34m￨ stanza 28, line 08: how FAR i TOIL still FART her OFF from THEE            :  18%|\u001b[0;36m█▊        \u001b[0;36m| 384/2155 [00:09<00:29, 59.65it/s]"
     ]
    },
    {
     "name": "stderr",
     "output_type": "stream",
     "text": [
      "\r",
      "\u001b[1;34m￨ stanza 28, line 09: i TELL the DAY to PLEASE them THOU art BRIGHT          :  18%|\u001b[0;36m█▊        \u001b[0;36m| 384/2155 [00:09<00:29, 59.65it/s]"
     ]
    },
    {
     "name": "stderr",
     "output_type": "stream",
     "text": [
      "\r",
      "\u001b[1;34m￨ stanza 28, line 10: and DOST him GRACE when CLOUDS do BLOT the HEAVEN      :  18%|\u001b[0;36m█▊        \u001b[0;36m| 384/2155 [00:09<00:29, 59.65it/s]"
     ]
    },
    {
     "name": "stderr",
     "output_type": "stream",
     "text": [
      "\r",
      "\u001b[1;34m￨ stanza 28, line 11: so FLAT ter I the SWART com PLE xion'd NIGHT           :  18%|\u001b[0;36m█▊        \u001b[0;36m| 384/2155 [00:09<00:29, 59.65it/s]"
     ]
    },
    {
     "name": "stderr",
     "output_type": "stream",
     "text": [
      "\r",
      "\u001b[1;34m￨ stanza 28, line 12: when SPAR kling STARS twire NOT thou GILD'ST the E ven :  18%|\u001b[0;36m█▊        \u001b[0;36m| 384/2155 [00:09<00:29, 59.65it/s]"
     ]
    },
    {
     "name": "stderr",
     "output_type": "stream",
     "text": [
      "\r",
      "\u001b[1;34m￨ stanza 28, line 13: but DAY doth DAI ly DRAW my SOR rows LON ger           :  18%|\u001b[0;36m█▊        \u001b[0;36m| 384/2155 [00:09<00:29, 59.65it/s]"
     ]
    },
    {
     "name": "stderr",
     "output_type": "stream",
     "text": [
      "\r",
      "\u001b[1;34m￨ stanza 28, line 14: and NIGHT doth NIGH tly MAKE grief's STRENGTH seem STRO:  18%|\u001b[0;36m█▊        \u001b[0;36m| 384/2155 [00:09<00:29, 59.65it/s]"
     ]
    },
    {
     "name": "stderr",
     "output_type": "stream",
     "text": [
      "\r",
      "\u001b[1;34m￨ stanza 29, line 01: when IN dis GRACE with FOR tune AND men's EYES         :  18%|\u001b[0;36m█▊        \u001b[0;36m| 384/2155 [00:09<00:29, 59.65it/s]"
     ]
    },
    {
     "name": "stderr",
     "output_type": "stream",
     "text": [
      "\r",
      "\u001b[1;34m￨ stanza 29, line 02: i ALL a LONE be WEEP my OUT cast STATE                 :  18%|\u001b[0;36m█▊        \u001b[0;36m| 384/2155 [00:09<00:29, 59.65it/s]"
     ]
    },
    {
     "name": "stderr",
     "output_type": "stream",
     "text": [
      "\r",
      "\u001b[1;34m￨ stanza 29, line 03: and TROU ble DEAF heaven WITH my BOO tless CRIES       :  18%|\u001b[0;36m█▊        \u001b[0;36m| 384/2155 [00:09<00:29, 59.65it/s]"
     ]
    },
    {
     "name": "stderr",
     "output_type": "stream",
     "text": [
      "\r",
      "\u001b[1;34m￨ stanza 29, line 04: and LOOK u PON my SELF and CURSE my FATE               :  18%|\u001b[0;36m█▊        \u001b[0;36m| 384/2155 [00:09<00:29, 59.65it/s]"
     ]
    },
    {
     "name": "stderr",
     "output_type": "stream",
     "text": [
      "\r",
      "\u001b[1;34m￨ stanza 29, line 05: WIS hing ME like TO one.more RICH in HOPE              :  18%|\u001b[0;36m█▊        \u001b[0;36m| 384/2155 [00:09<00:29, 59.65it/s]"
     ]
    },
    {
     "name": "stderr",
     "output_type": "stream",
     "text": [
      "\r",
      "\u001b[1;34m￨ stanza 29, line 06: FEA tured LIKE him.like HIM with FRIENDS pos SESS'D    :  18%|\u001b[0;36m█▊        \u001b[0;36m| 384/2155 [00:09<00:29, 59.65it/s]"
     ]
    },
    {
     "name": "stderr",
     "output_type": "stream",
     "text": [
      "\r",
      "\u001b[1;34m￨ stanza 29, line 07: de SI ri NG this MAN'S art.and THAT man's SCOPE        :  18%|\u001b[0;36m█▊        \u001b[0;36m| 384/2155 [00:09<00:29, 59.65it/s]"
     ]
    },
    {
     "name": "stderr",
     "output_type": "stream",
     "text": [
      "\r",
      "\u001b[1;34m￨ stanza 29, line 08: with WHAT i MOST en JOY con TEN ted LEAST              :  18%|\u001b[0;36m█▊        \u001b[0;36m| 384/2155 [00:09<00:29, 59.65it/s]"
     ]
    },
    {
     "name": "stderr",
     "output_type": "stream",
     "text": [
      "\r",
      "\u001b[1;34m￨ stanza 29, line 08: with WHAT i MOST en JOY con TEN ted LEAST              :  19%|\u001b[0;36m█▊        \u001b[0;36m| 400/2155 [00:09<00:26, 65.30it/s]"
     ]
    },
    {
     "name": "stderr",
     "output_type": "stream",
     "text": [
      "\r",
      "\u001b[1;34m￨ stanza 29, line 09: yet IN these THOUGHTS my SELF al MOST des PI sing      :  19%|\u001b[0;36m█▊        \u001b[0;36m| 400/2155 [00:09<00:26, 65.30it/s]"
     ]
    },
    {
     "name": "stderr",
     "output_type": "stream",
     "text": [
      "\r",
      "\u001b[1;34m￨ stanza 29, line 10: HA.PLY i THINK on THEE and THEN my STATE               :  19%|\u001b[0;36m█▊        \u001b[0;36m| 400/2155 [00:09<00:26, 65.30it/s]"
     ]
    },
    {
     "name": "stderr",
     "output_type": "stream",
     "text": [
      "\r",
      "\u001b[1;34m￨ stanza 29, line 11: LIKE to.the LARK at BREAK of DAY a RI sing             :  19%|\u001b[0;36m█▊        \u001b[0;36m| 400/2155 [00:09<00:26, 65.30it/s]"
     ]
    },
    {
     "name": "stderr",
     "output_type": "stream",
     "text": [
      "\r",
      "\u001b[1;34m￨ stanza 29, line 12: from SUL len EARTH sings HYMNS at HEA ven's GATE       :  19%|\u001b[0;36m█▊        \u001b[0;36m| 400/2155 [00:09<00:26, 65.30it/s]"
     ]
    },
    {
     "name": "stderr",
     "output_type": "stream",
     "text": [
      "\r",
      "\u001b[1;34m￨ stanza 29, line 13: for THY sweet LOVE re MEM ber'd SUCH wealth BRINGS     :  19%|\u001b[0;36m█▊        \u001b[0;36m| 400/2155 [00:09<00:26, 65.30it/s]"
     ]
    },
    {
     "name": "stderr",
     "output_type": "stream",
     "text": [
      "\r",
      "\u001b[1;34m￨ stanza 29, line 14: that THEN i SCORN to CHANGE my STATE with KINGS        :  19%|\u001b[0;36m█▊        \u001b[0;36m| 400/2155 [00:09<00:26, 65.30it/s]"
     ]
    },
    {
     "name": "stderr",
     "output_type": "stream",
     "text": [
      "\r",
      "\u001b[1;34m￨ stanza 30, line 01: WHEN to.the SES sions OF sweet SI lent THOUGHT         :  19%|\u001b[0;36m█▊        \u001b[0;36m| 400/2155 [00:09<00:26, 65.30it/s]"
     ]
    },
    {
     "name": "stderr",
     "output_type": "stream",
     "text": [
      "\r",
      "\u001b[1;34m￨ stanza 30, line 02: i SUM mon UP re MEM brance OF things PAST              :  19%|\u001b[0;36m█▊        \u001b[0;36m| 400/2155 [00:09<00:26, 65.30it/s]"
     ]
    },
    {
     "name": "stderr",
     "output_type": "stream",
     "text": [
      "\r",
      "\u001b[1;34m￨ stanza 30, line 03: i SIGH the LACK of MA.NY a THING i SOUGHT              :  19%|\u001b[0;36m█▊        \u001b[0;36m| 400/2155 [00:09<00:26, 65.30it/s]"
     ]
    },
    {
     "name": "stderr",
     "output_type": "stream",
     "text": [
      "\r",
      "\u001b[1;34m￨ stanza 30, line 04: and.with OLD woes NEW.WAIL my DEAR time's WASTE        :  19%|\u001b[0;36m█▊        \u001b[0;36m| 400/2155 [00:09<00:26, 65.30it/s]"
     ]
    },
    {
     "name": "stderr",
     "output_type": "stream",
     "text": [
      "\r",
      "\u001b[1;34m￨ stanza 30, line 05: THEN can.i DROWN an EYE u NUSED to FLOW                :  19%|\u001b[0;36m█▊        \u001b[0;36m| 400/2155 [00:09<00:26, 65.30it/s]"
     ]
    },
    {
     "name": "stderr",
     "output_type": "stream",
     "text": [
      "\r",
      "\u001b[1;34m￨ stanza 30, line 06: for PRE cious FRIENDS hid IN death's DA teless NIGHT   :  19%|\u001b[0;36m█▊        \u001b[0;36m| 400/2155 [00:09<00:26, 65.30it/s]"
     ]
    },
    {
     "name": "stderr",
     "output_type": "stream",
     "text": [
      "\r",
      "\u001b[1;34m￨ stanza 30, line 07: and WEEP a FRESH love's LONG since CAN cell'd WOE      :  19%|\u001b[0;36m█▊        \u001b[0;36m| 400/2155 [00:09<00:26, 65.30it/s]"
     ]
    },
    {
     "name": "stderr",
     "output_type": "stream",
     "text": [
      "\r",
      "\u001b[1;34m￨ stanza 30, line 08: and MOAN the EX.PENSE of MA.NY a VA nish'd SIGHT       :  19%|\u001b[0;36m█▊        \u001b[0;36m| 400/2155 [00:09<00:26, 65.30it/s]"
     ]
    },
    {
     "name": "stderr",
     "output_type": "stream",
     "text": [
      "\r",
      "\u001b[1;34m￨ stanza 30, line 09: THEN can.i GRIEVE at GRIE van CES fo REGONE            :  19%|\u001b[0;36m█▊        \u001b[0;36m| 400/2155 [00:09<00:26, 65.30it/s]"
     ]
    },
    {
     "name": "stderr",
     "output_type": "stream",
     "text": [
      "\r",
      "\u001b[1;34m￨ stanza 30, line 10: and HEA vi LY from WOE to WOE tell O'ER                :  19%|\u001b[0;36m█▊        \u001b[0;36m| 400/2155 [00:10<00:26, 65.30it/s]"
     ]
    },
    {
     "name": "stderr",
     "output_type": "stream",
     "text": [
      "\r",
      "\u001b[1;34m￨ stanza 30, line 10: and HEA vi LY from WOE to WOE tell O'ER                :  19%|\u001b[0;36m█▉        \u001b[0;36m| 416/2155 [00:10<00:36, 47.72it/s]"
     ]
    },
    {
     "name": "stderr",
     "output_type": "stream",
     "text": [
      "\r",
      "\u001b[1;34m￨ stanza 30, line 11: the SAD ac COUNT of FORE be MOANED moan                :  19%|\u001b[0;36m█▉        \u001b[0;36m| 416/2155 [00:10<00:36, 47.72it/s]"
     ]
    },
    {
     "name": "stderr",
     "output_type": "stream",
     "text": [
      "\r",
      "\u001b[1;34m￨ stanza 30, line 12: which I new PAY as IF not PAID be FORE                 :  19%|\u001b[0;36m█▉        \u001b[0;36m| 416/2155 [00:10<00:36, 47.72it/s]"
     ]
    },
    {
     "name": "stderr",
     "output_type": "stream",
     "text": [
      "\r",
      "\u001b[1;34m￨ stanza 30, line 13: but IF the WHILE i THINK on THEE dear FRIEND           :  19%|\u001b[0;36m█▉        \u001b[0;36m| 416/2155 [00:10<00:36, 47.72it/s]"
     ]
    },
    {
     "name": "stderr",
     "output_type": "stream",
     "text": [
      "\r",
      "\u001b[1;34m￨ stanza 30, line 14: all LOS ses ARE res TORED and SOR rows END             :  19%|\u001b[0;36m█▉        \u001b[0;36m| 416/2155 [00:10<00:36, 47.72it/s]"
     ]
    },
    {
     "name": "stderr",
     "output_type": "stream",
     "text": [
      "\r",
      "\u001b[1;34m￨ stanza 31, line 01: thy BO som IS en DEARED with.all HEARTS                :  19%|\u001b[0;36m█▉        \u001b[0;36m| 416/2155 [00:10<00:36, 47.72it/s]"
     ]
    },
    {
     "name": "stderr",
     "output_type": "stream",
     "text": [
      "\r",
      "\u001b[1;34m￨ stanza 31, line 02: which I by LAC king HAVE sup POSED dead                :  19%|\u001b[0;36m█▉        \u001b[0;36m| 416/2155 [00:10<00:36, 47.72it/s]"
     ]
    },
    {
     "name": "stderr",
     "output_type": "stream",
     "text": [
      "\r",
      "\u001b[1;34m￨ stanza 31, line 03: and THERE reigns LOVE and ALL love's LO ving PARTS     :  19%|\u001b[0;36m█▉        \u001b[0;36m| 416/2155 [00:10<00:36, 47.72it/s]"
     ]
    },
    {
     "name": "stderr",
     "output_type": "stream",
     "text": [
      "\r",
      "\u001b[1;34m￨ stanza 31, line 04: and ALL those FRIENDS which I thought BU ried          :  19%|\u001b[0;36m█▉        \u001b[0;36m| 416/2155 [00:10<00:36, 47.72it/s]"
     ]
    },
    {
     "name": "stderr",
     "output_type": "stream",
     "text": [
      "\r",
      "\u001b[1;34m￨ stanza 31, line 05: how MA.NY a HO ly AND o BSE qui.ous TEAR               :  19%|\u001b[0;36m█▉        \u001b[0;36m| 416/2155 [00:10<00:36, 47.72it/s]"
     ]
    },
    {
     "name": "stderr",
     "output_type": "stream",
     "text": [
      "\r",
      "\u001b[1;34m￨ stanza 31, line 06: hath DEAR re LI gious LOVE stol'n FROM mine EYE        :  19%|\u001b[0;36m█▉        \u001b[0;36m| 416/2155 [00:10<00:36, 47.72it/s]"
     ]
    },
    {
     "name": "stderr",
     "output_type": "stream",
     "text": [
      "\r",
      "\u001b[1;34m￨ stanza 31, line 07: as IN terest OF the DEAD which NOW ap PEAR             :  19%|\u001b[0;36m█▉        \u001b[0;36m| 416/2155 [00:10<00:36, 47.72it/s]"
     ]
    },
    {
     "name": "stderr",
     "output_type": "stream",
     "text": [
      "\r",
      "\u001b[1;34m￨ stanza 31, line 07: as IN terest OF the DEAD which NOW ap PEAR             :  20%|\u001b[0;36m█▉        \u001b[0;36m| 427/2155 [00:10<00:36, 47.56it/s]"
     ]
    },
    {
     "name": "stderr",
     "output_type": "stream",
     "text": [
      "\r",
      "\u001b[1;34m￨ stanza 31, line 08: but THINGS re MOVED that HID den IN thee LIE           :  20%|\u001b[0;36m█▉        \u001b[0;36m| 427/2155 [00:10<00:36, 47.56it/s]"
     ]
    },
    {
     "name": "stderr",
     "output_type": "stream",
     "text": [
      "\r",
      "\u001b[1;34m￨ stanza 31, line 09: thou ART the GRAVE where BU ried LOVE doth LIVE        :  20%|\u001b[0;36m█▉        \u001b[0;36m| 427/2155 [00:10<00:36, 47.56it/s]"
     ]
    },
    {
     "name": "stderr",
     "output_type": "stream",
     "text": [
      "\r",
      "\u001b[1;34m￨ stanza 31, line 10: HUNG with.the TROP hies OF my LO vers GONE             :  20%|\u001b[0;36m█▉        \u001b[0;36m| 427/2155 [00:10<00:36, 47.56it/s]"
     ]
    },
    {
     "name": "stderr",
     "output_type": "stream",
     "text": [
      "\r",
      "\u001b[1;34m￨ stanza 31, line 11: who ALL their PARTS of ME to THEE did GIVE             :  20%|\u001b[0;36m█▉        \u001b[0;36m| 427/2155 [00:10<00:36, 47.56it/s]"
     ]
    },
    {
     "name": "stderr",
     "output_type": "stream",
     "text": [
      "\r",
      "\u001b[1;34m￨ stanza 31, line 12: that DUE of MA ny NOW is THINE a LONE                  :  20%|\u001b[0;36m█▉        \u001b[0;36m| 427/2155 [00:10<00:36, 47.56it/s]"
     ]
    },
    {
     "name": "stderr",
     "output_type": "stream",
     "text": [
      "\r",
      "\u001b[1;34m￨ stanza 31, line 13: their I ma GES i LOVED i VIEW in THEE                  :  20%|\u001b[0;36m█▉        \u001b[0;36m| 427/2155 [00:10<00:36, 47.56it/s]"
     ]
    },
    {
     "name": "stderr",
     "output_type": "stream",
     "text": [
      "\r",
      "\u001b[1;34m￨ stanza 31, line 14: and THOU all THEY hast ALL the ALL of ME               :  20%|\u001b[0;36m█▉        \u001b[0;36m| 427/2155 [00:11<00:36, 47.56it/s]"
     ]
    },
    {
     "name": "stderr",
     "output_type": "stream",
     "text": [
      "\r",
      "\u001b[1;34m￨ stanza 32, line 01: if THOU sur VIVE my WELL con TEN ted DAY               :  20%|\u001b[0;36m█▉        \u001b[0;36m| 427/2155 [00:11<00:36, 47.56it/s]"
     ]
    },
    {
     "name": "stderr",
     "output_type": "stream",
     "text": [
      "\r",
      "\u001b[1;34m￨ stanza 32, line 02: when THAT churl DEATH my BONES with DUST shall CO ver  :  20%|\u001b[0;36m█▉        \u001b[0;36m| 427/2155 [00:11<00:36, 47.56it/s]"
     ]
    },
    {
     "name": "stderr",
     "output_type": "stream",
     "text": [
      "\r",
      "\u001b[1;34m￨ stanza 32, line 02: when THAT churl DEATH my BONES with DUST shall CO ver  :  20%|\u001b[0;36m██        \u001b[0;36m| 436/2155 [00:11<00:46, 37.30it/s]"
     ]
    },
    {
     "name": "stderr",
     "output_type": "stream",
     "text": [
      "\r",
      "\u001b[1;34m￨ stanza 32, line 03: and SHALT by FOR tune ONCE more RE sur VEY             :  20%|\u001b[0;36m██        \u001b[0;36m| 436/2155 [00:11<00:46, 37.30it/s]"
     ]
    },
    {
     "name": "stderr",
     "output_type": "stream",
     "text": [
      "\r",
      "\u001b[1;34m￨ stanza 32, line 04: these POOR rude LINES of THY de CEASED lo.ver          :  20%|\u001b[0;36m██        \u001b[0;36m| 436/2155 [00:11<00:46, 37.30it/s]"
     ]
    },
    {
     "name": "stderr",
     "output_type": "stream",
     "text": [
      "\r",
      "\u001b[1;34m￨ stanza 32, line 05: com PARE them WITH the BET te RING of.the TIME         :  20%|\u001b[0;36m██        \u001b[0;36m| 436/2155 [00:11<00:46, 37.30it/s]"
     ]
    },
    {
     "name": "stderr",
     "output_type": "stream",
     "text": [
      "\r",
      "\u001b[1;34m￨ stanza 32, line 06: and THOUGH they BE outs TRIPP'D by E very PEN          :  20%|\u001b[0;36m██        \u001b[0;36m| 436/2155 [00:11<00:46, 37.30it/s]"
     ]
    },
    {
     "name": "stderr",
     "output_type": "stream",
     "text": [
      "\r",
      "\u001b[1;34m￨ stanza 32, line 07: re SERVE them FOR my LOVE not FOR their RHYME          :  20%|\u001b[0;36m██        \u001b[0;36m| 436/2155 [00:11<00:46, 37.30it/s]"
     ]
    },
    {
     "name": "stderr",
     "output_type": "stream",
     "text": [
      "\r",
      "\u001b[1;34m￨ stanza 32, line 08: ex CEE ded BY the HEIGHT of HAP pi.er MEN              :  20%|\u001b[0;36m██        \u001b[0;36m| 436/2155 [00:11<00:46, 37.30it/s]"
     ]
    },
    {
     "name": "stderr",
     "output_type": "stream",
     "text": [
      "\r",
      "\u001b[1;34m￨ stanza 32, line 09: o.then VOUC hsafe ME but.this LO ving THOUGHT          :  20%|\u001b[0;36m██        \u001b[0;36m| 436/2155 [00:11<00:46, 37.30it/s]"
     ]
    },
    {
     "name": "stderr",
     "output_type": "stream",
     "text": [
      "\r",
      "\u001b[1;34m￨ stanza 32, line 10: 'HAD my FRIEND'S muse GROWN with.this GRO wing AGE     :  20%|\u001b[0;36m██        \u001b[0;36m| 436/2155 [00:11<00:46, 37.30it/s]"
     ]
    },
    {
     "name": "stderr",
     "output_type": "stream",
     "text": [
      "\r",
      "\u001b[1;34m￨ stanza 32, line 11: a DEA r.er BIRTH than THIS his LOVE had BROUGHT        :  20%|\u001b[0;36m██        \u001b[0;36m| 436/2155 [00:11<00:46, 37.30it/s]"
     ]
    },
    {
     "name": "stderr",
     "output_type": "stream",
     "text": [
      "\r",
      "\u001b[1;34m￨ stanza 32, line 12: to MARCH in RANKS of BET ter E qui PAGE                :  20%|\u001b[0;36m██        \u001b[0;36m| 436/2155 [00:11<00:46, 37.30it/s]"
     ]
    },
    {
     "name": "stderr",
     "output_type": "stream",
     "text": [
      "\r",
      "\u001b[1;34m￨ stanza 32, line 13: but SINCE he DIED and PO ets BET ter PROVE             :  20%|\u001b[0;36m██        \u001b[0;36m| 436/2155 [00:11<00:46, 37.30it/s]"
     ]
    },
    {
     "name": "stderr",
     "output_type": "stream",
     "text": [
      "\r",
      "\u001b[1;34m￨ stanza 32, line 14: THEIRS for.their STYLE i'll READ his FOR his LOVE      :  20%|\u001b[0;36m██        \u001b[0;36m| 436/2155 [00:11<00:46, 37.30it/s]"
     ]
    },
    {
     "name": "stderr",
     "output_type": "stream",
     "text": [
      "\r",
      "\u001b[1;34m￨ stanza 33, line 01: full MA.NY a GLO rio.us MOR ning HAVE i SEEN           :  20%|\u001b[0;36m██        \u001b[0;36m| 436/2155 [00:11<00:46, 37.30it/s]"
     ]
    },
    {
     "name": "stderr",
     "output_type": "stream",
     "text": [
      "\r",
      "\u001b[1;34m￨ stanza 33, line 01: full MA.NY a GLO rio.us MOR ning HAVE i SEEN           :  21%|\u001b[0;36m██        \u001b[0;36m| 449/2155 [00:11<00:50, 33.65it/s]"
     ]
    },
    {
     "name": "stderr",
     "output_type": "stream",
     "text": [
      "\r",
      "\u001b[1;34m￨ stanza 33, line 02: FLAT.TER the MOUN tain TOPS with SO vereign EYE        :  21%|\u001b[0;36m██        \u001b[0;36m| 449/2155 [00:11<00:50, 33.65it/s]"
     ]
    },
    {
     "name": "stderr",
     "output_type": "stream",
     "text": [
      "\r",
      "\u001b[1;34m￨ stanza 33, line 03: KIS.SING with GOL den FACE the MEA dows GREEN          :  21%|\u001b[0;36m██        \u001b[0;36m| 449/2155 [00:11<00:50, 33.65it/s]"
     ]
    },
    {
     "name": "stderr",
     "output_type": "stream",
     "text": [
      "\r",
      "\u001b[1;34m￨ stanza 33, line 04: GIL ding PALE.STREAMS with HEA ven.ly ALC he MY        :  21%|\u001b[0;36m██        \u001b[0;36m| 449/2155 [00:11<00:50, 33.65it/s]"
     ]
    },
    {
     "name": "stderr",
     "output_type": "stream",
     "text": [
      "\r",
      "\u001b[1;34m￨ stanza 33, line 05: a NON per MIT the BA sest CLOUDS to RIDE               :  21%|\u001b[0;36m██        \u001b[0;36m| 449/2155 [00:11<00:50, 33.65it/s]"
     ]
    },
    {
     "name": "stderr",
     "output_type": "stream",
     "text": [
      "\r",
      "\u001b[1;34m￨ stanza 33, line 06: with U gly RACK on HIS ce LES tial FACE                :  21%|\u001b[0;36m██        \u001b[0;36m| 449/2155 [00:11<00:50, 33.65it/s]"
     ]
    },
    {
     "name": "stderr",
     "output_type": "stream",
     "text": [
      "\r",
      "\u001b[1;34m￨ stanza 33, line 07: and.from THE for LORN.WORLD his VI sage HIDE           :  21%|\u001b[0;36m██        \u001b[0;36m| 449/2155 [00:11<00:50, 33.65it/s]"
     ]
    },
    {
     "name": "stderr",
     "output_type": "stream",
     "text": [
      "\r",
      "\u001b[1;34m￨ stanza 33, line 08: STEA.LING un SEEN to WEST with THIS dis GRACE          :  21%|\u001b[0;36m██        \u001b[0;36m| 449/2155 [00:11<00:50, 33.65it/s]"
     ]
    },
    {
     "name": "stderr",
     "output_type": "stream",
     "text": [
      "\r",
      "\u001b[1;34m￨ stanza 33, line 09: E ven SO my SUN one EAR ly MORN did SHINE              :  21%|\u001b[0;36m██        \u001b[0;36m| 449/2155 [00:11<00:50, 33.65it/s]"
     ]
    },
    {
     "name": "stderr",
     "output_type": "stream",
     "text": [
      "\r",
      "\u001b[1;34m￨ stanza 33, line 10: with ALL triump HA nt SPLEN dor ON my BROW             :  21%|\u001b[0;36m██        \u001b[0;36m| 449/2155 [00:11<00:50, 33.65it/s]"
     ]
    },
    {
     "name": "stderr",
     "output_type": "stream",
     "text": [
      "\r",
      "\u001b[1;34m￨ stanza 33, line 11: but OUT a LACK he WAS but.one HOUR mine                :  21%|\u001b[0;36m██        \u001b[0;36m| 449/2155 [00:11<00:50, 33.65it/s]"
     ]
    },
    {
     "name": "stderr",
     "output_type": "stream",
     "text": [
      "\r",
      "\u001b[1;34m￨ stanza 33, line 12: the RE gion CLOUD hath MASK'D him FROM me NOW          :  21%|\u001b[0;36m██        \u001b[0;36m| 449/2155 [00:11<00:50, 33.65it/s]"
     ]
    },
    {
     "name": "stderr",
     "output_type": "stream",
     "text": [
      "\r",
      "\u001b[1;34m￨ stanza 33, line 13: yet HIM for THIS my LOVE no WHIT dis DAI neth          :  21%|\u001b[0;36m██        \u001b[0;36m| 449/2155 [00:11<00:50, 33.65it/s]"
     ]
    },
    {
     "name": "stderr",
     "output_type": "stream",
     "text": [
      "\r",
      "\u001b[1;34m￨ stanza 33, line 14: SUNS of.the WORLD may STAIN when HEA ven's SUN.STAI net:  21%|\u001b[0;36m██        \u001b[0;36m| 449/2155 [00:11<00:50, 33.65it/s]"
     ]
    },
    {
     "name": "stderr",
     "output_type": "stream",
     "text": [
      "\r",
      "\u001b[1;34m￨ stanza 34, line 01: why DIDST thou PRO mise SUCH a BEA uteous DAY          :  21%|\u001b[0;36m██        \u001b[0;36m| 449/2155 [00:11<00:50, 33.65it/s]"
     ]
    },
    {
     "name": "stderr",
     "output_type": "stream",
     "text": [
      "\r",
      "\u001b[1;34m￨ stanza 34, line 02: and MAKE me TRA vel FORTH wit HOUT my CLOAK            :  21%|\u001b[0;36m██        \u001b[0;36m| 449/2155 [00:11<00:50, 33.65it/s]"
     ]
    },
    {
     "name": "stderr",
     "output_type": "stream",
     "text": [
      "\r",
      "\u001b[1;34m￨ stanza 34, line 03: to LET base CLOUDS o.'ertake ME in.my WAY              :  21%|\u001b[0;36m██        \u001b[0;36m| 449/2155 [00:11<00:50, 33.65it/s]"
     ]
    },
    {
     "name": "stderr",
     "output_type": "stream",
     "text": [
      "\r",
      "\u001b[1;34m￨ stanza 34, line 04: HI ding THY bra VE ry IN their ROT ten SMOKE           :  21%|\u001b[0;36m██        \u001b[0;36m| 449/2155 [00:11<00:50, 33.65it/s]"
     ]
    },
    {
     "name": "stderr",
     "output_type": "stream",
     "text": [
      "\r",
      "\u001b[1;34m￨ stanza 34, line 05: 'tis NOT e NOUGH that THROUGH the CLOUD thou BREAK     :  21%|\u001b[0;36m██        \u001b[0;36m| 449/2155 [00:11<00:50, 33.65it/s]"
     ]
    },
    {
     "name": "stderr",
     "output_type": "stream",
     "text": [
      "\r",
      "\u001b[1;34m￨ stanza 34, line 06: to DRY the RAIN on MY storm BEA ten FACE               :  21%|\u001b[0;36m██        \u001b[0;36m| 449/2155 [00:11<00:50, 33.65it/s]"
     ]
    },
    {
     "name": "stderr",
     "output_type": "stream",
     "text": [
      "\r",
      "\u001b[1;34m￨ stanza 34, line 07: for NO man WELL of SUCH a SALVE can SPEAK              :  21%|\u001b[0;36m██        \u001b[0;36m| 449/2155 [00:11<00:50, 33.65it/s]"
     ]
    },
    {
     "name": "stderr",
     "output_type": "stream",
     "text": [
      "\r",
      "\u001b[1;34m￨ stanza 34, line 08: that HEALS the WOUND and CURES not THE dis GRACE       :  21%|\u001b[0;36m██        \u001b[0;36m| 449/2155 [00:11<00:50, 33.65it/s]"
     ]
    },
    {
     "name": "stderr",
     "output_type": "stream",
     "text": [
      "\r",
      "\u001b[1;34m￨ stanza 34, line 08: that HEALS the WOUND and CURES not THE dis GRACE       :  22%|\u001b[0;36m██▏       \u001b[0;36m| 470/2155 [00:11<00:35, 48.13it/s]"
     ]
    },
    {
     "name": "stderr",
     "output_type": "stream",
     "text": [
      "\r",
      "\u001b[1;34m￨ stanza 34, line 09: nor CAN thy SHAME give PHY sic TO my GRIEF             :  22%|\u001b[0;36m██▏       \u001b[0;36m| 470/2155 [00:11<00:35, 48.13it/s]"
     ]
    },
    {
     "name": "stderr",
     "output_type": "stream",
     "text": [
      "\r",
      "\u001b[1;34m￨ stanza 34, line 10: though THOU re PENT yet I have STILL the LOSS          :  22%|\u001b[0;36m██▏       \u001b[0;36m| 470/2155 [00:11<00:35, 48.13it/s]"
     ]
    },
    {
     "name": "stderr",
     "output_type": "stream",
     "text": [
      "\r",
      "\u001b[1;34m￨ stanza 34, line 11: THE of FEN der's SOR row LENDS but WEAK re LIEF        :  22%|\u001b[0;36m██▏       \u001b[0;36m| 470/2155 [00:11<00:35, 48.13it/s]"
     ]
    },
    {
     "name": "stderr",
     "output_type": "stream",
     "text": [
      "\r",
      "\u001b[1;34m￨ stanza 34, line 12: to HIM that BEARS the STRONG of FEN ce's CROSS         :  22%|\u001b[0;36m██▏       \u001b[0;36m| 470/2155 [00:11<00:35, 48.13it/s]"
     ]
    },
    {
     "name": "stderr",
     "output_type": "stream",
     "text": [
      "\r",
      "\u001b[1;34m￨ stanza 34, line 13: AH but.those TEARS are PEARL which THY love SHEDS      :  22%|\u001b[0;36m██▏       \u001b[0;36m| 470/2155 [00:11<00:35, 48.13it/s]"
     ]
    },
    {
     "name": "stderr",
     "output_type": "stream",
     "text": [
      "\r",
      "\u001b[1;34m￨ stanza 34, line 14: and THEY are RICH and RAN som ALL ill DEEDS            :  22%|\u001b[0;36m██▏       \u001b[0;36m| 470/2155 [00:11<00:35, 48.13it/s]"
     ]
    },
    {
     "name": "stderr",
     "output_type": "stream",
     "text": [
      "\r",
      "\u001b[1;34m￨ stanza 35, line 01: NO more.be GRIEVED at THAT which THOU hast DONE        :  22%|\u001b[0;36m██▏       \u001b[0;36m| 470/2155 [00:16<00:35, 48.13it/s]"
     ]
    },
    {
     "name": "stderr",
     "output_type": "stream",
     "text": [
      "\r",
      "\u001b[1;34m￨ stanza 35, line 02: RO ses.have THORNS and SIL ver FOUN tains MUD          :  22%|\u001b[0;36m██▏       \u001b[0;36m| 470/2155 [00:16<00:35, 48.13it/s]"
     ]
    },
    {
     "name": "stderr",
     "output_type": "stream",
     "text": [
      "\r",
      "\u001b[1;34m￨ stanza 35, line 02: RO ses.have THORNS and SIL ver FOUN tains MUD          :  22%|\u001b[0;36m██▏       \u001b[0;36m| 478/2155 [00:16<03:14,  8.64it/s]"
     ]
    },
    {
     "name": "stderr",
     "output_type": "stream",
     "text": [
      "\r",
      "\u001b[1;34m￨ stanza 35, line 03: clouds AND e CLI pses STAIN both MOON and SUN          :  22%|\u001b[0;36m██▏       \u001b[0;36m| 478/2155 [00:16<03:14,  8.64it/s]"
     ]
    },
    {
     "name": "stderr",
     "output_type": "stream",
     "text": [
      "\r",
      "\u001b[1;34m￨ stanza 35, line 04: and LOAT hsome CAN ker LIVES in SWEE test BUD          :  22%|\u001b[0;36m██▏       \u001b[0;36m| 478/2155 [00:16<03:14,  8.64it/s]"
     ]
    },
    {
     "name": "stderr",
     "output_type": "stream",
     "text": [
      "\r",
      "\u001b[1;34m￨ stanza 35, line 05: all MEN make FAULTS and E ven I in.this                :  22%|\u001b[0;36m██▏       \u001b[0;36m| 478/2155 [00:16<03:14,  8.64it/s]"
     ]
    },
    {
     "name": "stderr",
     "output_type": "stream",
     "text": [
      "\r",
      "\u001b[1;34m￨ stanza 35, line 06: AUT ho RI zing.thy TRES pass WITH com PARE             :  22%|\u001b[0;36m██▏       \u001b[0;36m| 478/2155 [00:16<03:14,  8.64it/s]"
     ]
    },
    {
     "name": "stderr",
     "output_type": "stream",
     "text": [
      "\r",
      "\u001b[1;34m￨ stanza 35, line 07: my SELF cor RUP ting SAL ving THY a MISS               :  22%|\u001b[0;36m██▏       \u001b[0;36m| 478/2155 [00:16<03:14,  8.64it/s]"
     ]
    },
    {
     "name": "stderr",
     "output_type": "stream",
     "text": [
      "\r",
      "\u001b[1;34m￨ stanza 35, line 08: ex CU sing THY sins MORE than.thy SINS are             :  22%|\u001b[0;36m██▏       \u001b[0;36m| 478/2155 [00:16<03:14,  8.64it/s]"
     ]
    },
    {
     "name": "stderr",
     "output_type": "stream",
     "text": [
      "\r",
      "\u001b[1;34m￨ stanza 35, line 09: for TO thy SEN su.al FAULT i BRING in SENSE            :  22%|\u001b[0;36m██▏       \u001b[0;36m| 478/2155 [00:16<03:14,  8.64it/s]"
     ]
    },
    {
     "name": "stderr",
     "output_type": "stream",
     "text": [
      "\r",
      "\u001b[1;34m￨ stanza 35, line 10: thy A dverse PAR ty IS thy A dvo CATE                  :  22%|\u001b[0;36m██▏       \u001b[0;36m| 478/2155 [00:16<03:14,  8.64it/s]"
     ]
    },
    {
     "name": "stderr",
     "output_type": "stream",
     "text": [
      "\r",
      "\u001b[1;34m￨ stanza 35, line 11: and 'GAINST my SELF a LAW ful PLEA com MENCE           :  22%|\u001b[0;36m██▏       \u001b[0;36m| 478/2155 [00:16<03:14,  8.64it/s]"
     ]
    },
    {
     "name": "stderr",
     "output_type": "stream",
     "text": [
      "\r",
      "\u001b[1;34m￨ stanza 35, line 12: such CI vil WAR is IN my LOVE and HATE                 :  22%|\u001b[0;36m██▏       \u001b[0;36m| 478/2155 [00:16<03:14,  8.64it/s]"
     ]
    },
    {
     "name": "stderr",
     "output_type": "stream",
     "text": [
      "\r",
      "\u001b[1;34m￨ stanza 35, line 13: that.i AN ac CES sa.ry NEEDS must BE                   :  22%|\u001b[0;36m██▏       \u001b[0;36m| 478/2155 [00:16<03:14,  8.64it/s]"
     ]
    },
    {
     "name": "stderr",
     "output_type": "stream",
     "text": [
      "\r",
      "\u001b[1;34m￨ stanza 35, line 14: to THAT sweet THIEF which SOUR ly ROBS from ME         :  22%|\u001b[0;36m██▏       \u001b[0;36m| 478/2155 [00:16<03:14,  8.64it/s]"
     ]
    },
    {
     "name": "stderr",
     "output_type": "stream",
     "text": [
      "\r",
      "\u001b[1;34m￨ stanza 36, line 01: let ME con FESS that.we TWO must.be TWAIN              :  22%|\u001b[0;36m██▏       \u001b[0;36m| 478/2155 [00:16<03:14,  8.64it/s]"
     ]
    },
    {
     "name": "stderr",
     "output_type": "stream",
     "text": [
      "\r",
      "\u001b[1;34m￨ stanza 36, line 02: alt HOUGH our UN di VI ded LOVES are.one               :  22%|\u001b[0;36m██▏       \u001b[0;36m| 478/2155 [00:16<03:14,  8.64it/s]"
     ]
    },
    {
     "name": "stderr",
     "output_type": "stream",
     "text": [
      "\r",
      "\u001b[1;34m￨ stanza 36, line 03: so SHALL those BLOTS that DO with ME re MAIN           :  22%|\u001b[0;36m██▏       \u001b[0;36m| 478/2155 [00:16<03:14,  8.64it/s]"
     ]
    },
    {
     "name": "stderr",
     "output_type": "stream",
     "text": [
      "\r",
      "\u001b[1;34m￨ stanza 36, line 04: wit HOUT thy HELP by ME be BORNE a LONE                :  22%|\u001b[0;36m██▏       \u001b[0;36m| 478/2155 [00:16<03:14,  8.64it/s]"
     ]
    },
    {
     "name": "stderr",
     "output_type": "stream",
     "text": [
      "\r",
      "\u001b[1;34m￨ stanza 36, line 05: in.our TWO loves THERE is.but ONE res PECT             :  22%|\u001b[0;36m██▏       \u001b[0;36m| 478/2155 [00:16<03:14,  8.64it/s]"
     ]
    },
    {
     "name": "stderr",
     "output_type": "stream",
     "text": [
      "\r",
      "\u001b[1;34m￨ stanza 36, line 06: though IN our LIVES a SE pa RA ble SPITE               :  22%|\u001b[0;36m██▏       \u001b[0;36m| 478/2155 [00:16<03:14,  8.64it/s]"
     ]
    },
    {
     "name": "stderr",
     "output_type": "stream",
     "text": [
      "\r",
      "\u001b[1;34m￨ stanza 36, line 07: WHICH though.it AL ter NOT love's SOLE ef FECT         :  22%|\u001b[0;36m██▏       \u001b[0;36m| 478/2155 [00:16<03:14,  8.64it/s]"
     ]
    },
    {
     "name": "stderr",
     "output_type": "stream",
     "text": [
      "\r",
      "\u001b[1;34m￨ stanza 36, line 08: YET doth.it STEAL sweet HOURS from LOVE'S de LIGHT     :  22%|\u001b[0;36m██▏       \u001b[0;36m| 478/2155 [00:16<03:14,  8.64it/s]"
     ]
    },
    {
     "name": "stderr",
     "output_type": "stream",
     "text": [
      "\r",
      "\u001b[1;34m￨ stanza 36, line 09: I may.not E ver MORE ac KNOW ledge THEE                :  22%|\u001b[0;36m██▏       \u001b[0;36m| 478/2155 [00:16<03:14,  8.64it/s]"
     ]
    },
    {
     "name": "stderr",
     "output_type": "stream",
     "text": [
      "\r",
      "\u001b[1;34m￨ stanza 36, line 10: lest MY be WAILED guilt SHOULD do.thee SHAME           :  22%|\u001b[0;36m██▏       \u001b[0;36m| 478/2155 [00:16<03:14,  8.64it/s]"
     ]
    },
    {
     "name": "stderr",
     "output_type": "stream",
     "text": [
      "\r",
      "\u001b[1;34m￨ stanza 36, line 11: nor THOU with PU blic KIN dness HO nour ME             :  22%|\u001b[0;36m██▏       \u001b[0;36m| 478/2155 [00:16<03:14,  8.64it/s]"
     ]
    },
    {
     "name": "stderr",
     "output_type": "stream",
     "text": [
      "\r",
      "\u001b[1;34m￨ stanza 36, line 12: un LESS thou TAKE that HO nour FROM thy NAME           :  22%|\u001b[0;36m██▏       \u001b[0;36m| 478/2155 [00:16<03:14,  8.64it/s]"
     ]
    },
    {
     "name": "stderr",
     "output_type": "stream",
     "text": [
      "\r",
      "\u001b[1;34m￨ stanza 36, line 13: but.do NOT so.i LOVE thee IN such SORT                 :  22%|\u001b[0;36m██▏       \u001b[0;36m| 478/2155 [00:16<03:14,  8.64it/s]"
     ]
    },
    {
     "name": "stderr",
     "output_type": "stream",
     "text": [
      "\r",
      "\u001b[1;34m￨ stanza 36, line 14: as.thou BE ing MINE mine IS thy GOOD re PORT           :  22%|\u001b[0;36m██▏       \u001b[0;36m| 478/2155 [00:16<03:14,  8.64it/s]"
     ]
    },
    {
     "name": "stderr",
     "output_type": "stream",
     "text": [
      "\r",
      "\u001b[1;34m￨ stanza 37, line 01: as A de CRE pit FAT her TAKES de LIGHT                 :  22%|\u001b[0;36m██▏       \u001b[0;36m| 478/2155 [00:16<03:14,  8.64it/s]"
     ]
    },
    {
     "name": "stderr",
     "output_type": "stream",
     "text": [
      "\r",
      "\u001b[1;34m￨ stanza 37, line 02: to SEE his AC tive CHILD do DEEDS of YOUTH             :  22%|\u001b[0;36m██▏       \u001b[0;36m| 478/2155 [00:16<03:14,  8.64it/s]"
     ]
    },
    {
     "name": "stderr",
     "output_type": "stream",
     "text": [
      "\r",
      "\u001b[1;34m￨ stanza 37, line 03: so I made LAME by FOR tune's DEA rest SPITE            :  22%|\u001b[0;36m██▏       \u001b[0;36m| 478/2155 [00:16<03:14,  8.64it/s]"
     ]
    },
    {
     "name": "stderr",
     "output_type": "stream",
     "text": [
      "\r",
      "\u001b[1;34m￨ stanza 37, line 04: TAKE all.my COM fort OF thy WORTH and TRUTH            :  22%|\u001b[0;36m██▏       \u001b[0;36m| 478/2155 [00:16<03:14,  8.64it/s]"
     ]
    },
    {
     "name": "stderr",
     "output_type": "stream",
     "text": [
      "\r",
      "\u001b[1;34m￨ stanza 37, line 05: for WHET her BEA uty BIRTH or WEALTH or WIT            :  22%|\u001b[0;36m██▏       \u001b[0;36m| 478/2155 [00:16<03:14,  8.64it/s]"
     ]
    },
    {
     "name": "stderr",
     "output_type": "stream",
     "text": [
      "\r",
      "\u001b[1;34m￨ stanza 37, line 06: or A ny OF these ALL or ALL or MORE                    :  22%|\u001b[0;36m██▏       \u001b[0;36m| 478/2155 [00:16<03:14,  8.64it/s]"
     ]
    },
    {
     "name": "stderr",
     "output_type": "stream",
     "text": [
      "\r",
      "\u001b[1;34m￨ stanza 37, line 07: en TI tled IN thy PARTS do CROWNED sit                 :  22%|\u001b[0;36m██▏       \u001b[0;36m| 478/2155 [00:16<03:14,  8.64it/s]"
     ]
    },
    {
     "name": "stderr",
     "output_type": "stream",
     "text": [
      "\r",
      "\u001b[1;34m￨ stanza 37, line 08: i MAKE my LOVE en GRAF ted TO this STORE               :  22%|\u001b[0;36m██▏       \u001b[0;36m| 478/2155 [00:16<03:14,  8.64it/s]"
     ]
    },
    {
     "name": "stderr",
     "output_type": "stream",
     "text": [
      "\r",
      "\u001b[1;34m￨ stanza 37, line 09: so.then I am.not LAME poor NOR des PISED               :  22%|\u001b[0;36m██▏       \u001b[0;36m| 478/2155 [00:16<03:14,  8.64it/s]"
     ]
    },
    {
     "name": "stderr",
     "output_type": "stream",
     "text": [
      "\r",
      "\u001b[1;34m￨ stanza 37, line 10: WHILST that.this SHA.DOW doth.such SUBS tance GIVE     :  22%|\u001b[0;36m██▏       \u001b[0;36m| 478/2155 [00:16<03:14,  8.64it/s]"
     ]
    },
    {
     "name": "stderr",
     "output_type": "stream",
     "text": [
      "\r",
      "\u001b[1;34m￨ stanza 37, line 11: that I in THY a BUN dance AM suf FICED                 :  22%|\u001b[0;36m██▏       \u001b[0;36m| 478/2155 [00:16<03:14,  8.64it/s]"
     ]
    },
    {
     "name": "stderr",
     "output_type": "stream",
     "text": [
      "\r",
      "\u001b[1;34m￨ stanza 37, line 12: and BY a PART of ALL thy GLO ry LIVE                   :  22%|\u001b[0;36m██▏       \u001b[0;36m| 478/2155 [00:16<03:14,  8.64it/s]"
     ]
    },
    {
     "name": "stderr",
     "output_type": "stream",
     "text": [
      "\r",
      "\u001b[1;34m￨ stanza 37, line 13: LOOK what.is BEST that BEST i WISH in THEE             :  22%|\u001b[0;36m██▏       \u001b[0;36m| 478/2155 [00:16<03:14,  8.64it/s]"
     ]
    },
    {
     "name": "stderr",
     "output_type": "stream",
     "text": [
      "\r",
      "\u001b[1;34m￨ stanza 37, line 14: this WISH i HAVE then TEN times HAP py ME              :  22%|\u001b[0;36m██▏       \u001b[0;36m| 478/2155 [00:16<03:14,  8.64it/s]"
     ]
    },
    {
     "name": "stderr",
     "output_type": "stream",
     "text": [
      "\r",
      "\u001b[1;34m￨ stanza 38, line 01: how CAN my MUSE want SUB ject TO in VENT               :  22%|\u001b[0;36m██▏       \u001b[0;36m| 478/2155 [00:16<03:14,  8.64it/s]"
     ]
    },
    {
     "name": "stderr",
     "output_type": "stream",
     "text": [
      "\r",
      "\u001b[1;34m￨ stanza 38, line 02: while THOU dost BREATHE that POUR'ST in TO my VERSE    :  22%|\u001b[0;36m██▏       \u001b[0;36m| 478/2155 [00:16<03:14,  8.64it/s]"
     ]
    },
    {
     "name": "stderr",
     "output_type": "stream",
     "text": [
      "\r",
      "\u001b[1;34m￨ stanza 38, line 03: thine OWN sweet AR gu MENT too EX cel LENT             :  22%|\u001b[0;36m██▏       \u001b[0;36m| 478/2155 [00:16<03:14,  8.64it/s]"
     ]
    },
    {
     "name": "stderr",
     "output_type": "stream",
     "text": [
      "\r",
      "\u001b[1;34m￨ stanza 38, line 04: for E very VUL gar PA per TO re HEARSE                 :  22%|\u001b[0;36m██▏       \u001b[0;36m| 478/2155 [00:16<03:14,  8.64it/s]"
     ]
    },
    {
     "name": "stderr",
     "output_type": "stream",
     "text": [
      "\r",
      "\u001b[1;34m￨ stanza 38, line 04: for E very VUL gar PA per TO re HEARSE                 :  24%|\u001b[0;36m██▍       \u001b[0;36m| 522/2155 [00:16<01:20, 20.18it/s]"
     ]
    },
    {
     "name": "stderr",
     "output_type": "stream",
     "text": [
      "\r",
      "\u001b[1;34m￨ stanza 38, line 05: o GIVE thy SELF the THANKS if AUGHT in ME              :  24%|\u001b[0;36m██▍       \u001b[0;36m| 522/2155 [00:16<01:20, 20.18it/s]"
     ]
    },
    {
     "name": "stderr",
     "output_type": "stream",
     "text": [
      "\r",
      "\u001b[1;34m￨ stanza 38, line 06: WORT hy PE.RU sal STAND a GAINST thy SIGHT             :  24%|\u001b[0;36m██▍       \u001b[0;36m| 522/2155 [00:16<01:20, 20.18it/s]"
     ]
    },
    {
     "name": "stderr",
     "output_type": "stream",
     "text": [
      "\r",
      "\u001b[1;34m￨ stanza 38, line 07: for WHO'S so DUMB that CAN not WRITE to THEE           :  24%|\u001b[0;36m██▍       \u001b[0;36m| 522/2155 [00:16<01:20, 20.18it/s]"
     ]
    },
    {
     "name": "stderr",
     "output_type": "stream",
     "text": [
      "\r",
      "\u001b[1;34m￨ stanza 38, line 08: when THOU thy SELF dost GIVE in VEN tion LIGHT         :  24%|\u001b[0;36m██▍       \u001b[0;36m| 522/2155 [00:16<01:20, 20.18it/s]"
     ]
    },
    {
     "name": "stderr",
     "output_type": "stream",
     "text": [
      "\r",
      "\u001b[1;34m￨ stanza 38, line 09: be THOU the TENTH muse TEN times MORE in WORTH         :  24%|\u001b[0;36m██▍       \u001b[0;36m| 522/2155 [00:16<01:20, 20.18it/s]"
     ]
    },
    {
     "name": "stderr",
     "output_type": "stream",
     "text": [
      "\r",
      "\u001b[1;34m￨ stanza 38, line 10: than THOSE old NINE which RHY mers IN.VO cate          :  24%|\u001b[0;36m██▍       \u001b[0;36m| 522/2155 [00:16<01:20, 20.18it/s]"
     ]
    },
    {
     "name": "stderr",
     "output_type": "stream",
     "text": [
      "\r",
      "\u001b[1;34m￨ stanza 38, line 11: and HE that CALLS on.thee LET him BRING forth          :  24%|\u001b[0;36m██▍       \u001b[0;36m| 522/2155 [00:16<01:20, 20.18it/s]"
     ]
    },
    {
     "name": "stderr",
     "output_type": "stream",
     "text": [
      "\r",
      "\u001b[1;34m￨ stanza 38, line 12: e TER nal NUM bers TO ou TLIVE long DATE               :  24%|\u001b[0;36m██▍       \u001b[0;36m| 522/2155 [00:16<01:20, 20.18it/s]"
     ]
    },
    {
     "name": "stderr",
     "output_type": "stream",
     "text": [
      "\r",
      "\u001b[1;34m￨ stanza 38, line 13: if MY slight MUSE do PLEASE these CU rio.us DAYS       :  24%|\u001b[0;36m██▍       \u001b[0;36m| 522/2155 [00:16<01:20, 20.18it/s]"
     ]
    },
    {
     "name": "stderr",
     "output_type": "stream",
     "text": [
      "\r",
      "\u001b[1;34m￨ stanza 38, line 14: the PAIN be.mine BUT thine.shall BE the PRAISE         :  24%|\u001b[0;36m██▍       \u001b[0;36m| 522/2155 [00:16<01:20, 20.18it/s]"
     ]
    },
    {
     "name": "stderr",
     "output_type": "stream",
     "text": [
      "\r",
      "\u001b[1;34m￨ stanza 39, line 01: o HOW thy WORTH with MAN ners MAY i SING               :  24%|\u001b[0;36m██▍       \u001b[0;36m| 522/2155 [00:16<01:20, 20.18it/s]"
     ]
    },
    {
     "name": "stderr",
     "output_type": "stream",
     "text": [
      "\r",
      "\u001b[1;34m￨ stanza 39, line 02: when THOU art ALL the BET ter PART of ME               :  24%|\u001b[0;36m██▍       \u001b[0;36m| 522/2155 [00:16<01:20, 20.18it/s]"
     ]
    },
    {
     "name": "stderr",
     "output_type": "stream",
     "text": [
      "\r",
      "\u001b[1;34m￨ stanza 39, line 03: WHAT can MINE own PRAISE to.mine OWN self BRING        :  24%|\u001b[0;36m██▍       \u001b[0;36m| 522/2155 [00:16<01:20, 20.18it/s]"
     ]
    },
    {
     "name": "stderr",
     "output_type": "stream",
     "text": [
      "\r",
      "\u001b[1;34m￨ stanza 39, line 04: and.what IS 't BUT mine.own WHEN i PRAISE thee         :  24%|\u001b[0;36m██▍       \u001b[0;36m| 522/2155 [00:16<01:20, 20.18it/s]"
     ]
    },
    {
     "name": "stderr",
     "output_type": "stream",
     "text": [
      "\r",
      "\u001b[1;34m￨ stanza 39, line 05: E ven FOR this LET us DI.VI ded LIVE                   :  24%|\u001b[0;36m██▍       \u001b[0;36m| 522/2155 [00:16<01:20, 20.18it/s]"
     ]
    },
    {
     "name": "stderr",
     "output_type": "stream",
     "text": [
      "\r",
      "\u001b[1;34m￨ stanza 39, line 06: and.our DEAR love LOSE.NAME of SIN gle ONE             :  24%|\u001b[0;36m██▍       \u001b[0;36m| 522/2155 [00:16<01:20, 20.18it/s]"
     ]
    },
    {
     "name": "stderr",
     "output_type": "stream",
     "text": [
      "\r",
      "\u001b[1;34m￨ stanza 39, line 07: THAT by.this SE pa RA tion I may GIVE                  :  24%|\u001b[0;36m██▍       \u001b[0;36m| 522/2155 [00:16<01:20, 20.18it/s]"
     ]
    },
    {
     "name": "stderr",
     "output_type": "stream",
     "text": [
      "\r",
      "\u001b[1;34m￨ stanza 39, line 08: that DUE to THEE which THOU de SER.VEST a LONE         :  24%|\u001b[0;36m██▍       \u001b[0;36m| 522/2155 [00:16<01:20, 20.18it/s]"
     ]
    },
    {
     "name": "stderr",
     "output_type": "stream",
     "text": [
      "\r",
      "\u001b[1;34m￨ stanza 39, line 09: o A bsence WHAT a TOR ment WOULDST thou PROVE          :  24%|\u001b[0;36m██▍       \u001b[0;36m| 522/2155 [00:16<01:20, 20.18it/s]"
     ]
    },
    {
     "name": "stderr",
     "output_type": "stream",
     "text": [
      "\r",
      "\u001b[1;34m￨ stanza 39, line 10: were.it NOT thy SO ur LEI sure GAVE sweet LEAVE        :  24%|\u001b[0;36m██▍       \u001b[0;36m| 522/2155 [00:16<01:20, 20.18it/s]"
     ]
    },
    {
     "name": "stderr",
     "output_type": "stream",
     "text": [
      "\r",
      "\u001b[1;34m￨ stanza 39, line 11: to EN ter TAIN the TIME with THOUGHTS of LOVE          :  24%|\u001b[0;36m██▍       \u001b[0;36m| 522/2155 [00:16<01:20, 20.18it/s]"
     ]
    },
    {
     "name": "stderr",
     "output_type": "stream",
     "text": [
      "\r",
      "\u001b[1;34m￨ stanza 39, line 12: which TIME and THOUGHTS so SWEE tly DOTH de CEIVE      :  24%|\u001b[0;36m██▍       \u001b[0;36m| 522/2155 [00:16<01:20, 20.18it/s]"
     ]
    },
    {
     "name": "stderr",
     "output_type": "stream",
     "text": [
      "\r",
      "\u001b[1;34m￨ stanza 39, line 13: and THAT thou TEAC hest HOW to MAKE one TWAIN          :  24%|\u001b[0;36m██▍       \u001b[0;36m| 522/2155 [00:16<01:20, 20.18it/s]"
     ]
    },
    {
     "name": "stderr",
     "output_type": "stream",
     "text": [
      "\r",
      "\u001b[1;34m￨ stanza 39, line 14: by PRAI sing HIM here WHO doth HENCE re MAIN           :  24%|\u001b[0;36m██▍       \u001b[0;36m| 522/2155 [00:16<01:20, 20.18it/s]"
     ]
    },
    {
     "name": "stderr",
     "output_type": "stream",
     "text": [
      "\r",
      "\u001b[1;34m￨ stanza 40, line 01: TAKE all.my LOVES my LOVE yea TAKE them ALL            :  24%|\u001b[0;36m██▍       \u001b[0;36m| 522/2155 [00:16<01:20, 20.18it/s]"
     ]
    },
    {
     "name": "stderr",
     "output_type": "stream",
     "text": [
      "\r",
      "\u001b[1;34m￨ stanza 40, line 02: what.hast THOU then MORE than.thou HADST be FORE       :  24%|\u001b[0;36m██▍       \u001b[0;36m| 522/2155 [00:16<01:20, 20.18it/s]"
     ]
    },
    {
     "name": "stderr",
     "output_type": "stream",
     "text": [
      "\r",
      "\u001b[1;34m￨ stanza 40, line 03: no LOVE my LOVE that THOU mayst TRUE love CALL         :  24%|\u001b[0;36m██▍       \u001b[0;36m| 522/2155 [00:16<01:20, 20.18it/s]"
     ]
    },
    {
     "name": "stderr",
     "output_type": "stream",
     "text": [
      "\r",
      "\u001b[1;34m￨ stanza 40, line 04: all MINE was.thine BE.FORE thou HADST this MORE        :  24%|\u001b[0;36m██▍       \u001b[0;36m| 522/2155 [00:16<01:20, 20.18it/s]"
     ]
    },
    {
     "name": "stderr",
     "output_type": "stream",
     "text": [
      "\r",
      "\u001b[1;34m￨ stanza 40, line 05: then IF for.my LOVE thou.my LOVE re CEI vest           :  24%|\u001b[0;36m██▍       \u001b[0;36m| 522/2155 [00:16<01:20, 20.18it/s]"
     ]
    },
    {
     "name": "stderr",
     "output_type": "stream",
     "text": [
      "\r",
      "\u001b[1;34m￨ stanza 40, line 06: i CAN not BLAME thee FOR my LOVE thou U sest           :  24%|\u001b[0;36m██▍       \u001b[0;36m| 522/2155 [00:16<01:20, 20.18it/s]"
     ]
    },
    {
     "name": "stderr",
     "output_type": "stream",
     "text": [
      "\r",
      "\u001b[1;34m￨ stanza 40, line 07: but YET be BLAMED if THOU thy SELF de CEI vest         :  24%|\u001b[0;36m██▍       \u001b[0;36m| 522/2155 [00:16<01:20, 20.18it/s]"
     ]
    },
    {
     "name": "stderr",
     "output_type": "stream",
     "text": [
      "\r",
      "\u001b[1;34m￨ stanza 40, line 08: by WIL ful TASTE of WHAT thy SELF re FU sest           :  24%|\u001b[0;36m██▍       \u001b[0;36m| 522/2155 [00:16<01:20, 20.18it/s]"
     ]
    },
    {
     "name": "stderr",
     "output_type": "stream",
     "text": [
      "\r",
      "\u001b[1;34m￨ stanza 40, line 09: i DO for GIVE thy ROB be.ry GEN tle THIEF              :  24%|\u001b[0;36m██▍       \u001b[0;36m| 522/2155 [00:16<01:20, 20.18it/s]"
     ]
    },
    {
     "name": "stderr",
     "output_type": "stream",
     "text": [
      "\r",
      "\u001b[1;34m￨ stanza 40, line 10: alt HOUGH thou STEAL thee ALL my PO ver TY             :  24%|\u001b[0;36m██▍       \u001b[0;36m| 522/2155 [00:16<01:20, 20.18it/s]"
     ]
    },
    {
     "name": "stderr",
     "output_type": "stream",
     "text": [
      "\r",
      "\u001b[1;34m￨ stanza 40, line 11: and YET love KNOWS it IS a GREA ter GRIEF              :  24%|\u001b[0;36m██▍       \u001b[0;36m| 522/2155 [00:16<01:20, 20.18it/s]"
     ]
    },
    {
     "name": "stderr",
     "output_type": "stream",
     "text": [
      "\r",
      "\u001b[1;34m￨ stanza 40, line 11: and YET love KNOWS it IS a GREA ter GRIEF              :  26%|\u001b[0;36m██▌       \u001b[0;36m| 557/2155 [00:16<00:56, 28.08it/s]"
     ]
    },
    {
     "name": "stderr",
     "output_type": "stream",
     "text": [
      "\r",
      "\u001b[1;34m￨ stanza 40, line 12: to BEAR love's WRONG than HATE'S known IN ju RY        :  26%|\u001b[0;36m██▌       \u001b[0;36m| 557/2155 [00:16<00:56, 28.08it/s]"
     ]
    },
    {
     "name": "stderr",
     "output_type": "stream",
     "text": [
      "\r",
      "\u001b[1;34m￨ stanza 40, line 13: las CI vio.us GRACE in WHOM all ILL well SHOWS         :  26%|\u001b[0;36m██▌       \u001b[0;36m| 557/2155 [00:16<00:56, 28.08it/s]"
     ]
    },
    {
     "name": "stderr",
     "output_type": "stream",
     "text": [
      "\r",
      "\u001b[1;34m￨ stanza 40, line 14: KILL me.with SPITES yet WE must NOT be FOES            :  26%|\u001b[0;36m██▌       \u001b[0;36m| 557/2155 [00:16<00:56, 28.08it/s]"
     ]
    },
    {
     "name": "stderr",
     "output_type": "stream",
     "text": [
      "\r",
      "\u001b[1;34m￨ stanza 41, line 01: those PET ty WRONGS that LI ber TY com MITS            :  26%|\u001b[0;36m██▌       \u001b[0;36m| 557/2155 [00:16<00:56, 28.08it/s]"
     ]
    },
    {
     "name": "stderr",
     "output_type": "stream",
     "text": [
      "\r",
      "\u001b[1;34m￨ stanza 41, line 02: when I am SO metime A bsent FROM thy HEART             :  26%|\u001b[0;36m██▌       \u001b[0;36m| 557/2155 [00:16<00:56, 28.08it/s]"
     ]
    },
    {
     "name": "stderr",
     "output_type": "stream",
     "text": [
      "\r",
      "\u001b[1;34m￨ stanza 41, line 03: thy BEA uty AND thy YEARS full WELL be FITS            :  26%|\u001b[0;36m██▌       \u001b[0;36m| 557/2155 [00:16<00:56, 28.08it/s]"
     ]
    },
    {
     "name": "stderr",
     "output_type": "stream",
     "text": [
      "\r",
      "\u001b[1;34m￨ stanza 41, line 04: for STILL temp TA tion FOL lows WHERE thou ART         :  26%|\u001b[0;36m██▌       \u001b[0;36m| 557/2155 [00:16<00:56, 28.08it/s]"
     ]
    },
    {
     "name": "stderr",
     "output_type": "stream",
     "text": [
      "\r",
      "\u001b[1;34m￨ stanza 41, line 05: GEN tle THOU art.and THE.REFORE to.be WON              :  26%|\u001b[0;36m██▌       \u001b[0;36m| 557/2155 [00:16<00:56, 28.08it/s]"
     ]
    },
    {
     "name": "stderr",
     "output_type": "stream",
     "text": [
      "\r",
      "\u001b[1;34m￨ stanza 41, line 06: BEA uteous THOU art THE.REFORE to BE as SAILED         :  26%|\u001b[0;36m██▌       \u001b[0;36m| 557/2155 [00:16<00:56, 28.08it/s]"
     ]
    },
    {
     "name": "stderr",
     "output_type": "stream",
     "text": [
      "\r",
      "\u001b[1;34m￨ stanza 41, line 07: and WHEN a WO man WOOS what WO man's SON               :  26%|\u001b[0;36m██▌       \u001b[0;36m| 557/2155 [00:16<00:56, 28.08it/s]"
     ]
    },
    {
     "name": "stderr",
     "output_type": "stream",
     "text": [
      "\r",
      "\u001b[1;34m￨ stanza 41, line 08: will SOUR ly LEAVE her TILL she HAVE pre VAILED        :  26%|\u001b[0;36m██▌       \u001b[0;36m| 557/2155 [00:16<00:56, 28.08it/s]"
     ]
    },
    {
     "name": "stderr",
     "output_type": "stream",
     "text": [
      "\r",
      "\u001b[1;34m￨ stanza 41, line 09: AY me.but YET thou MIGH test MY seat FOR bear          :  26%|\u001b[0;36m██▌       \u001b[0;36m| 557/2155 [00:16<00:56, 28.08it/s]"
     ]
    },
    {
     "name": "stderr",
     "output_type": "stream",
     "text": [
      "\r",
      "\u001b[1;34m￨ stanza 41, line 10: and CHIDE thy BEA uty AND thy STRAY ing YOUTH          :  26%|\u001b[0;36m██▌       \u001b[0;36m| 557/2155 [00:16<00:56, 28.08it/s]"
     ]
    },
    {
     "name": "stderr",
     "output_type": "stream",
     "text": [
      "\r",
      "\u001b[1;34m￨ stanza 41, line 11: who LEAD thee IN their RI ot E ven THERE               :  26%|\u001b[0;36m██▌       \u001b[0;36m| 557/2155 [00:16<00:56, 28.08it/s]"
     ]
    },
    {
     "name": "stderr",
     "output_type": "stream",
     "text": [
      "\r",
      "\u001b[1;34m￨ stanza 41, line 12: where THOU art FORCED to BREAK a TWO fold TRUTH        :  26%|\u001b[0;36m██▌       \u001b[0;36m| 557/2155 [00:16<00:56, 28.08it/s]"
     ]
    },
    {
     "name": "stderr",
     "output_type": "stream",
     "text": [
      "\r",
      "\u001b[1;34m￨ stanza 41, line 13: HERS by.thy BEA uty TEMP ting HER to THEE              :  26%|\u001b[0;36m██▌       \u001b[0;36m| 557/2155 [00:16<00:56, 28.08it/s]"
     ]
    },
    {
     "name": "stderr",
     "output_type": "stream",
     "text": [
      "\r",
      "\u001b[1;34m￨ stanza 41, line 14: thine BY thy BEA uty BE ing FALSE to ME                :  26%|\u001b[0;36m██▌       \u001b[0;36m| 557/2155 [00:16<00:56, 28.08it/s]"
     ]
    },
    {
     "name": "stderr",
     "output_type": "stream",
     "text": [
      "\r",
      "\u001b[1;34m￨ stanza 42, line 01: that THOU hast HER it IS not ALL my GRIEF              :  26%|\u001b[0;36m██▌       \u001b[0;36m| 557/2155 [00:18<00:56, 28.08it/s]"
     ]
    },
    {
     "name": "stderr",
     "output_type": "stream",
     "text": [
      "\r",
      "\u001b[1;34m￨ stanza 42, line 01: that THOU hast HER it IS not ALL my GRIEF              :  27%|\u001b[0;36m██▋       \u001b[0;36m| 575/2155 [00:18<01:11, 22.20it/s]"
     ]
    },
    {
     "name": "stderr",
     "output_type": "stream",
     "text": [
      "\r",
      "\u001b[1;34m￨ stanza 42, line 02: and.yet IT may.be SAID i LOVED her DEAR ly             :  27%|\u001b[0;36m██▋       \u001b[0;36m| 575/2155 [00:18<01:11, 22.20it/s]"
     ]
    },
    {
     "name": "stderr",
     "output_type": "stream",
     "text": [
      "\r",
      "\u001b[1;34m￨ stanza 42, line 03: that.she HATH thee IS of.my WAI ling CHIEF             :  27%|\u001b[0;36m██▋       \u001b[0;36m| 575/2155 [00:18<01:11, 22.20it/s]"
     ]
    },
    {
     "name": "stderr",
     "output_type": "stream",
     "text": [
      "\r",
      "\u001b[1;34m￨ stanza 42, line 04: a LOSS in LOVE that TOUC hes ME more NEAR ly           :  27%|\u001b[0;36m██▋       \u001b[0;36m| 575/2155 [00:18<01:11, 22.20it/s]"
     ]
    },
    {
     "name": "stderr",
     "output_type": "stream",
     "text": [
      "\r",
      "\u001b[1;34m￨ stanza 42, line 05: LO.VING of FEN ders THUS i WILL ex CUSE ye             :  27%|\u001b[0;36m██▋       \u001b[0;36m| 575/2155 [00:18<01:11, 22.20it/s]"
     ]
    },
    {
     "name": "stderr",
     "output_type": "stream",
     "text": [
      "\r",
      "\u001b[1;34m￨ stanza 42, line 06: thou.dost LOVE her BE.CAUSE thou KNOWST i LOVE her     :  27%|\u001b[0;36m██▋       \u001b[0;36m| 575/2155 [00:18<01:11, 22.20it/s]"
     ]
    },
    {
     "name": "stderr",
     "output_type": "stream",
     "text": [
      "\r",
      "\u001b[1;34m￨ stanza 42, line 07: and FOR my SAKE e VEN so.doth SHE a BUSE me            :  27%|\u001b[0;36m██▋       \u001b[0;36m| 575/2155 [00:18<01:11, 22.20it/s]"
     ]
    },
    {
     "name": "stderr",
     "output_type": "stream",
     "text": [
      "\r",
      "\u001b[1;34m￨ stanza 42, line 08: SUF fe RING my FRIEND for.my SAKE to AP.PROVE her      :  27%|\u001b[0;36m██▋       \u001b[0;36m| 575/2155 [00:18<01:11, 22.20it/s]"
     ]
    },
    {
     "name": "stderr",
     "output_type": "stream",
     "text": [
      "\r",
      "\u001b[1;34m￨ stanza 42, line 09: if.i LOSE thee.my LOSS is.my LOVE'S gain               :  27%|\u001b[0;36m██▋       \u001b[0;36m| 575/2155 [00:18<01:11, 22.20it/s]"
     ]
    },
    {
     "name": "stderr",
     "output_type": "stream",
     "text": [
      "\r",
      "\u001b[1;34m￨ stanza 42, line 10: and LO sing HER my FRIEND hath FOUND that LOSS         :  27%|\u001b[0;36m██▋       \u001b[0;36m| 575/2155 [00:18<01:11, 22.20it/s]"
     ]
    },
    {
     "name": "stderr",
     "output_type": "stream",
     "text": [
      "\r",
      "\u001b[1;34m￨ stanza 42, line 11: both FIND each OT her AND i LOSE both TWAIN            :  27%|\u001b[0;36m██▋       \u001b[0;36m| 575/2155 [00:18<01:11, 22.20it/s]"
     ]
    },
    {
     "name": "stderr",
     "output_type": "stream",
     "text": [
      "\r",
      "\u001b[1;34m￨ stanza 42, line 12: and BOTH for MY sake LAY on ME this CROSS              :  27%|\u001b[0;36m██▋       \u001b[0;36m| 575/2155 [00:18<01:11, 22.20it/s]"
     ]
    },
    {
     "name": "stderr",
     "output_type": "stream",
     "text": [
      "\r",
      "\u001b[1;34m￨ stanza 42, line 13: but HERE'S the JOY my FRIEND and I are.one             :  27%|\u001b[0;36m██▋       \u001b[0;36m| 575/2155 [00:18<01:11, 22.20it/s]"
     ]
    },
    {
     "name": "stderr",
     "output_type": "stream",
     "text": [
      "\r",
      "\u001b[1;34m￨ stanza 42, line 14: sweet FLAT te RY then.she LOVES but ME a LONE          :  27%|\u001b[0;36m██▋       \u001b[0;36m| 575/2155 [00:18<01:11, 22.20it/s]"
     ]
    },
    {
     "name": "stderr",
     "output_type": "stream",
     "text": [
      "\r",
      "\u001b[1;34m￨ stanza 43, line 01: when MOST i WINK then DO mine EYES best SEE            :  27%|\u001b[0;36m██▋       \u001b[0;36m| 575/2155 [00:18<01:11, 22.20it/s]"
     ]
    },
    {
     "name": "stderr",
     "output_type": "stream",
     "text": [
      "\r",
      "\u001b[1;34m￨ stanza 43, line 02: for ALL the DAY they VIEW things UN res PEC ted        :  27%|\u001b[0;36m██▋       \u001b[0;36m| 575/2155 [00:18<01:11, 22.20it/s]"
     ]
    },
    {
     "name": "stderr",
     "output_type": "stream",
     "text": [
      "\r",
      "\u001b[1;34m￨ stanza 43, line 03: but WHEN i SLEEP in DREAMS they LOOK on THEE           :  27%|\u001b[0;36m██▋       \u001b[0;36m| 575/2155 [00:18<01:11, 22.20it/s]"
     ]
    },
    {
     "name": "stderr",
     "output_type": "stream",
     "text": [
      "\r",
      "\u001b[1;34m￨ stanza 43, line 04: and DAR kly BRIGHT are BRIGHT in DARK di REC ted       :  27%|\u001b[0;36m██▋       \u001b[0;36m| 575/2155 [00:18<01:11, 22.20it/s]"
     ]
    },
    {
     "name": "stderr",
     "output_type": "stream",
     "text": [
      "\r",
      "\u001b[1;34m￨ stanza 43, line 05: then THOU whose SHA dow SHA.DOWS doth MAKE bright      :  27%|\u001b[0;36m██▋       \u001b[0;36m| 575/2155 [00:18<01:11, 22.20it/s]"
     ]
    },
    {
     "name": "stderr",
     "output_type": "stream",
     "text": [
      "\r",
      "\u001b[1;34m￨ stanza 43, line 06: how WOULD thy SHA dow's FORM form HAP py SHOW          :  27%|\u001b[0;36m██▋       \u001b[0;36m| 575/2155 [00:18<01:11, 22.20it/s]"
     ]
    },
    {
     "name": "stderr",
     "output_type": "stream",
     "text": [
      "\r",
      "\u001b[1;34m￨ stanza 43, line 07: to THE clear DAY with THY much CLEA rer LIGHT          :  27%|\u001b[0;36m██▋       \u001b[0;36m| 575/2155 [00:18<01:11, 22.20it/s]"
     ]
    },
    {
     "name": "stderr",
     "output_type": "stream",
     "text": [
      "\r",
      "\u001b[1;34m￨ stanza 43, line 08: when TO un SEE ing EYES thy SHADE shines SO            :  27%|\u001b[0;36m██▋       \u001b[0;36m| 575/2155 [00:18<01:11, 22.20it/s]"
     ]
    },
    {
     "name": "stderr",
     "output_type": "stream",
     "text": [
      "\r",
      "\u001b[1;34m￨ stanza 43, line 09: how WOULD i SAY mine EYES be BLESSED made              :  27%|\u001b[0;36m██▋       \u001b[0;36m| 575/2155 [00:18<01:11, 22.20it/s]"
     ]
    },
    {
     "name": "stderr",
     "output_type": "stream",
     "text": [
      "\r",
      "\u001b[1;34m￨ stanza 43, line 10: by LOO king ON thee IN the LI ving DAY                 :  27%|\u001b[0;36m██▋       \u001b[0;36m| 575/2155 [00:18<01:11, 22.20it/s]"
     ]
    },
    {
     "name": "stderr",
     "output_type": "stream",
     "text": [
      "\r",
      "\u001b[1;34m￨ stanza 43, line 11: when IN dead NIGHT thy FAIR im PER fect SHADE          :  27%|\u001b[0;36m██▋       \u001b[0;36m| 575/2155 [00:18<01:11, 22.20it/s]"
     ]
    },
    {
     "name": "stderr",
     "output_type": "stream",
     "text": [
      "\r",
      "\u001b[1;34m￨ stanza 43, line 12: through HEA vy SLEEP on SIGH tless EYES doth STAY      :  27%|\u001b[0;36m██▋       \u001b[0;36m| 575/2155 [00:18<01:11, 22.20it/s]"
     ]
    },
    {
     "name": "stderr",
     "output_type": "stream",
     "text": [
      "\r",
      "\u001b[1;34m￨ stanza 43, line 13: all DAYS are NIGHTS to SEE till.i SEE thee             :  27%|\u001b[0;36m██▋       \u001b[0;36m| 575/2155 [00:18<01:11, 22.20it/s]"
     ]
    },
    {
     "name": "stderr",
     "output_type": "stream",
     "text": [
      "\r",
      "\u001b[1;34m￨ stanza 43, line 14: and NIGHTS bright DAYS when DREAMS do SHOW thee ME     :  27%|\u001b[0;36m██▋       \u001b[0;36m| 575/2155 [00:18<01:11, 22.20it/s]"
     ]
    },
    {
     "name": "stderr",
     "output_type": "stream",
     "text": [
      "\r",
      "\u001b[1;34m￨ stanza 44, line 01: if THE dull SUBS tance OF my FLESH were THOUGHT        :  27%|\u001b[0;36m██▋       \u001b[0;36m| 575/2155 [00:18<01:11, 22.20it/s]"
     ]
    },
    {
     "name": "stderr",
     "output_type": "stream",
     "text": [
      "\r",
      "\u001b[1;34m￨ stanza 44, line 02: in JU rio.us DIS tance SHOULD not STOP my WAY          :  27%|\u001b[0;36m██▋       \u001b[0;36m| 575/2155 [00:18<01:11, 22.20it/s]"
     ]
    },
    {
     "name": "stderr",
     "output_type": "stream",
     "text": [
      "\r",
      "\u001b[1;34m￨ stanza 44, line 03: for THEN des PITE of SPACE i WOULD be BROUGHT          :  27%|\u001b[0;36m██▋       \u001b[0;36m| 575/2155 [00:18<01:11, 22.20it/s]"
     ]
    },
    {
     "name": "stderr",
     "output_type": "stream",
     "text": [
      "\r",
      "\u001b[1;34m￨ stanza 44, line 04: from LI mits FAR re MOTE where THOU dost STAY          :  27%|\u001b[0;36m██▋       \u001b[0;36m| 575/2155 [00:18<01:11, 22.20it/s]"
     ]
    },
    {
     "name": "stderr",
     "output_type": "stream",
     "text": [
      "\r",
      "\u001b[1;34m￨ stanza 44, line 05: no MAT ter THEN alt HOUGH my FOOT did STAND            :  27%|\u001b[0;36m██▋       \u001b[0;36m| 575/2155 [00:18<01:11, 22.20it/s]"
     ]
    },
    {
     "name": "stderr",
     "output_type": "stream",
     "text": [
      "\r",
      "\u001b[1;34m￨ stanza 44, line 06: u PON the FART hest EARTH re MOVED from THEE           :  27%|\u001b[0;36m██▋       \u001b[0;36m| 575/2155 [00:18<01:11, 22.20it/s]"
     ]
    },
    {
     "name": "stderr",
     "output_type": "stream",
     "text": [
      "\r",
      "\u001b[1;34m￨ stanza 44, line 07: for NIM ble THOUGHT can JUMP both SEA and LAND         :  27%|\u001b[0;36m██▋       \u001b[0;36m| 575/2155 [00:18<01:11, 22.20it/s]"
     ]
    },
    {
     "name": "stderr",
     "output_type": "stream",
     "text": [
      "\r",
      "\u001b[1;34m￨ stanza 44, line 08: as SOON as THINK the PLACE where HE would BE           :  27%|\u001b[0;36m██▋       \u001b[0;36m| 575/2155 [00:18<01:11, 22.20it/s]"
     ]
    },
    {
     "name": "stderr",
     "output_type": "stream",
     "text": [
      "\r",
      "\u001b[1;34m￨ stanza 44, line 09: but.ah THOUGHT kills ME that I am.not THOUGHT          :  27%|\u001b[0;36m██▋       \u001b[0;36m| 575/2155 [00:18<01:11, 22.20it/s]"
     ]
    },
    {
     "name": "stderr",
     "output_type": "stream",
     "text": [
      "\r",
      "\u001b[1;34m￨ stanza 44, line 10: to LEAP large LENGTHS of MILES when THOU art GONE      :  27%|\u001b[0;36m██▋       \u001b[0;36m| 575/2155 [00:18<01:11, 22.20it/s]"
     ]
    },
    {
     "name": "stderr",
     "output_type": "stream",
     "text": [
      "\r",
      "\u001b[1;34m￨ stanza 44, line 11: but THAT so MUCH of EARTH and WA ter WROUGHT           :  27%|\u001b[0;36m██▋       \u001b[0;36m| 575/2155 [00:18<01:11, 22.20it/s]"
     ]
    },
    {
     "name": "stderr",
     "output_type": "stream",
     "text": [
      "\r",
      "\u001b[1;34m￨ stanza 44, line 12: i MUST at TEND time's LEI sure WITH my MOAN            :  27%|\u001b[0;36m██▋       \u001b[0;36m| 575/2155 [00:18<01:11, 22.20it/s]"
     ]
    },
    {
     "name": "stderr",
     "output_type": "stream",
     "text": [
      "\r",
      "\u001b[1;34m￨ stanza 44, line 13: re CEI ving NOUGHT by E le MENTS so SLOW               :  27%|\u001b[0;36m██▋       \u001b[0;36m| 575/2155 [00:18<01:11, 22.20it/s]"
     ]
    },
    {
     "name": "stderr",
     "output_type": "stream",
     "text": [
      "\r",
      "\u001b[1;34m￨ stanza 44, line 14: but HEA vy TEARS bad GES of EIT her's WOE              :  27%|\u001b[0;36m██▋       \u001b[0;36m| 575/2155 [00:18<01:11, 22.20it/s]"
     ]
    },
    {
     "name": "stderr",
     "output_type": "stream",
     "text": [
      "\r",
      "\u001b[1;34m￨ stanza 44, line 14: but HEA vy TEARS bad GES of EIT her's WOE              :  29%|\u001b[0;36m██▊       \u001b[0;36m| 616/2155 [00:18<00:41, 37.07it/s]"
     ]
    },
    {
     "name": "stderr",
     "output_type": "stream",
     "text": [
      "\r",
      "\u001b[1;34m￨ stanza 45, line 01: the OT her TWO slight AIR and PUR ging FIRE            :  29%|\u001b[0;36m██▊       \u001b[0;36m| 616/2155 [00:18<00:41, 37.07it/s]"
     ]
    },
    {
     "name": "stderr",
     "output_type": "stream",
     "text": [
      "\r",
      "\u001b[1;34m￨ stanza 45, line 02: are BOTH with THEE whe RE ver I a BIDE                 :  29%|\u001b[0;36m██▊       \u001b[0;36m| 616/2155 [00:18<00:41, 37.07it/s]"
     ]
    },
    {
     "name": "stderr",
     "output_type": "stream",
     "text": [
      "\r",
      "\u001b[1;34m￨ stanza 45, line 03: the FIRST my THOUGHT the OT her MY de SIRE             :  29%|\u001b[0;36m██▊       \u001b[0;36m| 616/2155 [00:18<00:41, 37.07it/s]"
     ]
    },
    {
     "name": "stderr",
     "output_type": "stream",
     "text": [
      "\r",
      "\u001b[1;34m￨ stanza 45, line 04: these PRE sent A bsent WITH swift MO tion SLIDE        :  29%|\u001b[0;36m██▊       \u001b[0;36m| 616/2155 [00:18<00:41, 37.07it/s]"
     ]
    },
    {
     "name": "stderr",
     "output_type": "stream",
     "text": [
      "\r",
      "\u001b[1;34m￨ stanza 45, line 05: for WHEN these QUIC ker E le MENTS are GONE            :  29%|\u001b[0;36m██▊       \u001b[0;36m| 616/2155 [00:18<00:41, 37.07it/s]"
     ]
    },
    {
     "name": "stderr",
     "output_type": "stream",
     "text": [
      "\r",
      "\u001b[1;34m￨ stanza 45, line 06: in TEN der EM bas SY of LOVE to THEE                   :  29%|\u001b[0;36m██▊       \u001b[0;36m| 616/2155 [00:18<00:41, 37.07it/s]"
     ]
    },
    {
     "name": "stderr",
     "output_type": "stream",
     "text": [
      "\r",
      "\u001b[1;34m￨ stanza 45, line 07: my LIFE be.ing MADE of FOUR with TWO a LONE            :  29%|\u001b[0;36m██▊       \u001b[0;36m| 616/2155 [00:18<00:41, 37.07it/s]"
     ]
    },
    {
     "name": "stderr",
     "output_type": "stream",
     "text": [
      "\r",
      "\u001b[1;34m￨ stanza 45, line 08: SINKS down.to DEATH op PRESS'D with ME lanc HO ly      :  29%|\u001b[0;36m██▊       \u001b[0;36m| 616/2155 [00:18<00:41, 37.07it/s]"
     ]
    },
    {
     "name": "stderr",
     "output_type": "stream",
     "text": [
      "\r",
      "\u001b[1;34m￨ stanza 45, line 09: un TIL life's COM po SI tion BE re CURED               :  29%|\u001b[0;36m██▊       \u001b[0;36m| 616/2155 [00:18<00:41, 37.07it/s]"
     ]
    },
    {
     "name": "stderr",
     "output_type": "stream",
     "text": [
      "\r",
      "\u001b[1;34m￨ stanza 45, line 10: by THOSE swift MES sen GERS re TURN'D from THEE        :  29%|\u001b[0;36m██▊       \u001b[0;36m| 616/2155 [00:18<00:41, 37.07it/s]"
     ]
    },
    {
     "name": "stderr",
     "output_type": "stream",
     "text": [
      "\r",
      "\u001b[1;34m￨ stanza 45, line 11: who E.VEN but NOW come BACK a GAIN as SURED            :  29%|\u001b[0;36m██▊       \u001b[0;36m| 616/2155 [00:18<00:41, 37.07it/s]"
     ]
    },
    {
     "name": "stderr",
     "output_type": "stream",
     "text": [
      "\r",
      "\u001b[1;34m￨ stanza 45, line 12: of THY fair HEALTH re COUN ting IT to ME               :  29%|\u001b[0;36m██▊       \u001b[0;36m| 616/2155 [00:18<00:41, 37.07it/s]"
     ]
    },
    {
     "name": "stderr",
     "output_type": "stream",
     "text": [
      "\r",
      "\u001b[1;34m￨ stanza 45, line 13: this TOLD i JOY but THEN no LON ger GLAD               :  29%|\u001b[0;36m██▊       \u001b[0;36m| 616/2155 [00:18<00:41, 37.07it/s]"
     ]
    },
    {
     "name": "stderr",
     "output_type": "stream",
     "text": [
      "\r",
      "\u001b[1;34m￨ stanza 45, line 14: i SEND them BACK a GAIN and STRAIGHT grow SAD          :  29%|\u001b[0;36m██▊       \u001b[0;36m| 616/2155 [00:18<00:41, 37.07it/s]"
     ]
    },
    {
     "name": "stderr",
     "output_type": "stream",
     "text": [
      "\r",
      "\u001b[1;34m￨ stanza 46, line 01: mine EYE and HEART are AT a MOR tal WAR                :  29%|\u001b[0;36m██▊       \u001b[0;36m| 616/2155 [00:18<00:41, 37.07it/s]"
     ]
    },
    {
     "name": "stderr",
     "output_type": "stream",
     "text": [
      "\r",
      "\u001b[1;34m￨ stanza 46, line 02: how TO di VIDE the CON quest OF thy SIGHT              :  29%|\u001b[0;36m██▊       \u001b[0;36m| 616/2155 [00:18<00:41, 37.07it/s]"
     ]
    },
    {
     "name": "stderr",
     "output_type": "stream",
     "text": [
      "\r",
      "\u001b[1;34m￨ stanza 46, line 03: mine EYE my HEART thy PIC ture's SIGHT would BAR       :  29%|\u001b[0;36m██▊       \u001b[0;36m| 616/2155 [00:18<00:41, 37.07it/s]"
     ]
    },
    {
     "name": "stderr",
     "output_type": "stream",
     "text": [
      "\r",
      "\u001b[1;34m￨ stanza 46, line 04: my HEART mine EYE the FREE dom OF that RIGHT           :  29%|\u001b[0;36m██▊       \u001b[0;36m| 616/2155 [00:18<00:41, 37.07it/s]"
     ]
    },
    {
     "name": "stderr",
     "output_type": "stream",
     "text": [
      "\r",
      "\u001b[1;34m￨ stanza 46, line 05: my HEART doth PLEAD that THOU in HIM dost LIE          :  29%|\u001b[0;36m██▊       \u001b[0;36m| 616/2155 [00:18<00:41, 37.07it/s]"
     ]
    },
    {
     "name": "stderr",
     "output_type": "stream",
     "text": [
      "\r",
      "\u001b[1;34m￨ stanza 46, line 06: a CLO set NE ver PIERCED with CRYS tal EYES            :  29%|\u001b[0;36m██▊       \u001b[0;36m| 616/2155 [00:18<00:41, 37.07it/s]"
     ]
    },
    {
     "name": "stderr",
     "output_type": "stream",
     "text": [
      "\r",
      "\u001b[1;34m￨ stanza 46, line 07: but THE de FEN dant DOTH that PLEA de NY               :  29%|\u001b[0;36m██▊       \u001b[0;36m| 616/2155 [00:18<00:41, 37.07it/s]"
     ]
    },
    {
     "name": "stderr",
     "output_type": "stream",
     "text": [
      "\r",
      "\u001b[1;34m￨ stanza 46, line 08: and SAYS in HIM thy FAIR ap PEA rance LIES             :  29%|\u001b[0;36m██▊       \u001b[0;36m| 616/2155 [00:18<00:41, 37.07it/s]"
     ]
    },
    {
     "name": "stderr",
     "output_type": "stream",
     "text": [
      "\r",
      "\u001b[1;34m￨ stanza 46, line 09: to 'CIDE this TI tle IS im PAN neled                   :  29%|\u001b[0;36m██▊       \u001b[0;36m| 616/2155 [00:18<00:41, 37.07it/s]"
     ]
    },
    {
     "name": "stderr",
     "output_type": "stream",
     "text": [
      "\r",
      "\u001b[1;34m￨ stanza 46, line 10: a QUEST of THOUGHTS all TE nants TO the HEART          :  29%|\u001b[0;36m██▊       \u001b[0;36m| 616/2155 [00:18<00:41, 37.07it/s]"
     ]
    },
    {
     "name": "stderr",
     "output_type": "stream",
     "text": [
      "\r",
      "\u001b[1;34m￨ stanza 46, line 11: and BY their VER dict IS de TER mined                  :  29%|\u001b[0;36m██▊       \u001b[0;36m| 616/2155 [00:18<00:41, 37.07it/s]"
     ]
    },
    {
     "name": "stderr",
     "output_type": "stream",
     "text": [
      "\r",
      "\u001b[1;34m￨ stanza 46, line 12: the CLEAR eye's MOI e TY and.the DEAR heart's PART     :  29%|\u001b[0;36m██▊       \u001b[0;36m| 616/2155 [00:18<00:41, 37.07it/s]"
     ]
    },
    {
     "name": "stderr",
     "output_type": "stream",
     "text": [
      "\r",
      "\u001b[1;34m￨ stanza 46, line 13: as THUS mine EYE'S due IS thy OU tward PART            :  29%|\u001b[0;36m██▊       \u001b[0;36m| 616/2155 [00:18<00:41, 37.07it/s]"
     ]
    },
    {
     "name": "stderr",
     "output_type": "stream",
     "text": [
      "\r",
      "\u001b[1;34m￨ stanza 46, line 14: and MY heart's RIGHT thy IN ward LOVE of HEART         :  29%|\u001b[0;36m██▊       \u001b[0;36m| 616/2155 [00:18<00:41, 37.07it/s]"
     ]
    },
    {
     "name": "stderr",
     "output_type": "stream",
     "text": [
      "\r",
      "\u001b[1;34m￨ stanza 47, line 01: be TWIXT mine EYE and HEART a LEAGUE is TOOK           :  29%|\u001b[0;36m██▊       \u001b[0;36m| 616/2155 [00:18<00:41, 37.07it/s]"
     ]
    },
    {
     "name": "stderr",
     "output_type": "stream",
     "text": [
      "\r",
      "\u001b[1;34m￨ stanza 47, line 02: and EACH doth.good TURNS now UN to.the OT her          :  29%|\u001b[0;36m██▊       \u001b[0;36m| 616/2155 [00:18<00:41, 37.07it/s]"
     ]
    },
    {
     "name": "stderr",
     "output_type": "stream",
     "text": [
      "\r",
      "\u001b[1;34m￨ stanza 47, line 03: when THAT mine EYE is FA mish'd FOR a LOOK             :  29%|\u001b[0;36m██▊       \u001b[0;36m| 616/2155 [00:18<00:41, 37.07it/s]"
     ]
    },
    {
     "name": "stderr",
     "output_type": "stream",
     "text": [
      "\r",
      "\u001b[1;34m￨ stanza 47, line 04: or HEART in LOVE with SIGHS him SELF doth SMOT her     :  29%|\u001b[0;36m██▊       \u001b[0;36m| 616/2155 [00:18<00:41, 37.07it/s]"
     ]
    },
    {
     "name": "stderr",
     "output_type": "stream",
     "text": [
      "\r",
      "\u001b[1;34m￨ stanza 47, line 05: with MY love's PIC ture THEN my EYE doth FEAST         :  29%|\u001b[0;36m██▊       \u001b[0;36m| 616/2155 [00:18<00:41, 37.07it/s]"
     ]
    },
    {
     "name": "stderr",
     "output_type": "stream",
     "text": [
      "\r",
      "\u001b[1;34m￨ stanza 47, line 06: and TO the PAIN ted BAN quet BIDS my HEART             :  29%|\u001b[0;36m██▊       \u001b[0;36m| 616/2155 [00:18<00:41, 37.07it/s]"
     ]
    },
    {
     "name": "stderr",
     "output_type": "stream",
     "text": [
      "\r",
      "\u001b[1;34m￨ stanza 47, line 07: a NOT her TIME mine EYE is.my HEART'S guest            :  29%|\u001b[0;36m██▊       \u001b[0;36m| 616/2155 [00:18<00:41, 37.07it/s]"
     ]
    },
    {
     "name": "stderr",
     "output_type": "stream",
     "text": [
      "\r",
      "\u001b[1;34m￨ stanza 47, line 08: and IN his THOUGHTS of LOVE doth SHARE a PART          :  29%|\u001b[0;36m██▊       \u001b[0;36m| 616/2155 [00:18<00:41, 37.07it/s]"
     ]
    },
    {
     "name": "stderr",
     "output_type": "stream",
     "text": [
      "\r",
      "\u001b[1;34m￨ stanza 47, line 09: so EIT her BY thy PIC ture OR my LOVE                  :  29%|\u001b[0;36m██▊       \u001b[0;36m| 616/2155 [00:18<00:41, 37.07it/s]"
     ]
    },
    {
     "name": "stderr",
     "output_type": "stream",
     "text": [
      "\r",
      "\u001b[1;34m￨ stanza 47, line 10: thy SELF a WAY art RE sent STILL with ME               :  29%|\u001b[0;36m██▊       \u001b[0;36m| 616/2155 [00:18<00:41, 37.07it/s]"
     ]
    },
    {
     "name": "stderr",
     "output_type": "stream",
     "text": [
      "\r",
      "\u001b[1;34m￨ stanza 47, line 11: for THOU not FART her THAN my THOUGHTS canst MOVE      :  29%|\u001b[0;36m██▊       \u001b[0;36m| 616/2155 [00:18<00:41, 37.07it/s]"
     ]
    },
    {
     "name": "stderr",
     "output_type": "stream",
     "text": [
      "\r",
      "\u001b[1;34m￨ stanza 47, line 12: and I am STILL with THEM and THEY with THEE            :  29%|\u001b[0;36m██▊       \u001b[0;36m| 616/2155 [00:18<00:41, 37.07it/s]"
     ]
    },
    {
     "name": "stderr",
     "output_type": "stream",
     "text": [
      "\r",
      "\u001b[1;34m￨ stanza 47, line 13: or IF they SLEEP thy PIC ture IN my SIGHT              :  29%|\u001b[0;36m██▊       \u001b[0;36m| 616/2155 [00:18<00:41, 37.07it/s]"
     ]
    },
    {
     "name": "stderr",
     "output_type": "stream",
     "text": [
      "\r",
      "\u001b[1;34m￨ stanza 47, line 14: a WAKES my HEART to HEART'S and EYE'S de LIGHT         :  29%|\u001b[0;36m██▊       \u001b[0;36m| 616/2155 [00:18<00:41, 37.07it/s]"
     ]
    },
    {
     "name": "stderr",
     "output_type": "stream",
     "text": [
      "\r",
      "\u001b[1;34m￨ stanza 48, line 01: how CA reful WAS i WHEN i TOOK my WAY                  :  29%|\u001b[0;36m██▊       \u001b[0;36m| 616/2155 [00:18<00:41, 37.07it/s]"
     ]
    },
    {
     "name": "stderr",
     "output_type": "stream",
     "text": [
      "\r",
      "\u001b[1;34m￨ stanza 48, line 01: how CA reful WAS i WHEN i TOOK my WAY                  :  31%|\u001b[0;36m███       \u001b[0;36m| 659/2155 [00:18<00:26, 57.42it/s]"
     ]
    },
    {
     "name": "stderr",
     "output_type": "stream",
     "text": [
      "\r",
      "\u001b[1;34m￨ stanza 48, line 02: each TRI fle UN der TRU est BARS to THRUST             :  31%|\u001b[0;36m███       \u001b[0;36m| 659/2155 [00:18<00:26, 57.42it/s]"
     ]
    },
    {
     "name": "stderr",
     "output_type": "stream",
     "text": [
      "\r",
      "\u001b[1;34m￨ stanza 48, line 03: THAT to.my USE it MIGHT u NUSED stay                   :  31%|\u001b[0;36m███       \u001b[0;36m| 659/2155 [00:18<00:26, 57.42it/s]"
     ]
    },
    {
     "name": "stderr",
     "output_type": "stream",
     "text": [
      "\r",
      "\u001b[1;34m￨ stanza 48, line 04: from HANDS of FAL sehood IN sure WARDS of TRUST        :  31%|\u001b[0;36m███       \u001b[0;36m| 659/2155 [00:18<00:26, 57.42it/s]"
     ]
    },
    {
     "name": "stderr",
     "output_type": "stream",
     "text": [
      "\r",
      "\u001b[1;34m￨ stanza 48, line 05: but THOU to WHOM my JE wels TRI fles ARE               :  31%|\u001b[0;36m███       \u001b[0;36m| 659/2155 [00:18<00:26, 57.42it/s]"
     ]
    },
    {
     "name": "stderr",
     "output_type": "stream",
     "text": [
      "\r",
      "\u001b[1;34m￨ stanza 48, line 06: most WORT hy.of COM fort NOW my GREA test GRIEF        :  31%|\u001b[0;36m███       \u001b[0;36m| 659/2155 [00:18<00:26, 57.42it/s]"
     ]
    },
    {
     "name": "stderr",
     "output_type": "stream",
     "text": [
      "\r",
      "\u001b[1;34m￨ stanza 48, line 07: thou BEST of DEA rest AND mine ON ly CARE              :  31%|\u001b[0;36m███       \u001b[0;36m| 659/2155 [00:18<00:26, 57.42it/s]"
     ]
    },
    {
     "name": "stderr",
     "output_type": "stream",
     "text": [
      "\r",
      "\u001b[1;34m￨ stanza 48, line 08: art LEFT the PREY of E very VUL gar THIEF              :  31%|\u001b[0;36m███       \u001b[0;36m| 659/2155 [00:18<00:26, 57.42it/s]"
     ]
    },
    {
     "name": "stderr",
     "output_type": "stream",
     "text": [
      "\r",
      "\u001b[1;34m￨ stanza 48, line 09: thee.have I not LOCK'D up.in A ny CHEST                :  31%|\u001b[0;36m███       \u001b[0;36m| 659/2155 [00:18<00:26, 57.42it/s]"
     ]
    },
    {
     "name": "stderr",
     "output_type": "stream",
     "text": [
      "\r",
      "\u001b[1;34m￨ stanza 48, line 10: SAVE where THOU art NOT though.i FEEL thou ART         :  31%|\u001b[0;36m███       \u001b[0;36m| 659/2155 [00:18<00:26, 57.42it/s]"
     ]
    },
    {
     "name": "stderr",
     "output_type": "stream",
     "text": [
      "\r",
      "\u001b[1;34m￨ stanza 48, line 11: wit HIN the GEN tle CLO sure OF my BREAST              :  31%|\u001b[0;36m███       \u001b[0;36m| 659/2155 [00:18<00:26, 57.42it/s]"
     ]
    },
    {
     "name": "stderr",
     "output_type": "stream",
     "text": [
      "\r",
      "\u001b[1;34m￨ stanza 48, line 12: from WHENCE at PLEA sure THOU mayst COME and PART      :  31%|\u001b[0;36m███       \u001b[0;36m| 659/2155 [00:18<00:26, 57.42it/s]"
     ]
    },
    {
     "name": "stderr",
     "output_type": "stream",
     "text": [
      "\r",
      "\u001b[1;34m￨ stanza 48, line 13: and E ven THENCE thou.wilt BE stol'n.i FEAR            :  31%|\u001b[0;36m███       \u001b[0;36m| 659/2155 [00:18<00:26, 57.42it/s]"
     ]
    },
    {
     "name": "stderr",
     "output_type": "stream",
     "text": [
      "\r",
      "\u001b[1;34m￨ stanza 48, line 14: for TRUTH proves THIE vish FOR a PRIZE so DEAR         :  31%|\u001b[0;36m███       \u001b[0;36m| 659/2155 [00:18<00:26, 57.42it/s]"
     ]
    },
    {
     "name": "stderr",
     "output_type": "stream",
     "text": [
      "\r",
      "\u001b[1;34m￨ stanza 49, line 01: a GAINST that TIME if E ver THAT time COME             :  31%|\u001b[0;36m███       \u001b[0;36m| 659/2155 [00:19<00:26, 57.42it/s]"
     ]
    },
    {
     "name": "stderr",
     "output_type": "stream",
     "text": [
      "\r",
      "\u001b[1;34m￨ stanza 49, line 02: when I shall SEE thee FROWN on.my DE fects             :  31%|\u001b[0;36m███       \u001b[0;36m| 659/2155 [00:19<00:26, 57.42it/s]"
     ]
    },
    {
     "name": "stderr",
     "output_type": "stream",
     "text": [
      "\r",
      "\u001b[1;34m￨ stanza 49, line 03: WHEN as.thy LOVE hath CAST his U tmost SUM             :  31%|\u001b[0;36m███       \u001b[0;36m| 659/2155 [00:19<00:26, 57.42it/s]"
     ]
    },
    {
     "name": "stderr",
     "output_type": "stream",
     "text": [
      "\r",
      "\u001b[1;34m￨ stanza 49, line 04: CALL'D to.that AU dit BY a DVISED res PECTS            :  31%|\u001b[0;36m███       \u001b[0;36m| 659/2155 [00:19<00:26, 57.42it/s]"
     ]
    },
    {
     "name": "stderr",
     "output_type": "stream",
     "text": [
      "\r",
      "\u001b[1;34m￨ stanza 49, line 05: a GAINST that TIME when THOU shalt STRAN gely PASS     :  31%|\u001b[0;36m███       \u001b[0;36m| 659/2155 [00:19<00:26, 57.42it/s]"
     ]
    },
    {
     "name": "stderr",
     "output_type": "stream",
     "text": [
      "\r",
      "\u001b[1;34m￨ stanza 49, line 06: and SCAR cely GREET me WITH that SUN thine EYE         :  31%|\u001b[0;36m███       \u001b[0;36m| 659/2155 [00:19<00:26, 57.42it/s]"
     ]
    },
    {
     "name": "stderr",
     "output_type": "stream",
     "text": [
      "\r",
      "\u001b[1;34m￨ stanza 49, line 07: when LOVE con VER ted FROM the THING it.was            :  31%|\u001b[0;36m███       \u001b[0;36m| 659/2155 [00:19<00:26, 57.42it/s]"
     ]
    },
    {
     "name": "stderr",
     "output_type": "stream",
     "text": [
      "\r",
      "\u001b[1;34m￨ stanza 49, line 08: shall REA sons FIND of SET tled GRA vi TY              :  31%|\u001b[0;36m███       \u001b[0;36m| 659/2155 [00:19<00:26, 57.42it/s]"
     ]
    },
    {
     "name": "stderr",
     "output_type": "stream",
     "text": [
      "\r",
      "\u001b[1;34m￨ stanza 49, line 09: a GAINST that TIME do I ens CONCE me HERE              :  31%|\u001b[0;36m███       \u001b[0;36m| 659/2155 [00:19<00:26, 57.42it/s]"
     ]
    },
    {
     "name": "stderr",
     "output_type": "stream",
     "text": [
      "\r",
      "\u001b[1;34m￨ stanza 49, line 10: wit HIN the KNOW ledge OF mine OWN de SERT             :  31%|\u001b[0;36m███       \u001b[0;36m| 659/2155 [00:19<00:26, 57.42it/s]"
     ]
    },
    {
     "name": "stderr",
     "output_type": "stream",
     "text": [
      "\r",
      "\u001b[1;34m￨ stanza 49, line 11: and THIS my HAND a GAINST my SELF u.prear              :  31%|\u001b[0;36m███       \u001b[0;36m| 659/2155 [00:19<00:26, 57.42it/s]"
     ]
    },
    {
     "name": "stderr",
     "output_type": "stream",
     "text": [
      "\r",
      "\u001b[1;34m￨ stanza 49, line 12: to GUARD the LAW ful REA sons ON thy PART              :  31%|\u001b[0;36m███       \u001b[0;36m| 659/2155 [00:19<00:26, 57.42it/s]"
     ]
    },
    {
     "name": "stderr",
     "output_type": "stream",
     "text": [
      "\r",
      "\u001b[1;34m￨ stanza 49, line 13: to LEAVE poor ME thou HAST the STRENGTH of LAWS        :  31%|\u001b[0;36m███       \u001b[0;36m| 659/2155 [00:19<00:26, 57.42it/s]"
     ]
    },
    {
     "name": "stderr",
     "output_type": "stream",
     "text": [
      "\r",
      "\u001b[1;34m￨ stanza 49, line 14: since WHY to LOVE i CAN al LEGE no CAUSE               :  31%|\u001b[0;36m███       \u001b[0;36m| 659/2155 [00:19<00:26, 57.42it/s]"
     ]
    },
    {
     "name": "stderr",
     "output_type": "stream",
     "text": [
      "\r",
      "\u001b[1;34m￨ stanza 49, line 14: since WHY to LOVE i CAN al LEGE no CAUSE               :  32%|\u001b[0;36m███▏      \u001b[0;36m| 686/2155 [00:19<00:33, 43.31it/s]"
     ]
    },
    {
     "name": "stderr",
     "output_type": "stream",
     "text": [
      "\r",
      "\u001b[1;34m￨ stanza 50, line 01: how HEA vy DO i JOUR ney ON the WAY                    :  32%|\u001b[0;36m███▏      \u001b[0;36m| 686/2155 [00:19<00:33, 43.31it/s]"
     ]
    },
    {
     "name": "stderr",
     "output_type": "stream",
     "text": [
      "\r",
      "\u001b[1;34m￨ stanza 50, line 02: when WHAT i SEEK my WEA ry TRA vel's END               :  32%|\u001b[0;36m███▏      \u001b[0;36m| 686/2155 [00:19<00:33, 43.31it/s]"
     ]
    },
    {
     "name": "stderr",
     "output_type": "stream",
     "text": [
      "\r",
      "\u001b[1;34m￨ stanza 50, line 03: doth TEACH that EASE and THAT re POSE to SAY           :  32%|\u001b[0;36m███▏      \u001b[0;36m| 686/2155 [00:19<00:33, 43.31it/s]"
     ]
    },
    {
     "name": "stderr",
     "output_type": "stream",
     "text": [
      "\r",
      "\u001b[1;34m￨ stanza 50, line 04: 'thus FAR the MILES are MEA sured FROM thy FRIEND      :  32%|\u001b[0;36m███▏      \u001b[0;36m| 686/2155 [00:19<00:33, 43.31it/s]"
     ]
    },
    {
     "name": "stderr",
     "output_type": "stream",
     "text": [
      "\r",
      "\u001b[1;34m￨ stanza 50, line 05: the BEAST that BEARS me TI red WITH my WOE             :  32%|\u001b[0;36m███▏      \u001b[0;36m| 686/2155 [00:19<00:33, 43.31it/s]"
     ]
    },
    {
     "name": "stderr",
     "output_type": "stream",
     "text": [
      "\r",
      "\u001b[1;34m￨ stanza 50, line 06: plods DUL ly ON to BEAR that WEIGHT in ME              :  32%|\u001b[0;36m███▏      \u001b[0;36m| 686/2155 [00:19<00:33, 43.31it/s]"
     ]
    },
    {
     "name": "stderr",
     "output_type": "stream",
     "text": [
      "\r",
      "\u001b[1;34m￨ stanza 50, line 07: as IF by.some INS tinct.the WRETCH did KNOW            :  32%|\u001b[0;36m███▏      \u001b[0;36m| 686/2155 [00:19<00:33, 43.31it/s]"
     ]
    },
    {
     "name": "stderr",
     "output_type": "stream",
     "text": [
      "\r",
      "\u001b[1;34m￨ stanza 50, line 08: his RI der LOVED not SPEED be.ing MADE from THEE       :  32%|\u001b[0;36m███▏      \u001b[0;36m| 686/2155 [00:19<00:33, 43.31it/s]"
     ]
    },
    {
     "name": "stderr",
     "output_type": "stream",
     "text": [
      "\r",
      "\u001b[1;34m￨ stanza 50, line 09: the BLOO dy SPUR can NOT pro VOKE him.on               :  32%|\u001b[0;36m███▏      \u001b[0;36m| 686/2155 [00:19<00:33, 43.31it/s]"
     ]
    },
    {
     "name": "stderr",
     "output_type": "stream",
     "text": [
      "\r",
      "\u001b[1;34m￨ stanza 50, line 10: that SO metimes AN ger THRUSTS in TO his HIDE          :  32%|\u001b[0;36m███▏      \u001b[0;36m| 686/2155 [00:19<00:33, 43.31it/s]"
     ]
    },
    {
     "name": "stderr",
     "output_type": "stream",
     "text": [
      "\r",
      "\u001b[1;34m￨ stanza 50, line 11: which HEA vi LY he AN swers WITH a GROAN               :  32%|\u001b[0;36m███▏      \u001b[0;36m| 686/2155 [00:19<00:33, 43.31it/s]"
     ]
    },
    {
     "name": "stderr",
     "output_type": "stream",
     "text": [
      "\r",
      "\u001b[1;34m￨ stanza 50, line 12: more SHARP to ME than SPUR ring TO his SIDE            :  32%|\u001b[0;36m███▏      \u001b[0;36m| 686/2155 [00:19<00:33, 43.31it/s]"
     ]
    },
    {
     "name": "stderr",
     "output_type": "stream",
     "text": [
      "\r",
      "\u001b[1;34m￨ stanza 50, line 13: for THAT same GROAN doth PUT this IN my MIND           :  32%|\u001b[0;36m███▏      \u001b[0;36m| 686/2155 [00:19<00:33, 43.31it/s]"
     ]
    },
    {
     "name": "stderr",
     "output_type": "stream",
     "text": [
      "\r",
      "\u001b[1;34m￨ stanza 50, line 14: my GRIEF lies ON ward AND my JOY be HIND               :  32%|\u001b[0;36m███▏      \u001b[0;36m| 686/2155 [00:19<00:33, 43.31it/s]"
     ]
    },
    {
     "name": "stderr",
     "output_type": "stream",
     "text": [
      "\r",
      "\u001b[1;34m￨ stanza 51, line 01: THUS can.my LOVE ex CUSE the SLOW of FENCE             :  32%|\u001b[0;36m███▏      \u001b[0;36m| 686/2155 [00:19<00:33, 43.31it/s]"
     ]
    },
    {
     "name": "stderr",
     "output_type": "stream",
     "text": [
      "\r",
      "\u001b[1;34m￨ stanza 51, line 02: of MY dull BEA rer WHEN from THEE i SPEED              :  32%|\u001b[0;36m███▏      \u001b[0;36m| 686/2155 [00:19<00:33, 43.31it/s]"
     ]
    },
    {
     "name": "stderr",
     "output_type": "stream",
     "text": [
      "\r",
      "\u001b[1;34m￨ stanza 51, line 03: from WHERE thou ART why SHOULD i HASTE me THENCE       :  32%|\u001b[0;36m███▏      \u001b[0;36m| 686/2155 [00:20<00:33, 43.31it/s]"
     ]
    },
    {
     "name": "stderr",
     "output_type": "stream",
     "text": [
      "\r",
      "\u001b[1;34m￨ stanza 51, line 04: till I re TURN of POS ting IS no NEED                  :  32%|\u001b[0;36m███▏      \u001b[0;36m| 686/2155 [00:20<00:33, 43.31it/s]"
     ]
    },
    {
     "name": "stderr",
     "output_type": "stream",
     "text": [
      "\r",
      "\u001b[1;34m￨ stanza 51, line 05: o WHAT ex CUSE will MY poor BEAST then FIND            :  32%|\u001b[0;36m███▏      \u001b[0;36m| 686/2155 [00:20<00:33, 43.31it/s]"
     ]
    },
    {
     "name": "stderr",
     "output_type": "stream",
     "text": [
      "\r",
      "\u001b[1;34m￨ stanza 51, line 06: when SWIFT ex TRE mi TY can SEEM but SLOW              :  32%|\u001b[0;36m███▏      \u001b[0;36m| 686/2155 [00:20<00:33, 43.31it/s]"
     ]
    },
    {
     "name": "stderr",
     "output_type": "stream",
     "text": [
      "\r",
      "\u001b[1;34m￨ stanza 51, line 06: when SWIFT ex TRE mi TY can SEEM but SLOW              :  33%|\u001b[0;36m███▎      \u001b[0;36m| 706/2155 [00:20<00:34, 42.12it/s]"
     ]
    },
    {
     "name": "stderr",
     "output_type": "stream",
     "text": [
      "\r",
      "\u001b[1;34m￨ stanza 51, line 07: then SHOULD i SPUR though MOUN ted ON the WIND         :  33%|\u001b[0;36m███▎      \u001b[0;36m| 706/2155 [00:20<00:34, 42.12it/s]"
     ]
    },
    {
     "name": "stderr",
     "output_type": "stream",
     "text": [
      "\r",
      "\u001b[1;34m￨ stanza 51, line 08: in WINGED speed NO.MO tion SHALL i KNOW                :  33%|\u001b[0;36m███▎      \u001b[0;36m| 706/2155 [00:20<00:34, 42.12it/s]"
     ]
    },
    {
     "name": "stderr",
     "output_type": "stream",
     "text": [
      "\r",
      "\u001b[1;34m￨ stanza 51, line 09: THEN can NO.HORSE with MY de SI re KEEP pace           :  33%|\u001b[0;36m███▎      \u001b[0;36m| 706/2155 [00:20<00:34, 42.12it/s]"
     ]
    },
    {
     "name": "stderr",
     "output_type": "stream",
     "text": [
      "\r",
      "\u001b[1;34m￨ stanza 51, line 10: the REFORE de SI re OF per FECT'ST love BE ing MADE    :  33%|\u001b[0;36m███▎      \u001b[0;36m| 706/2155 [00:20<00:34, 42.12it/s]"
     ]
    },
    {
     "name": "stderr",
     "output_type": "stream",
     "text": [
      "\r",
      "\u001b[1;34m￨ stanza 51, line 11: shall NEIGH no DULL flesh IN his FIE r.y RACE          :  33%|\u001b[0;36m███▎      \u001b[0;36m| 706/2155 [00:20<00:34, 42.12it/s]"
     ]
    },
    {
     "name": "stderr",
     "output_type": "stream",
     "text": [
      "\r",
      "\u001b[1;34m￨ stanza 51, line 12: but LOVE for LOVE thus SHALL ex CUSE my JADE           :  33%|\u001b[0;36m███▎      \u001b[0;36m| 706/2155 [00:20<00:34, 42.12it/s]"
     ]
    },
    {
     "name": "stderr",
     "output_type": "stream",
     "text": [
      "\r",
      "\u001b[1;34m￨ stanza 51, line 13: SINCE from.thee GO ing HE went WIL ful SLOW            :  33%|\u001b[0;36m███▎      \u001b[0;36m| 706/2155 [00:20<00:34, 42.12it/s]"
     ]
    },
    {
     "name": "stderr",
     "output_type": "stream",
     "text": [
      "\r",
      "\u001b[1;34m￨ stanza 51, line 14: to WARDS thee.i'll RUN and GIVE him LEAVE to GO        :  33%|\u001b[0;36m███▎      \u001b[0;36m| 706/2155 [00:20<00:34, 42.12it/s]"
     ]
    },
    {
     "name": "stderr",
     "output_type": "stream",
     "text": [
      "\r",
      "\u001b[1;34m￨ stanza 52, line 01: so.am I as.the RICH whose BLESSED key                  :  33%|\u001b[0;36m███▎      \u001b[0;36m| 706/2155 [00:20<00:34, 42.12it/s]"
     ]
    },
    {
     "name": "stderr",
     "output_type": "stream",
     "text": [
      "\r",
      "\u001b[1;34m￨ stanza 52, line 02: can BRING him TO his SWEET up LOCKED trea.sure         :  33%|\u001b[0;36m███▎      \u001b[0;36m| 706/2155 [00:20<00:34, 42.12it/s]"
     ]
    },
    {
     "name": "stderr",
     "output_type": "stream",
     "text": [
      "\r",
      "\u001b[1;34m￨ stanza 52, line 03: the.which HE will.not E very HOUR sur VEY              :  33%|\u001b[0;36m███▎      \u001b[0;36m| 706/2155 [00:20<00:34, 42.12it/s]"
     ]
    },
    {
     "name": "stderr",
     "output_type": "stream",
     "text": [
      "\r",
      "\u001b[1;34m￨ stanza 52, line 04: for BLUN ting THE fine POINT of SEL dom PLEA sure      :  33%|\u001b[0;36m███▎      \u001b[0;36m| 706/2155 [00:20<00:34, 42.12it/s]"
     ]
    },
    {
     "name": "stderr",
     "output_type": "stream",
     "text": [
      "\r",
      "\u001b[1;34m￨ stanza 52, line 05: the REFORE are FEASTS so SO lemn AND so RARE           :  33%|\u001b[0;36m███▎      \u001b[0;36m| 706/2155 [00:20<00:34, 42.12it/s]"
     ]
    },
    {
     "name": "stderr",
     "output_type": "stream",
     "text": [
      "\r",
      "\u001b[1;34m￨ stanza 52, line 06: since SEL dom CO ming IN the LONG year SET             :  33%|\u001b[0;36m███▎      \u001b[0;36m| 706/2155 [00:20<00:34, 42.12it/s]"
     ]
    },
    {
     "name": "stderr",
     "output_type": "stream",
     "text": [
      "\r",
      "\u001b[1;34m￨ stanza 52, line 07: like STONES of WORTH they THIN ly PLACED are           :  33%|\u001b[0;36m███▎      \u001b[0;36m| 706/2155 [00:20<00:34, 42.12it/s]"
     ]
    },
    {
     "name": "stderr",
     "output_type": "stream",
     "text": [
      "\r",
      "\u001b[1;34m￨ stanza 52, line 07: like STONES of WORTH they THIN ly PLACED are           :  33%|\u001b[0;36m███▎      \u001b[0;36m| 721/2155 [00:20<00:35, 40.92it/s]"
     ]
    },
    {
     "name": "stderr",
     "output_type": "stream",
     "text": [
      "\r",
      "\u001b[1;34m￨ stanza 52, line 08: or CAP tain JE wels IN the CAR ca NET                  :  33%|\u001b[0;36m███▎      \u001b[0;36m| 721/2155 [00:20<00:35, 40.92it/s]"
     ]
    },
    {
     "name": "stderr",
     "output_type": "stream",
     "text": [
      "\r",
      "\u001b[1;34m￨ stanza 52, line 09: so IS the TIME that KEEPS you AS my CHEST              :  33%|\u001b[0;36m███▎      \u001b[0;36m| 721/2155 [00:20<00:35, 40.92it/s]"
     ]
    },
    {
     "name": "stderr",
     "output_type": "stream",
     "text": [
      "\r",
      "\u001b[1;34m￨ stanza 52, line 10: or AS the WAR drobe WHICH the ROBE doth HIDE           :  33%|\u001b[0;36m███▎      \u001b[0;36m| 721/2155 [00:20<00:35, 40.92it/s]"
     ]
    },
    {
     "name": "stderr",
     "output_type": "stream",
     "text": [
      "\r",
      "\u001b[1;34m￨ stanza 52, line 11: to MAKE some SPE cial INS tant SPE cial BLEST          :  33%|\u001b[0;36m███▎      \u001b[0;36m| 721/2155 [00:20<00:35, 40.92it/s]"
     ]
    },
    {
     "name": "stderr",
     "output_type": "stream",
     "text": [
      "\r",
      "\u001b[1;34m￨ stanza 52, line 12: by NEW un FOL ding HIS im PRI son'd PRIDE              :  33%|\u001b[0;36m███▎      \u001b[0;36m| 721/2155 [00:20<00:35, 40.92it/s]"
     ]
    },
    {
     "name": "stderr",
     "output_type": "stream",
     "text": [
      "\r",
      "\u001b[1;34m￨ stanza 52, line 13: BLESSED are YOU whose WORT hi NESS gives SCOPE         :  33%|\u001b[0;36m███▎      \u001b[0;36m| 721/2155 [00:20<00:35, 40.92it/s]"
     ]
    },
    {
     "name": "stderr",
     "output_type": "stream",
     "text": [
      "\r",
      "\u001b[1;34m￨ stanza 52, line 14: BE ing HAD to TRI umph BE ing LACK'D to HOPE           :  33%|\u001b[0;36m███▎      \u001b[0;36m| 721/2155 [00:20<00:35, 40.92it/s]"
     ]
    },
    {
     "name": "stderr",
     "output_type": "stream",
     "text": [
      "\r",
      "\u001b[1;34m￨ stanza 53, line 01: what IS your SUBS tance WHE re OF are.you MADE         :  33%|\u001b[0;36m███▎      \u001b[0;36m| 721/2155 [00:20<00:35, 40.92it/s]"
     ]
    },
    {
     "name": "stderr",
     "output_type": "stream",
     "text": [
      "\r",
      "\u001b[1;34m￨ stanza 53, line 02: that MIL lions OF strange SHA.DOWS on.you TEND         :  33%|\u001b[0;36m███▎      \u001b[0;36m| 721/2155 [00:20<00:35, 40.92it/s]"
     ]
    },
    {
     "name": "stderr",
     "output_type": "stream",
     "text": [
      "\r",
      "\u001b[1;34m￨ stanza 53, line 03: since E very ONE hath E very ONE one SHADE             :  33%|\u001b[0;36m███▎      \u001b[0;36m| 721/2155 [00:20<00:35, 40.92it/s]"
     ]
    },
    {
     "name": "stderr",
     "output_type": "stream",
     "text": [
      "\r",
      "\u001b[1;34m￨ stanza 53, line 04: and YOU but ONE can E very SHA dow LEND                :  33%|\u001b[0;36m███▎      \u001b[0;36m| 721/2155 [00:20<00:35, 40.92it/s]"
     ]
    },
    {
     "name": "stderr",
     "output_type": "stream",
     "text": [
      "\r",
      "\u001b[1;34m￨ stanza 53, line 05: des CRIBE a DO nis AND the COUN ter FEIT               :  33%|\u001b[0;36m███▎      \u001b[0;36m| 721/2155 [00:20<00:35, 40.92it/s]"
     ]
    },
    {
     "name": "stderr",
     "output_type": "stream",
     "text": [
      "\r",
      "\u001b[1;34m￨ stanza 53, line 06: is POOR ly I mi TA ted AF ter YOU                      :  33%|\u001b[0;36m███▎      \u001b[0;36m| 721/2155 [00:20<00:35, 40.92it/s]"
     ]
    },
    {
     "name": "stderr",
     "output_type": "stream",
     "text": [
      "\r",
      "\u001b[1;34m￨ stanza 53, line 07: on HE len's CHEEK all ART of BEA uty SET               :  33%|\u001b[0;36m███▎      \u001b[0;36m| 721/2155 [00:20<00:35, 40.92it/s]"
     ]
    },
    {
     "name": "stderr",
     "output_type": "stream",
     "text": [
      "\r",
      "\u001b[1;34m￨ stanza 53, line 08: and YOU in GRE cian TI res.are PAIN ted NEW            :  33%|\u001b[0;36m███▎      \u001b[0;36m| 721/2155 [00:20<00:35, 40.92it/s]"
     ]
    },
    {
     "name": "stderr",
     "output_type": "stream",
     "text": [
      "\r",
      "\u001b[1;34m￨ stanza 53, line 09: SPEAK of.the SPRING and FOI son OF the YEAR            :  33%|\u001b[0;36m███▎      \u001b[0;36m| 721/2155 [00:20<00:35, 40.92it/s]"
     ]
    },
    {
     "name": "stderr",
     "output_type": "stream",
     "text": [
      "\r",
      "\u001b[1;34m￨ stanza 53, line 10: the ONE doth SHA.DOW of.your BEA uty SHOW              :  33%|\u001b[0;36m███▎      \u001b[0;36m| 721/2155 [00:20<00:35, 40.92it/s]"
     ]
    },
    {
     "name": "stderr",
     "output_type": "stream",
     "text": [
      "\r",
      "\u001b[1;34m￨ stanza 53, line 11: the OT her AS your BOUN ty DOTH ap PEAR                :  33%|\u001b[0;36m███▎      \u001b[0;36m| 721/2155 [00:20<00:35, 40.92it/s]"
     ]
    },
    {
     "name": "stderr",
     "output_type": "stream",
     "text": [
      "\r",
      "\u001b[1;34m￨ stanza 53, line 12: and YOU in E very BLESSED shape WE know                :  33%|\u001b[0;36m███▎      \u001b[0;36m| 721/2155 [00:20<00:35, 40.92it/s]"
     ]
    },
    {
     "name": "stderr",
     "output_type": "stream",
     "text": [
      "\r",
      "\u001b[1;34m￨ stanza 53, line 13: in ALL ex TER nal GRACE you HAVE some PART             :  33%|\u001b[0;36m███▎      \u001b[0;36m| 721/2155 [00:20<00:35, 40.92it/s]"
     ]
    },
    {
     "name": "stderr",
     "output_type": "stream",
     "text": [
      "\r",
      "\u001b[1;34m￨ stanza 53, line 14: but YOU like NONE none YOU for CONS tant HEART         :  33%|\u001b[0;36m███▎      \u001b[0;36m| 721/2155 [00:20<00:35, 40.92it/s]"
     ]
    },
    {
     "name": "stderr",
     "output_type": "stream",
     "text": [
      "\r",
      "\u001b[1;34m￨ stanza 54, line 01: o.how MUCH more.doth BEA uty BEA uteous SEEM           :  33%|\u001b[0;36m███▎      \u001b[0;36m| 721/2155 [00:20<00:35, 40.92it/s]"
     ]
    },
    {
     "name": "stderr",
     "output_type": "stream",
     "text": [
      "\r",
      "\u001b[1;34m￨ stanza 54, line 02: by THAT sweet OR na MENT which TRUTH doth GIVE         :  33%|\u001b[0;36m███▎      \u001b[0;36m| 721/2155 [00:20<00:35, 40.92it/s]"
     ]
    },
    {
     "name": "stderr",
     "output_type": "stream",
     "text": [
      "\r",
      "\u001b[1;34m￨ stanza 54, line 03: the ROSE looks FAIR but FAI rer WE it DEEM             :  33%|\u001b[0;36m███▎      \u001b[0;36m| 721/2155 [00:20<00:35, 40.92it/s]"
     ]
    },
    {
     "name": "stderr",
     "output_type": "stream",
     "text": [
      "\r",
      "\u001b[1;34m￨ stanza 54, line 04: for THAT sweet O dour WHICH doth IN it LIVE            :  33%|\u001b[0;36m███▎      \u001b[0;36m| 721/2155 [00:20<00:35, 40.92it/s]"
     ]
    },
    {
     "name": "stderr",
     "output_type": "stream",
     "text": [
      "\r",
      "\u001b[1;34m￨ stanza 54, line 04: for THAT sweet O dour WHICH doth IN it LIVE            :  35%|\u001b[0;36m███▍      \u001b[0;36m| 746/2155 [00:20<00:33, 42.06it/s]"
     ]
    },
    {
     "name": "stderr",
     "output_type": "stream",
     "text": [
      "\r",
      "\u001b[1;34m￨ stanza 54, line 05: the CAN ker BLOOMS have FULL as DEEP a DYE             :  35%|\u001b[0;36m███▍      \u001b[0;36m| 746/2155 [00:20<00:33, 42.06it/s]"
     ]
    },
    {
     "name": "stderr",
     "output_type": "stream",
     "text": [
      "\r",
      "\u001b[1;34m￨ stanza 54, line 06: as THE per FUMED tinc TURE of.the RO ses               :  35%|\u001b[0;36m███▍      \u001b[0;36m| 746/2155 [00:20<00:33, 42.06it/s]"
     ]
    },
    {
     "name": "stderr",
     "output_type": "stream",
     "text": [
      "\r",
      "\u001b[1;34m￨ stanza 54, line 07: HANG on.such THORNS and PLAY as WAN ton LY             :  35%|\u001b[0;36m███▍      \u001b[0;36m| 746/2155 [00:20<00:33, 42.06it/s]"
     ]
    },
    {
     "name": "stderr",
     "output_type": "stream",
     "text": [
      "\r",
      "\u001b[1;34m￨ stanza 54, line 08: when SUM mer's BREATH their MASKED.BUDS dis CLO ses    :  35%|\u001b[0;36m███▍      \u001b[0;36m| 746/2155 [00:20<00:33, 42.06it/s]"
     ]
    },
    {
     "name": "stderr",
     "output_type": "stream",
     "text": [
      "\r",
      "\u001b[1;34m￨ stanza 54, line 09: but FOR their VIR tue ON ly IS their SHOW              :  35%|\u001b[0;36m███▍      \u001b[0;36m| 746/2155 [00:20<00:33, 42.06it/s]"
     ]
    },
    {
     "name": "stderr",
     "output_type": "stream",
     "text": [
      "\r",
      "\u001b[1;34m￨ stanza 54, line 10: they LIVE un WOO'D and UN res PEC ted FADE             :  35%|\u001b[0;36m███▍      \u001b[0;36m| 746/2155 [00:20<00:33, 42.06it/s]"
     ]
    },
    {
     "name": "stderr",
     "output_type": "stream",
     "text": [
      "\r",
      "\u001b[1;34m￨ stanza 54, line 11: die TO them SELVES sweet RO ses DO not.so              :  35%|\u001b[0;36m███▍      \u001b[0;36m| 746/2155 [00:20<00:33, 42.06it/s]"
     ]
    },
    {
     "name": "stderr",
     "output_type": "stream",
     "text": [
      "\r",
      "\u001b[1;34m￨ stanza 54, line 12: of THEIR sweet DEATHS are SWEE test O dours MADE       :  35%|\u001b[0;36m███▍      \u001b[0;36m| 746/2155 [00:20<00:33, 42.06it/s]"
     ]
    },
    {
     "name": "stderr",
     "output_type": "stream",
     "text": [
      "\r",
      "\u001b[1;34m￨ stanza 54, line 13: and SO of.you BEA uteous.and LO vely YOUTH             :  35%|\u001b[0;36m███▍      \u001b[0;36m| 746/2155 [00:20<00:33, 42.06it/s]"
     ]
    },
    {
     "name": "stderr",
     "output_type": "stream",
     "text": [
      "\r",
      "\u001b[1;34m￨ stanza 54, line 14: when THAT shall FADE my VERSE dis TILLS your TRUTH     :  35%|\u001b[0;36m███▍      \u001b[0;36m| 746/2155 [00:20<00:33, 42.06it/s]"
     ]
    },
    {
     "name": "stderr",
     "output_type": "stream",
     "text": [
      "\r",
      "\u001b[1;34m￨ stanza 55, line 01: not MAR ble NOR the GIL ded MO nu MENTS                :  35%|\u001b[0;36m███▍      \u001b[0;36m| 746/2155 [00:21<00:33, 42.06it/s]"
     ]
    },
    {
     "name": "stderr",
     "output_type": "stream",
     "text": [
      "\r",
      "\u001b[1;34m￨ stanza 55, line 02: of PRIN ces SHALL ou TLIVE this PO wer.ful RHYME       :  35%|\u001b[0;36m███▍      \u001b[0;36m| 746/2155 [00:21<00:33, 42.06it/s]"
     ]
    },
    {
     "name": "stderr",
     "output_type": "stream",
     "text": [
      "\r",
      "\u001b[1;34m￨ stanza 55, line 03: but YOU shall SHINE more BRIGHT in.these CON tents     :  35%|\u001b[0;36m███▍      \u001b[0;36m| 746/2155 [00:21<00:33, 42.06it/s]"
     ]
    },
    {
     "name": "stderr",
     "output_type": "stream",
     "text": [
      "\r",
      "\u001b[1;34m￨ stanza 55, line 04: THAN un SWEPT.STONE be SMEAR'D with SLUT tish TIME     :  35%|\u001b[0;36m███▍      \u001b[0;36m| 746/2155 [00:21<00:33, 42.06it/s]"
     ]
    },
    {
     "name": "stderr",
     "output_type": "stream",
     "text": [
      "\r",
      "\u001b[1;34m￨ stanza 55, line 05: when WAS teful WAR shall STA tues O ver TURN           :  35%|\u001b[0;36m███▍      \u001b[0;36m| 746/2155 [00:21<00:33, 42.06it/s]"
     ]
    },
    {
     "name": "stderr",
     "output_type": "stream",
     "text": [
      "\r",
      "\u001b[1;34m￨ stanza 55, line 06: and BROILS root OUT the WORK of MA son RY              :  35%|\u001b[0;36m███▍      \u001b[0;36m| 746/2155 [00:21<00:33, 42.06it/s]"
     ]
    },
    {
     "name": "stderr",
     "output_type": "stream",
     "text": [
      "\r",
      "\u001b[1;34m￨ stanza 55, line 07: nor MARS his SWORD nor WAR'S quick FIRE shall BURN     :  35%|\u001b[0;36m███▍      \u001b[0;36m| 746/2155 [00:21<00:33, 42.06it/s]"
     ]
    },
    {
     "name": "stderr",
     "output_type": "stream",
     "text": [
      "\r",
      "\u001b[1;34m￨ stanza 55, line 08: the LI ving RE cord OF your ME mo RY                   :  35%|\u001b[0;36m███▍      \u001b[0;36m| 746/2155 [00:21<00:33, 42.06it/s]"
     ]
    },
    {
     "name": "stderr",
     "output_type": "stream",
     "text": [
      "\r",
      "\u001b[1;34m￨ stanza 55, line 09: 'gainst DEATH and ALL o BLI vio.us EN mi TY            :  35%|\u001b[0;36m███▍      \u001b[0;36m| 746/2155 [00:21<00:33, 42.06it/s]"
     ]
    },
    {
     "name": "stderr",
     "output_type": "stream",
     "text": [
      "\r",
      "\u001b[1;34m￨ stanza 55, line 10: shall YOU pace FORTH your PRAISE shall STILL find ROOM :  35%|\u001b[0;36m███▍      \u001b[0;36m| 746/2155 [00:21<00:33, 42.06it/s]"
     ]
    },
    {
     "name": "stderr",
     "output_type": "stream",
     "text": [
      "\r",
      "\u001b[1;34m￨ stanza 55, line 10: shall YOU pace FORTH your PRAISE shall STILL find ROOM :  36%|\u001b[0;36m███▌      \u001b[0;36m| 766/2155 [00:21<00:26, 52.93it/s]"
     ]
    },
    {
     "name": "stderr",
     "output_type": "stream",
     "text": [
      "\r",
      "\u001b[1;34m￨ stanza 55, line 11: E ven IN the EYES of ALL pos TE ri TY                  :  36%|\u001b[0;36m███▌      \u001b[0;36m| 766/2155 [00:21<00:26, 52.93it/s]"
     ]
    },
    {
     "name": "stderr",
     "output_type": "stream",
     "text": [
      "\r",
      "\u001b[1;34m￨ stanza 55, line 12: that WEAR this WORLD out TO the EN ding DOOM           :  36%|\u001b[0;36m███▌      \u001b[0;36m| 766/2155 [00:21<00:26, 52.93it/s]"
     ]
    },
    {
     "name": "stderr",
     "output_type": "stream",
     "text": [
      "\r",
      "\u001b[1;34m￨ stanza 55, line 13: so TILL the JUD gment THAT yo URSELF a RISE            :  36%|\u001b[0;36m███▌      \u001b[0;36m| 766/2155 [00:21<00:26, 52.93it/s]"
     ]
    },
    {
     "name": "stderr",
     "output_type": "stream",
     "text": [
      "\r",
      "\u001b[1;34m￨ stanza 55, line 14: you LIVE in THIS and DWELL in LO ver's EYES            :  36%|\u001b[0;36m███▌      \u001b[0;36m| 766/2155 [00:21<00:26, 52.93it/s]"
     ]
    },
    {
     "name": "stderr",
     "output_type": "stream",
     "text": [
      "\r",
      "\u001b[1;34m￨ stanza 56, line 01: sweet LOVE re NEW thy FORCE be IT not SAID             :  36%|\u001b[0;36m███▌      \u001b[0;36m| 766/2155 [00:21<00:26, 52.93it/s]"
     ]
    },
    {
     "name": "stderr",
     "output_type": "stream",
     "text": [
      "\r",
      "\u001b[1;34m￨ stanza 56, line 02: thy EDGE should BLUN ter BE than AP pe TITE            :  36%|\u001b[0;36m███▌      \u001b[0;36m| 766/2155 [00:21<00:26, 52.93it/s]"
     ]
    },
    {
     "name": "stderr",
     "output_type": "stream",
     "text": [
      "\r",
      "\u001b[1;34m￨ stanza 56, line 03: WHICH but.to DAY by FEE ding IS al LAY'D               :  36%|\u001b[0;36m███▌      \u001b[0;36m| 766/2155 [00:21<00:26, 52.93it/s]"
     ]
    },
    {
     "name": "stderr",
     "output_type": "stream",
     "text": [
      "\r",
      "\u001b[1;34m￨ stanza 56, line 04: to MOR row SHAR pen'd IN his FOR mer MIGHT             :  36%|\u001b[0;36m███▌      \u001b[0;36m| 766/2155 [00:21<00:26, 52.93it/s]"
     ]
    },
    {
     "name": "stderr",
     "output_type": "stream",
     "text": [
      "\r",
      "\u001b[1;34m￨ stanza 56, line 05: so LOVE be THOU alt HOUGH to DAY thou FILL             :  36%|\u001b[0;36m███▌      \u001b[0;36m| 766/2155 [00:21<00:26, 52.93it/s]"
     ]
    },
    {
     "name": "stderr",
     "output_type": "stream",
     "text": [
      "\r",
      "\u001b[1;34m￨ stanza 56, line 06: thy HUN gry EYES e VEN till.they WINK with FULL ness   :  36%|\u001b[0;36m███▌      \u001b[0;36m| 766/2155 [00:21<00:26, 52.93it/s]"
     ]
    },
    {
     "name": "stderr",
     "output_type": "stream",
     "text": [
      "\r",
      "\u001b[1;34m￨ stanza 56, line 07: to MOR row SEE a GAIN and DO not KILL                  :  36%|\u001b[0;36m███▌      \u001b[0;36m| 766/2155 [00:21<00:26, 52.93it/s]"
     ]
    },
    {
     "name": "stderr",
     "output_type": "stream",
     "text": [
      "\r",
      "\u001b[1;34m￨ stanza 56, line 08: the SPI.RIT of LOVE with A per PE tu.al DULL ness      :  36%|\u001b[0;36m███▌      \u001b[0;36m| 766/2155 [00:21<00:26, 52.93it/s]"
     ]
    },
    {
     "name": "stderr",
     "output_type": "stream",
     "text": [
      "\r",
      "\u001b[1;34m￨ stanza 56, line 09: LET this SAD.IN terim LIKE the O cean BE               :  36%|\u001b[0;36m███▌      \u001b[0;36m| 766/2155 [00:21<00:26, 52.93it/s]"
     ]
    },
    {
     "name": "stderr",
     "output_type": "stream",
     "text": [
      "\r",
      "\u001b[1;34m￨ stanza 56, line 09: LET this SAD.IN terim LIKE the O cean BE               :  36%|\u001b[0;36m███▌      \u001b[0;36m| 779/2155 [00:21<00:29, 46.12it/s]"
     ]
    },
    {
     "name": "stderr",
     "output_type": "stream",
     "text": [
      "\r",
      "\u001b[1;34m￨ stanza 56, line 10: which PARTS the SHORE where TWO con TRAC ted NEW       :  36%|\u001b[0;36m███▌      \u001b[0;36m| 779/2155 [00:21<00:29, 46.12it/s]"
     ]
    },
    {
     "name": "stderr",
     "output_type": "stream",
     "text": [
      "\r",
      "\u001b[1;34m￨ stanza 56, line 11: come DAI ly TO the BANKS that WHEN they SEE            :  36%|\u001b[0;36m███▌      \u001b[0;36m| 779/2155 [00:21<00:29, 46.12it/s]"
     ]
    },
    {
     "name": "stderr",
     "output_type": "stream",
     "text": [
      "\r",
      "\u001b[1;34m￨ stanza 56, line 12: re TURN of LOVE more BLEST may BE the VIEW             :  36%|\u001b[0;36m███▌      \u001b[0;36m| 779/2155 [00:21<00:29, 46.12it/s]"
     ]
    },
    {
     "name": "stderr",
     "output_type": "stream",
     "text": [
      "\r",
      "\u001b[1;34m￨ stanza 56, line 13: else CALL it WIN.TER which BE ing FULL of CARE         :  36%|\u001b[0;36m███▌      \u001b[0;36m| 779/2155 [00:21<00:29, 46.12it/s]"
     ]
    },
    {
     "name": "stderr",
     "output_type": "stream",
     "text": [
      "\r",
      "\u001b[1;34m￨ stanza 56, line 14: makes SUM mer's WEL come THRICE more WISH'D more RARE  :  36%|\u001b[0;36m███▌      \u001b[0;36m| 779/2155 [00:21<00:29, 46.12it/s]"
     ]
    },
    {
     "name": "stderr",
     "output_type": "stream",
     "text": [
      "\r",
      "\u001b[1;34m￨ stanza 57, line 01: BE.ING your SLAVE what SHOULD i DO but TEND            :  36%|\u001b[0;36m███▌      \u001b[0;36m| 779/2155 [00:21<00:29, 46.12it/s]"
     ]
    },
    {
     "name": "stderr",
     "output_type": "stream",
     "text": [
      "\r",
      "\u001b[1;34m￨ stanza 57, line 02: u PON the HOURS and TIMES of YOUR de SIRE              :  36%|\u001b[0;36m███▌      \u001b[0;36m| 779/2155 [00:21<00:29, 46.12it/s]"
     ]
    },
    {
     "name": "stderr",
     "output_type": "stream",
     "text": [
      "\r",
      "\u001b[1;34m￨ stanza 57, line 03: i HAVE no PRE cious TIME at ALL to SPEND               :  36%|\u001b[0;36m███▌      \u001b[0;36m| 779/2155 [00:21<00:29, 46.12it/s]"
     ]
    },
    {
     "name": "stderr",
     "output_type": "stream",
     "text": [
      "\r",
      "\u001b[1;34m￨ stanza 57, line 04: nor SER vi CES to DO till YOU re QUIRE                 :  36%|\u001b[0;36m███▌      \u001b[0;36m| 779/2155 [00:21<00:29, 46.12it/s]"
     ]
    },
    {
     "name": "stderr",
     "output_type": "stream",
     "text": [
      "\r",
      "\u001b[1;34m￨ stanza 57, line 05: nor DARE i CHIDE the WORLD wit HOUT end HOUR           :  36%|\u001b[0;36m███▌      \u001b[0;36m| 779/2155 [00:21<00:29, 46.12it/s]"
     ]
    },
    {
     "name": "stderr",
     "output_type": "stream",
     "text": [
      "\r",
      "\u001b[1;34m￨ stanza 57, line 06: WHILST i.my SO vereign WATCH the CLOCK for YOU         :  36%|\u001b[0;36m███▌      \u001b[0;36m| 779/2155 [00:21<00:29, 46.12it/s]"
     ]
    },
    {
     "name": "stderr",
     "output_type": "stream",
     "text": [
      "\r",
      "\u001b[1;34m￨ stanza 57, line 07: nor THINK the BIT ter NESS of A bsence SOUR            :  36%|\u001b[0;36m███▌      \u001b[0;36m| 779/2155 [00:21<00:29, 46.12it/s]"
     ]
    },
    {
     "name": "stderr",
     "output_type": "stream",
     "text": [
      "\r",
      "\u001b[1;34m￨ stanza 57, line 08: when YOU have BID your SER vant ONCE a DIEU            :  36%|\u001b[0;36m███▌      \u001b[0;36m| 779/2155 [00:21<00:29, 46.12it/s]"
     ]
    },
    {
     "name": "stderr",
     "output_type": "stream",
     "text": [
      "\r",
      "\u001b[1;34m￨ stanza 57, line 09: nor DARE i QUES tion WITH my JEA lous THOUGHT          :  36%|\u001b[0;36m███▌      \u001b[0;36m| 779/2155 [00:21<00:29, 46.12it/s]"
     ]
    },
    {
     "name": "stderr",
     "output_type": "stream",
     "text": [
      "\r",
      "\u001b[1;34m￨ stanza 57, line 10: where YOU may BE or YOUR af FAIRS sup POSE             :  36%|\u001b[0;36m███▌      \u001b[0;36m| 779/2155 [00:21<00:29, 46.12it/s]"
     ]
    },
    {
     "name": "stderr",
     "output_type": "stream",
     "text": [
      "\r",
      "\u001b[1;34m￨ stanza 57, line 11: but LIKE a SAD slave STAY and THINK of NOUGHT          :  36%|\u001b[0;36m███▌      \u001b[0;36m| 779/2155 [00:21<00:29, 46.12it/s]"
     ]
    },
    {
     "name": "stderr",
     "output_type": "stream",
     "text": [
      "\r",
      "\u001b[1;34m￨ stanza 57, line 12: SAVE where YOU are.how HAP.PY you MAKE those           :  36%|\u001b[0;36m███▌      \u001b[0;36m| 779/2155 [00:21<00:29, 46.12it/s]"
     ]
    },
    {
     "name": "stderr",
     "output_type": "stream",
     "text": [
      "\r",
      "\u001b[1;34m￨ stanza 57, line 13: so TRUE a FOOL is LOVE that.in YOUR will               :  36%|\u001b[0;36m███▌      \u001b[0;36m| 779/2155 [00:22<00:29, 46.12it/s]"
     ]
    },
    {
     "name": "stderr",
     "output_type": "stream",
     "text": [
      "\r",
      "\u001b[1;34m￨ stanza 57, line 13: so TRUE a FOOL is LOVE that.in YOUR will               :  37%|\u001b[0;36m███▋      \u001b[0;36m| 797/2155 [00:22<00:35, 38.76it/s]"
     ]
    },
    {
     "name": "stderr",
     "output_type": "stream",
     "text": [
      "\r",
      "\u001b[1;34m￨ stanza 57, line 14: though YOU do A ny THING he THINKS no ILL              :  37%|\u001b[0;36m███▋      \u001b[0;36m| 797/2155 [00:22<00:35, 38.76it/s]"
     ]
    },
    {
     "name": "stderr",
     "output_type": "stream",
     "text": [
      "\r",
      "\u001b[1;34m￨ stanza 58, line 01: that GOD for BID that MADE me FIRST your SLAVE         :  37%|\u001b[0;36m███▋      \u001b[0;36m| 797/2155 [00:22<00:35, 38.76it/s]"
     ]
    },
    {
     "name": "stderr",
     "output_type": "stream",
     "text": [
      "\r",
      "\u001b[1;34m￨ stanza 58, line 02: i SHOULD in THOUGHT con TROL your TIMES of PLEA sure   :  37%|\u001b[0;36m███▋      \u001b[0;36m| 797/2155 [00:22<00:35, 38.76it/s]"
     ]
    },
    {
     "name": "stderr",
     "output_type": "stream",
     "text": [
      "\r",
      "\u001b[1;34m￨ stanza 58, line 03: or AT your HAND the AC.COUNT of HOURS to CRAVE         :  37%|\u001b[0;36m███▋      \u001b[0;36m| 797/2155 [00:22<00:35, 38.76it/s]"
     ]
    },
    {
     "name": "stderr",
     "output_type": "stream",
     "text": [
      "\r",
      "\u001b[1;34m￨ stanza 58, line 04: BE.ING your VAS sal BOUND to STAY your LEI sure        :  37%|\u001b[0;36m███▋      \u001b[0;36m| 797/2155 [00:22<00:35, 38.76it/s]"
     ]
    },
    {
     "name": "stderr",
     "output_type": "stream",
     "text": [
      "\r",
      "\u001b[1;34m￨ stanza 58, line 05: o LET me SUF fer BE ing AT your BECK                   :  37%|\u001b[0;36m███▋      \u001b[0;36m| 797/2155 [00:22<00:35, 38.76it/s]"
     ]
    },
    {
     "name": "stderr",
     "output_type": "stream",
     "text": [
      "\r",
      "\u001b[1;34m￨ stanza 58, line 06: THE im PRI son'd A bsence OF your LI ber TY            :  37%|\u001b[0;36m███▋      \u001b[0;36m| 797/2155 [00:22<00:35, 38.76it/s]"
     ]
    },
    {
     "name": "stderr",
     "output_type": "stream",
     "text": [
      "\r",
      "\u001b[1;34m￨ stanza 58, line 07: and PA tience TAME to SUF fe.rance BIDE each CHECK     :  37%|\u001b[0;36m███▋      \u001b[0;36m| 797/2155 [00:22<00:35, 38.76it/s]"
     ]
    },
    {
     "name": "stderr",
     "output_type": "stream",
     "text": [
      "\r",
      "\u001b[1;34m￨ stanza 58, line 07: and PA tience TAME to SUF fe.rance BIDE each CHECK     :  37%|\u001b[0;36m███▋      \u001b[0;36m| 805/2155 [00:22<00:38, 35.23it/s]"
     ]
    },
    {
     "name": "stderr",
     "output_type": "stream",
     "text": [
      "\r",
      "\u001b[1;34m￨ stanza 58, line 08: wit HOUT ac CU sing YOU of IN ju RY                    :  37%|\u001b[0;36m███▋      \u001b[0;36m| 805/2155 [00:22<00:38, 35.23it/s]"
     ]
    },
    {
     "name": "stderr",
     "output_type": "stream",
     "text": [
      "\r",
      "\u001b[1;34m￨ stanza 58, line 09: be WHERE you LIST your CHAR ter IS so STRONG           :  37%|\u001b[0;36m███▋      \u001b[0;36m| 805/2155 [00:22<00:38, 35.23it/s]"
     ]
    },
    {
     "name": "stderr",
     "output_type": "stream",
     "text": [
      "\r",
      "\u001b[1;34m￨ stanza 58, line 10: that YOU yo URSELF may PRI vilege YOUR time            :  37%|\u001b[0;36m███▋      \u001b[0;36m| 805/2155 [00:22<00:38, 35.23it/s]"
     ]
    },
    {
     "name": "stderr",
     "output_type": "stream",
     "text": [
      "\r",
      "\u001b[1;34m￨ stanza 58, line 11: to.what YOU will.to YOU it DOTH be LONG                :  37%|\u001b[0;36m███▋      \u001b[0;36m| 805/2155 [00:22<00:38, 35.23it/s]"
     ]
    },
    {
     "name": "stderr",
     "output_type": "stream",
     "text": [
      "\r",
      "\u001b[1;34m￨ stanza 58, line 12: yo URSELF to PAR don OF self DO ing CRIME              :  37%|\u001b[0;36m███▋      \u001b[0;36m| 805/2155 [00:22<00:38, 35.23it/s]"
     ]
    },
    {
     "name": "stderr",
     "output_type": "stream",
     "text": [
      "\r",
      "\u001b[1;34m￨ stanza 58, line 13: I am.to WAIT though WAI ting SO be HELL                :  37%|\u001b[0;36m███▋      \u001b[0;36m| 805/2155 [00:22<00:38, 35.23it/s]"
     ]
    },
    {
     "name": "stderr",
     "output_type": "stream",
     "text": [
      "\r",
      "\u001b[1;34m￨ stanza 58, line 14: not BLAME your PLEA sure BE it ILL or WELL             :  37%|\u001b[0;36m███▋      \u001b[0;36m| 805/2155 [00:22<00:38, 35.23it/s]"
     ]
    },
    {
     "name": "stderr",
     "output_type": "stream",
     "text": [
      "\r",
      "\u001b[1;34m￨ stanza 59, line 01: if THERE be NOT hing NEW but THAT which IS             :  37%|\u001b[0;36m███▋      \u001b[0;36m| 805/2155 [00:22<00:38, 35.23it/s]"
     ]
    },
    {
     "name": "stderr",
     "output_type": "stream",
     "text": [
      "\r",
      "\u001b[1;34m￨ stanza 59, line 02: hath BEEN be FORE how ARE our BRAINS be GUILED         :  37%|\u001b[0;36m███▋      \u001b[0;36m| 805/2155 [00:22<00:38, 35.23it/s]"
     ]
    },
    {
     "name": "stderr",
     "output_type": "stream",
     "text": [
      "\r",
      "\u001b[1;34m￨ stanza 59, line 03: which LA bou.ring FOR in VEN tion BEAR a MISS          :  37%|\u001b[0;36m███▋      \u001b[0;36m| 805/2155 [00:22<00:38, 35.23it/s]"
     ]
    },
    {
     "name": "stderr",
     "output_type": "stream",
     "text": [
      "\r",
      "\u001b[1;34m￨ stanza 59, line 04: the SE cond BUR den OF a FOR mer CHILD                 :  37%|\u001b[0;36m███▋      \u001b[0;36m| 805/2155 [00:22<00:38, 35.23it/s]"
     ]
    },
    {
     "name": "stderr",
     "output_type": "stream",
     "text": [
      "\r",
      "\u001b[1;34m￨ stanza 59, line 05: o.that RE cord COULD with.a BAC kward LOOK             :  37%|\u001b[0;36m███▋      \u001b[0;36m| 805/2155 [00:22<00:38, 35.23it/s]"
     ]
    },
    {
     "name": "stderr",
     "output_type": "stream",
     "text": [
      "\r",
      "\u001b[1;34m￨ stanza 59, line 06: E ven OF five HUN dred COUR ses OF the SUN             :  37%|\u001b[0;36m███▋      \u001b[0;36m| 805/2155 [00:22<00:38, 35.23it/s]"
     ]
    },
    {
     "name": "stderr",
     "output_type": "stream",
     "text": [
      "\r",
      "\u001b[1;34m￨ stanza 59, line 07: SHOW me.your I.MAGE in SOME an TIQUE book              :  37%|\u001b[0;36m███▋      \u001b[0;36m| 805/2155 [00:22<00:38, 35.23it/s]"
     ]
    },
    {
     "name": "stderr",
     "output_type": "stream",
     "text": [
      "\r",
      "\u001b[1;34m￨ stanza 59, line 08: since MIND at FIRST in CHA rac TER was DONE            :  37%|\u001b[0;36m███▋      \u001b[0;36m| 805/2155 [00:22<00:38, 35.23it/s]"
     ]
    },
    {
     "name": "stderr",
     "output_type": "stream",
     "text": [
      "\r",
      "\u001b[1;34m￨ stanza 59, line 09: that I might SEE what THE old WORLD could SAY          :  37%|\u001b[0;36m███▋      \u001b[0;36m| 805/2155 [00:22<00:38, 35.23it/s]"
     ]
    },
    {
     "name": "stderr",
     "output_type": "stream",
     "text": [
      "\r",
      "\u001b[1;34m￨ stanza 59, line 10: to THIS com POSED won DER of.your FRAME                :  37%|\u001b[0;36m███▋      \u001b[0;36m| 805/2155 [00:22<00:38, 35.23it/s]"
     ]
    },
    {
     "name": "stderr",
     "output_type": "stream",
     "text": [
      "\r",
      "\u001b[1;34m￨ stanza 59, line 11: WHET her WE are MEN ded.or WHET her BET ter THEY       :  37%|\u001b[0;36m███▋      \u001b[0;36m| 805/2155 [00:22<00:38, 35.23it/s]"
     ]
    },
    {
     "name": "stderr",
     "output_type": "stream",
     "text": [
      "\r",
      "\u001b[1;34m￨ stanza 59, line 12: or WHET her RE vo LU tion BE the SAME                  :  37%|\u001b[0;36m███▋      \u001b[0;36m| 805/2155 [00:22<00:38, 35.23it/s]"
     ]
    },
    {
     "name": "stderr",
     "output_type": "stream",
     "text": [
      "\r",
      "\u001b[1;34m￨ stanza 59, line 13: o SURE i AM the WITS of FOR mer DAYS                   :  37%|\u001b[0;36m███▋      \u001b[0;36m| 805/2155 [00:22<00:38, 35.23it/s]"
     ]
    },
    {
     "name": "stderr",
     "output_type": "stream",
     "text": [
      "\r",
      "\u001b[1;34m￨ stanza 59, line 14: to SUB jects WORSE have GI.VEN a DMI ring PRAISE       :  37%|\u001b[0;36m███▋      \u001b[0;36m| 805/2155 [00:22<00:38, 35.23it/s]"
     ]
    },
    {
     "name": "stderr",
     "output_type": "stream",
     "text": [
      "\r",
      "\u001b[1;34m￨ stanza 60, line 01: LIKE as.the WAVES make TOWARDS the PEB bled SHORE      :  37%|\u001b[0;36m███▋      \u001b[0;36m| 805/2155 [00:22<00:38, 35.23it/s]"
     ]
    },
    {
     "name": "stderr",
     "output_type": "stream",
     "text": [
      "\r",
      "\u001b[1;34m￨ stanza 60, line 02: so DO our MI nutes HAS ten TO their END                :  37%|\u001b[0;36m███▋      \u001b[0;36m| 805/2155 [00:22<00:38, 35.23it/s]"
     ]
    },
    {
     "name": "stderr",
     "output_type": "stream",
     "text": [
      "\r",
      "\u001b[1;34m￨ stanza 60, line 03: each CHAN ging PLACE with THAT which GOES be FORE      :  37%|\u001b[0;36m███▋      \u001b[0;36m| 805/2155 [00:22<00:38, 35.23it/s]"
     ]
    },
    {
     "name": "stderr",
     "output_type": "stream",
     "text": [
      "\r",
      "\u001b[1;34m￨ stanza 60, line 03: each CHAN ging PLACE with THAT which GOES be FORE      :  38%|\u001b[0;36m███▊      \u001b[0;36m| 829/2155 [00:22<00:27, 47.80it/s]"
     ]
    },
    {
     "name": "stderr",
     "output_type": "stream",
     "text": [
      "\r",
      "\u001b[1;34m￨ stanza 60, line 04: in SE quent TOIL all FOR wards DO con TEND             :  38%|\u001b[0;36m███▊      \u001b[0;36m| 829/2155 [00:22<00:27, 47.80it/s]"
     ]
    },
    {
     "name": "stderr",
     "output_type": "stream",
     "text": [
      "\r",
      "\u001b[1;34m￨ stanza 60, line 05: na TI vi.ty ONCE in.the MAIN of LIGHT                  :  38%|\u001b[0;36m███▊      \u001b[0;36m| 829/2155 [00:22<00:27, 47.80it/s]"
     ]
    },
    {
     "name": "stderr",
     "output_type": "stream",
     "text": [
      "\r",
      "\u001b[1;34m￨ stanza 60, line 06: crawls TO ma TU ri TY whe RE with BE ing CROWN'D       :  38%|\u001b[0;36m███▊      \u001b[0;36m| 829/2155 [00:22<00:27, 47.80it/s]"
     ]
    },
    {
     "name": "stderr",
     "output_type": "stream",
     "text": [
      "\r",
      "\u001b[1;34m￨ stanza 60, line 07: CROO.KED e LI pses 'GAINST his GLO ry FIGHT            :  38%|\u001b[0;36m███▊      \u001b[0;36m| 829/2155 [00:22<00:27, 47.80it/s]"
     ]
    },
    {
     "name": "stderr",
     "output_type": "stream",
     "text": [
      "\r",
      "\u001b[1;34m￨ stanza 60, line 08: and TIME that GAVE doth NOW his GIFT con FOUND         :  38%|\u001b[0;36m███▊      \u001b[0;36m| 829/2155 [00:23<00:27, 47.80it/s]"
     ]
    },
    {
     "name": "stderr",
     "output_type": "stream",
     "text": [
      "\r",
      "\u001b[1;34m￨ stanza 60, line 09: time DOTH trans FIX the FLOU rish SET on YOUTH         :  38%|\u001b[0;36m███▊      \u001b[0;36m| 829/2155 [00:23<00:27, 47.80it/s]"
     ]
    },
    {
     "name": "stderr",
     "output_type": "stream",
     "text": [
      "\r",
      "\u001b[1;34m￨ stanza 60, line 10: and DELVES the PA ral LELS in BEA uty's BROW           :  38%|\u001b[0;36m███▊      \u001b[0;36m| 829/2155 [00:23<00:27, 47.80it/s]"
     ]
    },
    {
     "name": "stderr",
     "output_type": "stream",
     "text": [
      "\r",
      "\u001b[1;34m￨ stanza 60, line 11: FEEDS on.the RA ri TIES of NA ture's TRUTH             :  38%|\u001b[0;36m███▊      \u001b[0;36m| 829/2155 [00:23<00:27, 47.80it/s]"
     ]
    },
    {
     "name": "stderr",
     "output_type": "stream",
     "text": [
      "\r",
      "\u001b[1;34m￨ stanza 60, line 11: FEEDS on.the RA ri TIES of NA ture's TRUTH             :  39%|\u001b[0;36m███▉      \u001b[0;36m| 837/2155 [00:23<00:35, 37.01it/s]"
     ]
    },
    {
     "name": "stderr",
     "output_type": "stream",
     "text": [
      "\r",
      "\u001b[1;34m￨ stanza 60, line 12: and NOT hing STANDS but FOR his SCYTHE to MOW          :  39%|\u001b[0;36m███▉      \u001b[0;36m| 837/2155 [00:23<00:35, 37.01it/s]"
     ]
    },
    {
     "name": "stderr",
     "output_type": "stream",
     "text": [
      "\r",
      "\u001b[1;34m￨ stanza 60, line 13: and YET to TIMES in HOPE my VERSE shall STAND          :  39%|\u001b[0;36m███▉      \u001b[0;36m| 837/2155 [00:23<00:35, 37.01it/s]"
     ]
    },
    {
     "name": "stderr",
     "output_type": "stream",
     "text": [
      "\r",
      "\u001b[1;34m￨ stanza 60, line 14: PRAI sing.thy WORTH des PITE his CR uel HAND           :  39%|\u001b[0;36m███▉      \u001b[0;36m| 837/2155 [00:23<00:35, 37.01it/s]"
     ]
    },
    {
     "name": "stderr",
     "output_type": "stream",
     "text": [
      "\r",
      "\u001b[1;34m￨ stanza 61, line 01: is.it THY will.thy I mage SHOULD keep O pen            :  39%|\u001b[0;36m███▉      \u001b[0;36m| 837/2155 [00:23<00:35, 37.01it/s]"
     ]
    },
    {
     "name": "stderr",
     "output_type": "stream",
     "text": [
      "\r",
      "\u001b[1;34m￨ stanza 61, line 02: my HEA vy EY.ELIDS to.the WEA ry NIGHT                 :  39%|\u001b[0;36m███▉      \u001b[0;36m| 837/2155 [00:23<00:35, 37.01it/s]"
     ]
    },
    {
     "name": "stderr",
     "output_type": "stream",
     "text": [
      "\r",
      "\u001b[1;34m￨ stanza 61, line 03: dost THOU de SIRE my SLUM bers SHOULD be BRO ken       :  39%|\u001b[0;36m███▉      \u001b[0;36m| 837/2155 [00:23<00:35, 37.01it/s]"
     ]
    },
    {
     "name": "stderr",
     "output_type": "stream",
     "text": [
      "\r",
      "\u001b[1;34m￨ stanza 61, line 03: dost THOU de SIRE my SLUM bers SHOULD be BRO ken       :  39%|\u001b[0;36m███▉      \u001b[0;36m| 843/2155 [00:23<00:40, 32.44it/s]"
     ]
    },
    {
     "name": "stderr",
     "output_type": "stream",
     "text": [
      "\r",
      "\u001b[1;34m￨ stanza 61, line 04: while SHA.DOWS like.to THEE do MOCK my SIGHT           :  39%|\u001b[0;36m███▉      \u001b[0;36m| 843/2155 [00:23<00:40, 32.44it/s]"
     ]
    },
    {
     "name": "stderr",
     "output_type": "stream",
     "text": [
      "\r",
      "\u001b[1;34m￨ stanza 61, line 05: is IT thy SPI rit THAT thou SEND'ST from THEE          :  39%|\u001b[0;36m███▉      \u001b[0;36m| 843/2155 [00:23<00:40, 32.44it/s]"
     ]
    },
    {
     "name": "stderr",
     "output_type": "stream",
     "text": [
      "\r",
      "\u001b[1;34m￨ stanza 61, line 06: so FAR from HOME in TO my DEEDS to PRY                 :  39%|\u001b[0;36m███▉      \u001b[0;36m| 843/2155 [00:23<00:40, 32.44it/s]"
     ]
    },
    {
     "name": "stderr",
     "output_type": "stream",
     "text": [
      "\r",
      "\u001b[1;34m￨ stanza 61, line 07: to FIND out SHAMES and I dle HOURS in ME               :  39%|\u001b[0;36m███▉      \u001b[0;36m| 843/2155 [00:23<00:40, 32.44it/s]"
     ]
    },
    {
     "name": "stderr",
     "output_type": "stream",
     "text": [
      "\r",
      "\u001b[1;34m￨ stanza 61, line 08: the SCOPE and TE nor OF thy JEA lou SY                 :  39%|\u001b[0;36m███▉      \u001b[0;36m| 843/2155 [00:23<00:40, 32.44it/s]"
     ]
    },
    {
     "name": "stderr",
     "output_type": "stream",
     "text": [
      "\r",
      "\u001b[1;34m￨ stanza 61, line 08: the SCOPE and TE nor OF thy JEA lou SY                 :  39%|\u001b[0;36m███▉      \u001b[0;36m| 848/2155 [00:23<00:40, 32.48it/s]"
     ]
    },
    {
     "name": "stderr",
     "output_type": "stream",
     "text": [
      "\r",
      "\u001b[1;34m￨ stanza 61, line 09: o NO thy LOVE though MUCH is NOT so GREAT              :  39%|\u001b[0;36m███▉      \u001b[0;36m| 848/2155 [00:23<00:40, 32.48it/s]"
     ]
    },
    {
     "name": "stderr",
     "output_type": "stream",
     "text": [
      "\r",
      "\u001b[1;34m￨ stanza 61, line 10: it IS my LOVE that KEEPS mine EYE a WAKE               :  39%|\u001b[0;36m███▉      \u001b[0;36m| 848/2155 [00:23<00:40, 32.48it/s]"
     ]
    },
    {
     "name": "stderr",
     "output_type": "stream",
     "text": [
      "\r",
      "\u001b[1;34m￨ stanza 61, line 11: mine.own TRUE love THAT doth.my REST de FEAT           :  39%|\u001b[0;36m███▉      \u001b[0;36m| 848/2155 [00:23<00:40, 32.48it/s]"
     ]
    },
    {
     "name": "stderr",
     "output_type": "stream",
     "text": [
      "\r",
      "\u001b[1;34m￨ stanza 61, line 12: to PLAY the WATC hman E ver FOR thy SAKE               :  39%|\u001b[0;36m███▉      \u001b[0;36m| 848/2155 [00:23<00:40, 32.48it/s]"
     ]
    },
    {
     "name": "stderr",
     "output_type": "stream",
     "text": [
      "\r",
      "\u001b[1;34m￨ stanza 61, line 13: for.thee WATCH i WHILST thou.dost WAKE el SEWHERE      :  39%|\u001b[0;36m███▉      \u001b[0;36m| 848/2155 [00:23<00:40, 32.48it/s]"
     ]
    },
    {
     "name": "stderr",
     "output_type": "stream",
     "text": [
      "\r",
      "\u001b[1;34m￨ stanza 61, line 14: from.me FAR off.with OT hers ALL too NEAR              :  39%|\u001b[0;36m███▉      \u001b[0;36m| 848/2155 [00:23<00:40, 32.48it/s]"
     ]
    },
    {
     "name": "stderr",
     "output_type": "stream",
     "text": [
      "\r",
      "\u001b[1;34m￨ stanza 62, line 01: SIN of SELF.LOVE pos SES seth ALL mine EYE             :  39%|\u001b[0;36m███▉      \u001b[0;36m| 848/2155 [00:23<00:40, 32.48it/s]"
     ]
    },
    {
     "name": "stderr",
     "output_type": "stream",
     "text": [
      "\r",
      "\u001b[1;34m￨ stanza 62, line 02: and ALL my SOUL and ALL my E very PART                 :  39%|\u001b[0;36m███▉      \u001b[0;36m| 848/2155 [00:23<00:40, 32.48it/s]"
     ]
    },
    {
     "name": "stderr",
     "output_type": "stream",
     "text": [
      "\r",
      "\u001b[1;34m￨ stanza 62, line 03: and FOR this SIN there IS no RE me DY                  :  39%|\u001b[0;36m███▉      \u001b[0;36m| 848/2155 [00:23<00:40, 32.48it/s]"
     ]
    },
    {
     "name": "stderr",
     "output_type": "stream",
     "text": [
      "\r",
      "\u001b[1;34m￨ stanza 62, line 04: it IS so GROUN ded IN ward IN my HEART                 :  39%|\u001b[0;36m███▉      \u001b[0;36m| 848/2155 [00:23<00:40, 32.48it/s]"
     ]
    },
    {
     "name": "stderr",
     "output_type": "stream",
     "text": [
      "\r",
      "\u001b[1;34m￨ stanza 62, line 05: met HINKS no FACE so GRA cious IS as.mine              :  39%|\u001b[0;36m███▉      \u001b[0;36m| 848/2155 [00:23<00:40, 32.48it/s]"
     ]
    },
    {
     "name": "stderr",
     "output_type": "stream",
     "text": [
      "\r",
      "\u001b[1;34m￨ stanza 62, line 06: no SHAPE so TRUE no TRUTH of SUCH ac COUNT             :  39%|\u001b[0;36m███▉      \u001b[0;36m| 848/2155 [00:23<00:40, 32.48it/s]"
     ]
    },
    {
     "name": "stderr",
     "output_type": "stream",
     "text": [
      "\r",
      "\u001b[1;34m￨ stanza 62, line 07: and.for MY.SELF mine OWN worth DO de FINE              :  39%|\u001b[0;36m███▉      \u001b[0;36m| 848/2155 [00:23<00:40, 32.48it/s]"
     ]
    },
    {
     "name": "stderr",
     "output_type": "stream",
     "text": [
      "\r",
      "\u001b[1;34m￨ stanza 62, line 08: as I all OT her IN all WORTHS sur MOUNT                :  39%|\u001b[0;36m███▉      \u001b[0;36m| 848/2155 [00:23<00:40, 32.48it/s]"
     ]
    },
    {
     "name": "stderr",
     "output_type": "stream",
     "text": [
      "\r",
      "\u001b[1;34m￨ stanza 62, line 09: but WHEN my GLASS shows ME my SELF in DEED             :  39%|\u001b[0;36m███▉      \u001b[0;36m| 848/2155 [00:23<00:40, 32.48it/s]"
     ]
    },
    {
     "name": "stderr",
     "output_type": "stream",
     "text": [
      "\r",
      "\u001b[1;34m￨ stanza 62, line 10: BEA.TED and CHOPP'D with TANN'D an TI qui TY           :  39%|\u001b[0;36m███▉      \u001b[0;36m| 848/2155 [00:23<00:40, 32.48it/s]"
     ]
    },
    {
     "name": "stderr",
     "output_type": "stream",
     "text": [
      "\r",
      "\u001b[1;34m￨ stanza 62, line 11: mine.own SELF love QUITE con TRA ry I read             :  39%|\u001b[0;36m███▉      \u001b[0;36m| 848/2155 [00:23<00:40, 32.48it/s]"
     ]
    },
    {
     "name": "stderr",
     "output_type": "stream",
     "text": [
      "\r",
      "\u001b[1;34m￨ stanza 62, line 12: SELF so SELF lo.ving WERE i NI qui TY                  :  39%|\u001b[0;36m███▉      \u001b[0;36m| 848/2155 [00:23<00:40, 32.48it/s]"
     ]
    },
    {
     "name": "stderr",
     "output_type": "stream",
     "text": [
      "\r",
      "\u001b[1;34m￨ stanza 62, line 13: 'TIS thee MY self THAT for MY.SELF i PRAISE            :  39%|\u001b[0;36m███▉      \u001b[0;36m| 848/2155 [00:23<00:40, 32.48it/s]"
     ]
    },
    {
     "name": "stderr",
     "output_type": "stream",
     "text": [
      "\r",
      "\u001b[1;34m￨ stanza 62, line 13: 'TIS thee MY self THAT for MY.SELF i PRAISE            :  40%|\u001b[0;36m████      \u001b[0;36m| 867/2155 [00:23<00:25, 50.63it/s]"
     ]
    },
    {
     "name": "stderr",
     "output_type": "stream",
     "text": [
      "\r",
      "\u001b[1;34m￨ stanza 62, line 14: PAIN ting.my AGE with BEA uty OF thy DAYS              :  40%|\u001b[0;36m████      \u001b[0;36m| 867/2155 [00:23<00:25, 50.63it/s]"
     ]
    },
    {
     "name": "stderr",
     "output_type": "stream",
     "text": [
      "\r",
      "\u001b[1;34m￨ stanza 63, line 01: a GAINST my LOVE shall BE as I am NOW                  :  40%|\u001b[0;36m████      \u001b[0;36m| 867/2155 [00:23<00:25, 50.63it/s]"
     ]
    },
    {
     "name": "stderr",
     "output_type": "stream",
     "text": [
      "\r",
      "\u001b[1;34m￨ stanza 63, line 02: with TIME'S in JU rio US hand CRUSH'D and.o'er WORN    :  40%|\u001b[0;36m████      \u001b[0;36m| 867/2155 [00:23<00:25, 50.63it/s]"
     ]
    },
    {
     "name": "stderr",
     "output_type": "stream",
     "text": [
      "\r",
      "\u001b[1;34m￨ stanza 63, line 03: when HOURS have DRAIN'D his BLOOD and FILL'D his BROW  :  40%|\u001b[0;36m████      \u001b[0;36m| 867/2155 [00:23<00:25, 50.63it/s]"
     ]
    },
    {
     "name": "stderr",
     "output_type": "stream",
     "text": [
      "\r",
      "\u001b[1;34m￨ stanza 63, line 04: with LINES and WRIN kles WHEN his YO uthful MORN       :  40%|\u001b[0;36m████      \u001b[0;36m| 867/2155 [00:23<00:25, 50.63it/s]"
     ]
    },
    {
     "name": "stderr",
     "output_type": "stream",
     "text": [
      "\r",
      "\u001b[1;34m￨ stanza 63, line 05: hath TRA vell'd ON to A ge's STEE py NIGHT             :  40%|\u001b[0;36m████      \u001b[0;36m| 867/2155 [00:23<00:25, 50.63it/s]"
     ]
    },
    {
     "name": "stderr",
     "output_type": "stream",
     "text": [
      "\r",
      "\u001b[1;34m￨ stanza 63, line 06: and ALL those BEA uties WHE re.of NOW he's KING        :  40%|\u001b[0;36m████      \u001b[0;36m| 867/2155 [00:23<00:25, 50.63it/s]"
     ]
    },
    {
     "name": "stderr",
     "output_type": "stream",
     "text": [
      "\r",
      "\u001b[1;34m￨ stanza 63, line 07: are VA nis HING or VA nish'd OUT of SIGHT              :  40%|\u001b[0;36m████      \u001b[0;36m| 867/2155 [00:23<00:25, 50.63it/s]"
     ]
    },
    {
     "name": "stderr",
     "output_type": "stream",
     "text": [
      "\r",
      "\u001b[1;34m￨ stanza 63, line 08: STEA.LING a WAY the TREA sure OF his SPRING            :  40%|\u001b[0;36m████      \u001b[0;36m| 867/2155 [00:23<00:25, 50.63it/s]"
     ]
    },
    {
     "name": "stderr",
     "output_type": "stream",
     "text": [
      "\r",
      "\u001b[1;34m￨ stanza 63, line 09: for SUCH a TIME do I now FOR ti FY                     :  40%|\u001b[0;36m████      \u001b[0;36m| 867/2155 [00:23<00:25, 50.63it/s]"
     ]
    },
    {
     "name": "stderr",
     "output_type": "stream",
     "text": [
      "\r",
      "\u001b[1;34m￨ stanza 63, line 10: a GAINST con FOUN ding A ge's CR uel KNIFE             :  40%|\u001b[0;36m████      \u001b[0;36m| 867/2155 [00:23<00:25, 50.63it/s]"
     ]
    },
    {
     "name": "stderr",
     "output_type": "stream",
     "text": [
      "\r",
      "\u001b[1;34m￨ stanza 63, line 11: that HE shall NE ver CUT from ME mo RY                 :  40%|\u001b[0;36m████      \u001b[0;36m| 867/2155 [00:23<00:25, 50.63it/s]"
     ]
    },
    {
     "name": "stderr",
     "output_type": "stream",
     "text": [
      "\r",
      "\u001b[1;34m￨ stanza 63, line 12: my SWEET love's BEA uty THOUGH my LO ver's LIFE        :  40%|\u001b[0;36m████      \u001b[0;36m| 867/2155 [00:23<00:25, 50.63it/s]"
     ]
    },
    {
     "name": "stderr",
     "output_type": "stream",
     "text": [
      "\r",
      "\u001b[1;34m￨ stanza 63, line 13: his BEA uty SHALL in THESE black LINES be SEEN         :  40%|\u001b[0;36m████      \u001b[0;36m| 867/2155 [00:23<00:25, 50.63it/s]"
     ]
    },
    {
     "name": "stderr",
     "output_type": "stream",
     "text": [
      "\r",
      "\u001b[1;34m￨ stanza 63, line 14: and THEY shall LIVE and HE in THEM still GREEN         :  40%|\u001b[0;36m████      \u001b[0;36m| 867/2155 [00:23<00:25, 50.63it/s]"
     ]
    },
    {
     "name": "stderr",
     "output_type": "stream",
     "text": [
      "\r",
      "\u001b[1;34m￨ stanza 63, line 14: and THEY shall LIVE and HE in THEM still GREEN         :  41%|\u001b[0;36m████      \u001b[0;36m| 882/2155 [00:23<00:19, 64.13it/s]"
     ]
    },
    {
     "name": "stderr",
     "output_type": "stream",
     "text": [
      "\r",
      "\u001b[1;34m￨ stanza 64, line 01: when I have SEEN by TIME'S fell HAND de FACED          :  41%|\u001b[0;36m████      \u001b[0;36m| 882/2155 [00:23<00:19, 64.13it/s]"
     ]
    },
    {
     "name": "stderr",
     "output_type": "stream",
     "text": [
      "\r",
      "\u001b[1;34m￨ stanza 64, line 02: the RICH proud COST of OU tworn BU ried AGE            :  41%|\u001b[0;36m████      \u001b[0;36m| 882/2155 [00:24<00:19, 64.13it/s]"
     ]
    },
    {
     "name": "stderr",
     "output_type": "stream",
     "text": [
      "\r",
      "\u001b[1;34m￨ stanza 64, line 03: when SO metime LOF ty TO wers.i SEE down RAZED         :  41%|\u001b[0;36m████      \u001b[0;36m| 882/2155 [00:24<00:19, 64.13it/s]"
     ]
    },
    {
     "name": "stderr",
     "output_type": "stream",
     "text": [
      "\r",
      "\u001b[1;34m￨ stanza 64, line 04: and BRASS e TER nal SLAVE to MOR tal RAGE              :  41%|\u001b[0;36m████      \u001b[0;36m| 882/2155 [00:24<00:19, 64.13it/s]"
     ]
    },
    {
     "name": "stderr",
     "output_type": "stream",
     "text": [
      "\r",
      "\u001b[1;34m￨ stanza 64, line 05: when I have SEEN the HUN gry O cean GAIN               :  41%|\u001b[0;36m████      \u001b[0;36m| 882/2155 [00:24<00:19, 64.13it/s]"
     ]
    },
    {
     "name": "stderr",
     "output_type": "stream",
     "text": [
      "\r",
      "\u001b[1;34m￨ stanza 64, line 06: a DVAN tage ON the KING dom OF the SHORE               :  41%|\u001b[0;36m████      \u001b[0;36m| 882/2155 [00:24<00:19, 64.13it/s]"
     ]
    },
    {
     "name": "stderr",
     "output_type": "stream",
     "text": [
      "\r",
      "\u001b[1;34m￨ stanza 64, line 07: and.the FIRM soil WIN of.the WA te.ry MAIN             :  41%|\u001b[0;36m████      \u001b[0;36m| 882/2155 [00:24<00:19, 64.13it/s]"
     ]
    },
    {
     "name": "stderr",
     "output_type": "stream",
     "text": [
      "\r",
      "\u001b[1;34m￨ stanza 64, line 08: in CREA sing STORE with LOSS and LOSS with STORE       :  41%|\u001b[0;36m████      \u001b[0;36m| 882/2155 [00:24<00:19, 64.13it/s]"
     ]
    },
    {
     "name": "stderr",
     "output_type": "stream",
     "text": [
      "\r",
      "\u001b[1;34m￨ stanza 64, line 09: when I have SEEN such IN terc HANGE of STATE           :  41%|\u001b[0;36m████      \u001b[0;36m| 882/2155 [00:24<00:19, 64.13it/s]"
     ]
    },
    {
     "name": "stderr",
     "output_type": "stream",
     "text": [
      "\r",
      "\u001b[1;34m￨ stanza 64, line 10: or STATE i TSELF con FOUN ded TO de CAY                :  41%|\u001b[0;36m████      \u001b[0;36m| 882/2155 [00:24<00:19, 64.13it/s]"
     ]
    },
    {
     "name": "stderr",
     "output_type": "stream",
     "text": [
      "\r",
      "\u001b[1;34m￨ stanza 64, line 10: or STATE i TSELF con FOUN ded TO de CAY                :  41%|\u001b[0;36m████▏     \u001b[0;36m| 892/2155 [00:24<00:42, 29.74it/s]"
     ]
    },
    {
     "name": "stderr",
     "output_type": "stream",
     "text": [
      "\r",
      "\u001b[1;34m￨ stanza 64, line 11: RU.IN hath TAUGHT me THUS to RU mi NATE                :  41%|\u001b[0;36m████▏     \u001b[0;36m| 892/2155 [00:24<00:42, 29.74it/s]"
     ]
    },
    {
     "name": "stderr",
     "output_type": "stream",
     "text": [
      "\r",
      "\u001b[1;34m￨ stanza 64, line 12: that TIME will COME and TAKE my LOVE a WAY             :  41%|\u001b[0;36m████▏     \u001b[0;36m| 892/2155 [00:24<00:42, 29.74it/s]"
     ]
    },
    {
     "name": "stderr",
     "output_type": "stream",
     "text": [
      "\r",
      "\u001b[1;34m￨ stanza 64, line 13: this THOUGHT is AS a DEATH which CAN not CHOOSE        :  41%|\u001b[0;36m████▏     \u001b[0;36m| 892/2155 [00:24<00:42, 29.74it/s]"
     ]
    },
    {
     "name": "stderr",
     "output_type": "stream",
     "text": [
      "\r",
      "\u001b[1;34m￨ stanza 64, line 14: but WEEP to HAVE that WHICH it FEARS to LOSE           :  41%|\u001b[0;36m████▏     \u001b[0;36m| 892/2155 [00:24<00:42, 29.74it/s]"
     ]
    },
    {
     "name": "stderr",
     "output_type": "stream",
     "text": [
      "\r",
      "\u001b[1;34m￨ stanza 65, line 01: since BRASS nor STONE nor EARTH nor BOUN dless SEA     :  41%|\u001b[0;36m████▏     \u001b[0;36m| 892/2155 [00:24<00:42, 29.74it/s]"
     ]
    },
    {
     "name": "stderr",
     "output_type": "stream",
     "text": [
      "\r",
      "\u001b[1;34m￨ stanza 65, line 02: but SAD mor TA li TY o'er SWAYS their PO wer           :  41%|\u001b[0;36m████▏     \u001b[0;36m| 892/2155 [00:24<00:42, 29.74it/s]"
     ]
    },
    {
     "name": "stderr",
     "output_type": "stream",
     "text": [
      "\r",
      "\u001b[1;34m￨ stanza 65, line 03: how WITH this RAGE shall BEA uty HOLD a PLEA           :  41%|\u001b[0;36m████▏     \u001b[0;36m| 892/2155 [00:24<00:42, 29.74it/s]"
     ]
    },
    {
     "name": "stderr",
     "output_type": "stream",
     "text": [
      "\r",
      "\u001b[1;34m￨ stanza 65, line 04: whose AC tion IS no STRON ger THAN a FLO wer           :  41%|\u001b[0;36m████▏     \u001b[0;36m| 892/2155 [00:24<00:42, 29.74it/s]"
     ]
    },
    {
     "name": "stderr",
     "output_type": "stream",
     "text": [
      "\r",
      "\u001b[1;34m￨ stanza 65, line 05: o HOW shall SUM mer's HO ney BREATH hold OUT           :  41%|\u001b[0;36m████▏     \u001b[0;36m| 892/2155 [00:24<00:42, 29.74it/s]"
     ]
    },
    {
     "name": "stderr",
     "output_type": "stream",
     "text": [
      "\r",
      "\u001b[1;34m￨ stanza 65, line 06: a GAINST the WREC kful SIEGE of BAT te.ring DAYS       :  41%|\u001b[0;36m████▏     \u001b[0;36m| 892/2155 [00:24<00:42, 29.74it/s]"
     ]
    },
    {
     "name": "stderr",
     "output_type": "stream",
     "text": [
      "\r",
      "\u001b[1;34m￨ stanza 65, line 07: when ROCKS im PRE gna BLE are NOT so STOUT             :  41%|\u001b[0;36m████▏     \u001b[0;36m| 892/2155 [00:24<00:42, 29.74it/s]"
     ]
    },
    {
     "name": "stderr",
     "output_type": "stream",
     "text": [
      "\r",
      "\u001b[1;34m￨ stanza 65, line 08: nor GATES of STEEL so STRONG but TIME de CAYS          :  41%|\u001b[0;36m████▏     \u001b[0;36m| 892/2155 [00:24<00:42, 29.74it/s]"
     ]
    },
    {
     "name": "stderr",
     "output_type": "stream",
     "text": [
      "\r",
      "\u001b[1;34m￨ stanza 65, line 09: o FEAR ful ME di TA tion WHERE a LACK                  :  41%|\u001b[0;36m████▏     \u001b[0;36m| 892/2155 [00:24<00:42, 29.74it/s]"
     ]
    },
    {
     "name": "stderr",
     "output_type": "stream",
     "text": [
      "\r",
      "\u001b[1;34m￨ stanza 65, line 10: shall TIME'S best JEWEL from TIME'S chest LIE hid      :  41%|\u001b[0;36m████▏     \u001b[0;36m| 892/2155 [00:24<00:42, 29.74it/s]"
     ]
    },
    {
     "name": "stderr",
     "output_type": "stream",
     "text": [
      "\r",
      "\u001b[1;34m￨ stanza 65, line 11: or WHAT strong HAND can HOLD his SWIFT foot BACK       :  41%|\u001b[0;36m████▏     \u001b[0;36m| 892/2155 [00:24<00:42, 29.74it/s]"
     ]
    },
    {
     "name": "stderr",
     "output_type": "stream",
     "text": [
      "\r",
      "\u001b[1;34m￨ stanza 65, line 12: or WHO his SPOIL of BEA uty CAN for BID                :  41%|\u001b[0;36m████▏     \u001b[0;36m| 892/2155 [00:24<00:42, 29.74it/s]"
     ]
    },
    {
     "name": "stderr",
     "output_type": "stream",
     "text": [
      "\r",
      "\u001b[1;34m￨ stanza 65, line 13: o NONE un LESS this MI ra CLE have MIGHT               :  41%|\u001b[0;36m████▏     \u001b[0;36m| 892/2155 [00:24<00:42, 29.74it/s]"
     ]
    },
    {
     "name": "stderr",
     "output_type": "stream",
     "text": [
      "\r",
      "\u001b[1;34m￨ stanza 65, line 14: that IN black INK my LOVE may STILL shine BRIGHT       :  41%|\u001b[0;36m████▏     \u001b[0;36m| 892/2155 [00:24<00:42, 29.74it/s]"
     ]
    },
    {
     "name": "stderr",
     "output_type": "stream",
     "text": [
      "\r",
      "\u001b[1;34m￨ stanza 66, line 01: TI red WITH all THESE for RES tful DEATH i CRY         :  41%|\u001b[0;36m████▏     \u001b[0;36m| 892/2155 [00:24<00:42, 29.74it/s]"
     ]
    },
    {
     "name": "stderr",
     "output_type": "stream",
     "text": [
      "\r",
      "\u001b[1;34m￨ stanza 66, line 02: as TO be HOLD de SERT a BEG gar BORN                   :  41%|\u001b[0;36m████▏     \u001b[0;36m| 892/2155 [00:24<00:42, 29.74it/s]"
     ]
    },
    {
     "name": "stderr",
     "output_type": "stream",
     "text": [
      "\r",
      "\u001b[1;34m￨ stanza 66, line 03: and NEE dy NOT hing TRIMM'D in JOL li TY               :  41%|\u001b[0;36m████▏     \u001b[0;36m| 892/2155 [00:24<00:42, 29.74it/s]"
     ]
    },
    {
     "name": "stderr",
     "output_type": "stream",
     "text": [
      "\r",
      "\u001b[1;34m￨ stanza 66, line 04: and PU rest FAITH un HAP pi LY for SWORN               :  41%|\u001b[0;36m████▏     \u001b[0;36m| 892/2155 [00:24<00:42, 29.74it/s]"
     ]
    },
    {
     "name": "stderr",
     "output_type": "stream",
     "text": [
      "\r",
      "\u001b[1;34m￨ stanza 66, line 05: and GUIL ded HO nour SHA me FULLY mis PLACED           :  41%|\u001b[0;36m████▏     \u001b[0;36m| 892/2155 [00:24<00:42, 29.74it/s]"
     ]
    },
    {
     "name": "stderr",
     "output_type": "stream",
     "text": [
      "\r",
      "\u001b[1;34m￨ stanza 66, line 06: and MAI den VIR tue RU dely STRUM pe TED               :  41%|\u001b[0;36m████▏     \u001b[0;36m| 892/2155 [00:24<00:42, 29.74it/s]"
     ]
    },
    {
     "name": "stderr",
     "output_type": "stream",
     "text": [
      "\r",
      "\u001b[1;34m￨ stanza 66, line 07: and RIGHT per FEC tion WRON gful LY dis GRACED         :  41%|\u001b[0;36m████▏     \u001b[0;36m| 892/2155 [00:24<00:42, 29.74it/s]"
     ]
    },
    {
     "name": "stderr",
     "output_type": "stream",
     "text": [
      "\r",
      "\u001b[1;34m￨ stanza 66, line 08: and STRENGTH by LIM ping SWAY di SA bled               :  41%|\u001b[0;36m████▏     \u001b[0;36m| 892/2155 [00:24<00:42, 29.74it/s]"
     ]
    },
    {
     "name": "stderr",
     "output_type": "stream",
     "text": [
      "\r",
      "\u001b[1;34m￨ stanza 66, line 09: and ART made TONGUE tied BY aut HO ri TY               :  41%|\u001b[0;36m████▏     \u001b[0;36m| 892/2155 [00:24<00:42, 29.74it/s]"
     ]
    },
    {
     "name": "stderr",
     "output_type": "stream",
     "text": [
      "\r",
      "\u001b[1;34m￨ stanza 66, line 10: and FOL ly DOC tor LIKE con TROL ling SKILL            :  41%|\u001b[0;36m████▏     \u001b[0;36m| 892/2155 [00:24<00:42, 29.74it/s]"
     ]
    },
    {
     "name": "stderr",
     "output_type": "stream",
     "text": [
      "\r",
      "\u001b[1;34m￨ stanza 66, line 10: and FOL ly DOC tor LIKE con TROL ling SKILL            :  43%|\u001b[0;36m████▎     \u001b[0;36m| 920/2155 [00:24<00:23, 52.17it/s]"
     ]
    },
    {
     "name": "stderr",
     "output_type": "stream",
     "text": [
      "\r",
      "\u001b[1;34m￨ stanza 66, line 11: and SIM ple TRUTH mis CALL'D sim PLI ci TY             :  43%|\u001b[0;36m████▎     \u001b[0;36m| 920/2155 [00:24<00:23, 52.17it/s]"
     ]
    },
    {
     "name": "stderr",
     "output_type": "stream",
     "text": [
      "\r",
      "\u001b[1;34m￨ stanza 66, line 12: and CAP tive GOOD at TEN ding CAP tain ILL             :  43%|\u001b[0;36m████▎     \u001b[0;36m| 920/2155 [00:24<00:23, 52.17it/s]"
     ]
    },
    {
     "name": "stderr",
     "output_type": "stream",
     "text": [
      "\r",
      "\u001b[1;34m￨ stanza 66, line 13: TI red WITH all.these FROM these.would I be GONE       :  43%|\u001b[0;36m████▎     \u001b[0;36m| 920/2155 [00:25<00:23, 52.17it/s]"
     ]
    },
    {
     "name": "stderr",
     "output_type": "stream",
     "text": [
      "\r",
      "\u001b[1;34m￨ stanza 66, line 14: SAVE that.to DIE i LEAVE my LOVE a LONE                :  43%|\u001b[0;36m████▎     \u001b[0;36m| 920/2155 [00:25<00:23, 52.17it/s]"
     ]
    },
    {
     "name": "stderr",
     "output_type": "stream",
     "text": [
      "\r",
      "\u001b[1;34m￨ stanza 67, line 01: ah WHE refore WITH in FEC tion SHOULD he LIVE          :  43%|\u001b[0;36m████▎     \u001b[0;36m| 920/2155 [00:25<00:23, 52.17it/s]"
     ]
    },
    {
     "name": "stderr",
     "output_type": "stream",
     "text": [
      "\r",
      "\u001b[1;34m￨ stanza 67, line 02: and WITH his PRE sence GRACE im PIE ty                 :  43%|\u001b[0;36m████▎     \u001b[0;36m| 920/2155 [00:25<00:23, 52.17it/s]"
     ]
    },
    {
     "name": "stderr",
     "output_type": "stream",
     "text": [
      "\r",
      "\u001b[1;34m￨ stanza 67, line 03: that SIN by HIM a DVAN tage SHOULD ac HIEVE            :  43%|\u001b[0;36m████▎     \u001b[0;36m| 920/2155 [00:25<00:23, 52.17it/s]"
     ]
    },
    {
     "name": "stderr",
     "output_type": "stream",
     "text": [
      "\r",
      "\u001b[1;34m￨ stanza 67, line 04: and LACE i TSELF with HIS so CIE t Y                   :  43%|\u001b[0;36m████▎     \u001b[0;36m| 920/2155 [00:25<00:23, 52.17it/s]"
     ]
    },
    {
     "name": "stderr",
     "output_type": "stream",
     "text": [
      "\r",
      "\u001b[1;34m￨ stanza 67, line 05: why SHOULD false PAIN ting I mi TATE his CHEEK         :  43%|\u001b[0;36m████▎     \u001b[0;36m| 920/2155 [00:25<00:23, 52.17it/s]"
     ]
    },
    {
     "name": "stderr",
     "output_type": "stream",
     "text": [
      "\r",
      "\u001b[1;34m￨ stanza 67, line 06: and STEAL dead SEE ing OF his LI ving HUE              :  43%|\u001b[0;36m████▎     \u001b[0;36m| 920/2155 [00:25<00:23, 52.17it/s]"
     ]
    },
    {
     "name": "stderr",
     "output_type": "stream",
     "text": [
      "\r",
      "\u001b[1;34m￨ stanza 67, line 07: why SHOULD poor BEA uty IN di REC tly SEEK             :  43%|\u001b[0;36m████▎     \u001b[0;36m| 920/2155 [00:25<00:23, 52.17it/s]"
     ]
    },
    {
     "name": "stderr",
     "output_type": "stream",
     "text": [
      "\r",
      "\u001b[1;34m￨ stanza 67, line 08: RO ses.of SHA dow SINCE his ROSE is TRUE               :  43%|\u001b[0;36m████▎     \u001b[0;36m| 920/2155 [00:25<00:23, 52.17it/s]"
     ]
    },
    {
     "name": "stderr",
     "output_type": "stream",
     "text": [
      "\r",
      "\u001b[1;34m￨ stanza 67, line 09: why SHOULD he LIVE now NA ture BAN krupt IS            :  43%|\u001b[0;36m████▎     \u001b[0;36m| 920/2155 [00:25<00:23, 52.17it/s]"
     ]
    },
    {
     "name": "stderr",
     "output_type": "stream",
     "text": [
      "\r",
      "\u001b[1;34m￨ stanza 67, line 09: why SHOULD he LIVE now NA ture BAN krupt IS            :  43%|\u001b[0;36m████▎     \u001b[0;36m| 933/2155 [00:25<00:21, 56.07it/s]"
     ]
    },
    {
     "name": "stderr",
     "output_type": "stream",
     "text": [
      "\r",
      "\u001b[1;34m￨ stanza 67, line 10: BEG.GAR'D of BLOOD to BLUSH through LI vely VEINS      :  43%|\u001b[0;36m████▎     \u001b[0;36m| 933/2155 [00:25<00:21, 56.07it/s]"
     ]
    },
    {
     "name": "stderr",
     "output_type": "stream",
     "text": [
      "\r",
      "\u001b[1;34m￨ stanza 67, line 11: for SHE hath NO exc HE ckr NOW but HIS                 :  43%|\u001b[0;36m████▎     \u001b[0;36m| 933/2155 [00:25<00:21, 56.07it/s]"
     ]
    },
    {
     "name": "stderr",
     "output_type": "stream",
     "text": [
      "\r",
      "\u001b[1;34m￨ stanza 67, line 12: and PROUD of MA ny LIVES u PON his GAINS               :  43%|\u001b[0;36m████▎     \u001b[0;36m| 933/2155 [00:25<00:21, 56.07it/s]"
     ]
    },
    {
     "name": "stderr",
     "output_type": "stream",
     "text": [
      "\r",
      "\u001b[1;34m￨ stanza 67, line 13: o HIM she STORES to SHOW what WEALTH she HAD           :  43%|\u001b[0;36m████▎     \u001b[0;36m| 933/2155 [00:25<00:21, 56.07it/s]"
     ]
    },
    {
     "name": "stderr",
     "output_type": "stream",
     "text": [
      "\r",
      "\u001b[1;34m￨ stanza 67, line 14: in DAYS long SINCE be FORE these LAST so BAD           :  43%|\u001b[0;36m████▎     \u001b[0;36m| 933/2155 [00:25<00:21, 56.07it/s]"
     ]
    },
    {
     "name": "stderr",
     "output_type": "stream",
     "text": [
      "\r",
      "\u001b[1;34m￨ stanza 68, line 01: THUS is.his CHEEK the MAP of DAYS ou TWORN             :  43%|\u001b[0;36m████▎     \u001b[0;36m| 933/2155 [00:25<00:21, 56.07it/s]"
     ]
    },
    {
     "name": "stderr",
     "output_type": "stream",
     "text": [
      "\r",
      "\u001b[1;34m￨ stanza 68, line 02: when BEA uty LIVED and DIED as FLO wers DO now         :  43%|\u001b[0;36m████▎     \u001b[0;36m| 933/2155 [00:25<00:21, 56.07it/s]"
     ]
    },
    {
     "name": "stderr",
     "output_type": "stream",
     "text": [
      "\r",
      "\u001b[1;34m￨ stanza 68, line 03: be FORE the BAS tard SIGNS of FAIR were BORN           :  43%|\u001b[0;36m████▎     \u001b[0;36m| 933/2155 [00:25<00:21, 56.07it/s]"
     ]
    },
    {
     "name": "stderr",
     "output_type": "stream",
     "text": [
      "\r",
      "\u001b[1;34m￨ stanza 68, line 04: or DURST in HA bit ON a LI ving BROW                   :  43%|\u001b[0;36m████▎     \u001b[0;36m| 933/2155 [00:25<00:21, 56.07it/s]"
     ]
    },
    {
     "name": "stderr",
     "output_type": "stream",
     "text": [
      "\r",
      "\u001b[1;34m￨ stanza 68, line 05: be FORE the GOL den TRES ses OF the DEAD               :  43%|\u001b[0;36m████▎     \u001b[0;36m| 933/2155 [00:25<00:21, 56.07it/s]"
     ]
    },
    {
     "name": "stderr",
     "output_type": "stream",
     "text": [
      "\r",
      "\u001b[1;34m￨ stanza 68, line 06: the RIGHT of SE pulc HRES were SHORN a WAY             :  43%|\u001b[0;36m████▎     \u001b[0;36m| 933/2155 [00:25<00:21, 56.07it/s]"
     ]
    },
    {
     "name": "stderr",
     "output_type": "stream",
     "text": [
      "\r",
      "\u001b[1;34m￨ stanza 68, line 07: to LIVE a SE cond LIFE on SE cond HEAD                 :  43%|\u001b[0;36m████▎     \u001b[0;36m| 933/2155 [00:25<00:21, 56.07it/s]"
     ]
    },
    {
     "name": "stderr",
     "output_type": "stream",
     "text": [
      "\r",
      "\u001b[1;34m￨ stanza 68, line 08: ere BEA uty's DEAD fleece MADE a NOT her GAY           :  43%|\u001b[0;36m████▎     \u001b[0;36m| 933/2155 [00:25<00:21, 56.07it/s]"
     ]
    },
    {
     "name": "stderr",
     "output_type": "stream",
     "text": [
      "\r",
      "\u001b[1;34m￨ stanza 68, line 09: in HIM those HO ly AN tique HOURS are SEEN             :  43%|\u001b[0;36m████▎     \u001b[0;36m| 933/2155 [00:25<00:21, 56.07it/s]"
     ]
    },
    {
     "name": "stderr",
     "output_type": "stream",
     "text": [
      "\r",
      "\u001b[1;34m￨ stanza 68, line 09: in HIM those HO ly AN tique HOURS are SEEN             :  44%|\u001b[0;36m████▍     \u001b[0;36m| 947/2155 [00:25<00:18, 66.02it/s]"
     ]
    },
    {
     "name": "stderr",
     "output_type": "stream",
     "text": [
      "\r",
      "\u001b[1;34m￨ stanza 68, line 10: wit HOUT all OR na MENT i TSELF and TRUE               :  44%|\u001b[0;36m████▍     \u001b[0;36m| 947/2155 [00:25<00:18, 66.02it/s]"
     ]
    },
    {
     "name": "stderr",
     "output_type": "stream",
     "text": [
      "\r",
      "\u001b[1;34m￨ stanza 68, line 11: MA king NO sum.mer OF a NOT her's GREEN                :  44%|\u001b[0;36m████▍     \u001b[0;36m| 947/2155 [00:25<00:18, 66.02it/s]"
     ]
    },
    {
     "name": "stderr",
     "output_type": "stream",
     "text": [
      "\r",
      "\u001b[1;34m￨ stanza 68, line 12: ROB bing NO.OLD to DRESS his BEA uty NEW               :  44%|\u001b[0;36m████▍     \u001b[0;36m| 947/2155 [00:25<00:18, 66.02it/s]"
     ]
    },
    {
     "name": "stderr",
     "output_type": "stream",
     "text": [
      "\r",
      "\u001b[1;34m￨ stanza 68, line 13: and HIM as FOR a MAP doth NA ture STORE                :  44%|\u001b[0;36m████▍     \u001b[0;36m| 947/2155 [00:25<00:18, 66.02it/s]"
     ]
    },
    {
     "name": "stderr",
     "output_type": "stream",
     "text": [
      "\r",
      "\u001b[1;34m￨ stanza 68, line 14: to SHOW false ART what BEA uty WAS of.yore             :  44%|\u001b[0;36m████▍     \u001b[0;36m| 947/2155 [00:25<00:18, 66.02it/s]"
     ]
    },
    {
     "name": "stderr",
     "output_type": "stream",
     "text": [
      "\r",
      "\u001b[1;34m￨ stanza 69, line 01: those PARTS of THEE that THE world's EYE doth VIEW     :  44%|\u001b[0;36m████▍     \u001b[0;36m| 947/2155 [00:25<00:18, 66.02it/s]"
     ]
    },
    {
     "name": "stderr",
     "output_type": "stream",
     "text": [
      "\r",
      "\u001b[1;34m￨ stanza 69, line 02: want NOT hing THAT the THOUGHT of HEARTS can MEND      :  44%|\u001b[0;36m████▍     \u001b[0;36m| 947/2155 [00:25<00:18, 66.02it/s]"
     ]
    },
    {
     "name": "stderr",
     "output_type": "stream",
     "text": [
      "\r",
      "\u001b[1;34m￨ stanza 69, line 03: all TONGUES the VOICE of SOULS give THEE that DUE      :  44%|\u001b[0;36m████▍     \u001b[0;36m| 947/2155 [00:25<00:18, 66.02it/s]"
     ]
    },
    {
     "name": "stderr",
     "output_type": "stream",
     "text": [
      "\r",
      "\u001b[1;34m￨ stanza 69, line 04: UT te.ring BARE truth E ven SO as FOES com MEND        :  44%|\u001b[0;36m████▍     \u001b[0;36m| 947/2155 [00:25<00:18, 66.02it/s]"
     ]
    },
    {
     "name": "stderr",
     "output_type": "stream",
     "text": [
      "\r",
      "\u001b[1;34m￨ stanza 69, line 05: thy OU tward THUS with OU tward PRAISE is CROWN'D      :  44%|\u001b[0;36m████▍     \u001b[0;36m| 947/2155 [00:25<00:18, 66.02it/s]"
     ]
    },
    {
     "name": "stderr",
     "output_type": "stream",
     "text": [
      "\r",
      "\u001b[1;34m￨ stanza 69, line 06: but.those SAME tongues THAT give THEE so.thine OWN     :  44%|\u001b[0;36m████▍     \u001b[0;36m| 947/2155 [00:25<00:18, 66.02it/s]"
     ]
    },
    {
     "name": "stderr",
     "output_type": "stream",
     "text": [
      "\r",
      "\u001b[1;34m￨ stanza 69, line 07: in OT her AC cents DO this PRAISE con FOUND            :  44%|\u001b[0;36m████▍     \u001b[0;36m| 947/2155 [00:25<00:18, 66.02it/s]"
     ]
    },
    {
     "name": "stderr",
     "output_type": "stream",
     "text": [
      "\r",
      "\u001b[1;34m￨ stanza 69, line 07: in OT her AC cents DO this PRAISE con FOUND            :  45%|\u001b[0;36m████▍     \u001b[0;36m| 959/2155 [00:25<00:16, 70.49it/s]"
     ]
    },
    {
     "name": "stderr",
     "output_type": "stream",
     "text": [
      "\r",
      "\u001b[1;34m￨ stanza 69, line 08: by SEE ing FART her THAN the EYE hath SHOWN            :  45%|\u001b[0;36m████▍     \u001b[0;36m| 959/2155 [00:25<00:16, 70.49it/s]"
     ]
    },
    {
     "name": "stderr",
     "output_type": "stream",
     "text": [
      "\r",
      "\u001b[1;34m￨ stanza 69, line 09: they LOOK in TO the BEA uty OF thy MIND                :  45%|\u001b[0;36m████▍     \u001b[0;36m| 959/2155 [00:25<00:16, 70.49it/s]"
     ]
    },
    {
     "name": "stderr",
     "output_type": "stream",
     "text": [
      "\r",
      "\u001b[1;34m￨ stanza 69, line 10: and THAT in GUESS they MEA sure BY thy DEEDS           :  45%|\u001b[0;36m████▍     \u001b[0;36m| 959/2155 [00:25<00:16, 70.49it/s]"
     ]
    },
    {
     "name": "stderr",
     "output_type": "stream",
     "text": [
      "\r",
      "\u001b[1;34m￨ stanza 69, line 11: then CHURLS their THOUGHTS alt HOUGH their EYES were KI:  45%|\u001b[0;36m████▍     \u001b[0;36m| 959/2155 [00:25<00:16, 70.49it/s]"
     ]
    },
    {
     "name": "stderr",
     "output_type": "stream",
     "text": [
      "\r",
      "\u001b[1;34m￨ stanza 69, line 12: to THY fair FLO wer ADD the RANK.SMELL of WEEDS        :  45%|\u001b[0;36m████▍     \u001b[0;36m| 959/2155 [00:25<00:16, 70.49it/s]"
     ]
    },
    {
     "name": "stderr",
     "output_type": "stream",
     "text": [
      "\r",
      "\u001b[1;34m￨ stanza 69, line 13: but WHY thy O dour MATC heth NOT thy SHOW              :  45%|\u001b[0;36m████▍     \u001b[0;36m| 959/2155 [00:25<00:16, 70.49it/s]"
     ]
    },
    {
     "name": "stderr",
     "output_type": "stream",
     "text": [
      "\r",
      "\u001b[1;34m￨ stanza 69, line 14: the SOLVE is.this THAT thou.dost COM mon GROW          :  45%|\u001b[0;36m████▍     \u001b[0;36m| 959/2155 [00:25<00:16, 70.49it/s]"
     ]
    },
    {
     "name": "stderr",
     "output_type": "stream",
     "text": [
      "\r",
      "\u001b[1;34m￨ stanza 70, line 01: that THOU art BLAMED shall NOT be THY de FECT          :  45%|\u001b[0;36m████▍     \u001b[0;36m| 959/2155 [00:28<00:16, 70.49it/s]"
     ]
    },
    {
     "name": "stderr",
     "output_type": "stream",
     "text": [
      "\r",
      "\u001b[1;34m￨ stanza 70, line 02: for SLAN der's MARK was E ver YET the FAIR             :  45%|\u001b[0;36m████▍     \u001b[0;36m| 959/2155 [00:28<00:16, 70.49it/s]"
     ]
    },
    {
     "name": "stderr",
     "output_type": "stream",
     "text": [
      "\r",
      "\u001b[1;34m￨ stanza 70, line 03: the OR na MENT of BEA uty IS sus PECT                  :  45%|\u001b[0;36m████▍     \u001b[0;36m| 959/2155 [00:28<00:16, 70.49it/s]"
     ]
    },
    {
     "name": "stderr",
     "output_type": "stream",
     "text": [
      "\r",
      "\u001b[1;34m￨ stanza 70, line 04: a CROW that FLIES in HEA ven's SWEE test AIR           :  45%|\u001b[0;36m████▍     \u001b[0;36m| 959/2155 [00:28<00:16, 70.49it/s]"
     ]
    },
    {
     "name": "stderr",
     "output_type": "stream",
     "text": [
      "\r",
      "\u001b[1;34m￨ stanza 70, line 04: a CROW that FLIES in HEA ven's SWEE test AIR           :  45%|\u001b[0;36m████▌     \u001b[0;36m| 970/2155 [00:28<01:30, 13.04it/s]"
     ]
    },
    {
     "name": "stderr",
     "output_type": "stream",
     "text": [
      "\r",
      "\u001b[1;34m￨ stanza 70, line 05: so.thou BE good SLAN der DOTH but AP.PROVE             :  45%|\u001b[0;36m████▌     \u001b[0;36m| 970/2155 [00:28<01:30, 13.04it/s]"
     ]
    },
    {
     "name": "stderr",
     "output_type": "stream",
     "text": [
      "\r",
      "\u001b[1;34m￨ stanza 70, line 06: thy WORTH the GREA ter BE ing WOO'D of TIME            :  45%|\u001b[0;36m████▌     \u001b[0;36m| 970/2155 [00:28<01:30, 13.04it/s]"
     ]
    },
    {
     "name": "stderr",
     "output_type": "stream",
     "text": [
      "\r",
      "\u001b[1;34m￨ stanza 70, line 07: for CAN ker VICE the SWEE test BUDS doth LOVE          :  45%|\u001b[0;36m████▌     \u001b[0;36m| 970/2155 [00:28<01:30, 13.04it/s]"
     ]
    },
    {
     "name": "stderr",
     "output_type": "stream",
     "text": [
      "\r",
      "\u001b[1;34m￨ stanza 70, line 08: and THOU pre SENT'ST a PURE uns TAINED prime           :  45%|\u001b[0;36m████▌     \u001b[0;36m| 970/2155 [00:28<01:30, 13.04it/s]"
     ]
    },
    {
     "name": "stderr",
     "output_type": "stream",
     "text": [
      "\r",
      "\u001b[1;34m￨ stanza 70, line 09: thou.hast PASS'D by.the AM.BUSH of YOUNG days          :  45%|\u001b[0;36m████▌     \u001b[0;36m| 970/2155 [00:28<01:30, 13.04it/s]"
     ]
    },
    {
     "name": "stderr",
     "output_type": "stream",
     "text": [
      "\r",
      "\u001b[1;34m￨ stanza 70, line 10: EIT her NOT as SAIL'D or VIC tor BE ing CHARGED        :  45%|\u001b[0;36m████▌     \u001b[0;36m| 970/2155 [00:28<01:30, 13.04it/s]"
     ]
    },
    {
     "name": "stderr",
     "output_type": "stream",
     "text": [
      "\r",
      "\u001b[1;34m￨ stanza 70, line 11: YET this.thy PRAISE can NOT be SO thy PRAISE           :  45%|\u001b[0;36m████▌     \u001b[0;36m| 970/2155 [00:28<01:30, 13.04it/s]"
     ]
    },
    {
     "name": "stderr",
     "output_type": "stream",
     "text": [
      "\r",
      "\u001b[1;34m￨ stanza 70, line 12: to TIE up EN vy E ver MORE en LARGED                   :  45%|\u001b[0;36m████▌     \u001b[0;36m| 970/2155 [00:28<01:30, 13.04it/s]"
     ]
    },
    {
     "name": "stderr",
     "output_type": "stream",
     "text": [
      "\r",
      "\u001b[1;34m￨ stanza 70, line 13: if SOME sus PECT of ILL mask'd NOT thy SHOW            :  45%|\u001b[0;36m████▌     \u001b[0;36m| 970/2155 [00:28<01:30, 13.04it/s]"
     ]
    },
    {
     "name": "stderr",
     "output_type": "stream",
     "text": [
      "\r",
      "\u001b[1;34m￨ stanza 70, line 14: then THOU a LONE king DOMS of HEARTS shouldst OWE      :  45%|\u001b[0;36m████▌     \u001b[0;36m| 970/2155 [00:28<01:30, 13.04it/s]"
     ]
    },
    {
     "name": "stderr",
     "output_type": "stream",
     "text": [
      "\r",
      "\u001b[1;34m￨ stanza 71, line 01: no LON ger MOURN for ME when I am DEAD                 :  45%|\u001b[0;36m████▌     \u001b[0;36m| 970/2155 [00:28<01:30, 13.04it/s]"
     ]
    },
    {
     "name": "stderr",
     "output_type": "stream",
     "text": [
      "\r",
      "\u001b[1;34m￨ stanza 71, line 02: then YOU shall HEAR the SUR ly SUL len BELL            :  45%|\u001b[0;36m████▌     \u001b[0;36m| 970/2155 [00:28<01:30, 13.04it/s]"
     ]
    },
    {
     "name": "stderr",
     "output_type": "stream",
     "text": [
      "\r",
      "\u001b[1;34m￨ stanza 71, line 03: give WAR ning TO the WORLD that I am FLED              :  45%|\u001b[0;36m████▌     \u001b[0;36m| 970/2155 [00:28<01:30, 13.04it/s]"
     ]
    },
    {
     "name": "stderr",
     "output_type": "stream",
     "text": [
      "\r",
      "\u001b[1;34m￨ stanza 71, line 04: from THIS vile WORLD with VI lest WORMS to DWELL       :  45%|\u001b[0;36m████▌     \u001b[0;36m| 970/2155 [00:28<01:30, 13.04it/s]"
     ]
    },
    {
     "name": "stderr",
     "output_type": "stream",
     "text": [
      "\r",
      "\u001b[1;34m￨ stanza 71, line 05: NAY if.you READ this LINE re MEM ber NOT               :  45%|\u001b[0;36m████▌     \u001b[0;36m| 970/2155 [00:28<01:30, 13.04it/s]"
     ]
    },
    {
     "name": "stderr",
     "output_type": "stream",
     "text": [
      "\r",
      "\u001b[1;34m￨ stanza 71, line 06: the HAND that WRIT it FOR i LOVE you.so                :  45%|\u001b[0;36m████▌     \u001b[0;36m| 970/2155 [00:28<01:30, 13.04it/s]"
     ]
    },
    {
     "name": "stderr",
     "output_type": "stream",
     "text": [
      "\r",
      "\u001b[1;34m￨ stanza 71, line 07: that.i IN your SWEET.THOUGHTS would BE for GOT         :  45%|\u001b[0;36m████▌     \u001b[0;36m| 970/2155 [00:28<01:30, 13.04it/s]"
     ]
    },
    {
     "name": "stderr",
     "output_type": "stream",
     "text": [
      "\r",
      "\u001b[1;34m￨ stanza 71, line 08: if THIN king ON me THEN should MAKE you WOE            :  45%|\u001b[0;36m████▌     \u001b[0;36m| 970/2155 [00:28<01:30, 13.04it/s]"
     ]
    },
    {
     "name": "stderr",
     "output_type": "stream",
     "text": [
      "\r",
      "\u001b[1;34m￨ stanza 71, line 09: o IF i SAY you LOOK u PON this VERSE                   :  45%|\u001b[0;36m████▌     \u001b[0;36m| 970/2155 [00:28<01:30, 13.04it/s]"
     ]
    },
    {
     "name": "stderr",
     "output_type": "stream",
     "text": [
      "\r",
      "\u001b[1;34m￨ stanza 71, line 10: when I per HAPS com POUN ded AM with CLAY              :  45%|\u001b[0;36m████▌     \u001b[0;36m| 970/2155 [00:28<01:30, 13.04it/s]"
     ]
    },
    {
     "name": "stderr",
     "output_type": "stream",
     "text": [
      "\r",
      "\u001b[1;34m￨ stanza 71, line 11: do NOT so MUCH as MY poor NAME re HEARSE               :  45%|\u001b[0;36m████▌     \u001b[0;36m| 970/2155 [00:28<01:30, 13.04it/s]"
     ]
    },
    {
     "name": "stderr",
     "output_type": "stream",
     "text": [
      "\r",
      "\u001b[1;34m￨ stanza 71, line 12: but LET your LOVE e VEN with.my LIFE de CAY            :  45%|\u001b[0;36m████▌     \u001b[0;36m| 970/2155 [00:28<01:30, 13.04it/s]"
     ]
    },
    {
     "name": "stderr",
     "output_type": "stream",
     "text": [
      "\r",
      "\u001b[1;34m￨ stanza 71, line 13: lest THE wise WORLD should LOOK in TO your MOAN        :  45%|\u001b[0;36m████▌     \u001b[0;36m| 970/2155 [00:28<01:30, 13.04it/s]"
     ]
    },
    {
     "name": "stderr",
     "output_type": "stream",
     "text": [
      "\r",
      "\u001b[1;34m￨ stanza 71, line 14: and MOCK you WITH me AF ter I am GONE                  :  45%|\u001b[0;36m████▌     \u001b[0;36m| 970/2155 [00:28<01:30, 13.04it/s]"
     ]
    },
    {
     "name": "stderr",
     "output_type": "stream",
     "text": [
      "\r",
      "\u001b[1;34m￨ stanza 72, line 01: o LEST the WORLD should TASK you TO re CITE            :  45%|\u001b[0;36m████▌     \u001b[0;36m| 970/2155 [00:28<01:30, 13.04it/s]"
     ]
    },
    {
     "name": "stderr",
     "output_type": "stream",
     "text": [
      "\r",
      "\u001b[1;34m￨ stanza 72, line 02: what ME rit LIVED in ME that YOU should LOVE           :  45%|\u001b[0;36m████▌     \u001b[0;36m| 970/2155 [00:28<01:30, 13.04it/s]"
     ]
    },
    {
     "name": "stderr",
     "output_type": "stream",
     "text": [
      "\r",
      "\u001b[1;34m￨ stanza 72, line 03: AF ter.my DEATH dear LOVE for GET me QUITE             :  45%|\u001b[0;36m████▌     \u001b[0;36m| 970/2155 [00:28<01:30, 13.04it/s]"
     ]
    },
    {
     "name": "stderr",
     "output_type": "stream",
     "text": [
      "\r",
      "\u001b[1;34m￨ stanza 72, line 04: for YOU in ME can NOT hing WORT hy PROVE               :  45%|\u001b[0;36m████▌     \u001b[0;36m| 970/2155 [00:28<01:30, 13.04it/s]"
     ]
    },
    {
     "name": "stderr",
     "output_type": "stream",
     "text": [
      "\r",
      "\u001b[1;34m￨ stanza 72, line 05: un LESS you WOULD de VISE some VIR tuo.us LIE          :  45%|\u001b[0;36m████▌     \u001b[0;36m| 970/2155 [00:28<01:30, 13.04it/s]"
     ]
    },
    {
     "name": "stderr",
     "output_type": "stream",
     "text": [
      "\r",
      "\u001b[1;34m￨ stanza 72, line 06: to.do MORE for ME than.mine OWN de SERT                :  45%|\u001b[0;36m████▌     \u001b[0;36m| 970/2155 [00:28<01:30, 13.04it/s]"
     ]
    },
    {
     "name": "stderr",
     "output_type": "stream",
     "text": [
      "\r",
      "\u001b[1;34m￨ stanza 72, line 07: and HANG more PRAISE u PON de CEASED i                 :  45%|\u001b[0;36m████▌     \u001b[0;36m| 970/2155 [00:28<01:30, 13.04it/s]"
     ]
    },
    {
     "name": "stderr",
     "output_type": "stream",
     "text": [
      "\r",
      "\u001b[1;34m￨ stanza 72, line 08: than NIG gard TRUTH would WIL lin GLY im PART          :  45%|\u001b[0;36m████▌     \u001b[0;36m| 970/2155 [00:28<01:30, 13.04it/s]"
     ]
    },
    {
     "name": "stderr",
     "output_type": "stream",
     "text": [
      "\r",
      "\u001b[1;34m￨ stanza 72, line 09: o.lest YOUR true LOVE may SEEM false IN this           :  45%|\u001b[0;36m████▌     \u001b[0;36m| 970/2155 [00:28<01:30, 13.04it/s]"
     ]
    },
    {
     "name": "stderr",
     "output_type": "stream",
     "text": [
      "\r",
      "\u001b[1;34m￨ stanza 72, line 10: that YOU for LOVE speak WELL of ME un TRUE             :  45%|\u001b[0;36m████▌     \u001b[0;36m| 970/2155 [00:28<01:30, 13.04it/s]"
     ]
    },
    {
     "name": "stderr",
     "output_type": "stream",
     "text": [
      "\r",
      "\u001b[1;34m￨ stanza 72, line 11: my NAME be BU ried WHERE my BO dy IS                   :  45%|\u001b[0;36m████▌     \u001b[0;36m| 970/2155 [00:28<01:30, 13.04it/s]"
     ]
    },
    {
     "name": "stderr",
     "output_type": "stream",
     "text": [
      "\r",
      "\u001b[1;34m￨ stanza 72, line 12: and LIVE no MORE to SHAME nor ME nor YOU               :  45%|\u001b[0;36m████▌     \u001b[0;36m| 970/2155 [00:28<01:30, 13.04it/s]"
     ]
    },
    {
     "name": "stderr",
     "output_type": "stream",
     "text": [
      "\r",
      "\u001b[1;34m￨ stanza 72, line 13: for I am SHAMED by THAT which I bring FORTH            :  45%|\u001b[0;36m████▌     \u001b[0;36m| 970/2155 [00:28<01:30, 13.04it/s]"
     ]
    },
    {
     "name": "stderr",
     "output_type": "stream",
     "text": [
      "\r",
      "\u001b[1;34m￨ stanza 72, line 14: and.so SHOULD you.to LOVE things NOT hing WORTH        :  45%|\u001b[0;36m████▌     \u001b[0;36m| 970/2155 [00:28<01:30, 13.04it/s]"
     ]
    },
    {
     "name": "stderr",
     "output_type": "stream",
     "text": [
      "\r",
      "\u001b[1;34m￨ stanza 73, line 01: that TIME of YEAR thou MAYST in ME be HOLD             :  45%|\u001b[0;36m████▌     \u001b[0;36m| 970/2155 [00:28<01:30, 13.04it/s]"
     ]
    },
    {
     "name": "stderr",
     "output_type": "stream",
     "text": [
      "\r",
      "\u001b[1;34m￨ stanza 73, line 02: when YEL low LEAVES or NONE or FEW do HANG             :  45%|\u001b[0;36m████▌     \u001b[0;36m| 970/2155 [00:28<01:30, 13.04it/s]"
     ]
    },
    {
     "name": "stderr",
     "output_type": "stream",
     "text": [
      "\r",
      "\u001b[1;34m￨ stanza 73, line 02: when YEL low LEAVES or NONE or FEW do HANG             :  47%|\u001b[0;36m████▋     \u001b[0;36m| 1010/2155 [00:28<00:40, 28.61it/s]"
     ]
    },
    {
     "name": "stderr",
     "output_type": "stream",
     "text": [
      "\r",
      "\u001b[1;34m￨ stanza 73, line 03: u PON those BOUGHS which SHAKE a GAINST the COLD       :  47%|\u001b[0;36m████▋     \u001b[0;36m| 1010/2155 [00:28<00:40, 28.61it/s]"
     ]
    },
    {
     "name": "stderr",
     "output_type": "stream",
     "text": [
      "\r",
      "\u001b[1;34m￨ stanza 73, line 04: bare RUIN 'd CHOIRS where LATE the SWEET birds SANG    :  47%|\u001b[0;36m████▋     \u001b[0;36m| 1010/2155 [00:28<00:40, 28.61it/s]"
     ]
    },
    {
     "name": "stderr",
     "output_type": "stream",
     "text": [
      "\r",
      "\u001b[1;34m￨ stanza 73, line 05: in ME thou SEEST the TWI.LIGHT of.such DAY             :  47%|\u001b[0;36m████▋     \u001b[0;36m| 1010/2155 [00:28<00:40, 28.61it/s]"
     ]
    },
    {
     "name": "stderr",
     "output_type": "stream",
     "text": [
      "\r",
      "\u001b[1;34m￨ stanza 73, line 06: as AF ter SUN set FA deth IN the WEST                  :  47%|\u001b[0;36m████▋     \u001b[0;36m| 1010/2155 [00:28<00:40, 28.61it/s]"
     ]
    },
    {
     "name": "stderr",
     "output_type": "stream",
     "text": [
      "\r",
      "\u001b[1;34m￨ stanza 73, line 07: which BY and.by BLACK.NIGHT doth TAKE a WAY            :  47%|\u001b[0;36m████▋     \u001b[0;36m| 1010/2155 [00:28<00:40, 28.61it/s]"
     ]
    },
    {
     "name": "stderr",
     "output_type": "stream",
     "text": [
      "\r",
      "\u001b[1;34m￨ stanza 73, line 08: death's SE cond SELF that SEALS up ALL in REST         :  47%|\u001b[0;36m████▋     \u001b[0;36m| 1010/2155 [00:28<00:40, 28.61it/s]"
     ]
    },
    {
     "name": "stderr",
     "output_type": "stream",
     "text": [
      "\r",
      "\u001b[1;34m￨ stanza 73, line 09: in ME thou SEE'ST the GLO wing OF such FIRE            :  47%|\u001b[0;36m████▋     \u001b[0;36m| 1010/2155 [00:28<00:40, 28.61it/s]"
     ]
    },
    {
     "name": "stderr",
     "output_type": "stream",
     "text": [
      "\r",
      "\u001b[1;34m￨ stanza 73, line 10: THAT on.the AS hes OF his YOUTH doth LIE               :  47%|\u001b[0;36m████▋     \u001b[0;36m| 1010/2155 [00:28<00:40, 28.61it/s]"
     ]
    },
    {
     "name": "stderr",
     "output_type": "stream",
     "text": [
      "\r",
      "\u001b[1;34m￨ stanza 73, line 11: as.the DEATH bed WHE re ON it MUST ex PIRE             :  47%|\u001b[0;36m████▋     \u001b[0;36m| 1010/2155 [00:28<00:40, 28.61it/s]"
     ]
    },
    {
     "name": "stderr",
     "output_type": "stream",
     "text": [
      "\r",
      "\u001b[1;34m￨ stanza 73, line 12: con SUMED with THAT which IT was NOU rish'd BY         :  47%|\u001b[0;36m████▋     \u001b[0;36m| 1010/2155 [00:28<00:40, 28.61it/s]"
     ]
    },
    {
     "name": "stderr",
     "output_type": "stream",
     "text": [
      "\r",
      "\u001b[1;34m￨ stanza 73, line 13: this THOU per CEI.VEST which MAKES thy LOVE more STRONG:  47%|\u001b[0;36m████▋     \u001b[0;36m| 1010/2155 [00:28<00:40, 28.61it/s]"
     ]
    },
    {
     "name": "stderr",
     "output_type": "stream",
     "text": [
      "\r",
      "\u001b[1;34m￨ stanza 73, line 14: to LOVE that WELL which THOU must LEAVE ere LONG       :  47%|\u001b[0;36m████▋     \u001b[0;36m| 1010/2155 [00:28<00:40, 28.61it/s]"
     ]
    },
    {
     "name": "stderr",
     "output_type": "stream",
     "text": [
      "\r",
      "\u001b[1;34m￨ stanza 74, line 01: but BE con TEN ted WHEN that FELL ar REST              :  47%|\u001b[0;36m████▋     \u001b[0;36m| 1010/2155 [00:28<00:40, 28.61it/s]"
     ]
    },
    {
     "name": "stderr",
     "output_type": "stream",
     "text": [
      "\r",
      "\u001b[1;34m￨ stanza 74, line 02: wit HOUT all BAIL shall CAR ry ME a WAY                :  47%|\u001b[0;36m████▋     \u001b[0;36m| 1010/2155 [00:28<00:40, 28.61it/s]"
     ]
    },
    {
     "name": "stderr",
     "output_type": "stream",
     "text": [
      "\r",
      "\u001b[1;34m￨ stanza 74, line 03: my LIFE hath IN this LINE some IN terest               :  47%|\u001b[0;36m████▋     \u001b[0;36m| 1010/2155 [00:28<00:40, 28.61it/s]"
     ]
    },
    {
     "name": "stderr",
     "output_type": "stream",
     "text": [
      "\r",
      "\u001b[1;34m￨ stanza 74, line 04: which FOR me MO ri.al STILL with THEE shall STAY       :  47%|\u001b[0;36m████▋     \u001b[0;36m| 1010/2155 [00:28<00:40, 28.61it/s]"
     ]
    },
    {
     "name": "stderr",
     "output_type": "stream",
     "text": [
      "\r",
      "\u001b[1;34m￨ stanza 74, line 05: when THOU re VIE west THIS thou.dost RE.VIEW           :  47%|\u001b[0;36m████▋     \u001b[0;36m| 1010/2155 [00:28<00:40, 28.61it/s]"
     ]
    },
    {
     "name": "stderr",
     "output_type": "stream",
     "text": [
      "\r",
      "\u001b[1;34m￨ stanza 74, line 06: the VE ry PART was CON se CRATE to THEE                :  47%|\u001b[0;36m████▋     \u001b[0;36m| 1010/2155 [00:28<00:40, 28.61it/s]"
     ]
    },
    {
     "name": "stderr",
     "output_type": "stream",
     "text": [
      "\r",
      "\u001b[1;34m￨ stanza 74, line 07: the EARTH can HAVE but EARTH which IS his DUE          :  47%|\u001b[0;36m████▋     \u001b[0;36m| 1010/2155 [00:28<00:40, 28.61it/s]"
     ]
    },
    {
     "name": "stderr",
     "output_type": "stream",
     "text": [
      "\r",
      "\u001b[1;34m￨ stanza 74, line 08: my SPI rit IS thine.the BET ter PART of ME             :  47%|\u001b[0;36m████▋     \u001b[0;36m| 1010/2155 [00:28<00:40, 28.61it/s]"
     ]
    },
    {
     "name": "stderr",
     "output_type": "stream",
     "text": [
      "\r",
      "\u001b[1;34m￨ stanza 74, line 09: so THEN thou HAST but LOST the DREGS of LIFE           :  47%|\u001b[0;36m████▋     \u001b[0;36m| 1010/2155 [00:28<00:40, 28.61it/s]"
     ]
    },
    {
     "name": "stderr",
     "output_type": "stream",
     "text": [
      "\r",
      "\u001b[1;34m￨ stanza 74, line 10: the PREY of WORMS my BO dy BE ing DEAD                 :  47%|\u001b[0;36m████▋     \u001b[0;36m| 1010/2155 [00:28<00:40, 28.61it/s]"
     ]
    },
    {
     "name": "stderr",
     "output_type": "stream",
     "text": [
      "\r",
      "\u001b[1;34m￨ stanza 74, line 11: the CO ward CON quest OF a WRET ch's KNIFE             :  47%|\u001b[0;36m████▋     \u001b[0;36m| 1010/2155 [00:28<00:40, 28.61it/s]"
     ]
    },
    {
     "name": "stderr",
     "output_type": "stream",
     "text": [
      "\r",
      "\u001b[1;34m￨ stanza 74, line 12: too BASE of THEE to BE re MEM bered                    :  47%|\u001b[0;36m████▋     \u001b[0;36m| 1010/2155 [00:28<00:40, 28.61it/s]"
     ]
    },
    {
     "name": "stderr",
     "output_type": "stream",
     "text": [
      "\r",
      "\u001b[1;34m￨ stanza 74, line 13: the WORTH of THAT is THAT which IT con TAINS           :  47%|\u001b[0;36m████▋     \u001b[0;36m| 1010/2155 [00:28<00:40, 28.61it/s]"
     ]
    },
    {
     "name": "stderr",
     "output_type": "stream",
     "text": [
      "\r",
      "\u001b[1;34m￨ stanza 74, line 14: and.that IS this AND this.with THEE re MAINS           :  47%|\u001b[0;36m████▋     \u001b[0;36m| 1010/2155 [00:28<00:40, 28.61it/s]"
     ]
    },
    {
     "name": "stderr",
     "output_type": "stream",
     "text": [
      "\r",
      "\u001b[1;34m￨ stanza 75, line 01: so.are YOU to.my THOUGHTS as FOOD to LIFE              :  47%|\u001b[0;36m████▋     \u001b[0;36m| 1010/2155 [00:28<00:40, 28.61it/s]"
     ]
    },
    {
     "name": "stderr",
     "output_type": "stream",
     "text": [
      "\r",
      "\u001b[1;34m￨ stanza 75, line 02: or AS sweet SEA son'd SHO wers ARE to.the GROUND       :  47%|\u001b[0;36m████▋     \u001b[0;36m| 1010/2155 [00:28<00:40, 28.61it/s]"
     ]
    },
    {
     "name": "stderr",
     "output_type": "stream",
     "text": [
      "\r",
      "\u001b[1;34m￨ stanza 75, line 03: and FOR the PEACE of YOU i HOLD such STRIFE            :  47%|\u001b[0;36m████▋     \u001b[0;36m| 1010/2155 [00:28<00:40, 28.61it/s]"
     ]
    },
    {
     "name": "stderr",
     "output_type": "stream",
     "text": [
      "\r",
      "\u001b[1;34m￨ stanza 75, line 04: as 'TWIXT a MI ser AND his WEALTH is FOUND             :  47%|\u001b[0;36m████▋     \u001b[0;36m| 1010/2155 [00:28<00:40, 28.61it/s]"
     ]
    },
    {
     "name": "stderr",
     "output_type": "stream",
     "text": [
      "\r",
      "\u001b[1;34m￨ stanza 75, line 05: now PROUD as AN en JOYER and A.NON                     :  47%|\u001b[0;36m████▋     \u001b[0;36m| 1010/2155 [00:28<00:40, 28.61it/s]"
     ]
    },
    {
     "name": "stderr",
     "output_type": "stream",
     "text": [
      "\r",
      "\u001b[1;34m￨ stanza 75, line 06: DOUB ting.the FILC hing AGE will STEAL his TREA sure   :  47%|\u001b[0;36m████▋     \u001b[0;36m| 1010/2155 [00:28<00:40, 28.61it/s]"
     ]
    },
    {
     "name": "stderr",
     "output_type": "stream",
     "text": [
      "\r",
      "\u001b[1;34m￨ stanza 75, line 07: now COUN ting BEST to BE with YOU a LONE               :  47%|\u001b[0;36m████▋     \u001b[0;36m| 1010/2155 [00:28<00:40, 28.61it/s]"
     ]
    },
    {
     "name": "stderr",
     "output_type": "stream",
     "text": [
      "\r",
      "\u001b[1;34m￨ stanza 75, line 08: then BET ter'd THAT the WORLD may SEE my PLEA sure     :  47%|\u001b[0;36m████▋     \u001b[0;36m| 1010/2155 [00:28<00:40, 28.61it/s]"
     ]
    },
    {
     "name": "stderr",
     "output_type": "stream",
     "text": [
      "\r",
      "\u001b[1;34m￨ stanza 75, line 09: so METIME all FULL with FEAS ting ON your SIGHT        :  47%|\u001b[0;36m████▋     \u001b[0;36m| 1010/2155 [00:28<00:40, 28.61it/s]"
     ]
    },
    {
     "name": "stderr",
     "output_type": "stream",
     "text": [
      "\r",
      "\u001b[1;34m￨ stanza 75, line 10: and BY and.by CLEAN starved FOR a LOOK                 :  47%|\u001b[0;36m████▋     \u001b[0;36m| 1010/2155 [00:28<00:40, 28.61it/s]"
     ]
    },
    {
     "name": "stderr",
     "output_type": "stream",
     "text": [
      "\r",
      "\u001b[1;34m￨ stanza 75, line 11: pos SES sing OR pur SU ing NO de LIGHT                 :  47%|\u001b[0;36m████▋     \u001b[0;36m| 1010/2155 [00:28<00:40, 28.61it/s]"
     ]
    },
    {
     "name": "stderr",
     "output_type": "stream",
     "text": [
      "\r",
      "\u001b[1;34m￨ stanza 75, line 12: SAVE what.is HAD or MUST from YOU be TOOK              :  47%|\u001b[0;36m████▋     \u001b[0;36m| 1010/2155 [00:28<00:40, 28.61it/s]"
     ]
    },
    {
     "name": "stderr",
     "output_type": "stream",
     "text": [
      "\r",
      "\u001b[1;34m￨ stanza 75, line 12: SAVE what.is HAD or MUST from YOU be TOOK              :  49%|\u001b[0;36m████▊     \u001b[0;36m| 1048/2155 [00:28<00:24, 45.60it/s]"
     ]
    },
    {
     "name": "stderr",
     "output_type": "stream",
     "text": [
      "\r",
      "\u001b[1;34m￨ stanza 75, line 13: THUS do.i PINE and SUR feit DAY by DAY                 :  49%|\u001b[0;36m████▊     \u001b[0;36m| 1048/2155 [00:28<00:24, 45.60it/s]"
     ]
    },
    {
     "name": "stderr",
     "output_type": "stream",
     "text": [
      "\r",
      "\u001b[1;34m￨ stanza 75, line 14: or GLUT to NING on ALL or ALL a WAY                    :  49%|\u001b[0;36m████▊     \u001b[0;36m| 1048/2155 [00:28<00:24, 45.60it/s]"
     ]
    },
    {
     "name": "stderr",
     "output_type": "stream",
     "text": [
      "\r",
      "\u001b[1;34m￨ stanza 76, line 01: why IS my VERSE so BAR ren OF new PRIDE                :  49%|\u001b[0;36m████▊     \u001b[0;36m| 1048/2155 [00:28<00:24, 45.60it/s]"
     ]
    },
    {
     "name": "stderr",
     "output_type": "stream",
     "text": [
      "\r",
      "\u001b[1;34m￨ stanza 76, line 02: so FAR from VA ria TI on OR quick CHANGE               :  49%|\u001b[0;36m████▊     \u001b[0;36m| 1048/2155 [00:28<00:24, 45.60it/s]"
     ]
    },
    {
     "name": "stderr",
     "output_type": "stream",
     "text": [
      "\r",
      "\u001b[1;34m￨ stanza 76, line 03: WHY with.the TIME do I not GLANCE a SIDE               :  49%|\u001b[0;36m████▊     \u001b[0;36m| 1048/2155 [00:28<00:24, 45.60it/s]"
     ]
    },
    {
     "name": "stderr",
     "output_type": "stream",
     "text": [
      "\r",
      "\u001b[1;34m￨ stanza 76, line 04: to NEW found MET hods AND to COM pounds STRANGE        :  49%|\u001b[0;36m████▊     \u001b[0;36m| 1048/2155 [00:28<00:24, 45.60it/s]"
     ]
    },
    {
     "name": "stderr",
     "output_type": "stream",
     "text": [
      "\r",
      "\u001b[1;34m￨ stanza 76, line 05: why WRITE i STILL all.one E.VER the SAME               :  49%|\u001b[0;36m████▊     \u001b[0;36m| 1048/2155 [00:28<00:24, 45.60it/s]"
     ]
    },
    {
     "name": "stderr",
     "output_type": "stream",
     "text": [
      "\r",
      "\u001b[1;34m￨ stanza 76, line 06: and KEEP in VEN tion IN a NO ted WEED                  :  49%|\u001b[0;36m████▊     \u001b[0;36m| 1048/2155 [00:28<00:24, 45.60it/s]"
     ]
    },
    {
     "name": "stderr",
     "output_type": "stream",
     "text": [
      "\r",
      "\u001b[1;34m￨ stanza 76, line 07: that E very WORD doth AL most TELL my NAME             :  49%|\u001b[0;36m████▊     \u001b[0;36m| 1048/2155 [00:28<00:24, 45.60it/s]"
     ]
    },
    {
     "name": "stderr",
     "output_type": "stream",
     "text": [
      "\r",
      "\u001b[1;34m￨ stanza 76, line 08: SHO wing.their BIRTH and WHERE they DID pro CEED       :  49%|\u001b[0;36m████▊     \u001b[0;36m| 1048/2155 [00:28<00:24, 45.60it/s]"
     ]
    },
    {
     "name": "stderr",
     "output_type": "stream",
     "text": [
      "\r",
      "\u001b[1;34m￨ stanza 76, line 09: o KNOW sweet LOVE i AL ways WRITE of YOU               :  49%|\u001b[0;36m████▊     \u001b[0;36m| 1048/2155 [00:28<00:24, 45.60it/s]"
     ]
    },
    {
     "name": "stderr",
     "output_type": "stream",
     "text": [
      "\r",
      "\u001b[1;34m￨ stanza 76, line 10: and YOU and LOVE are STILL my AR gu MENT               :  49%|\u001b[0;36m████▊     \u001b[0;36m| 1048/2155 [00:28<00:24, 45.60it/s]"
     ]
    },
    {
     "name": "stderr",
     "output_type": "stream",
     "text": [
      "\r",
      "\u001b[1;34m￨ stanza 76, line 11: so ALL my BEST is DRES sing OLD words NEW              :  49%|\u001b[0;36m████▊     \u001b[0;36m| 1048/2155 [00:28<00:24, 45.60it/s]"
     ]
    },
    {
     "name": "stderr",
     "output_type": "stream",
     "text": [
      "\r",
      "\u001b[1;34m￨ stanza 76, line 12: SPEN ding A.GAIN what IS al REA dy SPENT               :  49%|\u001b[0;36m████▊     \u001b[0;36m| 1048/2155 [00:29<00:24, 45.60it/s]"
     ]
    },
    {
     "name": "stderr",
     "output_type": "stream",
     "text": [
      "\r",
      "\u001b[1;34m￨ stanza 76, line 13: for AS the SUN is DAI ly NEW and OLD                   :  49%|\u001b[0;36m████▊     \u001b[0;36m| 1048/2155 [00:29<00:24, 45.60it/s]"
     ]
    },
    {
     "name": "stderr",
     "output_type": "stream",
     "text": [
      "\r",
      "\u001b[1;34m￨ stanza 76, line 14: so IS my LOVE still TEL ling WHAT is TOLD              :  49%|\u001b[0;36m████▊     \u001b[0;36m| 1048/2155 [00:29<00:24, 45.60it/s]"
     ]
    },
    {
     "name": "stderr",
     "output_type": "stream",
     "text": [
      "\r",
      "\u001b[1;34m￨ stanza 77, line 01: thy GLASS will SHOW thee HOW thy BEA uties WEAR        :  49%|\u001b[0;36m████▊     \u001b[0;36m| 1048/2155 [00:29<00:24, 45.60it/s]"
     ]
    },
    {
     "name": "stderr",
     "output_type": "stream",
     "text": [
      "\r",
      "\u001b[1;34m￨ stanza 77, line 02: thy DIAL how.thy PRE cious MI nutes WASTE              :  49%|\u001b[0;36m████▊     \u001b[0;36m| 1048/2155 [00:29<00:24, 45.60it/s]"
     ]
    },
    {
     "name": "stderr",
     "output_type": "stream",
     "text": [
      "\r",
      "\u001b[1;34m￨ stanza 77, line 03: the VA cant LEAVES thy MIND'S im PRINT will BEAR       :  49%|\u001b[0;36m████▊     \u001b[0;36m| 1048/2155 [00:29<00:24, 45.60it/s]"
     ]
    },
    {
     "name": "stderr",
     "output_type": "stream",
     "text": [
      "\r",
      "\u001b[1;34m￨ stanza 77, line 03: the VA cant LEAVES thy MIND'S im PRINT will BEAR       :  50%|\u001b[0;36m████▉     \u001b[0;36m| 1067/2155 [00:29<00:25, 42.08it/s]"
     ]
    },
    {
     "name": "stderr",
     "output_type": "stream",
     "text": [
      "\r",
      "\u001b[1;34m￨ stanza 77, line 04: and OF this BOOK this LEAR ning MAYST thou TASTE       :  50%|\u001b[0;36m████▉     \u001b[0;36m| 1067/2155 [00:29<00:25, 42.08it/s]"
     ]
    },
    {
     "name": "stderr",
     "output_type": "stream",
     "text": [
      "\r",
      "\u001b[1;34m￨ stanza 77, line 05: the WRIN kles WHICH thy GLASS will TRU ly SHOW         :  50%|\u001b[0;36m████▉     \u001b[0;36m| 1067/2155 [00:29<00:25, 42.08it/s]"
     ]
    },
    {
     "name": "stderr",
     "output_type": "stream",
     "text": [
      "\r",
      "\u001b[1;34m￨ stanza 77, line 06: of MOUTHED.GRAVES will GIVE thee ME mo RY              :  50%|\u001b[0;36m████▉     \u001b[0;36m| 1067/2155 [00:29<00:25, 42.08it/s]"
     ]
    },
    {
     "name": "stderr",
     "output_type": "stream",
     "text": [
      "\r",
      "\u001b[1;34m￨ stanza 77, line 07: THOU by.thy DIAL 's SHA dy STEALTH mayst KNOW          :  50%|\u001b[0;36m████▉     \u001b[0;36m| 1067/2155 [00:29<00:25, 42.08it/s]"
     ]
    },
    {
     "name": "stderr",
     "output_type": "stream",
     "text": [
      "\r",
      "\u001b[1;34m￨ stanza 77, line 08: time's THIE vish PRO gress TO e TER ni TY              :  50%|\u001b[0;36m████▉     \u001b[0;36m| 1067/2155 [00:29<00:25, 42.08it/s]"
     ]
    },
    {
     "name": "stderr",
     "output_type": "stream",
     "text": [
      "\r",
      "\u001b[1;34m￨ stanza 77, line 09: LOOK what.thy ME mo RY can NOT con TAIN                :  50%|\u001b[0;36m████▉     \u001b[0;36m| 1067/2155 [00:29<00:25, 42.08it/s]"
     ]
    },
    {
     "name": "stderr",
     "output_type": "stream",
     "text": [
      "\r",
      "\u001b[1;34m￨ stanza 77, line 10: com MIT to THESE waste BLANKS and THOU shalt FIND      :  50%|\u001b[0;36m████▉     \u001b[0;36m| 1067/2155 [00:29<00:25, 42.08it/s]"
     ]
    },
    {
     "name": "stderr",
     "output_type": "stream",
     "text": [
      "\r",
      "\u001b[1;34m￨ stanza 77, line 11: those CHIL dren NURSED de LI ver'd FROM thy BRAIN      :  50%|\u001b[0;36m████▉     \u001b[0;36m| 1067/2155 [00:29<00:25, 42.08it/s]"
     ]
    },
    {
     "name": "stderr",
     "output_type": "stream",
     "text": [
      "\r",
      "\u001b[1;34m￨ stanza 77, line 12: to TAKE a NEW ac QUA intance OF thy MIND               :  50%|\u001b[0;36m████▉     \u001b[0;36m| 1067/2155 [00:29<00:25, 42.08it/s]"
     ]
    },
    {
     "name": "stderr",
     "output_type": "stream",
     "text": [
      "\r",
      "\u001b[1;34m￨ stanza 77, line 13: these OF fi CES so OFT as THOU wilt LOOK               :  50%|\u001b[0;36m████▉     \u001b[0;36m| 1067/2155 [00:29<00:25, 42.08it/s]"
     ]
    },
    {
     "name": "stderr",
     "output_type": "stream",
     "text": [
      "\r",
      "\u001b[1;34m￨ stanza 77, line 14: shall PRO fit THEE and MUCH en RICH thy BOOK           :  50%|\u001b[0;36m████▉     \u001b[0;36m| 1067/2155 [00:29<00:25, 42.08it/s]"
     ]
    },
    {
     "name": "stderr",
     "output_type": "stream",
     "text": [
      "\r",
      "\u001b[1;34m￨ stanza 78, line 01: so OFT have I in VOKED thee FOR my MUSE                :  50%|\u001b[0;36m████▉     \u001b[0;36m| 1067/2155 [00:29<00:25, 42.08it/s]"
     ]
    },
    {
     "name": "stderr",
     "output_type": "stream",
     "text": [
      "\r",
      "\u001b[1;34m￨ stanza 78, line 02: and FOUND such FAIR as SIS tance IN my VERSE           :  50%|\u001b[0;36m████▉     \u001b[0;36m| 1067/2155 [00:29<00:25, 42.08it/s]"
     ]
    },
    {
     "name": "stderr",
     "output_type": "stream",
     "text": [
      "\r",
      "\u001b[1;34m￨ stanza 78, line 03: as E very A li.en PEN hath GOT my USE                  :  50%|\u001b[0;36m████▉     \u001b[0;36m| 1067/2155 [00:29<00:25, 42.08it/s]"
     ]
    },
    {
     "name": "stderr",
     "output_type": "stream",
     "text": [
      "\r",
      "\u001b[1;34m￨ stanza 78, line 03: as E very A li.en PEN hath GOT my USE                  :  50%|\u001b[0;36m█████     \u001b[0;36m| 1081/2155 [00:29<00:24, 43.30it/s]"
     ]
    },
    {
     "name": "stderr",
     "output_type": "stream",
     "text": [
      "\r",
      "\u001b[1;34m￨ stanza 78, line 04: and UN der THEE their POE sy DIS.PERSE                 :  50%|\u001b[0;36m█████     \u001b[0;36m| 1081/2155 [00:29<00:24, 43.30it/s]"
     ]
    },
    {
     "name": "stderr",
     "output_type": "stream",
     "text": [
      "\r",
      "\u001b[1;34m￨ stanza 78, line 05: thine EYES that TAUGHT the DUMB on HIGH to SING        :  50%|\u001b[0;36m█████     \u001b[0;36m| 1081/2155 [00:29<00:24, 43.30it/s]"
     ]
    },
    {
     "name": "stderr",
     "output_type": "stream",
     "text": [
      "\r",
      "\u001b[1;34m￨ stanza 78, line 06: and HEA vy I gno RANCE a LOFT to FLY                   :  50%|\u001b[0;36m█████     \u001b[0;36m| 1081/2155 [00:29<00:24, 43.30it/s]"
     ]
    },
    {
     "name": "stderr",
     "output_type": "stream",
     "text": [
      "\r",
      "\u001b[1;34m￨ stanza 78, line 07: have AD ded FEAT hers TO the LEARNED'S wing            :  50%|\u001b[0;36m█████     \u001b[0;36m| 1081/2155 [00:29<00:24, 43.30it/s]"
     ]
    },
    {
     "name": "stderr",
     "output_type": "stream",
     "text": [
      "\r",
      "\u001b[1;34m￨ stanza 78, line 08: and GI ven GRACE a DOU ble MA jes TY                   :  50%|\u001b[0;36m█████     \u001b[0;36m| 1081/2155 [00:29<00:24, 43.30it/s]"
     ]
    },
    {
     "name": "stderr",
     "output_type": "stream",
     "text": [
      "\r",
      "\u001b[1;34m￨ stanza 78, line 09: yet BE most PROUD of THAT which I com PILE             :  50%|\u001b[0;36m█████     \u001b[0;36m| 1081/2155 [00:29<00:24, 43.30it/s]"
     ]
    },
    {
     "name": "stderr",
     "output_type": "stream",
     "text": [
      "\r",
      "\u001b[1;34m￨ stanza 78, line 10: whose IN fluen.ce IS thine.and BORN of THEE            :  50%|\u001b[0;36m█████     \u001b[0;36m| 1081/2155 [00:29<00:24, 43.30it/s]"
     ]
    },
    {
     "name": "stderr",
     "output_type": "stream",
     "text": [
      "\r",
      "\u001b[1;34m￨ stanza 78, line 11: in OT hers' WORKS thou DOST but MEND the STYLE         :  50%|\u001b[0;36m█████     \u001b[0;36m| 1081/2155 [00:29<00:24, 43.30it/s]"
     ]
    },
    {
     "name": "stderr",
     "output_type": "stream",
     "text": [
      "\r",
      "\u001b[1;34m￨ stanza 78, line 12: and ARTS with THY sweet GRA ces GRACED be              :  50%|\u001b[0;36m█████     \u001b[0;36m| 1081/2155 [00:29<00:24, 43.30it/s]"
     ]
    },
    {
     "name": "stderr",
     "output_type": "stream",
     "text": [
      "\r",
      "\u001b[1;34m￨ stanza 78, line 13: but THOU art ALL my ART and DOST a DVANCE              :  50%|\u001b[0;36m█████     \u001b[0;36m| 1081/2155 [00:29<00:24, 43.30it/s]"
     ]
    },
    {
     "name": "stderr",
     "output_type": "stream",
     "text": [
      "\r",
      "\u001b[1;34m￨ stanza 78, line 14: as HIGH as LEAR ning MY rude I gno RANCE               :  50%|\u001b[0;36m█████     \u001b[0;36m| 1081/2155 [00:29<00:24, 43.30it/s]"
     ]
    },
    {
     "name": "stderr",
     "output_type": "stream",
     "text": [
      "\r",
      "\u001b[1;34m￨ stanza 79, line 01: whilst I a LONE did CALL u PON thy AID                 :  50%|\u001b[0;36m█████     \u001b[0;36m| 1081/2155 [00:29<00:24, 43.30it/s]"
     ]
    },
    {
     "name": "stderr",
     "output_type": "stream",
     "text": [
      "\r",
      "\u001b[1;34m￨ stanza 79, line 01: whilst I a LONE did CALL u PON thy AID                 :  51%|\u001b[0;36m█████     \u001b[0;36m| 1093/2155 [00:29<00:21, 48.98it/s]"
     ]
    },
    {
     "name": "stderr",
     "output_type": "stream",
     "text": [
      "\r",
      "\u001b[1;34m￨ stanza 79, line 02: my VERSE a LONE had ALL thy GEN tle GRACE              :  51%|\u001b[0;36m█████     \u001b[0;36m| 1093/2155 [00:29<00:21, 48.98it/s]"
     ]
    },
    {
     "name": "stderr",
     "output_type": "stream",
     "text": [
      "\r",
      "\u001b[1;34m￨ stanza 79, line 03: but NOW my GRA cious NUM bers ARE de CAY'D             :  51%|\u001b[0;36m█████     \u001b[0;36m| 1093/2155 [00:29<00:21, 48.98it/s]"
     ]
    },
    {
     "name": "stderr",
     "output_type": "stream",
     "text": [
      "\r",
      "\u001b[1;34m￨ stanza 79, line 04: and MY sick MUSE doth GIVE a NOT her PLACE             :  51%|\u001b[0;36m█████     \u001b[0;36m| 1093/2155 [00:29<00:21, 48.98it/s]"
     ]
    },
    {
     "name": "stderr",
     "output_type": "stream",
     "text": [
      "\r",
      "\u001b[1;34m￨ stanza 79, line 05: i GRANT sweet LOVE thy LO vely AR gu MENT              :  51%|\u001b[0;36m█████     \u001b[0;36m| 1093/2155 [00:29<00:21, 48.98it/s]"
     ]
    },
    {
     "name": "stderr",
     "output_type": "stream",
     "text": [
      "\r",
      "\u001b[1;34m￨ stanza 79, line 06: de SERVES the TRA.VAIL of.a WORT hi.er PEN             :  51%|\u001b[0;36m█████     \u001b[0;36m| 1093/2155 [00:29<00:21, 48.98it/s]"
     ]
    },
    {
     "name": "stderr",
     "output_type": "stream",
     "text": [
      "\r",
      "\u001b[1;34m￨ stanza 79, line 07: yet WHAT of THEE thy PO et DOTH in VENT                :  51%|\u001b[0;36m█████     \u001b[0;36m| 1093/2155 [00:29<00:21, 48.98it/s]"
     ]
    },
    {
     "name": "stderr",
     "output_type": "stream",
     "text": [
      "\r",
      "\u001b[1;34m￨ stanza 79, line 08: he ROBS thee OF and PAYS it THEE a GAIN                :  51%|\u001b[0;36m█████     \u001b[0;36m| 1093/2155 [00:29<00:21, 48.98it/s]"
     ]
    },
    {
     "name": "stderr",
     "output_type": "stream",
     "text": [
      "\r",
      "\u001b[1;34m￨ stanza 79, line 09: he LENDS thee VIR tue AND he STOLE that WORD           :  51%|\u001b[0;36m█████     \u001b[0;36m| 1093/2155 [00:29<00:21, 48.98it/s]"
     ]
    },
    {
     "name": "stderr",
     "output_type": "stream",
     "text": [
      "\r",
      "\u001b[1;34m￨ stanza 79, line 10: from THY be HA vior BEA uty DOTH he GIVE               :  51%|\u001b[0;36m█████     \u001b[0;36m| 1093/2155 [00:29<00:21, 48.98it/s]"
     ]
    },
    {
     "name": "stderr",
     "output_type": "stream",
     "text": [
      "\r",
      "\u001b[1;34m￨ stanza 79, line 11: and FOUND it IN thy CHEEK he CAN af FORD               :  51%|\u001b[0;36m█████     \u001b[0;36m| 1093/2155 [00:29<00:21, 48.98it/s]"
     ]
    },
    {
     "name": "stderr",
     "output_type": "stream",
     "text": [
      "\r",
      "\u001b[1;34m￨ stanza 79, line 12: no PRAISE to THEE but WHAT in THEE doth LIVE           :  51%|\u001b[0;36m█████     \u001b[0;36m| 1093/2155 [00:29<00:21, 48.98it/s]"
     ]
    },
    {
     "name": "stderr",
     "output_type": "stream",
     "text": [
      "\r",
      "\u001b[1;34m￨ stanza 79, line 13: then THANK him NOT for THAT which HE doth SAY          :  51%|\u001b[0;36m█████     \u001b[0;36m| 1093/2155 [00:30<00:21, 48.98it/s]"
     ]
    },
    {
     "name": "stderr",
     "output_type": "stream",
     "text": [
      "\r",
      "\u001b[1;34m￨ stanza 79, line 13: then THANK him NOT for THAT which HE doth SAY          :  51%|\u001b[0;36m█████▏    \u001b[0;36m| 1105/2155 [00:30<00:30, 34.44it/s]"
     ]
    },
    {
     "name": "stderr",
     "output_type": "stream",
     "text": [
      "\r",
      "\u001b[1;34m￨ stanza 79, line 14: since WHAT he OWES thee THOU thy SELF dost PAY         :  51%|\u001b[0;36m█████▏    \u001b[0;36m| 1105/2155 [00:30<00:30, 34.44it/s]"
     ]
    },
    {
     "name": "stderr",
     "output_type": "stream",
     "text": [
      "\r",
      "\u001b[1;34m￨ stanza 80, line 01: o HOW i FAINT when I of YOU do WRITE                   :  51%|\u001b[0;36m█████▏    \u001b[0;36m| 1105/2155 [00:30<00:30, 34.44it/s]"
     ]
    },
    {
     "name": "stderr",
     "output_type": "stream",
     "text": [
      "\r",
      "\u001b[1;34m￨ stanza 80, line 02: KNO wing.a BET ter SPI.RIT doth USE your NAME          :  51%|\u001b[0;36m█████▏    \u001b[0;36m| 1105/2155 [00:30<00:30, 34.44it/s]"
     ]
    },
    {
     "name": "stderr",
     "output_type": "stream",
     "text": [
      "\r",
      "\u001b[1;34m￨ stanza 80, line 03: and IN the PRAISE the.reof SPENDS all HIS might        :  51%|\u001b[0;36m█████▏    \u001b[0;36m| 1105/2155 [00:30<00:30, 34.44it/s]"
     ]
    },
    {
     "name": "stderr",
     "output_type": "stream",
     "text": [
      "\r",
      "\u001b[1;34m￨ stanza 80, line 04: to MAKE me TONGUE tied SPEA king OF your FAME          :  51%|\u001b[0;36m█████▏    \u001b[0;36m| 1105/2155 [00:30<00:30, 34.44it/s]"
     ]
    },
    {
     "name": "stderr",
     "output_type": "stream",
     "text": [
      "\r",
      "\u001b[1;34m￨ stanza 80, line 05: but.since YOUR worth WIDE as.the O cean IS             :  51%|\u001b[0;36m█████▏    \u001b[0;36m| 1105/2155 [00:30<00:30, 34.44it/s]"
     ]
    },
    {
     "name": "stderr",
     "output_type": "stream",
     "text": [
      "\r",
      "\u001b[1;34m￨ stanza 80, line 06: the HUM ble AS the PROU dest SAIL doth BEAR            :  51%|\u001b[0;36m█████▏    \u001b[0;36m| 1105/2155 [00:30<00:30, 34.44it/s]"
     ]
    },
    {
     "name": "stderr",
     "output_type": "stream",
     "text": [
      "\r",
      "\u001b[1;34m￨ stanza 80, line 07: my SAU cy BARK in FE ri.or FAR to HIS                  :  51%|\u001b[0;36m█████▏    \u001b[0;36m| 1105/2155 [00:30<00:30, 34.44it/s]"
     ]
    },
    {
     "name": "stderr",
     "output_type": "stream",
     "text": [
      "\r",
      "\u001b[1;34m￨ stanza 80, line 08: on YOUR broad MAIN doth WIL ful LY ap PEAR             :  51%|\u001b[0;36m█████▏    \u001b[0;36m| 1105/2155 [00:30<00:30, 34.44it/s]"
     ]
    },
    {
     "name": "stderr",
     "output_type": "stream",
     "text": [
      "\r",
      "\u001b[1;34m￨ stanza 80, line 09: your SHAL lo.west HELP will HOLD me UP a FLOAT         :  51%|\u001b[0;36m█████▏    \u001b[0;36m| 1105/2155 [00:30<00:30, 34.44it/s]"
     ]
    },
    {
     "name": "stderr",
     "output_type": "stream",
     "text": [
      "\r",
      "\u001b[1;34m￨ stanza 80, line 10: whilst HE u PON your SOUN dless DEEP doth RIDE         :  51%|\u001b[0;36m█████▏    \u001b[0;36m| 1105/2155 [00:30<00:30, 34.44it/s]"
     ]
    },
    {
     "name": "stderr",
     "output_type": "stream",
     "text": [
      "\r",
      "\u001b[1;34m￨ stanza 80, line 11: or BE ing WRECK'D i AM a WORT hless BOAT               :  51%|\u001b[0;36m█████▏    \u001b[0;36m| 1105/2155 [00:30<00:30, 34.44it/s]"
     ]
    },
    {
     "name": "stderr",
     "output_type": "stream",
     "text": [
      "\r",
      "\u001b[1;34m￨ stanza 80, line 12: he OF tall BUIL ding AND of GOO dly PRIDE              :  51%|\u001b[0;36m█████▏    \u001b[0;36m| 1105/2155 [00:30<00:30, 34.44it/s]"
     ]
    },
    {
     "name": "stderr",
     "output_type": "stream",
     "text": [
      "\r",
      "\u001b[1;34m￨ stanza 80, line 13: THEN if.he THRIVE and I be CAST a WAY                  :  51%|\u001b[0;36m█████▏    \u001b[0;36m| 1105/2155 [00:30<00:30, 34.44it/s]"
     ]
    },
    {
     "name": "stderr",
     "output_type": "stream",
     "text": [
      "\r",
      "\u001b[1;34m￨ stanza 80, line 14: the WORST was THIS my LOVE was MY de CAY               :  51%|\u001b[0;36m█████▏    \u001b[0;36m| 1105/2155 [00:30<00:30, 34.44it/s]"
     ]
    },
    {
     "name": "stderr",
     "output_type": "stream",
     "text": [
      "\r",
      "\u001b[1;34m￨ stanza 81, line 01: or I shall LIVE your E pi TAPH to MAKE                 :  51%|\u001b[0;36m█████▏    \u001b[0;36m| 1105/2155 [00:30<00:30, 34.44it/s]"
     ]
    },
    {
     "name": "stderr",
     "output_type": "stream",
     "text": [
      "\r",
      "\u001b[1;34m￨ stanza 81, line 02: or YOU sur VIVE when I in EARTH am ROT ten             :  51%|\u001b[0;36m█████▏    \u001b[0;36m| 1105/2155 [00:30<00:30, 34.44it/s]"
     ]
    },
    {
     "name": "stderr",
     "output_type": "stream",
     "text": [
      "\r",
      "\u001b[1;34m￨ stanza 81, line 03: from HENCE your ME mo RY death CAN not TAKE            :  51%|\u001b[0;36m█████▏    \u001b[0;36m| 1105/2155 [00:30<00:30, 34.44it/s]"
     ]
    },
    {
     "name": "stderr",
     "output_type": "stream",
     "text": [
      "\r",
      "\u001b[1;34m￨ stanza 81, line 03: from HENCE your ME mo RY death CAN not TAKE            :  52%|\u001b[0;36m█████▏    \u001b[0;36m| 1123/2155 [00:30<00:22, 45.42it/s]"
     ]
    },
    {
     "name": "stderr",
     "output_type": "stream",
     "text": [
      "\r",
      "\u001b[1;34m￨ stanza 81, line 04: alt HOUGH in ME each PART will BE for GOT ten          :  52%|\u001b[0;36m█████▏    \u001b[0;36m| 1123/2155 [00:30<00:22, 45.42it/s]"
     ]
    },
    {
     "name": "stderr",
     "output_type": "stream",
     "text": [
      "\r",
      "\u001b[1;34m￨ stanza 81, line 05: your NAME from HENCE im MOR tal LIFE shall HAVE        :  52%|\u001b[0;36m█████▏    \u001b[0;36m| 1123/2155 [00:30<00:22, 45.42it/s]"
     ]
    },
    {
     "name": "stderr",
     "output_type": "stream",
     "text": [
      "\r",
      "\u001b[1;34m￨ stanza 81, line 06: though I once GONE to ALL the WORLD must DIE           :  52%|\u001b[0;36m█████▏    \u001b[0;36m| 1123/2155 [00:30<00:22, 45.42it/s]"
     ]
    },
    {
     "name": "stderr",
     "output_type": "stream",
     "text": [
      "\r",
      "\u001b[1;34m￨ stanza 81, line 07: the EARTH can YIELD me BUT a COM mon GRAVE             :  52%|\u001b[0;36m█████▏    \u001b[0;36m| 1123/2155 [00:30<00:22, 45.42it/s]"
     ]
    },
    {
     "name": "stderr",
     "output_type": "stream",
     "text": [
      "\r",
      "\u001b[1;34m￨ stanza 81, line 08: when YOU en TOMBED in MEN'S eyes SHALL lie             :  52%|\u001b[0;36m█████▏    \u001b[0;36m| 1123/2155 [00:30<00:22, 45.42it/s]"
     ]
    },
    {
     "name": "stderr",
     "output_type": "stream",
     "text": [
      "\r",
      "\u001b[1;34m￨ stanza 81, line 09: your MO nu MENT shall BE my GEN tle VERSE              :  52%|\u001b[0;36m█████▏    \u001b[0;36m| 1123/2155 [00:30<00:22, 45.42it/s]"
     ]
    },
    {
     "name": "stderr",
     "output_type": "stream",
     "text": [
      "\r",
      "\u001b[1;34m￨ stanza 81, line 10: which EYES not YET crea T ed SHALL o'er READ           :  52%|\u001b[0;36m█████▏    \u001b[0;36m| 1123/2155 [00:30<00:22, 45.42it/s]"
     ]
    },
    {
     "name": "stderr",
     "output_type": "stream",
     "text": [
      "\r",
      "\u001b[1;34m￨ stanza 81, line 11: and TONGUES to BE your BE ing SHALL re HEARSE          :  52%|\u001b[0;36m█████▏    \u001b[0;36m| 1123/2155 [00:30<00:22, 45.42it/s]"
     ]
    },
    {
     "name": "stderr",
     "output_type": "stream",
     "text": [
      "\r",
      "\u001b[1;34m￨ stanza 81, line 12: when ALL the BREAT hers OF this WORLD are DEAD         :  52%|\u001b[0;36m█████▏    \u001b[0;36m| 1123/2155 [00:30<00:22, 45.42it/s]"
     ]
    },
    {
     "name": "stderr",
     "output_type": "stream",
     "text": [
      "\r",
      "\u001b[1;34m￨ stanza 81, line 13: you STILL shall LIVE such VIR tue HATH my PEN          :  52%|\u001b[0;36m█████▏    \u001b[0;36m| 1123/2155 [00:30<00:22, 45.42it/s]"
     ]
    },
    {
     "name": "stderr",
     "output_type": "stream",
     "text": [
      "\r",
      "\u001b[1;34m￨ stanza 81, line 14: where BREATH most BREATHES e.ven IN the MOUTHS of MEN  :  52%|\u001b[0;36m█████▏    \u001b[0;36m| 1123/2155 [00:30<00:22, 45.42it/s]"
     ]
    },
    {
     "name": "stderr",
     "output_type": "stream",
     "text": [
      "\r",
      "\u001b[1;34m￨ stanza 81, line 14: where BREATH most BREATHES e.ven IN the MOUTHS of MEN  :  53%|\u001b[0;36m█████▎    \u001b[0;36m| 1134/2155 [00:30<00:19, 52.03it/s]"
     ]
    },
    {
     "name": "stderr",
     "output_type": "stream",
     "text": [
      "\r",
      "\u001b[1;34m￨ stanza 82, line 01: i GRANT thou WERT not MAR ried TO my MUSE              :  53%|\u001b[0;36m█████▎    \u001b[0;36m| 1134/2155 [00:30<00:19, 52.03it/s]"
     ]
    },
    {
     "name": "stderr",
     "output_type": "stream",
     "text": [
      "\r",
      "\u001b[1;34m￨ stanza 82, line 02: and THE refore MAYST wit HOUT at TAINT o.'erlook       :  53%|\u001b[0;36m█████▎    \u001b[0;36m| 1134/2155 [00:30<00:19, 52.03it/s]"
     ]
    },
    {
     "name": "stderr",
     "output_type": "stream",
     "text": [
      "\r",
      "\u001b[1;34m￨ stanza 82, line 03: the DE di CA ted WORDS which WRI ters USE              :  53%|\u001b[0;36m█████▎    \u001b[0;36m| 1134/2155 [00:30<00:19, 52.03it/s]"
     ]
    },
    {
     "name": "stderr",
     "output_type": "stream",
     "text": [
      "\r",
      "\u001b[1;34m￨ stanza 82, line 04: of THEIR fair SUB ject BLES sing E very BOOK           :  53%|\u001b[0;36m█████▎    \u001b[0;36m| 1134/2155 [00:30<00:19, 52.03it/s]"
     ]
    },
    {
     "name": "stderr",
     "output_type": "stream",
     "text": [
      "\r",
      "\u001b[1;34m￨ stanza 82, line 05: thou ART as FAIR in KNOW ledge AS in HUE               :  53%|\u001b[0;36m█████▎    \u001b[0;36m| 1134/2155 [00:30<00:19, 52.03it/s]"
     ]
    },
    {
     "name": "stderr",
     "output_type": "stream",
     "text": [
      "\r",
      "\u001b[1;34m￨ stanza 82, line 06: FIN ding.thy WORTH a LI mit PAST my PRAISE             :  53%|\u001b[0;36m█████▎    \u001b[0;36m| 1134/2155 [00:30<00:19, 52.03it/s]"
     ]
    },
    {
     "name": "stderr",
     "output_type": "stream",
     "text": [
      "\r",
      "\u001b[1;34m￨ stanza 82, line 07: and THE refore ART en FORCED to SEEK a NEW             :  53%|\u001b[0;36m█████▎    \u001b[0;36m| 1134/2155 [00:30<00:19, 52.03it/s]"
     ]
    },
    {
     "name": "stderr",
     "output_type": "stream",
     "text": [
      "\r",
      "\u001b[1;34m￨ stanza 82, line 08: some FRES her STAMP of THE time BET te.ring DAYS       :  53%|\u001b[0;36m█████▎    \u001b[0;36m| 1134/2155 [00:30<00:19, 52.03it/s]"
     ]
    },
    {
     "name": "stderr",
     "output_type": "stream",
     "text": [
      "\r",
      "\u001b[1;34m￨ stanza 82, line 09: and DO so LOVE yet WHEN they HAVE de VISED             :  53%|\u001b[0;36m█████▎    \u001b[0;36m| 1134/2155 [00:30<00:19, 52.03it/s]"
     ]
    },
    {
     "name": "stderr",
     "output_type": "stream",
     "text": [
      "\r",
      "\u001b[1;34m￨ stanza 82, line 10: WHAT strained TOUC hes RHE to RIC can LEND             :  53%|\u001b[0;36m█████▎    \u001b[0;36m| 1134/2155 [00:30<00:19, 52.03it/s]"
     ]
    },
    {
     "name": "stderr",
     "output_type": "stream",
     "text": [
      "\r",
      "\u001b[1;34m￨ stanza 82, line 11: thou TRU ly FAIR wert TRU ly SYM pat HIZED             :  53%|\u001b[0;36m█████▎    \u001b[0;36m| 1134/2155 [00:30<00:19, 52.03it/s]"
     ]
    },
    {
     "name": "stderr",
     "output_type": "stream",
     "text": [
      "\r",
      "\u001b[1;34m￨ stanza 82, line 11: thou TRU ly FAIR wert TRU ly SYM pat HIZED             :  53%|\u001b[0;36m█████▎    \u001b[0;36m| 1145/2155 [00:30<00:17, 58.73it/s]"
     ]
    },
    {
     "name": "stderr",
     "output_type": "stream",
     "text": [
      "\r",
      "\u001b[1;34m￨ stanza 82, line 12: in TRUE plain WORDS by THY true TEL ling FRIEND        :  53%|\u001b[0;36m█████▎    \u001b[0;36m| 1145/2155 [00:30<00:17, 58.73it/s]"
     ]
    },
    {
     "name": "stderr",
     "output_type": "stream",
     "text": [
      "\r",
      "\u001b[1;34m￨ stanza 82, line 13: and THEIR gross PAIN ting MIGHT be BET ter USED        :  53%|\u001b[0;36m█████▎    \u001b[0;36m| 1145/2155 [00:30<00:17, 58.73it/s]"
     ]
    },
    {
     "name": "stderr",
     "output_type": "stream",
     "text": [
      "\r",
      "\u001b[1;34m￨ stanza 82, line 14: where CHEEKS need BLOOD in THEE it IS a BUSED          :  53%|\u001b[0;36m█████▎    \u001b[0;36m| 1145/2155 [00:30<00:17, 58.73it/s]"
     ]
    },
    {
     "name": "stderr",
     "output_type": "stream",
     "text": [
      "\r",
      "\u001b[1;34m￨ stanza 83, line 01: i NE ver SAW that YOU did PAIN ting NEED               :  53%|\u001b[0;36m█████▎    \u001b[0;36m| 1145/2155 [00:31<00:17, 58.73it/s]"
     ]
    },
    {
     "name": "stderr",
     "output_type": "stream",
     "text": [
      "\r",
      "\u001b[1;34m￨ stanza 83, line 02: and THE.REFORE to.your FAIR no PAIN ting SET           :  53%|\u001b[0;36m█████▎    \u001b[0;36m| 1145/2155 [00:31<00:17, 58.73it/s]"
     ]
    },
    {
     "name": "stderr",
     "output_type": "stream",
     "text": [
      "\r",
      "\u001b[1;34m￨ stanza 83, line 03: i FOUND or THOUGHT i FOUND you DID ex CEED             :  53%|\u001b[0;36m█████▎    \u001b[0;36m| 1145/2155 [00:31<00:17, 58.73it/s]"
     ]
    },
    {
     "name": "stderr",
     "output_type": "stream",
     "text": [
      "\r",
      "\u001b[1;34m￨ stanza 83, line 04: the BAR ren TEN der OF a POET 's DEBT                  :  53%|\u001b[0;36m█████▎    \u001b[0;36m| 1145/2155 [00:31<00:17, 58.73it/s]"
     ]
    },
    {
     "name": "stderr",
     "output_type": "stream",
     "text": [
      "\r",
      "\u001b[1;34m￨ stanza 83, line 05: and THE refore HAVE i SLEPT in YOUR re PORT            :  53%|\u001b[0;36m█████▎    \u001b[0;36m| 1145/2155 [00:31<00:17, 58.73it/s]"
     ]
    },
    {
     "name": "stderr",
     "output_type": "stream",
     "text": [
      "\r",
      "\u001b[1;34m￨ stanza 83, line 06: that.you YO urself BE ing EX tant WELL might SHOW      :  53%|\u001b[0;36m█████▎    \u001b[0;36m| 1145/2155 [00:31<00:17, 58.73it/s]"
     ]
    },
    {
     "name": "stderr",
     "output_type": "stream",
     "text": [
      "\r",
      "\u001b[1;34m￨ stanza 83, line 07: how FAR a MO dern QUILL doth COME too SHORT            :  53%|\u001b[0;36m█████▎    \u001b[0;36m| 1145/2155 [00:31<00:17, 58.73it/s]"
     ]
    },
    {
     "name": "stderr",
     "output_type": "stream",
     "text": [
      "\r",
      "\u001b[1;34m￨ stanza 83, line 08: SPEA.KING of WORTH what WORTH in YOU doth GROW         :  53%|\u001b[0;36m█████▎    \u001b[0;36m| 1145/2155 [00:31<00:17, 58.73it/s]"
     ]
    },
    {
     "name": "stderr",
     "output_type": "stream",
     "text": [
      "\r",
      "\u001b[1;34m￨ stanza 83, line 08: SPEA.KING of WORTH what WORTH in YOU doth GROW         :  54%|\u001b[0;36m█████▎    \u001b[0;36m| 1156/2155 [00:31<00:28, 34.74it/s]"
     ]
    },
    {
     "name": "stderr",
     "output_type": "stream",
     "text": [
      "\r",
      "\u001b[1;34m￨ stanza 83, line 09: this SI lence FOR my SIN you DID im PUTE               :  54%|\u001b[0;36m█████▎    \u001b[0;36m| 1156/2155 [00:31<00:28, 34.74it/s]"
     ]
    },
    {
     "name": "stderr",
     "output_type": "stream",
     "text": [
      "\r",
      "\u001b[1;34m￨ stanza 83, line 10: which SHALL be MOST my GLO ry BE ing DUMB              :  54%|\u001b[0;36m█████▎    \u001b[0;36m| 1156/2155 [00:31<00:28, 34.74it/s]"
     ]
    },
    {
     "name": "stderr",
     "output_type": "stream",
     "text": [
      "\r",
      "\u001b[1;34m￨ stanza 83, line 11: for I im PAIR not BEA uty BE ing MUTE                  :  54%|\u001b[0;36m█████▎    \u001b[0;36m| 1156/2155 [00:31<00:28, 34.74it/s]"
     ]
    },
    {
     "name": "stderr",
     "output_type": "stream",
     "text": [
      "\r",
      "\u001b[1;34m￨ stanza 83, line 12: when OT hers WOULD give LIFE and BRING a TOMB          :  54%|\u001b[0;36m█████▎    \u001b[0;36m| 1156/2155 [00:31<00:28, 34.74it/s]"
     ]
    },
    {
     "name": "stderr",
     "output_type": "stream",
     "text": [
      "\r",
      "\u001b[1;34m￨ stanza 83, line 13: there LIVES more LIFE in ONE of YOUR fair EYES         :  54%|\u001b[0;36m█████▎    \u001b[0;36m| 1156/2155 [00:31<00:28, 34.74it/s]"
     ]
    },
    {
     "name": "stderr",
     "output_type": "stream",
     "text": [
      "\r",
      "\u001b[1;34m￨ stanza 83, line 14: than BOTH your PO ets CAN in PRAISE de VISE            :  54%|\u001b[0;36m█████▎    \u001b[0;36m| 1156/2155 [00:31<00:28, 34.74it/s]"
     ]
    },
    {
     "name": "stderr",
     "output_type": "stream",
     "text": [
      "\r",
      "\u001b[1;34m￨ stanza 84, line 01: who.is IT that SAYS most WHICH can SAY more            :  54%|\u001b[0;36m█████▎    \u001b[0;36m| 1156/2155 [00:32<00:28, 34.74it/s]"
     ]
    },
    {
     "name": "stderr",
     "output_type": "stream",
     "text": [
      "\r",
      "\u001b[1;34m￨ stanza 84, line 02: than THIS rich PRAISE that YOU a LONE are YOU          :  54%|\u001b[0;36m█████▎    \u001b[0;36m| 1156/2155 [00:32<00:28, 34.74it/s]"
     ]
    },
    {
     "name": "stderr",
     "output_type": "stream",
     "text": [
      "\r",
      "\u001b[1;34m￨ stanza 84, line 02: than THIS rich PRAISE that YOU a LONE are YOU          :  54%|\u001b[0;36m█████▍    \u001b[0;36m| 1164/2155 [00:32<00:45, 21.66it/s]"
     ]
    },
    {
     "name": "stderr",
     "output_type": "stream",
     "text": [
      "\r",
      "\u001b[1;34m￨ stanza 84, line 03: in WHOSE con FINE im MURED is.the STORE                :  54%|\u001b[0;36m█████▍    \u001b[0;36m| 1164/2155 [00:32<00:45, 21.66it/s]"
     ]
    },
    {
     "name": "stderr",
     "output_type": "stream",
     "text": [
      "\r",
      "\u001b[1;34m￨ stanza 84, line 04: which SHOULD e XAM ple WHERE your E qual GREW          :  54%|\u001b[0;36m█████▍    \u001b[0;36m| 1164/2155 [00:32<00:45, 21.66it/s]"
     ]
    },
    {
     "name": "stderr",
     "output_type": "stream",
     "text": [
      "\r",
      "\u001b[1;34m￨ stanza 84, line 05: lean PE nu RY wit HIN that PEN doth DWELL              :  54%|\u001b[0;36m█████▍    \u001b[0;36m| 1164/2155 [00:32<00:45, 21.66it/s]"
     ]
    },
    {
     "name": "stderr",
     "output_type": "stream",
     "text": [
      "\r",
      "\u001b[1;34m￨ stanza 84, line 06: THAT to.his SUB ject LENDS not SOME small GLO ry       :  54%|\u001b[0;36m█████▍    \u001b[0;36m| 1164/2155 [00:32<00:45, 21.66it/s]"
     ]
    },
    {
     "name": "stderr",
     "output_type": "stream",
     "text": [
      "\r",
      "\u001b[1;34m￨ stanza 84, line 07: but HE that WRITES of YOU if HE can TELL               :  54%|\u001b[0;36m█████▍    \u001b[0;36m| 1164/2155 [00:32<00:45, 21.66it/s]"
     ]
    },
    {
     "name": "stderr",
     "output_type": "stream",
     "text": [
      "\r",
      "\u001b[1;34m￨ stanza 84, line 08: that YOU are YOU so DI gni FIES his STO ry             :  54%|\u001b[0;36m█████▍    \u001b[0;36m| 1164/2155 [00:32<00:45, 21.66it/s]"
     ]
    },
    {
     "name": "stderr",
     "output_type": "stream",
     "text": [
      "\r",
      "\u001b[1;34m￨ stanza 84, line 09: LET him.but CO py WHAT in YOU is WRIT                  :  54%|\u001b[0;36m█████▍    \u001b[0;36m| 1164/2155 [00:32<00:45, 21.66it/s]"
     ]
    },
    {
     "name": "stderr",
     "output_type": "stream",
     "text": [
      "\r",
      "\u001b[1;34m￨ stanza 84, line 10: not MA king WORSE what NA ture MADE so CLEAR           :  54%|\u001b[0;36m█████▍    \u001b[0;36m| 1164/2155 [00:32<00:45, 21.66it/s]"
     ]
    },
    {
     "name": "stderr",
     "output_type": "stream",
     "text": [
      "\r",
      "\u001b[1;34m￨ stanza 84, line 11: and SUCH a COUN ter PART shall FAME his WIT            :  54%|\u001b[0;36m█████▍    \u001b[0;36m| 1164/2155 [00:32<00:45, 21.66it/s]"
     ]
    },
    {
     "name": "stderr",
     "output_type": "stream",
     "text": [
      "\r",
      "\u001b[1;34m￨ stanza 84, line 12: MA king.his STYLE a DMI red E very WHERE               :  54%|\u001b[0;36m█████▍    \u001b[0;36m| 1164/2155 [00:32<00:45, 21.66it/s]"
     ]
    },
    {
     "name": "stderr",
     "output_type": "stream",
     "text": [
      "\r",
      "\u001b[1;34m￨ stanza 84, line 13: YOU to.your BEA uteous BLES sings ADD a CURSE          :  54%|\u001b[0;36m█████▍    \u001b[0;36m| 1164/2155 [00:32<00:45, 21.66it/s]"
     ]
    },
    {
     "name": "stderr",
     "output_type": "stream",
     "text": [
      "\r",
      "\u001b[1;34m￨ stanza 84, line 14: BE ing FOND on PRAISE which MAKES your PRAI ses WORSE  :  54%|\u001b[0;36m█████▍    \u001b[0;36m| 1164/2155 [00:32<00:45, 21.66it/s]"
     ]
    },
    {
     "name": "stderr",
     "output_type": "stream",
     "text": [
      "\r",
      "\u001b[1;34m￨ stanza 85, line 01: my TONGUE tied MUSE in MAN ners HOLDS her STILL        :  54%|\u001b[0;36m█████▍    \u001b[0;36m| 1164/2155 [00:32<00:45, 21.66it/s]"
     ]
    },
    {
     "name": "stderr",
     "output_type": "stream",
     "text": [
      "\r",
      "\u001b[1;34m￨ stanza 85, line 02: while COM ments OF your PRAISE ric HLY com PILED       :  54%|\u001b[0;36m█████▍    \u001b[0;36m| 1164/2155 [00:32<00:45, 21.66it/s]"
     ]
    },
    {
     "name": "stderr",
     "output_type": "stream",
     "text": [
      "\r",
      "\u001b[1;34m￨ stanza 85, line 03: re SERVE their CHA rac TER with GOL den QUILL          :  54%|\u001b[0;36m█████▍    \u001b[0;36m| 1164/2155 [00:32<00:45, 21.66it/s]"
     ]
    },
    {
     "name": "stderr",
     "output_type": "stream",
     "text": [
      "\r",
      "\u001b[1;34m￨ stanza 85, line 04: and PRE cious PHRASE by ALL the MU ses FILED           :  54%|\u001b[0;36m█████▍    \u001b[0;36m| 1164/2155 [00:32<00:45, 21.66it/s]"
     ]
    },
    {
     "name": "stderr",
     "output_type": "stream",
     "text": [
      "\r",
      "\u001b[1;34m￨ stanza 85, line 05: i THINK good THOUGHTS whilst OT her WRITE good WORDS   :  54%|\u001b[0;36m█████▍    \u001b[0;36m| 1164/2155 [00:32<00:45, 21.66it/s]"
     ]
    },
    {
     "name": "stderr",
     "output_type": "stream",
     "text": [
      "\r",
      "\u001b[1;34m￨ stanza 85, line 06: and LIKE un LET ter'd CLERK still CRY 'a MEN'          :  54%|\u001b[0;36m█████▍    \u001b[0;36m| 1164/2155 [00:32<00:45, 21.66it/s]"
     ]
    },
    {
     "name": "stderr",
     "output_type": "stream",
     "text": [
      "\r",
      "\u001b[1;34m￨ stanza 85, line 07: to E very HYMN that A ble SPI.RIT af FORDS             :  54%|\u001b[0;36m█████▍    \u001b[0;36m| 1164/2155 [00:32<00:45, 21.66it/s]"
     ]
    },
    {
     "name": "stderr",
     "output_type": "stream",
     "text": [
      "\r",
      "\u001b[1;34m￨ stanza 85, line 08: in PO lish'd FORM of WELL re FINED pen                 :  54%|\u001b[0;36m█████▍    \u001b[0;36m| 1164/2155 [00:32<00:45, 21.66it/s]"
     ]
    },
    {
     "name": "stderr",
     "output_type": "stream",
     "text": [
      "\r",
      "\u001b[1;34m￨ stanza 85, line 09: HEA ring YOU praised I say ''TIS so 'TIS true          :  54%|\u001b[0;36m█████▍    \u001b[0;36m| 1164/2155 [00:32<00:45, 21.66it/s]"
     ]
    },
    {
     "name": "stderr",
     "output_type": "stream",
     "text": [
      "\r",
      "\u001b[1;34m￨ stanza 85, line 10: and TO the MOST of PRAISE add SO mething MORE          :  54%|\u001b[0;36m█████▍    \u001b[0;36m| 1164/2155 [00:32<00:45, 21.66it/s]"
     ]
    },
    {
     "name": "stderr",
     "output_type": "stream",
     "text": [
      "\r",
      "\u001b[1;34m￨ stanza 85, line 11: but THAT is IN my THOUGHT whose LOVE to YOU            :  54%|\u001b[0;36m█████▍    \u001b[0;36m| 1164/2155 [00:32<00:45, 21.66it/s]"
     ]
    },
    {
     "name": "stderr",
     "output_type": "stream",
     "text": [
      "\r",
      "\u001b[1;34m￨ stanza 85, line 12: though WORDS come HIN dmost HOLDS his RANK be FORE     :  54%|\u001b[0;36m█████▍    \u001b[0;36m| 1164/2155 [00:32<00:45, 21.66it/s]"
     ]
    },
    {
     "name": "stderr",
     "output_type": "stream",
     "text": [
      "\r",
      "\u001b[1;34m￨ stanza 85, line 13: then OT hers FOR the BREATH of WORDS res PECT          :  54%|\u001b[0;36m█████▍    \u001b[0;36m| 1164/2155 [00:32<00:45, 21.66it/s]"
     ]
    },
    {
     "name": "stderr",
     "output_type": "stream",
     "text": [
      "\r",
      "\u001b[1;34m￨ stanza 85, line 14: ME for.my DUMB thoughts SPEA king IN ef FECT           :  54%|\u001b[0;36m█████▍    \u001b[0;36m| 1164/2155 [00:32<00:45, 21.66it/s]"
     ]
    },
    {
     "name": "stderr",
     "output_type": "stream",
     "text": [
      "\r",
      "\u001b[1;34m￨ stanza 85, line 14: ME for.my DUMB thoughts SPEA king IN ef FECT           :  55%|\u001b[0;36m█████▌    \u001b[0;36m| 1190/2155 [00:32<00:24, 38.94it/s]"
     ]
    },
    {
     "name": "stderr",
     "output_type": "stream",
     "text": [
      "\r",
      "\u001b[1;34m￨ stanza 86, line 01: was IT the PROUD full SAIL of HIS great VERSE          :  55%|\u001b[0;36m█████▌    \u001b[0;36m| 1190/2155 [00:32<00:24, 38.94it/s]"
     ]
    },
    {
     "name": "stderr",
     "output_type": "stream",
     "text": [
      "\r",
      "\u001b[1;34m￨ stanza 86, line 02: BOUND for.the PRIZE of ALL too PRE cious YOU           :  55%|\u001b[0;36m█████▌    \u001b[0;36m| 1190/2155 [00:32<00:24, 38.94it/s]"
     ]
    },
    {
     "name": "stderr",
     "output_type": "stream",
     "text": [
      "\r",
      "\u001b[1;34m￨ stanza 86, line 03: that DID my RIPE thoughts IN my BRAIN in HEARSE        :  55%|\u001b[0;36m█████▌    \u001b[0;36m| 1190/2155 [00:32<00:24, 38.94it/s]"
     ]
    },
    {
     "name": "stderr",
     "output_type": "stream",
     "text": [
      "\r",
      "\u001b[1;34m￨ stanza 86, line 04: MA king.their TOMB the WOMB whe REIN they GREW         :  55%|\u001b[0;36m█████▌    \u001b[0;36m| 1190/2155 [00:32<00:24, 38.94it/s]"
     ]
    },
    {
     "name": "stderr",
     "output_type": "stream",
     "text": [
      "\r",
      "\u001b[1;34m￨ stanza 86, line 05: was IT his SPI.RIT by SPI rits TAUGHT to WRITE         :  55%|\u001b[0;36m█████▌    \u001b[0;36m| 1190/2155 [00:32<00:24, 38.94it/s]"
     ]
    },
    {
     "name": "stderr",
     "output_type": "stream",
     "text": [
      "\r",
      "\u001b[1;34m￨ stanza 86, line 06: a BOVE a MOR tal PITCH that STRUCK me DEAD             :  55%|\u001b[0;36m█████▌    \u001b[0;36m| 1190/2155 [00:32<00:24, 38.94it/s]"
     ]
    },
    {
     "name": "stderr",
     "output_type": "stream",
     "text": [
      "\r",
      "\u001b[1;34m￨ stanza 86, line 07: no NEIT her HE nor HIS com PEERS by NIGHT              :  55%|\u001b[0;36m█████▌    \u001b[0;36m| 1190/2155 [00:32<00:24, 38.94it/s]"
     ]
    },
    {
     "name": "stderr",
     "output_type": "stream",
     "text": [
      "\r",
      "\u001b[1;34m￨ stanza 86, line 08: GI.VING him AID my VERSE as TO nished                  :  55%|\u001b[0;36m█████▌    \u001b[0;36m| 1190/2155 [00:32<00:24, 38.94it/s]"
     ]
    },
    {
     "name": "stderr",
     "output_type": "stream",
     "text": [
      "\r",
      "\u001b[1;34m￨ stanza 86, line 09: HE nor.that AF fa BLE fa MI liar GHOST                 :  55%|\u001b[0;36m█████▌    \u001b[0;36m| 1190/2155 [00:32<00:24, 38.94it/s]"
     ]
    },
    {
     "name": "stderr",
     "output_type": "stream",
     "text": [
      "\r",
      "\u001b[1;34m￨ stanza 86, line 10: which NIGH tly GULLS him WITH in TEL li GENCE          :  55%|\u001b[0;36m█████▌    \u001b[0;36m| 1190/2155 [00:32<00:24, 38.94it/s]"
     ]
    },
    {
     "name": "stderr",
     "output_type": "stream",
     "text": [
      "\r",
      "\u001b[1;34m￨ stanza 86, line 11: as VIC tors OF my SI lence CAN not BOAST               :  55%|\u001b[0;36m█████▌    \u001b[0;36m| 1190/2155 [00:32<00:24, 38.94it/s]"
     ]
    },
    {
     "name": "stderr",
     "output_type": "stream",
     "text": [
      "\r",
      "\u001b[1;34m￨ stanza 86, line 11: as VIC tors OF my SI lence CAN not BOAST               :  56%|\u001b[0;36m█████▌    \u001b[0;36m| 1201/2155 [00:32<00:25, 37.64it/s]"
     ]
    },
    {
     "name": "stderr",
     "output_type": "stream",
     "text": [
      "\r",
      "\u001b[1;34m￨ stanza 86, line 12: I was.not SICK of A ny FEAR from THENCE                :  56%|\u001b[0;36m█████▌    \u001b[0;36m| 1201/2155 [00:32<00:25, 37.64it/s]"
     ]
    },
    {
     "name": "stderr",
     "output_type": "stream",
     "text": [
      "\r",
      "\u001b[1;34m￨ stanza 86, line 13: but WHEN your COUN te.nance FILL'D up.his LINE         :  56%|\u001b[0;36m█████▌    \u001b[0;36m| 1201/2155 [00:32<00:25, 37.64it/s]"
     ]
    },
    {
     "name": "stderr",
     "output_type": "stream",
     "text": [
      "\r",
      "\u001b[1;34m￨ stanza 86, line 14: then LACK'D i MAT ter THAT en FEE bled MINE            :  56%|\u001b[0;36m█████▌    \u001b[0;36m| 1201/2155 [00:32<00:25, 37.64it/s]"
     ]
    },
    {
     "name": "stderr",
     "output_type": "stream",
     "text": [
      "\r",
      "\u001b[1;34m￨ stanza 87, line 01: FA rewell THOU art TOO.DEAR for MY pos SES sing        :  56%|\u001b[0;36m█████▌    \u001b[0;36m| 1201/2155 [00:32<00:25, 37.64it/s]"
     ]
    },
    {
     "name": "stderr",
     "output_type": "stream",
     "text": [
      "\r",
      "\u001b[1;34m￨ stanza 87, line 02: and LIKE e NOUGH thou KNOW'ST thy ES ti MATE           :  56%|\u001b[0;36m█████▌    \u001b[0;36m| 1201/2155 [00:32<00:25, 37.64it/s]"
     ]
    },
    {
     "name": "stderr",
     "output_type": "stream",
     "text": [
      "\r",
      "\u001b[1;34m￨ stanza 87, line 03: the CHAR ter OF thy WORTH gives THEE re LEA sing       :  56%|\u001b[0;36m█████▌    \u001b[0;36m| 1201/2155 [00:32<00:25, 37.64it/s]"
     ]
    },
    {
     "name": "stderr",
     "output_type": "stream",
     "text": [
      "\r",
      "\u001b[1;34m￨ stanza 87, line 04: my BONDS in THEE are ALL de TER mi NATE                :  56%|\u001b[0;36m█████▌    \u001b[0;36m| 1201/2155 [00:32<00:25, 37.64it/s]"
     ]
    },
    {
     "name": "stderr",
     "output_type": "stream",
     "text": [
      "\r",
      "\u001b[1;34m￨ stanza 87, line 05: for.how DO i HOLD thee BUT by.thy GRAN ting            :  56%|\u001b[0;36m█████▌    \u001b[0;36m| 1201/2155 [00:32<00:25, 37.64it/s]"
     ]
    },
    {
     "name": "stderr",
     "output_type": "stream",
     "text": [
      "\r",
      "\u001b[1;34m￨ stanza 87, line 06: and FOR that RIC hes WHERE is MY de SER ving           :  56%|\u001b[0;36m█████▌    \u001b[0;36m| 1201/2155 [00:32<00:25, 37.64it/s]"
     ]
    },
    {
     "name": "stderr",
     "output_type": "stream",
     "text": [
      "\r",
      "\u001b[1;34m￨ stanza 87, line 06: and FOR that RIC hes WHERE is MY de SER ving           :  56%|\u001b[0;36m█████▌    \u001b[0;36m| 1210/2155 [00:32<00:23, 39.83it/s]"
     ]
    },
    {
     "name": "stderr",
     "output_type": "stream",
     "text": [
      "\r",
      "\u001b[1;34m￨ stanza 87, line 07: the CAUSE of.this FAIR gift IN me.is WAN ting          :  56%|\u001b[0;36m█████▌    \u001b[0;36m| 1210/2155 [00:32<00:23, 39.83it/s]"
     ]
    },
    {
     "name": "stderr",
     "output_type": "stream",
     "text": [
      "\r",
      "\u001b[1;34m￨ stanza 87, line 08: and SO my PA tent BACK a GAIN is SWER ving             :  56%|\u001b[0;36m█████▌    \u001b[0;36m| 1210/2155 [00:32<00:23, 39.83it/s]"
     ]
    },
    {
     "name": "stderr",
     "output_type": "stream",
     "text": [
      "\r",
      "\u001b[1;34m￨ stanza 87, line 09: thy SELF thou GA vest THY own WORTH then.not KNO wing  :  56%|\u001b[0;36m█████▌    \u001b[0;36m| 1210/2155 [00:33<00:23, 39.83it/s]"
     ]
    },
    {
     "name": "stderr",
     "output_type": "stream",
     "text": [
      "\r",
      "\u001b[1;34m￨ stanza 87, line 10: or ME to WHOM thou GA vest.it ELSE mis TA king         :  56%|\u001b[0;36m█████▌    \u001b[0;36m| 1210/2155 [00:33<00:23, 39.83it/s]"
     ]
    },
    {
     "name": "stderr",
     "output_type": "stream",
     "text": [
      "\r",
      "\u001b[1;34m￨ stanza 87, line 11: so THY great GIFT u PON mis PRI sion GRO wing          :  56%|\u001b[0;36m█████▌    \u001b[0;36m| 1210/2155 [00:33<00:23, 39.83it/s]"
     ]
    },
    {
     "name": "stderr",
     "output_type": "stream",
     "text": [
      "\r",
      "\u001b[1;34m￨ stanza 87, line 12: comes HOME a GAIN on BET ter JUD gment MA king         :  56%|\u001b[0;36m█████▌    \u001b[0;36m| 1210/2155 [00:33<00:23, 39.83it/s]"
     ]
    },
    {
     "name": "stderr",
     "output_type": "stream",
     "text": [
      "\r",
      "\u001b[1;34m￨ stanza 87, line 13: THUS have I had THEE as.a DREAM doth FLAT ter          :  56%|\u001b[0;36m█████▌    \u001b[0;36m| 1210/2155 [00:33<00:23, 39.83it/s]"
     ]
    },
    {
     "name": "stderr",
     "output_type": "stream",
     "text": [
      "\r",
      "\u001b[1;34m￨ stanza 87, line 14: in SLEEP a KING but WA king NO such MAT ter            :  56%|\u001b[0;36m█████▌    \u001b[0;36m| 1210/2155 [00:33<00:23, 39.83it/s]"
     ]
    },
    {
     "name": "stderr",
     "output_type": "stream",
     "text": [
      "\r",
      "\u001b[1;34m￨ stanza 87, line 14: in SLEEP a KING but WA king NO such MAT ter            :  57%|\u001b[0;36m█████▋    \u001b[0;36m| 1218/2155 [00:33<00:31, 29.81it/s]"
     ]
    },
    {
     "name": "stderr",
     "output_type": "stream",
     "text": [
      "\r",
      "\u001b[1;34m￨ stanza 88, line 01: when.thou SHALT be DIS.POSED to SET me LIGHT           :  57%|\u001b[0;36m█████▋    \u001b[0;36m| 1218/2155 [00:33<00:31, 29.81it/s]"
     ]
    },
    {
     "name": "stderr",
     "output_type": "stream",
     "text": [
      "\r",
      "\u001b[1;34m￨ stanza 88, line 02: and PLACE my ME rit IN the EYE of SCORN                :  57%|\u001b[0;36m█████▋    \u001b[0;36m| 1218/2155 [00:33<00:31, 29.81it/s]"
     ]
    },
    {
     "name": "stderr",
     "output_type": "stream",
     "text": [
      "\r",
      "\u001b[1;34m￨ stanza 88, line 03: u PON thy SIDE a GAINST my SELF i'll FIGHT             :  57%|\u001b[0;36m█████▋    \u001b[0;36m| 1218/2155 [00:33<00:31, 29.81it/s]"
     ]
    },
    {
     "name": "stderr",
     "output_type": "stream",
     "text": [
      "\r",
      "\u001b[1;34m￨ stanza 88, line 04: and PROVE thee VIR tuo US though THOU art FOR sworn    :  57%|\u001b[0;36m█████▋    \u001b[0;36m| 1218/2155 [00:33<00:31, 29.81it/s]"
     ]
    },
    {
     "name": "stderr",
     "output_type": "stream",
     "text": [
      "\r",
      "\u001b[1;34m￨ stanza 88, line 05: with MINE own WEA kness BE ing BEST ac QUA inted       :  57%|\u001b[0;36m█████▋    \u001b[0;36m| 1218/2155 [00:33<00:31, 29.81it/s]"
     ]
    },
    {
     "name": "stderr",
     "output_type": "stream",
     "text": [
      "\r",
      "\u001b[1;34m￨ stanza 88, line 06: u PON thy PART i.can SET down.a STO ry                 :  57%|\u001b[0;36m█████▋    \u001b[0;36m| 1218/2155 [00:33<00:31, 29.81it/s]"
     ]
    },
    {
     "name": "stderr",
     "output_type": "stream",
     "text": [
      "\r",
      "\u001b[1;34m￨ stanza 88, line 07: of FAULTS con CEAL'D whe REIN i AM at TAIN ted         :  57%|\u001b[0;36m█████▋    \u001b[0;36m| 1218/2155 [00:33<00:31, 29.81it/s]"
     ]
    },
    {
     "name": "stderr",
     "output_type": "stream",
     "text": [
      "\r",
      "\u001b[1;34m￨ stanza 88, line 08: that THOU in LO sing ME shalt WIN much GLO ry          :  57%|\u001b[0;36m█████▋    \u001b[0;36m| 1218/2155 [00:33<00:31, 29.81it/s]"
     ]
    },
    {
     "name": "stderr",
     "output_type": "stream",
     "text": [
      "\r",
      "\u001b[1;34m￨ stanza 88, line 08: that THOU in LO sing ME shalt WIN much GLO ry          :  57%|\u001b[0;36m█████▋    \u001b[0;36m| 1226/2155 [00:33<00:26, 34.87it/s]"
     ]
    },
    {
     "name": "stderr",
     "output_type": "stream",
     "text": [
      "\r",
      "\u001b[1;34m￨ stanza 88, line 09: and I by THIS will BE a GAI ner TOO                    :  57%|\u001b[0;36m█████▋    \u001b[0;36m| 1226/2155 [00:33<00:26, 34.87it/s]"
     ]
    },
    {
     "name": "stderr",
     "output_type": "stream",
     "text": [
      "\r",
      "\u001b[1;34m￨ stanza 88, line 10: for BEN ding ALL my LO ving THOUGHTS on THEE           :  57%|\u001b[0;36m█████▋    \u001b[0;36m| 1226/2155 [00:33<00:26, 34.87it/s]"
     ]
    },
    {
     "name": "stderr",
     "output_type": "stream",
     "text": [
      "\r",
      "\u001b[1;34m￨ stanza 88, line 11: the IN ju RIES that.to MY self I do                    :  57%|\u001b[0;36m█████▋    \u001b[0;36m| 1226/2155 [00:33<00:26, 34.87it/s]"
     ]
    },
    {
     "name": "stderr",
     "output_type": "stream",
     "text": [
      "\r",
      "\u001b[1;34m￨ stanza 88, line 12: DO.ING thee VAN tage DOU ble VAN tage ME               :  57%|\u001b[0;36m█████▋    \u001b[0;36m| 1226/2155 [00:33<00:26, 34.87it/s]"
     ]
    },
    {
     "name": "stderr",
     "output_type": "stream",
     "text": [
      "\r",
      "\u001b[1;34m￨ stanza 88, line 13: such IS my LOVE to THEE i SO be LONG                   :  57%|\u001b[0;36m█████▋    \u001b[0;36m| 1226/2155 [00:33<00:26, 34.87it/s]"
     ]
    },
    {
     "name": "stderr",
     "output_type": "stream",
     "text": [
      "\r",
      "\u001b[1;34m￨ stanza 88, line 14: THAT for.thy RIGHT my SELF will BEAR all WRONG         :  57%|\u001b[0;36m█████▋    \u001b[0;36m| 1226/2155 [00:33<00:26, 34.87it/s]"
     ]
    },
    {
     "name": "stderr",
     "output_type": "stream",
     "text": [
      "\r",
      "\u001b[1;34m￨ stanza 89, line 01: SAY that.thou DIDST for SAKE me FOR some FAULT         :  57%|\u001b[0;36m█████▋    \u001b[0;36m| 1226/2155 [00:33<00:26, 34.87it/s]"
     ]
    },
    {
     "name": "stderr",
     "output_type": "stream",
     "text": [
      "\r",
      "\u001b[1;34m￨ stanza 89, line 02: and I will COM ment U pon THAT of FENCE                :  57%|\u001b[0;36m█████▋    \u001b[0;36m| 1226/2155 [00:33<00:26, 34.87it/s]"
     ]
    },
    {
     "name": "stderr",
     "output_type": "stream",
     "text": [
      "\r",
      "\u001b[1;34m￨ stanza 89, line 03: SPEAK of.my LA meness AND i STRAIGHT will HALT         :  57%|\u001b[0;36m█████▋    \u001b[0;36m| 1226/2155 [00:33<00:26, 34.87it/s]"
     ]
    },
    {
     "name": "stderr",
     "output_type": "stream",
     "text": [
      "\r",
      "\u001b[1;34m￨ stanza 89, line 04: a GAINST thy REA sons MA king NO de FENCE              :  57%|\u001b[0;36m█████▋    \u001b[0;36m| 1226/2155 [00:33<00:26, 34.87it/s]"
     ]
    },
    {
     "name": "stderr",
     "output_type": "stream",
     "text": [
      "\r",
      "\u001b[1;34m￨ stanza 89, line 05: thou CANST not LOVE dis GRACE me HALF so ILL           :  57%|\u001b[0;36m█████▋    \u001b[0;36m| 1226/2155 [00:33<00:26, 34.87it/s]"
     ]
    },
    {
     "name": "stderr",
     "output_type": "stream",
     "text": [
      "\r",
      "\u001b[1;34m￨ stanza 89, line 06: to SET a FORM u PON de SI red CHANGE                   :  57%|\u001b[0;36m█████▋    \u001b[0;36m| 1226/2155 [00:33<00:26, 34.87it/s]"
     ]
    },
    {
     "name": "stderr",
     "output_type": "stream",
     "text": [
      "\r",
      "\u001b[1;34m￨ stanza 89, line 07: as.i'll MY.SELF dis GRACE.KNO wing THY will            :  57%|\u001b[0;36m█████▋    \u001b[0;36m| 1226/2155 [00:33<00:26, 34.87it/s]"
     ]
    },
    {
     "name": "stderr",
     "output_type": "stream",
     "text": [
      "\r",
      "\u001b[1;34m￨ stanza 89, line 08: i WILL ac QUA intance STRAN gle AND look STRANGE       :  57%|\u001b[0;36m█████▋    \u001b[0;36m| 1226/2155 [00:33<00:26, 34.87it/s]"
     ]
    },
    {
     "name": "stderr",
     "output_type": "stream",
     "text": [
      "\r",
      "\u001b[1;34m￨ stanza 89, line 09: be A bsent FROM thy WALKS and IN my TONGUE             :  57%|\u001b[0;36m█████▋    \u001b[0;36m| 1226/2155 [00:33<00:26, 34.87it/s]"
     ]
    },
    {
     "name": "stderr",
     "output_type": "stream",
     "text": [
      "\r",
      "\u001b[1;34m￨ stanza 89, line 10: thy SWEET be LO ved NAME no MORE shall DWELL           :  57%|\u001b[0;36m█████▋    \u001b[0;36m| 1226/2155 [00:33<00:26, 34.87it/s]"
     ]
    },
    {
     "name": "stderr",
     "output_type": "stream",
     "text": [
      "\r",
      "\u001b[1;34m￨ stanza 89, line 10: thy SWEET be LO ved NAME no MORE shall DWELL           :  58%|\u001b[0;36m█████▊    \u001b[0;36m| 1242/2155 [00:33<00:21, 41.59it/s]"
     ]
    },
    {
     "name": "stderr",
     "output_type": "stream",
     "text": [
      "\r",
      "\u001b[1;34m￨ stanza 89, line 11: lest I too MUCH pro FANE should DO it WRONG            :  58%|\u001b[0;36m█████▊    \u001b[0;36m| 1242/2155 [00:33<00:21, 41.59it/s]"
     ]
    },
    {
     "name": "stderr",
     "output_type": "stream",
     "text": [
      "\r",
      "\u001b[1;34m￨ stanza 89, line 12: and HA ply OF our OLD ac QUA intance TELL              :  58%|\u001b[0;36m█████▊    \u001b[0;36m| 1242/2155 [00:33<00:21, 41.59it/s]"
     ]
    },
    {
     "name": "stderr",
     "output_type": "stream",
     "text": [
      "\r",
      "\u001b[1;34m￨ stanza 89, line 13: for THEE a GAINST my SELF i'll VOW de BATE             :  58%|\u001b[0;36m█████▊    \u001b[0;36m| 1242/2155 [00:33<00:21, 41.59it/s]"
     ]
    },
    {
     "name": "stderr",
     "output_type": "stream",
     "text": [
      "\r",
      "\u001b[1;34m￨ stanza 89, line 14: for I must NE'ER love HIM whom THOU dost HATE          :  58%|\u001b[0;36m█████▊    \u001b[0;36m| 1242/2155 [00:33<00:21, 41.59it/s]"
     ]
    },
    {
     "name": "stderr",
     "output_type": "stream",
     "text": [
      "\r",
      "\u001b[1;34m￨ stanza 90, line 01: then HATE me WHEN thou WILT if E ver NOW               :  58%|\u001b[0;36m█████▊    \u001b[0;36m| 1242/2155 [00:33<00:21, 41.59it/s]"
     ]
    },
    {
     "name": "stderr",
     "output_type": "stream",
     "text": [
      "\r",
      "\u001b[1;34m￨ stanza 90, line 02: NOW while.the WORLD is BENT my DEEDS to CROSS          :  58%|\u001b[0;36m█████▊    \u001b[0;36m| 1242/2155 [00:33<00:21, 41.59it/s]"
     ]
    },
    {
     "name": "stderr",
     "output_type": "stream",
     "text": [
      "\r",
      "\u001b[1;34m￨ stanza 90, line 03: JOIN with.the SPITE of FOR tune MAKE me BOW            :  58%|\u001b[0;36m█████▊    \u001b[0;36m| 1242/2155 [00:33<00:21, 41.59it/s]"
     ]
    },
    {
     "name": "stderr",
     "output_type": "stream",
     "text": [
      "\r",
      "\u001b[1;34m￨ stanza 90, line 03: JOIN with.the SPITE of FOR tune MAKE me BOW            :  58%|\u001b[0;36m█████▊    \u001b[0;36m| 1249/2155 [00:33<00:25, 36.13it/s]"
     ]
    },
    {
     "name": "stderr",
     "output_type": "stream",
     "text": [
      "\r",
      "\u001b[1;34m￨ stanza 90, line 04: and DO not DROP in FOR an AF ter LOSS                  :  58%|\u001b[0;36m█████▊    \u001b[0;36m| 1249/2155 [00:33<00:25, 36.13it/s]"
     ]
    },
    {
     "name": "stderr",
     "output_type": "stream",
     "text": [
      "\r",
      "\u001b[1;34m￨ stanza 90, line 05: ah DO not WHEN my HEART hath 'SCOPED this SOR row      :  58%|\u001b[0;36m█████▊    \u001b[0;36m| 1249/2155 [00:33<00:25, 36.13it/s]"
     ]
    },
    {
     "name": "stderr",
     "output_type": "stream",
     "text": [
      "\r",
      "\u001b[1;34m￨ stanza 90, line 06: COME in.the REAR wa RD of.a CON quer'd WOE             :  58%|\u001b[0;36m█████▊    \u001b[0;36m| 1249/2155 [00:33<00:25, 36.13it/s]"
     ]
    },
    {
     "name": "stderr",
     "output_type": "stream",
     "text": [
      "\r",
      "\u001b[1;34m￨ stanza 90, line 07: GIVE not.a WIN dy NIGHT a RAI ny MOR row               :  58%|\u001b[0;36m█████▊    \u001b[0;36m| 1249/2155 [00:34<00:25, 36.13it/s]"
     ]
    },
    {
     "name": "stderr",
     "output_type": "stream",
     "text": [
      "\r",
      "\u001b[1;34m￨ stanza 90, line 08: to LIN ger OUT a PUR posed O vert HROW                 :  58%|\u001b[0;36m█████▊    \u001b[0;36m| 1249/2155 [00:34<00:25, 36.13it/s]"
     ]
    },
    {
     "name": "stderr",
     "output_type": "stream",
     "text": [
      "\r",
      "\u001b[1;34m￨ stanza 90, line 09: if THOU wilt LEAVE me DO not LEAVE me LAST             :  58%|\u001b[0;36m█████▊    \u001b[0;36m| 1249/2155 [00:34<00:25, 36.13it/s]"
     ]
    },
    {
     "name": "stderr",
     "output_type": "stream",
     "text": [
      "\r",
      "\u001b[1;34m￨ stanza 90, line 09: if THOU wilt LEAVE me DO not LEAVE me LAST             :  58%|\u001b[0;36m█████▊    \u001b[0;36m| 1255/2155 [00:34<00:24, 36.95it/s]"
     ]
    },
    {
     "name": "stderr",
     "output_type": "stream",
     "text": [
      "\r",
      "\u001b[1;34m￨ stanza 90, line 10: when OT her PET ty GRIEFS have DONE their SPITE        :  58%|\u001b[0;36m█████▊    \u001b[0;36m| 1255/2155 [00:34<00:24, 36.95it/s]"
     ]
    },
    {
     "name": "stderr",
     "output_type": "stream",
     "text": [
      "\r",
      "\u001b[1;34m￨ stanza 90, line 11: but IN the ON set COME so SHALL i TASTE                :  58%|\u001b[0;36m█████▊    \u001b[0;36m| 1255/2155 [00:34<00:24, 36.95it/s]"
     ]
    },
    {
     "name": "stderr",
     "output_type": "stream",
     "text": [
      "\r",
      "\u001b[1;34m￨ stanza 90, line 12: at FIRST the VE ry WORST of FOR tune's MIGHT           :  58%|\u001b[0;36m█████▊    \u001b[0;36m| 1255/2155 [00:34<00:24, 36.95it/s]"
     ]
    },
    {
     "name": "stderr",
     "output_type": "stream",
     "text": [
      "\r",
      "\u001b[1;34m￨ stanza 90, line 13: and OT her STRAINS of WOE which NOW seem WOE           :  58%|\u001b[0;36m█████▊    \u001b[0;36m| 1255/2155 [00:34<00:24, 36.95it/s]"
     ]
    },
    {
     "name": "stderr",
     "output_type": "stream",
     "text": [
      "\r",
      "\u001b[1;34m￨ stanza 90, line 14: com PARED with LOSS of THEE will.not SEEM so           :  58%|\u001b[0;36m█████▊    \u001b[0;36m| 1255/2155 [00:34<00:24, 36.95it/s]"
     ]
    },
    {
     "name": "stderr",
     "output_type": "stream",
     "text": [
      "\r",
      "\u001b[1;34m￨ stanza 91, line 01: some GLO ry IN their BIRTH some IN their SKILL         :  58%|\u001b[0;36m█████▊    \u001b[0;36m| 1255/2155 [00:34<00:24, 36.95it/s]"
     ]
    },
    {
     "name": "stderr",
     "output_type": "stream",
     "text": [
      "\r",
      "\u001b[1;34m￨ stanza 91, line 01: some GLO ry IN their BIRTH some IN their SKILL         :  59%|\u001b[0;36m█████▊    \u001b[0;36m| 1261/2155 [00:34<00:31, 28.43it/s]"
     ]
    },
    {
     "name": "stderr",
     "output_type": "stream",
     "text": [
      "\r",
      "\u001b[1;34m￨ stanza 91, line 02: some IN their WEALTH some IN their BO dies' FORCE      :  59%|\u001b[0;36m█████▊    \u001b[0;36m| 1261/2155 [00:34<00:31, 28.43it/s]"
     ]
    },
    {
     "name": "stderr",
     "output_type": "stream",
     "text": [
      "\r",
      "\u001b[1;34m￨ stanza 91, line 03: some IN their GAR ments THOUGH new FAN gled ILL        :  59%|\u001b[0;36m█████▊    \u001b[0;36m| 1261/2155 [00:34<00:31, 28.43it/s]"
     ]
    },
    {
     "name": "stderr",
     "output_type": "stream",
     "text": [
      "\r",
      "\u001b[1;34m￨ stanza 91, line 04: some IN their HAWKS and HOUNDS some IN their HORSE     :  59%|\u001b[0;36m█████▊    \u001b[0;36m| 1261/2155 [00:34<00:31, 28.43it/s]"
     ]
    },
    {
     "name": "stderr",
     "output_type": "stream",
     "text": [
      "\r",
      "\u001b[1;34m￨ stanza 91, line 05: and E very HU mour HATH his AD junct PLEA sure         :  59%|\u001b[0;36m█████▊    \u001b[0;36m| 1261/2155 [00:34<00:31, 28.43it/s]"
     ]
    },
    {
     "name": "stderr",
     "output_type": "stream",
     "text": [
      "\r",
      "\u001b[1;34m￨ stanza 91, line 06: whe REIN it FINDS a JOY a BOVE the REST                :  59%|\u001b[0;36m█████▊    \u001b[0;36m| 1261/2155 [00:34<00:31, 28.43it/s]"
     ]
    },
    {
     "name": "stderr",
     "output_type": "stream",
     "text": [
      "\r",
      "\u001b[1;34m￨ stanza 91, line 07: but THESE par TI cu LARS are NOT my MEA sure           :  59%|\u001b[0;36m█████▊    \u001b[0;36m| 1261/2155 [00:34<00:31, 28.43it/s]"
     ]
    },
    {
     "name": "stderr",
     "output_type": "stream",
     "text": [
      "\r",
      "\u001b[1;34m￨ stanza 91, line 08: ALL these.i BET ter IN one GE neral BEST               :  59%|\u001b[0;36m█████▊    \u001b[0;36m| 1261/2155 [00:34<00:31, 28.43it/s]"
     ]
    },
    {
     "name": "stderr",
     "output_type": "stream",
     "text": [
      "\r",
      "\u001b[1;34m￨ stanza 91, line 09: thy LOVE is BET ter THAN high BIRTH to ME              :  59%|\u001b[0;36m█████▊    \u001b[0;36m| 1261/2155 [00:34<00:31, 28.43it/s]"
     ]
    },
    {
     "name": "stderr",
     "output_type": "stream",
     "text": [
      "\r",
      "\u001b[1;34m￨ stanza 91, line 10: RIC her THAN wealth PROU der.than GAR ments' COST      :  59%|\u001b[0;36m█████▊    \u001b[0;36m| 1261/2155 [00:34<00:31, 28.43it/s]"
     ]
    },
    {
     "name": "stderr",
     "output_type": "stream",
     "text": [
      "\r",
      "\u001b[1;34m￨ stanza 91, line 11: of MORE de LIGHT than HAWKS or HOR ses BE              :  59%|\u001b[0;36m█████▊    \u001b[0;36m| 1261/2155 [00:34<00:31, 28.43it/s]"
     ]
    },
    {
     "name": "stderr",
     "output_type": "stream",
     "text": [
      "\r",
      "\u001b[1;34m￨ stanza 91, line 12: and HA ving THEE of ALL men's PRIDE i BOAST            :  59%|\u001b[0;36m█████▊    \u001b[0;36m| 1261/2155 [00:34<00:31, 28.43it/s]"
     ]
    },
    {
     "name": "stderr",
     "output_type": "stream",
     "text": [
      "\r",
      "\u001b[1;34m￨ stanza 91, line 12: and HA ving THEE of ALL men's PRIDE i BOAST            :  59%|\u001b[0;36m█████▉    \u001b[0;36m| 1272/2155 [00:34<00:22, 38.54it/s]"
     ]
    },
    {
     "name": "stderr",
     "output_type": "stream",
     "text": [
      "\r",
      "\u001b[1;34m￨ stanza 91, line 13: WRETC.HED in THIS a LONE that THOU mayst TAKE          :  59%|\u001b[0;36m█████▉    \u001b[0;36m| 1272/2155 [00:34<00:22, 38.54it/s]"
     ]
    },
    {
     "name": "stderr",
     "output_type": "stream",
     "text": [
      "\r",
      "\u001b[1;34m￨ stanza 91, line 14: all THIS a WAY and ME most WRETC hed MAKE              :  59%|\u001b[0;36m█████▉    \u001b[0;36m| 1272/2155 [00:34<00:22, 38.54it/s]"
     ]
    },
    {
     "name": "stderr",
     "output_type": "stream",
     "text": [
      "\r",
      "\u001b[1;34m￨ stanza 92, line 01: but DO thy WORST to STEAL thy SELF a WAY               :  59%|\u001b[0;36m█████▉    \u001b[0;36m| 1272/2155 [00:34<00:22, 38.54it/s]"
     ]
    },
    {
     "name": "stderr",
     "output_type": "stream",
     "text": [
      "\r",
      "\u001b[1;34m￨ stanza 92, line 02: for TERM of LIFE thou ART as SURED mine                :  59%|\u001b[0;36m█████▉    \u001b[0;36m| 1272/2155 [00:34<00:22, 38.54it/s]"
     ]
    },
    {
     "name": "stderr",
     "output_type": "stream",
     "text": [
      "\r",
      "\u001b[1;34m￨ stanza 92, line 03: and LIFE no LON ger THAN thy LOVE will STAY            :  59%|\u001b[0;36m█████▉    \u001b[0;36m| 1272/2155 [00:35<00:22, 38.54it/s]"
     ]
    },
    {
     "name": "stderr",
     "output_type": "stream",
     "text": [
      "\r",
      "\u001b[1;34m￨ stanza 92, line 04: for IT de PENDS u PON that LOVE of.thine               :  59%|\u001b[0;36m█████▉    \u001b[0;36m| 1272/2155 [00:35<00:22, 38.54it/s]"
     ]
    },
    {
     "name": "stderr",
     "output_type": "stream",
     "text": [
      "\r",
      "\u001b[1;34m￨ stanza 92, line 04: for IT de PENDS u PON that LOVE of.thine               :  59%|\u001b[0;36m█████▉    \u001b[0;36m| 1278/2155 [00:35<00:34, 25.15it/s]"
     ]
    },
    {
     "name": "stderr",
     "output_type": "stream",
     "text": [
      "\r",
      "\u001b[1;34m￨ stanza 92, line 05: then NEED i NOT to FEAR the WORST of WRONGS            :  59%|\u001b[0;36m█████▉    \u001b[0;36m| 1278/2155 [00:35<00:34, 25.15it/s]"
     ]
    },
    {
     "name": "stderr",
     "output_type": "stream",
     "text": [
      "\r",
      "\u001b[1;34m￨ stanza 92, line 06: when IN the LEAST of THEM my LIFE hath END             :  59%|\u001b[0;36m█████▉    \u001b[0;36m| 1278/2155 [00:35<00:34, 25.15it/s]"
     ]
    },
    {
     "name": "stderr",
     "output_type": "stream",
     "text": [
      "\r",
      "\u001b[1;34m￨ stanza 92, line 07: i SEE a BET ter STATE to ME be LONGS                   :  59%|\u001b[0;36m█████▉    \u001b[0;36m| 1278/2155 [00:35<00:34, 25.15it/s]"
     ]
    },
    {
     "name": "stderr",
     "output_type": "stream",
     "text": [
      "\r",
      "\u001b[1;34m￨ stanza 92, line 08: than.that WHICH on.thy HU mour DOTH de PEND            :  59%|\u001b[0;36m█████▉    \u001b[0;36m| 1278/2155 [00:35<00:34, 25.15it/s]"
     ]
    },
    {
     "name": "stderr",
     "output_type": "stream",
     "text": [
      "\r",
      "\u001b[1;34m￨ stanza 92, line 09: thou CANST not VEX me WITH in CONS tant MIND           :  59%|\u001b[0;36m█████▉    \u001b[0;36m| 1278/2155 [00:35<00:34, 25.15it/s]"
     ]
    },
    {
     "name": "stderr",
     "output_type": "stream",
     "text": [
      "\r",
      "\u001b[1;34m￨ stanza 92, line 10: since THAT my LIFE on THY re VOLT doth LIE             :  59%|\u001b[0;36m█████▉    \u001b[0;36m| 1278/2155 [00:35<00:34, 25.15it/s]"
     ]
    },
    {
     "name": "stderr",
     "output_type": "stream",
     "text": [
      "\r",
      "\u001b[1;34m￨ stanza 92, line 11: o WHAT a HAP py TI tle DO i FIND                       :  59%|\u001b[0;36m█████▉    \u001b[0;36m| 1278/2155 [00:35<00:34, 25.15it/s]"
     ]
    },
    {
     "name": "stderr",
     "output_type": "stream",
     "text": [
      "\r",
      "\u001b[1;34m￨ stanza 92, line 12: HAP py TO have THY love HAP.PY to DIE                  :  59%|\u001b[0;36m█████▉    \u001b[0;36m| 1278/2155 [00:35<00:34, 25.15it/s]"
     ]
    },
    {
     "name": "stderr",
     "output_type": "stream",
     "text": [
      "\r",
      "\u001b[1;34m￨ stanza 92, line 13: but WHAT'S so BLESSED fair THAT fears NO blot          :  59%|\u001b[0;36m█████▉    \u001b[0;36m| 1278/2155 [00:35<00:34, 25.15it/s]"
     ]
    },
    {
     "name": "stderr",
     "output_type": "stream",
     "text": [
      "\r",
      "\u001b[1;34m￨ stanza 92, line 14: thou MAYST be FALSE and YET i KNOW it NOT              :  59%|\u001b[0;36m█████▉    \u001b[0;36m| 1278/2155 [00:35<00:34, 25.15it/s]"
     ]
    },
    {
     "name": "stderr",
     "output_type": "stream",
     "text": [
      "\r",
      "\u001b[1;34m￨ stanza 93, line 01: so SHALL i LIVE sup PO sing THOU art TRUE              :  59%|\u001b[0;36m█████▉    \u001b[0;36m| 1278/2155 [00:35<00:34, 25.15it/s]"
     ]
    },
    {
     "name": "stderr",
     "output_type": "stream",
     "text": [
      "\r",
      "\u001b[1;34m￨ stanza 93, line 02: like A de CEIVED hus BAND so LOVE'S face               :  59%|\u001b[0;36m█████▉    \u001b[0;36m| 1278/2155 [00:35<00:34, 25.15it/s]"
     ]
    },
    {
     "name": "stderr",
     "output_type": "stream",
     "text": [
      "\r",
      "\u001b[1;34m￨ stanza 93, line 03: may STILL seem LOVE to ME though AL ter'd NEW          :  59%|\u001b[0;36m█████▉    \u001b[0;36m| 1278/2155 [00:35<00:34, 25.15it/s]"
     ]
    },
    {
     "name": "stderr",
     "output_type": "stream",
     "text": [
      "\r",
      "\u001b[1;34m￨ stanza 93, line 04: thy LOOKS with ME thy HEART in OT her PLACE            :  59%|\u001b[0;36m█████▉    \u001b[0;36m| 1278/2155 [00:35<00:34, 25.15it/s]"
     ]
    },
    {
     "name": "stderr",
     "output_type": "stream",
     "text": [
      "\r",
      "\u001b[1;34m￨ stanza 93, line 05: for THERE can LIVE no HA tred IN thine EYE             :  59%|\u001b[0;36m█████▉    \u001b[0;36m| 1278/2155 [00:35<00:34, 25.15it/s]"
     ]
    },
    {
     "name": "stderr",
     "output_type": "stream",
     "text": [
      "\r",
      "\u001b[1;34m￨ stanza 93, line 05: for THERE can LIVE no HA tred IN thine EYE             :  60%|\u001b[0;36m██████    \u001b[0;36m| 1293/2155 [00:35<00:21, 39.71it/s]"
     ]
    },
    {
     "name": "stderr",
     "output_type": "stream",
     "text": [
      "\r",
      "\u001b[1;34m￨ stanza 93, line 06: the REFORE in THAT i CAN not KNOW thy CHANGE           :  60%|\u001b[0;36m██████    \u001b[0;36m| 1293/2155 [00:35<00:21, 39.71it/s]"
     ]
    },
    {
     "name": "stderr",
     "output_type": "stream",
     "text": [
      "\r",
      "\u001b[1;34m￨ stanza 93, line 07: in MA ny's LOOKS the FALSE heart's HIS tory            :  60%|\u001b[0;36m██████    \u001b[0;36m| 1293/2155 [00:35<00:21, 39.71it/s]"
     ]
    },
    {
     "name": "stderr",
     "output_type": "stream",
     "text": [
      "\r",
      "\u001b[1;34m￨ stanza 93, line 08: is WRIT in MOODS and FROWNS and WRIN kles STRANGE      :  60%|\u001b[0;36m██████    \u001b[0;36m| 1293/2155 [00:35<00:21, 39.71it/s]"
     ]
    },
    {
     "name": "stderr",
     "output_type": "stream",
     "text": [
      "\r",
      "\u001b[1;34m￨ stanza 93, line 09: but HEAVEN in THY crea TI on DID de CREE               :  60%|\u001b[0;36m██████    \u001b[0;36m| 1293/2155 [00:35<00:21, 39.71it/s]"
     ]
    },
    {
     "name": "stderr",
     "output_type": "stream",
     "text": [
      "\r",
      "\u001b[1;34m￨ stanza 93, line 10: that IN thy FACE sweet LOVE should E ver DWELL         :  60%|\u001b[0;36m██████    \u001b[0;36m| 1293/2155 [00:35<00:21, 39.71it/s]"
     ]
    },
    {
     "name": "stderr",
     "output_type": "stream",
     "text": [
      "\r",
      "\u001b[1;34m￨ stanza 93, line 11: WHA te'er.thy THOUGHTS or THY heart's WOR kings BE     :  60%|\u001b[0;36m██████    \u001b[0;36m| 1293/2155 [00:35<00:21, 39.71it/s]"
     ]
    },
    {
     "name": "stderr",
     "output_type": "stream",
     "text": [
      "\r",
      "\u001b[1;34m￨ stanza 93, line 12: thy LOOKS should NOT hing THENCE but SWEE tness TELL   :  60%|\u001b[0;36m██████    \u001b[0;36m| 1293/2155 [00:35<00:21, 39.71it/s]"
     ]
    },
    {
     "name": "stderr",
     "output_type": "stream",
     "text": [
      "\r",
      "\u001b[1;34m￨ stanza 93, line 13: how LIKE eve's AP ple DOTH thy BEA uty GROW            :  60%|\u001b[0;36m██████    \u001b[0;36m| 1293/2155 [00:35<00:21, 39.71it/s]"
     ]
    },
    {
     "name": "stderr",
     "output_type": "stream",
     "text": [
      "\r",
      "\u001b[1;34m￨ stanza 93, line 14: if THY sweet VIR tue AN swer NOT thy SHOW              :  60%|\u001b[0;36m██████    \u001b[0;36m| 1293/2155 [00:35<00:21, 39.71it/s]"
     ]
    },
    {
     "name": "stderr",
     "output_type": "stream",
     "text": [
      "\r",
      "\u001b[1;34m￨ stanza 93, line 14: if THY sweet VIR tue AN swer NOT thy SHOW              :  60%|\u001b[0;36m██████    \u001b[0;36m| 1302/2155 [00:35<00:28, 29.96it/s]"
     ]
    },
    {
     "name": "stderr",
     "output_type": "stream",
     "text": [
      "\r",
      "\u001b[1;34m￨ stanza 94, line 01: they THAT have PO wer TO hurt AND will.do NONE         :  60%|\u001b[0;36m██████    \u001b[0;36m| 1302/2155 [00:35<00:28, 29.96it/s]"
     ]
    },
    {
     "name": "stderr",
     "output_type": "stream",
     "text": [
      "\r",
      "\u001b[1;34m￨ stanza 94, line 02: that DO not DO the THING they MOST do SHOW             :  60%|\u001b[0;36m██████    \u001b[0;36m| 1302/2155 [00:36<00:28, 29.96it/s]"
     ]
    },
    {
     "name": "stderr",
     "output_type": "stream",
     "text": [
      "\r",
      "\u001b[1;34m￨ stanza 94, line 03: who MO ving OT hers ARE them SELVES as STONE           :  60%|\u001b[0;36m██████    \u001b[0;36m| 1302/2155 [00:36<00:28, 29.96it/s]"
     ]
    },
    {
     "name": "stderr",
     "output_type": "stream",
     "text": [
      "\r",
      "\u001b[1;34m￨ stanza 94, line 04: un MOVED.COLD and TO temp TA tion SLOW                 :  60%|\u001b[0;36m██████    \u001b[0;36m| 1302/2155 [00:36<00:28, 29.96it/s]"
     ]
    },
    {
     "name": "stderr",
     "output_type": "stream",
     "text": [
      "\r",
      "\u001b[1;34m￨ stanza 94, line 05: they RIGH tly DO in HE rit HEA ven's GRA ces           :  60%|\u001b[0;36m██████    \u001b[0;36m| 1302/2155 [00:36<00:28, 29.96it/s]"
     ]
    },
    {
     "name": "stderr",
     "output_type": "stream",
     "text": [
      "\r",
      "\u001b[1;34m￨ stanza 94, line 06: and HUS band NA ture's RIC hes FROM ex PENSE           :  60%|\u001b[0;36m██████    \u001b[0;36m| 1302/2155 [00:36<00:28, 29.96it/s]"
     ]
    },
    {
     "name": "stderr",
     "output_type": "stream",
     "text": [
      "\r",
      "\u001b[1;34m￨ stanza 94, line 06: and HUS band NA ture's RIC hes FROM ex PENSE           :  61%|\u001b[0;36m██████    \u001b[0;36m| 1308/2155 [00:36<00:45, 18.52it/s]"
     ]
    },
    {
     "name": "stderr",
     "output_type": "stream",
     "text": [
      "\r",
      "\u001b[1;34m￨ stanza 94, line 07: THEY are.the LORDS and OW ners OF their FA ces         :  61%|\u001b[0;36m██████    \u001b[0;36m| 1308/2155 [00:36<00:45, 18.52it/s]"
     ]
    },
    {
     "name": "stderr",
     "output_type": "stream",
     "text": [
      "\r",
      "\u001b[1;34m￨ stanza 94, line 08: OT.HERS but STE wards OF their EX cel LENCE            :  61%|\u001b[0;36m██████    \u001b[0;36m| 1308/2155 [00:36<00:45, 18.52it/s]"
     ]
    },
    {
     "name": "stderr",
     "output_type": "stream",
     "text": [
      "\r",
      "\u001b[1;34m￨ stanza 94, line 09: the SUM mer's FLO wer IS to.the SUM mer SWEET          :  61%|\u001b[0;36m██████    \u001b[0;36m| 1308/2155 [00:36<00:45, 18.52it/s]"
     ]
    },
    {
     "name": "stderr",
     "output_type": "stream",
     "text": [
      "\r",
      "\u001b[1;34m￨ stanza 94, line 10: though TO i TSELF it ON ly LIVE and DIE                :  61%|\u001b[0;36m██████    \u001b[0;36m| 1308/2155 [00:36<00:45, 18.52it/s]"
     ]
    },
    {
     "name": "stderr",
     "output_type": "stream",
     "text": [
      "\r",
      "\u001b[1;34m￨ stanza 94, line 11: but IF that FLO wer.with BASE in FEC tion MEET         :  61%|\u001b[0;36m██████    \u001b[0;36m| 1308/2155 [00:36<00:45, 18.52it/s]"
     ]
    },
    {
     "name": "stderr",
     "output_type": "stream",
     "text": [
      "\r",
      "\u001b[1;34m￨ stanza 94, line 12: the BA sest WEED out BRAVES his DI gni TY              :  61%|\u001b[0;36m██████    \u001b[0;36m| 1308/2155 [00:36<00:45, 18.52it/s]"
     ]
    },
    {
     "name": "stderr",
     "output_type": "stream",
     "text": [
      "\r",
      "\u001b[1;34m￨ stanza 94, line 13: for SWEE test THINGS turn SOU rest BY their DEEDS      :  61%|\u001b[0;36m██████    \u001b[0;36m| 1308/2155 [00:36<00:45, 18.52it/s]"
     ]
    },
    {
     "name": "stderr",
     "output_type": "stream",
     "text": [
      "\r",
      "\u001b[1;34m￨ stanza 94, line 14: LI.LIES that FES ter SMELL far WORSE than WEEDS        :  61%|\u001b[0;36m██████    \u001b[0;36m| 1308/2155 [00:36<00:45, 18.52it/s]"
     ]
    },
    {
     "name": "stderr",
     "output_type": "stream",
     "text": [
      "\r",
      "\u001b[1;34m￨ stanza 95, line 01: how SWEET and LO vely DOST thou MAKE the SHAME         :  61%|\u001b[0;36m██████    \u001b[0;36m| 1308/2155 [00:36<00:45, 18.52it/s]"
     ]
    },
    {
     "name": "stderr",
     "output_type": "stream",
     "text": [
      "\r",
      "\u001b[1;34m￨ stanza 95, line 02: which LIKE a CAN ker IN the FRA grant ROSE             :  61%|\u001b[0;36m██████    \u001b[0;36m| 1308/2155 [00:36<00:45, 18.52it/s]"
     ]
    },
    {
     "name": "stderr",
     "output_type": "stream",
     "text": [
      "\r",
      "\u001b[1;34m￨ stanza 95, line 03: doth SPOT the BEA uty OF thy BUD ding NAME             :  61%|\u001b[0;36m██████    \u001b[0;36m| 1308/2155 [00:36<00:45, 18.52it/s]"
     ]
    },
    {
     "name": "stderr",
     "output_type": "stream",
     "text": [
      "\r",
      "\u001b[1;34m￨ stanza 95, line 04: o IN what SWEETS dost THOU thy SINS en CLOSE           :  61%|\u001b[0;36m██████    \u001b[0;36m| 1308/2155 [00:36<00:45, 18.52it/s]"
     ]
    },
    {
     "name": "stderr",
     "output_type": "stream",
     "text": [
      "\r",
      "\u001b[1;34m￨ stanza 95, line 05: that TONGUE that TELLS the STO ry OF thy DAYS          :  61%|\u001b[0;36m██████    \u001b[0;36m| 1308/2155 [00:36<00:45, 18.52it/s]"
     ]
    },
    {
     "name": "stderr",
     "output_type": "stream",
     "text": [
      "\r",
      "\u001b[1;34m￨ stanza 95, line 06: MA king LAS.CI vio.us COM ments ON thy SPORT           :  61%|\u001b[0;36m██████    \u001b[0;36m| 1308/2155 [00:36<00:45, 18.52it/s]"
     ]
    },
    {
     "name": "stderr",
     "output_type": "stream",
     "text": [
      "\r",
      "\u001b[1;34m￨ stanza 95, line 07: can NOT dis PRAISE but IN a KIND of PRAISE             :  61%|\u001b[0;36m██████    \u001b[0;36m| 1308/2155 [00:36<00:45, 18.52it/s]"
     ]
    },
    {
     "name": "stderr",
     "output_type": "stream",
     "text": [
      "\r",
      "\u001b[1;34m￨ stanza 95, line 08: NA ming THY name BLES.SES an ILL re PORT               :  61%|\u001b[0;36m██████    \u001b[0;36m| 1308/2155 [00:36<00:45, 18.52it/s]"
     ]
    },
    {
     "name": "stderr",
     "output_type": "stream",
     "text": [
      "\r",
      "\u001b[1;34m￨ stanza 95, line 09: o WHAT a MAN sion HAVE those VI ces GOT                :  61%|\u001b[0;36m██████    \u001b[0;36m| 1308/2155 [00:36<00:45, 18.52it/s]"
     ]
    },
    {
     "name": "stderr",
     "output_type": "stream",
     "text": [
      "\r",
      "\u001b[1;34m￨ stanza 95, line 10: WHICH for.their HA bi TA tion CHOSE out THEE           :  61%|\u001b[0;36m██████    \u001b[0;36m| 1308/2155 [00:36<00:45, 18.52it/s]"
     ]
    },
    {
     "name": "stderr",
     "output_type": "stream",
     "text": [
      "\r",
      "\u001b[1;34m￨ stanza 95, line 11: where BEA uty's VEIL doth CO ver E very BLOT           :  61%|\u001b[0;36m██████    \u001b[0;36m| 1308/2155 [00:36<00:45, 18.52it/s]"
     ]
    },
    {
     "name": "stderr",
     "output_type": "stream",
     "text": [
      "\r",
      "\u001b[1;34m￨ stanza 95, line 12: and ALL things TURN to FAIR that EYES can SEE          :  61%|\u001b[0;36m██████    \u001b[0;36m| 1308/2155 [00:36<00:45, 18.52it/s]"
     ]
    },
    {
     "name": "stderr",
     "output_type": "stream",
     "text": [
      "\r",
      "\u001b[1;34m￨ stanza 95, line 13: take HEED dear HEART of THIS large PRI vilege          :  61%|\u001b[0;36m██████    \u001b[0;36m| 1308/2155 [00:36<00:45, 18.52it/s]"
     ]
    },
    {
     "name": "stderr",
     "output_type": "stream",
     "text": [
      "\r",
      "\u001b[1;34m￨ stanza 95, line 14: the HAR dest KNIFE ill USED doth LOSE his EDGE         :  61%|\u001b[0;36m██████    \u001b[0;36m| 1308/2155 [00:36<00:45, 18.52it/s]"
     ]
    },
    {
     "name": "stderr",
     "output_type": "stream",
     "text": [
      "\r",
      "\u001b[1;34m￨ stanza 96, line 01: some SAY thy FAULT is YOUTH some WAN ton NESS          :  61%|\u001b[0;36m██████    \u001b[0;36m| 1308/2155 [00:36<00:45, 18.52it/s]"
     ]
    },
    {
     "name": "stderr",
     "output_type": "stream",
     "text": [
      "\r",
      "\u001b[1;34m￨ stanza 96, line 02: some SAY thy GRACE is YOUTH and GEN tle SPORT          :  61%|\u001b[0;36m██████    \u001b[0;36m| 1308/2155 [00:36<00:45, 18.52it/s]"
     ]
    },
    {
     "name": "stderr",
     "output_type": "stream",
     "text": [
      "\r",
      "\u001b[1;34m￨ stanza 96, line 03: both GRACE and FAULTS are LOVED of MORE and LESS       :  61%|\u001b[0;36m██████    \u001b[0;36m| 1308/2155 [00:36<00:45, 18.52it/s]"
     ]
    },
    {
     "name": "stderr",
     "output_type": "stream",
     "text": [
      "\r",
      "\u001b[1;34m￨ stanza 96, line 04: thou MA kest FAULTS.GRA ces THAT to THEE re SORT       :  61%|\u001b[0;36m██████    \u001b[0;36m| 1308/2155 [00:36<00:45, 18.52it/s]"
     ]
    },
    {
     "name": "stderr",
     "output_type": "stream",
     "text": [
      "\r",
      "\u001b[1;34m￨ stanza 96, line 05: as ON the FIN ger OF a THRONED queen                   :  61%|\u001b[0;36m██████    \u001b[0;36m| 1308/2155 [00:36<00:45, 18.52it/s]"
     ]
    },
    {
     "name": "stderr",
     "output_type": "stream",
     "text": [
      "\r",
      "\u001b[1;34m￨ stanza 96, line 06: the BA sest JEWEL will.be WELL es TEEM'D               :  61%|\u001b[0;36m██████    \u001b[0;36m| 1308/2155 [00:36<00:45, 18.52it/s]"
     ]
    },
    {
     "name": "stderr",
     "output_type": "stream",
     "text": [
      "\r",
      "\u001b[1;34m￨ stanza 96, line 07: so ARE those ER rors THAT in THEE are SEEN             :  61%|\u001b[0;36m██████    \u001b[0;36m| 1308/2155 [00:36<00:45, 18.52it/s]"
     ]
    },
    {
     "name": "stderr",
     "output_type": "stream",
     "text": [
      "\r",
      "\u001b[1;34m￨ stanza 96, line 08: to TRUTHS tran SLA ted AND for TRUE things DEEM'D      :  61%|\u001b[0;36m██████    \u001b[0;36m| 1308/2155 [00:36<00:45, 18.52it/s]"
     ]
    },
    {
     "name": "stderr",
     "output_type": "stream",
     "text": [
      "\r",
      "\u001b[1;34m￨ stanza 96, line 09: how MA ny LAMBS might THE stern WOLF be TRAY           :  61%|\u001b[0;36m██████    \u001b[0;36m| 1308/2155 [00:36<00:45, 18.52it/s]"
     ]
    },
    {
     "name": "stderr",
     "output_type": "stream",
     "text": [
      "\r",
      "\u001b[1;34m￨ stanza 96, line 10: if LIKE a LAMB he COULD his LOOKS tran SLATE           :  61%|\u001b[0;36m██████    \u001b[0;36m| 1308/2155 [00:36<00:45, 18.52it/s]"
     ]
    },
    {
     "name": "stderr",
     "output_type": "stream",
     "text": [
      "\r",
      "\u001b[1;34m￨ stanza 96, line 11: how MA ny GA zers MIGHTST thou LEAD a WAY              :  61%|\u001b[0;36m██████    \u001b[0;36m| 1308/2155 [00:36<00:45, 18.52it/s]"
     ]
    },
    {
     "name": "stderr",
     "output_type": "stream",
     "text": [
      "\r",
      "\u001b[1;34m￨ stanza 96, line 12: if THOU wouldst USE the STRENGTH of ALL thy STATE      :  61%|\u001b[0;36m██████    \u001b[0;36m| 1308/2155 [00:36<00:45, 18.52it/s]"
     ]
    },
    {
     "name": "stderr",
     "output_type": "stream",
     "text": [
      "\r",
      "\u001b[1;34m￨ stanza 96, line 13: but.do NOT so.i LOVE thee IN such SORT                 :  61%|\u001b[0;36m██████    \u001b[0;36m| 1308/2155 [00:36<00:45, 18.52it/s]"
     ]
    },
    {
     "name": "stderr",
     "output_type": "stream",
     "text": [
      "\r",
      "\u001b[1;34m￨ stanza 96, line 13: but.do NOT so.i LOVE thee IN such SORT                 :  62%|\u001b[0;36m██████▏   \u001b[0;36m| 1343/2155 [00:36<00:20, 39.99it/s]"
     ]
    },
    {
     "name": "stderr",
     "output_type": "stream",
     "text": [
      "\r",
      "\u001b[1;34m￨ stanza 96, line 14: as.thou BE ing MINE mine IS thy GOOD re PORT           :  62%|\u001b[0;36m██████▏   \u001b[0;36m| 1343/2155 [00:36<00:20, 39.99it/s]"
     ]
    },
    {
     "name": "stderr",
     "output_type": "stream",
     "text": [
      "\r",
      "\u001b[1;34m￨ stanza 97, line 01: how LIKE a WIN ter HATH my A bsence BEEN               :  62%|\u001b[0;36m██████▏   \u001b[0;36m| 1343/2155 [00:36<00:20, 39.99it/s]"
     ]
    },
    {
     "name": "stderr",
     "output_type": "stream",
     "text": [
      "\r",
      "\u001b[1;34m￨ stanza 97, line 02: from THEE the PLEA sure OF the FLEE ting YEAR          :  62%|\u001b[0;36m██████▏   \u001b[0;36m| 1343/2155 [00:36<00:20, 39.99it/s]"
     ]
    },
    {
     "name": "stderr",
     "output_type": "stream",
     "text": [
      "\r",
      "\u001b[1;34m￨ stanza 97, line 03: what FREE zings HAVE i FELT what DARK days SEEN        :  62%|\u001b[0;36m██████▏   \u001b[0;36m| 1343/2155 [00:36<00:20, 39.99it/s]"
     ]
    },
    {
     "name": "stderr",
     "output_type": "stream",
     "text": [
      "\r",
      "\u001b[1;34m￨ stanza 97, line 04: what OLD de CEM ber's BA reness E very WHERE           :  62%|\u001b[0;36m██████▏   \u001b[0;36m| 1343/2155 [00:36<00:20, 39.99it/s]"
     ]
    },
    {
     "name": "stderr",
     "output_type": "stream",
     "text": [
      "\r",
      "\u001b[1;34m￨ stanza 97, line 05: and YET this TIME re MOVED was SUM mer's TIME          :  62%|\u001b[0;36m██████▏   \u001b[0;36m| 1343/2155 [00:36<00:20, 39.99it/s]"
     ]
    },
    {
     "name": "stderr",
     "output_type": "stream",
     "text": [
      "\r",
      "\u001b[1;34m￨ stanza 97, line 06: the TEE ming AU tumn BIG with RICH in CREASE           :  62%|\u001b[0;36m██████▏   \u001b[0;36m| 1343/2155 [00:36<00:20, 39.99it/s]"
     ]
    },
    {
     "name": "stderr",
     "output_type": "stream",
     "text": [
      "\r",
      "\u001b[1;34m￨ stanza 97, line 07: BEA.RING the WAN ton BUR den OF the PRIME              :  62%|\u001b[0;36m██████▏   \u001b[0;36m| 1343/2155 [00:36<00:20, 39.99it/s]"
     ]
    },
    {
     "name": "stderr",
     "output_type": "stream",
     "text": [
      "\r",
      "\u001b[1;34m￨ stanza 97, line 08: like WI dow'd WOMBS af TER their LORDS' de CEASE       :  62%|\u001b[0;36m██████▏   \u001b[0;36m| 1343/2155 [00:36<00:20, 39.99it/s]"
     ]
    },
    {
     "name": "stderr",
     "output_type": "stream",
     "text": [
      "\r",
      "\u001b[1;34m￨ stanza 97, line 09: yet THIS a BUN dant IS sue SEEM'D to ME                :  62%|\u001b[0;36m██████▏   \u001b[0;36m| 1343/2155 [00:36<00:20, 39.99it/s]"
     ]
    },
    {
     "name": "stderr",
     "output_type": "stream",
     "text": [
      "\r",
      "\u001b[1;34m￨ stanza 97, line 10: but HOPE of ORP hans AND un FAT her'd FRUIT            :  62%|\u001b[0;36m██████▏   \u001b[0;36m| 1343/2155 [00:36<00:20, 39.99it/s]"
     ]
    },
    {
     "name": "stderr",
     "output_type": "stream",
     "text": [
      "\r",
      "\u001b[1;34m￨ stanza 97, line 11: for SUM mer AND his PLEA sures WAIT on THEE            :  62%|\u001b[0;36m██████▏   \u001b[0;36m| 1343/2155 [00:36<00:20, 39.99it/s]"
     ]
    },
    {
     "name": "stderr",
     "output_type": "stream",
     "text": [
      "\r",
      "\u001b[1;34m￨ stanza 97, line 12: and THOU a WAY the VE ry BIRDS are MUTE                :  62%|\u001b[0;36m██████▏   \u001b[0;36m| 1343/2155 [00:36<00:20, 39.99it/s]"
     ]
    },
    {
     "name": "stderr",
     "output_type": "stream",
     "text": [
      "\r",
      "\u001b[1;34m￨ stanza 97, line 13: or.if THEY sing 'TIS with.so DULL a CHEER              :  62%|\u001b[0;36m██████▏   \u001b[0;36m| 1343/2155 [00:36<00:20, 39.99it/s]"
     ]
    },
    {
     "name": "stderr",
     "output_type": "stream",
     "text": [
      "\r",
      "\u001b[1;34m￨ stanza 97, line 14: that LEAVES look PALE drea DING the WIN ter's NEAR     :  62%|\u001b[0;36m██████▏   \u001b[0;36m| 1343/2155 [00:37<00:20, 39.99it/s]"
     ]
    },
    {
     "name": "stderr",
     "output_type": "stream",
     "text": [
      "\r",
      "\u001b[1;34m￨ stanza 97, line 14: that LEAVES look PALE drea DING the WIN ter's NEAR     :  63%|\u001b[0;36m██████▎   \u001b[0;36m| 1358/2155 [00:37<00:19, 40.69it/s]"
     ]
    },
    {
     "name": "stderr",
     "output_type": "stream",
     "text": [
      "\r",
      "\u001b[1;34m￨ stanza 98, line 01: from YOU have I been A bsent IN the SPRING             :  63%|\u001b[0;36m██████▎   \u001b[0;36m| 1358/2155 [00:37<00:19, 40.69it/s]"
     ]
    },
    {
     "name": "stderr",
     "output_type": "stream",
     "text": [
      "\r",
      "\u001b[1;34m￨ stanza 98, line 02: when PROUD pied A pril DRESS'D in ALL his TRIM         :  63%|\u001b[0;36m██████▎   \u001b[0;36m| 1358/2155 [00:37<00:19, 40.69it/s]"
     ]
    },
    {
     "name": "stderr",
     "output_type": "stream",
     "text": [
      "\r",
      "\u001b[1;34m￨ stanza 98, line 03: hath PUT a SPI.RIT of YOUTH in E very THING            :  63%|\u001b[0;36m██████▎   \u001b[0;36m| 1358/2155 [00:37<00:19, 40.69it/s]"
     ]
    },
    {
     "name": "stderr",
     "output_type": "stream",
     "text": [
      "\r",
      "\u001b[1;34m￨ stanza 98, line 04: that HEA vy SA turn LAUGH'D and LEAP'D with HIM        :  63%|\u001b[0;36m██████▎   \u001b[0;36m| 1358/2155 [00:37<00:19, 40.69it/s]"
     ]
    },
    {
     "name": "stderr",
     "output_type": "stream",
     "text": [
      "\r",
      "\u001b[1;34m￨ stanza 98, line 05: YET nor.the LAYS of BIRDS nor.the SWEET smell          :  63%|\u001b[0;36m██████▎   \u001b[0;36m| 1358/2155 [00:37<00:19, 40.69it/s]"
     ]
    },
    {
     "name": "stderr",
     "output_type": "stream",
     "text": [
      "\r",
      "\u001b[1;34m￨ stanza 98, line 06: of DIF ferent FLO wers.in O dour AND in HUE            :  63%|\u001b[0;36m██████▎   \u001b[0;36m| 1358/2155 [00:37<00:19, 40.69it/s]"
     ]
    },
    {
     "name": "stderr",
     "output_type": "stream",
     "text": [
      "\r",
      "\u001b[1;34m￨ stanza 98, line 07: could MAKE me A ny SUM mer's STO ry TELL               :  63%|\u001b[0;36m██████▎   \u001b[0;36m| 1358/2155 [00:37<00:19, 40.69it/s]"
     ]
    },
    {
     "name": "stderr",
     "output_type": "stream",
     "text": [
      "\r",
      "\u001b[1;34m￨ stanza 98, line 08: or FROM their PROUD lap PLUCK them WHERE they GREW     :  63%|\u001b[0;36m██████▎   \u001b[0;36m| 1358/2155 [00:37<00:19, 40.69it/s]"
     ]
    },
    {
     "name": "stderr",
     "output_type": "stream",
     "text": [
      "\r",
      "\u001b[1;34m￨ stanza 98, line 09: nor DID i WON der AT the LI ly's WHITE                 :  63%|\u001b[0;36m██████▎   \u001b[0;36m| 1358/2155 [00:37<00:19, 40.69it/s]"
     ]
    },
    {
     "name": "stderr",
     "output_type": "stream",
     "text": [
      "\r",
      "\u001b[1;34m￨ stanza 98, line 10: nor PRAISE the DEEP ver MI lion IN the ROSE            :  63%|\u001b[0;36m██████▎   \u001b[0;36m| 1358/2155 [00:37<00:19, 40.69it/s]"
     ]
    },
    {
     "name": "stderr",
     "output_type": "stream",
     "text": [
      "\r",
      "\u001b[1;34m￨ stanza 98, line 11: THEY were.but SWEET but FI gures OF de LIGHT           :  63%|\u001b[0;36m██████▎   \u001b[0;36m| 1358/2155 [00:37<00:19, 40.69it/s]"
     ]
    },
    {
     "name": "stderr",
     "output_type": "stream",
     "text": [
      "\r",
      "\u001b[1;34m￨ stanza 98, line 11: THEY were.but SWEET but FI gures OF de LIGHT           :  64%|\u001b[0;36m██████▎   \u001b[0;36m| 1369/2155 [00:37<00:18, 41.52it/s]"
     ]
    },
    {
     "name": "stderr",
     "output_type": "stream",
     "text": [
      "\r",
      "\u001b[1;34m￨ stanza 98, line 12: drawn AF ter YOU you PAT tern OF all.those             :  64%|\u001b[0;36m██████▎   \u001b[0;36m| 1369/2155 [00:37<00:18, 41.52it/s]"
     ]
    },
    {
     "name": "stderr",
     "output_type": "stream",
     "text": [
      "\r",
      "\u001b[1;34m￨ stanza 98, line 13: yet SEEM'D it WIN ter STILL and YOU a WAY              :  64%|\u001b[0;36m██████▎   \u001b[0;36m| 1369/2155 [00:37<00:18, 41.52it/s]"
     ]
    },
    {
     "name": "stderr",
     "output_type": "stream",
     "text": [
      "\r",
      "\u001b[1;34m￨ stanza 98, line 14: as WITH your SHA dow I with THESE did PLAY             :  64%|\u001b[0;36m██████▎   \u001b[0;36m| 1369/2155 [00:37<00:18, 41.52it/s]"
     ]
    },
    {
     "name": "stderr",
     "output_type": "stream",
     "text": [
      "\r",
      "\u001b[1;34m￨ stanza 99, line 01: the FOR ward VIO let THUS did.i CHIDE                  :  64%|\u001b[0;36m██████▎   \u001b[0;36m| 1369/2155 [00:37<00:18, 41.52it/s]"
     ]
    },
    {
     "name": "stderr",
     "output_type": "stream",
     "text": [
      "\r",
      "\u001b[1;34m￨ stanza 99, line 02: sweet THIEF whence DIDST thou STEAL thy SWEET that SMEL:  64%|\u001b[0;36m██████▎   \u001b[0;36m| 1369/2155 [00:37<00:18, 41.52it/s]"
     ]
    },
    {
     "name": "stderr",
     "output_type": "stream",
     "text": [
      "\r",
      "\u001b[1;34m￨ stanza 99, line 03: if NOT from MY love's BREATH the PUR ple PRIDE         :  64%|\u001b[0;36m██████▎   \u001b[0;36m| 1369/2155 [00:37<00:18, 41.52it/s]"
     ]
    },
    {
     "name": "stderr",
     "output_type": "stream",
     "text": [
      "\r",
      "\u001b[1;34m￨ stanza 99, line 03: if NOT from MY love's BREATH the PUR ple PRIDE         :  64%|\u001b[0;36m██████▍   \u001b[0;36m| 1375/2155 [00:37<00:21, 35.72it/s]"
     ]
    },
    {
     "name": "stderr",
     "output_type": "stream",
     "text": [
      "\r",
      "\u001b[1;34m￨ stanza 99, line 04: WHICH on.thy SOFT cheek FOR com PLE xion DWELLS        :  64%|\u001b[0;36m██████▍   \u001b[0;36m| 1375/2155 [00:37<00:21, 35.72it/s]"
     ]
    },
    {
     "name": "stderr",
     "output_type": "stream",
     "text": [
      "\r",
      "\u001b[1;34m￨ stanza 99, line 05: in.my LOVE'S veins THOU hast TOO.GROS sly DYED         :  64%|\u001b[0;36m██████▍   \u001b[0;36m| 1375/2155 [00:37<00:21, 35.72it/s]"
     ]
    },
    {
     "name": "stderr",
     "output_type": "stream",
     "text": [
      "\r",
      "\u001b[1;34m￨ stanza 99, line 06: the LI ly I con DEMNED for.thy HAND                    :  64%|\u001b[0;36m██████▍   \u001b[0;36m| 1375/2155 [00:37<00:21, 35.72it/s]"
     ]
    },
    {
     "name": "stderr",
     "output_type": "stream",
     "text": [
      "\r",
      "\u001b[1;34m￨ stanza 99, line 07: and BUDS of MAR jo RAM had STOL'N thy HAIR             :  64%|\u001b[0;36m██████▍   \u001b[0;36m| 1375/2155 [00:37<00:21, 35.72it/s]"
     ]
    },
    {
     "name": "stderr",
     "output_type": "stream",
     "text": [
      "\r",
      "\u001b[1;34m￨ stanza 99, line 08: the RO ses FEAR ful LY on THORNS did STAND             :  64%|\u001b[0;36m██████▍   \u001b[0;36m| 1375/2155 [00:37<00:21, 35.72it/s]"
     ]
    },
    {
     "name": "stderr",
     "output_type": "stream",
     "text": [
      "\r",
      "\u001b[1;34m￨ stanza 99, line 09: one BLUS hing SHAME a NOT her WHITE des PAIR           :  64%|\u001b[0;36m██████▍   \u001b[0;36m| 1375/2155 [00:37<00:21, 35.72it/s]"
     ]
    },
    {
     "name": "stderr",
     "output_type": "stream",
     "text": [
      "\r",
      "\u001b[1;34m￨ stanza 99, line 10: a THIRD nor RED nor WHITE had STOL'N of BOTH           :  64%|\u001b[0;36m██████▍   \u001b[0;36m| 1375/2155 [00:37<00:21, 35.72it/s]"
     ]
    },
    {
     "name": "stderr",
     "output_type": "stream",
     "text": [
      "\r",
      "\u001b[1;34m￨ stanza 99, line 11: and TO his ROB be RY had AN nex'd THY breath           :  64%|\u001b[0;36m██████▍   \u001b[0;36m| 1375/2155 [00:37<00:21, 35.72it/s]"
     ]
    },
    {
     "name": "stderr",
     "output_type": "stream",
     "text": [
      "\r",
      "\u001b[1;34m￨ stanza 99, line 11: and TO his ROB be RY had AN nex'd THY breath           :  64%|\u001b[0;36m██████▍   \u001b[0;36m| 1383/2155 [00:37<00:20, 37.64it/s]"
     ]
    },
    {
     "name": "stderr",
     "output_type": "stream",
     "text": [
      "\r",
      "\u001b[1;34m￨ stanza 99, line 12: but FOR his THEFT in PRIDE of ALL his GROWTH           :  64%|\u001b[0;36m██████▍   \u001b[0;36m| 1383/2155 [00:37<00:20, 37.64it/s]"
     ]
    },
    {
     "name": "stderr",
     "output_type": "stream",
     "text": [
      "\r",
      "\u001b[1;34m￨ stanza 99, line 13: a VEN geful CAN ker EAT him UP to DEATH                :  64%|\u001b[0;36m██████▍   \u001b[0;36m| 1383/2155 [00:37<00:20, 37.64it/s]"
     ]
    },
    {
     "name": "stderr",
     "output_type": "stream",
     "text": [
      "\r",
      "\u001b[1;34m￨ stanza 99, line 14: more FLO wers.i NO ted YET i NONE could SEE            :  64%|\u001b[0;36m██████▍   \u001b[0;36m| 1383/2155 [00:37<00:20, 37.64it/s]"
     ]
    },
    {
     "name": "stderr",
     "output_type": "stream",
     "text": [
      "\r",
      "\u001b[1;34m￨ stanza 99, line 15: but SWEET or CO lour IT had STOL'N from THEE           :  64%|\u001b[0;36m██████▍   \u001b[0;36m| 1383/2155 [00:37<00:20, 37.64it/s]"
     ]
    },
    {
     "name": "stderr",
     "output_type": "stream",
     "text": [
      "\r",
      "\u001b[1;34m￨ stanza 100, line 01: where ART thou MUSE that THOU for GET'ST so LONG      :  64%|\u001b[0;36m██████▍   \u001b[0;36m| 1383/2155 [00:37<00:20, 37.64it/s]"
     ]
    },
    {
     "name": "stderr",
     "output_type": "stream",
     "text": [
      "\r",
      "\u001b[1;34m￨ stanza 100, line 02: to SPEAK of THAT which GIVES thee ALL thy MIGHT       :  64%|\u001b[0;36m██████▍   \u001b[0;36m| 1383/2155 [00:38<00:20, 37.64it/s]"
     ]
    },
    {
     "name": "stderr",
     "output_type": "stream",
     "text": [
      "\r",
      "\u001b[1;34m￨ stanza 100, line 02: to SPEAK of THAT which GIVES thee ALL thy MIGHT       :  64%|\u001b[0;36m██████▍   \u001b[0;36m| 1389/2155 [00:38<00:20, 36.54it/s]"
     ]
    },
    {
     "name": "stderr",
     "output_type": "stream",
     "text": [
      "\r",
      "\u001b[1;34m￨ stanza 100, line 03: SPEND'ST thou.thy FU ry ON some WORT hless SONG       :  64%|\u001b[0;36m██████▍   \u001b[0;36m| 1389/2155 [00:38<00:20, 36.54it/s]"
     ]
    },
    {
     "name": "stderr",
     "output_type": "stream",
     "text": [
      "\r",
      "\u001b[1;34m￨ stanza 100, line 04: DAR ke NING thy PO wer TO lend BASE sub JECTS light   :  64%|\u001b[0;36m██████▍   \u001b[0;36m| 1389/2155 [00:38<00:20, 36.54it/s]"
     ]
    },
    {
     "name": "stderr",
     "output_type": "stream",
     "text": [
      "\r",
      "\u001b[1;34m￨ stanza 100, line 05: re TURN for GE tful MUSE and STRAIGHT re DEEM         :  64%|\u001b[0;36m██████▍   \u001b[0;36m| 1389/2155 [00:38<00:20, 36.54it/s]"
     ]
    },
    {
     "name": "stderr",
     "output_type": "stream",
     "text": [
      "\r",
      "\u001b[1;34m￨ stanza 100, line 06: in GEN tle NUM bers TIME so I dly SPENT               :  64%|\u001b[0;36m██████▍   \u001b[0;36m| 1389/2155 [00:38<00:20, 36.54it/s]"
     ]
    },
    {
     "name": "stderr",
     "output_type": "stream",
     "text": [
      "\r",
      "\u001b[1;34m￨ stanza 100, line 07: SING to.the EAR that DOTH thy LAYS es TEEM            :  64%|\u001b[0;36m██████▍   \u001b[0;36m| 1389/2155 [00:38<00:20, 36.54it/s]"
     ]
    },
    {
     "name": "stderr",
     "output_type": "stream",
     "text": [
      "\r",
      "\u001b[1;34m￨ stanza 100, line 07: SING to.the EAR that DOTH thy LAYS es TEEM            :  65%|\u001b[0;36m██████▍   \u001b[0;36m| 1394/2155 [00:38<00:20, 36.27it/s]"
     ]
    },
    {
     "name": "stderr",
     "output_type": "stream",
     "text": [
      "\r",
      "\u001b[1;34m￨ stanza 100, line 08: and GIVES thy PEN both SKILL and AR gu MENT           :  65%|\u001b[0;36m██████▍   \u001b[0;36m| 1394/2155 [00:38<00:20, 36.27it/s]"
     ]
    },
    {
     "name": "stderr",
     "output_type": "stream",
     "text": [
      "\r",
      "\u001b[1;34m￨ stanza 100, line 09: RISE res TY.MUSE my LOVE'S sweet FACE sur VEY         :  65%|\u001b[0;36m██████▍   \u001b[0;36m| 1394/2155 [00:38<00:20, 36.27it/s]"
     ]
    },
    {
     "name": "stderr",
     "output_type": "stream",
     "text": [
      "\r",
      "\u001b[1;34m￨ stanza 100, line 10: if TIME have A ny WRIN kle GRA ven THERE              :  65%|\u001b[0;36m██████▍   \u001b[0;36m| 1394/2155 [00:38<00:20, 36.27it/s]"
     ]
    },
    {
     "name": "stderr",
     "output_type": "stream",
     "text": [
      "\r",
      "\u001b[1;34m￨ stanza 100, line 11: if A ny BE a SA.TI re TO de CAY                       :  65%|\u001b[0;36m██████▍   \u001b[0;36m| 1394/2155 [00:38<00:20, 36.27it/s]"
     ]
    },
    {
     "name": "stderr",
     "output_type": "stream",
     "text": [
      "\r",
      "\u001b[1;34m￨ stanza 100, line 12: and MAKE time's SPOILS des PISED.E very WHERE         :  65%|\u001b[0;36m██████▍   \u001b[0;36m| 1394/2155 [00:38<00:20, 36.27it/s]"
     ]
    },
    {
     "name": "stderr",
     "output_type": "stream",
     "text": [
      "\r",
      "\u001b[1;34m￨ stanza 100, line 13: GIVE my LOVE fame FAS.TER than TIME wastes LIFE       :  65%|\u001b[0;36m██████▍   \u001b[0;36m| 1394/2155 [00:38<00:20, 36.27it/s]"
     ]
    },
    {
     "name": "stderr",
     "output_type": "stream",
     "text": [
      "\r",
      "\u001b[1;34m￨ stanza 100, line 14: so THOU pre VENT'ST his SCYTHE and CROO ked KNIFE     :  65%|\u001b[0;36m██████▍   \u001b[0;36m| 1394/2155 [00:38<00:20, 36.27it/s]"
     ]
    },
    {
     "name": "stderr",
     "output_type": "stream",
     "text": [
      "\r",
      "\u001b[1;34m￨ stanza 101, line 01: o TRU ant MUSE what SHALL be THY a MENDS              :  65%|\u001b[0;36m██████▍   \u001b[0;36m| 1394/2155 [00:38<00:20, 36.27it/s]"
     ]
    },
    {
     "name": "stderr",
     "output_type": "stream",
     "text": [
      "\r",
      "\u001b[1;34m￨ stanza 101, line 02: for THY ne GLECT of TRUTH in BEA uty DYED             :  65%|\u001b[0;36m██████▍   \u001b[0;36m| 1394/2155 [00:38<00:20, 36.27it/s]"
     ]
    },
    {
     "name": "stderr",
     "output_type": "stream",
     "text": [
      "\r",
      "\u001b[1;34m￨ stanza 101, line 03: both TRUTH and BEA uty ON my LOVE de PENDS            :  65%|\u001b[0;36m██████▍   \u001b[0;36m| 1394/2155 [00:38<00:20, 36.27it/s]"
     ]
    },
    {
     "name": "stderr",
     "output_type": "stream",
     "text": [
      "\r",
      "\u001b[1;34m￨ stanza 101, line 04: so DOST thou TOO and THE rein DI gni FIED             :  65%|\u001b[0;36m██████▍   \u001b[0;36m| 1394/2155 [00:38<00:20, 36.27it/s]"
     ]
    },
    {
     "name": "stderr",
     "output_type": "stream",
     "text": [
      "\r",
      "\u001b[1;34m￨ stanza 101, line 05: make AN swer MUSE wilt THOU not HA ply SAY            :  65%|\u001b[0;36m██████▍   \u001b[0;36m| 1394/2155 [00:38<00:20, 36.27it/s]"
     ]
    },
    {
     "name": "stderr",
     "output_type": "stream",
     "text": [
      "\r",
      "\u001b[1;34m￨ stanza 101, line 06: 'truth NEEDS no CO lour WITH his CO lour FIX'D        :  65%|\u001b[0;36m██████▍   \u001b[0;36m| 1394/2155 [00:38<00:20, 36.27it/s]"
     ]
    },
    {
     "name": "stderr",
     "output_type": "stream",
     "text": [
      "\r",
      "\u001b[1;34m￨ stanza 101, line 07: BEA uty NO.PEN cil BEA uty's TRUTH to LAY             :  65%|\u001b[0;36m██████▍   \u001b[0;36m| 1394/2155 [00:38<00:20, 36.27it/s]"
     ]
    },
    {
     "name": "stderr",
     "output_type": "stream",
     "text": [
      "\r",
      "\u001b[1;34m￨ stanza 101, line 08: but BEST is BEST if NE ver IN ter MIX'D               :  65%|\u001b[0;36m██████▍   \u001b[0;36m| 1394/2155 [00:38<00:20, 36.27it/s]"
     ]
    },
    {
     "name": "stderr",
     "output_type": "stream",
     "text": [
      "\r",
      "\u001b[1;34m￨ stanza 101, line 09: be CAUSE he NEEDS no PRAISE wilt THOU be DUMB         :  65%|\u001b[0;36m██████▍   \u001b[0;36m| 1394/2155 [00:38<00:20, 36.27it/s]"
     ]
    },
    {
     "name": "stderr",
     "output_type": "stream",
     "text": [
      "\r",
      "\u001b[1;34m￨ stanza 101, line 09: be CAUSE he NEEDS no PRAISE wilt THOU be DUMB         :  65%|\u001b[0;36m██████▌   \u001b[0;36m| 1410/2155 [00:38<00:23, 31.77it/s]"
     ]
    },
    {
     "name": "stderr",
     "output_type": "stream",
     "text": [
      "\r",
      "\u001b[1;34m￨ stanza 101, line 10: ex CUSE not SI lence SO for't LIES in THEE            :  65%|\u001b[0;36m██████▌   \u001b[0;36m| 1410/2155 [00:38<00:23, 31.77it/s]"
     ]
    },
    {
     "name": "stderr",
     "output_type": "stream",
     "text": [
      "\r",
      "\u001b[1;34m￨ stanza 101, line 11: to MAKE him MUCH ou TLIVE a GIL ded TOMB              :  65%|\u001b[0;36m██████▌   \u001b[0;36m| 1410/2155 [00:38<00:23, 31.77it/s]"
     ]
    },
    {
     "name": "stderr",
     "output_type": "stream",
     "text": [
      "\r",
      "\u001b[1;34m￨ stanza 101, line 12: and TO be PRAISED of A ges YET to BE                  :  65%|\u001b[0;36m██████▌   \u001b[0;36m| 1410/2155 [00:38<00:23, 31.77it/s]"
     ]
    },
    {
     "name": "stderr",
     "output_type": "stream",
     "text": [
      "\r",
      "\u001b[1;34m￨ stanza 101, line 13: then DO thy OF fice MUSE i TEACH thee.how             :  65%|\u001b[0;36m██████▌   \u001b[0;36m| 1410/2155 [00:38<00:23, 31.77it/s]"
     ]
    },
    {
     "name": "stderr",
     "output_type": "stream",
     "text": [
      "\r",
      "\u001b[1;34m￨ stanza 101, line 14: to MAKE him SEEM long HENCE as HE shows NOW           :  65%|\u001b[0;36m██████▌   \u001b[0;36m| 1410/2155 [00:38<00:23, 31.77it/s]"
     ]
    },
    {
     "name": "stderr",
     "output_type": "stream",
     "text": [
      "\r",
      "\u001b[1;34m￨ stanza 102, line 01: my LOVE is STRENGT hen'd THOUGH more WEAK in SEE ming :  65%|\u001b[0;36m██████▌   \u001b[0;36m| 1410/2155 [00:38<00:23, 31.77it/s]"
     ]
    },
    {
     "name": "stderr",
     "output_type": "stream",
     "text": [
      "\r",
      "\u001b[1;34m￨ stanza 102, line 02: i LOVE not LESS though LESS the SHOW ap PEAR          :  65%|\u001b[0;36m██████▌   \u001b[0;36m| 1410/2155 [00:38<00:23, 31.77it/s]"
     ]
    },
    {
     "name": "stderr",
     "output_type": "stream",
     "text": [
      "\r",
      "\u001b[1;34m￨ stanza 102, line 03: that LOVE is MERC han DIZED whose RICH es TEE ming    :  65%|\u001b[0;36m██████▌   \u001b[0;36m| 1410/2155 [00:38<00:23, 31.77it/s]"
     ]
    },
    {
     "name": "stderr",
     "output_type": "stream",
     "text": [
      "\r",
      "\u001b[1;34m￨ stanza 102, line 04: the OW ner's TONGUE doth PU blish E very WHERE        :  65%|\u001b[0;36m██████▌   \u001b[0;36m| 1410/2155 [00:38<00:23, 31.77it/s]"
     ]
    },
    {
     "name": "stderr",
     "output_type": "stream",
     "text": [
      "\r",
      "\u001b[1;34m￨ stanza 102, line 05: our LOVE was NEW and THEN but IN the SPRING           :  65%|\u001b[0;36m██████▌   \u001b[0;36m| 1410/2155 [00:38<00:23, 31.77it/s]"
     ]
    },
    {
     "name": "stderr",
     "output_type": "stream",
     "text": [
      "\r",
      "\u001b[1;34m￨ stanza 102, line 06: when I was WONT to GREET it WITH my LAYS              :  65%|\u001b[0;36m██████▌   \u001b[0;36m| 1410/2155 [00:38<00:23, 31.77it/s]"
     ]
    },
    {
     "name": "stderr",
     "output_type": "stream",
     "text": [
      "\r",
      "\u001b[1;34m￨ stanza 102, line 07: as PHI lo MEL in SUM mer's FRONT doth SING            :  65%|\u001b[0;36m██████▌   \u001b[0;36m| 1410/2155 [00:38<00:23, 31.77it/s]"
     ]
    },
    {
     "name": "stderr",
     "output_type": "stream",
     "text": [
      "\r",
      "\u001b[1;34m￨ stanza 102, line 08: and STOPS her PIPE in GROWTH of RI per DAYS           :  65%|\u001b[0;36m██████▌   \u001b[0;36m| 1410/2155 [00:38<00:23, 31.77it/s]"
     ]
    },
    {
     "name": "stderr",
     "output_type": "stream",
     "text": [
      "\r",
      "\u001b[1;34m￨ stanza 102, line 09: not THAT the SUM mer IS less PLEA sant NOW            :  65%|\u001b[0;36m██████▌   \u001b[0;36m| 1410/2155 [00:39<00:23, 31.77it/s]"
     ]
    },
    {
     "name": "stderr",
     "output_type": "stream",
     "text": [
      "\r",
      "\u001b[1;34m￨ stanza 102, line 09: not THAT the SUM mer IS less PLEA sant NOW            :  66%|\u001b[0;36m██████▌   \u001b[0;36m| 1424/2155 [00:39<00:18, 39.71it/s]"
     ]
    },
    {
     "name": "stderr",
     "output_type": "stream",
     "text": [
      "\r",
      "\u001b[1;34m￨ stanza 102, line 10: than WHEN her MOURN ful HYMNS did HUSH the NIGHT      :  66%|\u001b[0;36m██████▌   \u001b[0;36m| 1424/2155 [00:39<00:18, 39.71it/s]"
     ]
    },
    {
     "name": "stderr",
     "output_type": "stream",
     "text": [
      "\r",
      "\u001b[1;34m￨ stanza 102, line 11: but THAT wild MU sic BURT hens E very BOUGH           :  66%|\u001b[0;36m██████▌   \u001b[0;36m| 1424/2155 [00:39<00:18, 39.71it/s]"
     ]
    },
    {
     "name": "stderr",
     "output_type": "stream",
     "text": [
      "\r",
      "\u001b[1;34m￨ stanza 102, line 12: and SWEETS grown COM mon LOSE their DEAR de LIGHT     :  66%|\u001b[0;36m██████▌   \u001b[0;36m| 1424/2155 [00:39<00:18, 39.71it/s]"
     ]
    },
    {
     "name": "stderr",
     "output_type": "stream",
     "text": [
      "\r",
      "\u001b[1;34m￨ stanza 102, line 13: the REFORE like HER i SO metime HOLD my TONGUE        :  66%|\u001b[0;36m██████▌   \u001b[0;36m| 1424/2155 [00:39<00:18, 39.71it/s]"
     ]
    },
    {
     "name": "stderr",
     "output_type": "stream",
     "text": [
      "\r",
      "\u001b[1;34m￨ stanza 102, line 14: be CAUSE i WOULD not DULL you WITH my SONG            :  66%|\u001b[0;36m██████▌   \u001b[0;36m| 1424/2155 [00:39<00:18, 39.71it/s]"
     ]
    },
    {
     "name": "stderr",
     "output_type": "stream",
     "text": [
      "\r",
      "\u001b[1;34m￨ stanza 103, line 01: a LACK what PO ver TY my MUSE brings FORTH            :  66%|\u001b[0;36m██████▌   \u001b[0;36m| 1424/2155 [00:39<00:18, 39.71it/s]"
     ]
    },
    {
     "name": "stderr",
     "output_type": "stream",
     "text": [
      "\r",
      "\u001b[1;34m￨ stanza 103, line 02: that HA ving SUCH a SCOPE to SHOW her PRIDE           :  66%|\u001b[0;36m██████▌   \u001b[0;36m| 1424/2155 [00:39<00:18, 39.71it/s]"
     ]
    },
    {
     "name": "stderr",
     "output_type": "stream",
     "text": [
      "\r",
      "\u001b[1;34m￨ stanza 103, line 03: the AR gu MENT all BARE is OF more WORTH              :  66%|\u001b[0;36m██████▌   \u001b[0;36m| 1424/2155 [00:39<00:18, 39.71it/s]"
     ]
    },
    {
     "name": "stderr",
     "output_type": "stream",
     "text": [
      "\r",
      "\u001b[1;34m￨ stanza 103, line 04: than WHEN it HATH my AD ded PRAISE be SIDE            :  66%|\u001b[0;36m██████▌   \u001b[0;36m| 1424/2155 [00:39<00:18, 39.71it/s]"
     ]
    },
    {
     "name": "stderr",
     "output_type": "stream",
     "text": [
      "\r",
      "\u001b[1;34m￨ stanza 103, line 05: o BLAME me NOT if.i NO more.can WRITE                 :  66%|\u001b[0;36m██████▌   \u001b[0;36m| 1424/2155 [00:39<00:18, 39.71it/s]"
     ]
    },
    {
     "name": "stderr",
     "output_type": "stream",
     "text": [
      "\r",
      "\u001b[1;34m￨ stanza 103, line 05: o BLAME me NOT if.i NO more.can WRITE                 :  67%|\u001b[0;36m██████▋   \u001b[0;36m| 1434/2155 [00:39<00:18, 38.76it/s]"
     ]
    },
    {
     "name": "stderr",
     "output_type": "stream",
     "text": [
      "\r",
      "\u001b[1;34m￨ stanza 103, line 06: LOOK in.your GLASS and THERE ap PEARS a FACE          :  67%|\u001b[0;36m██████▋   \u001b[0;36m| 1434/2155 [00:39<00:18, 38.76it/s]"
     ]
    },
    {
     "name": "stderr",
     "output_type": "stream",
     "text": [
      "\r",
      "\u001b[1;34m￨ stanza 103, line 07: that O ver GOES my BLUNT in VEN tion QUITE            :  67%|\u001b[0;36m██████▋   \u001b[0;36m| 1434/2155 [00:39<00:18, 38.76it/s]"
     ]
    },
    {
     "name": "stderr",
     "output_type": "stream",
     "text": [
      "\r",
      "\u001b[1;34m￨ stanza 103, line 08: DUL.LING my LINES and DO ing ME dis GRACE             :  67%|\u001b[0;36m██████▋   \u001b[0;36m| 1434/2155 [00:39<00:18, 38.76it/s]"
     ]
    },
    {
     "name": "stderr",
     "output_type": "stream",
     "text": [
      "\r",
      "\u001b[1;34m￨ stanza 103, line 09: were IT not SIN ful THEN stri VING to MEND            :  67%|\u001b[0;36m██████▋   \u001b[0;36m| 1434/2155 [00:39<00:18, 38.76it/s]"
     ]
    },
    {
     "name": "stderr",
     "output_type": "stream",
     "text": [
      "\r",
      "\u001b[1;34m￨ stanza 103, line 10: to MAR the SUB ject THAT be FORE was WELL             :  67%|\u001b[0;36m██████▋   \u001b[0;36m| 1434/2155 [00:39<00:18, 38.76it/s]"
     ]
    },
    {
     "name": "stderr",
     "output_type": "stream",
     "text": [
      "\r",
      "\u001b[1;34m￨ stanza 103, line 11: for TO no OT her PASS my VER ses TEND                 :  67%|\u001b[0;36m██████▋   \u001b[0;36m| 1434/2155 [00:39<00:18, 38.76it/s]"
     ]
    },
    {
     "name": "stderr",
     "output_type": "stream",
     "text": [
      "\r",
      "\u001b[1;34m￨ stanza 103, line 12: than OF your GRA ces AND your GIFTS to TELL           :  67%|\u001b[0;36m██████▋   \u001b[0;36m| 1434/2155 [00:39<00:18, 38.76it/s]"
     ]
    },
    {
     "name": "stderr",
     "output_type": "stream",
     "text": [
      "\r",
      "\u001b[1;34m￨ stanza 103, line 13: and MORE much MORE than IN my VERSE can SIT           :  67%|\u001b[0;36m██████▋   \u001b[0;36m| 1434/2155 [00:39<00:18, 38.76it/s]"
     ]
    },
    {
     "name": "stderr",
     "output_type": "stream",
     "text": [
      "\r",
      "\u001b[1;34m￨ stanza 103, line 14: your OWN glass SHOWS you WHEN you LOOK in IT          :  67%|\u001b[0;36m██████▋   \u001b[0;36m| 1434/2155 [00:39<00:18, 38.76it/s]"
     ]
    },
    {
     "name": "stderr",
     "output_type": "stream",
     "text": [
      "\r",
      "\u001b[1;34m￨ stanza 103, line 14: your OWN glass SHOWS you WHEN you LOOK in IT          :  67%|\u001b[0;36m██████▋   \u001b[0;36m| 1443/2155 [00:39<00:27, 25.62it/s]"
     ]
    },
    {
     "name": "stderr",
     "output_type": "stream",
     "text": [
      "\r",
      "\u001b[1;34m￨ stanza 104, line 01: to ME fair FRIEND you NE ver CAN be OLD               :  67%|\u001b[0;36m██████▋   \u001b[0;36m| 1443/2155 [00:39<00:27, 25.62it/s]"
     ]
    },
    {
     "name": "stderr",
     "output_type": "stream",
     "text": [
      "\r",
      "\u001b[1;34m￨ stanza 104, line 02: for.as YOU were.when FIRST your EYE i EYED            :  67%|\u001b[0;36m██████▋   \u001b[0;36m| 1443/2155 [00:39<00:27, 25.62it/s]"
     ]
    },
    {
     "name": "stderr",
     "output_type": "stream",
     "text": [
      "\r",
      "\u001b[1;34m￨ stanza 104, line 03: such SEEMS your BEA uty STILL three WIN ters COLD     :  67%|\u001b[0;36m██████▋   \u001b[0;36m| 1443/2155 [00:39<00:27, 25.62it/s]"
     ]
    },
    {
     "name": "stderr",
     "output_type": "stream",
     "text": [
      "\r",
      "\u001b[1;34m￨ stanza 104, line 04: HAVE from.the FO rests SHOOK three SUM mers' PRIDE    :  67%|\u001b[0;36m██████▋   \u001b[0;36m| 1443/2155 [00:39<00:27, 25.62it/s]"
     ]
    },
    {
     "name": "stderr",
     "output_type": "stream",
     "text": [
      "\r",
      "\u001b[1;34m￨ stanza 104, line 05: three BEA uteous SPRINGS to YEL low AU tumn TURN'D    :  67%|\u001b[0;36m██████▋   \u001b[0;36m| 1443/2155 [00:40<00:27, 25.62it/s]"
     ]
    },
    {
     "name": "stderr",
     "output_type": "stream",
     "text": [
      "\r",
      "\u001b[1;34m￨ stanza 104, line 06: in PRO.CESS of.the SEA sons HAVE i SEEN               :  67%|\u001b[0;36m██████▋   \u001b[0;36m| 1443/2155 [00:40<00:27, 25.62it/s]"
     ]
    },
    {
     "name": "stderr",
     "output_type": "stream",
     "text": [
      "\r",
      "\u001b[1;34m￨ stanza 104, line 07: three A pril PER.FUMES in THREE hot JUNES burn'd      :  67%|\u001b[0;36m██████▋   \u001b[0;36m| 1443/2155 [00:40<00:27, 25.62it/s]"
     ]
    },
    {
     "name": "stderr",
     "output_type": "stream",
     "text": [
      "\r",
      "\u001b[1;34m￨ stanza 104, line 08: since FIRST i SAW you FRESH which YET are GREEN       :  67%|\u001b[0;36m██████▋   \u001b[0;36m| 1443/2155 [00:40<00:27, 25.62it/s]"
     ]
    },
    {
     "name": "stderr",
     "output_type": "stream",
     "text": [
      "\r",
      "\u001b[1;34m￨ stanza 104, line 09: ah YET doth BEA uty LIKE a DI al HAND                 :  67%|\u001b[0;36m██████▋   \u001b[0;36m| 1443/2155 [00:40<00:27, 25.62it/s]"
     ]
    },
    {
     "name": "stderr",
     "output_type": "stream",
     "text": [
      "\r",
      "\u001b[1;34m￨ stanza 104, line 10: STEAL from.his FI gure AND no PACE per CEIVED         :  67%|\u001b[0;36m██████▋   \u001b[0;36m| 1443/2155 [00:40<00:27, 25.62it/s]"
     ]
    },
    {
     "name": "stderr",
     "output_type": "stream",
     "text": [
      "\r",
      "\u001b[1;34m￨ stanza 104, line 11: so.your SWEET hue WHICH met HINKS.STILL doth STAND    :  67%|\u001b[0;36m██████▋   \u001b[0;36m| 1443/2155 [00:40<00:27, 25.62it/s]"
     ]
    },
    {
     "name": "stderr",
     "output_type": "stream",
     "text": [
      "\r",
      "\u001b[1;34m￨ stanza 104, line 12: hath MO tion AND mine EYE may BE de CEIVED            :  67%|\u001b[0;36m██████▋   \u001b[0;36m| 1443/2155 [00:40<00:27, 25.62it/s]"
     ]
    },
    {
     "name": "stderr",
     "output_type": "stream",
     "text": [
      "\r",
      "\u001b[1;34m￨ stanza 104, line 13: for FEAR of.which HEAR this.thou AGE un BRED          :  67%|\u001b[0;36m██████▋   \u001b[0;36m| 1443/2155 [00:40<00:27, 25.62it/s]"
     ]
    },
    {
     "name": "stderr",
     "output_type": "stream",
     "text": [
      "\r",
      "\u001b[1;34m￨ stanza 104, line 14: ERE you.were BORN was BEA uty's SUM mer DEAD          :  67%|\u001b[0;36m██████▋   \u001b[0;36m| 1443/2155 [00:40<00:27, 25.62it/s]"
     ]
    },
    {
     "name": "stderr",
     "output_type": "stream",
     "text": [
      "\r",
      "\u001b[1;34m￨ stanza 105, line 01: LET not.my LOVE be CALL'D i DO la TRY                 :  67%|\u001b[0;36m██████▋   \u001b[0;36m| 1443/2155 [00:40<00:27, 25.62it/s]"
     ]
    },
    {
     "name": "stderr",
     "output_type": "stream",
     "text": [
      "\r",
      "\u001b[1;34m￨ stanza 105, line 02: nor MY be LOVED as.an I dol SHOW                      :  67%|\u001b[0;36m██████▋   \u001b[0;36m| 1443/2155 [00:40<00:27, 25.62it/s]"
     ]
    },
    {
     "name": "stderr",
     "output_type": "stream",
     "text": [
      "\r",
      "\u001b[1;34m￨ stanza 105, line 03: since ALL a LIKE my SONGS and PRAI ses BE             :  67%|\u001b[0;36m██████▋   \u001b[0;36m| 1443/2155 [00:40<00:27, 25.62it/s]"
     ]
    },
    {
     "name": "stderr",
     "output_type": "stream",
     "text": [
      "\r",
      "\u001b[1;34m￨ stanza 105, line 04: to ONE of.one STILL such.and E ver SO                 :  67%|\u001b[0;36m██████▋   \u001b[0;36m| 1443/2155 [00:40<00:27, 25.62it/s]"
     ]
    },
    {
     "name": "stderr",
     "output_type": "stream",
     "text": [
      "\r",
      "\u001b[1;34m￨ stanza 105, line 05: KIND is.my LOVE to DAY to MOR row KIND                :  67%|\u001b[0;36m██████▋   \u001b[0;36m| 1443/2155 [00:40<00:27, 25.62it/s]"
     ]
    },
    {
     "name": "stderr",
     "output_type": "stream",
     "text": [
      "\r",
      "\u001b[1;34m￨ stanza 105, line 06: still CONS tant IN a WON drous EX cel LENCE           :  67%|\u001b[0;36m██████▋   \u001b[0;36m| 1443/2155 [00:40<00:27, 25.62it/s]"
     ]
    },
    {
     "name": "stderr",
     "output_type": "stream",
     "text": [
      "\r",
      "\u001b[1;34m￨ stanza 105, line 07: the REFORE my VERSE to CONS tan CY con FINED          :  67%|\u001b[0;36m██████▋   \u001b[0;36m| 1443/2155 [00:40<00:27, 25.62it/s]"
     ]
    },
    {
     "name": "stderr",
     "output_type": "stream",
     "text": [
      "\r",
      "\u001b[1;34m￨ stanza 105, line 08: one THING ex PRES sing LEAVES out DIF ference         :  67%|\u001b[0;36m██████▋   \u001b[0;36m| 1443/2155 [00:40<00:27, 25.62it/s]"
     ]
    },
    {
     "name": "stderr",
     "output_type": "stream",
     "text": [
      "\r",
      "\u001b[1;34m￨ stanza 105, line 09: 'fair KIND and TRUE' is ALL my AR gu MENT             :  67%|\u001b[0;36m██████▋   \u001b[0;36m| 1443/2155 [00:40<00:27, 25.62it/s]"
     ]
    },
    {
     "name": "stderr",
     "output_type": "stream",
     "text": [
      "\r",
      "\u001b[1;34m￨ stanza 105, line 10: 'fair KIND and TRUE' va.ry ING to OT her WORDS        :  67%|\u001b[0;36m██████▋   \u001b[0;36m| 1443/2155 [00:40<00:27, 25.62it/s]"
     ]
    },
    {
     "name": "stderr",
     "output_type": "stream",
     "text": [
      "\r",
      "\u001b[1;34m￨ stanza 105, line 11: and IN this CHANGE is MY in VEN tion SPENT            :  67%|\u001b[0;36m██████▋   \u001b[0;36m| 1443/2155 [00:40<00:27, 25.62it/s]"
     ]
    },
    {
     "name": "stderr",
     "output_type": "stream",
     "text": [
      "\r",
      "\u001b[1;34m￨ stanza 105, line 12: THREE themes IN one.which WON drous SCOPE af FORDS    :  67%|\u001b[0;36m██████▋   \u001b[0;36m| 1443/2155 [00:40<00:27, 25.62it/s]"
     ]
    },
    {
     "name": "stderr",
     "output_type": "stream",
     "text": [
      "\r",
      "\u001b[1;34m￨ stanza 105, line 13: 'fair KIND and TRUE have OF ten LIVED a LONE          :  67%|\u001b[0;36m██████▋   \u001b[0;36m| 1443/2155 [00:40<00:27, 25.62it/s]"
     ]
    },
    {
     "name": "stderr",
     "output_type": "stream",
     "text": [
      "\r",
      "\u001b[1;34m￨ stanza 105, line 14: which THREE till NOW ne.ver KEPT seat IN one          :  67%|\u001b[0;36m██████▋   \u001b[0;36m| 1443/2155 [00:40<00:27, 25.62it/s]"
     ]
    },
    {
     "name": "stderr",
     "output_type": "stream",
     "text": [
      "\r",
      "\u001b[1;34m￨ stanza 106, line 01: when IN the CHRO ni CLE of WAS ted TIME               :  67%|\u001b[0;36m██████▋   \u001b[0;36m| 1443/2155 [00:40<00:27, 25.62it/s]"
     ]
    },
    {
     "name": "stderr",
     "output_type": "stream",
     "text": [
      "\r",
      "\u001b[1;34m￨ stanza 106, line 02: i SEE des CRIP tions OF the FAI rest WIGHTS           :  67%|\u001b[0;36m██████▋   \u001b[0;36m| 1443/2155 [00:40<00:27, 25.62it/s]"
     ]
    },
    {
     "name": "stderr",
     "output_type": "stream",
     "text": [
      "\r",
      "\u001b[1;34m￨ stanza 106, line 03: and BEA uty MA king BEA u TIFUL old RHYME             :  67%|\u001b[0;36m██████▋   \u001b[0;36m| 1443/2155 [00:40<00:27, 25.62it/s]"
     ]
    },
    {
     "name": "stderr",
     "output_type": "stream",
     "text": [
      "\r",
      "\u001b[1;34m￨ stanza 106, line 04: in PRAISE of LA dies DEAD and LO vely KNIGHTS         :  67%|\u001b[0;36m██████▋   \u001b[0;36m| 1443/2155 [00:40<00:27, 25.62it/s]"
     ]
    },
    {
     "name": "stderr",
     "output_type": "stream",
     "text": [
      "\r",
      "\u001b[1;34m￨ stanza 106, line 05: then IN the BLA zon OF sweet BEA uty's BEST           :  67%|\u001b[0;36m██████▋   \u001b[0;36m| 1443/2155 [00:40<00:27, 25.62it/s]"
     ]
    },
    {
     "name": "stderr",
     "output_type": "stream",
     "text": [
      "\r",
      "\u001b[1;34m￨ stanza 106, line 06: of HAND of FOOT of LIP of EYE of BROW                 :  67%|\u001b[0;36m██████▋   \u001b[0;36m| 1443/2155 [00:40<00:27, 25.62it/s]"
     ]
    },
    {
     "name": "stderr",
     "output_type": "stream",
     "text": [
      "\r",
      "\u001b[1;34m￨ stanza 106, line 07: I see THEIR an TIQUE.PEN would HAVE ex PRESS'D        :  67%|\u001b[0;36m██████▋   \u001b[0;36m| 1443/2155 [00:40<00:27, 25.62it/s]"
     ]
    },
    {
     "name": "stderr",
     "output_type": "stream",
     "text": [
      "\r",
      "\u001b[1;34m￨ stanza 106, line 08: E ven SUCH a BEA uty AS you MAS ter NOW               :  67%|\u001b[0;36m██████▋   \u001b[0;36m| 1443/2155 [00:40<00:27, 25.62it/s]"
     ]
    },
    {
     "name": "stderr",
     "output_type": "stream",
     "text": [
      "\r",
      "\u001b[1;34m￨ stanza 106, line 09: so ALL their PRAI ses ARE but PROP he CIES            :  67%|\u001b[0;36m██████▋   \u001b[0;36m| 1443/2155 [00:40<00:27, 25.62it/s]"
     ]
    },
    {
     "name": "stderr",
     "output_type": "stream",
     "text": [
      "\r",
      "\u001b[1;34m￨ stanza 106, line 10: of THIS our TIME all YOU pre FI gu RING               :  67%|\u001b[0;36m██████▋   \u001b[0;36m| 1443/2155 [00:40<00:27, 25.62it/s]"
     ]
    },
    {
     "name": "stderr",
     "output_type": "stream",
     "text": [
      "\r",
      "\u001b[1;34m￨ stanza 106, line 11: and FOR they LOOK'D but WITH di VI ning EYES          :  67%|\u001b[0;36m██████▋   \u001b[0;36m| 1443/2155 [00:40<00:27, 25.62it/s]"
     ]
    },
    {
     "name": "stderr",
     "output_type": "stream",
     "text": [
      "\r",
      "\u001b[1;34m￨ stanza 106, line 12: they HAD not SKILL e NOUGH your WORTH to SING         :  67%|\u001b[0;36m██████▋   \u001b[0;36m| 1443/2155 [00:40<00:27, 25.62it/s]"
     ]
    },
    {
     "name": "stderr",
     "output_type": "stream",
     "text": [
      "\r",
      "\u001b[1;34m￨ stanza 106, line 13: for WE which NOW be HOLD these PRE sent DAYS          :  67%|\u001b[0;36m██████▋   \u001b[0;36m| 1443/2155 [00:40<00:27, 25.62it/s]"
     ]
    },
    {
     "name": "stderr",
     "output_type": "stream",
     "text": [
      "\r",
      "\u001b[1;34m￨ stanza 106, line 14: had EYES to WON der BUT lack TONGUES to PRAISE        :  67%|\u001b[0;36m██████▋   \u001b[0;36m| 1443/2155 [00:40<00:27, 25.62it/s]"
     ]
    },
    {
     "name": "stderr",
     "output_type": "stream",
     "text": [
      "\r",
      "\u001b[1;34m￨ stanza 107, line 01: NOT mine.own FEARS nor THE prop HE tic SOUL           :  67%|\u001b[0;36m██████▋   \u001b[0;36m| 1443/2155 [00:40<00:27, 25.62it/s]"
     ]
    },
    {
     "name": "stderr",
     "output_type": "stream",
     "text": [
      "\r",
      "\u001b[1;34m￨ stanza 107, line 02: of.the WIDE world DREA.MING on THINGS to COME         :  67%|\u001b[0;36m██████▋   \u001b[0;36m| 1443/2155 [00:40<00:27, 25.62it/s]"
     ]
    },
    {
     "name": "stderr",
     "output_type": "stream",
     "text": [
      "\r",
      "\u001b[1;34m￨ stanza 107, line 03: can YET the LEASE of MY true LOVE con TROL            :  67%|\u001b[0;36m██████▋   \u001b[0;36m| 1443/2155 [00:40<00:27, 25.62it/s]"
     ]
    },
    {
     "name": "stderr",
     "output_type": "stream",
     "text": [
      "\r",
      "\u001b[1;34m￨ stanza 107, line 04: sup POSED as FOR feit TO a CON fined DOOM             :  67%|\u001b[0;36m██████▋   \u001b[0;36m| 1443/2155 [00:40<00:27, 25.62it/s]"
     ]
    },
    {
     "name": "stderr",
     "output_type": "stream",
     "text": [
      "\r",
      "\u001b[1;34m￨ stanza 107, line 04: sup POSED as FOR feit TO a CON fined DOOM             :  69%|\u001b[0;36m██████▉   \u001b[0;36m| 1489/2155 [00:40<00:10, 62.22it/s]"
     ]
    },
    {
     "name": "stderr",
     "output_type": "stream",
     "text": [
      "\r",
      "\u001b[1;34m￨ stanza 107, line 05: the MOR tal MOON hath HER e CLIPSE en DURED           :  69%|\u001b[0;36m██████▉   \u001b[0;36m| 1489/2155 [00:40<00:10, 62.22it/s]"
     ]
    },
    {
     "name": "stderr",
     "output_type": "stream",
     "text": [
      "\r",
      "\u001b[1;34m￨ stanza 107, line 06: and THE sad AU gurs MOCK their.own PRE sage           :  69%|\u001b[0;36m██████▉   \u001b[0;36m| 1489/2155 [00:40<00:10, 62.22it/s]"
     ]
    },
    {
     "name": "stderr",
     "output_type": "stream",
     "text": [
      "\r",
      "\u001b[1;34m￨ stanza 107, line 07: in CER tain TIES now CROWN them SELVES as SURED       :  69%|\u001b[0;36m██████▉   \u001b[0;36m| 1489/2155 [00:40<00:10, 62.22it/s]"
     ]
    },
    {
     "name": "stderr",
     "output_type": "stream",
     "text": [
      "\r",
      "\u001b[1;34m￨ stanza 107, line 08: and PEACE pro CLAIMS o LIVES of EN dless AGE          :  69%|\u001b[0;36m██████▉   \u001b[0;36m| 1489/2155 [00:40<00:10, 62.22it/s]"
     ]
    },
    {
     "name": "stderr",
     "output_type": "stream",
     "text": [
      "\r",
      "\u001b[1;34m￨ stanza 107, line 09: NOW with.the DROPS of THIS most BAL my TIME           :  69%|\u001b[0;36m██████▉   \u001b[0;36m| 1489/2155 [00:40<00:10, 62.22it/s]"
     ]
    },
    {
     "name": "stderr",
     "output_type": "stream",
     "text": [
      "\r",
      "\u001b[1;34m￨ stanza 107, line 10: my LOVE looks FRESH and DEATH to ME subs CRIBES       :  69%|\u001b[0;36m██████▉   \u001b[0;36m| 1489/2155 [00:40<00:10, 62.22it/s]"
     ]
    },
    {
     "name": "stderr",
     "output_type": "stream",
     "text": [
      "\r",
      "\u001b[1;34m￨ stanza 107, line 11: since SPITE of HIM i'll LIVE in.this POOR rhyme       :  69%|\u001b[0;36m██████▉   \u001b[0;36m| 1489/2155 [00:40<00:10, 62.22it/s]"
     ]
    },
    {
     "name": "stderr",
     "output_type": "stream",
     "text": [
      "\r",
      "\u001b[1;34m￨ stanza 107, line 12: while HE in SULTS o'er DULL and SPEEC hless TRIBES    :  69%|\u001b[0;36m██████▉   \u001b[0;36m| 1489/2155 [00:40<00:10, 62.22it/s]"
     ]
    },
    {
     "name": "stderr",
     "output_type": "stream",
     "text": [
      "\r",
      "\u001b[1;34m￨ stanza 107, line 13: and.thou IN this SHALT.FIND thy MO nu MENT            :  69%|\u001b[0;36m██████▉   \u001b[0;36m| 1489/2155 [00:40<00:10, 62.22it/s]"
     ]
    },
    {
     "name": "stderr",
     "output_type": "stream",
     "text": [
      "\r",
      "\u001b[1;34m￨ stanza 107, line 14: when TY ran.ts' CRESTS and TOMBS of BRASS are SPENT   :  69%|\u001b[0;36m██████▉   \u001b[0;36m| 1489/2155 [00:40<00:10, 62.22it/s]"
     ]
    },
    {
     "name": "stderr",
     "output_type": "stream",
     "text": [
      "\r",
      "\u001b[1;34m￨ stanza 108, line 01: what's IN the BRAIN that INK may CHA rac TER          :  69%|\u001b[0;36m██████▉   \u001b[0;36m| 1489/2155 [00:40<00:10, 62.22it/s]"
     ]
    },
    {
     "name": "stderr",
     "output_type": "stream",
     "text": [
      "\r",
      "\u001b[1;34m￨ stanza 108, line 02: which HATH not FI gured TO thee MY true SPI rit       :  69%|\u001b[0;36m██████▉   \u001b[0;36m| 1489/2155 [00:40<00:10, 62.22it/s]"
     ]
    },
    {
     "name": "stderr",
     "output_type": "stream",
     "text": [
      "\r",
      "\u001b[1;34m￨ stanza 108, line 03: what's NEW to SPEAK what NEW to RE gis TER            :  69%|\u001b[0;36m██████▉   \u001b[0;36m| 1489/2155 [00:40<00:10, 62.22it/s]"
     ]
    },
    {
     "name": "stderr",
     "output_type": "stream",
     "text": [
      "\r",
      "\u001b[1;34m￨ stanza 108, line 04: that MAY ex PRESS my LOVE or THY dear ME rit          :  69%|\u001b[0;36m██████▉   \u001b[0;36m| 1489/2155 [00:40<00:10, 62.22it/s]"
     ]
    },
    {
     "name": "stderr",
     "output_type": "stream",
     "text": [
      "\r",
      "\u001b[1;34m￨ stanza 108, line 04: that MAY ex PRESS my LOVE or THY dear ME rit          :  70%|\u001b[0;36m██████▉   \u001b[0;36m| 1503/2155 [00:40<00:10, 60.42it/s]"
     ]
    },
    {
     "name": "stderr",
     "output_type": "stream",
     "text": [
      "\r",
      "\u001b[1;34m￨ stanza 108, line 05: NOT hing SWEET boy BUT yet.like PRAYERS di VINE       :  70%|\u001b[0;36m██████▉   \u001b[0;36m| 1503/2155 [00:40<00:10, 60.42it/s]"
     ]
    },
    {
     "name": "stderr",
     "output_type": "stream",
     "text": [
      "\r",
      "\u001b[1;34m￨ stanza 108, line 06: i MUST each DAY say O'ER the VE ry SAME               :  70%|\u001b[0;36m██████▉   \u001b[0;36m| 1503/2155 [00:40<00:10, 60.42it/s]"
     ]
    },
    {
     "name": "stderr",
     "output_type": "stream",
     "text": [
      "\r",
      "\u001b[1;34m￨ stanza 108, line 07: COUN ting NO old THING old THOU mine I thine          :  70%|\u001b[0;36m██████▉   \u001b[0;36m| 1503/2155 [00:40<00:10, 60.42it/s]"
     ]
    },
    {
     "name": "stderr",
     "output_type": "stream",
     "text": [
      "\r",
      "\u001b[1;34m￨ stanza 108, line 08: E ven AS when FIRST i HAL low'd THY fair NAME         :  70%|\u001b[0;36m██████▉   \u001b[0;36m| 1503/2155 [00:40<00:10, 60.42it/s]"
     ]
    },
    {
     "name": "stderr",
     "output_type": "stream",
     "text": [
      "\r",
      "\u001b[1;34m￨ stanza 108, line 09: so THAT e TER nal LOVE in LOVE'S fresh CASE           :  70%|\u001b[0;36m██████▉   \u001b[0;36m| 1503/2155 [00:40<00:10, 60.42it/s]"
     ]
    },
    {
     "name": "stderr",
     "output_type": "stream",
     "text": [
      "\r",
      "\u001b[1;34m￨ stanza 108, line 10: WEIGHS not.the DUST and IN ju RY of AGE               :  70%|\u001b[0;36m██████▉   \u001b[0;36m| 1503/2155 [00:40<00:10, 60.42it/s]"
     ]
    },
    {
     "name": "stderr",
     "output_type": "stream",
     "text": [
      "\r",
      "\u001b[1;34m￨ stanza 108, line 11: nor GIVES to NE ces SA ry WRIN kles PLACE             :  70%|\u001b[0;36m██████▉   \u001b[0;36m| 1503/2155 [00:40<00:10, 60.42it/s]"
     ]
    },
    {
     "name": "stderr",
     "output_type": "stream",
     "text": [
      "\r",
      "\u001b[1;34m￨ stanza 108, line 12: but MAKES an TI qui TY for AYE his PAGE               :  70%|\u001b[0;36m██████▉   \u001b[0;36m| 1503/2155 [00:40<00:10, 60.42it/s]"
     ]
    },
    {
     "name": "stderr",
     "output_type": "stream",
     "text": [
      "\r",
      "\u001b[1;34m￨ stanza 108, line 13: FIN ding.the FIRST con CEIT of LOVE there BRED        :  70%|\u001b[0;36m██████▉   \u001b[0;36m| 1503/2155 [00:40<00:10, 60.42it/s]"
     ]
    },
    {
     "name": "stderr",
     "output_type": "stream",
     "text": [
      "\r",
      "\u001b[1;34m￨ stanza 108, line 14: where TIME and OU tward FORM would SHOW it DEAD       :  70%|\u001b[0;36m██████▉   \u001b[0;36m| 1503/2155 [00:40<00:10, 60.42it/s]"
     ]
    },
    {
     "name": "stderr",
     "output_type": "stream",
     "text": [
      "\r",
      "\u001b[1;34m￨ stanza 109, line 01: o NE ver SAY that I was FALSE of HEART                :  70%|\u001b[0;36m██████▉   \u001b[0;36m| 1503/2155 [00:40<00:10, 60.42it/s]"
     ]
    },
    {
     "name": "stderr",
     "output_type": "stream",
     "text": [
      "\r",
      "\u001b[1;34m￨ stanza 109, line 02: though A bsence SEEM'D my FLAME to QUA li FY          :  70%|\u001b[0;36m██████▉   \u001b[0;36m| 1503/2155 [00:40<00:10, 60.42it/s]"
     ]
    },
    {
     "name": "stderr",
     "output_type": "stream",
     "text": [
      "\r",
      "\u001b[1;34m￨ stanza 109, line 03: as EA sy MIGHT i.from MY.SELF de PART                 :  70%|\u001b[0;36m██████▉   \u001b[0;36m| 1503/2155 [00:40<00:10, 60.42it/s]"
     ]
    },
    {
     "name": "stderr",
     "output_type": "stream",
     "text": [
      "\r",
      "\u001b[1;34m￨ stanza 109, line 04: as FROM my SOUL which IN thy BREAST doth LIE          :  70%|\u001b[0;36m██████▉   \u001b[0;36m| 1503/2155 [00:40<00:10, 60.42it/s]"
     ]
    },
    {
     "name": "stderr",
     "output_type": "stream",
     "text": [
      "\r",
      "\u001b[1;34m￨ stanza 109, line 05: that IS my HOME of LOVE if I have RANGED              :  70%|\u001b[0;36m██████▉   \u001b[0;36m| 1503/2155 [00:40<00:10, 60.42it/s]"
     ]
    },
    {
     "name": "stderr",
     "output_type": "stream",
     "text": [
      "\r",
      "\u001b[1;34m￨ stanza 109, line 06: like HIM that TRA vels I re TURN a GAIN               :  70%|\u001b[0;36m██████▉   \u001b[0;36m| 1503/2155 [00:40<00:10, 60.42it/s]"
     ]
    },
    {
     "name": "stderr",
     "output_type": "stream",
     "text": [
      "\r",
      "\u001b[1;34m￨ stanza 109, line 07: JUST to.the TIME not WITH the TIME exc HANGED         :  70%|\u001b[0;36m██████▉   \u001b[0;36m| 1503/2155 [00:40<00:10, 60.42it/s]"
     ]
    },
    {
     "name": "stderr",
     "output_type": "stream",
     "text": [
      "\r",
      "\u001b[1;34m￨ stanza 109, line 08: so THAT my SELF bring WA ter FOR my STAIN             :  70%|\u001b[0;36m██████▉   \u001b[0;36m| 1503/2155 [00:40<00:10, 60.42it/s]"
     ]
    },
    {
     "name": "stderr",
     "output_type": "stream",
     "text": [
      "\r",
      "\u001b[1;34m￨ stanza 109, line 09: NE.VER be LIEVE though IN my NA ture REIGN'D          :  70%|\u001b[0;36m██████▉   \u001b[0;36m| 1503/2155 [00:40<00:10, 60.42it/s]"
     ]
    },
    {
     "name": "stderr",
     "output_type": "stream",
     "text": [
      "\r",
      "\u001b[1;34m￨ stanza 109, line 10: all FRAIL ties THAT be SIEGE all KINDS of BLOOD       :  70%|\u001b[0;36m██████▉   \u001b[0;36m| 1503/2155 [00:40<00:10, 60.42it/s]"
     ]
    },
    {
     "name": "stderr",
     "output_type": "stream",
     "text": [
      "\r",
      "\u001b[1;34m￨ stanza 109, line 10: all FRAIL ties THAT be SIEGE all KINDS of BLOOD       :  71%|\u001b[0;36m███████   \u001b[0;36m| 1523/2155 [00:40<00:12, 51.86it/s]"
     ]
    },
    {
     "name": "stderr",
     "output_type": "stream",
     "text": [
      "\r",
      "\u001b[1;34m￨ stanza 109, line 11: that.it COULD so PRE.POS te ROU sly BE stain'd        :  71%|\u001b[0;36m███████   \u001b[0;36m| 1523/2155 [00:40<00:12, 51.86it/s]"
     ]
    },
    {
     "name": "stderr",
     "output_type": "stream",
     "text": [
      "\r",
      "\u001b[1;34m￨ stanza 109, line 12: to LEAVE for NOT hing ALL thy SUM of GOOD             :  71%|\u001b[0;36m███████   \u001b[0;36m| 1523/2155 [00:40<00:12, 51.86it/s]"
     ]
    },
    {
     "name": "stderr",
     "output_type": "stream",
     "text": [
      "\r",
      "\u001b[1;34m￨ stanza 109, line 13: for NOT hing THIS wide U ni VERSE i CALL              :  71%|\u001b[0;36m███████   \u001b[0;36m| 1523/2155 [00:40<00:12, 51.86it/s]"
     ]
    },
    {
     "name": "stderr",
     "output_type": "stream",
     "text": [
      "\r",
      "\u001b[1;34m￨ stanza 109, line 14: SAVE thou.my ROSE in IT thou ART my ALL               :  71%|\u001b[0;36m███████   \u001b[0;36m| 1523/2155 [00:41<00:12, 51.86it/s]"
     ]
    },
    {
     "name": "stderr",
     "output_type": "stream",
     "text": [
      "\r",
      "\u001b[1;34m￨ stanza 110, line 01: a LAS 'tis TRUE i.have GONE here AND there            :  71%|\u001b[0;36m███████   \u001b[0;36m| 1523/2155 [00:41<00:12, 51.86it/s]"
     ]
    },
    {
     "name": "stderr",
     "output_type": "stream",
     "text": [
      "\r",
      "\u001b[1;34m￨ stanza 110, line 02: and MADE my SELF a MO tley TO the VIEW                :  71%|\u001b[0;36m███████   \u001b[0;36m| 1523/2155 [00:41<00:12, 51.86it/s]"
     ]
    },
    {
     "name": "stderr",
     "output_type": "stream",
     "text": [
      "\r",
      "\u001b[1;34m￨ stanza 110, line 03: GORED mine.own THOUGHTS sold CHEAP what IS most DEAR  :  71%|\u001b[0;36m███████   \u001b[0;36m| 1523/2155 [00:41<00:12, 51.86it/s]"
     ]
    },
    {
     "name": "stderr",
     "output_type": "stream",
     "text": [
      "\r",
      "\u001b[1;34m￨ stanza 110, line 04: made OLD of FEN ces OF af FEC tions NEW               :  71%|\u001b[0;36m███████   \u001b[0;36m| 1523/2155 [00:41<00:12, 51.86it/s]"
     ]
    },
    {
     "name": "stderr",
     "output_type": "stream",
     "text": [
      "\r",
      "\u001b[1;34m￨ stanza 110, line 04: made OLD of FEN ces OF af FEC tions NEW               :  71%|\u001b[0;36m███████   \u001b[0;36m| 1531/2155 [00:41<00:13, 46.70it/s]"
     ]
    },
    {
     "name": "stderr",
     "output_type": "stream",
     "text": [
      "\r",
      "\u001b[1;34m￨ stanza 110, line 05: most TRUE it IS that I have LOOK'D on TRUTH           :  71%|\u001b[0;36m███████   \u001b[0;36m| 1531/2155 [00:41<00:13, 46.70it/s]"
     ]
    },
    {
     "name": "stderr",
     "output_type": "stream",
     "text": [
      "\r",
      "\u001b[1;34m￨ stanza 110, line 06: as KANCE and STRAN gely BUT by ALL a BOVE             :  71%|\u001b[0;36m███████   \u001b[0;36m| 1531/2155 [00:41<00:13, 46.70it/s]"
     ]
    },
    {
     "name": "stderr",
     "output_type": "stream",
     "text": [
      "\r",
      "\u001b[1;34m￨ stanza 110, line 07: these BLENC hes GAVE my HEART a NOT her YOUTH         :  71%|\u001b[0;36m███████   \u001b[0;36m| 1531/2155 [00:41<00:13, 46.70it/s]"
     ]
    },
    {
     "name": "stderr",
     "output_type": "stream",
     "text": [
      "\r",
      "\u001b[1;34m￨ stanza 110, line 08: and WORSE es SAYS proved THEE my BEST of LOVE         :  71%|\u001b[0;36m███████   \u001b[0;36m| 1531/2155 [00:41<00:13, 46.70it/s]"
     ]
    },
    {
     "name": "stderr",
     "output_type": "stream",
     "text": [
      "\r",
      "\u001b[1;34m￨ stanza 110, line 09: NOW all IS done HAVE what SHALL have NO end           :  71%|\u001b[0;36m███████   \u001b[0;36m| 1531/2155 [00:41<00:13, 46.70it/s]"
     ]
    },
    {
     "name": "stderr",
     "output_type": "stream",
     "text": [
      "\r",
      "\u001b[1;34m￨ stanza 110, line 10: mine AP pe TITE i NE ver MORE will GRIND              :  71%|\u001b[0;36m███████   \u001b[0;36m| 1531/2155 [00:41<00:13, 46.70it/s]"
     ]
    },
    {
     "name": "stderr",
     "output_type": "stream",
     "text": [
      "\r",
      "\u001b[1;34m￨ stanza 110, line 10: mine AP pe TITE i NE ver MORE will GRIND              :  71%|\u001b[0;36m███████▏  \u001b[0;36m| 1537/2155 [00:41<00:15, 38.76it/s]"
     ]
    },
    {
     "name": "stderr",
     "output_type": "stream",
     "text": [
      "\r",
      "\u001b[1;34m￨ stanza 110, line 11: on NE wer PROOF to TRY an OL der FRIEND               :  71%|\u001b[0;36m███████▏  \u001b[0;36m| 1537/2155 [00:41<00:15, 38.76it/s]"
     ]
    },
    {
     "name": "stderr",
     "output_type": "stream",
     "text": [
      "\r",
      "\u001b[1;34m￨ stanza 110, line 12: a GOD in LOVE to WHOM i AM con FINED                  :  71%|\u001b[0;36m███████▏  \u001b[0;36m| 1537/2155 [00:41<00:15, 38.76it/s]"
     ]
    },
    {
     "name": "stderr",
     "output_type": "stream",
     "text": [
      "\r",
      "\u001b[1;34m￨ stanza 110, line 13: then GIVE me WEL come NEXT my HEAVEN the BEST         :  71%|\u001b[0;36m███████▏  \u001b[0;36m| 1537/2155 [00:41<00:15, 38.76it/s]"
     ]
    },
    {
     "name": "stderr",
     "output_type": "stream",
     "text": [
      "\r",
      "\u001b[1;34m￨ stanza 110, line 14: E ven TO thy PURE and MOST most LO ving BREAST        :  71%|\u001b[0;36m███████▏  \u001b[0;36m| 1537/2155 [00:41<00:15, 38.76it/s]"
     ]
    },
    {
     "name": "stderr",
     "output_type": "stream",
     "text": [
      "\r",
      "\u001b[1;34m￨ stanza 111, line 01: o FOR my SAKE do YOU with FOR tune CHIDE              :  71%|\u001b[0;36m███████▏  \u001b[0;36m| 1537/2155 [00:41<00:15, 38.76it/s]"
     ]
    },
    {
     "name": "stderr",
     "output_type": "stream",
     "text": [
      "\r",
      "\u001b[1;34m￨ stanza 111, line 02: the GUIL ty GOD dess OF my HARM ful DEEDS             :  71%|\u001b[0;36m███████▏  \u001b[0;36m| 1537/2155 [00:41<00:15, 38.76it/s]"
     ]
    },
    {
     "name": "stderr",
     "output_type": "stream",
     "text": [
      "\r",
      "\u001b[1;34m￨ stanza 111, line 03: that DID not BET ter FOR my LIFE pro VIDE             :  71%|\u001b[0;36m███████▏  \u001b[0;36m| 1537/2155 [00:41<00:15, 38.76it/s]"
     ]
    },
    {
     "name": "stderr",
     "output_type": "stream",
     "text": [
      "\r",
      "\u001b[1;34m￨ stanza 111, line 04: than PU blic MEANS which PU blic MAN ners BREEDS      :  71%|\u001b[0;36m███████▏  \u001b[0;36m| 1537/2155 [00:41<00:15, 38.76it/s]"
     ]
    },
    {
     "name": "stderr",
     "output_type": "stream",
     "text": [
      "\r",
      "\u001b[1;34m￨ stanza 111, line 05: thence COMES it THAT my NAME re CEIVES a BRAND        :  71%|\u001b[0;36m███████▏  \u001b[0;36m| 1537/2155 [00:41<00:15, 38.76it/s]"
     ]
    },
    {
     "name": "stderr",
     "output_type": "stream",
     "text": [
      "\r",
      "\u001b[1;34m￨ stanza 111, line 06: and AL most THENCE my NA ture IS sub DUED             :  71%|\u001b[0;36m███████▏  \u001b[0;36m| 1537/2155 [00:41<00:15, 38.76it/s]"
     ]
    },
    {
     "name": "stderr",
     "output_type": "stream",
     "text": [
      "\r",
      "\u001b[1;34m￨ stanza 111, line 07: to WHAT it WORKS in LIKE the DYER 's HAND             :  71%|\u001b[0;36m███████▏  \u001b[0;36m| 1537/2155 [00:41<00:15, 38.76it/s]"
     ]
    },
    {
     "name": "stderr",
     "output_type": "stream",
     "text": [
      "\r",
      "\u001b[1;34m￨ stanza 111, line 08: PI ty ME then.and WISH i WERE re NEW'D                :  71%|\u001b[0;36m███████▏  \u001b[0;36m| 1537/2155 [00:41<00:15, 38.76it/s]"
     ]
    },
    {
     "name": "stderr",
     "output_type": "stream",
     "text": [
      "\r",
      "\u001b[1;34m￨ stanza 111, line 09: WHILST like.a WIL ling PA tient I will DRINK          :  71%|\u001b[0;36m███████▏  \u001b[0;36m| 1537/2155 [00:41<00:15, 38.76it/s]"
     ]
    },
    {
     "name": "stderr",
     "output_type": "stream",
     "text": [
      "\r",
      "\u001b[1;34m￨ stanza 111, line 10: PO tions.of EI sel 'GAINST my STRONG in FEC tion      :  71%|\u001b[0;36m███████▏  \u001b[0;36m| 1537/2155 [00:41<00:15, 38.76it/s]"
     ]
    },
    {
     "name": "stderr",
     "output_type": "stream",
     "text": [
      "\r",
      "\u001b[1;34m￨ stanza 111, line 11: no BIT ter NESS that I will BIT ter THINK             :  71%|\u001b[0;36m███████▏  \u001b[0;36m| 1537/2155 [00:41<00:15, 38.76it/s]"
     ]
    },
    {
     "name": "stderr",
     "output_type": "stream",
     "text": [
      "\r",
      "\u001b[1;34m￨ stanza 111, line 12: nor DOU ble PE nance TO cor RECT cor REC tion         :  71%|\u001b[0;36m███████▏  \u001b[0;36m| 1537/2155 [00:41<00:15, 38.76it/s]"
     ]
    },
    {
     "name": "stderr",
     "output_type": "stream",
     "text": [
      "\r",
      "\u001b[1;34m￨ stanza 111, line 13: PI.TY me THEN dear FRIEND and I as SURE ye            :  71%|\u001b[0;36m███████▏  \u001b[0;36m| 1537/2155 [00:41<00:15, 38.76it/s]"
     ]
    },
    {
     "name": "stderr",
     "output_type": "stream",
     "text": [
      "\r",
      "\u001b[1;34m￨ stanza 111, line 14: E ven THAT your PI ty IS e NOUGH to CURE me           :  71%|\u001b[0;36m███████▏  \u001b[0;36m| 1537/2155 [00:41<00:15, 38.76it/s]"
     ]
    },
    {
     "name": "stderr",
     "output_type": "stream",
     "text": [
      "\r",
      "\u001b[1;34m￨ stanza 111, line 14: E ven THAT your PI ty IS e NOUGH to CURE me           :  72%|\u001b[0;36m███████▏  \u001b[0;36m| 1555/2155 [00:41<00:11, 51.75it/s]"
     ]
    },
    {
     "name": "stderr",
     "output_type": "stream",
     "text": [
      "\r",
      "\u001b[1;34m￨ stanza 112, line 01: your LOVE and PI.TY doth THE im PRES sion FILL        :  72%|\u001b[0;36m███████▏  \u001b[0;36m| 1555/2155 [00:41<00:11, 51.75it/s]"
     ]
    },
    {
     "name": "stderr",
     "output_type": "stream",
     "text": [
      "\r",
      "\u001b[1;34m￨ stanza 112, line 02: which VUL gar SCAN dal STAMP'D u PON my BROW          :  72%|\u001b[0;36m███████▏  \u001b[0;36m| 1555/2155 [00:41<00:11, 51.75it/s]"
     ]
    },
    {
     "name": "stderr",
     "output_type": "stream",
     "text": [
      "\r",
      "\u001b[1;34m￨ stanza 112, line 03: for.what CARE i.who CALLS me WELL or ILL              :  72%|\u001b[0;36m███████▏  \u001b[0;36m| 1555/2155 [00:41<00:11, 51.75it/s]"
     ]
    },
    {
     "name": "stderr",
     "output_type": "stream",
     "text": [
      "\r",
      "\u001b[1;34m￨ stanza 112, line 04: so YOU o'er GREEN my BAD my GOOD al LOW               :  72%|\u001b[0;36m███████▏  \u001b[0;36m| 1555/2155 [00:41<00:11, 51.75it/s]"
     ]
    },
    {
     "name": "stderr",
     "output_type": "stream",
     "text": [
      "\r",
      "\u001b[1;34m￨ stanza 112, line 05: YOU are.my ALL the WORLD and I must STRIVE            :  72%|\u001b[0;36m███████▏  \u001b[0;36m| 1555/2155 [00:41<00:11, 51.75it/s]"
     ]
    },
    {
     "name": "stderr",
     "output_type": "stream",
     "text": [
      "\r",
      "\u001b[1;34m￨ stanza 112, line 06: to KNOW my SHAMES and PRAI ses FROM your TONGUE       :  72%|\u001b[0;36m███████▏  \u001b[0;36m| 1555/2155 [00:41<00:11, 51.75it/s]"
     ]
    },
    {
     "name": "stderr",
     "output_type": "stream",
     "text": [
      "\r",
      "\u001b[1;34m￨ stanza 112, line 07: none ELSE to ME nor I to NONE a LIVE                  :  72%|\u001b[0;36m███████▏  \u001b[0;36m| 1555/2155 [00:41<00:11, 51.75it/s]"
     ]
    },
    {
     "name": "stderr",
     "output_type": "stream",
     "text": [
      "\r",
      "\u001b[1;34m￨ stanza 112, line 08: that.my STEEL'D.SENSE or CHAN ges RIGHT or WRONG      :  72%|\u001b[0;36m███████▏  \u001b[0;36m| 1555/2155 [00:41<00:11, 51.75it/s]"
     ]
    },
    {
     "name": "stderr",
     "output_type": "stream",
     "text": [
      "\r",
      "\u001b[1;34m￨ stanza 112, line 09: in SO pro FOUND a BY.SM i THROW all CARE              :  72%|\u001b[0;36m███████▏  \u001b[0;36m| 1555/2155 [00:41<00:11, 51.75it/s]"
     ]
    },
    {
     "name": "stderr",
     "output_type": "stream",
     "text": [
      "\r",
      "\u001b[1;34m￨ stanza 112, line 10: of OT hers' VOI ces THAT my AD der's SENSE            :  72%|\u001b[0;36m███████▏  \u001b[0;36m| 1555/2155 [00:41<00:11, 51.75it/s]"
     ]
    },
    {
     "name": "stderr",
     "output_type": "stream",
     "text": [
      "\r",
      "\u001b[1;34m￨ stanza 112, line 11: to CRI tic AND to FLAT te.rer STOPPED are             :  72%|\u001b[0;36m███████▏  \u001b[0;36m| 1555/2155 [00:41<00:11, 51.75it/s]"
     ]
    },
    {
     "name": "stderr",
     "output_type": "stream",
     "text": [
      "\r",
      "\u001b[1;34m￨ stanza 112, line 12: MARK how.with MY ne GLECT i DO dis PENSE              :  72%|\u001b[0;36m███████▏  \u001b[0;36m| 1555/2155 [00:41<00:11, 51.75it/s]"
     ]
    },
    {
     "name": "stderr",
     "output_type": "stream",
     "text": [
      "\r",
      "\u001b[1;34m￨ stanza 112, line 13: YOU are.so STRON gly IN my PUR pose BRED              :  72%|\u001b[0;36m███████▏  \u001b[0;36m| 1555/2155 [00:41<00:11, 51.75it/s]"
     ]
    },
    {
     "name": "stderr",
     "output_type": "stream",
     "text": [
      "\r",
      "\u001b[1;34m￨ stanza 112, line 14: that ALL the WORLD be SIDES met HINKS are DEAD        :  72%|\u001b[0;36m███████▏  \u001b[0;36m| 1555/2155 [00:41<00:11, 51.75it/s]"
     ]
    },
    {
     "name": "stderr",
     "output_type": "stream",
     "text": [
      "\r",
      "\u001b[1;34m￨ stanza 113, line 01: since.i LEFT you.mine EYE is IN my MIND               :  72%|\u001b[0;36m███████▏  \u001b[0;36m| 1555/2155 [00:41<00:11, 51.75it/s]"
     ]
    },
    {
     "name": "stderr",
     "output_type": "stream",
     "text": [
      "\r",
      "\u001b[1;34m￨ stanza 113, line 02: and THAT which GO verns ME to GO a BOUT               :  72%|\u001b[0;36m███████▏  \u001b[0;36m| 1555/2155 [00:41<00:11, 51.75it/s]"
     ]
    },
    {
     "name": "stderr",
     "output_type": "stream",
     "text": [
      "\r",
      "\u001b[1;34m￨ stanza 113, line 03: doth PART his FUNC tion AND is PAR tly BLIND          :  72%|\u001b[0;36m███████▏  \u001b[0;36m| 1555/2155 [00:42<00:11, 51.75it/s]"
     ]
    },
    {
     "name": "stderr",
     "output_type": "stream",
     "text": [
      "\r",
      "\u001b[1;34m￨ stanza 113, line 03: doth PART his FUNC tion AND is PAR tly BLIND          :  73%|\u001b[0;36m███████▎  \u001b[0;36m| 1572/2155 [00:42<00:11, 49.16it/s]"
     ]
    },
    {
     "name": "stderr",
     "output_type": "stream",
     "text": [
      "\r",
      "\u001b[1;34m￨ stanza 113, line 04: seems SEE ing BUT ef FEC tual LY is.out               :  73%|\u001b[0;36m███████▎  \u001b[0;36m| 1572/2155 [00:42<00:11, 49.16it/s]"
     ]
    },
    {
     "name": "stderr",
     "output_type": "stream",
     "text": [
      "\r",
      "\u001b[1;34m￨ stanza 113, line 05: for IT no FORM de LI vers TO the HEART                :  73%|\u001b[0;36m███████▎  \u001b[0;36m| 1572/2155 [00:42<00:11, 49.16it/s]"
     ]
    },
    {
     "name": "stderr",
     "output_type": "stream",
     "text": [
      "\r",
      "\u001b[1;34m￨ stanza 113, line 06: of BIRD of FLO wer.or SHAPE which IT doth LATCH       :  73%|\u001b[0;36m███████▎  \u001b[0;36m| 1572/2155 [00:42<00:11, 49.16it/s]"
     ]
    },
    {
     "name": "stderr",
     "output_type": "stream",
     "text": [
      "\r",
      "\u001b[1;34m￨ stanza 113, line 07: of.his QUICK ob JECTS hath.the MIND no PART           :  73%|\u001b[0;36m███████▎  \u001b[0;36m| 1572/2155 [00:42<00:11, 49.16it/s]"
     ]
    },
    {
     "name": "stderr",
     "output_type": "stream",
     "text": [
      "\r",
      "\u001b[1;34m￨ stanza 113, line 08: nor HIS own VI sion HOLDS what IT doth CATCH          :  73%|\u001b[0;36m███████▎  \u001b[0;36m| 1572/2155 [00:42<00:11, 49.16it/s]"
     ]
    },
    {
     "name": "stderr",
     "output_type": "stream",
     "text": [
      "\r",
      "\u001b[1;34m￨ stanza 113, line 09: FOR if.it SEE the RU.DEST or GEN tl.est SIGHT         :  73%|\u001b[0;36m███████▎  \u001b[0;36m| 1572/2155 [00:42<00:11, 49.16it/s]"
     ]
    },
    {
     "name": "stderr",
     "output_type": "stream",
     "text": [
      "\r",
      "\u001b[1;34m￨ stanza 113, line 10: the MOST sweet FA vour OR de FOR med'st CREA ture     :  73%|\u001b[0;36m███████▎  \u001b[0;36m| 1572/2155 [00:42<00:11, 49.16it/s]"
     ]
    },
    {
     "name": "stderr",
     "output_type": "stream",
     "text": [
      "\r",
      "\u001b[1;34m￨ stanza 113, line 11: the MOUN tain OR the SEA the DAY or NIGHT             :  73%|\u001b[0;36m███████▎  \u001b[0;36m| 1572/2155 [00:42<00:11, 49.16it/s]"
     ]
    },
    {
     "name": "stderr",
     "output_type": "stream",
     "text": [
      "\r",
      "\u001b[1;34m￨ stanza 113, line 12: the CROW or DOVE it SHAPES them TO your FEA ture      :  73%|\u001b[0;36m███████▎  \u001b[0;36m| 1572/2155 [00:42<00:11, 49.16it/s]"
     ]
    },
    {
     "name": "stderr",
     "output_type": "stream",
     "text": [
      "\r",
      "\u001b[1;34m￨ stanza 113, line 13: in CA pa BLE of MORE re PLETE with YOU                :  73%|\u001b[0;36m███████▎  \u001b[0;36m| 1572/2155 [00:42<00:11, 49.16it/s]"
     ]
    },
    {
     "name": "stderr",
     "output_type": "stream",
     "text": [
      "\r",
      "\u001b[1;34m￨ stanza 113, line 14: my MOST true MIND thus MAKES mine EYE un TRUE         :  73%|\u001b[0;36m███████▎  \u001b[0;36m| 1572/2155 [00:42<00:11, 49.16it/s]"
     ]
    },
    {
     "name": "stderr",
     "output_type": "stream",
     "text": [
      "\r",
      "\u001b[1;34m￨ stanza 114, line 01: or WHET her DOTH my MIND be.ing CROWN'D with YOU      :  73%|\u001b[0;36m███████▎  \u001b[0;36m| 1572/2155 [00:42<00:11, 49.16it/s]"
     ]
    },
    {
     "name": "stderr",
     "output_type": "stream",
     "text": [
      "\r",
      "\u001b[1;34m￨ stanza 114, line 02: DRINK up.the MO narch's PLAGUE this FLAT te RY        :  73%|\u001b[0;36m███████▎  \u001b[0;36m| 1572/2155 [00:42<00:11, 49.16it/s]"
     ]
    },
    {
     "name": "stderr",
     "output_type": "stream",
     "text": [
      "\r",
      "\u001b[1;34m￨ stanza 114, line 03: or WHET her SHALL i SAY mine EYE saith TRUE           :  73%|\u001b[0;36m███████▎  \u001b[0;36m| 1572/2155 [00:42<00:11, 49.16it/s]"
     ]
    },
    {
     "name": "stderr",
     "output_type": "stream",
     "text": [
      "\r",
      "\u001b[1;34m￨ stanza 114, line 04: and THAT your LOVE taught IT this ALC he MY           :  73%|\u001b[0;36m███████▎  \u001b[0;36m| 1572/2155 [00:42<00:11, 49.16it/s]"
     ]
    },
    {
     "name": "stderr",
     "output_type": "stream",
     "text": [
      "\r",
      "\u001b[1;34m￨ stanza 114, line 04: and THAT your LOVE taught IT this ALC he MY           :  74%|\u001b[0;36m███████▎  \u001b[0;36m| 1587/2155 [00:42<00:11, 50.47it/s]"
     ]
    },
    {
     "name": "stderr",
     "output_type": "stream",
     "text": [
      "\r",
      "\u001b[1;34m￨ stanza 114, line 05: to MAKE of MONS ters AND things IN di GEST            :  74%|\u001b[0;36m███████▎  \u001b[0;36m| 1587/2155 [00:42<00:11, 50.47it/s]"
     ]
    },
    {
     "name": "stderr",
     "output_type": "stream",
     "text": [
      "\r",
      "\u001b[1;34m￨ stanza 114, line 06: such CHE ru BINS as YOUR sweet SELF re SEM ble        :  74%|\u001b[0;36m███████▎  \u001b[0;36m| 1587/2155 [00:42<00:11, 50.47it/s]"
     ]
    },
    {
     "name": "stderr",
     "output_type": "stream",
     "text": [
      "\r",
      "\u001b[1;34m￨ stanza 114, line 07: crea TI ng E very BAD a PER fect BEST                 :  74%|\u001b[0;36m███████▎  \u001b[0;36m| 1587/2155 [00:42<00:11, 50.47it/s]"
     ]
    },
    {
     "name": "stderr",
     "output_type": "stream",
     "text": [
      "\r",
      "\u001b[1;34m￨ stanza 114, line 08: as FAST as OB jects TO his BEAMS as SEM ble           :  74%|\u001b[0;36m███████▎  \u001b[0;36m| 1587/2155 [00:42<00:11, 50.47it/s]"
     ]
    },
    {
     "name": "stderr",
     "output_type": "stream",
     "text": [
      "\r",
      "\u001b[1;34m￨ stanza 114, line 09: o 'TIS the FIRST 'tis FLAT te RY in.my SEE ing        :  74%|\u001b[0;36m███████▎  \u001b[0;36m| 1587/2155 [00:42<00:11, 50.47it/s]"
     ]
    },
    {
     "name": "stderr",
     "output_type": "stream",
     "text": [
      "\r",
      "\u001b[1;34m￨ stanza 114, line 10: and MY great MIND most KIN gly DRINKS it.up           :  74%|\u001b[0;36m███████▎  \u001b[0;36m| 1587/2155 [00:42<00:11, 50.47it/s]"
     ]
    },
    {
     "name": "stderr",
     "output_type": "stream",
     "text": [
      "\r",
      "\u001b[1;34m￨ stanza 114, line 11: mine EYE well KNOWS what WITH his GUST is 'GREE ing   :  74%|\u001b[0;36m███████▎  \u001b[0;36m| 1587/2155 [00:42<00:11, 50.47it/s]"
     ]
    },
    {
     "name": "stderr",
     "output_type": "stream",
     "text": [
      "\r",
      "\u001b[1;34m￨ stanza 114, line 11: mine EYE well KNOWS what WITH his GUST is 'GREE ing   :  74%|\u001b[0;36m███████▍  \u001b[0;36m| 1594/2155 [00:42<00:10, 52.81it/s]"
     ]
    },
    {
     "name": "stderr",
     "output_type": "stream",
     "text": [
      "\r",
      "\u001b[1;34m￨ stanza 114, line 12: and TO his PA late DOTH pre PARE the CUP              :  74%|\u001b[0;36m███████▍  \u001b[0;36m| 1594/2155 [00:42<00:10, 52.81it/s]"
     ]
    },
    {
     "name": "stderr",
     "output_type": "stream",
     "text": [
      "\r",
      "\u001b[1;34m￨ stanza 114, line 13: if IT be POI son'd 'TIS the LES ser SIN               :  74%|\u001b[0;36m███████▍  \u001b[0;36m| 1594/2155 [00:42<00:10, 52.81it/s]"
     ]
    },
    {
     "name": "stderr",
     "output_type": "stream",
     "text": [
      "\r",
      "\u001b[1;34m￨ stanza 114, line 14: that.mine EYE loves IT and.doth FIRST be GIN          :  74%|\u001b[0;36m███████▍  \u001b[0;36m| 1594/2155 [00:42<00:10, 52.81it/s]"
     ]
    },
    {
     "name": "stderr",
     "output_type": "stream",
     "text": [
      "\r",
      "\u001b[1;34m￨ stanza 115, line 01: those LINES that I be FORE have WRIT do LIE           :  74%|\u001b[0;36m███████▍  \u001b[0;36m| 1594/2155 [00:42<00:10, 52.81it/s]"
     ]
    },
    {
     "name": "stderr",
     "output_type": "stream",
     "text": [
      "\r",
      "\u001b[1;34m￨ stanza 115, line 02: E ven THOSE that SAID i COULD not LOVE you DEA r ER   :  74%|\u001b[0;36m███████▍  \u001b[0;36m| 1594/2155 [00:42<00:10, 52.81it/s]"
     ]
    },
    {
     "name": "stderr",
     "output_type": "stream",
     "text": [
      "\r",
      "\u001b[1;34m￨ stanza 115, line 03: yet THEN my JUD gment KNEW no REA son WHY             :  74%|\u001b[0;36m███████▍  \u001b[0;36m| 1594/2155 [00:42<00:10, 52.81it/s]"
     ]
    },
    {
     "name": "stderr",
     "output_type": "stream",
     "text": [
      "\r",
      "\u001b[1;34m￨ stanza 115, line 04: my MOST full FLAME should AF ter WARDS burn CLEA rer  :  74%|\u001b[0;36m███████▍  \u001b[0;36m| 1594/2155 [00:42<00:10, 52.81it/s]"
     ]
    },
    {
     "name": "stderr",
     "output_type": "stream",
     "text": [
      "\r",
      "\u001b[1;34m￨ stanza 115, line 04: my MOST full FLAME should AF ter WARDS burn CLEA rer  :  74%|\u001b[0;36m███████▍  \u001b[0;36m| 1601/2155 [00:42<00:16, 32.82it/s]"
     ]
    },
    {
     "name": "stderr",
     "output_type": "stream",
     "text": [
      "\r",
      "\u001b[1;34m￨ stanza 115, line 05: but REC koning TIME whose MIL lion'd AC ci DENTS      :  74%|\u001b[0;36m███████▍  \u001b[0;36m| 1601/2155 [00:42<00:16, 32.82it/s]"
     ]
    },
    {
     "name": "stderr",
     "output_type": "stream",
     "text": [
      "\r",
      "\u001b[1;34m￨ stanza 115, line 06: CREEP in 'TWIXT.VOWS and CHANGE de CREES of KINGS     :  74%|\u001b[0;36m███████▍  \u001b[0;36m| 1601/2155 [00:42<00:16, 32.82it/s]"
     ]
    },
    {
     "name": "stderr",
     "output_type": "stream",
     "text": [
      "\r",
      "\u001b[1;34m￨ stanza 115, line 07: tan SA cred BEA uty BLUNT the SHARP'ST in TENTS       :  74%|\u001b[0;36m███████▍  \u001b[0;36m| 1601/2155 [00:42<00:16, 32.82it/s]"
     ]
    },
    {
     "name": "stderr",
     "output_type": "stream",
     "text": [
      "\r",
      "\u001b[1;34m￨ stanza 115, line 08: di VERT strong MINDS to.the COURSE of AL te.ring THING:  74%|\u001b[0;36m███████▍  \u001b[0;36m| 1601/2155 [00:42<00:16, 32.82it/s]"
     ]
    },
    {
     "name": "stderr",
     "output_type": "stream",
     "text": [
      "\r",
      "\u001b[1;34m￨ stanza 115, line 09: a LAS why FEA ring OF time's TY ran NY                :  74%|\u001b[0;36m███████▍  \u001b[0;36m| 1601/2155 [00:42<00:16, 32.82it/s]"
     ]
    },
    {
     "name": "stderr",
     "output_type": "stream",
     "text": [
      "\r",
      "\u001b[1;34m￨ stanza 115, line 10: might.i NOT then SAY.'NOW i LOVE you BEST             :  74%|\u001b[0;36m███████▍  \u001b[0;36m| 1601/2155 [00:42<00:16, 32.82it/s]"
     ]
    },
    {
     "name": "stderr",
     "output_type": "stream",
     "text": [
      "\r",
      "\u001b[1;34m￨ stanza 115, line 11: when I was CER tain O'ER in CER tain TY               :  74%|\u001b[0;36m███████▍  \u001b[0;36m| 1601/2155 [00:43<00:16, 32.82it/s]"
     ]
    },
    {
     "name": "stderr",
     "output_type": "stream",
     "text": [
      "\r",
      "\u001b[1;34m￨ stanza 115, line 12: CROW ning.the PRE sent DOUB ting OF the REST          :  74%|\u001b[0;36m███████▍  \u001b[0;36m| 1601/2155 [00:43<00:16, 32.82it/s]"
     ]
    },
    {
     "name": "stderr",
     "output_type": "stream",
     "text": [
      "\r",
      "\u001b[1;34m￨ stanza 115, line 13: LOVE is.a BABE then.might I not SAY so                :  74%|\u001b[0;36m███████▍  \u001b[0;36m| 1601/2155 [00:43<00:16, 32.82it/s]"
     ]
    },
    {
     "name": "stderr",
     "output_type": "stream",
     "text": [
      "\r",
      "\u001b[1;34m￨ stanza 115, line 14: to GIVE full GROWTH to THAT which STILL doth GROW     :  74%|\u001b[0;36m███████▍  \u001b[0;36m| 1601/2155 [00:43<00:16, 32.82it/s]"
     ]
    },
    {
     "name": "stderr",
     "output_type": "stream",
     "text": [
      "\r",
      "\u001b[1;34m￨ stanza 116, line 01: LET me NOT to.the MAR riage OF true MINDS             :  74%|\u001b[0;36m███████▍  \u001b[0;36m| 1601/2155 [00:43<00:16, 32.82it/s]"
     ]
    },
    {
     "name": "stderr",
     "output_type": "stream",
     "text": [
      "\r",
      "\u001b[1;34m￨ stanza 116, line 02: a DMIT im PE di.ments LOVE is.not LOVE                :  74%|\u001b[0;36m███████▍  \u001b[0;36m| 1601/2155 [00:43<00:16, 32.82it/s]"
     ]
    },
    {
     "name": "stderr",
     "output_type": "stream",
     "text": [
      "\r",
      "\u001b[1;34m￨ stanza 116, line 03: which AL ters WHEN it AL te RA tion FINDS             :  74%|\u001b[0;36m███████▍  \u001b[0;36m| 1601/2155 [00:43<00:16, 32.82it/s]"
     ]
    },
    {
     "name": "stderr",
     "output_type": "stream",
     "text": [
      "\r",
      "\u001b[1;34m￨ stanza 116, line 04: or BENDS with THE re MO ver TO re MOVE                :  74%|\u001b[0;36m███████▍  \u001b[0;36m| 1601/2155 [00:43<00:16, 32.82it/s]"
     ]
    },
    {
     "name": "stderr",
     "output_type": "stream",
     "text": [
      "\r",
      "\u001b[1;34m￨ stanza 116, line 05: o NO it IS an E ver FIXED mark                        :  74%|\u001b[0;36m███████▍  \u001b[0;36m| 1601/2155 [00:43<00:16, 32.82it/s]"
     ]
    },
    {
     "name": "stderr",
     "output_type": "stream",
     "text": [
      "\r",
      "\u001b[1;34m￨ stanza 116, line 06: that LOOKS on TEM pests AND is NE ver SHA ken         :  74%|\u001b[0;36m███████▍  \u001b[0;36m| 1601/2155 [00:43<00:16, 32.82it/s]"
     ]
    },
    {
     "name": "stderr",
     "output_type": "stream",
     "text": [
      "\r",
      "\u001b[1;34m￨ stanza 116, line 07: it IS the STAR to E very WAN de.ring BARK             :  74%|\u001b[0;36m███████▍  \u001b[0;36m| 1601/2155 [00:43<00:16, 32.82it/s]"
     ]
    },
    {
     "name": "stderr",
     "output_type": "stream",
     "text": [
      "\r",
      "\u001b[1;34m￨ stanza 116, line 08: whose WORTH'S un KNOWN alt HOUGH his HEIGHT be TA ken :  74%|\u001b[0;36m███████▍  \u001b[0;36m| 1601/2155 [00:43<00:16, 32.82it/s]"
     ]
    },
    {
     "name": "stderr",
     "output_type": "stream",
     "text": [
      "\r",
      "\u001b[1;34m￨ stanza 116, line 08: whose WORTH'S un KNOWN alt HOUGH his HEIGHT be TA ken :  75%|\u001b[0;36m███████▌  \u001b[0;36m| 1619/2155 [00:43<00:11, 45.22it/s]"
     ]
    },
    {
     "name": "stderr",
     "output_type": "stream",
     "text": [
      "\r",
      "\u001b[1;34m￨ stanza 116, line 09: LOVE'S not TIME'S.FOOL though RO sy LIPS and CHEEKS   :  75%|\u001b[0;36m███████▌  \u001b[0;36m| 1619/2155 [00:43<00:11, 45.22it/s]"
     ]
    },
    {
     "name": "stderr",
     "output_type": "stream",
     "text": [
      "\r",
      "\u001b[1;34m￨ stanza 116, line 10: wit HIN his BEN ding SIC kle's COM pass COME          :  75%|\u001b[0;36m███████▌  \u001b[0;36m| 1619/2155 [00:43<00:11, 45.22it/s]"
     ]
    },
    {
     "name": "stderr",
     "output_type": "stream",
     "text": [
      "\r",
      "\u001b[1;34m￨ stanza 116, line 11: love AL ters NOT with HIS brief HOURS and WEEKS       :  75%|\u001b[0;36m███████▌  \u001b[0;36m| 1619/2155 [00:43<00:11, 45.22it/s]"
     ]
    },
    {
     "name": "stderr",
     "output_type": "stream",
     "text": [
      "\r",
      "\u001b[1;34m￨ stanza 116, line 12: but BEARS it.out E ven TO the EDGE of DOOM            :  75%|\u001b[0;36m███████▌  \u001b[0;36m| 1619/2155 [00:43<00:11, 45.22it/s]"
     ]
    },
    {
     "name": "stderr",
     "output_type": "stream",
     "text": [
      "\r",
      "\u001b[1;34m￨ stanza 116, line 13: if THIS be ER ror AND u PON me PROVED                 :  75%|\u001b[0;36m███████▌  \u001b[0;36m| 1619/2155 [00:43<00:11, 45.22it/s]"
     ]
    },
    {
     "name": "stderr",
     "output_type": "stream",
     "text": [
      "\r",
      "\u001b[1;34m￨ stanza 116, line 14: i NE ver WRIT nor NO man E ver LOVED                  :  75%|\u001b[0;36m███████▌  \u001b[0;36m| 1619/2155 [00:43<00:11, 45.22it/s]"
     ]
    },
    {
     "name": "stderr",
     "output_type": "stream",
     "text": [
      "\r",
      "\u001b[1;34m￨ stanza 117, line 01: ac CUSE me THUS that I have SCAN ted ALL              :  75%|\u001b[0;36m███████▌  \u001b[0;36m| 1619/2155 [00:43<00:11, 45.22it/s]"
     ]
    },
    {
     "name": "stderr",
     "output_type": "stream",
     "text": [
      "\r",
      "\u001b[1;34m￨ stanza 117, line 01: ac CUSE me THUS that I have SCAN ted ALL              :  75%|\u001b[0;36m███████▌  \u001b[0;36m| 1626/2155 [00:43<00:17, 30.36it/s]"
     ]
    },
    {
     "name": "stderr",
     "output_type": "stream",
     "text": [
      "\r",
      "\u001b[1;34m￨ stanza 117, line 02: whe REIN i SHOULD your GREAT de SERTS re PAY          :  75%|\u001b[0;36m███████▌  \u001b[0;36m| 1626/2155 [00:43<00:17, 30.36it/s]"
     ]
    },
    {
     "name": "stderr",
     "output_type": "stream",
     "text": [
      "\r",
      "\u001b[1;34m￨ stanza 117, line 03: for GOT u PON your DEA rest LOVE to CALL              :  75%|\u001b[0;36m███████▌  \u001b[0;36m| 1626/2155 [00:43<00:17, 30.36it/s]"
     ]
    },
    {
     "name": "stderr",
     "output_type": "stream",
     "text": [
      "\r",
      "\u001b[1;34m￨ stanza 117, line 04: WHE reto.all BONDS do TIE me DAY by DAY               :  75%|\u001b[0;36m███████▌  \u001b[0;36m| 1626/2155 [00:43<00:17, 30.36it/s]"
     ]
    },
    {
     "name": "stderr",
     "output_type": "stream",
     "text": [
      "\r",
      "\u001b[1;34m￨ stanza 117, line 05: that I have FRE quent BEEN with UN known MINDS        :  75%|\u001b[0;36m███████▌  \u001b[0;36m| 1626/2155 [00:43<00:17, 30.36it/s]"
     ]
    },
    {
     "name": "stderr",
     "output_type": "stream",
     "text": [
      "\r",
      "\u001b[1;34m￨ stanza 117, line 06: and GI.VEN to TIME your OWN dear PURC hased RIGHT     :  75%|\u001b[0;36m███████▌  \u001b[0;36m| 1626/2155 [00:43<00:17, 30.36it/s]"
     ]
    },
    {
     "name": "stderr",
     "output_type": "stream",
     "text": [
      "\r",
      "\u001b[1;34m￨ stanza 117, line 07: that I have HOIS ted SAIL to ALL the WINDS            :  75%|\u001b[0;36m███████▌  \u001b[0;36m| 1626/2155 [00:43<00:17, 30.36it/s]"
     ]
    },
    {
     "name": "stderr",
     "output_type": "stream",
     "text": [
      "\r",
      "\u001b[1;34m￨ stanza 117, line 08: which SHOULD trans PORT me FART hest FROM your SIGHT  :  75%|\u001b[0;36m███████▌  \u001b[0;36m| 1626/2155 [00:43<00:17, 30.36it/s]"
     ]
    },
    {
     "name": "stderr",
     "output_type": "stream",
     "text": [
      "\r",
      "\u001b[1;34m￨ stanza 117, line 09: book BOTH my WIL ful NESS and ER rors DOWN            :  75%|\u001b[0;36m███████▌  \u001b[0;36m| 1626/2155 [00:43<00:17, 30.36it/s]"
     ]
    },
    {
     "name": "stderr",
     "output_type": "stream",
     "text": [
      "\r",
      "\u001b[1;34m￨ stanza 117, line 10: and ON just PROOF sur MISE ac CU mu LATE              :  75%|\u001b[0;36m███████▌  \u001b[0;36m| 1626/2155 [00:43<00:17, 30.36it/s]"
     ]
    },
    {
     "name": "stderr",
     "output_type": "stream",
     "text": [
      "\r",
      "\u001b[1;34m￨ stanza 117, line 11: bring ME wit HIN the LE vel OF your FROWN             :  75%|\u001b[0;36m███████▌  \u001b[0;36m| 1626/2155 [00:43<00:17, 30.36it/s]"
     ]
    },
    {
     "name": "stderr",
     "output_type": "stream",
     "text": [
      "\r",
      "\u001b[1;34m￨ stanza 117, line 12: but SHOOT not AT me IN your WA ken'd HATE             :  75%|\u001b[0;36m███████▌  \u001b[0;36m| 1626/2155 [00:43<00:17, 30.36it/s]"
     ]
    },
    {
     "name": "stderr",
     "output_type": "stream",
     "text": [
      "\r",
      "\u001b[1;34m￨ stanza 117, line 13: since MY ap PEAL says I did STRIVE to PROVE           :  75%|\u001b[0;36m███████▌  \u001b[0;36m| 1626/2155 [00:43<00:17, 30.36it/s]"
     ]
    },
    {
     "name": "stderr",
     "output_type": "stream",
     "text": [
      "\r",
      "\u001b[1;34m￨ stanza 117, line 14: the CONS tan CY and VIR tue OF your LOVE              :  75%|\u001b[0;36m███████▌  \u001b[0;36m| 1626/2155 [00:43<00:17, 30.36it/s]"
     ]
    },
    {
     "name": "stderr",
     "output_type": "stream",
     "text": [
      "\r",
      "\u001b[1;34m￨ stanza 118, line 01: LIKE as.to MAKE our AP pe TITES more KEEN             :  75%|\u001b[0;36m███████▌  \u001b[0;36m| 1626/2155 [00:43<00:17, 30.36it/s]"
     ]
    },
    {
     "name": "stderr",
     "output_type": "stream",
     "text": [
      "\r",
      "\u001b[1;34m￨ stanza 118, line 02: with EA ger COM pounds WE our PA late URGE            :  75%|\u001b[0;36m███████▌  \u001b[0;36m| 1626/2155 [00:43<00:17, 30.36it/s]"
     ]
    },
    {
     "name": "stderr",
     "output_type": "stream",
     "text": [
      "\r",
      "\u001b[1;34m￨ stanza 118, line 03: as TO pre VENT our MA la DIES un SEEN                 :  75%|\u001b[0;36m███████▌  \u001b[0;36m| 1626/2155 [00:43<00:17, 30.36it/s]"
     ]
    },
    {
     "name": "stderr",
     "output_type": "stream",
     "text": [
      "\r",
      "\u001b[1;34m￨ stanza 118, line 04: we SIC ken TO shun SIC kness WHEN we PURGE            :  75%|\u001b[0;36m███████▌  \u001b[0;36m| 1626/2155 [00:43<00:17, 30.36it/s]"
     ]
    },
    {
     "name": "stderr",
     "output_type": "stream",
     "text": [
      "\r",
      "\u001b[1;34m￨ stanza 118, line 05: E.VEN so BE ing FULL of YOUR ne'er CLOY ing SWEE tness:  75%|\u001b[0;36m███████▌  \u001b[0;36m| 1626/2155 [00:43<00:17, 30.36it/s]"
     ]
    },
    {
     "name": "stderr",
     "output_type": "stream",
     "text": [
      "\r",
      "\u001b[1;34m￨ stanza 118, line 06: to BIT ter SAU ces DID i FRAME my FEE ding            :  75%|\u001b[0;36m███████▌  \u001b[0;36m| 1626/2155 [00:43<00:17, 30.36it/s]"
     ]
    },
    {
     "name": "stderr",
     "output_type": "stream",
     "text": [
      "\r",
      "\u001b[1;34m￨ stanza 118, line 07: and SICK of WEL fare FOUND a KIND of MEE tness        :  75%|\u001b[0;36m███████▌  \u001b[0;36m| 1626/2155 [00:43<00:17, 30.36it/s]"
     ]
    },
    {
     "name": "stderr",
     "output_type": "stream",
     "text": [
      "\r",
      "\u001b[1;34m￨ stanza 118, line 08: to BE di SEASED ere THAT there WAS true NEE ding      :  75%|\u001b[0;36m███████▌  \u001b[0;36m| 1626/2155 [00:43<00:17, 30.36it/s]"
     ]
    },
    {
     "name": "stderr",
     "output_type": "stream",
     "text": [
      "\r",
      "\u001b[1;34m￨ stanza 118, line 09: thus PO li CY in LOVE to AN.TI ci PATE                :  75%|\u001b[0;36m███████▌  \u001b[0;36m| 1626/2155 [00:43<00:17, 30.36it/s]"
     ]
    },
    {
     "name": "stderr",
     "output_type": "stream",
     "text": [
      "\r",
      "\u001b[1;34m￨ stanza 118, line 10: the ILLS that WERE not GREW to FAULTS as SURED        :  75%|\u001b[0;36m███████▌  \u001b[0;36m| 1626/2155 [00:43<00:17, 30.36it/s]"
     ]
    },
    {
     "name": "stderr",
     "output_type": "stream",
     "text": [
      "\r",
      "\u001b[1;34m￨ stanza 118, line 11: and BROUGHT to ME di CINE a HEALT hful STATE          :  75%|\u001b[0;36m███████▌  \u001b[0;36m| 1626/2155 [00:43<00:17, 30.36it/s]"
     ]
    },
    {
     "name": "stderr",
     "output_type": "stream",
     "text": [
      "\r",
      "\u001b[1;34m￨ stanza 118, line 12: which RANK of GOO dness WOULD by ILL be CURED         :  75%|\u001b[0;36m███████▌  \u001b[0;36m| 1626/2155 [00:43<00:17, 30.36it/s]"
     ]
    },
    {
     "name": "stderr",
     "output_type": "stream",
     "text": [
      "\r",
      "\u001b[1;34m￨ stanza 118, line 13: but THENCE i LEARN and FIND the LES son TRUE          :  75%|\u001b[0;36m███████▌  \u001b[0;36m| 1626/2155 [00:43<00:17, 30.36it/s]"
     ]
    },
    {
     "name": "stderr",
     "output_type": "stream",
     "text": [
      "\r",
      "\u001b[1;34m￨ stanza 118, line 14: drugs POI son HIM that SO fell SICK of YOU            :  75%|\u001b[0;36m███████▌  \u001b[0;36m| 1626/2155 [00:43<00:17, 30.36it/s]"
     ]
    },
    {
     "name": "stderr",
     "output_type": "stream",
     "text": [
      "\r",
      "\u001b[1;34m￨ stanza 118, line 14: drugs POI son HIM that SO fell SICK of YOU            :  77%|\u001b[0;36m███████▋  \u001b[0;36m| 1653/2155 [00:43<00:09, 52.83it/s]"
     ]
    },
    {
     "name": "stderr",
     "output_type": "stream",
     "text": [
      "\r",
      "\u001b[1;34m￨ stanza 119, line 01: what PO tions HAVE i DRUNK of SI ren TEARS            :  77%|\u001b[0;36m███████▋  \u001b[0;36m| 1653/2155 [00:44<00:09, 52.83it/s]"
     ]
    },
    {
     "name": "stderr",
     "output_type": "stream",
     "text": [
      "\r",
      "\u001b[1;34m￨ stanza 119, line 02: dis TILL'D from LIM becks FOUL as HELL wit HIN        :  77%|\u001b[0;36m███████▋  \u001b[0;36m| 1653/2155 [00:44<00:09, 52.83it/s]"
     ]
    },
    {
     "name": "stderr",
     "output_type": "stream",
     "text": [
      "\r",
      "\u001b[1;34m￨ stanza 119, line 03: ap PLY ing FEARS to HOPES and HOPES to FEARS          :  77%|\u001b[0;36m███████▋  \u001b[0;36m| 1653/2155 [00:44<00:09, 52.83it/s]"
     ]
    },
    {
     "name": "stderr",
     "output_type": "stream",
     "text": [
      "\r",
      "\u001b[1;34m￨ stanza 119, line 04: still LO sing WHEN i SAW my SELF to WIN               :  77%|\u001b[0;36m███████▋  \u001b[0;36m| 1653/2155 [00:44<00:09, 52.83it/s]"
     ]
    },
    {
     "name": "stderr",
     "output_type": "stream",
     "text": [
      "\r",
      "\u001b[1;34m￨ stanza 119, line 05: what WRETC hed ER rors HATH my HEART com MIT ted      :  77%|\u001b[0;36m███████▋  \u001b[0;36m| 1653/2155 [00:44<00:09, 52.83it/s]"
     ]
    },
    {
     "name": "stderr",
     "output_type": "stream",
     "text": [
      "\r",
      "\u001b[1;34m￨ stanza 119, line 06: WHILST it.hath THOUGHT i TSELF so BLESSED ne.ver      :  77%|\u001b[0;36m███████▋  \u001b[0;36m| 1653/2155 [00:44<00:09, 52.83it/s]"
     ]
    },
    {
     "name": "stderr",
     "output_type": "stream",
     "text": [
      "\r",
      "\u001b[1;34m￨ stanza 119, line 07: how HAVE mine EYES out OF their SPHERES been FIT ted  :  77%|\u001b[0;36m███████▋  \u001b[0;36m| 1653/2155 [00:44<00:09, 52.83it/s]"
     ]
    },
    {
     "name": "stderr",
     "output_type": "stream",
     "text": [
      "\r",
      "\u001b[1;34m￨ stanza 119, line 08: in THE dis TRAC tion OF this MAD ding FE ver          :  77%|\u001b[0;36m███████▋  \u001b[0;36m| 1653/2155 [00:44<00:09, 52.83it/s]"
     ]
    },
    {
     "name": "stderr",
     "output_type": "stream",
     "text": [
      "\r",
      "\u001b[1;34m￨ stanza 119, line 09: o BE ne FIT of ILL now I find TRUE                    :  77%|\u001b[0;36m███████▋  \u001b[0;36m| 1653/2155 [00:44<00:09, 52.83it/s]"
     ]
    },
    {
     "name": "stderr",
     "output_type": "stream",
     "text": [
      "\r",
      "\u001b[1;34m￨ stanza 119, line 09: o BE ne FIT of ILL now I find TRUE                    :  77%|\u001b[0;36m███████▋  \u001b[0;36m| 1662/2155 [00:44<00:11, 44.59it/s]"
     ]
    },
    {
     "name": "stderr",
     "output_type": "stream",
     "text": [
      "\r",
      "\u001b[1;34m￨ stanza 119, line 10: that BET ter IS by E vil STILL made BET ter           :  77%|\u001b[0;36m███████▋  \u001b[0;36m| 1662/2155 [00:44<00:11, 44.59it/s]"
     ]
    },
    {
     "name": "stderr",
     "output_type": "stream",
     "text": [
      "\r",
      "\u001b[1;34m￨ stanza 119, line 11: and RUIN 'd LOVE when IT is BUILT a NEW               :  77%|\u001b[0;36m███████▋  \u001b[0;36m| 1662/2155 [00:44<00:11, 44.59it/s]"
     ]
    },
    {
     "name": "stderr",
     "output_type": "stream",
     "text": [
      "\r",
      "\u001b[1;34m￨ stanza 119, line 12: grows FAI rer THAN at FIRST more STRONG far GREA ter  :  77%|\u001b[0;36m███████▋  \u001b[0;36m| 1662/2155 [00:44<00:11, 44.59it/s]"
     ]
    },
    {
     "name": "stderr",
     "output_type": "stream",
     "text": [
      "\r",
      "\u001b[1;34m￨ stanza 119, line 13: so I re TURN re BUKED to.my CON tent                  :  77%|\u001b[0;36m███████▋  \u001b[0;36m| 1662/2155 [00:44<00:11, 44.59it/s]"
     ]
    },
    {
     "name": "stderr",
     "output_type": "stream",
     "text": [
      "\r",
      "\u001b[1;34m￨ stanza 119, line 14: and GAIN by ILL thrice MORE than I have SPENT         :  77%|\u001b[0;36m███████▋  \u001b[0;36m| 1662/2155 [00:44<00:11, 44.59it/s]"
     ]
    },
    {
     "name": "stderr",
     "output_type": "stream",
     "text": [
      "\r",
      "\u001b[1;34m￨ stanza 120, line 01: that YOU were ONCE un KIND be FRIENDS me NOW          :  77%|\u001b[0;36m███████▋  \u001b[0;36m| 1662/2155 [00:44<00:11, 44.59it/s]"
     ]
    },
    {
     "name": "stderr",
     "output_type": "stream",
     "text": [
      "\r",
      "\u001b[1;34m￨ stanza 120, line 02: and FOR that SOR row WHICH i THEN did FEEL            :  77%|\u001b[0;36m███████▋  \u001b[0;36m| 1662/2155 [00:44<00:11, 44.59it/s]"
     ]
    },
    {
     "name": "stderr",
     "output_type": "stream",
     "text": [
      "\r",
      "\u001b[1;34m￨ stanza 120, line 03: NEEDS must.i UN der MY trans GRES sion BOW            :  77%|\u001b[0;36m███████▋  \u001b[0;36m| 1662/2155 [00:44<00:11, 44.59it/s]"
     ]
    },
    {
     "name": "stderr",
     "output_type": "stream",
     "text": [
      "\r",
      "\u001b[1;34m￨ stanza 120, line 03: NEEDS must.i UN der MY trans GRES sion BOW            :  77%|\u001b[0;36m███████▋  \u001b[0;36m| 1670/2155 [00:44<00:15, 32.27it/s]"
     ]
    },
    {
     "name": "stderr",
     "output_type": "stream",
     "text": [
      "\r",
      "\u001b[1;34m￨ stanza 120, line 04: un LESS my NERVES were BRASS or HAM mer'd STEEL       :  77%|\u001b[0;36m███████▋  \u001b[0;36m| 1670/2155 [00:44<00:15, 32.27it/s]"
     ]
    },
    {
     "name": "stderr",
     "output_type": "stream",
     "text": [
      "\r",
      "\u001b[1;34m￨ stanza 120, line 05: for.if YOU were.by MY un KIN dness SHA ken            :  77%|\u001b[0;36m███████▋  \u001b[0;36m| 1670/2155 [00:44<00:15, 32.27it/s]"
     ]
    },
    {
     "name": "stderr",
     "output_type": "stream",
     "text": [
      "\r",
      "\u001b[1;34m￨ stanza 120, line 06: as I by YOURS you've PASS'D a HELL of TIME            :  77%|\u001b[0;36m███████▋  \u001b[0;36m| 1670/2155 [00:44<00:15, 32.27it/s]"
     ]
    },
    {
     "name": "stderr",
     "output_type": "stream",
     "text": [
      "\r",
      "\u001b[1;34m￨ stanza 120, line 07: and I a TY rant HAVE no LEI sure TA ken               :  77%|\u001b[0;36m███████▋  \u001b[0;36m| 1670/2155 [00:44<00:15, 32.27it/s]"
     ]
    },
    {
     "name": "stderr",
     "output_type": "stream",
     "text": [
      "\r",
      "\u001b[1;34m￨ stanza 120, line 08: to WEIGH how ONCE i SUF fered IN your CRIME           :  77%|\u001b[0;36m███████▋  \u001b[0;36m| 1670/2155 [00:44<00:15, 32.27it/s]"
     ]
    },
    {
     "name": "stderr",
     "output_type": "stream",
     "text": [
      "\r",
      "\u001b[1;34m￨ stanza 120, line 09: o THAT our NIGHT of WOE might HAVE re MEM ber'd       :  77%|\u001b[0;36m███████▋  \u001b[0;36m| 1670/2155 [00:44<00:15, 32.27it/s]"
     ]
    },
    {
     "name": "stderr",
     "output_type": "stream",
     "text": [
      "\r",
      "\u001b[1;34m￨ stanza 120, line 10: my DEE pest SENSE how HARD true SOR row HITS          :  77%|\u001b[0;36m███████▋  \u001b[0;36m| 1670/2155 [00:44<00:15, 32.27it/s]"
     ]
    },
    {
     "name": "stderr",
     "output_type": "stream",
     "text": [
      "\r",
      "\u001b[1;34m￨ stanza 120, line 11: and SOON to YOU as YOU to ME then TEN der'd           :  77%|\u001b[0;36m███████▋  \u001b[0;36m| 1670/2155 [00:44<00:15, 32.27it/s]"
     ]
    },
    {
     "name": "stderr",
     "output_type": "stream",
     "text": [
      "\r",
      "\u001b[1;34m￨ stanza 120, line 12: the HUM ble SALVE which WOUN ded BO soms FITS         :  77%|\u001b[0;36m███████▋  \u001b[0;36m| 1670/2155 [00:44<00:15, 32.27it/s]"
     ]
    },
    {
     "name": "stderr",
     "output_type": "stream",
     "text": [
      "\r",
      "\u001b[1;34m￨ stanza 120, line 13: but THAT your TRES pass NOW be COMES a FEE            :  77%|\u001b[0;36m███████▋  \u001b[0;36m| 1670/2155 [00:44<00:15, 32.27it/s]"
     ]
    },
    {
     "name": "stderr",
     "output_type": "stream",
     "text": [
      "\r",
      "\u001b[1;34m￨ stanza 120, line 14: mine RAN soms YOURS and YOURS must RAN som ME         :  77%|\u001b[0;36m███████▋  \u001b[0;36m| 1670/2155 [00:44<00:15, 32.27it/s]"
     ]
    },
    {
     "name": "stderr",
     "output_type": "stream",
     "text": [
      "\r",
      "\u001b[1;34m￨ stanza 121, line 01: 'tis BET ter TO be VILE than VILE es TEEM'D           :  77%|\u001b[0;36m███████▋  \u001b[0;36m| 1670/2155 [00:44<00:15, 32.27it/s]"
     ]
    },
    {
     "name": "stderr",
     "output_type": "stream",
     "text": [
      "\r",
      "\u001b[1;34m￨ stanza 121, line 02: when NOT to BE re CEIVES re PROACH of BE ing          :  77%|\u001b[0;36m███████▋  \u001b[0;36m| 1670/2155 [00:44<00:15, 32.27it/s]"
     ]
    },
    {
     "name": "stderr",
     "output_type": "stream",
     "text": [
      "\r",
      "\u001b[1;34m￨ stanza 121, line 03: and THE just PLEA sure LOST which IS so DEEM'D        :  77%|\u001b[0;36m███████▋  \u001b[0;36m| 1670/2155 [00:44<00:15, 32.27it/s]"
     ]
    },
    {
     "name": "stderr",
     "output_type": "stream",
     "text": [
      "\r",
      "\u001b[1;34m￨ stanza 121, line 04: NOT by.our FEE ling BUT by OT hers' SEE ing           :  77%|\u001b[0;36m███████▋  \u001b[0;36m| 1670/2155 [00:44<00:15, 32.27it/s]"
     ]
    },
    {
     "name": "stderr",
     "output_type": "stream",
     "text": [
      "\r",
      "\u001b[1;34m￨ stanza 121, line 05: for WHY should OT hers FALSE a DUL te RATE eyes       :  77%|\u001b[0;36m███████▋  \u001b[0;36m| 1670/2155 [00:44<00:15, 32.27it/s]"
     ]
    },
    {
     "name": "stderr",
     "output_type": "stream",
     "text": [
      "\r",
      "\u001b[1;34m￨ stanza 121, line 06: give SA lu TA tion TO my SPOR tive BLOOD              :  77%|\u001b[0;36m███████▋  \u001b[0;36m| 1670/2155 [00:44<00:15, 32.27it/s]"
     ]
    },
    {
     "name": "stderr",
     "output_type": "stream",
     "text": [
      "\r",
      "\u001b[1;34m￨ stanza 121, line 07: or ON my FRAIL ties WHY are FRAI ler SPIES            :  77%|\u001b[0;36m███████▋  \u001b[0;36m| 1670/2155 [00:44<00:15, 32.27it/s]"
     ]
    },
    {
     "name": "stderr",
     "output_type": "stream",
     "text": [
      "\r",
      "\u001b[1;34m￨ stanza 121, line 08: which IN their WILLS count BAD what.i THINK good      :  77%|\u001b[0;36m███████▋  \u001b[0;36m| 1670/2155 [00:44<00:15, 32.27it/s]"
     ]
    },
    {
     "name": "stderr",
     "output_type": "stream",
     "text": [
      "\r",
      "\u001b[1;34m￨ stanza 121, line 09: NO i AM that I am.and THEY that LE vel                :  77%|\u001b[0;36m███████▋  \u001b[0;36m| 1670/2155 [00:45<00:15, 32.27it/s]"
     ]
    },
    {
     "name": "stderr",
     "output_type": "stream",
     "text": [
      "\r",
      "\u001b[1;34m￨ stanza 121, line 09: NO i AM that I am.and THEY that LE vel                :  78%|\u001b[0;36m███████▊  \u001b[0;36m| 1690/2155 [00:45<00:12, 38.64it/s]"
     ]
    },
    {
     "name": "stderr",
     "output_type": "stream",
     "text": [
      "\r",
      "\u001b[1;34m￨ stanza 121, line 10: at MY a BU ses REC kon UP their OWN                   :  78%|\u001b[0;36m███████▊  \u001b[0;36m| 1690/2155 [00:45<00:12, 38.64it/s]"
     ]
    },
    {
     "name": "stderr",
     "output_type": "stream",
     "text": [
      "\r",
      "\u001b[1;34m￨ stanza 121, line 11: I may.be STRAIGHT though THEY them SELVES be BE vel   :  78%|\u001b[0;36m███████▊  \u001b[0;36m| 1690/2155 [00:45<00:12, 38.64it/s]"
     ]
    },
    {
     "name": "stderr",
     "output_type": "stream",
     "text": [
      "\r",
      "\u001b[1;34m￨ stanza 121, line 12: by THEIR rank THOUGHTS my DEEDS must NOT be SHOWN     :  78%|\u001b[0;36m███████▊  \u001b[0;36m| 1690/2155 [00:45<00:12, 38.64it/s]"
     ]
    },
    {
     "name": "stderr",
     "output_type": "stream",
     "text": [
      "\r",
      "\u001b[1;34m￨ stanza 121, line 13: un LESS this GE neral E vil THEY main TAIN            :  78%|\u001b[0;36m███████▊  \u001b[0;36m| 1690/2155 [00:45<00:12, 38.64it/s]"
     ]
    },
    {
     "name": "stderr",
     "output_type": "stream",
     "text": [
      "\r",
      "\u001b[1;34m￨ stanza 121, line 14: all MEN are BAD and IN their BA dness REIGN           :  78%|\u001b[0;36m███████▊  \u001b[0;36m| 1690/2155 [00:45<00:12, 38.64it/s]"
     ]
    },
    {
     "name": "stderr",
     "output_type": "stream",
     "text": [
      "\r",
      "\u001b[1;34m￨ stanza 122, line 01: thy GIFT thy TA bles ARE wit HIN my BRAIN             :  78%|\u001b[0;36m███████▊  \u001b[0;36m| 1690/2155 [00:45<00:12, 38.64it/s]"
     ]
    },
    {
     "name": "stderr",
     "output_type": "stream",
     "text": [
      "\r",
      "\u001b[1;34m￨ stanza 122, line 02: full CHA rac TER'D with LAS ting ME mo RY             :  78%|\u001b[0;36m███████▊  \u001b[0;36m| 1690/2155 [00:45<00:12, 38.64it/s]"
     ]
    },
    {
     "name": "stderr",
     "output_type": "stream",
     "text": [
      "\r",
      "\u001b[1;34m￨ stanza 122, line 03: which SHALL a BOVE that I dle RANK re MAIN            :  78%|\u001b[0;36m███████▊  \u001b[0;36m| 1690/2155 [00:45<00:12, 38.64it/s]"
     ]
    },
    {
     "name": "stderr",
     "output_type": "stream",
     "text": [
      "\r",
      "\u001b[1;34m￨ stanza 122, line 04: bey OND all DATE e.ven TO e TER ni TY                 :  78%|\u001b[0;36m███████▊  \u001b[0;36m| 1690/2155 [00:45<00:12, 38.64it/s]"
     ]
    },
    {
     "name": "stderr",
     "output_type": "stream",
     "text": [
      "\r",
      "\u001b[1;34m￨ stanza 122, line 05: or AT the LEAST so LONG as BRAIN and HEART            :  78%|\u001b[0;36m███████▊  \u001b[0;36m| 1690/2155 [00:45<00:12, 38.64it/s]"
     ]
    },
    {
     "name": "stderr",
     "output_type": "stream",
     "text": [
      "\r",
      "\u001b[1;34m￨ stanza 122, line 06: have FA cul TY by NA ture TO su BSIST                 :  78%|\u001b[0;36m███████▊  \u001b[0;36m| 1690/2155 [00:45<00:12, 38.64it/s]"
     ]
    },
    {
     "name": "stderr",
     "output_type": "stream",
     "text": [
      "\r",
      "\u001b[1;34m￨ stanza 122, line 07: till EACH to RAZED o BLI vi.on YIELD his PART         :  78%|\u001b[0;36m███████▊  \u001b[0;36m| 1690/2155 [00:45<00:12, 38.64it/s]"
     ]
    },
    {
     "name": "stderr",
     "output_type": "stream",
     "text": [
      "\r",
      "\u001b[1;34m￨ stanza 122, line 08: of THEE thy RE cord NE ver CAN be MISS'D              :  78%|\u001b[0;36m███████▊  \u001b[0;36m| 1690/2155 [00:45<00:12, 38.64it/s]"
     ]
    },
    {
     "name": "stderr",
     "output_type": "stream",
     "text": [
      "\r",
      "\u001b[1;34m￨ stanza 122, line 08: of THEE thy RE cord NE ver CAN be MISS'D              :  79%|\u001b[0;36m███████▉  \u001b[0;36m| 1703/2155 [00:45<00:09, 45.76it/s]"
     ]
    },
    {
     "name": "stderr",
     "output_type": "stream",
     "text": [
      "\r",
      "\u001b[1;34m￨ stanza 122, line 09: that POOR re TEN tion COULD not SO much HOLD          :  79%|\u001b[0;36m███████▉  \u001b[0;36m| 1703/2155 [00:45<00:09, 45.76it/s]"
     ]
    },
    {
     "name": "stderr",
     "output_type": "stream",
     "text": [
      "\r",
      "\u001b[1;34m￨ stanza 122, line 10: nor NEED i TAL lies THY dear LOVE to SCORE            :  79%|\u001b[0;36m███████▉  \u001b[0;36m| 1703/2155 [00:45<00:09, 45.76it/s]"
     ]
    },
    {
     "name": "stderr",
     "output_type": "stream",
     "text": [
      "\r",
      "\u001b[1;34m￨ stanza 122, line 11: the REFORE to GIVE them.from ME was.i BOLD            :  79%|\u001b[0;36m███████▉  \u001b[0;36m| 1703/2155 [00:45<00:09, 45.76it/s]"
     ]
    },
    {
     "name": "stderr",
     "output_type": "stream",
     "text": [
      "\r",
      "\u001b[1;34m￨ stanza 122, line 12: to TRUST those TA bles THAT re CEIVE thee MORE        :  79%|\u001b[0;36m███████▉  \u001b[0;36m| 1703/2155 [00:45<00:09, 45.76it/s]"
     ]
    },
    {
     "name": "stderr",
     "output_type": "stream",
     "text": [
      "\r",
      "\u001b[1;34m￨ stanza 122, line 13: to KEEP an AD junct TO re MEM ber THEE                :  79%|\u001b[0;36m███████▉  \u001b[0;36m| 1703/2155 [00:45<00:09, 45.76it/s]"
     ]
    },
    {
     "name": "stderr",
     "output_type": "stream",
     "text": [
      "\r",
      "\u001b[1;34m￨ stanza 122, line 14: were TO im PORT for GE tful NESS in ME                :  79%|\u001b[0;36m███████▉  \u001b[0;36m| 1703/2155 [00:45<00:09, 45.76it/s]"
     ]
    },
    {
     "name": "stderr",
     "output_type": "stream",
     "text": [
      "\r",
      "\u001b[1;34m￨ stanza 123, line 01: no TIME thou SHALT not BOAST that I do CHANGE         :  79%|\u001b[0;36m███████▉  \u001b[0;36m| 1703/2155 [00:45<00:09, 45.76it/s]"
     ]
    },
    {
     "name": "stderr",
     "output_type": "stream",
     "text": [
      "\r",
      "\u001b[1;34m￨ stanza 123, line 02: thy PY ra.mids BUILT up.with NE wer MIGHT             :  79%|\u001b[0;36m███████▉  \u001b[0;36m| 1703/2155 [00:45<00:09, 45.76it/s]"
     ]
    },
    {
     "name": "stderr",
     "output_type": "stream",
     "text": [
      "\r",
      "\u001b[1;34m￨ stanza 123, line 03: to ME are NOT hing NO vel NOT hing STRANGE            :  79%|\u001b[0;36m███████▉  \u001b[0;36m| 1703/2155 [00:45<00:09, 45.76it/s]"
     ]
    },
    {
     "name": "stderr",
     "output_type": "stream",
     "text": [
      "\r",
      "\u001b[1;34m￨ stanza 123, line 04: THEY are.but DRES sings OF a FOR mer SIGHT            :  79%|\u001b[0;36m███████▉  \u001b[0;36m| 1703/2155 [00:45<00:09, 45.76it/s]"
     ]
    },
    {
     "name": "stderr",
     "output_type": "stream",
     "text": [
      "\r",
      "\u001b[1;34m￨ stanza 123, line 05: our DATES are BRIEF and THE refore WE a DMIRE         :  79%|\u001b[0;36m███████▉  \u001b[0;36m| 1703/2155 [00:45<00:09, 45.76it/s]"
     ]
    },
    {
     "name": "stderr",
     "output_type": "stream",
     "text": [
      "\r",
      "\u001b[1;34m￨ stanza 123, line 06: what THOU dost FOIST u PON us THAT is OLD             :  79%|\u001b[0;36m███████▉  \u001b[0;36m| 1703/2155 [00:45<00:09, 45.76it/s]"
     ]
    },
    {
     "name": "stderr",
     "output_type": "stream",
     "text": [
      "\r",
      "\u001b[1;34m￨ stanza 123, line 06: what THOU dost FOIST u PON us THAT is OLD             :  80%|\u001b[0;36m███████▉  \u001b[0;36m| 1715/2155 [00:45<00:13, 32.56it/s]"
     ]
    },
    {
     "name": "stderr",
     "output_type": "stream",
     "text": [
      "\r",
      "\u001b[1;34m￨ stanza 123, line 07: and RAT her MAKE them BORN to OUR de SIRE             :  80%|\u001b[0;36m███████▉  \u001b[0;36m| 1715/2155 [00:45<00:13, 32.56it/s]"
     ]
    },
    {
     "name": "stderr",
     "output_type": "stream",
     "text": [
      "\r",
      "\u001b[1;34m￨ stanza 123, line 08: than THINK that WE be FORE have HEARD them TOLD       :  80%|\u001b[0;36m███████▉  \u001b[0;36m| 1715/2155 [00:45<00:13, 32.56it/s]"
     ]
    },
    {
     "name": "stderr",
     "output_type": "stream",
     "text": [
      "\r",
      "\u001b[1;34m￨ stanza 123, line 09: thy RE gis TERS and THEE i BOTH de FY                 :  80%|\u001b[0;36m███████▉  \u001b[0;36m| 1715/2155 [00:45<00:13, 32.56it/s]"
     ]
    },
    {
     "name": "stderr",
     "output_type": "stream",
     "text": [
      "\r",
      "\u001b[1;34m￨ stanza 123, line 10: not WON de RING at.the PRE sent NOR the PAST          :  80%|\u001b[0;36m███████▉  \u001b[0;36m| 1715/2155 [00:45<00:13, 32.56it/s]"
     ]
    },
    {
     "name": "stderr",
     "output_type": "stream",
     "text": [
      "\r",
      "\u001b[1;34m￨ stanza 123, line 11: for THY re CORDS and WHAT we SEE doth LIE             :  80%|\u001b[0;36m███████▉  \u001b[0;36m| 1715/2155 [00:45<00:13, 32.56it/s]"
     ]
    },
    {
     "name": "stderr",
     "output_type": "stream",
     "text": [
      "\r",
      "\u001b[1;34m￨ stanza 123, line 12: MADE more.or LESS by THY con TI nu.al HASTE           :  80%|\u001b[0;36m███████▉  \u001b[0;36m| 1715/2155 [00:45<00:13, 32.56it/s]"
     ]
    },
    {
     "name": "stderr",
     "output_type": "stream",
     "text": [
      "\r",
      "\u001b[1;34m￨ stanza 123, line 13: this I do VOW and THIS shall E ver BE                 :  80%|\u001b[0;36m███████▉  \u001b[0;36m| 1715/2155 [00:45<00:13, 32.56it/s]"
     ]
    },
    {
     "name": "stderr",
     "output_type": "stream",
     "text": [
      "\r",
      "\u001b[1;34m￨ stanza 123, line 14: I will.be TRUE des PITE thy SCYTHE and THEE           :  80%|\u001b[0;36m███████▉  \u001b[0;36m| 1715/2155 [00:45<00:13, 32.56it/s]"
     ]
    },
    {
     "name": "stderr",
     "output_type": "stream",
     "text": [
      "\r",
      "\u001b[1;34m￨ stanza 124, line 01: if.my DEAR love WERE but.the CHILD of STATE           :  80%|\u001b[0;36m███████▉  \u001b[0;36m| 1715/2155 [00:45<00:13, 32.56it/s]"
     ]
    },
    {
     "name": "stderr",
     "output_type": "stream",
     "text": [
      "\r",
      "\u001b[1;34m￨ stanza 124, line 02: it MIGHT for FOR tune's BAS tard BE un FAT her'd'     :  80%|\u001b[0;36m███████▉  \u001b[0;36m| 1715/2155 [00:45<00:13, 32.56it/s]"
     ]
    },
    {
     "name": "stderr",
     "output_type": "stream",
     "text": [
      "\r",
      "\u001b[1;34m￨ stanza 124, line 03: AS sub JECT to TIME'S love OR to TIME'S hate          :  80%|\u001b[0;36m███████▉  \u001b[0;36m| 1715/2155 [00:45<00:13, 32.56it/s]"
     ]
    },
    {
     "name": "stderr",
     "output_type": "stream",
     "text": [
      "\r",
      "\u001b[1;34m￨ stanza 124, line 04: WEEDS a MONG.WEEDS or FLO wers.with FLO wers GAT her'd:  80%|\u001b[0;36m███████▉  \u001b[0;36m| 1715/2155 [00:45<00:13, 32.56it/s]"
     ]
    },
    {
     "name": "stderr",
     "output_type": "stream",
     "text": [
      "\r",
      "\u001b[1;34m￨ stanza 124, line 05: NO it.was BUIL ded FAR from AC ci DENT                :  80%|\u001b[0;36m███████▉  \u001b[0;36m| 1715/2155 [00:45<00:13, 32.56it/s]"
     ]
    },
    {
     "name": "stderr",
     "output_type": "stream",
     "text": [
      "\r",
      "\u001b[1;34m￨ stanza 124, line 06: it SUF fers NOT in SMI ling POMP nor FALLS            :  80%|\u001b[0;36m███████▉  \u001b[0;36m| 1715/2155 [00:45<00:13, 32.56it/s]"
     ]
    },
    {
     "name": "stderr",
     "output_type": "stream",
     "text": [
      "\r",
      "\u001b[1;34m￨ stanza 124, line 07: UN der.the BLOW of THRALLED dis.con TENT              :  80%|\u001b[0;36m███████▉  \u001b[0;36m| 1715/2155 [00:45<00:13, 32.56it/s]"
     ]
    },
    {
     "name": "stderr",
     "output_type": "stream",
     "text": [
      "\r",
      "\u001b[1;34m￨ stanza 124, line 08: WHE reto THE in VI ting TIME our FAS hion CALLS       :  80%|\u001b[0;36m███████▉  \u001b[0;36m| 1715/2155 [00:45<00:13, 32.56it/s]"
     ]
    },
    {
     "name": "stderr",
     "output_type": "stream",
     "text": [
      "\r",
      "\u001b[1;34m￨ stanza 124, line 09: it FEARS not PO li CY that HE re TIC                  :  80%|\u001b[0;36m███████▉  \u001b[0;36m| 1715/2155 [00:45<00:13, 32.56it/s]"
     ]
    },
    {
     "name": "stderr",
     "output_type": "stream",
     "text": [
      "\r",
      "\u001b[1;34m￨ stanza 124, line 10: which WORKS on LEA ses OF short NUM ber'd HOURS       :  80%|\u001b[0;36m███████▉  \u001b[0;36m| 1715/2155 [00:45<00:13, 32.56it/s]"
     ]
    },
    {
     "name": "stderr",
     "output_type": "stream",
     "text": [
      "\r",
      "\u001b[1;34m￨ stanza 124, line 11: but ALL a LONE stands HU gely PO li TIC               :  80%|\u001b[0;36m███████▉  \u001b[0;36m| 1715/2155 [00:45<00:13, 32.56it/s]"
     ]
    },
    {
     "name": "stderr",
     "output_type": "stream",
     "text": [
      "\r",
      "\u001b[1;34m￨ stanza 124, line 12: that IT nor GROWS with HEAT nor DROWNS with SHO wers  :  80%|\u001b[0;36m███████▉  \u001b[0;36m| 1715/2155 [00:46<00:13, 32.56it/s]"
     ]
    },
    {
     "name": "stderr",
     "output_type": "stream",
     "text": [
      "\r",
      "\u001b[1;34m￨ stanza 124, line 13: to THIS i WI tness CALL the FOOLS of TIME             :  80%|\u001b[0;36m███████▉  \u001b[0;36m| 1715/2155 [00:46<00:13, 32.56it/s]"
     ]
    },
    {
     "name": "stderr",
     "output_type": "stream",
     "text": [
      "\r",
      "\u001b[1;34m￨ stanza 124, line 14: which DIE for GOO dness WHO have LIVED for CRIME      :  80%|\u001b[0;36m███████▉  \u001b[0;36m| 1715/2155 [00:46<00:13, 32.56it/s]"
     ]
    },
    {
     "name": "stderr",
     "output_type": "stream",
     "text": [
      "\r",
      "\u001b[1;34m￨ stanza 124, line 14: which DIE for GOO dness WHO have LIVED for CRIME      :  81%|\u001b[0;36m████████  \u001b[0;36m| 1737/2155 [00:46<00:08, 49.32it/s]"
     ]
    },
    {
     "name": "stderr",
     "output_type": "stream",
     "text": [
      "\r",
      "\u001b[1;34m￨ stanza 125, line 01: were.'t AUGHT to ME i BORE the CA no PY               :  81%|\u001b[0;36m████████  \u001b[0;36m| 1737/2155 [00:46<00:08, 49.32it/s]"
     ]
    },
    {
     "name": "stderr",
     "output_type": "stream",
     "text": [
      "\r",
      "\u001b[1;34m￨ stanza 125, line 02: with MY ex TERN the OU tward HO nou RING              :  81%|\u001b[0;36m████████  \u001b[0;36m| 1737/2155 [00:46<00:08, 49.32it/s]"
     ]
    },
    {
     "name": "stderr",
     "output_type": "stream",
     "text": [
      "\r",
      "\u001b[1;34m￨ stanza 125, line 03: or LAID great BA ses FOR e TER ni TY                  :  81%|\u001b[0;36m████████  \u001b[0;36m| 1737/2155 [00:46<00:08, 49.32it/s]"
     ]
    },
    {
     "name": "stderr",
     "output_type": "stream",
     "text": [
      "\r",
      "\u001b[1;34m￨ stanza 125, line 04: which PROVE more SHORT than WASTE or RUI ni NG        :  81%|\u001b[0;36m████████  \u001b[0;36m| 1737/2155 [00:46<00:08, 49.32it/s]"
     ]
    },
    {
     "name": "stderr",
     "output_type": "stream",
     "text": [
      "\r",
      "\u001b[1;34m￨ stanza 125, line 05: have I not SEEN dwel LERS on FORM and FA vour         :  81%|\u001b[0;36m████████  \u001b[0;36m| 1737/2155 [00:46<00:08, 49.32it/s]"
     ]
    },
    {
     "name": "stderr",
     "output_type": "stream",
     "text": [
      "\r",
      "\u001b[1;34m￨ stanza 125, line 06: LOSE all.and MORE by PAY ing TOO much RENT            :  81%|\u001b[0;36m████████  \u001b[0;36m| 1737/2155 [00:46<00:08, 49.32it/s]"
     ]
    },
    {
     "name": "stderr",
     "output_type": "stream",
     "text": [
      "\r",
      "\u001b[1;34m￨ stanza 125, line 07: for COM pound SWEET for GO ing SIM ple SA vour        :  81%|\u001b[0;36m████████  \u001b[0;36m| 1737/2155 [00:46<00:08, 49.32it/s]"
     ]
    },
    {
     "name": "stderr",
     "output_type": "stream",
     "text": [
      "\r",
      "\u001b[1;34m￨ stanza 125, line 08: PI ti.ful THRI vers IN their GA zing SPENT            :  81%|\u001b[0;36m████████  \u001b[0;36m| 1737/2155 [00:46<00:08, 49.32it/s]"
     ]
    },
    {
     "name": "stderr",
     "output_type": "stream",
     "text": [
      "\r",
      "\u001b[1;34m￨ stanza 125, line 09: no LET me BE o BSE qui OUS in.thy HEART               :  81%|\u001b[0;36m████████  \u001b[0;36m| 1737/2155 [00:46<00:08, 49.32it/s]"
     ]
    },
    {
     "name": "stderr",
     "output_type": "stream",
     "text": [
      "\r",
      "\u001b[1;34m￨ stanza 125, line 10: and TAKE thou MY o BLA tion POOR but FREE             :  81%|\u001b[0;36m████████  \u001b[0;36m| 1737/2155 [00:46<00:08, 49.32it/s]"
     ]
    },
    {
     "name": "stderr",
     "output_type": "stream",
     "text": [
      "\r",
      "\u001b[1;34m￨ stanza 125, line 10: and TAKE thou MY o BLA tion POOR but FREE             :  81%|\u001b[0;36m████████  \u001b[0;36m| 1747/2155 [00:46<00:10, 39.09it/s]"
     ]
    },
    {
     "name": "stderr",
     "output_type": "stream",
     "text": [
      "\r",
      "\u001b[1;34m￨ stanza 125, line 11: which IS not MIX'D with SE conds KNOWS no ART         :  81%|\u001b[0;36m████████  \u001b[0;36m| 1747/2155 [00:46<00:10, 39.09it/s]"
     ]
    },
    {
     "name": "stderr",
     "output_type": "stream",
     "text": [
      "\r",
      "\u001b[1;34m￨ stanza 125, line 12: but MU tu.al REN der ON ly ME for THEE                :  81%|\u001b[0;36m████████  \u001b[0;36m| 1747/2155 [00:46<00:10, 39.09it/s]"
     ]
    },
    {
     "name": "stderr",
     "output_type": "stream",
     "text": [
      "\r",
      "\u001b[1;34m￨ stanza 125, line 13: HENCE thou SU.BORN'D in FOR mer A true SOUL           :  81%|\u001b[0;36m████████  \u001b[0;36m| 1747/2155 [00:46<00:10, 39.09it/s]"
     ]
    },
    {
     "name": "stderr",
     "output_type": "stream",
     "text": [
      "\r",
      "\u001b[1;34m￨ stanza 125, line 14: when MOST im PEACH'D stands LEAST in THY con TROL     :  81%|\u001b[0;36m████████  \u001b[0;36m| 1747/2155 [00:46<00:10, 39.09it/s]"
     ]
    },
    {
     "name": "stderr",
     "output_type": "stream",
     "text": [
      "\r",
      "\u001b[1;34m￨ stanza 126, line 01: o THOU my LO vely BOY who IN thy PO wer               :  81%|\u001b[0;36m████████  \u001b[0;36m| 1747/2155 [00:46<00:10, 39.09it/s]"
     ]
    },
    {
     "name": "stderr",
     "output_type": "stream",
     "text": [
      "\r",
      "\u001b[1;34m￨ stanza 126, line 02: dost HOLD time's FIC kle GLASS his SIC kle HOUR       :  81%|\u001b[0;36m████████  \u001b[0;36m| 1747/2155 [00:46<00:10, 39.09it/s]"
     ]
    },
    {
     "name": "stderr",
     "output_type": "stream",
     "text": [
      "\r",
      "\u001b[1;34m￨ stanza 126, line 03: who HAST by WA ning GROWN and THE rein SHOW'ST        :  81%|\u001b[0;36m████████  \u001b[0;36m| 1747/2155 [00:46<00:10, 39.09it/s]"
     ]
    },
    {
     "name": "stderr",
     "output_type": "stream",
     "text": [
      "\r",
      "\u001b[1;34m￨ stanza 126, line 04: thy LO vers WIT he RING as.thy SWEET self GROW'ST     :  81%|\u001b[0;36m████████  \u001b[0;36m| 1747/2155 [00:46<00:10, 39.09it/s]"
     ]
    },
    {
     "name": "stderr",
     "output_type": "stream",
     "text": [
      "\r",
      "\u001b[1;34m￨ stanza 126, line 04: thy LO vers WIT he RING as.thy SWEET self GROW'ST     :  81%|\u001b[0;36m████████▏ \u001b[0;36m| 1755/2155 [00:46<00:11, 35.95it/s]"
     ]
    },
    {
     "name": "stderr",
     "output_type": "stream",
     "text": [
      "\r",
      "\u001b[1;34m￨ stanza 126, line 05: if NA ture SO vereign MIS tress O ver WRACK           :  81%|\u001b[0;36m████████▏ \u001b[0;36m| 1755/2155 [00:46<00:11, 35.95it/s]"
     ]
    },
    {
     "name": "stderr",
     "output_type": "stream",
     "text": [
      "\r",
      "\u001b[1;34m￨ stanza 126, line 06: as THOU goest ON wards STILL will PLUCK thee BACK     :  81%|\u001b[0;36m████████▏ \u001b[0;36m| 1755/2155 [00:46<00:11, 35.95it/s]"
     ]
    },
    {
     "name": "stderr",
     "output_type": "stream",
     "text": [
      "\r",
      "\u001b[1;34m￨ stanza 126, line 07: she KEEPS thee TO this PUR pose THAT her SKILL        :  81%|\u001b[0;36m████████▏ \u001b[0;36m| 1755/2155 [00:46<00:11, 35.95it/s]"
     ]
    },
    {
     "name": "stderr",
     "output_type": "stream",
     "text": [
      "\r",
      "\u001b[1;34m￨ stanza 126, line 08: may TIME dis GRACE and WRETC hed MI nutes KILL        :  81%|\u001b[0;36m████████▏ \u001b[0;36m| 1755/2155 [00:46<00:11, 35.95it/s]"
     ]
    },
    {
     "name": "stderr",
     "output_type": "stream",
     "text": [
      "\r",
      "\u001b[1;34m￨ stanza 126, line 09: yet FEAR her O thou MI nion OF her PLEA sure          :  81%|\u001b[0;36m████████▏ \u001b[0;36m| 1755/2155 [00:46<00:11, 35.95it/s]"
     ]
    },
    {
     "name": "stderr",
     "output_type": "stream",
     "text": [
      "\r",
      "\u001b[1;34m￨ stanza 126, line 10: she MAY de TAIN but NOT still KEEP her TREA sure      :  81%|\u001b[0;36m████████▏ \u001b[0;36m| 1755/2155 [00:46<00:11, 35.95it/s]"
     ]
    },
    {
     "name": "stderr",
     "output_type": "stream",
     "text": [
      "\r",
      "\u001b[1;34m￨ stanza 126, line 10: she MAY de TAIN but NOT still KEEP her TREA sure      :  82%|\u001b[0;36m████████▏ \u001b[0;36m| 1761/2155 [00:46<00:10, 37.14it/s]"
     ]
    },
    {
     "name": "stderr",
     "output_type": "stream",
     "text": [
      "\r",
      "\u001b[1;34m￨ stanza 126, line 11: her AU dit THOUGH de LAY'D.AN swer'd MUST be          :  82%|\u001b[0;36m████████▏ \u001b[0;36m| 1761/2155 [00:46<00:10, 37.14it/s]"
     ]
    },
    {
     "name": "stderr",
     "output_type": "stream",
     "text": [
      "\r",
      "\u001b[1;34m￨ stanza 126, line 12: and.her QUI etus IS to REN der THEE                   :  82%|\u001b[0;36m████████▏ \u001b[0;36m| 1761/2155 [00:46<00:10, 37.14it/s]"
     ]
    },
    {
     "name": "stderr",
     "output_type": "stream",
     "text": [
      "\r",
      "\u001b[1;34m￨ stanza 127, line 01: in.the OLD age BLACK was.not COUN ted FAIR            :  82%|\u001b[0;36m████████▏ \u001b[0;36m| 1761/2155 [00:46<00:10, 37.14it/s]"
     ]
    },
    {
     "name": "stderr",
     "output_type": "stream",
     "text": [
      "\r",
      "\u001b[1;34m￨ stanza 127, line 02: or.if IT were.it BORE not BEA uty's NAME              :  82%|\u001b[0;36m████████▏ \u001b[0;36m| 1761/2155 [00:46<00:10, 37.14it/s]"
     ]
    },
    {
     "name": "stderr",
     "output_type": "stream",
     "text": [
      "\r",
      "\u001b[1;34m￨ stanza 127, line 03: but NOW is BLACK bea UTY'S suc CES sive HEIR          :  82%|\u001b[0;36m████████▏ \u001b[0;36m| 1761/2155 [00:46<00:10, 37.14it/s]"
     ]
    },
    {
     "name": "stderr",
     "output_type": "stream",
     "text": [
      "\r",
      "\u001b[1;34m￨ stanza 127, line 04: and BEA uty SLAN der'd WITH a BAS tard SHAME          :  82%|\u001b[0;36m████████▏ \u001b[0;36m| 1761/2155 [00:47<00:10, 37.14it/s]"
     ]
    },
    {
     "name": "stderr",
     "output_type": "stream",
     "text": [
      "\r",
      "\u001b[1;34m￨ stanza 127, line 05: for SINCE each HAND hath PUT on NA ture's PO wer      :  82%|\u001b[0;36m████████▏ \u001b[0;36m| 1761/2155 [00:47<00:10, 37.14it/s]"
     ]
    },
    {
     "name": "stderr",
     "output_type": "stream",
     "text": [
      "\r",
      "\u001b[1;34m￨ stanza 127, line 06: FAI ri NG the FOUL with ART'S false BOR row'd FACE    :  82%|\u001b[0;36m████████▏ \u001b[0;36m| 1761/2155 [00:47<00:10, 37.14it/s]"
     ]
    },
    {
     "name": "stderr",
     "output_type": "stream",
     "text": [
      "\r",
      "\u001b[1;34m￨ stanza 127, line 07: sweet BEA uty HATH no NAME no HO ly BO wer            :  82%|\u001b[0;36m████████▏ \u001b[0;36m| 1761/2155 [00:47<00:10, 37.14it/s]"
     ]
    },
    {
     "name": "stderr",
     "output_type": "stream",
     "text": [
      "\r",
      "\u001b[1;34m￨ stanza 127, line 07: sweet BEA uty HATH no NAME no HO ly BO wer            :  82%|\u001b[0;36m████████▏ \u001b[0;36m| 1770/2155 [00:47<00:08, 44.04it/s]"
     ]
    },
    {
     "name": "stderr",
     "output_type": "stream",
     "text": [
      "\r",
      "\u001b[1;34m￨ stanza 127, line 08: but IS pro FANED if NOT lives IN dis GRACE            :  82%|\u001b[0;36m████████▏ \u001b[0;36m| 1770/2155 [00:47<00:08, 44.04it/s]"
     ]
    },
    {
     "name": "stderr",
     "output_type": "stream",
     "text": [
      "\r",
      "\u001b[1;34m￨ stanza 127, line 09: the REFORE my MIS tress' BROWS are RA ven BLACK       :  82%|\u001b[0;36m████████▏ \u001b[0;36m| 1770/2155 [00:47<00:08, 44.04it/s]"
     ]
    },
    {
     "name": "stderr",
     "output_type": "stream",
     "text": [
      "\r",
      "\u001b[1;34m￨ stanza 127, line 10: her EYES so SUI ted AND they MOUR ners SEEM           :  82%|\u001b[0;36m████████▏ \u001b[0;36m| 1770/2155 [00:47<00:08, 44.04it/s]"
     ]
    },
    {
     "name": "stderr",
     "output_type": "stream",
     "text": [
      "\r",
      "\u001b[1;34m￨ stanza 127, line 11: at.such WHO not BORN fair NO.BEA uty LACK             :  82%|\u001b[0;36m████████▏ \u001b[0;36m| 1770/2155 [00:47<00:08, 44.04it/s]"
     ]
    },
    {
     "name": "stderr",
     "output_type": "stream",
     "text": [
      "\r",
      "\u001b[1;34m￨ stanza 127, line 12: SLAN de RING crea TI on WITH a FALSE es TEEM          :  82%|\u001b[0;36m████████▏ \u001b[0;36m| 1770/2155 [00:47<00:08, 44.04it/s]"
     ]
    },
    {
     "name": "stderr",
     "output_type": "stream",
     "text": [
      "\r",
      "\u001b[1;34m￨ stanza 127, line 13: YET so.they MOURN be CO ming OF their WOE             :  82%|\u001b[0;36m████████▏ \u001b[0;36m| 1770/2155 [00:47<00:08, 44.04it/s]"
     ]
    },
    {
     "name": "stderr",
     "output_type": "stream",
     "text": [
      "\r",
      "\u001b[1;34m￨ stanza 127, line 14: that E very TONGUE says BEA uty SHOULD look SO        :  82%|\u001b[0;36m████████▏ \u001b[0;36m| 1770/2155 [00:47<00:08, 44.04it/s]"
     ]
    },
    {
     "name": "stderr",
     "output_type": "stream",
     "text": [
      "\r",
      "\u001b[1;34m￨ stanza 128, line 01: how OFT when THOU my MU sic MU sic PLAY'ST            :  82%|\u001b[0;36m████████▏ \u001b[0;36m| 1770/2155 [00:47<00:08, 44.04it/s]"
     ]
    },
    {
     "name": "stderr",
     "output_type": "stream",
     "text": [
      "\r",
      "\u001b[1;34m￨ stanza 128, line 02: u PON that BLESSED.WOOD whose MO tion SOUNDS          :  82%|\u001b[0;36m████████▏ \u001b[0;36m| 1770/2155 [00:47<00:08, 44.04it/s]"
     ]
    },
    {
     "name": "stderr",
     "output_type": "stream",
     "text": [
      "\r",
      "\u001b[1;34m￨ stanza 128, line 03: with THY sweet FIN gers WHEN thou GEN tly SWAY'ST     :  82%|\u001b[0;36m████████▏ \u001b[0;36m| 1770/2155 [00:47<00:08, 44.04it/s]"
     ]
    },
    {
     "name": "stderr",
     "output_type": "stream",
     "text": [
      "\r",
      "\u001b[1;34m￨ stanza 128, line 04: the WI ry CON cord THAT mine EAR con FOUNDS           :  82%|\u001b[0;36m████████▏ \u001b[0;36m| 1770/2155 [00:47<00:08, 44.04it/s]"
     ]
    },
    {
     "name": "stderr",
     "output_type": "stream",
     "text": [
      "\r",
      "\u001b[1;34m￨ stanza 128, line 05: do.i EN vy.those JACKS that NIM ble LEAP              :  82%|\u001b[0;36m████████▏ \u001b[0;36m| 1770/2155 [00:47<00:08, 44.04it/s]"
     ]
    },
    {
     "name": "stderr",
     "output_type": "stream",
     "text": [
      "\r",
      "\u001b[1;34m￨ stanza 128, line 06: to KISS the TEN der IN ward OF thy HAND               :  82%|\u001b[0;36m████████▏ \u001b[0;36m| 1770/2155 [00:47<00:08, 44.04it/s]"
     ]
    },
    {
     "name": "stderr",
     "output_type": "stream",
     "text": [
      "\r",
      "\u001b[1;34m￨ stanza 128, line 07: WHILST my POOR lips WHICH should.that HAR vest REAP   :  82%|\u001b[0;36m████████▏ \u001b[0;36m| 1770/2155 [00:47<00:08, 44.04it/s]"
     ]
    },
    {
     "name": "stderr",
     "output_type": "stream",
     "text": [
      "\r",
      "\u001b[1;34m￨ stanza 128, line 08: at THE wood's BOL dness BY thee BLUS hing STAND       :  82%|\u001b[0;36m████████▏ \u001b[0;36m| 1770/2155 [00:47<00:08, 44.04it/s]"
     ]
    },
    {
     "name": "stderr",
     "output_type": "stream",
     "text": [
      "\r",
      "\u001b[1;34m￨ stanza 128, line 09: to BE so TIC kled THEY would CHANGE their STATE       :  82%|\u001b[0;36m████████▏ \u001b[0;36m| 1770/2155 [00:47<00:08, 44.04it/s]"
     ]
    },
    {
     "name": "stderr",
     "output_type": "stream",
     "text": [
      "\r",
      "\u001b[1;34m￨ stanza 128, line 09: to BE so TIC kled THEY would CHANGE their STATE       :  83%|\u001b[0;36m████████▎ \u001b[0;36m| 1786/2155 [00:47<00:06, 59.02it/s]"
     ]
    },
    {
     "name": "stderr",
     "output_type": "stream",
     "text": [
      "\r",
      "\u001b[1;34m￨ stanza 128, line 10: and SI tua TI on WITH those DAN cing CHIPS            :  83%|\u001b[0;36m████████▎ \u001b[0;36m| 1786/2155 [00:47<00:06, 59.02it/s]"
     ]
    },
    {
     "name": "stderr",
     "output_type": "stream",
     "text": [
      "\r",
      "\u001b[1;34m￨ stanza 128, line 11: o'er WHOM thy FIN gers WALK with GEN tle GAIT         :  83%|\u001b[0;36m████████▎ \u001b[0;36m| 1786/2155 [00:47<00:06, 59.02it/s]"
     ]
    },
    {
     "name": "stderr",
     "output_type": "stream",
     "text": [
      "\r",
      "\u001b[1;34m￨ stanza 128, line 12: MA king DEAD.WOOD more BLEST than LI ving LIPS        :  83%|\u001b[0;36m████████▎ \u001b[0;36m| 1786/2155 [00:47<00:06, 59.02it/s]"
     ]
    },
    {
     "name": "stderr",
     "output_type": "stream",
     "text": [
      "\r",
      "\u001b[1;34m￨ stanza 128, line 13: since SAU cy JACKS so HAP py ARE in.this              :  83%|\u001b[0;36m████████▎ \u001b[0;36m| 1786/2155 [00:47<00:06, 59.02it/s]"
     ]
    },
    {
     "name": "stderr",
     "output_type": "stream",
     "text": [
      "\r",
      "\u001b[1;34m￨ stanza 128, line 14: GIVE them.thy FIN gers ME thy LIPS to KISS            :  83%|\u001b[0;36m████████▎ \u001b[0;36m| 1786/2155 [00:47<00:06, 59.02it/s]"
     ]
    },
    {
     "name": "stderr",
     "output_type": "stream",
     "text": [
      "\r",
      "\u001b[1;34m￨ stanza 129, line 01: THE ex PENSE of SPI rit IN a WASTE of SHAME           :  83%|\u001b[0;36m████████▎ \u001b[0;36m| 1786/2155 [00:47<00:06, 59.02it/s]"
     ]
    },
    {
     "name": "stderr",
     "output_type": "stream",
     "text": [
      "\r",
      "\u001b[1;34m￨ stanza 129, line 02: is LUST in AC tion AND till AC tion LUST              :  83%|\u001b[0;36m████████▎ \u001b[0;36m| 1786/2155 [00:47<00:06, 59.02it/s]"
     ]
    },
    {
     "name": "stderr",
     "output_type": "stream",
     "text": [
      "\r",
      "\u001b[1;34m￨ stanza 129, line 03: is PER jured MUR de.rous BLOO dy FULL of BLAME        :  83%|\u001b[0;36m████████▎ \u001b[0;36m| 1786/2155 [00:47<00:06, 59.02it/s]"
     ]
    },
    {
     "name": "stderr",
     "output_type": "stream",
     "text": [
      "\r",
      "\u001b[1;34m￨ stanza 129, line 04: SA.VAGE ex TREME rude CR uel NOT to TRUST             :  83%|\u001b[0;36m████████▎ \u001b[0;36m| 1786/2155 [00:47<00:06, 59.02it/s]"
     ]
    },
    {
     "name": "stderr",
     "output_type": "stream",
     "text": [
      "\r",
      "\u001b[1;34m￨ stanza 129, line 05: en JOY'D no SOO ner BUT des PISED straight            :  83%|\u001b[0;36m████████▎ \u001b[0;36m| 1786/2155 [00:47<00:06, 59.02it/s]"
     ]
    },
    {
     "name": "stderr",
     "output_type": "stream",
     "text": [
      "\r",
      "\u001b[1;34m￨ stanza 129, line 06: past REA son HUN ted AND no SOO ner HAD               :  83%|\u001b[0;36m████████▎ \u001b[0;36m| 1786/2155 [00:47<00:06, 59.02it/s]"
     ]
    },
    {
     "name": "stderr",
     "output_type": "stream",
     "text": [
      "\r",
      "\u001b[1;34m￨ stanza 129, line 07: past REA son HA ted AS a SWAL low'd BAIT              :  83%|\u001b[0;36m████████▎ \u001b[0;36m| 1786/2155 [00:47<00:06, 59.02it/s]"
     ]
    },
    {
     "name": "stderr",
     "output_type": "stream",
     "text": [
      "\r",
      "\u001b[1;34m￨ stanza 129, line 08: on PUR pose LAID to MAKE the TA ker MAD               :  83%|\u001b[0;36m████████▎ \u001b[0;36m| 1786/2155 [00:47<00:06, 59.02it/s]"
     ]
    },
    {
     "name": "stderr",
     "output_type": "stream",
     "text": [
      "\r",
      "\u001b[1;34m￨ stanza 129, line 09: mad IN pur SUIT and IN pos SES sion SO                :  83%|\u001b[0;36m████████▎ \u001b[0;36m| 1786/2155 [00:47<00:06, 59.02it/s]"
     ]
    },
    {
     "name": "stderr",
     "output_type": "stream",
     "text": [
      "\r",
      "\u001b[1;34m￨ stanza 129, line 10: had HA ving AND in QUEST to HAVE ex TREME             :  83%|\u001b[0;36m████████▎ \u001b[0;36m| 1786/2155 [00:47<00:06, 59.02it/s]"
     ]
    },
    {
     "name": "stderr",
     "output_type": "stream",
     "text": [
      "\r",
      "\u001b[1;34m￨ stanza 129, line 10: had HA ving AND in QUEST to HAVE ex TREME             :  84%|\u001b[0;36m████████▎ \u001b[0;36m| 1801/2155 [00:47<00:07, 44.67it/s]"
     ]
    },
    {
     "name": "stderr",
     "output_type": "stream",
     "text": [
      "\r",
      "\u001b[1;34m￨ stanza 129, line 11: a BLISS in PROOF and PROVED a VE ry WOE               :  84%|\u001b[0;36m████████▎ \u001b[0;36m| 1801/2155 [00:47<00:07, 44.67it/s]"
     ]
    },
    {
     "name": "stderr",
     "output_type": "stream",
     "text": [
      "\r",
      "\u001b[1;34m￨ stanza 129, line 12: be FORE a JOY pro POSED be HIND a DREAM               :  84%|\u001b[0;36m████████▎ \u001b[0;36m| 1801/2155 [00:47<00:07, 44.67it/s]"
     ]
    },
    {
     "name": "stderr",
     "output_type": "stream",
     "text": [
      "\r",
      "\u001b[1;34m￨ stanza 129, line 13: ALL this.the WORLD well KNOWS yet NONE knows WELL     :  84%|\u001b[0;36m████████▎ \u001b[0;36m| 1801/2155 [00:47<00:07, 44.67it/s]"
     ]
    },
    {
     "name": "stderr",
     "output_type": "stream",
     "text": [
      "\r",
      "\u001b[1;34m￨ stanza 129, line 14: to SHUN the HEA ven THAT leads MEN to.this HELL       :  84%|\u001b[0;36m████████▎ \u001b[0;36m| 1801/2155 [00:47<00:07, 44.67it/s]"
     ]
    },
    {
     "name": "stderr",
     "output_type": "stream",
     "text": [
      "\r",
      "\u001b[1;34m￨ stanza 130, line 01: my MIS tress' EYES are NOT hing LIKE the SUN          :  84%|\u001b[0;36m████████▎ \u001b[0;36m| 1801/2155 [00:47<00:07, 44.67it/s]"
     ]
    },
    {
     "name": "stderr",
     "output_type": "stream",
     "text": [
      "\r",
      "\u001b[1;34m￨ stanza 130, line 02: CO.RAL is FAR more RED than HER lips' RED             :  84%|\u001b[0;36m████████▎ \u001b[0;36m| 1801/2155 [00:47<00:07, 44.67it/s]"
     ]
    },
    {
     "name": "stderr",
     "output_type": "stream",
     "text": [
      "\r",
      "\u001b[1;34m￨ stanza 130, line 03: if SNOW be WHITE why THEN her BREASTS are DUN         :  84%|\u001b[0;36m████████▎ \u001b[0;36m| 1801/2155 [00:47<00:07, 44.67it/s]"
     ]
    },
    {
     "name": "stderr",
     "output_type": "stream",
     "text": [
      "\r",
      "\u001b[1;34m￨ stanza 130, line 04: if HAIRS be WI res BLACK wires GROW on.her HEAD       :  84%|\u001b[0;36m████████▎ \u001b[0;36m| 1801/2155 [00:47<00:07, 44.67it/s]"
     ]
    },
    {
     "name": "stderr",
     "output_type": "stream",
     "text": [
      "\r",
      "\u001b[1;34m￨ stanza 130, line 05: i HAVE seen RO ses DA mask'd RED and WHITE            :  84%|\u001b[0;36m████████▎ \u001b[0;36m| 1801/2155 [00:47<00:07, 44.67it/s]"
     ]
    },
    {
     "name": "stderr",
     "output_type": "stream",
     "text": [
      "\r",
      "\u001b[1;34m￨ stanza 130, line 06: but NO such RO ses SEE i IN her CHEEKS                :  84%|\u001b[0;36m████████▎ \u001b[0;36m| 1801/2155 [00:47<00:07, 44.67it/s]"
     ]
    },
    {
     "name": "stderr",
     "output_type": "stream",
     "text": [
      "\r",
      "\u001b[1;34m￨ stanza 130, line 07: and.in SOME per FUMES is.there MORE de LIGHT          :  84%|\u001b[0;36m████████▎ \u001b[0;36m| 1801/2155 [00:47<00:07, 44.67it/s]"
     ]
    },
    {
     "name": "stderr",
     "output_type": "stream",
     "text": [
      "\r",
      "\u001b[1;34m￨ stanza 130, line 08: than IN the BREATH that FROM my MIS tress REEKS       :  84%|\u001b[0;36m████████▎ \u001b[0;36m| 1801/2155 [00:47<00:07, 44.67it/s]"
     ]
    },
    {
     "name": "stderr",
     "output_type": "stream",
     "text": [
      "\r",
      "\u001b[1;34m￨ stanza 130, line 09: i LOVE to HEAR her SPEAK yet WELL i KNOW              :  84%|\u001b[0;36m████████▎ \u001b[0;36m| 1801/2155 [00:47<00:07, 44.67it/s]"
     ]
    },
    {
     "name": "stderr",
     "output_type": "stream",
     "text": [
      "\r",
      "\u001b[1;34m￨ stanza 130, line 10: that MU sic HATH a FAR more PLEA sing SOUND           :  84%|\u001b[0;36m████████▎ \u001b[0;36m| 1801/2155 [00:48<00:07, 44.67it/s]"
     ]
    },
    {
     "name": "stderr",
     "output_type": "stream",
     "text": [
      "\r",
      "\u001b[1;34m￨ stanza 130, line 10: that MU sic HATH a FAR more PLEA sing SOUND           :  84%|\u001b[0;36m████████▍ \u001b[0;36m| 1815/2155 [00:48<00:08, 42.07it/s]"
     ]
    },
    {
     "name": "stderr",
     "output_type": "stream",
     "text": [
      "\r",
      "\u001b[1;34m￨ stanza 130, line 11: i GRANT i NE ver SAW a GOD dess GO                    :  84%|\u001b[0;36m████████▍ \u001b[0;36m| 1815/2155 [00:48<00:08, 42.07it/s]"
     ]
    },
    {
     "name": "stderr",
     "output_type": "stream",
     "text": [
      "\r",
      "\u001b[1;34m￨ stanza 130, line 12: my MIS tress WHEN she WALKS treads ON the GROUND      :  84%|\u001b[0;36m████████▍ \u001b[0;36m| 1815/2155 [00:48<00:08, 42.07it/s]"
     ]
    },
    {
     "name": "stderr",
     "output_type": "stream",
     "text": [
      "\r",
      "\u001b[1;34m￨ stanza 130, line 13: and YET by HEAVEN i THINK my LOVE as RARE             :  84%|\u001b[0;36m████████▍ \u001b[0;36m| 1815/2155 [00:48<00:08, 42.07it/s]"
     ]
    },
    {
     "name": "stderr",
     "output_type": "stream",
     "text": [
      "\r",
      "\u001b[1;34m￨ stanza 130, line 14: as A ny SHE be LIED with FALSE com PARE               :  84%|\u001b[0;36m████████▍ \u001b[0;36m| 1815/2155 [00:48<00:08, 42.07it/s]"
     ]
    },
    {
     "name": "stderr",
     "output_type": "stream",
     "text": [
      "\r",
      "\u001b[1;34m￨ stanza 131, line 01: thou ART as TY ran NOUS so.as THOU art                :  84%|\u001b[0;36m████████▍ \u001b[0;36m| 1815/2155 [00:48<00:08, 42.07it/s]"
     ]
    },
    {
     "name": "stderr",
     "output_type": "stream",
     "text": [
      "\r",
      "\u001b[1;34m￨ stanza 131, line 02: as THOSE whose BEA uties PROU dly MAKE them CRUEL     :  84%|\u001b[0;36m████████▍ \u001b[0;36m| 1815/2155 [00:48<00:08, 42.07it/s]"
     ]
    },
    {
     "name": "stderr",
     "output_type": "stream",
     "text": [
      "\r",
      "\u001b[1;34m￨ stanza 131, line 03: for WELL thou KNOW'ST to MY dear DO ting HEART        :  84%|\u001b[0;36m████████▍ \u001b[0;36m| 1815/2155 [00:48<00:08, 42.07it/s]"
     ]
    },
    {
     "name": "stderr",
     "output_type": "stream",
     "text": [
      "\r",
      "\u001b[1;34m￨ stanza 131, line 04: thou ART the FAI rest AND most PRE cious JEWEL        :  84%|\u001b[0;36m████████▍ \u001b[0;36m| 1815/2155 [00:48<00:08, 42.07it/s]"
     ]
    },
    {
     "name": "stderr",
     "output_type": "stream",
     "text": [
      "\r",
      "\u001b[1;34m￨ stanza 131, line 04: thou ART the FAI rest AND most PRE cious JEWEL        :  85%|\u001b[0;36m████████▍ \u001b[0;36m| 1823/2155 [00:48<00:07, 44.18it/s]"
     ]
    },
    {
     "name": "stderr",
     "output_type": "stream",
     "text": [
      "\r",
      "\u001b[1;34m￨ stanza 131, line 05: yet IN good FAITH some SAY that THEE be HOLD          :  85%|\u001b[0;36m████████▍ \u001b[0;36m| 1823/2155 [00:48<00:07, 44.18it/s]"
     ]
    },
    {
     "name": "stderr",
     "output_type": "stream",
     "text": [
      "\r",
      "\u001b[1;34m￨ stanza 131, line 06: thy FACE hath NOT the PO wer TO make LOVE groan       :  85%|\u001b[0;36m████████▍ \u001b[0;36m| 1823/2155 [00:48<00:07, 44.18it/s]"
     ]
    },
    {
     "name": "stderr",
     "output_type": "stream",
     "text": [
      "\r",
      "\u001b[1;34m￨ stanza 131, line 07: to SAY they ERR i DARE not BE so BOLD                 :  85%|\u001b[0;36m████████▍ \u001b[0;36m| 1823/2155 [00:48<00:07, 44.18it/s]"
     ]
    },
    {
     "name": "stderr",
     "output_type": "stream",
     "text": [
      "\r",
      "\u001b[1;34m￨ stanza 131, line 08: alt HOUGH i SWEAR it.to MY.SELF a LONE                :  85%|\u001b[0;36m████████▍ \u001b[0;36m| 1823/2155 [00:48<00:07, 44.18it/s]"
     ]
    },
    {
     "name": "stderr",
     "output_type": "stream",
     "text": [
      "\r",
      "\u001b[1;34m￨ stanza 131, line 09: and TO be SURE that IS not FALSE i SWEAR              :  85%|\u001b[0;36m████████▍ \u001b[0;36m| 1823/2155 [00:48<00:07, 44.18it/s]"
     ]
    },
    {
     "name": "stderr",
     "output_type": "stream",
     "text": [
      "\r",
      "\u001b[1;34m￨ stanza 131, line 10: a THOU sand GROANS but THIN king ON thy FACE          :  85%|\u001b[0;36m████████▍ \u001b[0;36m| 1823/2155 [00:48<00:07, 44.18it/s]"
     ]
    },
    {
     "name": "stderr",
     "output_type": "stream",
     "text": [
      "\r",
      "\u001b[1;34m￨ stanza 131, line 10: a THOU sand GROANS but THIN king ON thy FACE          :  85%|\u001b[0;36m████████▍ \u001b[0;36m| 1829/2155 [00:48<00:08, 39.13it/s]"
     ]
    },
    {
     "name": "stderr",
     "output_type": "stream",
     "text": [
      "\r",
      "\u001b[1;34m￨ stanza 131, line 11: one ON a NOT her's NECK do WI tness BEAR              :  85%|\u001b[0;36m████████▍ \u001b[0;36m| 1829/2155 [00:48<00:08, 39.13it/s]"
     ]
    },
    {
     "name": "stderr",
     "output_type": "stream",
     "text": [
      "\r",
      "\u001b[1;34m￨ stanza 131, line 12: thy BLACK is FAI rest IN my JUD gment's PLACE         :  85%|\u001b[0;36m████████▍ \u001b[0;36m| 1829/2155 [00:48<00:08, 39.13it/s]"
     ]
    },
    {
     "name": "stderr",
     "output_type": "stream",
     "text": [
      "\r",
      "\u001b[1;34m￨ stanza 131, line 13: in NOT hing ART thou BLACK save IN thy DEEDS          :  85%|\u001b[0;36m████████▍ \u001b[0;36m| 1829/2155 [00:48<00:08, 39.13it/s]"
     ]
    },
    {
     "name": "stderr",
     "output_type": "stream",
     "text": [
      "\r",
      "\u001b[1;34m￨ stanza 131, line 14: and THENCE this SLAN der AS i THINK pro CEEDS         :  85%|\u001b[0;36m████████▍ \u001b[0;36m| 1829/2155 [00:48<00:08, 39.13it/s]"
     ]
    },
    {
     "name": "stderr",
     "output_type": "stream",
     "text": [
      "\r",
      "\u001b[1;34m￨ stanza 132, line 01: thine EYES i LOVE and THEY as PI ty ING me            :  85%|\u001b[0;36m████████▍ \u001b[0;36m| 1829/2155 [00:48<00:08, 39.13it/s]"
     ]
    },
    {
     "name": "stderr",
     "output_type": "stream",
     "text": [
      "\r",
      "\u001b[1;34m￨ stanza 132, line 01: thine EYES i LOVE and THEY as PI ty ING me            :  85%|\u001b[0;36m████████▌ \u001b[0;36m| 1834/2155 [00:48<00:08, 36.18it/s]"
     ]
    },
    {
     "name": "stderr",
     "output_type": "stream",
     "text": [
      "\r",
      "\u001b[1;34m￨ stanza 132, line 02: KNO wing THY heart TOR.MENTS me WITH dis DAIN         :  85%|\u001b[0;36m████████▌ \u001b[0;36m| 1834/2155 [00:48<00:08, 36.18it/s]"
     ]
    },
    {
     "name": "stderr",
     "output_type": "stream",
     "text": [
      "\r",
      "\u001b[1;34m￨ stanza 132, line 03: have PUT on BLACK and LO ving MOUR ners BE            :  85%|\u001b[0;36m████████▌ \u001b[0;36m| 1834/2155 [00:48<00:08, 36.18it/s]"
     ]
    },
    {
     "name": "stderr",
     "output_type": "stream",
     "text": [
      "\r",
      "\u001b[1;34m￨ stanza 132, line 04: LOO.KING with PRET ty RUTH u PON my PAIN              :  85%|\u001b[0;36m████████▌ \u001b[0;36m| 1834/2155 [00:48<00:08, 36.18it/s]"
     ]
    },
    {
     "name": "stderr",
     "output_type": "stream",
     "text": [
      "\r",
      "\u001b[1;34m￨ stanza 132, line 05: and TRU ly NOT the MOR ning SUN of HEAVEN             :  85%|\u001b[0;36m████████▌ \u001b[0;36m| 1834/2155 [00:48<00:08, 36.18it/s]"
     ]
    },
    {
     "name": "stderr",
     "output_type": "stream",
     "text": [
      "\r",
      "\u001b[1;34m￨ stanza 132, line 06: BET.TER be COMES the GREY cheeks OF the EAST          :  85%|\u001b[0;36m████████▌ \u001b[0;36m| 1834/2155 [00:48<00:08, 36.18it/s]"
     ]
    },
    {
     "name": "stderr",
     "output_type": "stream",
     "text": [
      "\r",
      "\u001b[1;34m￨ stanza 132, line 07: nor THAT full STAR that US hers IN the E ven          :  85%|\u001b[0;36m████████▌ \u001b[0;36m| 1834/2155 [00:48<00:08, 36.18it/s]"
     ]
    },
    {
     "name": "stderr",
     "output_type": "stream",
     "text": [
      "\r",
      "\u001b[1;34m￨ stanza 132, line 08: doth HALF that GLO ry TO the SO ber WEST              :  85%|\u001b[0;36m████████▌ \u001b[0;36m| 1834/2155 [00:48<00:08, 36.18it/s]"
     ]
    },
    {
     "name": "stderr",
     "output_type": "stream",
     "text": [
      "\r",
      "\u001b[1;34m￨ stanza 132, line 09: as THOSE two MOUR ning EYES be COME thy FACE          :  85%|\u001b[0;36m████████▌ \u001b[0;36m| 1834/2155 [00:48<00:08, 36.18it/s]"
     ]
    },
    {
     "name": "stderr",
     "output_type": "stream",
     "text": [
      "\r",
      "\u001b[1;34m￨ stanza 132, line 10: o LET it THEN as WELL be SEEM thy HEART               :  85%|\u001b[0;36m████████▌ \u001b[0;36m| 1834/2155 [00:48<00:08, 36.18it/s]"
     ]
    },
    {
     "name": "stderr",
     "output_type": "stream",
     "text": [
      "\r",
      "\u001b[1;34m￨ stanza 132, line 11: to MOURN for ME since MOUR ning DOTH thee GRACE       :  85%|\u001b[0;36m████████▌ \u001b[0;36m| 1834/2155 [00:48<00:08, 36.18it/s]"
     ]
    },
    {
     "name": "stderr",
     "output_type": "stream",
     "text": [
      "\r",
      "\u001b[1;34m￨ stanza 132, line 12: and SUIT thy PI ty LIKE in E very PART                :  85%|\u001b[0;36m████████▌ \u001b[0;36m| 1834/2155 [00:48<00:08, 36.18it/s]"
     ]
    },
    {
     "name": "stderr",
     "output_type": "stream",
     "text": [
      "\r",
      "\u001b[1;34m￨ stanza 132, line 13: THEN will.i SWEAR bea UTY her SELF is BLACK           :  85%|\u001b[0;36m████████▌ \u001b[0;36m| 1834/2155 [00:48<00:08, 36.18it/s]"
     ]
    },
    {
     "name": "stderr",
     "output_type": "stream",
     "text": [
      "\r",
      "\u001b[1;34m￨ stanza 132, line 14: and ALL they FOUL that THY com PLE xion LACK          :  85%|\u001b[0;36m████████▌ \u001b[0;36m| 1834/2155 [00:48<00:08, 36.18it/s]"
     ]
    },
    {
     "name": "stderr",
     "output_type": "stream",
     "text": [
      "\r",
      "\u001b[1;34m￨ stanza 133, line 01: bes HREW that HEART that MAKES my HEART to GROAN      :  85%|\u001b[0;36m████████▌ \u001b[0;36m| 1834/2155 [00:48<00:08, 36.18it/s]"
     ]
    },
    {
     "name": "stderr",
     "output_type": "stream",
     "text": [
      "\r",
      "\u001b[1;34m￨ stanza 133, line 02: for THAT deep WOUND it GIVES my FRIEND and ME         :  85%|\u001b[0;36m████████▌ \u001b[0;36m| 1834/2155 [00:48<00:08, 36.18it/s]"
     ]
    },
    {
     "name": "stderr",
     "output_type": "stream",
     "text": [
      "\r",
      "\u001b[1;34m￨ stanza 133, line 03: is't NOT e NOUGH to TOR ture ME a LONE                :  85%|\u001b[0;36m████████▌ \u001b[0;36m| 1834/2155 [00:48<00:08, 36.18it/s]"
     ]
    },
    {
     "name": "stderr",
     "output_type": "stream",
     "text": [
      "\r",
      "\u001b[1;34m￨ stanza 133, line 04: but SLAVE to SLA ve RY my SWEET'ST friend MUST be     :  85%|\u001b[0;36m████████▌ \u001b[0;36m| 1834/2155 [00:48<00:08, 36.18it/s]"
     ]
    },
    {
     "name": "stderr",
     "output_type": "stream",
     "text": [
      "\r",
      "\u001b[1;34m￨ stanza 133, line 05: me.from MY.SELF thy CR uel EYE hath TA ken            :  85%|\u001b[0;36m████████▌ \u001b[0;36m| 1834/2155 [00:48<00:08, 36.18it/s]"
     ]
    },
    {
     "name": "stderr",
     "output_type": "stream",
     "text": [
      "\r",
      "\u001b[1;34m￨ stanza 133, line 06: and MY next SELF thou HAR der HAST en GROSS'D         :  85%|\u001b[0;36m████████▌ \u001b[0;36m| 1834/2155 [00:48<00:08, 36.18it/s]"
     ]
    },
    {
     "name": "stderr",
     "output_type": "stream",
     "text": [
      "\r",
      "\u001b[1;34m￨ stanza 133, line 07: of HIM my SELF and THEE i AM for SA ken               :  85%|\u001b[0;36m████████▌ \u001b[0;36m| 1834/2155 [00:48<00:08, 36.18it/s]"
     ]
    },
    {
     "name": "stderr",
     "output_type": "stream",
     "text": [
      "\r",
      "\u001b[1;34m￨ stanza 133, line 08: a TOR ment THRICE three.fold THUS to.be CROSS'D       :  85%|\u001b[0;36m████████▌ \u001b[0;36m| 1834/2155 [00:48<00:08, 36.18it/s]"
     ]
    },
    {
     "name": "stderr",
     "output_type": "stream",
     "text": [
      "\r",
      "\u001b[1;34m￨ stanza 133, line 09: PRI.SON my HEART in THY steel BO som's WARD           :  85%|\u001b[0;36m████████▌ \u001b[0;36m| 1834/2155 [00:48<00:08, 36.18it/s]"
     ]
    },
    {
     "name": "stderr",
     "output_type": "stream",
     "text": [
      "\r",
      "\u001b[1;34m￨ stanza 133, line 10: but THEN my FRIEND'S heart LET my POOR heart BAIL     :  85%|\u001b[0;36m████████▌ \u001b[0;36m| 1834/2155 [00:48<00:08, 36.18it/s]"
     ]
    },
    {
     "name": "stderr",
     "output_type": "stream",
     "text": [
      "\r",
      "\u001b[1;34m￨ stanza 133, line 11: WHOE 'er KEEPS me LET my HEART be.his GUARD           :  85%|\u001b[0;36m████████▌ \u001b[0;36m| 1834/2155 [00:48<00:08, 36.18it/s]"
     ]
    },
    {
     "name": "stderr",
     "output_type": "stream",
     "text": [
      "\r",
      "\u001b[1;34m￨ stanza 133, line 11: WHOE 'er KEEPS me LET my HEART be.his GUARD           :  86%|\u001b[0;36m████████▌ \u001b[0;36m| 1858/2155 [00:48<00:04, 66.22it/s]"
     ]
    },
    {
     "name": "stderr",
     "output_type": "stream",
     "text": [
      "\r",
      "\u001b[1;34m￨ stanza 133, line 12: thou CANST not THEN use RI gor IN my.gaol             :  86%|\u001b[0;36m████████▌ \u001b[0;36m| 1858/2155 [00:48<00:04, 66.22it/s]"
     ]
    },
    {
     "name": "stderr",
     "output_type": "stream",
     "text": [
      "\r",
      "\u001b[1;34m￨ stanza 133, line 13: and YET thou WILT for.i BE ing PENT in THEE           :  86%|\u001b[0;36m████████▌ \u001b[0;36m| 1858/2155 [00:49<00:04, 66.22it/s]"
     ]
    },
    {
     "name": "stderr",
     "output_type": "stream",
     "text": [
      "\r",
      "\u001b[1;34m￨ stanza 133, line 14: per FORCE am THINE and ALL that IS in ME              :  86%|\u001b[0;36m████████▌ \u001b[0;36m| 1858/2155 [00:49<00:04, 66.22it/s]"
     ]
    },
    {
     "name": "stderr",
     "output_type": "stream",
     "text": [
      "\r",
      "\u001b[1;34m￨ stanza 134, line 01: so NOW i HAVE con FESS'D that.he IS thine             :  86%|\u001b[0;36m████████▌ \u001b[0;36m| 1858/2155 [00:49<00:04, 66.22it/s]"
     ]
    },
    {
     "name": "stderr",
     "output_type": "stream",
     "text": [
      "\r",
      "\u001b[1;34m￨ stanza 134, line 02: and I my SELF am MORT gaged TO thy.will               :  86%|\u001b[0;36m████████▌ \u001b[0;36m| 1858/2155 [00:49<00:04, 66.22it/s]"
     ]
    },
    {
     "name": "stderr",
     "output_type": "stream",
     "text": [
      "\r",
      "\u001b[1;34m￨ stanza 134, line 03: my SELF i'll FOR feit SO that OT her MINE             :  86%|\u001b[0;36m████████▌ \u001b[0;36m| 1858/2155 [00:49<00:04, 66.22it/s]"
     ]
    },
    {
     "name": "stderr",
     "output_type": "stream",
     "text": [
      "\r",
      "\u001b[1;34m￨ stanza 134, line 04: thou WILT res TORE to BE my COM fort STILL            :  86%|\u001b[0;36m████████▌ \u001b[0;36m| 1858/2155 [00:49<00:04, 66.22it/s]"
     ]
    },
    {
     "name": "stderr",
     "output_type": "stream",
     "text": [
      "\r",
      "\u001b[1;34m￨ stanza 134, line 05: but THOU wilt NOT nor HE will NOT be FREE             :  86%|\u001b[0;36m████████▌ \u001b[0;36m| 1858/2155 [00:49<00:04, 66.22it/s]"
     ]
    },
    {
     "name": "stderr",
     "output_type": "stream",
     "text": [
      "\r",
      "\u001b[1;34m￨ stanza 134, line 06: for THOU art CO ve TOUS and HE is KIND                :  86%|\u001b[0;36m████████▌ \u001b[0;36m| 1858/2155 [00:49<00:04, 66.22it/s]"
     ]
    },
    {
     "name": "stderr",
     "output_type": "stream",
     "text": [
      "\r",
      "\u001b[1;34m￨ stanza 134, line 07: he LEARN'D but SU re TY like.to WRITE for ME          :  86%|\u001b[0;36m████████▌ \u001b[0;36m| 1858/2155 [00:49<00:04, 66.22it/s]"
     ]
    },
    {
     "name": "stderr",
     "output_type": "stream",
     "text": [
      "\r",
      "\u001b[1;34m￨ stanza 134, line 07: he LEARN'D but SU re TY like.to WRITE for ME          :  87%|\u001b[0;36m████████▋ \u001b[0;36m| 1868/2155 [00:49<00:10, 28.38it/s]"
     ]
    },
    {
     "name": "stderr",
     "output_type": "stream",
     "text": [
      "\r",
      "\u001b[1;34m￨ stanza 134, line 08: UN der THAT bond THAT him.as FAST doth BIND           :  87%|\u001b[0;36m████████▋ \u001b[0;36m| 1868/2155 [00:49<00:10, 28.38it/s]"
     ]
    },
    {
     "name": "stderr",
     "output_type": "stream",
     "text": [
      "\r",
      "\u001b[1;34m￨ stanza 134, line 09: the STA tute OF thy BEA uty THOU wilt TAKE            :  87%|\u001b[0;36m████████▋ \u001b[0;36m| 1868/2155 [00:49<00:10, 28.38it/s]"
     ]
    },
    {
     "name": "stderr",
     "output_type": "stream",
     "text": [
      "\r",
      "\u001b[1;34m￨ stanza 134, line 10: thou U su RER that PUT'ST forth ALL to USE            :  87%|\u001b[0;36m████████▋ \u001b[0;36m| 1868/2155 [00:49<00:10, 28.38it/s]"
     ]
    },
    {
     "name": "stderr",
     "output_type": "stream",
     "text": [
      "\r",
      "\u001b[1;34m￨ stanza 134, line 11: and SUE a FRIEND came DEB tor FOR my SAKE             :  87%|\u001b[0;36m████████▋ \u001b[0;36m| 1868/2155 [00:49<00:10, 28.38it/s]"
     ]
    },
    {
     "name": "stderr",
     "output_type": "stream",
     "text": [
      "\r",
      "\u001b[1;34m￨ stanza 134, line 12: so HIM i LOSE through MY un KIND a BUSE               :  87%|\u001b[0;36m████████▋ \u001b[0;36m| 1868/2155 [00:49<00:10, 28.38it/s]"
     ]
    },
    {
     "name": "stderr",
     "output_type": "stream",
     "text": [
      "\r",
      "\u001b[1;34m￨ stanza 134, line 13: him HAVE i LOST thou.hast BOTH him.and ME             :  87%|\u001b[0;36m████████▋ \u001b[0;36m| 1868/2155 [00:50<00:10, 28.38it/s]"
     ]
    },
    {
     "name": "stderr",
     "output_type": "stream",
     "text": [
      "\r",
      "\u001b[1;34m￨ stanza 134, line 14: he PAYS the WHOLE and YET am I not FREE               :  87%|\u001b[0;36m████████▋ \u001b[0;36m| 1868/2155 [00:50<00:10, 28.38it/s]"
     ]
    },
    {
     "name": "stderr",
     "output_type": "stream",
     "text": [
      "\r",
      "\u001b[1;34m￨ stanza 134, line 14: he PAYS the WHOLE and YET am I not FREE               :  87%|\u001b[0;36m████████▋ \u001b[0;36m| 1875/2155 [00:50<00:11, 23.86it/s]"
     ]
    },
    {
     "name": "stderr",
     "output_type": "stream",
     "text": [
      "\r",
      "\u001b[1;34m￨ stanza 135, line 01: whoe V er HATH her WISH thou HAST thy 'WILL           :  87%|\u001b[0;36m████████▋ \u001b[0;36m| 1875/2155 [00:50<00:11, 23.86it/s]"
     ]
    },
    {
     "name": "stderr",
     "output_type": "stream",
     "text": [
      "\r",
      "\u001b[1;34m￨ stanza 135, line 02: and 'WILL' to BOOT and 'WILL' in O ver PLUS           :  87%|\u001b[0;36m████████▋ \u001b[0;36m| 1875/2155 [00:50<00:11, 23.86it/s]"
     ]
    },
    {
     "name": "stderr",
     "output_type": "stream",
     "text": [
      "\r",
      "\u001b[1;34m￨ stanza 135, line 03: more THAN e NOUGH am I that VEX thee STILL            :  87%|\u001b[0;36m████████▋ \u001b[0;36m| 1875/2155 [00:50<00:11, 23.86it/s]"
     ]
    },
    {
     "name": "stderr",
     "output_type": "stream",
     "text": [
      "\r",
      "\u001b[1;34m￨ stanza 135, line 04: to.thy SWEET will MA king AD.DI tion THUS             :  87%|\u001b[0;36m████████▋ \u001b[0;36m| 1875/2155 [00:50<00:11, 23.86it/s]"
     ]
    },
    {
     "name": "stderr",
     "output_type": "stream",
     "text": [
      "\r",
      "\u001b[1;34m￨ stanza 135, line 05: wilt.thou WHOSE will.is LARGE and SPA cious           :  87%|\u001b[0;36m████████▋ \u001b[0;36m| 1875/2155 [00:50<00:11, 23.86it/s]"
     ]
    },
    {
     "name": "stderr",
     "output_type": "stream",
     "text": [
      "\r",
      "\u001b[1;34m￨ stanza 135, line 06: NOT once VOUC hsafe.to HIDE my.will IN thine          :  87%|\u001b[0;36m████████▋ \u001b[0;36m| 1875/2155 [00:50<00:11, 23.86it/s]"
     ]
    },
    {
     "name": "stderr",
     "output_type": "stream",
     "text": [
      "\r",
      "\u001b[1;34m￨ stanza 135, line 07: SHALL will.in OT hers SEEM right GRA cious            :  87%|\u001b[0;36m████████▋ \u001b[0;36m| 1875/2155 [00:50<00:11, 23.86it/s]"
     ]
    },
    {
     "name": "stderr",
     "output_type": "stream",
     "text": [
      "\r",
      "\u001b[1;34m￨ stanza 135, line 08: and IN my WILL no FAIR ac CEP tance SHINE             :  87%|\u001b[0;36m████████▋ \u001b[0;36m| 1875/2155 [00:50<00:11, 23.86it/s]"
     ]
    },
    {
     "name": "stderr",
     "output_type": "stream",
     "text": [
      "\r",
      "\u001b[1;34m￨ stanza 135, line 09: the SEA all WA ter YET re CEIVES rain STILL           :  87%|\u001b[0;36m████████▋ \u001b[0;36m| 1875/2155 [00:50<00:11, 23.86it/s]"
     ]
    },
    {
     "name": "stderr",
     "output_type": "stream",
     "text": [
      "\r",
      "\u001b[1;34m￨ stanza 135, line 10: and IN a BUN dance AD deth TO his STORE               :  87%|\u001b[0;36m████████▋ \u001b[0;36m| 1875/2155 [00:50<00:11, 23.86it/s]"
     ]
    },
    {
     "name": "stderr",
     "output_type": "stream",
     "text": [
      "\r",
      "\u001b[1;34m￨ stanza 135, line 11: so.thou BE ing RICH in 'WILL add TO thy 'WILL'        :  87%|\u001b[0;36m████████▋ \u001b[0;36m| 1875/2155 [00:50<00:11, 23.86it/s]"
     ]
    },
    {
     "name": "stderr",
     "output_type": "stream",
     "text": [
      "\r",
      "\u001b[1;34m￨ stanza 135, line 12: one.will OF mine.to MAKE thy LARGE 'will' MORE        :  87%|\u001b[0;36m████████▋ \u001b[0;36m| 1875/2155 [00:50<00:11, 23.86it/s]"
     ]
    },
    {
     "name": "stderr",
     "output_type": "stream",
     "text": [
      "\r",
      "\u001b[1;34m￨ stanza 135, line 13: let NO un KIND no FAIR be SEEC hers KILL              :  87%|\u001b[0;36m████████▋ \u001b[0;36m| 1875/2155 [00:50<00:11, 23.86it/s]"
     ]
    },
    {
     "name": "stderr",
     "output_type": "stream",
     "text": [
      "\r",
      "\u001b[1;34m￨ stanza 135, line 14: THINK all BUT one.and ME in THAT one 'WILL            :  87%|\u001b[0;36m████████▋ \u001b[0;36m| 1875/2155 [00:50<00:11, 23.86it/s]"
     ]
    },
    {
     "name": "stderr",
     "output_type": "stream",
     "text": [
      "\r",
      "\u001b[1;34m￨ stanza 136, line 01: if THY soul CHECK thee THAT i COME so NEAR            :  87%|\u001b[0;36m████████▋ \u001b[0;36m| 1875/2155 [00:50<00:11, 23.86it/s]"
     ]
    },
    {
     "name": "stderr",
     "output_type": "stream",
     "text": [
      "\r",
      "\u001b[1;34m￨ stanza 136, line 02: SWEAR to THY blind SOUL that I was.thy 'WILL          :  87%|\u001b[0;36m████████▋ \u001b[0;36m| 1875/2155 [00:50<00:11, 23.86it/s]"
     ]
    },
    {
     "name": "stderr",
     "output_type": "stream",
     "text": [
      "\r",
      "\u001b[1;34m￨ stanza 136, line 02: SWEAR to THY blind SOUL that I was.thy 'WILL          :  88%|\u001b[0;36m████████▊ \u001b[0;36m| 1891/2155 [00:50<00:08, 32.69it/s]"
     ]
    },
    {
     "name": "stderr",
     "output_type": "stream",
     "text": [
      "\r",
      "\u001b[1;34m￨ stanza 136, line 03: and WILL thy SOUL knows IS a DMIT ted THERE           :  88%|\u001b[0;36m████████▊ \u001b[0;36m| 1891/2155 [00:50<00:08, 32.69it/s]"
     ]
    },
    {
     "name": "stderr",
     "output_type": "stream",
     "text": [
      "\r",
      "\u001b[1;34m￨ stanza 136, line 04: thus FAR for LOVE my LOVE suit SWEET ful FIL          :  88%|\u001b[0;36m████████▊ \u001b[0;36m| 1891/2155 [00:50<00:08, 32.69it/s]"
     ]
    },
    {
     "name": "stderr",
     "output_type": "stream",
     "text": [
      "\r",
      "\u001b[1;34m￨ stanza 136, line 05: 'will' WILL ful FIL the TREA sure OF thy LOVE         :  88%|\u001b[0;36m████████▊ \u001b[0;36m| 1891/2155 [00:50<00:08, 32.69it/s]"
     ]
    },
    {
     "name": "stderr",
     "output_type": "stream",
     "text": [
      "\r",
      "\u001b[1;34m￨ stanza 136, line 06: ay FILL it FULL with WILLS and MY will.one            :  88%|\u001b[0;36m████████▊ \u001b[0;36m| 1891/2155 [00:50<00:08, 32.69it/s]"
     ]
    },
    {
     "name": "stderr",
     "output_type": "stream",
     "text": [
      "\r",
      "\u001b[1;34m￨ stanza 136, line 07: in THINGS of GREAT re CEIPT with EASE we PROVE        :  88%|\u001b[0;36m████████▊ \u001b[0;36m| 1891/2155 [00:50<00:08, 32.69it/s]"
     ]
    },
    {
     "name": "stderr",
     "output_type": "stream",
     "text": [
      "\r",
      "\u001b[1;34m￨ stanza 136, line 08: a MONG a NUM ber ONE is REC kon'd NONE                :  88%|\u001b[0;36m████████▊ \u001b[0;36m| 1891/2155 [00:50<00:08, 32.69it/s]"
     ]
    },
    {
     "name": "stderr",
     "output_type": "stream",
     "text": [
      "\r",
      "\u001b[1;34m￨ stanza 136, line 09: then IN the NUM ber LET me PASS un TOLD               :  88%|\u001b[0;36m████████▊ \u001b[0;36m| 1891/2155 [00:50<00:08, 32.69it/s]"
     ]
    },
    {
     "name": "stderr",
     "output_type": "stream",
     "text": [
      "\r",
      "\u001b[1;34m￨ stanza 136, line 10: though IN thy STORES' ac COUNT i.one MUST be          :  88%|\u001b[0;36m████████▊ \u001b[0;36m| 1891/2155 [00:50<00:08, 32.69it/s]"
     ]
    },
    {
     "name": "stderr",
     "output_type": "stream",
     "text": [
      "\r",
      "\u001b[1;34m￨ stanza 136, line 11: for NOT hing HOLD me SO it PLEASE thee HOLD           :  88%|\u001b[0;36m████████▊ \u001b[0;36m| 1891/2155 [00:50<00:08, 32.69it/s]"
     ]
    },
    {
     "name": "stderr",
     "output_type": "stream",
     "text": [
      "\r",
      "\u001b[1;34m￨ stanza 136, line 12: that NOT hing ME a SO mething SWEET to THEE           :  88%|\u001b[0;36m████████▊ \u001b[0;36m| 1891/2155 [00:50<00:08, 32.69it/s]"
     ]
    },
    {
     "name": "stderr",
     "output_type": "stream",
     "text": [
      "\r",
      "\u001b[1;34m￨ stanza 136, line 12: that NOT hing ME a SO mething SWEET to THEE           :  88%|\u001b[0;36m████████▊ \u001b[0;36m| 1901/2155 [00:50<00:07, 32.82it/s]"
     ]
    },
    {
     "name": "stderr",
     "output_type": "stream",
     "text": [
      "\r",
      "\u001b[1;34m￨ stanza 136, line 13: MAKE but.my NAME thy LOVE and LOVE that STILL         :  88%|\u001b[0;36m████████▊ \u001b[0;36m| 1901/2155 [00:50<00:07, 32.82it/s]"
     ]
    },
    {
     "name": "stderr",
     "output_type": "stream",
     "text": [
      "\r",
      "\u001b[1;34m￨ stanza 136, line 14: and THEN thou LO vest ME for.my NAME is 'WILL         :  88%|\u001b[0;36m████████▊ \u001b[0;36m| 1901/2155 [00:50<00:07, 32.82it/s]"
     ]
    },
    {
     "name": "stderr",
     "output_type": "stream",
     "text": [
      "\r",
      "\u001b[1;34m￨ stanza 137, line 01: thou BLIND fool LOVE what.dost THOU to.mine EYES      :  88%|\u001b[0;36m████████▊ \u001b[0;36m| 1901/2155 [00:50<00:07, 32.82it/s]"
     ]
    },
    {
     "name": "stderr",
     "output_type": "stream",
     "text": [
      "\r",
      "\u001b[1;34m￨ stanza 137, line 02: that THEY be HOLD and SEE not WHAT they SEE           :  88%|\u001b[0;36m████████▊ \u001b[0;36m| 1901/2155 [00:50<00:07, 32.82it/s]"
     ]
    },
    {
     "name": "stderr",
     "output_type": "stream",
     "text": [
      "\r",
      "\u001b[1;34m￨ stanza 137, line 03: they KNOW what BEA uty IS see WHERE it LIES           :  88%|\u001b[0;36m████████▊ \u001b[0;36m| 1901/2155 [00:50<00:07, 32.82it/s]"
     ]
    },
    {
     "name": "stderr",
     "output_type": "stream",
     "text": [
      "\r",
      "\u001b[1;34m￨ stanza 137, line 04: yet WHAT the BEST is TAKE the WORST to BE             :  88%|\u001b[0;36m████████▊ \u001b[0;36m| 1901/2155 [00:50<00:07, 32.82it/s]"
     ]
    },
    {
     "name": "stderr",
     "output_type": "stream",
     "text": [
      "\r",
      "\u001b[1;34m￨ stanza 137, line 04: yet WHAT the BEST is TAKE the WORST to BE             :  88%|\u001b[0;36m████████▊ \u001b[0;36m| 1907/2155 [00:50<00:07, 34.98it/s]"
     ]
    },
    {
     "name": "stderr",
     "output_type": "stream",
     "text": [
      "\r",
      "\u001b[1;34m￨ stanza 137, line 05: if EYES cor RUPT by O ver PAR tial LOOKS              :  88%|\u001b[0;36m████████▊ \u001b[0;36m| 1907/2155 [00:50<00:07, 34.98it/s]"
     ]
    },
    {
     "name": "stderr",
     "output_type": "stream",
     "text": [
      "\r",
      "\u001b[1;34m￨ stanza 137, line 06: be ANC hor'd IN the BAY where ALL men RIDE            :  88%|\u001b[0;36m████████▊ \u001b[0;36m| 1907/2155 [00:50<00:07, 34.98it/s]"
     ]
    },
    {
     "name": "stderr",
     "output_type": "stream",
     "text": [
      "\r",
      "\u001b[1;34m￨ stanza 137, line 07: why.of EYES' fal SEHOOD hast.thou FORGED hooks        :  88%|\u001b[0;36m████████▊ \u001b[0;36m| 1907/2155 [00:50<00:07, 34.98it/s]"
     ]
    },
    {
     "name": "stderr",
     "output_type": "stream",
     "text": [
      "\r",
      "\u001b[1;34m￨ stanza 137, line 08: WHE reto.the JUD gment OF my HEART is TIED            :  88%|\u001b[0;36m████████▊ \u001b[0;36m| 1907/2155 [00:50<00:07, 34.98it/s]"
     ]
    },
    {
     "name": "stderr",
     "output_type": "stream",
     "text": [
      "\r",
      "\u001b[1;34m￨ stanza 137, line 09: why SHOULD my HEART think THAT a SE veral PLOT        :  88%|\u001b[0;36m████████▊ \u001b[0;36m| 1907/2155 [00:51<00:07, 34.98it/s]"
     ]
    },
    {
     "name": "stderr",
     "output_type": "stream",
     "text": [
      "\r",
      "\u001b[1;34m￨ stanza 137, line 10: which.my HEART.KNOWS the WIDE world's COM mon PLACE   :  88%|\u001b[0;36m████████▊ \u001b[0;36m| 1907/2155 [00:51<00:07, 34.98it/s]"
     ]
    },
    {
     "name": "stderr",
     "output_type": "stream",
     "text": [
      "\r",
      "\u001b[1;34m￨ stanza 137, line 10: which.my HEART.KNOWS the WIDE world's COM mon PLACE   :  89%|\u001b[0;36m████████▉ \u001b[0;36m| 1913/2155 [00:51<00:08, 29.44it/s]"
     ]
    },
    {
     "name": "stderr",
     "output_type": "stream",
     "text": [
      "\r",
      "\u001b[1;34m￨ stanza 137, line 11: or MINE eyes SEE.ING this SAY this IS not             :  89%|\u001b[0;36m████████▉ \u001b[0;36m| 1913/2155 [00:51<00:08, 29.44it/s]"
     ]
    },
    {
     "name": "stderr",
     "output_type": "stream",
     "text": [
      "\r",
      "\u001b[1;34m￨ stanza 137, line 12: to PUT fair TRUTH u PON so FOUL a FACE                :  89%|\u001b[0;36m████████▉ \u001b[0;36m| 1913/2155 [00:51<00:08, 29.44it/s]"
     ]
    },
    {
     "name": "stderr",
     "output_type": "stream",
     "text": [
      "\r",
      "\u001b[1;34m￨ stanza 137, line 13: in THINGS right TRUE my HEART and EYES have ERRED     :  89%|\u001b[0;36m████████▉ \u001b[0;36m| 1913/2155 [00:51<00:08, 29.44it/s]"
     ]
    },
    {
     "name": "stderr",
     "output_type": "stream",
     "text": [
      "\r",
      "\u001b[1;34m￨ stanza 137, line 14: and TO this FALSE plague ARE they NOW trans FERR'D    :  89%|\u001b[0;36m████████▉ \u001b[0;36m| 1913/2155 [00:51<00:08, 29.44it/s]"
     ]
    },
    {
     "name": "stderr",
     "output_type": "stream",
     "text": [
      "\r",
      "\u001b[1;34m￨ stanza 138, line 01: when.my LOVE swears THAT she.is MADE of TRUTH         :  89%|\u001b[0;36m████████▉ \u001b[0;36m| 1913/2155 [00:51<00:08, 29.44it/s]"
     ]
    },
    {
     "name": "stderr",
     "output_type": "stream",
     "text": [
      "\r",
      "\u001b[1;34m￨ stanza 138, line 02: i DO be LIEVE her THOUGH i KNOW she LIES              :  89%|\u001b[0;36m████████▉ \u001b[0;36m| 1913/2155 [00:51<00:08, 29.44it/s]"
     ]
    },
    {
     "name": "stderr",
     "output_type": "stream",
     "text": [
      "\r",
      "\u001b[1;34m￨ stanza 138, line 02: i DO be LIEVE her THOUGH i KNOW she LIES              :  89%|\u001b[0;36m████████▉ \u001b[0;36m| 1919/2155 [00:51<00:07, 31.55it/s]"
     ]
    },
    {
     "name": "stderr",
     "output_type": "stream",
     "text": [
      "\r",
      "\u001b[1;34m￨ stanza 138, line 03: that SHE might THINK me SOME un TU tor'd YOUTH        :  89%|\u001b[0;36m████████▉ \u001b[0;36m| 1919/2155 [00:51<00:07, 31.55it/s]"
     ]
    },
    {
     "name": "stderr",
     "output_type": "stream",
     "text": [
      "\r",
      "\u001b[1;34m￨ stanza 138, line 04: un LEARNED in.the WORLD'S false SUB tle TIES          :  89%|\u001b[0;36m████████▉ \u001b[0;36m| 1919/2155 [00:51<00:07, 31.55it/s]"
     ]
    },
    {
     "name": "stderr",
     "output_type": "stream",
     "text": [
      "\r",
      "\u001b[1;34m￨ stanza 138, line 05: thus VAIN ly THIN king THAT she THINKS me YOUNG       :  89%|\u001b[0;36m████████▉ \u001b[0;36m| 1919/2155 [00:51<00:07, 31.55it/s]"
     ]
    },
    {
     "name": "stderr",
     "output_type": "stream",
     "text": [
      "\r",
      "\u001b[1;34m￨ stanza 138, line 06: alt HOUGH she KNOWS my DAYS are PAST the BEST         :  89%|\u001b[0;36m████████▉ \u001b[0;36m| 1919/2155 [00:51<00:07, 31.55it/s]"
     ]
    },
    {
     "name": "stderr",
     "output_type": "stream",
     "text": [
      "\r",
      "\u001b[1;34m￨ stanza 138, line 07: SIM ply.i CRE dit HER false SPEA king TONGUE          :  89%|\u001b[0;36m████████▉ \u001b[0;36m| 1919/2155 [00:51<00:07, 31.55it/s]"
     ]
    },
    {
     "name": "stderr",
     "output_type": "stream",
     "text": [
      "\r",
      "\u001b[1;34m￨ stanza 138, line 08: on BOTH sides THUS is SIM ple TRUTH sup PRESS'D       :  89%|\u001b[0;36m████████▉ \u001b[0;36m| 1919/2155 [00:51<00:07, 31.55it/s]"
     ]
    },
    {
     "name": "stderr",
     "output_type": "stream",
     "text": [
      "\r",
      "\u001b[1;34m￨ stanza 138, line 09: but WHE refore SAYS she NOT she IS un JUST            :  89%|\u001b[0;36m████████▉ \u001b[0;36m| 1919/2155 [00:51<00:07, 31.55it/s]"
     ]
    },
    {
     "name": "stderr",
     "output_type": "stream",
     "text": [
      "\r",
      "\u001b[1;34m￨ stanza 138, line 10: and WHE refore SAY not I that I am OLD                :  89%|\u001b[0;36m████████▉ \u001b[0;36m| 1919/2155 [00:51<00:07, 31.55it/s]"
     ]
    },
    {
     "name": "stderr",
     "output_type": "stream",
     "text": [
      "\r",
      "\u001b[1;34m￨ stanza 138, line 10: and WHE refore SAY not I that I am OLD                :  89%|\u001b[0;36m████████▉ \u001b[0;36m| 1927/2155 [00:51<00:07, 30.59it/s]"
     ]
    },
    {
     "name": "stderr",
     "output_type": "stream",
     "text": [
      "\r",
      "\u001b[1;34m￨ stanza 138, line 11: o LOVE'S best HA bit IS in SEE ming TRUST             :  89%|\u001b[0;36m████████▉ \u001b[0;36m| 1927/2155 [00:51<00:07, 30.59it/s]"
     ]
    },
    {
     "name": "stderr",
     "output_type": "stream",
     "text": [
      "\r",
      "\u001b[1;34m￨ stanza 138, line 12: and AGE in LOVE loves NOT to HAVE years TOLD          :  89%|\u001b[0;36m████████▉ \u001b[0;36m| 1927/2155 [00:51<00:07, 30.59it/s]"
     ]
    },
    {
     "name": "stderr",
     "output_type": "stream",
     "text": [
      "\r",
      "\u001b[1;34m￨ stanza 138, line 13: the REFORE i LIE with HER and SHE with ME             :  89%|\u001b[0;36m████████▉ \u001b[0;36m| 1927/2155 [00:51<00:07, 30.59it/s]"
     ]
    },
    {
     "name": "stderr",
     "output_type": "stream",
     "text": [
      "\r",
      "\u001b[1;34m￨ stanza 138, line 14: and IN our FAULTS by LIES we FLAT ter'd BE            :  89%|\u001b[0;36m████████▉ \u001b[0;36m| 1927/2155 [00:51<00:07, 30.59it/s]"
     ]
    },
    {
     "name": "stderr",
     "output_type": "stream",
     "text": [
      "\r",
      "\u001b[1;34m￨ stanza 139, line 01: o CALL not ME to JUS ti FY the WRONG                  :  89%|\u001b[0;36m████████▉ \u001b[0;36m| 1927/2155 [00:51<00:07, 30.59it/s]"
     ]
    },
    {
     "name": "stderr",
     "output_type": "stream",
     "text": [
      "\r",
      "\u001b[1;34m￨ stanza 139, line 02: that THY un KIN dness LAYS u PON my HEART             :  89%|\u001b[0;36m████████▉ \u001b[0;36m| 1927/2155 [00:51<00:07, 30.59it/s]"
     ]
    },
    {
     "name": "stderr",
     "output_type": "stream",
     "text": [
      "\r",
      "\u001b[1;34m￨ stanza 139, line 03: WOUND me NOT with.thine EYE but WITH thy TONGUE       :  89%|\u001b[0;36m████████▉ \u001b[0;36m| 1927/2155 [00:51<00:07, 30.59it/s]"
     ]
    },
    {
     "name": "stderr",
     "output_type": "stream",
     "text": [
      "\r",
      "\u001b[1;34m￨ stanza 139, line 04: use PO wer WITH po WER and SLAY me NOT by ART         :  89%|\u001b[0;36m████████▉ \u001b[0;36m| 1927/2155 [00:51<00:07, 30.59it/s]"
     ]
    },
    {
     "name": "stderr",
     "output_type": "stream",
     "text": [
      "\r",
      "\u001b[1;34m￨ stanza 139, line 05: TELL me.thou LO vest EL.SEWHERE but IN my SIGHT       :  89%|\u001b[0;36m████████▉ \u001b[0;36m| 1927/2155 [00:51<00:07, 30.59it/s]"
     ]
    },
    {
     "name": "stderr",
     "output_type": "stream",
     "text": [
      "\r",
      "\u001b[1;34m￨ stanza 139, line 06: DEAR heart FOR.BEAR to GLANCE thine EYE a SIDE        :  89%|\u001b[0;36m████████▉ \u001b[0;36m| 1927/2155 [00:51<00:07, 30.59it/s]"
     ]
    },
    {
     "name": "stderr",
     "output_type": "stream",
     "text": [
      "\r",
      "\u001b[1;34m￨ stanza 139, line 07: what NEED'ST thou WOUND with CUN ning WHEN thy MIGHT  :  89%|\u001b[0;36m████████▉ \u001b[0;36m| 1927/2155 [00:51<00:07, 30.59it/s]"
     ]
    },
    {
     "name": "stderr",
     "output_type": "stream",
     "text": [
      "\r",
      "\u001b[1;34m￨ stanza 139, line 08: is MORE than MY o'er PRESS'D de FENSE can BIDE        :  89%|\u001b[0;36m████████▉ \u001b[0;36m| 1927/2155 [00:51<00:07, 30.59it/s]"
     ]
    },
    {
     "name": "stderr",
     "output_type": "stream",
     "text": [
      "\r",
      "\u001b[1;34m￨ stanza 139, line 09: let ME ex CUSE thee AH my LOVE well KNOWS             :  89%|\u001b[0;36m████████▉ \u001b[0;36m| 1927/2155 [00:51<00:07, 30.59it/s]"
     ]
    },
    {
     "name": "stderr",
     "output_type": "stream",
     "text": [
      "\r",
      "\u001b[1;34m￨ stanza 139, line 10: her PRET ty LOOKS have BEEN mine E ne MIES            :  89%|\u001b[0;36m████████▉ \u001b[0;36m| 1927/2155 [00:51<00:07, 30.59it/s]"
     ]
    },
    {
     "name": "stderr",
     "output_type": "stream",
     "text": [
      "\r",
      "\u001b[1;34m￨ stanza 139, line 11: and THE.REFORE from.my FACE she TURNS my FOES         :  89%|\u001b[0;36m████████▉ \u001b[0;36m| 1927/2155 [00:51<00:07, 30.59it/s]"
     ]
    },
    {
     "name": "stderr",
     "output_type": "stream",
     "text": [
      "\r",
      "\u001b[1;34m￨ stanza 139, line 11: and THE.REFORE from.my FACE she TURNS my FOES         :  90%|\u001b[0;36m█████████ \u001b[0;36m| 1942/2155 [00:51<00:04, 47.39it/s]"
     ]
    },
    {
     "name": "stderr",
     "output_type": "stream",
     "text": [
      "\r",
      "\u001b[1;34m￨ stanza 139, line 12: that THEY el SEWHERE might DART their IN ju RIES      :  90%|\u001b[0;36m█████████ \u001b[0;36m| 1942/2155 [00:51<00:04, 47.39it/s]"
     ]
    },
    {
     "name": "stderr",
     "output_type": "stream",
     "text": [
      "\r",
      "\u001b[1;34m￨ stanza 139, line 13: yet.do NOT so.but SINCE i.am NEAR slain               :  90%|\u001b[0;36m█████████ \u001b[0;36m| 1942/2155 [00:52<00:04, 47.39it/s]"
     ]
    },
    {
     "name": "stderr",
     "output_type": "stream",
     "text": [
      "\r",
      "\u001b[1;34m￨ stanza 139, line 14: KILL me OU.TRIGHT with LOOKS and RID my PAIN          :  90%|\u001b[0;36m█████████ \u001b[0;36m| 1942/2155 [00:52<00:04, 47.39it/s]"
     ]
    },
    {
     "name": "stderr",
     "output_type": "stream",
     "text": [
      "\r",
      "\u001b[1;34m￨ stanza 140, line 01: be WISE as THOU art CR uel DO not PRESS               :  90%|\u001b[0;36m█████████ \u001b[0;36m| 1942/2155 [00:52<00:04, 47.39it/s]"
     ]
    },
    {
     "name": "stderr",
     "output_type": "stream",
     "text": [
      "\r",
      "\u001b[1;34m￨ stanza 140, line 02: my TONGUE tied PA tience WITH too MUCH dis DAIN       :  90%|\u001b[0;36m█████████ \u001b[0;36m| 1942/2155 [00:52<00:04, 47.39it/s]"
     ]
    },
    {
     "name": "stderr",
     "output_type": "stream",
     "text": [
      "\r",
      "\u001b[1;34m￨ stanza 140, line 03: lest SOR row LEND me WORDS and WORDS ex PRESS         :  90%|\u001b[0;36m█████████ \u001b[0;36m| 1942/2155 [00:52<00:04, 47.39it/s]"
     ]
    },
    {
     "name": "stderr",
     "output_type": "stream",
     "text": [
      "\r",
      "\u001b[1;34m￨ stanza 140, line 04: the MAN ner OF my PI ty WAN ting PAIN                 :  90%|\u001b[0;36m█████████ \u001b[0;36m| 1942/2155 [00:52<00:04, 47.39it/s]"
     ]
    },
    {
     "name": "stderr",
     "output_type": "stream",
     "text": [
      "\r",
      "\u001b[1;34m￨ stanza 140, line 05: if I might TEACH thee WIT bet.ter IT were             :  90%|\u001b[0;36m█████████ \u001b[0;36m| 1942/2155 [00:52<00:04, 47.39it/s]"
     ]
    },
    {
     "name": "stderr",
     "output_type": "stream",
     "text": [
      "\r",
      "\u001b[1;34m￨ stanza 140, line 05: if I might TEACH thee WIT bet.ter IT were             :  90%|\u001b[0;36m█████████ \u001b[0;36m| 1950/2155 [00:52<00:07, 27.89it/s]"
     ]
    },
    {
     "name": "stderr",
     "output_type": "stream",
     "text": [
      "\r",
      "\u001b[1;34m￨ stanza 140, line 06: though NOT to LOVE yet LOVE to TELL me.so             :  90%|\u001b[0;36m█████████ \u001b[0;36m| 1950/2155 [00:52<00:07, 27.89it/s]"
     ]
    },
    {
     "name": "stderr",
     "output_type": "stream",
     "text": [
      "\r",
      "\u001b[1;34m￨ stanza 140, line 07: as TES ty SICK men WHEN their DEATHS be NEAR          :  90%|\u001b[0;36m█████████ \u001b[0;36m| 1950/2155 [00:52<00:07, 27.89it/s]"
     ]
    },
    {
     "name": "stderr",
     "output_type": "stream",
     "text": [
      "\r",
      "\u001b[1;34m￨ stanza 140, line 08: no NEWS but HEALTH from THEIR phy SI cians KNOW       :  90%|\u001b[0;36m█████████ \u001b[0;36m| 1950/2155 [00:52<00:07, 27.89it/s]"
     ]
    },
    {
     "name": "stderr",
     "output_type": "stream",
     "text": [
      "\r",
      "\u001b[1;34m￨ stanza 140, line 09: for IF i SHOULD des PAIR i SHOULD grow MAD            :  90%|\u001b[0;36m█████████ \u001b[0;36m| 1950/2155 [00:52<00:07, 27.89it/s]"
     ]
    },
    {
     "name": "stderr",
     "output_type": "stream",
     "text": [
      "\r",
      "\u001b[1;34m￨ stanza 140, line 10: and IN my MA dness MIGHT speak ILL of THEE            :  90%|\u001b[0;36m█████████ \u001b[0;36m| 1950/2155 [00:52<00:07, 27.89it/s]"
     ]
    },
    {
     "name": "stderr",
     "output_type": "stream",
     "text": [
      "\r",
      "\u001b[1;34m￨ stanza 140, line 11: NOW this ILL wres.ting WORLD is GROWN so BAD          :  90%|\u001b[0;36m█████████ \u001b[0;36m| 1950/2155 [00:52<00:07, 27.89it/s]"
     ]
    },
    {
     "name": "stderr",
     "output_type": "stream",
     "text": [
      "\r",
      "\u001b[1;34m￨ stanza 140, line 12: mad SLAN de RERS by MAD.EARS be LIEVED be             :  90%|\u001b[0;36m█████████ \u001b[0;36m| 1950/2155 [00:52<00:07, 27.89it/s]"
     ]
    },
    {
     "name": "stderr",
     "output_type": "stream",
     "text": [
      "\r",
      "\u001b[1;34m￨ stanza 140, line 13: that I may.not BE so.nor THOU be LIED                 :  90%|\u001b[0;36m█████████ \u001b[0;36m| 1950/2155 [00:52<00:07, 27.89it/s]"
     ]
    },
    {
     "name": "stderr",
     "output_type": "stream",
     "text": [
      "\r",
      "\u001b[1;34m￨ stanza 140, line 14: BEAR thine EYES straight THOUGH thy PROUD heart GO wid:  90%|\u001b[0;36m█████████ \u001b[0;36m| 1950/2155 [00:52<00:07, 27.89it/s]"
     ]
    },
    {
     "name": "stderr",
     "output_type": "stream",
     "text": [
      "\r",
      "\u001b[1;34m￨ stanza 141, line 01: in FAITH i DO not LOVE thee WITH mine EYES            :  90%|\u001b[0;36m█████████ \u001b[0;36m| 1950/2155 [00:52<00:07, 27.89it/s]"
     ]
    },
    {
     "name": "stderr",
     "output_type": "stream",
     "text": [
      "\r",
      "\u001b[1;34m￨ stanza 141, line 02: for THEY in THEE a THOU sand ER rors NOTE             :  90%|\u001b[0;36m█████████ \u001b[0;36m| 1950/2155 [00:52<00:07, 27.89it/s]"
     ]
    },
    {
     "name": "stderr",
     "output_type": "stream",
     "text": [
      "\r",
      "\u001b[1;34m￨ stanza 141, line 03: but 'TIS my HEART that LOVES what THEY des PISE       :  90%|\u001b[0;36m█████████ \u001b[0;36m| 1950/2155 [00:52<00:07, 27.89it/s]"
     ]
    },
    {
     "name": "stderr",
     "output_type": "stream",
     "text": [
      "\r",
      "\u001b[1;34m￨ stanza 141, line 03: but 'TIS my HEART that LOVES what THEY des PISE       :  91%|\u001b[0;36m█████████ \u001b[0;36m| 1962/2155 [00:52<00:05, 33.13it/s]"
     ]
    },
    {
     "name": "stderr",
     "output_type": "stream",
     "text": [
      "\r",
      "\u001b[1;34m￨ stanza 141, line 04: who IN des PITE of VIEW is PLEASED to DOTE            :  91%|\u001b[0;36m█████████ \u001b[0;36m| 1962/2155 [00:52<00:05, 33.13it/s]"
     ]
    },
    {
     "name": "stderr",
     "output_type": "stream",
     "text": [
      "\r",
      "\u001b[1;34m￨ stanza 141, line 05: nor ARE mine EARS with THY tongue's TUNE de LIGH ted  :  91%|\u001b[0;36m█████████ \u001b[0;36m| 1962/2155 [00:52<00:05, 33.13it/s]"
     ]
    },
    {
     "name": "stderr",
     "output_type": "stream",
     "text": [
      "\r",
      "\u001b[1;34m￨ stanza 141, line 06: nor TEN der FEE ling TO base TOUC hes PRONE           :  91%|\u001b[0;36m█████████ \u001b[0;36m| 1962/2155 [00:52<00:05, 33.13it/s]"
     ]
    },
    {
     "name": "stderr",
     "output_type": "stream",
     "text": [
      "\r",
      "\u001b[1;34m￨ stanza 141, line 07: nor TASTE nor SMELL de SIRE to BE in VI ted           :  91%|\u001b[0;36m█████████ \u001b[0;36m| 1962/2155 [00:52<00:05, 33.13it/s]"
     ]
    },
    {
     "name": "stderr",
     "output_type": "stream",
     "text": [
      "\r",
      "\u001b[1;34m￨ stanza 141, line 08: to A ny SEN su.al FEAST with THEE a LONE              :  91%|\u001b[0;36m█████████ \u001b[0;36m| 1962/2155 [00:52<00:05, 33.13it/s]"
     ]
    },
    {
     "name": "stderr",
     "output_type": "stream",
     "text": [
      "\r",
      "\u001b[1;34m￨ stanza 141, line 09: but MY five WITS nor MY five SEN ses CAN              :  91%|\u001b[0;36m█████████ \u001b[0;36m| 1962/2155 [00:52<00:05, 33.13it/s]"
     ]
    },
    {
     "name": "stderr",
     "output_type": "stream",
     "text": [
      "\r",
      "\u001b[1;34m￨ stanza 141, line 09: but MY five WITS nor MY five SEN ses CAN              :  91%|\u001b[0;36m█████████▏\u001b[0;36m| 1968/2155 [00:52<00:05, 36.23it/s]"
     ]
    },
    {
     "name": "stderr",
     "output_type": "stream",
     "text": [
      "\r",
      "\u001b[1;34m￨ stanza 141, line 10: dis SUADE one FOO lish HEART from SER ving THEE       :  91%|\u001b[0;36m█████████▏\u001b[0;36m| 1968/2155 [00:52<00:05, 36.23it/s]"
     ]
    },
    {
     "name": "stderr",
     "output_type": "stream",
     "text": [
      "\r",
      "\u001b[1;34m￨ stanza 141, line 11: who LEAVES un SWAY'D the LI keness OF a MAN           :  91%|\u001b[0;36m█████████▏\u001b[0;36m| 1968/2155 [00:52<00:05, 36.23it/s]"
     ]
    },
    {
     "name": "stderr",
     "output_type": "stream",
     "text": [
      "\r",
      "\u001b[1;34m￨ stanza 141, line 12: thy PROUD hearts SLAVE and VAS sal WRETCH to BE       :  91%|\u001b[0;36m█████████▏\u001b[0;36m| 1968/2155 [00:52<00:05, 36.23it/s]"
     ]
    },
    {
     "name": "stderr",
     "output_type": "stream",
     "text": [
      "\r",
      "\u001b[1;34m￨ stanza 141, line 13: ON ly.my PLAGUE thus FAR i COUNT my GAIN              :  91%|\u001b[0;36m█████████▏\u001b[0;36m| 1968/2155 [00:52<00:05, 36.23it/s]"
     ]
    },
    {
     "name": "stderr",
     "output_type": "stream",
     "text": [
      "\r",
      "\u001b[1;34m￨ stanza 141, line 14: that SHE that MAKES me SIN a WARDS me PAIN            :  91%|\u001b[0;36m█████████▏\u001b[0;36m| 1968/2155 [00:52<00:05, 36.23it/s]"
     ]
    },
    {
     "name": "stderr",
     "output_type": "stream",
     "text": [
      "\r",
      "\u001b[1;34m￨ stanza 142, line 01: LOVE is.my SIN and THY dear VIR tue HATE              :  91%|\u001b[0;36m█████████▏\u001b[0;36m| 1968/2155 [00:52<00:05, 36.23it/s]"
     ]
    },
    {
     "name": "stderr",
     "output_type": "stream",
     "text": [
      "\r",
      "\u001b[1;34m￨ stanza 142, line 02: HATE of.my SIN groun DED on SIN ful LO ving           :  91%|\u001b[0;36m█████████▏\u001b[0;36m| 1968/2155 [00:52<00:05, 36.23it/s]"
     ]
    },
    {
     "name": "stderr",
     "output_type": "stream",
     "text": [
      "\r",
      "\u001b[1;34m￨ stanza 142, line 03: o BUT with MINE com PARE thou THINE own STATE         :  91%|\u001b[0;36m█████████▏\u001b[0;36m| 1968/2155 [00:52<00:05, 36.23it/s]"
     ]
    },
    {
     "name": "stderr",
     "output_type": "stream",
     "text": [
      "\r",
      "\u001b[1;34m￨ stanza 142, line 04: and THOU shalt FIND it ME rits NOT re PRO ving        :  91%|\u001b[0;36m█████████▏\u001b[0;36m| 1968/2155 [00:52<00:05, 36.23it/s]"
     ]
    },
    {
     "name": "stderr",
     "output_type": "stream",
     "text": [
      "\r",
      "\u001b[1;34m￨ stanza 142, line 05: or.if IT do NOT from.those LIPS of.thine              :  91%|\u001b[0;36m█████████▏\u001b[0;36m| 1968/2155 [00:52<00:05, 36.23it/s]"
     ]
    },
    {
     "name": "stderr",
     "output_type": "stream",
     "text": [
      "\r",
      "\u001b[1;34m￨ stanza 142, line 06: that HAVE pro FANED their SCAR let OR na MENTS        :  91%|\u001b[0;36m█████████▏\u001b[0;36m| 1968/2155 [00:52<00:05, 36.23it/s]"
     ]
    },
    {
     "name": "stderr",
     "output_type": "stream",
     "text": [
      "\r",
      "\u001b[1;34m￨ stanza 142, line 07: and SEAL'D false BONDS of LOVE as OFT as.mine         :  91%|\u001b[0;36m█████████▏\u001b[0;36m| 1968/2155 [00:52<00:05, 36.23it/s]"
     ]
    },
    {
     "name": "stderr",
     "output_type": "stream",
     "text": [
      "\r",
      "\u001b[1;34m￨ stanza 142, line 08: robb'd OT hers' BEDS' re.ve NUES of.their RENTS       :  91%|\u001b[0;36m█████████▏\u001b[0;36m| 1968/2155 [00:52<00:05, 36.23it/s]"
     ]
    },
    {
     "name": "stderr",
     "output_type": "stream",
     "text": [
      "\r",
      "\u001b[1;34m￨ stanza 142, line 09: be.it LAW ful I love THEE as.thou LO vest THOSE       :  91%|\u001b[0;36m█████████▏\u001b[0;36m| 1968/2155 [00:52<00:05, 36.23it/s]"
     ]
    },
    {
     "name": "stderr",
     "output_type": "stream",
     "text": [
      "\r",
      "\u001b[1;34m￨ stanza 142, line 09: be.it LAW ful I love THEE as.thou LO vest THOSE       :  92%|\u001b[0;36m█████████▏\u001b[0;36m| 1982/2155 [00:52<00:03, 48.91it/s]"
     ]
    },
    {
     "name": "stderr",
     "output_type": "stream",
     "text": [
      "\r",
      "\u001b[1;34m￨ stanza 142, line 10: whom.thine EYES woo AS mine IM por TUNE thee          :  92%|\u001b[0;36m█████████▏\u001b[0;36m| 1982/2155 [00:52<00:03, 48.91it/s]"
     ]
    },
    {
     "name": "stderr",
     "output_type": "stream",
     "text": [
      "\r",
      "\u001b[1;34m￨ stanza 142, line 11: root PI ty IN thy HEART that WHEN it GROWS            :  92%|\u001b[0;36m█████████▏\u001b[0;36m| 1982/2155 [00:53<00:03, 48.91it/s]"
     ]
    },
    {
     "name": "stderr",
     "output_type": "stream",
     "text": [
      "\r",
      "\u001b[1;34m￨ stanza 142, line 12: thy PI ty MAY de SERVE to PI.TIED be                  :  92%|\u001b[0;36m█████████▏\u001b[0;36m| 1982/2155 [00:53<00:03, 48.91it/s]"
     ]
    },
    {
     "name": "stderr",
     "output_type": "stream",
     "text": [
      "\r",
      "\u001b[1;34m￨ stanza 142, line 13: if THOU dost SEEK to HAVE what THOU dost HIDE         :  92%|\u001b[0;36m█████████▏\u001b[0;36m| 1982/2155 [00:53<00:03, 48.91it/s]"
     ]
    },
    {
     "name": "stderr",
     "output_type": "stream",
     "text": [
      "\r",
      "\u001b[1;34m￨ stanza 142, line 14: by SELF e XAM ple MAYST thou BE de NIED               :  92%|\u001b[0;36m█████████▏\u001b[0;36m| 1982/2155 [00:53<00:03, 48.91it/s]"
     ]
    },
    {
     "name": "stderr",
     "output_type": "stream",
     "text": [
      "\r",
      "\u001b[1;34m￨ stanza 143, line 01: LO as.a CA reful HOU sewife RUNS to CATCH             :  92%|\u001b[0;36m█████████▏\u001b[0;36m| 1982/2155 [00:53<00:03, 48.91it/s]"
     ]
    },
    {
     "name": "stderr",
     "output_type": "stream",
     "text": [
      "\r",
      "\u001b[1;34m￨ stanza 143, line 02: one OF her FEAT her'd CREA tures BROKE a WAY          :  92%|\u001b[0;36m█████████▏\u001b[0;36m| 1982/2155 [00:53<00:03, 48.91it/s]"
     ]
    },
    {
     "name": "stderr",
     "output_type": "stream",
     "text": [
      "\r",
      "\u001b[1;34m￨ stanza 143, line 02: one OF her FEAT her'd CREA tures BROKE a WAY          :  92%|\u001b[0;36m█████████▏\u001b[0;36m| 1989/2155 [00:53<00:04, 39.71it/s]"
     ]
    },
    {
     "name": "stderr",
     "output_type": "stream",
     "text": [
      "\r",
      "\u001b[1;34m￨ stanza 143, line 03: SETS down.her BABE and MAKES an SWIFT dis PATCH       :  92%|\u001b[0;36m█████████▏\u001b[0;36m| 1989/2155 [00:53<00:04, 39.71it/s]"
     ]
    },
    {
     "name": "stderr",
     "output_type": "stream",
     "text": [
      "\r",
      "\u001b[1;34m￨ stanza 143, line 04: IN pur SUIT of.the THING she WOULD have STAY          :  92%|\u001b[0;36m█████████▏\u001b[0;36m| 1989/2155 [00:53<00:04, 39.71it/s]"
     ]
    },
    {
     "name": "stderr",
     "output_type": "stream",
     "text": [
      "\r",
      "\u001b[1;34m￨ stanza 143, line 05: whilst HER ne GLEC ted CHILD holds HER in CHASE       :  92%|\u001b[0;36m█████████▏\u001b[0;36m| 1989/2155 [00:53<00:04, 39.71it/s]"
     ]
    },
    {
     "name": "stderr",
     "output_type": "stream",
     "text": [
      "\r",
      "\u001b[1;34m￨ stanza 143, line 06: CRIES to CATCH her.whose BU sy CARE is BENT           :  92%|\u001b[0;36m█████████▏\u001b[0;36m| 1989/2155 [00:53<00:04, 39.71it/s]"
     ]
    },
    {
     "name": "stderr",
     "output_type": "stream",
     "text": [
      "\r",
      "\u001b[1;34m￨ stanza 143, line 07: to FOL low THAT which FLIES be FORE her FACE          :  92%|\u001b[0;36m█████████▏\u001b[0;36m| 1989/2155 [00:53<00:04, 39.71it/s]"
     ]
    },
    {
     "name": "stderr",
     "output_type": "stream",
     "text": [
      "\r",
      "\u001b[1;34m￨ stanza 143, line 08: not PRI zing HER poor IN fant's DIS con TENT          :  92%|\u001b[0;36m█████████▏\u001b[0;36m| 1989/2155 [00:53<00:04, 39.71it/s]"
     ]
    },
    {
     "name": "stderr",
     "output_type": "stream",
     "text": [
      "\r",
      "\u001b[1;34m￨ stanza 143, line 08: not PRI zing HER poor IN fant's DIS con TENT          :  93%|\u001b[0;36m█████████▎\u001b[0;36m| 1995/2155 [00:53<00:05, 29.53it/s]"
     ]
    },
    {
     "name": "stderr",
     "output_type": "stream",
     "text": [
      "\r",
      "\u001b[1;34m￨ stanza 143, line 09: so RUNN'ST thou AF ter THAT which FLIES from THEE     :  93%|\u001b[0;36m█████████▎\u001b[0;36m| 1995/2155 [00:53<00:05, 29.53it/s]"
     ]
    },
    {
     "name": "stderr",
     "output_type": "stream",
     "text": [
      "\r",
      "\u001b[1;34m￨ stanza 143, line 10: WHILST i.thy BABE chase THEE a FAR be HIND            :  93%|\u001b[0;36m█████████▎\u001b[0;36m| 1995/2155 [00:53<00:05, 29.53it/s]"
     ]
    },
    {
     "name": "stderr",
     "output_type": "stream",
     "text": [
      "\r",
      "\u001b[1;34m￨ stanza 143, line 11: but IF thou CATCH thy HOPE turn BACK to ME            :  93%|\u001b[0;36m█████████▎\u001b[0;36m| 1995/2155 [00:53<00:05, 29.53it/s]"
     ]
    },
    {
     "name": "stderr",
     "output_type": "stream",
     "text": [
      "\r",
      "\u001b[1;34m￨ stanza 143, line 12: and PLAY the MOT her's PART kiss ME be KIND           :  93%|\u001b[0;36m█████████▎\u001b[0;36m| 1995/2155 [00:53<00:05, 29.53it/s]"
     ]
    },
    {
     "name": "stderr",
     "output_type": "stream",
     "text": [
      "\r",
      "\u001b[1;34m￨ stanza 143, line 13: so WILL i PRAY that.thou MAYST have.thy 'WILL         :  93%|\u001b[0;36m█████████▎\u001b[0;36m| 1995/2155 [00:53<00:05, 29.53it/s]"
     ]
    },
    {
     "name": "stderr",
     "output_type": "stream",
     "text": [
      "\r",
      "\u001b[1;34m￨ stanza 143, line 13: so WILL i PRAY that.thou MAYST have.thy 'WILL         :  93%|\u001b[0;36m█████████▎\u001b[0;36m| 2000/2155 [00:53<00:05, 26.37it/s]"
     ]
    },
    {
     "name": "stderr",
     "output_type": "stream",
     "text": [
      "\r",
      "\u001b[1;34m￨ stanza 143, line 14: if THOU turn BACK and MY loud CRY ing STILL           :  93%|\u001b[0;36m█████████▎\u001b[0;36m| 2000/2155 [00:53<00:05, 26.37it/s]"
     ]
    },
    {
     "name": "stderr",
     "output_type": "stream",
     "text": [
      "\r",
      "\u001b[1;34m￨ stanza 144, line 01: two LOVES i HAVE of COM fort AND des PAIR             :  93%|\u001b[0;36m█████████▎\u001b[0;36m| 2000/2155 [00:53<00:05, 26.37it/s]"
     ]
    },
    {
     "name": "stderr",
     "output_type": "stream",
     "text": [
      "\r",
      "\u001b[1;34m￨ stanza 144, line 02: which LIKE two SPI rits DO sug GEST me STILL          :  93%|\u001b[0;36m█████████▎\u001b[0;36m| 2000/2155 [00:53<00:05, 26.37it/s]"
     ]
    },
    {
     "name": "stderr",
     "output_type": "stream",
     "text": [
      "\r",
      "\u001b[1;34m￨ stanza 144, line 03: the BET ter AN gel IS a MAN right FAIR                :  93%|\u001b[0;36m█████████▎\u001b[0;36m| 2000/2155 [00:53<00:05, 26.37it/s]"
     ]
    },
    {
     "name": "stderr",
     "output_type": "stream",
     "text": [
      "\r",
      "\u001b[1;34m￨ stanza 144, line 04: the WOR ser SPI.RIT a WO man CO lour'd ILL            :  93%|\u001b[0;36m█████████▎\u001b[0;36m| 2000/2155 [00:53<00:05, 26.37it/s]"
     ]
    },
    {
     "name": "stderr",
     "output_type": "stream",
     "text": [
      "\r",
      "\u001b[1;34m￨ stanza 144, line 05: to WIN me SOON to HELL my FE male E vil               :  93%|\u001b[0;36m█████████▎\u001b[0;36m| 2000/2155 [00:53<00:05, 26.37it/s]"
     ]
    },
    {
     "name": "stderr",
     "output_type": "stream",
     "text": [
      "\r",
      "\u001b[1;34m￨ stanza 144, line 06: TEMP teth.my BET ter AN gel FROM my SIDE              :  93%|\u001b[0;36m█████████▎\u001b[0;36m| 2000/2155 [00:53<00:05, 26.37it/s]"
     ]
    },
    {
     "name": "stderr",
     "output_type": "stream",
     "text": [
      "\r",
      "\u001b[1;34m￨ stanza 144, line 07: and WOULD cor RUPT my SAINT to BE a DE vil            :  93%|\u001b[0;36m█████████▎\u001b[0;36m| 2000/2155 [00:53<00:05, 26.37it/s]"
     ]
    },
    {
     "name": "stderr",
     "output_type": "stream",
     "text": [
      "\r",
      "\u001b[1;34m￨ stanza 144, line 08: WOO ing.his PU ri TY with HER foul PRIDE              :  93%|\u001b[0;36m█████████▎\u001b[0;36m| 2000/2155 [00:53<00:05, 26.37it/s]"
     ]
    },
    {
     "name": "stderr",
     "output_type": "stream",
     "text": [
      "\r",
      "\u001b[1;34m￨ stanza 144, line 09: and WHET her THAT my AN gel BE turn'd FIEND           :  93%|\u001b[0;36m█████████▎\u001b[0;36m| 2000/2155 [00:53<00:05, 26.37it/s]"
     ]
    },
    {
     "name": "stderr",
     "output_type": "stream",
     "text": [
      "\r",
      "\u001b[1;34m￨ stanza 144, line 10: sus PECT i MAY but NOT di REC tly TELL                :  93%|\u001b[0;36m█████████▎\u001b[0;36m| 2000/2155 [00:53<00:05, 26.37it/s]"
     ]
    },
    {
     "name": "stderr",
     "output_type": "stream",
     "text": [
      "\r",
      "\u001b[1;34m￨ stanza 144, line 11: but BE ing BOTH from.me BOTH to.each FRIEND           :  93%|\u001b[0;36m█████████▎\u001b[0;36m| 2000/2155 [00:53<00:05, 26.37it/s]"
     ]
    },
    {
     "name": "stderr",
     "output_type": "stream",
     "text": [
      "\r",
      "\u001b[1;34m￨ stanza 144, line 12: i GUESS one AN gel IN a NOT her's HELL                :  93%|\u001b[0;36m█████████▎\u001b[0;36m| 2000/2155 [00:53<00:05, 26.37it/s]"
     ]
    },
    {
     "name": "stderr",
     "output_type": "stream",
     "text": [
      "\r",
      "\u001b[1;34m￨ stanza 144, line 13: yet.this SHALL i NE'ER.KNOW but LIVE in DOUBT         :  93%|\u001b[0;36m█████████▎\u001b[0;36m| 2000/2155 [00:53<00:05, 26.37it/s]"
     ]
    },
    {
     "name": "stderr",
     "output_type": "stream",
     "text": [
      "\r",
      "\u001b[1;34m￨ stanza 144, line 14: till MY bad AN gel FIRE my GOOD one.out               :  93%|\u001b[0;36m█████████▎\u001b[0;36m| 2000/2155 [00:53<00:05, 26.37it/s]"
     ]
    },
    {
     "name": "stderr",
     "output_type": "stream",
     "text": [
      "\r",
      "\u001b[1;34m￨ stanza 145, line 01: those LIPS that LOVE'S own HAND did MAKE              :  93%|\u001b[0;36m█████████▎\u001b[0;36m| 2000/2155 [00:53<00:05, 26.37it/s]"
     ]
    },
    {
     "name": "stderr",
     "output_type": "stream",
     "text": [
      "\r",
      "\u001b[1;34m￨ stanza 145, line 02: breathed FORTH the SOUND that SAID 'i HATE'           :  93%|\u001b[0;36m█████████▎\u001b[0;36m| 2000/2155 [00:53<00:05, 26.37it/s]"
     ]
    },
    {
     "name": "stderr",
     "output_type": "stream",
     "text": [
      "\r",
      "\u001b[1;34m￨ stanza 145, line 03: to ME that LAN guish'd FOR her SAKE                   :  93%|\u001b[0;36m█████████▎\u001b[0;36m| 2000/2155 [00:53<00:05, 26.37it/s]"
     ]
    },
    {
     "name": "stderr",
     "output_type": "stream",
     "text": [
      "\r",
      "\u001b[1;34m￨ stanza 145, line 04: but WHEN she SAW my WOE ful STATE                     :  93%|\u001b[0;36m█████████▎\u001b[0;36m| 2000/2155 [00:53<00:05, 26.37it/s]"
     ]
    },
    {
     "name": "stderr",
     "output_type": "stream",
     "text": [
      "\r",
      "\u001b[1;34m￨ stanza 145, line 05: STRAIGHT in.her HEART did MER cy COME                 :  93%|\u001b[0;36m█████████▎\u001b[0;36m| 2000/2155 [00:53<00:05, 26.37it/s]"
     ]
    },
    {
     "name": "stderr",
     "output_type": "stream",
     "text": [
      "\r",
      "\u001b[1;34m￨ stanza 145, line 06: CHI ding.that TONGUE that E ver SWEET                 :  93%|\u001b[0;36m█████████▎\u001b[0;36m| 2000/2155 [00:53<00:05, 26.37it/s]"
     ]
    },
    {
     "name": "stderr",
     "output_type": "stream",
     "text": [
      "\r",
      "\u001b[1;34m￨ stanza 145, line 07: was USED in GI ving GEN tle DOOM                      :  93%|\u001b[0;36m█████████▎\u001b[0;36m| 2000/2155 [00:53<00:05, 26.37it/s]"
     ]
    },
    {
     "name": "stderr",
     "output_type": "stream",
     "text": [
      "\r",
      "\u001b[1;34m￨ stanza 145, line 08: and TAUGHT it THUS a NEW to GREET                     :  93%|\u001b[0;36m█████████▎\u001b[0;36m| 2000/2155 [00:53<00:05, 26.37it/s]"
     ]
    },
    {
     "name": "stderr",
     "output_type": "stream",
     "text": [
      "\r",
      "\u001b[1;34m￨ stanza 145, line 09: 'i HATE' she AL ter'd WITH an END                     :  93%|\u001b[0;36m█████████▎\u001b[0;36m| 2000/2155 [00:53<00:05, 26.37it/s]"
     ]
    },
    {
     "name": "stderr",
     "output_type": "stream",
     "text": [
      "\r",
      "\u001b[1;34m￨ stanza 145, line 10: that FOL low'd IT as GEN tle DAY                      :  93%|\u001b[0;36m█████████▎\u001b[0;36m| 2000/2155 [00:53<00:05, 26.37it/s]"
     ]
    },
    {
     "name": "stderr",
     "output_type": "stream",
     "text": [
      "\r",
      "\u001b[1;34m￨ stanza 145, line 11: doth FOL low NIGHT who LIKE a FIEND                   :  93%|\u001b[0;36m█████████▎\u001b[0;36m| 2000/2155 [00:53<00:05, 26.37it/s]"
     ]
    },
    {
     "name": "stderr",
     "output_type": "stream",
     "text": [
      "\r",
      "\u001b[1;34m￨ stanza 145, line 12: from HEAVEN to HELL is FLOWN a WAY                    :  93%|\u001b[0;36m█████████▎\u001b[0;36m| 2000/2155 [00:53<00:05, 26.37it/s]"
     ]
    },
    {
     "name": "stderr",
     "output_type": "stream",
     "text": [
      "\r",
      "\u001b[1;34m￨ stanza 145, line 13: 'i HATE' from HATE a WAY she THREW                    :  93%|\u001b[0;36m█████████▎\u001b[0;36m| 2000/2155 [00:53<00:05, 26.37it/s]"
     ]
    },
    {
     "name": "stderr",
     "output_type": "stream",
     "text": [
      "\r",
      "\u001b[1;34m￨ stanza 145, line 14: and SAVED my LIFE.SAY ing 'NOT you                    :  93%|\u001b[0;36m█████████▎\u001b[0;36m| 2000/2155 [00:53<00:05, 26.37it/s]"
     ]
    },
    {
     "name": "stderr",
     "output_type": "stream",
     "text": [
      "\r",
      "\u001b[1;34m￨ stanza 146, line 01: poor SOUL the CEN tre OF my SIN ful EARTH             :  93%|\u001b[0;36m█████████▎\u001b[0;36m| 2000/2155 [00:53<00:05, 26.37it/s]"
     ]
    },
    {
     "name": "stderr",
     "output_type": "stream",
     "text": [
      "\r",
      "\u001b[1;34m￨ stanza 146, line 02: these RE bel PO wers.that THEE ar RAY                 :  93%|\u001b[0;36m█████████▎\u001b[0;36m| 2000/2155 [00:53<00:05, 26.37it/s]"
     ]
    },
    {
     "name": "stderr",
     "output_type": "stream",
     "text": [
      "\r",
      "\u001b[1;34m￨ stanza 146, line 02: these RE bel PO wers.that THEE ar RAY                 :  94%|\u001b[0;36m█████████▍\u001b[0;36m| 2031/2155 [00:53<00:02, 61.22it/s]"
     ]
    },
    {
     "name": "stderr",
     "output_type": "stream",
     "text": [
      "\r",
      "\u001b[1;34m￨ stanza 146, line 03: why DOST thou PINE wit HIN and SUF fer DEARTH         :  94%|\u001b[0;36m█████████▍\u001b[0;36m| 2031/2155 [00:53<00:02, 61.22it/s]"
     ]
    },
    {
     "name": "stderr",
     "output_type": "stream",
     "text": [
      "\r",
      "\u001b[1;34m￨ stanza 146, line 04: PAIN ting.thy OU tward WALLS so COS tly GAY           :  94%|\u001b[0;36m█████████▍\u001b[0;36m| 2031/2155 [00:53<00:02, 61.22it/s]"
     ]
    },
    {
     "name": "stderr",
     "output_type": "stream",
     "text": [
      "\r",
      "\u001b[1;34m￨ stanza 146, line 05: why.so LARGE cost HA.VING so SHORT a LEASE            :  94%|\u001b[0;36m█████████▍\u001b[0;36m| 2031/2155 [00:53<00:02, 61.22it/s]"
     ]
    },
    {
     "name": "stderr",
     "output_type": "stream",
     "text": [
      "\r",
      "\u001b[1;34m￨ stanza 146, line 06: dost THOU u PON thy FA ding MAN sion SPEND            :  94%|\u001b[0;36m█████████▍\u001b[0;36m| 2031/2155 [00:53<00:02, 61.22it/s]"
     ]
    },
    {
     "name": "stderr",
     "output_type": "stream",
     "text": [
      "\r",
      "\u001b[1;34m￨ stanza 146, line 07: shall WORMS in HE ri TORS of THIS ex CESS             :  94%|\u001b[0;36m█████████▍\u001b[0;36m| 2031/2155 [00:53<00:02, 61.22it/s]"
     ]
    },
    {
     "name": "stderr",
     "output_type": "stream",
     "text": [
      "\r",
      "\u001b[1;34m￨ stanza 146, line 08: EAT up.thy CHARGE is THIS thy BO dy's END             :  94%|\u001b[0;36m█████████▍\u001b[0;36m| 2031/2155 [00:53<00:02, 61.22it/s]"
     ]
    },
    {
     "name": "stderr",
     "output_type": "stream",
     "text": [
      "\r",
      "\u001b[1;34m￨ stanza 146, line 09: then SOUL live THOU u PON thy SER vant's LOSS         :  94%|\u001b[0;36m█████████▍\u001b[0;36m| 2031/2155 [00:53<00:02, 61.22it/s]"
     ]
    },
    {
     "name": "stderr",
     "output_type": "stream",
     "text": [
      "\r",
      "\u001b[1;34m￨ stanza 146, line 10: and LET that PINE to AG gra VATE thy STORE            :  94%|\u001b[0;36m█████████▍\u001b[0;36m| 2031/2155 [00:53<00:02, 61.22it/s]"
     ]
    },
    {
     "name": "stderr",
     "output_type": "stream",
     "text": [
      "\r",
      "\u001b[1;34m￨ stanza 146, line 11: buy TERMS di VINE in SEL ling HOURS of DROSS          :  94%|\u001b[0;36m█████████▍\u001b[0;36m| 2031/2155 [00:53<00:02, 61.22it/s]"
     ]
    },
    {
     "name": "stderr",
     "output_type": "stream",
     "text": [
      "\r",
      "\u001b[1;34m￨ stanza 146, line 12: wit HIN be FED wit HOUT be RICH no MORE               :  94%|\u001b[0;36m█████████▍\u001b[0;36m| 2031/2155 [00:53<00:02, 61.22it/s]"
     ]
    },
    {
     "name": "stderr",
     "output_type": "stream",
     "text": [
      "\r",
      "\u001b[1;34m￨ stanza 146, line 12: wit HIN be FED wit HOUT be RICH no MORE               :  95%|\u001b[0;36m█████████▍\u001b[0;36m| 2041/2155 [00:53<00:01, 65.61it/s]"
     ]
    },
    {
     "name": "stderr",
     "output_type": "stream",
     "text": [
      "\r",
      "\u001b[1;34m￨ stanza 146, line 13: so SHALT thou FEED on DEATH that FEEDS on MEN         :  95%|\u001b[0;36m█████████▍\u001b[0;36m| 2041/2155 [00:54<00:01, 65.61it/s]"
     ]
    },
    {
     "name": "stderr",
     "output_type": "stream",
     "text": [
      "\r",
      "\u001b[1;34m￨ stanza 146, line 14: and DEATH once DEAD there's NO more DY ing THEN       :  95%|\u001b[0;36m█████████▍\u001b[0;36m| 2041/2155 [00:54<00:01, 65.61it/s]"
     ]
    },
    {
     "name": "stderr",
     "output_type": "stream",
     "text": [
      "\r",
      "\u001b[1;34m￨ stanza 147, line 01: my LOVE is AS a FE ver LON ging STILL                 :  95%|\u001b[0;36m█████████▍\u001b[0;36m| 2041/2155 [00:54<00:01, 65.61it/s]"
     ]
    },
    {
     "name": "stderr",
     "output_type": "stream",
     "text": [
      "\r",
      "\u001b[1;34m￨ stanza 147, line 02: for THAT which LON ger NURSETH the DI.SEASE           :  95%|\u001b[0;36m█████████▍\u001b[0;36m| 2041/2155 [00:54<00:01, 65.61it/s]"
     ]
    },
    {
     "name": "stderr",
     "output_type": "stream",
     "text": [
      "\r",
      "\u001b[1;34m￨ stanza 147, line 03: FEE ding ON that.which DOTH pre SERVE the ILL         :  95%|\u001b[0;36m█████████▍\u001b[0;36m| 2041/2155 [00:54<00:01, 65.61it/s]"
     ]
    },
    {
     "name": "stderr",
     "output_type": "stream",
     "text": [
      "\r",
      "\u001b[1;34m￨ stanza 147, line 04: THE un CER tain SIC kly AP pe TITE to PLEASE          :  95%|\u001b[0;36m█████████▍\u001b[0;36m| 2041/2155 [00:54<00:01, 65.61it/s]"
     ]
    },
    {
     "name": "stderr",
     "output_type": "stream",
     "text": [
      "\r",
      "\u001b[1;34m￨ stanza 147, line 05: my REA son THE phy SI cian TO my LOVE                 :  95%|\u001b[0;36m█████████▍\u001b[0;36m| 2041/2155 [00:54<00:01, 65.61it/s]"
     ]
    },
    {
     "name": "stderr",
     "output_type": "stream",
     "text": [
      "\r",
      "\u001b[1;34m￨ stanza 147, line 06: AN gry.that HIS pres CRIP tions ARE not KEPT          :  95%|\u001b[0;36m█████████▍\u001b[0;36m| 2041/2155 [00:54<00:01, 65.61it/s]"
     ]
    },
    {
     "name": "stderr",
     "output_type": "stream",
     "text": [
      "\r",
      "\u001b[1;34m￨ stanza 147, line 07: hath LEFT me AND i DES perate NOW ap PROVE            :  95%|\u001b[0;36m█████████▍\u001b[0;36m| 2041/2155 [00:54<00:01, 65.61it/s]"
     ]
    },
    {
     "name": "stderr",
     "output_type": "stream",
     "text": [
      "\r",
      "\u001b[1;34m￨ stanza 147, line 08: de SIRE is DEATH which PHY sic DID ex CEPT            :  95%|\u001b[0;36m█████████▍\u001b[0;36m| 2041/2155 [00:54<00:01, 65.61it/s]"
     ]
    },
    {
     "name": "stderr",
     "output_type": "stream",
     "text": [
      "\r",
      "\u001b[1;34m￨ stanza 147, line 08: de SIRE is DEATH which PHY sic DID ex CEPT            :  95%|\u001b[0;36m█████████▌\u001b[0;36m| 2051/2155 [00:54<00:02, 45.98it/s]"
     ]
    },
    {
     "name": "stderr",
     "output_type": "stream",
     "text": [
      "\r",
      "\u001b[1;34m￨ stanza 147, line 09: past CURE i.am NOW rea.son IS past CARE               :  95%|\u001b[0;36m█████████▌\u001b[0;36m| 2051/2155 [00:54<00:02, 45.98it/s]"
     ]
    },
    {
     "name": "stderr",
     "output_type": "stream",
     "text": [
      "\r",
      "\u001b[1;34m￨ stanza 147, line 10: and FRAN tic MAD with E ver MORE un REST              :  95%|\u001b[0;36m█████████▌\u001b[0;36m| 2051/2155 [00:54<00:02, 45.98it/s]"
     ]
    },
    {
     "name": "stderr",
     "output_type": "stream",
     "text": [
      "\r",
      "\u001b[1;34m￨ stanza 147, line 11: my THOUGHTS and.my DIS.COURSE as MA dmen's ARE        :  95%|\u001b[0;36m█████████▌\u001b[0;36m| 2051/2155 [00:54<00:02, 45.98it/s]"
     ]
    },
    {
     "name": "stderr",
     "output_type": "stream",
     "text": [
      "\r",
      "\u001b[1;34m￨ stanza 147, line 12: at RAN dom FROM the TRUTH vain LY ex PRESS'D          :  95%|\u001b[0;36m█████████▌\u001b[0;36m| 2051/2155 [00:54<00:02, 45.98it/s]"
     ]
    },
    {
     "name": "stderr",
     "output_type": "stream",
     "text": [
      "\r",
      "\u001b[1;34m￨ stanza 147, line 13: for I have SWORN thee FAIR and THOUGHT thee BRIGHT    :  95%|\u001b[0;36m█████████▌\u001b[0;36m| 2051/2155 [00:54<00:02, 45.98it/s]"
     ]
    },
    {
     "name": "stderr",
     "output_type": "stream",
     "text": [
      "\r",
      "\u001b[1;34m￨ stanza 147, line 14: who ART as BLACK as HELL as DARK as NIGHT             :  95%|\u001b[0;36m█████████▌\u001b[0;36m| 2051/2155 [00:54<00:02, 45.98it/s]"
     ]
    },
    {
     "name": "stderr",
     "output_type": "stream",
     "text": [
      "\r",
      "\u001b[1;34m￨ stanza 148, line 01: o ME what EYES hath LOVE put IN my HEAD               :  95%|\u001b[0;36m█████████▌\u001b[0;36m| 2051/2155 [00:54<00:02, 45.98it/s]"
     ]
    },
    {
     "name": "stderr",
     "output_type": "stream",
     "text": [
      "\r",
      "\u001b[1;34m￨ stanza 148, line 02: which HAVE no COR res PON dence WITH true SIGHT       :  95%|\u001b[0;36m█████████▌\u001b[0;36m| 2051/2155 [00:54<00:02, 45.98it/s]"
     ]
    },
    {
     "name": "stderr",
     "output_type": "stream",
     "text": [
      "\r",
      "\u001b[1;34m￨ stanza 148, line 02: which HAVE no COR res PON dence WITH true SIGHT       :  96%|\u001b[0;36m█████████▌\u001b[0;36m| 2059/2155 [00:54<00:01, 48.23it/s]"
     ]
    },
    {
     "name": "stderr",
     "output_type": "stream",
     "text": [
      "\r",
      "\u001b[1;34m￨ stanza 148, line 03: or.if THEY have.where IS my JUD gment FLED            :  96%|\u001b[0;36m█████████▌\u001b[0;36m| 2059/2155 [00:54<00:01, 48.23it/s]"
     ]
    },
    {
     "name": "stderr",
     "output_type": "stream",
     "text": [
      "\r",
      "\u001b[1;34m￨ stanza 148, line 04: that CEN sures FAL sely WHAT they SEE a RIGHT         :  96%|\u001b[0;36m█████████▌\u001b[0;36m| 2059/2155 [00:54<00:01, 48.23it/s]"
     ]
    },
    {
     "name": "stderr",
     "output_type": "stream",
     "text": [
      "\r",
      "\u001b[1;34m￨ stanza 148, line 05: if.that BE fair WHE re ON my FALSE eyes DOTE          :  96%|\u001b[0;36m█████████▌\u001b[0;36m| 2059/2155 [00:54<00:01, 48.23it/s]"
     ]
    },
    {
     "name": "stderr",
     "output_type": "stream",
     "text": [
      "\r",
      "\u001b[1;34m￨ stanza 148, line 06: what MEANS the WORLD to SAY it.is NOT so              :  96%|\u001b[0;36m█████████▌\u001b[0;36m| 2059/2155 [00:54<00:01, 48.23it/s]"
     ]
    },
    {
     "name": "stderr",
     "output_type": "stream",
     "text": [
      "\r",
      "\u001b[1;34m￨ stanza 148, line 07: if IT be NOT then LOVE doth WELL de NOTE              :  96%|\u001b[0;36m█████████▌\u001b[0;36m| 2059/2155 [00:54<00:01, 48.23it/s]"
     ]
    },
    {
     "name": "stderr",
     "output_type": "stream",
     "text": [
      "\r",
      "\u001b[1;34m￨ stanza 148, line 08: love's EYE is NOT so TRUE as ALL men's 'NO            :  96%|\u001b[0;36m█████████▌\u001b[0;36m| 2059/2155 [00:54<00:01, 48.23it/s]"
     ]
    },
    {
     "name": "stderr",
     "output_type": "stream",
     "text": [
      "\r",
      "\u001b[1;34m￨ stanza 148, line 09: how.can IT o.how CAN love's EYE be TRUE               :  96%|\u001b[0;36m█████████▌\u001b[0;36m| 2059/2155 [00:54<00:01, 48.23it/s]"
     ]
    },
    {
     "name": "stderr",
     "output_type": "stream",
     "text": [
      "\r",
      "\u001b[1;34m￨ stanza 148, line 09: how.can IT o.how CAN love's EYE be TRUE               :  96%|\u001b[0;36m█████████▌\u001b[0;36m| 2066/2155 [00:54<00:02, 38.74it/s]"
     ]
    },
    {
     "name": "stderr",
     "output_type": "stream",
     "text": [
      "\r",
      "\u001b[1;34m￨ stanza 148, line 10: that IS so VEX'D with WATC hing AND with TEARS        :  96%|\u001b[0;36m█████████▌\u001b[0;36m| 2066/2155 [00:54<00:02, 38.74it/s]"
     ]
    },
    {
     "name": "stderr",
     "output_type": "stream",
     "text": [
      "\r",
      "\u001b[1;34m￨ stanza 148, line 11: no MAR vel THEN though I mis TAKE my VIEW             :  96%|\u001b[0;36m█████████▌\u001b[0;36m| 2066/2155 [00:54<00:02, 38.74it/s]"
     ]
    },
    {
     "name": "stderr",
     "output_type": "stream",
     "text": [
      "\r",
      "\u001b[1;34m￨ stanza 148, line 12: the SUN i TSELF sees NOT till HEA ven CLEARS          :  96%|\u001b[0;36m█████████▌\u001b[0;36m| 2066/2155 [00:54<00:02, 38.74it/s]"
     ]
    },
    {
     "name": "stderr",
     "output_type": "stream",
     "text": [
      "\r",
      "\u001b[1;34m￨ stanza 148, line 13: o CUN ning LOVE with TEARS thou KEEP'ST me BLIND      :  96%|\u001b[0;36m█████████▌\u001b[0;36m| 2066/2155 [00:54<00:02, 38.74it/s]"
     ]
    },
    {
     "name": "stderr",
     "output_type": "stream",
     "text": [
      "\r",
      "\u001b[1;34m￨ stanza 148, line 14: lest EYES well SEE ing THY foul FAULTS should FIND    :  96%|\u001b[0;36m█████████▌\u001b[0;36m| 2066/2155 [00:54<00:02, 38.74it/s]"
     ]
    },
    {
     "name": "stderr",
     "output_type": "stream",
     "text": [
      "\r",
      "\u001b[1;34m￨ stanza 149, line 01: CANST thou.o CR uel SAY i LOVE thee NOT               :  96%|\u001b[0;36m█████████▌\u001b[0;36m| 2066/2155 [00:54<00:02, 38.74it/s]"
     ]
    },
    {
     "name": "stderr",
     "output_type": "stream",
     "text": [
      "\r",
      "\u001b[1;34m￨ stanza 149, line 02: when I a GAINST my SELF with THEE par TAKE            :  96%|\u001b[0;36m█████████▌\u001b[0;36m| 2066/2155 [00:54<00:02, 38.74it/s]"
     ]
    },
    {
     "name": "stderr",
     "output_type": "stream",
     "text": [
      "\r",
      "\u001b[1;34m￨ stanza 149, line 03: do I not THINK on THEE when I for GOT                 :  96%|\u001b[0;36m█████████▌\u001b[0;36m| 2066/2155 [00:54<00:02, 38.74it/s]"
     ]
    },
    {
     "name": "stderr",
     "output_type": "stream",
     "text": [
      "\r",
      "\u001b[1;34m￨ stanza 149, line 04: am.of MY.SELF all TY rant FOR thy SAKE                :  96%|\u001b[0;36m█████████▌\u001b[0;36m| 2066/2155 [00:54<00:02, 38.74it/s]"
     ]
    },
    {
     "name": "stderr",
     "output_type": "stream",
     "text": [
      "\r",
      "\u001b[1;34m￨ stanza 149, line 05: who HA teth THEE that I do CALL my FRIEND             :  96%|\u001b[0;36m█████████▌\u001b[0;36m| 2066/2155 [00:55<00:02, 38.74it/s]"
     ]
    },
    {
     "name": "stderr",
     "output_type": "stream",
     "text": [
      "\r",
      "\u001b[1;34m￨ stanza 149, line 05: who HA teth THEE that I do CALL my FRIEND             :  96%|\u001b[0;36m█████████▋\u001b[0;36m| 2076/2155 [00:55<00:02, 27.96it/s]"
     ]
    },
    {
     "name": "stderr",
     "output_type": "stream",
     "text": [
      "\r",
      "\u001b[1;34m￨ stanza 149, line 06: on.whom FROWN'ST thou.that I do FAWN u PON            :  96%|\u001b[0;36m█████████▋\u001b[0;36m| 2076/2155 [00:55<00:02, 27.96it/s]"
     ]
    },
    {
     "name": "stderr",
     "output_type": "stream",
     "text": [
      "\r",
      "\u001b[1;34m￨ stanza 149, line 07: NAY if.thou LOUR'ST on ME do I not SPEND              :  96%|\u001b[0;36m█████████▋\u001b[0;36m| 2076/2155 [00:55<00:02, 27.96it/s]"
     ]
    },
    {
     "name": "stderr",
     "output_type": "stream",
     "text": [
      "\r",
      "\u001b[1;34m￨ stanza 149, line 08: re VENGE u PON my SELF with PRE sent MOAN             :  96%|\u001b[0;36m█████████▋\u001b[0;36m| 2076/2155 [00:55<00:02, 27.96it/s]"
     ]
    },
    {
     "name": "stderr",
     "output_type": "stream",
     "text": [
      "\r",
      "\u001b[1;34m￨ stanza 149, line 09: what ME rit DO i IN my SELF res PECT                  :  96%|\u001b[0;36m█████████▋\u001b[0;36m| 2076/2155 [00:55<00:02, 27.96it/s]"
     ]
    },
    {
     "name": "stderr",
     "output_type": "stream",
     "text": [
      "\r",
      "\u001b[1;34m￨ stanza 149, line 10: that IS so PROUD thy SER vice TO des PISE             :  96%|\u001b[0;36m█████████▋\u001b[0;36m| 2076/2155 [00:55<00:02, 27.96it/s]"
     ]
    },
    {
     "name": "stderr",
     "output_type": "stream",
     "text": [
      "\r",
      "\u001b[1;34m￨ stanza 149, line 11: when ALL my BEST doth WORS hip THY de FECT            :  96%|\u001b[0;36m█████████▋\u001b[0;36m| 2076/2155 [00:55<00:02, 27.96it/s]"
     ]
    },
    {
     "name": "stderr",
     "output_type": "stream",
     "text": [
      "\r",
      "\u001b[1;34m￨ stanza 149, line 12: com MAN ded BY the MO tion OF thine EYES              :  96%|\u001b[0;36m█████████▋\u001b[0;36m| 2076/2155 [00:55<00:02, 27.96it/s]"
     ]
    },
    {
     "name": "stderr",
     "output_type": "stream",
     "text": [
      "\r",
      "\u001b[1;34m￨ stanza 149, line 13: but LOVE hate ON for NOW i KNOW thy MIND              :  96%|\u001b[0;36m█████████▋\u001b[0;36m| 2076/2155 [00:55<00:02, 27.96it/s]"
     ]
    },
    {
     "name": "stderr",
     "output_type": "stream",
     "text": [
      "\r",
      "\u001b[1;34m￨ stanza 149, line 14: those THAT can SEE thou LO vest AND i.am BLIND        :  96%|\u001b[0;36m█████████▋\u001b[0;36m| 2076/2155 [00:55<00:02, 27.96it/s]"
     ]
    },
    {
     "name": "stderr",
     "output_type": "stream",
     "text": [
      "\r",
      "\u001b[1;34m￨ stanza 150, line 01: o FROM what PO wer HAST thou.this PO wer FUL might    :  96%|\u001b[0;36m█████████▋\u001b[0;36m| 2076/2155 [00:55<00:02, 27.96it/s]"
     ]
    },
    {
     "name": "stderr",
     "output_type": "stream",
     "text": [
      "\r",
      "\u001b[1;34m￨ stanza 150, line 02: with IN suf FI cien CY my HEART to SWAY               :  96%|\u001b[0;36m█████████▋\u001b[0;36m| 2076/2155 [00:55<00:02, 27.96it/s]"
     ]
    },
    {
     "name": "stderr",
     "output_type": "stream",
     "text": [
      "\r",
      "\u001b[1;34m￨ stanza 150, line 03: to MAKE me GIVE the LIE to.my TRUE sight              :  96%|\u001b[0;36m█████████▋\u001b[0;36m| 2076/2155 [00:55<00:02, 27.96it/s]"
     ]
    },
    {
     "name": "stderr",
     "output_type": "stream",
     "text": [
      "\r",
      "\u001b[1;34m￨ stanza 150, line 04: and SWEAR that BRIGH tness DOTH not GRACE the DAY     :  96%|\u001b[0;36m█████████▋\u001b[0;36m| 2076/2155 [00:55<00:02, 27.96it/s]"
     ]
    },
    {
     "name": "stderr",
     "output_type": "stream",
     "text": [
      "\r",
      "\u001b[1;34m￨ stanza 150, line 04: and SWEAR that BRIGH tness DOTH not GRACE the DAY     :  97%|\u001b[0;36m█████████▋\u001b[0;36m| 2089/2155 [00:55<00:01, 38.86it/s]"
     ]
    },
    {
     "name": "stderr",
     "output_type": "stream",
     "text": [
      "\r",
      "\u001b[1;34m￨ stanza 150, line 05: whence.hast THOU this BE.CO ming OF things ILL        :  97%|\u001b[0;36m█████████▋\u001b[0;36m| 2089/2155 [00:55<00:01, 38.86it/s]"
     ]
    },
    {
     "name": "stderr",
     "output_type": "stream",
     "text": [
      "\r",
      "\u001b[1;34m￨ stanza 150, line 06: that IN the VE ry RE.FUSE of.thy DEEDS                :  97%|\u001b[0;36m█████████▋\u001b[0;36m| 2089/2155 [00:55<00:01, 38.86it/s]"
     ]
    },
    {
     "name": "stderr",
     "output_type": "stream",
     "text": [
      "\r",
      "\u001b[1;34m￨ stanza 150, line 07: there IS such STRENGTH and WAR ran TIZE of SKILL      :  97%|\u001b[0;36m█████████▋\u001b[0;36m| 2089/2155 [00:55<00:01, 38.86it/s]"
     ]
    },
    {
     "name": "stderr",
     "output_type": "stream",
     "text": [
      "\r",
      "\u001b[1;34m￨ stanza 150, line 08: that IN my MIND thy WORST all BEST ex CEEDS           :  97%|\u001b[0;36m█████████▋\u001b[0;36m| 2089/2155 [00:55<00:01, 38.86it/s]"
     ]
    },
    {
     "name": "stderr",
     "output_type": "stream",
     "text": [
      "\r",
      "\u001b[1;34m￨ stanza 150, line 09: who TAUGHT thee HOW to MAKE me LOVE thee MORE         :  97%|\u001b[0;36m█████████▋\u001b[0;36m| 2089/2155 [00:55<00:01, 38.86it/s]"
     ]
    },
    {
     "name": "stderr",
     "output_type": "stream",
     "text": [
      "\r",
      "\u001b[1;34m￨ stanza 150, line 10: the MORE i HEAR and SEE just CAUSE of HATE            :  97%|\u001b[0;36m█████████▋\u001b[0;36m| 2089/2155 [00:55<00:01, 38.86it/s]"
     ]
    },
    {
     "name": "stderr",
     "output_type": "stream",
     "text": [
      "\r",
      "\u001b[1;34m￨ stanza 150, line 11: o THOUGH i LOVE what OT hers DO ab HOR                :  97%|\u001b[0;36m█████████▋\u001b[0;36m| 2089/2155 [00:55<00:01, 38.86it/s]"
     ]
    },
    {
     "name": "stderr",
     "output_type": "stream",
     "text": [
      "\r",
      "\u001b[1;34m￨ stanza 150, line 12: with OT hers THOU shouldst NOT ab HOR my STATE        :  97%|\u001b[0;36m█████████▋\u001b[0;36m| 2089/2155 [00:55<00:01, 38.86it/s]"
     ]
    },
    {
     "name": "stderr",
     "output_type": "stream",
     "text": [
      "\r",
      "\u001b[1;34m￨ stanza 150, line 13: if THY un WORT hi NESS raised LOVE in ME              :  97%|\u001b[0;36m█████████▋\u001b[0;36m| 2089/2155 [00:55<00:01, 38.86it/s]"
     ]
    },
    {
     "name": "stderr",
     "output_type": "stream",
     "text": [
      "\r",
      "\u001b[1;34m￨ stanza 150, line 14: more WORT hy I to BE be LOVED of THEE                 :  97%|\u001b[0;36m█████████▋\u001b[0;36m| 2089/2155 [00:55<00:01, 38.86it/s]"
     ]
    },
    {
     "name": "stderr",
     "output_type": "stream",
     "text": [
      "\r",
      "\u001b[1;34m￨ stanza 150, line 14: more WORT hy I to BE be LOVED of THEE                 :  97%|\u001b[0;36m█████████▋\u001b[0;36m| 2099/2155 [00:55<00:01, 31.65it/s]"
     ]
    },
    {
     "name": "stderr",
     "output_type": "stream",
     "text": [
      "\r",
      "\u001b[1;34m￨ stanza 151, line 01: LOVE is TOO.YOUNG to KNOW what CONS cience IS         :  97%|\u001b[0;36m█████████▋\u001b[0;36m| 2099/2155 [00:55<00:01, 31.65it/s]"
     ]
    },
    {
     "name": "stderr",
     "output_type": "stream",
     "text": [
      "\r",
      "\u001b[1;34m￨ stanza 151, line 02: yet.who KNOWS not CONS cience.is BORN of LOVE         :  97%|\u001b[0;36m█████████▋\u001b[0;36m| 2099/2155 [00:55<00:01, 31.65it/s]"
     ]
    },
    {
     "name": "stderr",
     "output_type": "stream",
     "text": [
      "\r",
      "\u001b[1;34m￨ stanza 151, line 03: then GEN tle CHEA ter URGE not MY a MISS              :  97%|\u001b[0;36m█████████▋\u001b[0;36m| 2099/2155 [00:55<00:01, 31.65it/s]"
     ]
    },
    {
     "name": "stderr",
     "output_type": "stream",
     "text": [
      "\r",
      "\u001b[1;34m￨ stanza 151, line 04: lest GUIL ty OF my FAULTS thy SWEET self PROVE        :  97%|\u001b[0;36m█████████▋\u001b[0;36m| 2099/2155 [00:55<00:01, 31.65it/s]"
     ]
    },
    {
     "name": "stderr",
     "output_type": "stream",
     "text": [
      "\r",
      "\u001b[1;34m￨ stanza 151, line 05: for THOU be TRAY ing ME i DO be TRAY                  :  97%|\u001b[0;36m█████████▋\u001b[0;36m| 2099/2155 [00:55<00:01, 31.65it/s]"
     ]
    },
    {
     "name": "stderr",
     "output_type": "stream",
     "text": [
      "\r",
      "\u001b[1;34m￨ stanza 151, line 06: my NO bler PART to MY gross BO dy's TREA son          :  97%|\u001b[0;36m█████████▋\u001b[0;36m| 2099/2155 [00:55<00:01, 31.65it/s]"
     ]
    },
    {
     "name": "stderr",
     "output_type": "stream",
     "text": [
      "\r",
      "\u001b[1;34m￨ stanza 151, line 07: my SOUL doth TELL my BO dy THAT he.may                :  97%|\u001b[0;36m█████████▋\u001b[0;36m| 2099/2155 [00:55<00:01, 31.65it/s]"
     ]
    },
    {
     "name": "stderr",
     "output_type": "stream",
     "text": [
      "\r",
      "\u001b[1;34m￨ stanza 151, line 08: TRI umph.in LOVE flesh STAYS no FAT her REA son       :  97%|\u001b[0;36m█████████▋\u001b[0;36m| 2099/2155 [00:55<00:01, 31.65it/s]"
     ]
    },
    {
     "name": "stderr",
     "output_type": "stream",
     "text": [
      "\r",
      "\u001b[1;34m￨ stanza 151, line 09: but RI sing AT thy NAME doth POINT out THEE           :  97%|\u001b[0;36m█████████▋\u001b[0;36m| 2099/2155 [00:55<00:01, 31.65it/s]"
     ]
    },
    {
     "name": "stderr",
     "output_type": "stream",
     "text": [
      "\r",
      "\u001b[1;34m￨ stanza 151, line 10: as HIS triump HA nt PRIZE proud OF this PRIDE         :  97%|\u001b[0;36m█████████▋\u001b[0;36m| 2099/2155 [00:55<00:01, 31.65it/s]"
     ]
    },
    {
     "name": "stderr",
     "output_type": "stream",
     "text": [
      "\r",
      "\u001b[1;34m￨ stanza 151, line 11: he IS con TEN ted THY poor DRUDGE to BE               :  97%|\u001b[0;36m█████████▋\u001b[0;36m| 2099/2155 [00:55<00:01, 31.65it/s]"
     ]
    },
    {
     "name": "stderr",
     "output_type": "stream",
     "text": [
      "\r",
      "\u001b[1;34m￨ stanza 151, line 12: to STAND in THY af FAIRS fall BY thy SIDE             :  97%|\u001b[0;36m█████████▋\u001b[0;36m| 2099/2155 [00:55<00:01, 31.65it/s]"
     ]
    },
    {
     "name": "stderr",
     "output_type": "stream",
     "text": [
      "\r",
      "\u001b[1;34m￨ stanza 151, line 13: no WANT of CONS cience HOLD it THAT i CALL            :  97%|\u001b[0;36m█████████▋\u001b[0;36m| 2099/2155 [00:55<00:01, 31.65it/s]"
     ]
    },
    {
     "name": "stderr",
     "output_type": "stream",
     "text": [
      "\r",
      "\u001b[1;34m￨ stanza 151, line 14: her LOVE for WHOSE dear LOVE i RISE and FALL          :  97%|\u001b[0;36m█████████▋\u001b[0;36m| 2099/2155 [00:55<00:01, 31.65it/s]"
     ]
    },
    {
     "name": "stderr",
     "output_type": "stream",
     "text": [
      "\r",
      "\u001b[1;34m￨ stanza 152, line 01: in LO ving THEE thou KNOW'ST i.am FOR sworn           :  97%|\u001b[0;36m█████████▋\u001b[0;36m| 2099/2155 [00:55<00:01, 31.65it/s]"
     ]
    },
    {
     "name": "stderr",
     "output_type": "stream",
     "text": [
      "\r",
      "\u001b[1;34m￨ stanza 152, line 02: but THOU art TWICE for SWORN to ME love SWEA ring     :  97%|\u001b[0;36m█████████▋\u001b[0;36m| 2099/2155 [00:55<00:01, 31.65it/s]"
     ]
    },
    {
     "name": "stderr",
     "output_type": "stream",
     "text": [
      "\r",
      "\u001b[1;34m￨ stanza 152, line 03: in ACT thy BED vow BROKE and NEW faith TORN           :  97%|\u001b[0;36m█████████▋\u001b[0;36m| 2099/2155 [00:55<00:01, 31.65it/s]"
     ]
    },
    {
     "name": "stderr",
     "output_type": "stream",
     "text": [
      "\r",
      "\u001b[1;34m￨ stanza 152, line 04: in VO wing NEW hate AF ter NEW love BEA ring          :  97%|\u001b[0;36m█████████▋\u001b[0;36m| 2099/2155 [00:56<00:01, 31.65it/s]"
     ]
    },
    {
     "name": "stderr",
     "output_type": "stream",
     "text": [
      "\r",
      "\u001b[1;34m￨ stanza 152, line 05: but WHY of TWO oaths' BREACH do I ac CUSE thee        :  97%|\u001b[0;36m█████████▋\u001b[0;36m| 2099/2155 [00:56<00:01, 31.65it/s]"
     ]
    },
    {
     "name": "stderr",
     "output_type": "stream",
     "text": [
      "\r",
      "\u001b[1;34m￨ stanza 152, line 05: but WHY of TWO oaths' BREACH do I ac CUSE thee        :  98%|\u001b[0;36m█████████▊\u001b[0;36m| 2118/2155 [00:56<00:01, 33.00it/s]"
     ]
    },
    {
     "name": "stderr",
     "output_type": "stream",
     "text": [
      "\r",
      "\u001b[1;34m￨ stanza 152, line 06: when I break TWEN ty I am PER jured MOST              :  98%|\u001b[0;36m█████████▊\u001b[0;36m| 2118/2155 [00:56<00:01, 33.00it/s]"
     ]
    },
    {
     "name": "stderr",
     "output_type": "stream",
     "text": [
      "\r",
      "\u001b[1;34m￨ stanza 152, line 07: for ALL my VOWS are OATHS but TO mi SUSE thee         :  98%|\u001b[0;36m█████████▊\u001b[0;36m| 2118/2155 [00:56<00:01, 33.00it/s]"
     ]
    },
    {
     "name": "stderr",
     "output_type": "stream",
     "text": [
      "\r",
      "\u001b[1;34m￨ stanza 152, line 08: and ALL my HO nest FAITH in THEE is LOST              :  98%|\u001b[0;36m█████████▊\u001b[0;36m| 2118/2155 [00:56<00:01, 33.00it/s]"
     ]
    },
    {
     "name": "stderr",
     "output_type": "stream",
     "text": [
      "\r",
      "\u001b[1;34m￨ stanza 152, line 09: for I have SWORN deep OATHS of THY deep KIN dness     :  98%|\u001b[0;36m█████████▊\u001b[0;36m| 2118/2155 [00:56<00:01, 33.00it/s]"
     ]
    },
    {
     "name": "stderr",
     "output_type": "stream",
     "text": [
      "\r",
      "\u001b[1;34m￨ stanza 152, line 10: OATHS of.thy LOVE thy TRUTH thy CONS tan CY           :  98%|\u001b[0;36m█████████▊\u001b[0;36m| 2118/2155 [00:56<00:01, 33.00it/s]"
     ]
    },
    {
     "name": "stderr",
     "output_type": "stream",
     "text": [
      "\r",
      "\u001b[1;34m￨ stanza 152, line 11: and TO en LIGH ten THEE gave EYES to BLIN dness       :  98%|\u001b[0;36m█████████▊\u001b[0;36m| 2118/2155 [00:56<00:01, 33.00it/s]"
     ]
    },
    {
     "name": "stderr",
     "output_type": "stream",
     "text": [
      "\r",
      "\u001b[1;34m￨ stanza 152, line 12: or MADE them SWEAR a GAINST the THING they SEE        :  98%|\u001b[0;36m█████████▊\u001b[0;36m| 2118/2155 [00:56<00:01, 33.00it/s]"
     ]
    },
    {
     "name": "stderr",
     "output_type": "stream",
     "text": [
      "\r",
      "\u001b[1;34m￨ stanza 152, line 13: for I have SWORN thee FAIR more PER jured EYE         :  98%|\u001b[0;36m█████████▊\u001b[0;36m| 2118/2155 [00:56<00:01, 33.00it/s]"
     ]
    },
    {
     "name": "stderr",
     "output_type": "stream",
     "text": [
      "\r",
      "\u001b[1;34m￨ stanza 152, line 14: to SWEAR a GAINST the TRUTH so FOUL a LIE             :  98%|\u001b[0;36m█████████▊\u001b[0;36m| 2118/2155 [00:56<00:01, 33.00it/s]"
     ]
    },
    {
     "name": "stderr",
     "output_type": "stream",
     "text": [
      "\r",
      "\u001b[1;34m￨ stanza 153, line 01: CU pid LAID by.his BRAND and FELL a SLEEP             :  98%|\u001b[0;36m█████████▊\u001b[0;36m| 2118/2155 [00:56<00:01, 33.00it/s]"
     ]
    },
    {
     "name": "stderr",
     "output_type": "stream",
     "text": [
      "\r",
      "\u001b[1;34m￨ stanza 153, line 02: a MAID of DIAN 's THIS a DVAN tage FOUND              :  98%|\u001b[0;36m█████████▊\u001b[0;36m| 2118/2155 [00:56<00:01, 33.00it/s]"
     ]
    },
    {
     "name": "stderr",
     "output_type": "stream",
     "text": [
      "\r",
      "\u001b[1;34m￨ stanza 153, line 03: and HIS love KIN dling FIRE did QUIC kly STEEP        :  98%|\u001b[0;36m█████████▊\u001b[0;36m| 2118/2155 [00:56<00:01, 33.00it/s]"
     ]
    },
    {
     "name": "stderr",
     "output_type": "stream",
     "text": [
      "\r",
      "\u001b[1;34m￨ stanza 153, line 04: in A cold VAL ley FOUN tain OF that GROUND            :  98%|\u001b[0;36m█████████▊\u001b[0;36m| 2118/2155 [00:56<00:01, 33.00it/s]"
     ]
    },
    {
     "name": "stderr",
     "output_type": "stream",
     "text": [
      "\r",
      "\u001b[1;34m￨ stanza 153, line 05: which BOR row'd FROM this HO ly FIRE of LOVE          :  98%|\u001b[0;36m█████████▊\u001b[0;36m| 2118/2155 [00:56<00:01, 33.00it/s]"
     ]
    },
    {
     "name": "stderr",
     "output_type": "stream",
     "text": [
      "\r",
      "\u001b[1;34m￨ stanza 153, line 06: a DA teless LI vely HEAT still TO en DURE             :  98%|\u001b[0;36m█████████▊\u001b[0;36m| 2118/2155 [00:56<00:01, 33.00it/s]"
     ]
    },
    {
     "name": "stderr",
     "output_type": "stream",
     "text": [
      "\r",
      "\u001b[1;34m￨ stanza 153, line 07: and GREW a SEET hing BATH which YET men PROVE         :  98%|\u001b[0;36m█████████▊\u001b[0;36m| 2118/2155 [00:56<00:01, 33.00it/s]"
     ]
    },
    {
     "name": "stderr",
     "output_type": "stream",
     "text": [
      "\r",
      "\u001b[1;34m￨ stanza 153, line 08: a GAINST strange MA la DIES a SO vereign CURE         :  98%|\u001b[0;36m█████████▊\u001b[0;36m| 2118/2155 [00:56<00:01, 33.00it/s]"
     ]
    },
    {
     "name": "stderr",
     "output_type": "stream",
     "text": [
      "\r",
      "\u001b[1;34m￨ stanza 153, line 09: but AT my MIS tress' EYE love's BRAND new FI red      :  98%|\u001b[0;36m█████████▊\u001b[0;36m| 2118/2155 [00:56<00:01, 33.00it/s]"
     ]
    },
    {
     "name": "stderr",
     "output_type": "stream",
     "text": [
      "\r",
      "\u001b[1;34m￨ stanza 153, line 10: the BOY for TR ial NEEDS would TOUCH my BREAST        :  98%|\u001b[0;36m█████████▊\u001b[0;36m| 2118/2155 [00:56<00:01, 33.00it/s]"
     ]
    },
    {
     "name": "stderr",
     "output_type": "stream",
     "text": [
      "\r",
      "\u001b[1;34m￨ stanza 153, line 11: i SICK wit HAL the HELP of BATH de SIRED              :  98%|\u001b[0;36m█████████▊\u001b[0;36m| 2118/2155 [00:56<00:01, 33.00it/s]"
     ]
    },
    {
     "name": "stderr",
     "output_type": "stream",
     "text": [
      "\r",
      "\u001b[1;34m￨ stanza 153, line 12: and THIT her HIED a SAD dis TEM per'd GUEST           :  98%|\u001b[0;36m█████████▊\u001b[0;36m| 2118/2155 [00:56<00:01, 33.00it/s]"
     ]
    },
    {
     "name": "stderr",
     "output_type": "stream",
     "text": [
      "\r",
      "\u001b[1;34m￨ stanza 153, line 13: but FOUND no CURE the BATH for.my HELP lies           :  98%|\u001b[0;36m█████████▊\u001b[0;36m| 2118/2155 [00:56<00:01, 33.00it/s]"
     ]
    },
    {
     "name": "stderr",
     "output_type": "stream",
     "text": [
      "\r",
      "\u001b[1;34m￨ stanza 153, line 14: where CU pid GOT new FIRE my MIS tress' EYES          :  98%|\u001b[0;36m█████████▊\u001b[0;36m| 2118/2155 [00:56<00:01, 33.00it/s]"
     ]
    },
    {
     "name": "stderr",
     "output_type": "stream",
     "text": [
      "\r",
      "\u001b[1;34m￨ stanza 154, line 01: the LIT tle LOVE god LY ing ONCE a SLEEP              :  98%|\u001b[0;36m█████████▊\u001b[0;36m| 2118/2155 [00:56<00:01, 33.00it/s]"
     ]
    },
    {
     "name": "stderr",
     "output_type": "stream",
     "text": [
      "\r",
      "\u001b[1;34m￨ stanza 154, line 02: LAID by.his SIDE his HEART in FLA ming BRAND          :  98%|\u001b[0;36m█████████▊\u001b[0;36m| 2118/2155 [00:56<00:01, 33.00it/s]"
     ]
    },
    {
     "name": "stderr",
     "output_type": "stream",
     "text": [
      "\r",
      "\u001b[1;34m￨ stanza 154, line 03: whilst MA ny NYMPHS that VOW'D chaste LIFE to KEEP    :  98%|\u001b[0;36m█████████▊\u001b[0;36m| 2118/2155 [00:56<00:01, 33.00it/s]"
     ]
    },
    {
     "name": "stderr",
     "output_type": "stream",
     "text": [
      "\r",
      "\u001b[1;34m￨ stanza 154, line 04: came TRIP ping BY but IN her MAI den HAND             :  98%|\u001b[0;36m█████████▊\u001b[0;36m| 2118/2155 [00:56<00:01, 33.00it/s]"
     ]
    },
    {
     "name": "stderr",
     "output_type": "stream",
     "text": [
      "\r",
      "\u001b[1;34m￨ stanza 154, line 05: the FAI rest VO ta.ry TOOK up.that FI re              :  98%|\u001b[0;36m█████████▊\u001b[0;36m| 2118/2155 [00:56<00:01, 33.00it/s]"
     ]
    },
    {
     "name": "stderr",
     "output_type": "stream",
     "text": [
      "\r",
      "\u001b[1;34m￨ stanza 154, line 06: which MA ny LE gions OF true HEARTS had WARM'D        :  98%|\u001b[0;36m█████████▊\u001b[0;36m| 2118/2155 [00:56<00:01, 33.00it/s]"
     ]
    },
    {
     "name": "stderr",
     "output_type": "stream",
     "text": [
      "\r",
      "\u001b[1;34m￨ stanza 154, line 06: which MA ny LE gions OF true HEARTS had WARM'D        : 100%|\u001b[0;36m█████████▉\u001b[0;36m| 2147/2155 [00:56<00:00, 46.33it/s]"
     ]
    },
    {
     "name": "stderr",
     "output_type": "stream",
     "text": [
      "\r",
      "\u001b[1;34m￨ stanza 154, line 07: and SO the GE ne RAL of HOT de SIRE                   : 100%|\u001b[0;36m█████████▉\u001b[0;36m| 2147/2155 [00:56<00:00, 46.33it/s]"
     ]
    },
    {
     "name": "stderr",
     "output_type": "stream",
     "text": [
      "\r",
      "\u001b[1;34m￨ stanza 154, line 08: was SLEE ping BY a VIR gin HAND di SARM'D             : 100%|\u001b[0;36m█████████▉\u001b[0;36m| 2147/2155 [00:56<00:00, 46.33it/s]"
     ]
    },
    {
     "name": "stderr",
     "output_type": "stream",
     "text": [
      "\r",
      "\u001b[1;34m￨ stanza 154, line 09: this BRAND she QUENCHED in A cool WELL by             : 100%|\u001b[0;36m█████████▉\u001b[0;36m| 2147/2155 [00:56<00:00, 46.33it/s]"
     ]
    },
    {
     "name": "stderr",
     "output_type": "stream",
     "text": [
      "\r",
      "\u001b[1;34m￨ stanza 154, line 10: which.from LOVE'S fire TOOK heat PER.PE tu AL         : 100%|\u001b[0;36m█████████▉\u001b[0;36m| 2147/2155 [00:56<00:00, 46.33it/s]"
     ]
    },
    {
     "name": "stderr",
     "output_type": "stream",
     "text": [
      "\r",
      "\u001b[1;34m￨ stanza 154, line 11: GRO wing.a BATH and HEALT hful RE me DY               : 100%|\u001b[0;36m█████████▉\u001b[0;36m| 2147/2155 [00:56<00:00, 46.33it/s]"
     ]
    },
    {
     "name": "stderr",
     "output_type": "stream",
     "text": [
      "\r",
      "\u001b[1;34m￨ stanza 154, line 12: for MEN di SEASED but I my MIS tress' THRALL          : 100%|\u001b[0;36m█████████▉\u001b[0;36m| 2147/2155 [00:56<00:00, 46.33it/s]"
     ]
    },
    {
     "name": "stderr",
     "output_type": "stream",
     "text": [
      "\r",
      "\u001b[1;34m￨ stanza 154, line 13: CAME there.for CURE and THIS by THAT i PROVE          : 100%|\u001b[0;36m█████████▉\u001b[0;36m| 2147/2155 [00:57<00:00, 46.33it/s]"
     ]
    },
    {
     "name": "stderr",
     "output_type": "stream",
     "text": [
      "\r",
      "\u001b[1;34m￨ stanza 154, line 13: CAME there.for CURE and THIS by THAT i PROVE          : 100%|\u001b[0;36m█████████▉\u001b[0;36m| 2154/2155 [00:57<00:00, 46.23it/s]"
     ]
    },
    {
     "name": "stderr",
     "output_type": "stream",
     "text": [
      "\r",
      "\u001b[1;34m￨ stanza 154, line 14: love's FI re HEATS.WA ter WA ter COOLS not LOVE       : 100%|\u001b[0;36m█████████▉\u001b[0;36m| 2154/2155 [00:57<00:00, 46.23it/s]"
     ]
    },
    {
     "name": "stderr",
     "output_type": "stream",
     "text": [
      "\r",
      "\u001b[1;34m￨ stanza 154, line 14: love's FI re HEATS.WA ter WA ter COOLS not LOVE       : 100%|\u001b[0;36m██████████\u001b[0;36m| 2155/2155 [00:57<00:00, 37.78it/s]"
     ]
    },
    {
     "name": "stderr",
     "output_type": "stream",
     "text": [
      "\n",
      "\u001b[34m\u001b[1m⎿ 58.1 seconds\u001b[0m\u001b[36m @ 2023-12-16 08:21:30,296\u001b[0m\n"
     ]
    },
    {
     "data": {
      "text/html": [
       "<div>\n",
       "<style scoped>\n",
       "    .dataframe tbody tr th:only-of-type {\n",
       "        vertical-align: middle;\n",
       "    }\n",
       "\n",
       "    .dataframe tbody tr th {\n",
       "        vertical-align: top;\n",
       "    }\n",
       "\n",
       "    .dataframe thead th {\n",
       "        text-align: right;\n",
       "    }\n",
       "</style>\n",
       "<table border=\"1\" class=\"dataframe\">\n",
       "  <thead>\n",
       "    <tr style=\"text-align: right;\">\n",
       "      <th></th>\n",
       "      <th></th>\n",
       "      <th></th>\n",
       "      <th></th>\n",
       "      <th></th>\n",
       "      <th></th>\n",
       "      <th></th>\n",
       "      <th>parse_score</th>\n",
       "      <th>parse_is_bounded</th>\n",
       "      <th>meterpos_num_slots</th>\n",
       "      <th>*w_peak</th>\n",
       "      <th>*w_stress</th>\n",
       "      <th>*s_unstress</th>\n",
       "      <th>*unres_across</th>\n",
       "      <th>*unres_within</th>\n",
       "    </tr>\n",
       "    <tr>\n",
       "      <th>stanza_num</th>\n",
       "      <th>line_num</th>\n",
       "      <th>line_txt</th>\n",
       "      <th>parse_rank</th>\n",
       "      <th>parse_txt</th>\n",
       "      <th>parse_meter</th>\n",
       "      <th>parse_stress</th>\n",
       "      <th></th>\n",
       "      <th></th>\n",
       "      <th></th>\n",
       "      <th></th>\n",
       "      <th></th>\n",
       "      <th></th>\n",
       "      <th></th>\n",
       "      <th></th>\n",
       "    </tr>\n",
       "  </thead>\n",
       "  <tbody>\n",
       "    <tr>\n",
       "      <th rowspan=\"5\" valign=\"top\">1</th>\n",
       "      <th rowspan=\"5\" valign=\"top\">1</th>\n",
       "      <th rowspan=\"5\" valign=\"top\">FROM fairest creatures we desire increase,</th>\n",
       "      <th>1</th>\n",
       "      <th>from FAI rest CREA tures WE de SIRE in CREASE</th>\n",
       "      <th>-+-+-+-+-+</th>\n",
       "      <th>-+-+-+-+-+</th>\n",
       "      <td>0.0</td>\n",
       "      <td>0.0</td>\n",
       "      <td>10</td>\n",
       "      <td>0</td>\n",
       "      <td>0</td>\n",
       "      <td>0</td>\n",
       "      <td>0</td>\n",
       "      <td>0</td>\n",
       "    </tr>\n",
       "    <tr>\n",
       "      <th>2</th>\n",
       "      <th>from FAI rest CREA tures WE de SI re IN crease</th>\n",
       "      <th>-+-+-+-+-+-</th>\n",
       "      <th>-+-+-+-+-++</th>\n",
       "      <td>1.0</td>\n",
       "      <td>0.0</td>\n",
       "      <td>11</td>\n",
       "      <td>0</td>\n",
       "      <td>1</td>\n",
       "      <td>0</td>\n",
       "      <td>0</td>\n",
       "      <td>0</td>\n",
       "    </tr>\n",
       "    <tr>\n",
       "      <th>3</th>\n",
       "      <th>from FAI rest CREA tures WE de SI re IN.CREASE</th>\n",
       "      <th>-+-+-+-+-++</th>\n",
       "      <th>-+-+-+-+-++</th>\n",
       "      <td>1.0</td>\n",
       "      <td>0.0</td>\n",
       "      <td>13</td>\n",
       "      <td>0</td>\n",
       "      <td>0</td>\n",
       "      <td>0</td>\n",
       "      <td>0</td>\n",
       "      <td>1</td>\n",
       "    </tr>\n",
       "    <tr>\n",
       "      <th>4</th>\n",
       "      <th>from FAI rest CREA tures WE de SI re.in CREASE</th>\n",
       "      <th>-+-+-+-+--+</th>\n",
       "      <th>-+-+-+-+--+</th>\n",
       "      <td>2.0</td>\n",
       "      <td>0.0</td>\n",
       "      <td>13</td>\n",
       "      <td>0</td>\n",
       "      <td>0</td>\n",
       "      <td>0</td>\n",
       "      <td>2</td>\n",
       "      <td>0</td>\n",
       "    </tr>\n",
       "    <tr>\n",
       "      <th>5</th>\n",
       "      <th>from FAI.REST crea.tures WE de SI re IN crease</th>\n",
       "      <th>-++--+-+-+-</th>\n",
       "      <th>-+-+-+-+-++</th>\n",
       "      <td>4.0</td>\n",
       "      <td>1.0</td>\n",
       "      <td>15</td>\n",
       "      <td>1</td>\n",
       "      <td>2</td>\n",
       "      <td>1</td>\n",
       "      <td>0</td>\n",
       "      <td>0</td>\n",
       "    </tr>\n",
       "    <tr>\n",
       "      <th>...</th>\n",
       "      <th>...</th>\n",
       "      <th>...</th>\n",
       "      <th>...</th>\n",
       "      <th>...</th>\n",
       "      <th>...</th>\n",
       "      <th>...</th>\n",
       "      <td>...</td>\n",
       "      <td>...</td>\n",
       "      <td>...</td>\n",
       "      <td>...</td>\n",
       "      <td>...</td>\n",
       "      <td>...</td>\n",
       "      <td>...</td>\n",
       "      <td>...</td>\n",
       "    </tr>\n",
       "    <tr>\n",
       "      <th rowspan=\"5\" valign=\"top\">154</th>\n",
       "      <th rowspan=\"5\" valign=\"top\">14</th>\n",
       "      <th rowspan=\"5\" valign=\"top\">Love's fire heats water, water cools not love.</th>\n",
       "      <th>2</th>\n",
       "      <th>love's FI re HEATS wa.ter WA ter COOLS not LOVE</th>\n",
       "      <th>-+-+--+-+-+</th>\n",
       "      <th>++-++-+-+-+</th>\n",
       "      <td>4.0</td>\n",
       "      <td>0.0</td>\n",
       "      <td>13</td>\n",
       "      <td>1</td>\n",
       "      <td>2</td>\n",
       "      <td>0</td>\n",
       "      <td>0</td>\n",
       "      <td>1</td>\n",
       "    </tr>\n",
       "    <tr>\n",
       "      <th>3</th>\n",
       "      <th>love's FI.RE heats WA ter WA ter COOLS not LOVE</th>\n",
       "      <th>-++-+-+-+-+</th>\n",
       "      <th>++-++-+-+-+</th>\n",
       "      <td>4.0</td>\n",
       "      <td>0.0</td>\n",
       "      <td>13</td>\n",
       "      <td>0</td>\n",
       "      <td>2</td>\n",
       "      <td>1</td>\n",
       "      <td>0</td>\n",
       "      <td>1</td>\n",
       "    </tr>\n",
       "    <tr>\n",
       "      <th>4</th>\n",
       "      <th>LOVE'S fire HEATS wa.ter WA ter COOLS not LOVE</th>\n",
       "      <th>+-+--+-+-+</th>\n",
       "      <th>++++-+-+-+</th>\n",
       "      <td>4.0</td>\n",
       "      <td>0.0</td>\n",
       "      <td>12</td>\n",
       "      <td>1</td>\n",
       "      <td>2</td>\n",
       "      <td>0</td>\n",
       "      <td>0</td>\n",
       "      <td>1</td>\n",
       "    </tr>\n",
       "    <tr>\n",
       "      <th>5</th>\n",
       "      <th>LOVE'S.FI re HEATS.WA ter WA ter COOLS not LOVE</th>\n",
       "      <th>++-++-+-+-+</th>\n",
       "      <th>++-++-+-+-+</th>\n",
       "      <td>4.0</td>\n",
       "      <td>0.0</td>\n",
       "      <td>15</td>\n",
       "      <td>0</td>\n",
       "      <td>0</td>\n",
       "      <td>0</td>\n",
       "      <td>4</td>\n",
       "      <td>0</td>\n",
       "    </tr>\n",
       "    <tr>\n",
       "      <th>6</th>\n",
       "      <th>love's FI re HEATS wa TER wa TER cools NOT love</th>\n",
       "      <th>-+-+-+-+-+-</th>\n",
       "      <th>++-++-+-+++</th>\n",
       "      <td>9.0</td>\n",
       "      <td>0.0</td>\n",
       "      <td>11</td>\n",
       "      <td>2</td>\n",
       "      <td>5</td>\n",
       "      <td>2</td>\n",
       "      <td>0</td>\n",
       "      <td>0</td>\n",
       "    </tr>\n",
       "  </tbody>\n",
       "</table>\n",
       "<p>11902 rows × 8 columns</p>\n",
       "</div>"
      ],
      "text/plain": [
       "                                                                                                                                                        parse_score  parse_is_bounded  \\\n",
       "stanza_num line_num line_txt                                       parse_rank parse_txt                                       parse_meter parse_stress                                  \n",
       "1          1        FROM fairest creatures we desire increase,     1          from FAI rest CREA tures WE de SIRE in CREASE   -+-+-+-+-+  -+-+-+-+-+            0.0               0.0   \n",
       "                                                                   2          from FAI rest CREA tures WE de SI re IN crease  -+-+-+-+-+- -+-+-+-+-++           1.0               0.0   \n",
       "                                                                   3          from FAI rest CREA tures WE de SI re IN.CREASE  -+-+-+-+-++ -+-+-+-+-++           1.0               0.0   \n",
       "                                                                   4          from FAI rest CREA tures WE de SI re.in CREASE  -+-+-+-+--+ -+-+-+-+--+           2.0               0.0   \n",
       "                                                                   5          from FAI.REST crea.tures WE de SI re IN crease  -++--+-+-+- -+-+-+-+-++           4.0               1.0   \n",
       "...                                                                                                                                                             ...               ...   \n",
       "154        14       Love's fire heats water, water cools not love. 2          love's FI re HEATS wa.ter WA ter COOLS not LOVE -+-+--+-+-+ ++-++-+-+-+           4.0               0.0   \n",
       "                                                                   3          love's FI.RE heats WA ter WA ter COOLS not LOVE -++-+-+-+-+ ++-++-+-+-+           4.0               0.0   \n",
       "                                                                   4          LOVE'S fire HEATS wa.ter WA ter COOLS not LOVE  +-+--+-+-+  ++++-+-+-+            4.0               0.0   \n",
       "                                                                   5          LOVE'S.FI re HEATS.WA ter WA ter COOLS not LOVE ++-++-+-+-+ ++-++-+-+-+           4.0               0.0   \n",
       "                                                                   6          love's FI re HEATS wa TER wa TER cools NOT love -+-+-+-+-+- ++-++-+-+++           9.0               0.0   \n",
       "\n",
       "                                                                                                                                                        meterpos_num_slots  *w_peak  *w_stress  \\\n",
       "stanza_num line_num line_txt                                       parse_rank parse_txt                                       parse_meter parse_stress                                           \n",
       "1          1        FROM fairest creatures we desire increase,     1          from FAI rest CREA tures WE de SIRE in CREASE   -+-+-+-+-+  -+-+-+-+-+                    10        0          0   \n",
       "                                                                   2          from FAI rest CREA tures WE de SI re IN crease  -+-+-+-+-+- -+-+-+-+-++                   11        0          1   \n",
       "                                                                   3          from FAI rest CREA tures WE de SI re IN.CREASE  -+-+-+-+-++ -+-+-+-+-++                   13        0          0   \n",
       "                                                                   4          from FAI rest CREA tures WE de SI re.in CREASE  -+-+-+-+--+ -+-+-+-+--+                   13        0          0   \n",
       "                                                                   5          from FAI.REST crea.tures WE de SI re IN crease  -++--+-+-+- -+-+-+-+-++                   15        1          2   \n",
       "...                                                                                                                                                                    ...      ...        ...   \n",
       "154        14       Love's fire heats water, water cools not love. 2          love's FI re HEATS wa.ter WA ter COOLS not LOVE -+-+--+-+-+ ++-++-+-+-+                   13        1          2   \n",
       "                                                                   3          love's FI.RE heats WA ter WA ter COOLS not LOVE -++-+-+-+-+ ++-++-+-+-+                   13        0          2   \n",
       "                                                                   4          LOVE'S fire HEATS wa.ter WA ter COOLS not LOVE  +-+--+-+-+  ++++-+-+-+                    12        1          2   \n",
       "                                                                   5          LOVE'S.FI re HEATS.WA ter WA ter COOLS not LOVE ++-++-+-+-+ ++-++-+-+-+                   15        0          0   \n",
       "                                                                   6          love's FI re HEATS wa TER wa TER cools NOT love -+-+-+-+-+- ++-++-+-+++                   11        2          5   \n",
       "\n",
       "                                                                                                                                                        *s_unstress  *unres_across  *unres_within  \n",
       "stanza_num line_num line_txt                                       parse_rank parse_txt                                       parse_meter parse_stress                                             \n",
       "1          1        FROM fairest creatures we desire increase,     1          from FAI rest CREA tures WE de SIRE in CREASE   -+-+-+-+-+  -+-+-+-+-+              0              0              0  \n",
       "                                                                   2          from FAI rest CREA tures WE de SI re IN crease  -+-+-+-+-+- -+-+-+-+-++             0              0              0  \n",
       "                                                                   3          from FAI rest CREA tures WE de SI re IN.CREASE  -+-+-+-+-++ -+-+-+-+-++             0              0              1  \n",
       "                                                                   4          from FAI rest CREA tures WE de SI re.in CREASE  -+-+-+-+--+ -+-+-+-+--+             0              2              0  \n",
       "                                                                   5          from FAI.REST crea.tures WE de SI re IN crease  -++--+-+-+- -+-+-+-+-++             1              0              0  \n",
       "...                                                                                                                                                             ...            ...            ...  \n",
       "154        14       Love's fire heats water, water cools not love. 2          love's FI re HEATS wa.ter WA ter COOLS not LOVE -+-+--+-+-+ ++-++-+-+-+             0              0              1  \n",
       "                                                                   3          love's FI.RE heats WA ter WA ter COOLS not LOVE -++-+-+-+-+ ++-++-+-+-+             1              0              1  \n",
       "                                                                   4          LOVE'S fire HEATS wa.ter WA ter COOLS not LOVE  +-+--+-+-+  ++++-+-+-+              0              0              1  \n",
       "                                                                   5          LOVE'S.FI re HEATS.WA ter WA ter COOLS not LOVE ++-++-+-+-+ ++-++-+-+-+             0              4              0  \n",
       "                                                                   6          love's FI re HEATS wa TER wa TER cools NOT love -+-+-+-+-+- ++-++-+-+++             2              0              0  \n",
       "\n",
       "[11902 rows x 8 columns]"
      ]
     },
     "execution_count": 30,
     "metadata": {},
     "output_type": "execute_result"
    }
   ],
   "source": [
    "# load sonnets\n",
    "sonnets = prosodic.Text(filename='../corpora/corppoetry_en/en.shakespeare.txt')\n",
    "\n",
    "# parse beforehand if customizing\n",
    "# sonnets.parse(...opts...)\n",
    "\n",
    "# look at parse dataframe\n",
    "df_by_parse = sonnets.parses.df\n",
    "df_by_parse"
   ]
  },
  {
   "cell_type": "code",
   "execution_count": 9,
   "id": "14424591",
   "metadata": {},
   "outputs": [
    {
     "data": {
      "text/html": [
       "<div>\n",
       "<style scoped>\n",
       "    .dataframe tbody tr th:only-of-type {\n",
       "        vertical-align: middle;\n",
       "    }\n",
       "\n",
       "    .dataframe tbody tr th {\n",
       "        vertical-align: top;\n",
       "    }\n",
       "\n",
       "    .dataframe thead th {\n",
       "        text-align: right;\n",
       "    }\n",
       "</style>\n",
       "<table border=\"1\" class=\"dataframe\">\n",
       "  <thead>\n",
       "    <tr style=\"text-align: right;\">\n",
       "      <th></th>\n",
       "      <th>parse_score</th>\n",
       "      <th>parse_is_bounded</th>\n",
       "      <th>meterpos_num_slots</th>\n",
       "      <th>*w_peak</th>\n",
       "      <th>*w_stress</th>\n",
       "      <th>*s_unstress</th>\n",
       "      <th>*unres_across</th>\n",
       "      <th>*unres_within</th>\n",
       "    </tr>\n",
       "    <tr>\n",
       "      <th>stanza_num</th>\n",
       "      <th></th>\n",
       "      <th></th>\n",
       "      <th></th>\n",
       "      <th></th>\n",
       "      <th></th>\n",
       "      <th></th>\n",
       "      <th></th>\n",
       "      <th></th>\n",
       "    </tr>\n",
       "  </thead>\n",
       "  <tbody>\n",
       "    <tr>\n",
       "      <th>123</th>\n",
       "      <td>2.0</td>\n",
       "      <td>0.5</td>\n",
       "      <td>12.5</td>\n",
       "      <td>0.0</td>\n",
       "      <td>0.0</td>\n",
       "      <td>1.0</td>\n",
       "      <td>0.0</td>\n",
       "      <td>0.0</td>\n",
       "    </tr>\n",
       "    <tr>\n",
       "      <th>37</th>\n",
       "      <td>2.0</td>\n",
       "      <td>1.0</td>\n",
       "      <td>12.0</td>\n",
       "      <td>0.0</td>\n",
       "      <td>1.0</td>\n",
       "      <td>1.0</td>\n",
       "      <td>0.0</td>\n",
       "      <td>0.0</td>\n",
       "    </tr>\n",
       "    <tr>\n",
       "      <th>40</th>\n",
       "      <td>2.0</td>\n",
       "      <td>0.0</td>\n",
       "      <td>13.0</td>\n",
       "      <td>0.0</td>\n",
       "      <td>1.0</td>\n",
       "      <td>1.0</td>\n",
       "      <td>0.0</td>\n",
       "      <td>0.0</td>\n",
       "    </tr>\n",
       "    <tr>\n",
       "      <th>42</th>\n",
       "      <td>2.0</td>\n",
       "      <td>0.0</td>\n",
       "      <td>14.0</td>\n",
       "      <td>0.0</td>\n",
       "      <td>0.0</td>\n",
       "      <td>0.0</td>\n",
       "      <td>0.0</td>\n",
       "      <td>0.0</td>\n",
       "    </tr>\n",
       "    <tr>\n",
       "      <th>43</th>\n",
       "      <td>2.0</td>\n",
       "      <td>0.0</td>\n",
       "      <td>12.0</td>\n",
       "      <td>0.0</td>\n",
       "      <td>1.0</td>\n",
       "      <td>0.0</td>\n",
       "      <td>0.0</td>\n",
       "      <td>0.0</td>\n",
       "    </tr>\n",
       "    <tr>\n",
       "      <th>...</th>\n",
       "      <td>...</td>\n",
       "      <td>...</td>\n",
       "      <td>...</td>\n",
       "      <td>...</td>\n",
       "      <td>...</td>\n",
       "      <td>...</td>\n",
       "      <td>...</td>\n",
       "      <td>...</td>\n",
       "    </tr>\n",
       "    <tr>\n",
       "      <th>38</th>\n",
       "      <td>4.0</td>\n",
       "      <td>0.0</td>\n",
       "      <td>13.0</td>\n",
       "      <td>0.0</td>\n",
       "      <td>0.5</td>\n",
       "      <td>1.0</td>\n",
       "      <td>0.0</td>\n",
       "      <td>0.0</td>\n",
       "    </tr>\n",
       "    <tr>\n",
       "      <th>27</th>\n",
       "      <td>4.0</td>\n",
       "      <td>0.0</td>\n",
       "      <td>12.0</td>\n",
       "      <td>0.0</td>\n",
       "      <td>1.0</td>\n",
       "      <td>0.0</td>\n",
       "      <td>0.0</td>\n",
       "      <td>0.0</td>\n",
       "    </tr>\n",
       "    <tr>\n",
       "      <th>29</th>\n",
       "      <td>4.0</td>\n",
       "      <td>0.0</td>\n",
       "      <td>12.0</td>\n",
       "      <td>0.0</td>\n",
       "      <td>1.0</td>\n",
       "      <td>0.0</td>\n",
       "      <td>0.0</td>\n",
       "      <td>0.0</td>\n",
       "    </tr>\n",
       "    <tr>\n",
       "      <th>153</th>\n",
       "      <td>4.0</td>\n",
       "      <td>0.0</td>\n",
       "      <td>14.0</td>\n",
       "      <td>0.0</td>\n",
       "      <td>1.0</td>\n",
       "      <td>1.0</td>\n",
       "      <td>0.0</td>\n",
       "      <td>0.0</td>\n",
       "    </tr>\n",
       "    <tr>\n",
       "      <th>51</th>\n",
       "      <td>4.0</td>\n",
       "      <td>0.0</td>\n",
       "      <td>13.0</td>\n",
       "      <td>0.0</td>\n",
       "      <td>1.0</td>\n",
       "      <td>1.0</td>\n",
       "      <td>0.0</td>\n",
       "      <td>0.0</td>\n",
       "    </tr>\n",
       "  </tbody>\n",
       "</table>\n",
       "<p>154 rows × 8 columns</p>\n",
       "</div>"
      ],
      "text/plain": [
       "            parse_score  parse_is_bounded  meterpos_num_slots  *w_peak  *w_stress  *s_unstress  *unres_across  *unres_within\n",
       "stanza_num                                                                                                                  \n",
       "123                 2.0               0.5                12.5      0.0        0.0          1.0            0.0            0.0\n",
       "37                  2.0               1.0                12.0      0.0        1.0          1.0            0.0            0.0\n",
       "40                  2.0               0.0                13.0      0.0        1.0          1.0            0.0            0.0\n",
       "42                  2.0               0.0                14.0      0.0        0.0          0.0            0.0            0.0\n",
       "43                  2.0               0.0                12.0      0.0        1.0          0.0            0.0            0.0\n",
       "...                 ...               ...                 ...      ...        ...          ...            ...            ...\n",
       "38                  4.0               0.0                13.0      0.0        0.5          1.0            0.0            0.0\n",
       "27                  4.0               0.0                12.0      0.0        1.0          0.0            0.0            0.0\n",
       "29                  4.0               0.0                12.0      0.0        1.0          0.0            0.0            0.0\n",
       "153                 4.0               0.0                14.0      0.0        1.0          1.0            0.0            0.0\n",
       "51                  4.0               0.0                13.0      0.0        1.0          1.0            0.0            0.0\n",
       "\n",
       "[154 rows x 8 columns]"
      ]
     },
     "execution_count": 31,
     "metadata": {},
     "output_type": "execute_result"
    }
   ],
   "source": [
    "# so we can groupby stanza and average\n",
    "df_by_stanza = df_by_parse.groupby('stanza_num').median()\n",
    "\n",
    "# let's also sort by violation score\n",
    "df_by_stanza.sort_values('parse_score', inplace=True)\n",
    "\n",
    "# now take a look\n",
    "df_by_stanza"
   ]
  },
  {
   "cell_type": "code",
   "execution_count": 10,
   "id": "33431d1c",
   "metadata": {},
   "outputs": [
    {
     "data": {
      "text/html": [
       "<ol class=\"parselist\"><li><style>\n",
       "\n",
       ".miniquote { margin-left:0em;margin-top:.5em;font-family:monospace; font-size:.8em;}\n",
       ".parse { line-height:2.5em; letter-spacing:.1em;}\n",
       ".parselist { list-style-type: none; }\n",
       ".parselist li { padding-left:2em;}\n",
       ".parselist li:nth-child(5n) { list-style-type: decimal; }\n",
       ".viol_y { color: #f43838; }\n",
       ".mtr_s { text-decoration: overline; text-decoration-offset:5px; }\n",
       ".parselist > li:first-of-type { list-style-type: decimal; }\n",
       ".parselist > li:last-of-type { list-style-type: decimal; }\n",
       "</style><div class=\"parse\">\n",
       "<span class=\"mtr_w str_w viol_n\">Who</span> <span class=\"mtr_w str_w viol_n\">is</span> <span class=\"mtr_s str_s viol_n\">it</span> <span class=\"mtr_w str_w viol_n\">that</span> <span class=\"mtr_s str_s viol_n\">says</span> <span class=\"mtr_w str_w viol_n\">most</span>? <span class=\"mtr_s str_s viol_n\">which</span> <span class=\"mtr_w str_w viol_n\">can</span> <span class=\"mtr_s str_s viol_n\">say</span> <span class=\"mtr_w str_w viol_n\">more</span></div></li>\n",
       "<li><style>\n",
       "\n",
       ".miniquote { margin-left:0em;margin-top:.5em;font-family:monospace; font-size:.8em;}\n",
       ".parse { line-height:2.5em; letter-spacing:.1em;}\n",
       ".parselist { list-style-type: none; }\n",
       ".parselist li { padding-left:2em;}\n",
       ".parselist li:nth-child(5n) { list-style-type: decimal; }\n",
       ".viol_y { color: #f43838; }\n",
       ".mtr_s { text-decoration: overline; text-decoration-offset:5px; }\n",
       ".parselist > li:first-of-type { list-style-type: decimal; }\n",
       ".parselist > li:last-of-type { list-style-type: decimal; }\n",
       "</style><div class=\"parse\"><span class=\"mtr_w str_w viol_n\">Than</span> <span class=\"mtr_s str_w viol_y\">this</span> <span class=\"mtr_w str_s viol_y\">rich</span> <span class=\"mtr_s str_s viol_n\">praise</span>, <span class=\"mtr_w str_w viol_n\">that</span> <span class=\"mtr_s str_s viol_n\">you</span> <span class=\"mtr_w str_w viol_n\">a</span><span class=\"mtr_s str_s viol_n\">lone</span> <span class=\"mtr_w str_w viol_n\">are</span> <span class=\"mtr_s str_s viol_n\">you</span>?</div></li>\n",
       "<li><style>\n",
       "\n",
       ".miniquote { margin-left:0em;margin-top:.5em;font-family:monospace; font-size:.8em;}\n",
       ".parse { line-height:2.5em; letter-spacing:.1em;}\n",
       ".parselist { list-style-type: none; }\n",
       ".parselist li { padding-left:2em;}\n",
       ".parselist li:nth-child(5n) { list-style-type: decimal; }\n",
       ".viol_y { color: #f43838; }\n",
       ".mtr_s { text-decoration: overline; text-decoration-offset:5px; }\n",
       ".parselist > li:first-of-type { list-style-type: decimal; }\n",
       ".parselist > li:last-of-type { list-style-type: decimal; }\n",
       "</style><div class=\"parse\"><span class=\"mtr_w str_w viol_n\">In</span> <span class=\"mtr_s str_s viol_n\">whose</span> <span class=\"mtr_w str_w viol_n\">con</span><span class=\"mtr_s str_s viol_n\">fine</span> <span class=\"mtr_w str_w viol_n\">im</span><span class=\"mtr_s str_s viol_n\">mured</span> <span class=\"mtr_w str_w viol_n\">is</span> <span class=\"mtr_w str_w viol_n\">the</span> <span class=\"mtr_s str_s viol_n\">store</span></div></li>\n",
       "<li><style>\n",
       "\n",
       ".miniquote { margin-left:0em;margin-top:.5em;font-family:monospace; font-size:.8em;}\n",
       ".parse { line-height:2.5em; letter-spacing:.1em;}\n",
       ".parselist { list-style-type: none; }\n",
       ".parselist li { padding-left:2em;}\n",
       ".parselist li:nth-child(5n) { list-style-type: decimal; }\n",
       ".viol_y { color: #f43838; }\n",
       ".mtr_s { text-decoration: overline; text-decoration-offset:5px; }\n",
       ".parselist > li:first-of-type { list-style-type: decimal; }\n",
       ".parselist > li:last-of-type { list-style-type: decimal; }\n",
       "</style><div class=\"parse\"><span class=\"mtr_w str_w viol_n\">Which</span> <span class=\"mtr_s str_s viol_n\">should</span> <span class=\"mtr_w str_w viol_n\">e</span><span class=\"mtr_s str_s viol_n\">xam</span><span class=\"mtr_w str_w viol_n\">ple</span> <span class=\"mtr_s str_s viol_n\">where</span> <span class=\"mtr_w str_w viol_n\">your</span> <span class=\"mtr_s str_s viol_n\">e</span><span class=\"mtr_w str_w viol_n\">qual</span> <span class=\"mtr_s str_s viol_n\">grew</span>.</div></li>\n",
       "<li><style>\n",
       "\n",
       ".miniquote { margin-left:0em;margin-top:.5em;font-family:monospace; font-size:.8em;}\n",
       ".parse { line-height:2.5em; letter-spacing:.1em;}\n",
       ".parselist { list-style-type: none; }\n",
       ".parselist li { padding-left:2em;}\n",
       ".parselist li:nth-child(5n) { list-style-type: decimal; }\n",
       ".viol_y { color: #f43838; }\n",
       ".mtr_s { text-decoration: overline; text-decoration-offset:5px; }\n",
       ".parselist > li:first-of-type { list-style-type: decimal; }\n",
       ".parselist > li:last-of-type { list-style-type: decimal; }\n",
       "</style><div class=\"parse\"><span class=\"mtr_w str_s viol_y\">Lean</span> <span class=\"mtr_s str_s viol_n\">pe</span><span class=\"mtr_w str_w viol_n\">nu</span><span class=\"mtr_s str_w viol_y\">ry</span> <span class=\"mtr_w str_w viol_n\">wit</span><span class=\"mtr_s str_s viol_n\">hin</span> <span class=\"mtr_w str_w viol_n\">that</span> <span class=\"mtr_s str_s viol_n\">pen</span> <span class=\"mtr_w str_w viol_n\">doth</span> <span class=\"mtr_s str_s viol_n\">dwell</span></div></li>\n",
       "<li><style>\n",
       "\n",
       ".miniquote { margin-left:0em;margin-top:.5em;font-family:monospace; font-size:.8em;}\n",
       ".parse { line-height:2.5em; letter-spacing:.1em;}\n",
       ".parselist { list-style-type: none; }\n",
       ".parselist li { padding-left:2em;}\n",
       ".parselist li:nth-child(5n) { list-style-type: decimal; }\n",
       ".viol_y { color: #f43838; }\n",
       ".mtr_s { text-decoration: overline; text-decoration-offset:5px; }\n",
       ".parselist > li:first-of-type { list-style-type: decimal; }\n",
       ".parselist > li:last-of-type { list-style-type: decimal; }\n",
       "</style><div class=\"parse\"><span class=\"mtr_s str_s viol_n\">That</span> <span class=\"mtr_w str_w viol_n\">to</span> <span class=\"mtr_w str_w viol_n\">his</span> <span class=\"mtr_s str_s viol_n\">sub</span><span class=\"mtr_w str_w viol_n\">ject</span> <span class=\"mtr_s str_s viol_n\">lends</span> <span class=\"mtr_w str_w viol_n\">not</span> <span class=\"mtr_s str_s viol_n\">some</span> <span class=\"mtr_w str_s viol_y\">small</span> <span class=\"mtr_s str_s viol_n\">glo</span><span class=\"mtr_w str_w viol_n\">ry</span>;</div></li>\n",
       "<li><style>\n",
       "\n",
       ".miniquote { margin-left:0em;margin-top:.5em;font-family:monospace; font-size:.8em;}\n",
       ".parse { line-height:2.5em; letter-spacing:.1em;}\n",
       ".parselist { list-style-type: none; }\n",
       ".parselist li { padding-left:2em;}\n",
       ".parselist li:nth-child(5n) { list-style-type: decimal; }\n",
       ".viol_y { color: #f43838; }\n",
       ".mtr_s { text-decoration: overline; text-decoration-offset:5px; }\n",
       ".parselist > li:first-of-type { list-style-type: decimal; }\n",
       ".parselist > li:last-of-type { list-style-type: decimal; }\n",
       "</style><div class=\"parse\"><span class=\"mtr_w str_w viol_n\">But</span> <span class=\"mtr_s str_s viol_n\">he</span> <span class=\"mtr_w str_w viol_n\">that</span> <span class=\"mtr_s str_s viol_n\">writes</span> <span class=\"mtr_w str_w viol_n\">of</span> <span class=\"mtr_s str_s viol_n\">you</span>, <span class=\"mtr_w str_w viol_n\">if</span> <span class=\"mtr_s str_s viol_n\">he</span> <span class=\"mtr_w str_w viol_n\">can</span> <span class=\"mtr_s str_s viol_n\">tell</span></div></li>\n",
       "<li><style>\n",
       "\n",
       ".miniquote { margin-left:0em;margin-top:.5em;font-family:monospace; font-size:.8em;}\n",
       ".parse { line-height:2.5em; letter-spacing:.1em;}\n",
       ".parselist { list-style-type: none; }\n",
       ".parselist li { padding-left:2em;}\n",
       ".parselist li:nth-child(5n) { list-style-type: decimal; }\n",
       ".viol_y { color: #f43838; }\n",
       ".mtr_s { text-decoration: overline; text-decoration-offset:5px; }\n",
       ".parselist > li:first-of-type { list-style-type: decimal; }\n",
       ".parselist > li:last-of-type { list-style-type: decimal; }\n",
       "</style><div class=\"parse\"><span class=\"mtr_w str_w viol_n\">That</span> <span class=\"mtr_s str_s viol_n\">you</span> <span class=\"mtr_w str_w viol_n\">are</span> <span class=\"mtr_s str_s viol_n\">you</span>, <span class=\"mtr_w str_w viol_n\">so</span> <span class=\"mtr_s str_s viol_n\">di</span><span class=\"mtr_w str_w viol_n\">gni</span><span class=\"mtr_s str_s viol_n\">fies</span> <span class=\"mtr_w str_w viol_n\">his</span> <span class=\"mtr_s str_s viol_n\">sto</span><span class=\"mtr_w str_w viol_n\">ry</span>,</div></li>\n",
       "<li><style>\n",
       "\n",
       ".miniquote { margin-left:0em;margin-top:.5em;font-family:monospace; font-size:.8em;}\n",
       ".parse { line-height:2.5em; letter-spacing:.1em;}\n",
       ".parselist { list-style-type: none; }\n",
       ".parselist li { padding-left:2em;}\n",
       ".parselist li:nth-child(5n) { list-style-type: decimal; }\n",
       ".viol_y { color: #f43838; }\n",
       ".mtr_s { text-decoration: overline; text-decoration-offset:5px; }\n",
       ".parselist > li:first-of-type { list-style-type: decimal; }\n",
       ".parselist > li:last-of-type { list-style-type: decimal; }\n",
       "</style><div class=\"parse\"><span class=\"mtr_s str_s viol_n\">Let</span> <span class=\"mtr_w str_w viol_n\">him</span> <span class=\"mtr_w str_w viol_n\">but</span> <span class=\"mtr_s str_s viol_n\">co</span><span class=\"mtr_w str_w viol_n\">py</span> <span class=\"mtr_s str_s viol_n\">what</span> <span class=\"mtr_w str_w viol_n\">in</span> <span class=\"mtr_s str_s viol_n\">you</span> <span class=\"mtr_w str_w viol_n\">is</span> <span class=\"mtr_s str_s viol_n\">writ</span>,</div></li>\n",
       "<li><style>\n",
       "\n",
       ".miniquote { margin-left:0em;margin-top:.5em;font-family:monospace; font-size:.8em;}\n",
       ".parse { line-height:2.5em; letter-spacing:.1em;}\n",
       ".parselist { list-style-type: none; }\n",
       ".parselist li { padding-left:2em;}\n",
       ".parselist li:nth-child(5n) { list-style-type: decimal; }\n",
       ".viol_y { color: #f43838; }\n",
       ".mtr_s { text-decoration: overline; text-decoration-offset:5px; }\n",
       ".parselist > li:first-of-type { list-style-type: decimal; }\n",
       ".parselist > li:last-of-type { list-style-type: decimal; }\n",
       "</style><div class=\"parse\"><span class=\"mtr_w str_w viol_n\">Not</span> <span class=\"mtr_s str_s viol_n\">ma</span><span class=\"mtr_w str_w viol_n\">king</span> <span class=\"mtr_s str_s viol_n\">worse</span> <span class=\"mtr_w str_w viol_n\">what</span> <span class=\"mtr_s str_s viol_n\">na</span><span class=\"mtr_w str_w viol_n\">ture</span> <span class=\"mtr_s str_s viol_n\">made</span> <span class=\"mtr_w str_w viol_n\">so</span> <span class=\"mtr_s str_s viol_n\">clear</span>,</div></li>\n",
       "<li><style>\n",
       "\n",
       ".miniquote { margin-left:0em;margin-top:.5em;font-family:monospace; font-size:.8em;}\n",
       ".parse { line-height:2.5em; letter-spacing:.1em;}\n",
       ".parselist { list-style-type: none; }\n",
       ".parselist li { padding-left:2em;}\n",
       ".parselist li:nth-child(5n) { list-style-type: decimal; }\n",
       ".viol_y { color: #f43838; }\n",
       ".mtr_s { text-decoration: overline; text-decoration-offset:5px; }\n",
       ".parselist > li:first-of-type { list-style-type: decimal; }\n",
       ".parselist > li:last-of-type { list-style-type: decimal; }\n",
       "</style><div class=\"parse\"><span class=\"mtr_w str_w viol_n\">And</span> <span class=\"mtr_s str_w viol_y\">such</span> <span class=\"mtr_w str_w viol_n\">a</span> <span class=\"mtr_s str_s viol_n\">coun</span><span class=\"mtr_w str_w viol_n\">ter</span><span class=\"mtr_s str_s viol_n\">part</span> <span class=\"mtr_w str_w viol_n\">shall</span> <span class=\"mtr_s str_s viol_n\">fame</span> <span class=\"mtr_w str_w viol_n\">his</span> <span class=\"mtr_s str_s viol_n\">wit</span>,</div></li>\n",
       "<li><style>\n",
       "\n",
       ".miniquote { margin-left:0em;margin-top:.5em;font-family:monospace; font-size:.8em;}\n",
       ".parse { line-height:2.5em; letter-spacing:.1em;}\n",
       ".parselist { list-style-type: none; }\n",
       ".parselist li { padding-left:2em;}\n",
       ".parselist li:nth-child(5n) { list-style-type: decimal; }\n",
       ".viol_y { color: #f43838; }\n",
       ".mtr_s { text-decoration: overline; text-decoration-offset:5px; }\n",
       ".parselist > li:first-of-type { list-style-type: decimal; }\n",
       ".parselist > li:last-of-type { list-style-type: decimal; }\n",
       "</style><div class=\"parse\"><span class=\"mtr_s str_s viol_n\">Ma</span><span class=\"mtr_w str_w viol_y\">king</span> <span class=\"mtr_w str_w viol_y\">his</span> <span class=\"mtr_s str_s viol_n\">style</span> <span class=\"mtr_w str_w viol_n\">a</span><span class=\"mtr_s str_s viol_n\">dmi</span><span class=\"mtr_w str_w viol_n\">red</span> <span class=\"mtr_s str_s viol_n\">e</span><span class=\"mtr_w str_w viol_n\">very</span> <span class=\"mtr_s str_s viol_n\">where</span>.</div></li>\n",
       "<li><style>\n",
       "\n",
       ".miniquote { margin-left:0em;margin-top:.5em;font-family:monospace; font-size:.8em;}\n",
       ".parse { line-height:2.5em; letter-spacing:.1em;}\n",
       ".parselist { list-style-type: none; }\n",
       ".parselist li { padding-left:2em;}\n",
       ".parselist li:nth-child(5n) { list-style-type: decimal; }\n",
       ".viol_y { color: #f43838; }\n",
       ".mtr_s { text-decoration: overline; text-decoration-offset:5px; }\n",
       ".parselist > li:first-of-type { list-style-type: decimal; }\n",
       ".parselist > li:last-of-type { list-style-type: decimal; }\n",
       "</style><div class=\"parse\"><span class=\"mtr_s str_s viol_n\">You</span> <span class=\"mtr_w str_w viol_n\">to</span> <span class=\"mtr_w str_w viol_n\">your</span> <span class=\"mtr_s str_s viol_n\">bea</span><span class=\"mtr_w str_w viol_n\">uteous</span> <span class=\"mtr_s str_s viol_n\">bles</span><span class=\"mtr_w str_w viol_n\">sings</span> <span class=\"mtr_s str_s viol_n\">add</span> <span class=\"mtr_w str_w viol_n\">a</span> <span class=\"mtr_s str_s viol_n\">curse</span>,</div></li>\n",
       "<li><style>\n",
       "\n",
       ".miniquote { margin-left:0em;margin-top:.5em;font-family:monospace; font-size:.8em;}\n",
       ".parse { line-height:2.5em; letter-spacing:.1em;}\n",
       ".parselist { list-style-type: none; }\n",
       ".parselist li { padding-left:2em;}\n",
       ".parselist li:nth-child(5n) { list-style-type: decimal; }\n",
       ".viol_y { color: #f43838; }\n",
       ".mtr_s { text-decoration: overline; text-decoration-offset:5px; }\n",
       ".parselist > li:first-of-type { list-style-type: decimal; }\n",
       ".parselist > li:last-of-type { list-style-type: decimal; }\n",
       "</style><div class=\"parse\"><span class=\"mtr_s str_s viol_n\">Be</span><span class=\"mtr_w str_w viol_n\">ing</span> <span class=\"mtr_s str_s viol_n\">fond</span> <span class=\"mtr_w str_w viol_n\">on</span> <span class=\"mtr_s str_s viol_n\">praise</span>, <span class=\"mtr_w str_w viol_n\">which</span> <span class=\"mtr_s str_s viol_n\">makes</span> <span class=\"mtr_w str_w viol_n\">your</span> <span class=\"mtr_s str_s viol_n\">prai</span><span class=\"mtr_w str_w viol_n\">ses</span> <span class=\"mtr_s str_s viol_n\">worse</span>.</div></li></ol>"
      ],
      "text/plain": [
       "Stanza(num=84)"
      ]
     },
     "execution_count": 32,
     "metadata": {},
     "output_type": "execute_result"
    }
   ],
   "source": [
    "# now we can look at \"best\" sonnet\n",
    "sonnets.stanza84"
   ]
  },
  {
   "cell_type": "code",
   "execution_count": 11,
   "id": "cbc91a1a",
   "metadata": {},
   "outputs": [
    {
     "data": {
      "text/html": [
       "<ol class=\"parselist\"><li><style>\n",
       "\n",
       ".miniquote { margin-left:0em;margin-top:.5em;font-family:monospace; font-size:.8em;}\n",
       ".parse { line-height:2.5em; letter-spacing:.1em;}\n",
       ".parselist { list-style-type: none; }\n",
       ".parselist li { padding-left:2em;}\n",
       ".parselist li:nth-child(5n) { list-style-type: decimal; }\n",
       ".viol_y { color: #f43838; }\n",
       ".mtr_s { text-decoration: overline; text-decoration-offset:5px; }\n",
       ".parselist > li:first-of-type { list-style-type: decimal; }\n",
       ".parselist > li:last-of-type { list-style-type: decimal; }\n",
       "</style><div class=\"parse\">\n",
       "<span class=\"mtr_s str_s viol_n\">Cu</span><span class=\"mtr_w str_w viol_n\">pid</span> <span class=\"mtr_s str_s viol_n\">laid</span> <span class=\"mtr_w str_w viol_n\">by</span> <span class=\"mtr_w str_w viol_n\">his</span> <span class=\"mtr_s str_s viol_n\">brand</span>, <span class=\"mtr_w str_w viol_n\">and</span> <span class=\"mtr_s str_s viol_n\">fell</span> <span class=\"mtr_w str_w viol_n\">a</span><span class=\"mtr_s str_s viol_n\">sleep</span>:</div></li>\n",
       "<li><style>\n",
       "\n",
       ".miniquote { margin-left:0em;margin-top:.5em;font-family:monospace; font-size:.8em;}\n",
       ".parse { line-height:2.5em; letter-spacing:.1em;}\n",
       ".parselist { list-style-type: none; }\n",
       ".parselist li { padding-left:2em;}\n",
       ".parselist li:nth-child(5n) { list-style-type: decimal; }\n",
       ".viol_y { color: #f43838; }\n",
       ".mtr_s { text-decoration: overline; text-decoration-offset:5px; }\n",
       ".parselist > li:first-of-type { list-style-type: decimal; }\n",
       ".parselist > li:last-of-type { list-style-type: decimal; }\n",
       "</style><div class=\"parse\"><span class=\"mtr_w str_w viol_n\">A</span> <span class=\"mtr_s str_s viol_n\">maid</span> <span class=\"mtr_w str_w viol_n\">of</span> <span class=\"mtr_s str_s viol_n\">Dian</span>'s <span class=\"mtr_s str_w viol_y\">this</span> <span class=\"mtr_w str_w viol_n\">a</span><span class=\"mtr_s str_s viol_n\">dvan</span><span class=\"mtr_w str_w viol_n\">tage</span> <span class=\"mtr_s str_s viol_n\">found</span>,</div></li>\n",
       "<li><style>\n",
       "\n",
       ".miniquote { margin-left:0em;margin-top:.5em;font-family:monospace; font-size:.8em;}\n",
       ".parse { line-height:2.5em; letter-spacing:.1em;}\n",
       ".parselist { list-style-type: none; }\n",
       ".parselist li { padding-left:2em;}\n",
       ".parselist li:nth-child(5n) { list-style-type: decimal; }\n",
       ".viol_y { color: #f43838; }\n",
       ".mtr_s { text-decoration: overline; text-decoration-offset:5px; }\n",
       ".parselist > li:first-of-type { list-style-type: decimal; }\n",
       ".parselist > li:last-of-type { list-style-type: decimal; }\n",
       "</style><div class=\"parse\"><span class=\"mtr_w str_w viol_n\">And</span> <span class=\"mtr_s str_s viol_n\">his</span> <span class=\"mtr_w str_s viol_y\">love</span>-<span class=\"mtr_s str_s viol_n\">kin</span><span class=\"mtr_w str_w viol_n\">dling</span> <span class=\"mtr_s str_s viol_n\">fire</span> <span class=\"mtr_w str_w viol_n\">did</span> <span class=\"mtr_s str_s viol_n\">quic</span><span class=\"mtr_w str_w viol_n\">kly</span> <span class=\"mtr_s str_s viol_n\">steep</span></div></li>\n",
       "<li><style>\n",
       "\n",
       ".miniquote { margin-left:0em;margin-top:.5em;font-family:monospace; font-size:.8em;}\n",
       ".parse { line-height:2.5em; letter-spacing:.1em;}\n",
       ".parselist { list-style-type: none; }\n",
       ".parselist li { padding-left:2em;}\n",
       ".parselist li:nth-child(5n) { list-style-type: decimal; }\n",
       ".viol_y { color: #f43838; }\n",
       ".mtr_s { text-decoration: overline; text-decoration-offset:5px; }\n",
       ".parselist > li:first-of-type { list-style-type: decimal; }\n",
       ".parselist > li:last-of-type { list-style-type: decimal; }\n",
       "</style><div class=\"parse\"><span class=\"mtr_w str_w viol_n\">In</span> <span class=\"mtr_s str_w viol_y\">a</span> <span class=\"mtr_w str_s viol_y\">cold</span> <span class=\"mtr_s str_s viol_n\">val</span><span class=\"mtr_w str_w viol_n\">ley</span>-<span class=\"mtr_s str_s viol_n\">foun</span><span class=\"mtr_w str_w viol_n\">tain</span> <span class=\"mtr_s str_w viol_y\">of</span> <span class=\"mtr_w str_w viol_n\">that</span> <span class=\"mtr_s str_s viol_n\">ground</span>;</div></li>\n",
       "<li><style>\n",
       "\n",
       ".miniquote { margin-left:0em;margin-top:.5em;font-family:monospace; font-size:.8em;}\n",
       ".parse { line-height:2.5em; letter-spacing:.1em;}\n",
       ".parselist { list-style-type: none; }\n",
       ".parselist li { padding-left:2em;}\n",
       ".parselist li:nth-child(5n) { list-style-type: decimal; }\n",
       ".viol_y { color: #f43838; }\n",
       ".mtr_s { text-decoration: overline; text-decoration-offset:5px; }\n",
       ".parselist > li:first-of-type { list-style-type: decimal; }\n",
       ".parselist > li:last-of-type { list-style-type: decimal; }\n",
       "</style><div class=\"parse\"><span class=\"mtr_w str_w viol_n\">Which</span> <span class=\"mtr_s str_s viol_n\">bor</span><span class=\"mtr_w str_w viol_n\">row'd</span> <span class=\"mtr_s str_w viol_y\">from</span> <span class=\"mtr_w str_w viol_n\">this</span> <span class=\"mtr_s str_s viol_n\">ho</span><span class=\"mtr_w str_w viol_n\">ly</span> <span class=\"mtr_s str_s viol_n\">fire</span> <span class=\"mtr_w str_w viol_n\">of</span> <span class=\"mtr_s str_s viol_n\">Love</span></div></li>\n",
       "<li><style>\n",
       "\n",
       ".miniquote { margin-left:0em;margin-top:.5em;font-family:monospace; font-size:.8em;}\n",
       ".parse { line-height:2.5em; letter-spacing:.1em;}\n",
       ".parselist { list-style-type: none; }\n",
       ".parselist li { padding-left:2em;}\n",
       ".parselist li:nth-child(5n) { list-style-type: decimal; }\n",
       ".viol_y { color: #f43838; }\n",
       ".mtr_s { text-decoration: overline; text-decoration-offset:5px; }\n",
       ".parselist > li:first-of-type { list-style-type: decimal; }\n",
       ".parselist > li:last-of-type { list-style-type: decimal; }\n",
       "</style><div class=\"parse\"><span class=\"mtr_w str_w viol_n\">A</span> <span class=\"mtr_s str_s viol_n\">da</span><span class=\"mtr_w str_w viol_n\">teless</span> <span class=\"mtr_s str_s viol_n\">li</span><span class=\"mtr_w str_w viol_n\">vely</span> <span class=\"mtr_s str_s viol_n\">heat</span>, <span class=\"mtr_w str_s viol_y\">still</span> <span class=\"mtr_s str_w viol_y\">to</span> <span class=\"mtr_w str_w viol_n\">en</span><span class=\"mtr_s str_s viol_n\">dure</span>,</div></li>\n",
       "<li><style>\n",
       "\n",
       ".miniquote { margin-left:0em;margin-top:.5em;font-family:monospace; font-size:.8em;}\n",
       ".parse { line-height:2.5em; letter-spacing:.1em;}\n",
       ".parselist { list-style-type: none; }\n",
       ".parselist li { padding-left:2em;}\n",
       ".parselist li:nth-child(5n) { list-style-type: decimal; }\n",
       ".viol_y { color: #f43838; }\n",
       ".mtr_s { text-decoration: overline; text-decoration-offset:5px; }\n",
       ".parselist > li:first-of-type { list-style-type: decimal; }\n",
       ".parselist > li:last-of-type { list-style-type: decimal; }\n",
       "</style><div class=\"parse\"><span class=\"mtr_w str_w viol_n\">And</span> <span class=\"mtr_s str_s viol_n\">grew</span> <span class=\"mtr_w str_w viol_n\">a</span> <span class=\"mtr_s str_s viol_n\">seet</span><span class=\"mtr_w str_w viol_n\">hing</span> <span class=\"mtr_s str_s viol_n\">bath</span>, <span class=\"mtr_w str_w viol_n\">which</span> <span class=\"mtr_s str_s viol_n\">yet</span> <span class=\"mtr_w str_s viol_y\">men</span> <span class=\"mtr_s str_s viol_n\">prove</span></div></li>\n",
       "<li><style>\n",
       "\n",
       ".miniquote { margin-left:0em;margin-top:.5em;font-family:monospace; font-size:.8em;}\n",
       ".parse { line-height:2.5em; letter-spacing:.1em;}\n",
       ".parselist { list-style-type: none; }\n",
       ".parselist li { padding-left:2em;}\n",
       ".parselist li:nth-child(5n) { list-style-type: decimal; }\n",
       ".viol_y { color: #f43838; }\n",
       ".mtr_s { text-decoration: overline; text-decoration-offset:5px; }\n",
       ".parselist > li:first-of-type { list-style-type: decimal; }\n",
       ".parselist > li:last-of-type { list-style-type: decimal; }\n",
       "</style><div class=\"parse\"><span class=\"mtr_w str_w viol_n\">A</span><span class=\"mtr_s str_s viol_n\">gainst</span> <span class=\"mtr_w str_s viol_y\">strange</span> <span class=\"mtr_s str_s viol_n\">ma</span><span class=\"mtr_w str_w viol_n\">la</span><span class=\"mtr_s str_w viol_y\">dies</span> <span class=\"mtr_w str_w viol_n\">a</span> <span class=\"mtr_s str_s viol_n\">so</span><span class=\"mtr_w str_w viol_n\">vereign</span> <span class=\"mtr_s str_s viol_n\">cure</span>.</div></li>\n",
       "<li><style>\n",
       "\n",
       ".miniquote { margin-left:0em;margin-top:.5em;font-family:monospace; font-size:.8em;}\n",
       ".parse { line-height:2.5em; letter-spacing:.1em;}\n",
       ".parselist { list-style-type: none; }\n",
       ".parselist li { padding-left:2em;}\n",
       ".parselist li:nth-child(5n) { list-style-type: decimal; }\n",
       ".viol_y { color: #f43838; }\n",
       ".mtr_s { text-decoration: overline; text-decoration-offset:5px; }\n",
       ".parselist > li:first-of-type { list-style-type: decimal; }\n",
       ".parselist > li:last-of-type { list-style-type: decimal; }\n",
       "</style><div class=\"parse\"><span class=\"mtr_w str_w viol_n\">But</span> <span class=\"mtr_s str_s viol_n\">at</span> <span class=\"mtr_w str_w viol_n\">my</span> <span class=\"mtr_s str_s viol_n\">mis</span><span class=\"mtr_w str_w viol_n\">tress'</span> <span class=\"mtr_s str_s viol_n\">eye</span> <span class=\"mtr_w str_s viol_y\">Love's</span> <span class=\"mtr_s str_s viol_n\">brand</span> <span class=\"mtr_w str_s viol_y\">new</span>-<span class=\"mtr_s str_s viol_n\">fi</span><span class=\"mtr_w str_w viol_n\">red</span>,</div></li>\n",
       "<li><style>\n",
       "\n",
       ".miniquote { margin-left:0em;margin-top:.5em;font-family:monospace; font-size:.8em;}\n",
       ".parse { line-height:2.5em; letter-spacing:.1em;}\n",
       ".parselist { list-style-type: none; }\n",
       ".parselist li { padding-left:2em;}\n",
       ".parselist li:nth-child(5n) { list-style-type: decimal; }\n",
       ".viol_y { color: #f43838; }\n",
       ".mtr_s { text-decoration: overline; text-decoration-offset:5px; }\n",
       ".parselist > li:first-of-type { list-style-type: decimal; }\n",
       ".parselist > li:last-of-type { list-style-type: decimal; }\n",
       "</style><div class=\"parse\"><span class=\"mtr_w str_w viol_n\">The</span> <span class=\"mtr_s str_s viol_n\">boy</span> <span class=\"mtr_w str_w viol_n\">for</span> <span class=\"mtr_s str_s viol_n\">tr</span><span class=\"mtr_w str_w viol_n\">ial</span> <span class=\"mtr_s str_s viol_n\">needs</span> <span class=\"mtr_w str_w viol_n\">would</span> <span class=\"mtr_s str_s viol_n\">touch</span> <span class=\"mtr_w str_w viol_n\">my</span> <span class=\"mtr_s str_s viol_n\">breast</span>;</div></li>\n",
       "<li><style>\n",
       "\n",
       ".miniquote { margin-left:0em;margin-top:.5em;font-family:monospace; font-size:.8em;}\n",
       ".parse { line-height:2.5em; letter-spacing:.1em;}\n",
       ".parselist { list-style-type: none; }\n",
       ".parselist li { padding-left:2em;}\n",
       ".parselist li:nth-child(5n) { list-style-type: decimal; }\n",
       ".viol_y { color: #f43838; }\n",
       ".mtr_s { text-decoration: overline; text-decoration-offset:5px; }\n",
       ".parselist > li:first-of-type { list-style-type: decimal; }\n",
       ".parselist > li:last-of-type { list-style-type: decimal; }\n",
       "</style><div class=\"parse\"><span class=\"mtr_w str_w viol_n\">I</span>, <span class=\"mtr_s str_s viol_n\">sick</span> <span class=\"mtr_w str_w viol_n\">wit</span><span class=\"mtr_s str_s viol_n\">hal</span>, <span class=\"mtr_w str_w viol_n\">the</span> <span class=\"mtr_s str_s viol_n\">help</span> <span class=\"mtr_w str_w viol_n\">of</span> <span class=\"mtr_s str_s viol_n\">bath</span> <span class=\"mtr_w str_w viol_n\">de</span><span class=\"mtr_s str_s viol_n\">sired</span>,</div></li>\n",
       "<li><style>\n",
       "\n",
       ".miniquote { margin-left:0em;margin-top:.5em;font-family:monospace; font-size:.8em;}\n",
       ".parse { line-height:2.5em; letter-spacing:.1em;}\n",
       ".parselist { list-style-type: none; }\n",
       ".parselist li { padding-left:2em;}\n",
       ".parselist li:nth-child(5n) { list-style-type: decimal; }\n",
       ".viol_y { color: #f43838; }\n",
       ".mtr_s { text-decoration: overline; text-decoration-offset:5px; }\n",
       ".parselist > li:first-of-type { list-style-type: decimal; }\n",
       ".parselist > li:last-of-type { list-style-type: decimal; }\n",
       "</style><div class=\"parse\"><span class=\"mtr_w str_w viol_n\">And</span> <span class=\"mtr_s str_s viol_n\">thit</span><span class=\"mtr_w str_w viol_n\">her</span> <span class=\"mtr_s str_s viol_n\">hied</span>, <span class=\"mtr_w str_w viol_n\">a</span> <span class=\"mtr_s str_s viol_n\">sad</span> <span class=\"mtr_w str_w viol_n\">dis</span><span class=\"mtr_s str_s viol_n\">tem</span><span class=\"mtr_w str_w viol_n\">per'd</span> <span class=\"mtr_s str_s viol_n\">guest</span>,</div></li>\n",
       "<li><style>\n",
       "\n",
       ".miniquote { margin-left:0em;margin-top:.5em;font-family:monospace; font-size:.8em;}\n",
       ".parse { line-height:2.5em; letter-spacing:.1em;}\n",
       ".parselist { list-style-type: none; }\n",
       ".parselist li { padding-left:2em;}\n",
       ".parselist li:nth-child(5n) { list-style-type: decimal; }\n",
       ".viol_y { color: #f43838; }\n",
       ".mtr_s { text-decoration: overline; text-decoration-offset:5px; }\n",
       ".parselist > li:first-of-type { list-style-type: decimal; }\n",
       ".parselist > li:last-of-type { list-style-type: decimal; }\n",
       "</style><div class=\"parse\"><span class=\"mtr_w str_w viol_n\">But</span> <span class=\"mtr_s str_s viol_n\">found</span> <span class=\"mtr_w str_s viol_y\">no</span> <span class=\"mtr_s str_s viol_n\">cure</span>: <span class=\"mtr_w str_w viol_n\">the</span> <span class=\"mtr_s str_s viol_n\">bath</span> <span class=\"mtr_w str_w viol_n\">for</span> <span class=\"mtr_w str_w viol_n\">my</span> <span class=\"mtr_s str_s viol_n\">help</span> <span class=\"mtr_w str_s viol_y\">lies</span></div></li>\n",
       "<li><style>\n",
       "\n",
       ".miniquote { margin-left:0em;margin-top:.5em;font-family:monospace; font-size:.8em;}\n",
       ".parse { line-height:2.5em; letter-spacing:.1em;}\n",
       ".parselist { list-style-type: none; }\n",
       ".parselist li { padding-left:2em;}\n",
       ".parselist li:nth-child(5n) { list-style-type: decimal; }\n",
       ".viol_y { color: #f43838; }\n",
       ".mtr_s { text-decoration: overline; text-decoration-offset:5px; }\n",
       ".parselist > li:first-of-type { list-style-type: decimal; }\n",
       ".parselist > li:last-of-type { list-style-type: decimal; }\n",
       "</style><div class=\"parse\"><span class=\"mtr_w str_w viol_n\">Where</span> <span class=\"mtr_s str_s viol_n\">Cu</span><span class=\"mtr_w str_w viol_n\">pid</span> <span class=\"mtr_s str_s viol_n\">got</span> <span class=\"mtr_w str_s viol_y\">new</span> <span class=\"mtr_s str_s viol_n\">fire</span>--<span class=\"mtr_w str_w viol_n\">my</span> <span class=\"mtr_s str_s viol_n\">mis</span><span class=\"mtr_w str_w viol_n\">tress'</span> <span class=\"mtr_s str_s viol_n\">eyes</span>.</div></li></ol>"
      ],
      "text/plain": [
       "Stanza(num=153)"
      ]
     },
     "execution_count": 33,
     "metadata": {},
     "output_type": "execute_result"
    }
   ],
   "source": [
    "# now we can look at \"worst\" sonnet\n",
    "sonnets.stanza153"
   ]
  }
 ],
 "metadata": {
  "kernelspec": {
   "display_name": "Python 3 (ipykernel)",
   "language": "python",
   "name": "python3"
  }
 },
 "nbformat": 4,
 "nbformat_minor": 5
}
