{
  "cells": [
    {
      "cell_type": "raw",
      "metadata": {},
      "source": [
        "---\n",
        "title: Getting started\n",
        "format:\n",
        "  html:\n",
        "    code-fold: false\n",
        "---"
      ],
      "id": "8743734c"
    },
    {
      "cell_type": "markdown",
      "metadata": {},
      "source": [
        "## Texts\n",
        "\n",
        "Contained in `prosodic.text`.\n",
        "\n",
        "### Reading texts\n",
        "\n",
        "#### Loading by string\n"
      ],
      "id": "c16ebd2e"
    },
    {
      "cell_type": "code",
      "metadata": {},
      "source": [
        "#| label: reading-texts\n",
        "\n",
        "# import\n",
        "import prosodic\n",
        "\n",
        "# read a text by string\n",
        "text = prosodic.Text(\n",
        "\"\"\"Those hours, that with gentle work did frame\n",
        "The lovely gaze where every eye doth dwell,\n",
        "Will play the tyrants to the very same\n",
        "And that unfair which fairly doth excel;\n",
        "For never-resting time leads summer on\n",
        "To hideous winter, and confounds him there;\n",
        "Sap checked with frost, and lusty leaves quite gone,\n",
        "Beauty o’er-snowed and bareness every where:\n",
        "Then were not summer’s distillation left,\n",
        "A liquid prisoner pent in walls of glass,\n",
        "Beauty’s effect with beauty were bereft,\n",
        "Nor it, nor no remembrance what it was:\n",
        "But flowers distill’d, though they with winter meet,\n",
        "Leese but their show; their substance still lives sweet.\"\"\"\n",
        ")"
      ],
      "id": "reading-texts",
      "execution_count": null,
      "outputs": []
    },
    {
      "cell_type": "markdown",
      "metadata": {},
      "source": [
        "#### Loading texts by filename\n"
      ],
      "id": "b095fb88"
    },
    {
      "cell_type": "code",
      "metadata": {},
      "source": [
        "#| label: reading-texts-filename\n",
        "import os\n",
        "\n",
        "shakespeare_sonnets_filename = os.path.join(\n",
        "  prosodic.PATH_REPO, \n",
        "  'corpora','corppoetry_en','en.shakespeare.txt'\n",
        ")\n",
        "\n",
        "# read a text by string\n",
        "sonnets = prosodic.Text(filename=shakespeare_sonnets_filename)"
      ],
      "id": "reading-texts-filename",
      "execution_count": null,
      "outputs": []
    },
    {
      "cell_type": "markdown",
      "metadata": {},
      "source": [
        "## Stanzas\n",
        "\n",
        "Stanza separations are detected by two line breaks in the input text. You can access stanza objects through a text object:\n"
      ],
      "id": "b527c519"
    },
    {
      "cell_type": "code",
      "metadata": {},
      "source": [
        "assert len(sonnets.stanzas) == 154    # number of shakespeare sonnets\n",
        "\n",
        "# can iterate over them simply by iterating over text object:\n",
        "for stanza in sonnets:\n",
        "  pass"
      ],
      "id": "a101e9cd",
      "execution_count": null,
      "outputs": []
    },
    {
      "cell_type": "markdown",
      "metadata": {},
      "source": [
        "## Lines\n",
        "\n",
        "Lines are important objects because (at present) they are the only objects capable of metrically parsing themselves.\n",
        "\n",
        "You can access them in a few ways:\n",
        "\n",
        "\n",
        "assert len(sonnets.stanzas) == 154    # number of shakespeare sonnets\n",
        "\n",
        "# can iterate over them simply by iterating over text object:\n",
        "for stanza in sonnets:\n",
        "  pa\n",
        "\n",
        "### \n",
        "\n",
        "\n",
        "You can also construct lines directly:"
      ],
      "id": "123ae167"
    }
  ],
  "metadata": {
    "kernelspec": {
      "name": "python3",
      "language": "python",
      "display_name": "Python 3 (ipykernel)"
    }
  },
  "nbformat": 4,
  "nbformat_minor": 5
}